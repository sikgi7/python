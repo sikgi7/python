{
 "cells": [
  {
   "cell_type": "code",
   "execution_count": 47,
   "id": "20f2a17e",
   "metadata": {},
   "outputs": [
    {
     "data": {
      "text/html": [
       "<style>.container { width:62% !important; }</style>"
      ],
      "text/plain": [
       "<IPython.core.display.HTML object>"
      ]
     },
     "metadata": {},
     "output_type": "display_data"
    }
   ],
   "source": [
    "from IPython.display import display, HTML\n",
    "display(HTML(\"<style>.container { width:62% !important; }</style>\"))"
   ]
  },
  {
   "cell_type": "markdown",
   "id": "5909f184",
   "metadata": {},
   "source": [
    "# 반복문\n",
    "---\n",
    "- 어떤 코드를 반복해서 실행하는 경우.\n",
    "- for문, while문 {서로 호환 불가}\n",
    " \n",
    "- for 변수 in 군집형 데이터 (문자열(str),list,set,dict,tuple): ex\n",
    "    실행코드\n",
    "    실행코드\n",
    "    실행코드\n",
    "    실행코드 \n",
    "    반복\n",
    "---\n",
    "1. 원소가 하나 나와서 임시변수에 할당되고, 변수가 실행코드로 들어가서 실행코드가 실행\n",
    "2. 다음원소가 하나 나와서 임시변수에 할당되고, 변수가 실행코드로 들어가서 실행코드가 실행\n",
    "3. 그다음 원소가 하나 나와서 임시변수가 할당되고, 변수가 실행코드로 들어가서 실행코드가 실행 \n",
    "4. 계속 반복\n",
    "5. 원소가 모두나오면 반복문은 정지\n",
    "---"
   ]
  },
  {
   "cell_type": "markdown",
   "id": "c1eac81e",
   "metadata": {},
   "source": [
    "###  for문\n",
    "---"
   ]
  },
  {
   "cell_type": "code",
   "execution_count": 5,
   "id": "afbd3f20",
   "metadata": {},
   "outputs": [
    {
     "name": "stdout",
     "output_type": "stream",
     "text": [
      "가위\n",
      "바위\n",
      "보\n",
      "가위\n",
      "바위\n"
     ]
    }
   ],
   "source": [
    "L = ['가위', '바위', '보', '가위', '바위']\n",
    "\n",
    "for a in L:\n",
    "     print(a)"
   ]
  },
  {
   "cell_type": "code",
   "execution_count": 12,
   "id": "e196f3a2",
   "metadata": {
    "hide_input": false,
    "scrolled": true
   },
   "outputs": [
    {
     "name": "stdout",
     "output_type": "stream",
     "text": [
      "h ,e ,l ,l ,o ,  ,p ,y ,t ,h ,o ,n ,"
     ]
    }
   ],
   "source": [
    "st = \"hello python\"\n",
    "\n",
    "for a in st:\n",
    "    print(a, end=' ,') #print(a, 하고 뒤에 옵션 넣으면 가로정렬 ex print(a, end=',') "
   ]
  },
  {
   "cell_type": "code",
   "execution_count": 1,
   "id": "4c1c5190",
   "metadata": {},
   "outputs": [
    {
     "name": "stdout",
     "output_type": "stream",
     "text": [
      "d,b,a,f,"
     ]
    }
   ],
   "source": [
    "s = {'a','b','d','f'}\n",
    "\n",
    "for a in s:\n",
    "    print(a, end=',')"
   ]
  },
  {
   "cell_type": "code",
   "execution_count": 35,
   "id": "4898adfd",
   "metadata": {},
   "outputs": [
    {
     "name": "stdout",
     "output_type": "stream",
     "text": [
      "가나"
     ]
    }
   ],
   "source": [
    "t = ('가','나')\n",
    "\n",
    "for a in t:\n",
    "    print(a, end='')"
   ]
  },
  {
   "cell_type": "code",
   "execution_count": 37,
   "id": "e511a91c",
   "metadata": {},
   "outputs": [
    {
     "name": "stdout",
     "output_type": "stream",
     "text": [
      "end/math/kor/"
     ]
    }
   ],
   "source": [
    "d = {'eng':8, 'math':5, 'kor':7}\n",
    "\n",
    "for a in d:\n",
    "    print(a, end='/')"
   ]
  },
  {
   "cell_type": "code",
   "execution_count": 36,
   "id": "b5cef302",
   "metadata": {
    "collapsed": true
   },
   "outputs": [
    {
     "data": {
      "text/plain": [
       "dict_values([8, 5, 7])"
      ]
     },
     "execution_count": 36,
     "metadata": {},
     "output_type": "execute_result"
    }
   ],
   "source": [
    "d.values()"
   ]
  },
  {
   "cell_type": "code",
   "execution_count": 23,
   "id": "4da2a0d5",
   "metadata": {},
   "outputs": [
    {
     "name": "stdout",
     "output_type": "stream",
     "text": [
      "8/5/7/"
     ]
    }
   ],
   "source": [
    "d = {'eng':8, 'math':5, 'kor':7}\n",
    "\n",
    "for a in d.values():\n",
    "    print(a ,end='/')"
   ]
  },
  {
   "cell_type": "code",
   "execution_count": 26,
   "id": "28b5fd0c",
   "metadata": {
    "scrolled": true
   },
   "outputs": [
    {
     "data": {
      "text/plain": [
       "dict_items([('end', 8), ('math', 5), ('kor', 7)])"
      ]
     },
     "execution_count": 26,
     "metadata": {},
     "output_type": "execute_result"
    }
   ],
   "source": [
    "d.items()"
   ]
  },
  {
   "cell_type": "code",
   "execution_count": 24,
   "id": "43789889",
   "metadata": {},
   "outputs": [
    {
     "name": "stdout",
     "output_type": "stream",
     "text": [
      "('end', 8)/('math', 5)/('kor', 7)/"
     ]
    }
   ],
   "source": [
    "d = {'eng':8, 'math':5, 'kor':7}\n",
    "\n",
    "for a in d.items():\n",
    "    print(a ,end='/')"
   ]
  },
  {
   "cell_type": "code",
   "execution_count": 30,
   "id": "4609b5ea",
   "metadata": {
    "collapsed": true
   },
   "outputs": [
    {
     "data": {
      "text/plain": [
       "[0, 1, 2, 3, 4, 5, 6, 7, 8, 9]"
      ]
     },
     "execution_count": 30,
     "metadata": {},
     "output_type": "execute_result"
    }
   ],
   "source": [
    "list(range(10))"
   ]
  },
  {
   "cell_type": "code",
   "execution_count": 36,
   "id": "f933d619",
   "metadata": {},
   "outputs": [
    {
     "name": "stdout",
     "output_type": "stream",
     "text": [
      "0 ,1 ,2 ,3 ,4 ,5 ,6 ,7 ,8 ,9 ,"
     ]
    }
   ],
   "source": [
    "for i in range(10):\n",
    "    print(i, end=' ,')"
   ]
  },
  {
   "cell_type": "code",
   "execution_count": 16,
   "id": "66edc3e1",
   "metadata": {},
   "outputs": [
    {
     "name": "stdout",
     "output_type": "stream",
     "text": [
      "eng : 85\n",
      "math : 75\n",
      "kor : 77\n"
     ]
    }
   ],
   "source": [
    "d = {'eng':85, 'math':75, 'kor':77}\n",
    "\n",
    "for a in d.items():   # for문 끝에 : 붙이기 , 실행코드는 들여쓰기 잘맞아야.\n",
    "    sub = a[0]   # 과목    \n",
    "                         # => #따로뺴줌\n",
    "    score = a[1]  # 점수   \n",
    "    print(sub, ':' , score)"
   ]
  },
  {
   "cell_type": "code",
   "execution_count": 8,
   "id": "dfe52b9b",
   "metadata": {},
   "outputs": [
    {
     "name": "stdout",
     "output_type": "stream",
     "text": [
      "1 번 : 철수\n",
      "2 번 : 영희\n",
      "3 번 : 바둑이\n",
      "4 번 : 귀도\n"
     ]
    }
   ],
   "source": [
    "names = ['철수','영희','바둑이','귀도']\n",
    "\n",
    "# 1번 : 철수\n",
    "# 2번 : 영희\n",
    "# 3번 : 바둑이\n",
    "# 4번 : 귀도\n",
    "\n",
    "for i in [1,2,3,4]:\n",
    "    nam = names[i-1]\n",
    "    print(i,'번 :', nam)    "
   ]
  },
  {
   "cell_type": "code",
   "execution_count": 64,
   "id": "107e7e8a",
   "metadata": {},
   "outputs": [
    {
     "name": "stdout",
     "output_type": "stream",
     "text": [
      "1 번 : 철수\n",
      "2 번 : 영희\n",
      "3 번 : 바둑이\n",
      "4 번 : 귀도\n"
     ]
    }
   ],
   "source": [
    "names = ['철수','영희','바둑이','귀도']\n",
    "\n",
    "# 1번 : 철수\n",
    "# 2번 : 영희\n",
    "# 3번 : 바둑이\n",
    "# 4번 : 귀도\n",
    "\n",
    "for i in range(len(names)):\n",
    "    nam = names[i]\n",
    "    print(i+1,'번 :', nam)    "
   ]
  },
  {
   "cell_type": "code",
   "execution_count": 70,
   "id": "57a55fb8",
   "metadata": {},
   "outputs": [
    {
     "name": "stdout",
     "output_type": "stream",
     "text": [
      "1 번 : 철수2 번 : 영희3 번 : 바둑이4 번 : 귀도5 번 : 경아6 번 : 민수7 번 : 병철8 번 : 순이9 번 : 성호10 번 : 성배"
     ]
    }
   ],
   "source": [
    "names = ['철수','영희','바둑이','귀도','경아','민수','병철','순이','성호','성배']\n",
    "\n",
    "for i in range(10):\n",
    "    nam = names[i]\n",
    "    print(i+1 ,'번 :', nam ,end='')    "
   ]
  },
  {
   "cell_type": "code",
   "execution_count": 19,
   "id": "3c752220",
   "metadata": {
    "collapsed": true
   },
   "outputs": [
    {
     "name": "stdout",
     "output_type": "stream",
     "text": [
      "1 번 : 철수\n",
      "2 번 : 영희\n",
      "3 번 : 바둑이\n",
      "4 번 : 귀도\n",
      "5 번 : 경아\n",
      "6 번 : 민수\n",
      "7 번 : 병철\n",
      "8 번 : 순이\n",
      "9 번 : 성호\n",
      "10 번 : 덕배\n"
     ]
    }
   ],
   "source": [
    "names = ['철수','영희','바둑이','귀도','경아','민수','병철','순이','성호','덕배']\n",
    "\n",
    "\n",
    "for a in range(len(names)):\n",
    "    nam = names[a]\n",
    "    print(a+1 ,'번 :' , nam)"
   ]
  },
  {
   "cell_type": "code",
   "execution_count": 34,
   "id": "9e3f516a",
   "metadata": {
    "collapsed": true
   },
   "outputs": [
    {
     "name": "stdout",
     "output_type": "stream",
     "text": [
      "P Y T H O N "
     ]
    }
   ],
   "source": [
    "# 'python'을  대문자로 바꾸어서 한글자씩 세로로 출력하시오.\n",
    "text = 'hello python'\n",
    "\n",
    "for c in 'python':\n",
    "    print(c.upper(), end=' ')"
   ]
  },
  {
   "cell_type": "code",
   "execution_count": 3,
   "id": "04055cae",
   "metadata": {
    "collapsed": true
   },
   "outputs": [
    {
     "name": "stdout",
     "output_type": "stream",
     "text": [
      "hEllO pythOn"
     ]
    }
   ],
   "source": [
    "# 'hello python'에서 모음만 대문자로 변환해서 출력하시오. (영문자 모음 : aeiou)\n",
    "\n",
    "text= 'hello python'\n",
    "vow = 'aeiou'\n",
    "\n",
    "for c in text:\n",
    "    if c in vow:\n",
    "         print(c.upper(), end='')  \n",
    "    else:\n",
    "         print(c, end='')"
   ]
  },
  {
   "cell_type": "code",
   "execution_count": null,
   "id": "d64985a8",
   "metadata": {},
   "outputs": [],
   "source": [
    "# 'hello python'에서 모음만 리스트에 담으시오. (영문자 모음 : aeiou)"
   ]
  },
  {
   "cell_type": "code",
   "execution_count": 10,
   "id": "6c772cfd",
   "metadata": {
    "collapsed": true
   },
   "outputs": [
    {
     "data": {
      "text/plain": [
       "['e', 'o', 'o']"
      ]
     },
     "execution_count": 10,
     "metadata": {},
     "output_type": "execute_result"
    }
   ],
   "source": [
    "text= 'hello python'\n",
    "vow = 'aeiou'\n",
    "L = []\n",
    "\n",
    "for c in text:\n",
    "    if c in vow:\n",
    "        L.append(c)\n",
    "L"
   ]
  },
  {
   "cell_type": "code",
   "execution_count": 19,
   "id": "9add7e04",
   "metadata": {
    "collapsed": true
   },
   "outputs": [
    {
     "data": {
      "text/plain": [
       "['h', 'l', 'o', 'p', 't', 'o']"
      ]
     },
     "execution_count": 19,
     "metadata": {},
     "output_type": "execute_result"
    }
   ],
   "source": [
    "# 'hello python'에서 짝수인덱스 문자만 리스트에 담으시오.\n",
    "text= 'hello python'\n",
    "L = []\n",
    "\n",
    "for c in text[0:20:2]:\n",
    "        L.append(c)\n",
    "L"
   ]
  },
  {
   "cell_type": "code",
   "execution_count": 13,
   "id": "02a8956a",
   "metadata": {},
   "outputs": [
    {
     "data": {
      "text/plain": [
       "['h', 'l', 'o', 'p', 't', 'o']"
      ]
     },
     "execution_count": 13,
     "metadata": {},
     "output_type": "execute_result"
    }
   ],
   "source": [
    "text= 'hello python'\n",
    "L = []\n",
    "\n",
    "for i in range(len(text)):\n",
    "    if i%2 == 0:\n",
    "        L.append(text[i])\n",
    "L"
   ]
  },
  {
   "cell_type": "code",
   "execution_count": 16,
   "id": "c3ac19d4",
   "metadata": {},
   "outputs": [
    {
     "name": "stdout",
     "output_type": "stream",
     "text": [
      "1 번 : 철수\n",
      "2 번 : 영희\n",
      "3 번 : 바둑이\n",
      "4 번 : 귀도\n"
     ]
    }
   ],
   "source": [
    "# 참고\n",
    "\n",
    "names = ['철수', '영희', '바둑이','귀도']\n",
    "\n",
    "for i,j in enumerate(names):\n",
    "    print(i+1,'번',':',j)"
   ]
  },
  {
   "cell_type": "code",
   "execution_count": 1,
   "id": "a7cbdb5d",
   "metadata": {
    "scrolled": true
   },
   "outputs": [
    {
     "data": {
      "text/plain": [
       "5050"
      ]
     },
     "execution_count": 1,
     "metadata": {},
     "output_type": "execute_result"
    }
   ],
   "source": [
    "# 1번부터 100번까지의 합을 구하시오.\n",
    "\n",
    "total = 0\n",
    "\n",
    "for i in range(101):\n",
    "    total += i\n",
    "total"
   ]
  },
  {
   "cell_type": "code",
   "execution_count": null,
   "id": "d04be66d",
   "metadata": {},
   "outputs": [],
   "source": [
    "# 1부터 50까지 짝수의 합을 구하시오"
   ]
  },
  {
   "cell_type": "code",
   "execution_count": 20,
   "id": "48f40e13",
   "metadata": {
    "scrolled": true
   },
   "outputs": [
    {
     "data": {
      "text/plain": [
       "650"
      ]
     },
     "execution_count": 20,
     "metadata": {},
     "output_type": "execute_result"
    }
   ],
   "source": [
    "total = 0\n",
    "\n",
    "for i in range(0,51,2): #(0,2,4,6,8....50)\n",
    "    total += i #해석하면 total=total+i\n",
    "total"
   ]
  },
  {
   "cell_type": "code",
   "execution_count": 22,
   "id": "cdb636c6",
   "metadata": {
    "scrolled": true
   },
   "outputs": [
    {
     "data": {
      "text/plain": [
       "650"
      ]
     },
     "execution_count": 22,
     "metadata": {},
     "output_type": "execute_result"
    }
   ],
   "source": [
    "total = 0\n",
    "\n",
    "for i in range(51):\n",
    "    if i%2 == 0:  \n",
    "        total += i \n",
    "total"
   ]
  },
  {
   "cell_type": "code",
   "execution_count": 20,
   "id": "7b552432",
   "metadata": {
    "collapsed": true
   },
   "outputs": [
    {
     "name": "stdout",
     "output_type": "stream",
     "text": [
      "제11호 : 4\n",
      "태풍 : 2\n",
      "'힌남노'의 : 6\n",
      "영향으로 : 4\n",
      "폭우가 : 3\n",
      "쏟아져 : 3\n",
      "도심 : 2\n",
      "곳곳이 : 3\n",
      "침수된 : 3\n",
      "경북 : 2\n",
      "포항에서 : 4\n",
      "실종 : 2\n",
      "신고가 : 3\n",
      "이어지고 : 4\n",
      "있다. : 3\n",
      "6일 : 2\n",
      "포항시에 : 4\n",
      "따르면 : 3\n",
      "이날 : 2\n",
      "오전 : 2\n",
      "9시 : 2\n",
      "10분께 : 4\n",
      "포항시 : 3\n",
      "남구 : 2\n",
      "인덕동 : 3\n",
      "한 : 1\n",
      "아파트 : 3\n",
      "지하 : 2\n",
      "주차장에 : 4\n",
      "차를 : 2\n",
      "빼러 : 2\n",
      "갔는데 : 3\n",
      "연락이 : 3\n",
      "되지 : 2\n",
      "않는다는 : 4\n",
      "신고가 : 3\n",
      "들어와 : 3\n",
      "소방당국이 : 5\n",
      "수색 : 2\n",
      "작업을 : 3\n",
      "하고 : 2\n",
      "있다. : 3\n",
      "포항시는 : 4\n",
      "7명이 : 3\n",
      "실종돼 : 3\n",
      "물을 : 2\n",
      "빼며 : 2\n",
      "수색을 : 3\n",
      "하고 : 2\n",
      "있다고 : 3\n",
      "밝혔다. : 4\n",
      "이 : 1\n",
      "아파트 : 3\n",
      "지하 : 2\n",
      "주차장은 : 4\n",
      "폭우로 : 3\n",
      "침수됐고, : 5\n",
      "소방당국은 : 5\n",
      "배수 : 2\n",
      "작업을 : 3\n",
      "하고 : 2\n",
      "있다. : 3\n"
     ]
    }
   ],
   "source": [
    "text = \"\"\"\n",
    "제11호 태풍 '힌남노'의 영향으로 폭우가 쏟아져 도심 곳곳이 침수된 경북 포항에서 실종 신고가 이어지고 있다.\n",
    "\n",
    "6일 포항시에 따르면 이날 오전 9시 10분께 포항시 남구 인덕동 한 아파트 지하 주차장에 차를 빼러 갔는데 연락이 되지 않는다는 신고가 들어와 소방당국이 수색 작업을 하고 있다.\n",
    "\n",
    "포항시는 7명이 실종돼 물을 빼며 수색을 하고 있다고 밝혔다. 이 아파트 지하 주차장은 폭우로 침수됐고, 소방당국은 배수 작업을 하고 있다.\n",
    "\"\"\"\n",
    "\n",
    "#개별 음절들의 문자열 길이를 출력하시오.\n",
    "\n",
    "# 단어 : 음절의 문자열 길이\n",
    "\n",
    "for c in text.split():\n",
    "    print(c, ':', len(c))\n",
    "\n"
   ]
  },
  {
   "cell_type": "code",
   "execution_count": 52,
   "id": "8270a108",
   "metadata": {
    "collapsed": true
   },
   "outputs": [
    {
     "data": {
      "text/plain": [
       "[('가', 'a'), ('나', 'b'), ('다', 'c'), ('라', 'd')]"
      ]
     },
     "execution_count": 52,
     "metadata": {},
     "output_type": "execute_result"
    }
   ],
   "source": [
    "# 위의 두개의 리스트의 원소를 같은 인덱스의 원소끼리 튜플로 묶어서 리스트에 저장\n",
    "# => [('가','a'), ('나','b'), ('다','c'), ('라','d')]\n",
    "\n",
    "L1 = ['가','나','다','라']\n",
    "L2 = ['a','b','c','d']\n",
    "L3 = []\n",
    "\n",
    "for i in range(len(L1)):\n",
    "     L3.append((L1[i], L2[i]))\n",
    "L3     "
   ]
  },
  {
   "cell_type": "code",
   "execution_count": 1,
   "id": "bff25e54",
   "metadata": {
    "collapsed": true
   },
   "outputs": [
    {
     "name": "stdout",
     "output_type": "stream",
     "text": [
      "국어점수를 입력하세요90\n",
      "영어점수를 입력하세요50\n",
      "수학점수를 입력하세요80\n"
     ]
    },
    {
     "data": {
      "text/plain": [
       "73.33333333333333"
      ]
     },
     "execution_count": 1,
     "metadata": {},
     "output_type": "execute_result"
    }
   ],
   "source": [
    "# 반복문을 통해서 국어,영어,수학 점수를 순차적으로 입력받은후 그 평균을 구하기\n",
    "total = 0\n",
    "i = 0          # 0 = 초기화\n",
    "\n",
    "for s in ['국어', '영어', '수학']:\n",
    "    i += 1\n",
    "    score = int(input('{}점수를 입력하세요'.format(s)))\n",
    "    total += score\n",
    "    \n",
    "total/i"
   ]
  },
  {
   "cell_type": "code",
   "execution_count": 3,
   "id": "bfed070d",
   "metadata": {
    "collapsed": true
   },
   "outputs": [
    {
     "name": "stdout",
     "output_type": "stream",
     "text": [
      "1부터 n까지 정수의 합을 구합니다.\n",
      "x값을 입력하세요 : 50\n",
      "1부터 50까지의 정수의 합은 1275 입니다.\n"
     ]
    }
   ],
   "source": [
    "# 1번부터 100번까지의 합을 구하시오. #참고\n",
    "\n",
    "print('1부터 n까지 정수의 합을 구합니다.')\n",
    "x = int(input('x값을 입력하세요 : '))\n",
    "\n",
    "sum = 0 #sum 초기화\n",
    "\n",
    "for i in range(1, x+1):\n",
    "    sum += i # 해석하면 sum=sum+i\n",
    "\n",
    "print(f'1부터 {x}까지의 정수의 합은 {sum} 입니다.')"
   ]
  },
  {
   "cell_type": "markdown",
   "id": "511db855",
   "metadata": {},
   "source": [
    "## List Comprehension - for문 간편형태\n",
    "---\n",
    "- [실행코드 for 변수 in sequence]\n",
    "- list 내에서 for문을 실행하고 결과는 list에 담긴다.\n",
    "- 실행속도도 일반 for문의 비해서 빠르다.\n",
    "---"
   ]
  },
  {
   "cell_type": "code",
   "execution_count": 4,
   "id": "71fb00b3",
   "metadata": {
    "collapsed": true
   },
   "outputs": [
    {
     "data": {
      "text/plain": [
       "[0, 1, 2, 3, 4, 5, 6, 7, 8, 9]"
      ]
     },
     "execution_count": 4,
     "metadata": {},
     "output_type": "execute_result"
    }
   ],
   "source": [
    "L = []\n",
    "\n",
    "for i in range(10):\n",
    "    L.append(i)\n",
    "L"
   ]
  },
  {
   "cell_type": "code",
   "execution_count": 5,
   "id": "fe57fec1",
   "metadata": {
    "collapsed": true
   },
   "outputs": [
    {
     "data": {
      "text/plain": [
       "[0, 1, 2, 3, 4, 5, 6, 7, 8, 9]"
      ]
     },
     "execution_count": 5,
     "metadata": {},
     "output_type": "execute_result"
    }
   ],
   "source": [
    "[i for i in range(10)]  # List Comprehension"
   ]
  },
  {
   "cell_type": "code",
   "execution_count": 7,
   "id": "2950193c",
   "metadata": {
    "collapsed": true
   },
   "outputs": [
    {
     "data": {
      "text/plain": [
       "[0, 2, 4, 6, 8]"
      ]
     },
     "execution_count": 7,
     "metadata": {},
     "output_type": "execute_result"
    }
   ],
   "source": [
    "L = []\n",
    "\n",
    "for i in range(10):\n",
    "    if i%2==0:   # \n",
    "        L.append(i)\n",
    "L"
   ]
  },
  {
   "cell_type": "code",
   "execution_count": 8,
   "id": "058bee2e",
   "metadata": {
    "collapsed": true
   },
   "outputs": [
    {
     "data": {
      "text/plain": [
       "[0, 2, 4, 6, 8]"
      ]
     },
     "execution_count": 8,
     "metadata": {},
     "output_type": "execute_result"
    }
   ],
   "source": [
    "[i for i in range(10) if i%2==0] #if문은 for문 뒤쪽에 붙는다."
   ]
  },
  {
   "cell_type": "code",
   "execution_count": 18,
   "id": "f255e4f8",
   "metadata": {
    "collapsed": true
   },
   "outputs": [
    {
     "name": "stdout",
     "output_type": "stream",
     "text": [
      "[('가', 'a'), ('가', 'b'), ('가', 'c'), ('가', 'd'), ('나', 'a'), ('나', 'b'), ('나', 'c'), ('나', 'd'), ('다', 'a'), ('다', 'b'), ('다', 'c'), ('다', 'd'), ('라', 'a'), ('라', 'b'), ('라', 'c'), ('라', 'd')]\n"
     ]
    }
   ],
   "source": [
    "L1 = ['가','나','다','라']\n",
    "L2 = ['a','b','c','d']\n",
    "L3 = []\n",
    "\n",
    "# 두 리스트의 모든 원소간의 튜플조합을 리스트에 담으시오.\n",
    "# -> 2중 for문 사용\n",
    "# [('가','a'), ('가','b'), ('가','c')...('라','d'),'라','d']\n",
    "\n",
    "for i in L1:\n",
    "    for j in L2:\n",
    "        L3.append((i,j))\n",
    "print(L3)  "
   ]
  },
  {
   "cell_type": "code",
   "execution_count": 21,
   "id": "d01387d1",
   "metadata": {
    "collapsed": true
   },
   "outputs": [
    {
     "name": "stdout",
     "output_type": "stream",
     "text": [
      "[('피터파커', '타노스'), ('피터파커', '조커'), ('피터파커', '그린고블린'), ('브루스웨인', '타노스'), ('브루스웨인', '조커'), ('브루스웨인', '그린고블린'), ('토니스타크', '타노스'), ('토니스타크', '조커'), ('토니스타크', '그린고블린')]\n"
     ]
    }
   ],
   "source": [
    "L1 = ['피터파커','브루스웨인','토니스타크']\n",
    "L2 = ['타노스','조커','그린고블린']\n",
    "L3 = []\n",
    "\n",
    "for i in L1:\n",
    "    for j in L2:\n",
    "        L3.append((i,j))\n",
    "print(L3)  "
   ]
  },
  {
   "cell_type": "code",
   "execution_count": 34,
   "id": "25392ba2",
   "metadata": {
    "collapsed": true
   },
   "outputs": [
    {
     "data": {
      "text/plain": [
       "[('피터파커', '타노스'),\n",
       " ('피터파커', '조커'),\n",
       " ('피터파커', '그린고블린'),\n",
       " ('브루스웨인', '타노스'),\n",
       " ('브루스웨인', '조커'),\n",
       " ('브루스웨인', '그린고블린'),\n",
       " ('토니스타크', '타노스'),\n",
       " ('토니스타크', '조커'),\n",
       " ('토니스타크', '그린고블린')]"
      ]
     },
     "execution_count": 34,
     "metadata": {},
     "output_type": "execute_result"
    }
   ],
   "source": [
    "# 위 코드를 List Comprehension으로 작성 하시오\n",
    "L1 = ['피터파커','브루스웨인','토니스타크']\n",
    "L2 = ['타노스','조커','그린고블린']\n",
    "\n",
    "[(i,j,)for i in L1 for j in L2]"
   ]
  },
  {
   "cell_type": "markdown",
   "id": "e910193f",
   "metadata": {},
   "source": [
    "---\n",
    "## while구문\n",
    "\n",
    "- while 조건식:\n",
    "-       실행코드1\n",
    "-       실행코드2\n",
    "-       실행코드3\n",
    "\n",
    "1. 조건식이 True이면 실행코드를 반복하고, 조건식이 false인경우 반복을 중지.\n",
    "2. 조건식이 계속 True이면 while문이 계속 실행되는 무한루프에 빠지니까 주의!\n",
    "---"
   ]
  },
  {
   "cell_type": "code",
   "execution_count": 38,
   "id": "c26223eb",
   "metadata": {
    "collapsed": true
   },
   "outputs": [
    {
     "data": {
      "text/plain": [
       "55"
      ]
     },
     "execution_count": 38,
     "metadata": {},
     "output_type": "execute_result"
    }
   ],
   "source": [
    "# 1부터 10까지합을 구하시오.(for문일때)\n",
    "\n",
    "total = 0\n",
    "for i in range(11):\n",
    "     total += i\n",
    "total"
   ]
  },
  {
   "cell_type": "code",
   "execution_count": 64,
   "id": "8b757c73",
   "metadata": {
    "collapsed": true
   },
   "outputs": [
    {
     "data": {
      "text/plain": [
       "55"
      ]
     },
     "execution_count": 64,
     "metadata": {},
     "output_type": "execute_result"
    }
   ],
   "source": [
    "# 1부터 10까지합을 구하시오.(while문)\n",
    "\n",
    "i = 0\n",
    "total = 0\n",
    "\n",
    "while i < 11:\n",
    "    total += i\n",
    "    i += 1 # 빼먹으면 무한루프에 빠짐\n",
    "\n",
    "total    "
   ]
  },
  {
   "cell_type": "code",
   "execution_count": 90,
   "id": "fdd343cf",
   "metadata": {
    "scrolled": true
   },
   "outputs": [
    {
     "data": {
      "text/plain": [
       "25"
      ]
     },
     "execution_count": 90,
     "metadata": {},
     "output_type": "execute_result"
    }
   ],
   "source": [
    "# 1부터 10까지 홀수의 합을 while문을 통해서구하시오.\n",
    "\n",
    "i = 1\n",
    "total = 0\n",
    "\n",
    "\n",
    "while i < 11:\n",
    "    if i%2 != 0:\n",
    "        total += i              #해석하면 total=total+i\n",
    "    i += 2\n",
    "\n",
    "total"
   ]
  },
  {
   "cell_type": "code",
   "execution_count": 8,
   "id": "a4efea21",
   "metadata": {
    "collapsed": true
   },
   "outputs": [
    {
     "data": {
      "text/plain": [
       "['e', 'o', 'o']"
      ]
     },
     "execution_count": 8,
     "metadata": {},
     "output_type": "execute_result"
    }
   ],
   "source": [
    "# 'hello python'에서 모음만 리스트에 담으세요\n",
    "text = 'hello python'\n",
    "L = []\n",
    "for c in text:\n",
    "    if c in 'aeiou':\n",
    "        L.append(c)\n",
    "L\n",
    "\n",
    "#  List Comprehension 으로 구현하시오.\n",
    "\n",
    "# while 문으로 구현하시오.\n"
   ]
  },
  {
   "cell_type": "code",
   "execution_count": null,
   "id": "c900f161",
   "metadata": {},
   "outputs": [],
   "source": [
    "text = 'hello python'    #  List Comprehension\n",
    "[i for i in text if i in 'aeiou' ] "
   ]
  },
  {
   "cell_type": "code",
   "execution_count": 9,
   "id": "9d9f86a5",
   "metadata": {
    "collapsed": true
   },
   "outputs": [
    {
     "data": {
      "text/plain": [
       "['e', 'o', 'o']"
      ]
     },
     "execution_count": 9,
     "metadata": {},
     "output_type": "execute_result"
    }
   ],
   "source": [
    "L = []                  #  <= for문 (훨씬더 간편하지만 상황에따라 while문을 사용하거나 편할때도 있음)\n",
    "for c in text:\n",
    "    if c in 'aeiou':\n",
    "        L.append(c)\n",
    "L"
   ]
  },
  {
   "cell_type": "code",
   "execution_count": 104,
   "id": "2c34607a",
   "metadata": {
    "collapsed": true,
    "hide_input": false
   },
   "outputs": [
    {
     "data": {
      "text/plain": [
       "['e', 'o', 'o']"
      ]
     },
     "execution_count": 104,
     "metadata": {},
     "output_type": "execute_result"
    }
   ],
   "source": [
    "text = 'hello python' # while 문\n",
    "i = 0\n",
    "L = []\n",
    "\n",
    "while i < len(text):\n",
    "  \n",
    "    c = text[i]\n",
    "       \n",
    "    if c in 'aeiou':\n",
    "        L.append(c)\n",
    "    i += 1 \n",
    "L"
   ]
  },
  {
   "cell_type": "code",
   "execution_count": null,
   "id": "f382a2b5",
   "metadata": {},
   "outputs": [],
   "source": [
    "# 반복문에서 사용되는 break, continue\n",
    "- 반복문에서 break => 반복을 중단하고 반복문을 빠져나간다.\n",
    "- 반복문에서 continue => 아래쪽 코드를 실행하지 않고 반복문 처음으로 돌아간다."
   ]
  },
  {
   "cell_type": "code",
   "execution_count": 1,
   "id": "f1a97a8d",
   "metadata": {},
   "outputs": [
    {
     "name": "stdout",
     "output_type": "stream",
     "text": [
      "1. 2. 3. 4. 5. 6. 7. "
     ]
    }
   ],
   "source": [
    "i = 0\n",
    "while i <= 10:\n",
    "    i += 1        # i 가 11이 되면 i <= 10이 false가 되어 while문을 빠져나온다\n",
    "    if i>7:       # i가 8이 되면 if문이 참이되고, continue가 실행되어 아래 print(값)를 건너뛴다\n",
    "        continue  # continue를 만나면 밑의 코드를 실행하지 않고 처음으로 간다.\n",
    "    print(i, end='. ')"
   ]
  },
  {
   "cell_type": "code",
   "execution_count": 10,
   "id": "9fcb2a86",
   "metadata": {},
   "outputs": [
    {
     "name": "stdout",
     "output_type": "stream",
     "text": [
      "1. 2. 3. 4. 5. 6. 7. "
     ]
    }
   ],
   "source": [
    "i = 0\n",
    "while i <= 10:        # 반복문은 i가 8일 때까지만 반복하고 중단됨.\n",
    "    i += 1        \n",
    "    if i>7:           # i가 8이 되면 if문이 참(True) 이되고, break가 반복문을 종료시킨다.\n",
    "        break         # reak를 만나면 반복문이 종료\n",
    "    print(i, end='. ')"
   ]
  },
  {
   "cell_type": "code",
   "execution_count": 29,
   "id": "7b261689",
   "metadata": {},
   "outputs": [
    {
     "name": "stdout",
     "output_type": "stream",
     "text": [
      "3 / 4 / 5 / 6 / "
     ]
    }
   ],
   "source": [
    "# 1 부터 10까지 반복하는 while문을 만들고, continue와 break를 이용해서 3,4,5,6만 출력하고 \n",
    "# 반복문을 빠져 나오도록 하시오.\n",
    "i = 0\n",
    "\n",
    "while i <= 10:        \n",
    "    i += 1        \n",
    "   \n",
    "    if i < 3:           \n",
    "        continue\n",
    "    if i > 6:\n",
    "        break\n",
    "    print(i, end=' / ')"
   ]
  },
  {
   "cell_type": "code",
   "execution_count": 2,
   "id": "78de5d19",
   "metadata": {},
   "outputs": [
    {
     "name": "stdout",
     "output_type": "stream",
     "text": [
      "점수를 입력하세요.50\n",
      "점수를 입력하세요.60\n",
      "점수를 입력하세요.5\n",
      "점수를 입력하세요.6\n",
      "점수를 입력하세요.1\n"
     ]
    },
    {
     "data": {
      "text/plain": [
       "24.4"
      ]
     },
     "execution_count": 2,
     "metadata": {},
     "output_type": "execute_result"
    }
   ],
   "source": [
    "# while문을 이용해서 점수를 5회 입력받은 후 점수의 평균을 출력하시오.\n",
    "\n",
    "total = 0\n",
    "i = 0\n",
    "\n",
    "while i < 5:\n",
    "    score =int(input('점수를 입력하세요.'))\n",
    "    total += score\n",
    "    i += 1\n",
    "    \n",
    "total/i"
   ]
  },
  {
   "cell_type": "code",
   "execution_count": 12,
   "id": "fcd665d0",
   "metadata": {},
   "outputs": [
    {
     "data": {
      "text/plain": [
       "4.666666666666667"
      ]
     },
     "execution_count": 12,
     "metadata": {},
     "output_type": "execute_result"
    }
   ],
   "source": [
    "# 반복문을 이용해서 'red'의 평균값을 구하시오.\n",
    "L=[('red',5), ('blue',4), ('yellow',9), ('blue',4), ('red',8), ('yellow',3), ('red',1), ('blue',8)]\n",
    "\n",
    "total_score= 0\n",
    "count = 0\n",
    "\n",
    "for i in L:\n",
    "    if i[0] == 'red':\n",
    "        total_score += i[1]\n",
    "        count += 1\n",
    "total_score/count  "
   ]
  },
  {
   "cell_type": "code",
   "execution_count": 24,
   "id": "af30260e",
   "metadata": {
    "collapsed": true
   },
   "outputs": [
    {
     "name": "stdout",
     "output_type": "stream",
     "text": [
      "('red', 5) ('blue', 4) ('yellow', 9) ('blue', 4) ('red', 8) ('yellow', 3) ('red', 1) ('blue', 8) "
     ]
    }
   ],
   "source": [
    "# value가 가장 큰 key는 어느 것인가?\n",
    "\n",
    "\n",
    "for t in L:\n",
    "    print(t, end=' ')  #빠르게"
   ]
  },
  {
   "cell_type": "code",
   "execution_count": 26,
   "id": "ec4f16cd",
   "metadata": {
    "collapsed": true
   },
   "outputs": [
    {
     "data": {
      "text/plain": [
       "'yellow'"
      ]
     },
     "execution_count": 26,
     "metadata": {},
     "output_type": "execute_result"
    }
   ],
   "source": [
    "import numpy as np # 넘파이 함수 사용\n",
    "\n",
    "key_list =[]\n",
    "val_list =[]\n",
    "\n",
    "for t in L:\n",
    "    key_list.append(t[0])   # 자세하지만 느림\n",
    "    val_list.append(t[1])\n",
    "\n",
    "key_list[np.argmax(np.array(val_list))]    "
   ]
  },
  {
   "cell_type": "code",
   "execution_count": 23,
   "id": "6002024c",
   "metadata": {
    "collapsed": true,
    "hide_input": true
   },
   "outputs": [
    {
     "data": {
      "text/plain": [
       "'yellow'"
      ]
     },
     "execution_count": 23,
     "metadata": {},
     "output_type": "execute_result"
    }
   ],
   "source": [
    "key_list =[]\n",
    "val_list =[]\n",
    "\n",
    "val_max =0\n",
    "\n",
    "for t in L:\n",
    "    key_list.append(t[0])   # 복잡하고 느림\n",
    "    val_list.append(t[1])\n",
    "    \n",
    "    val = t[1]\n",
    "    if val_max <= val: \n",
    "        val_max = val\n",
    "\n",
    "key_list[val_list.index(val_max)]       "
   ]
  },
  {
   "cell_type": "markdown",
   "id": "d429314f",
   "metadata": {},
   "source": [
    "######  ---"
   ]
  },
  {
   "cell_type": "code",
   "execution_count": null,
   "id": "c83143ee",
   "metadata": {},
   "outputs": [],
   "source": []
  },
  {
   "cell_type": "code",
   "execution_count": null,
   "id": "43281597",
   "metadata": {},
   "outputs": [],
   "source": []
  },
  {
   "cell_type": "code",
   "execution_count": null,
   "id": "56e5af6c",
   "metadata": {},
   "outputs": [],
   "source": []
  },
  {
   "cell_type": "code",
   "execution_count": null,
   "id": "952da1da",
   "metadata": {},
   "outputs": [],
   "source": []
  },
  {
   "cell_type": "code",
   "execution_count": null,
   "id": "49031cdd",
   "metadata": {},
   "outputs": [],
   "source": []
  },
  {
   "cell_type": "code",
   "execution_count": null,
   "id": "6031897a",
   "metadata": {},
   "outputs": [],
   "source": []
  },
  {
   "cell_type": "code",
   "execution_count": null,
   "id": "1068ed35",
   "metadata": {},
   "outputs": [],
   "source": []
  },
  {
   "cell_type": "code",
   "execution_count": null,
   "id": "7c1e0f3d",
   "metadata": {},
   "outputs": [],
   "source": []
  },
  {
   "cell_type": "code",
   "execution_count": null,
   "id": "773fd61c",
   "metadata": {},
   "outputs": [],
   "source": []
  },
  {
   "cell_type": "code",
   "execution_count": null,
   "id": "cc9b42d1",
   "metadata": {},
   "outputs": [],
   "source": []
  },
  {
   "cell_type": "code",
   "execution_count": null,
   "id": "ac758dfe",
   "metadata": {},
   "outputs": [],
   "source": []
  },
  {
   "cell_type": "code",
   "execution_count": null,
   "id": "20e94cf6",
   "metadata": {},
   "outputs": [],
   "source": []
  },
  {
   "cell_type": "code",
   "execution_count": null,
   "id": "9c8631db",
   "metadata": {},
   "outputs": [],
   "source": []
  },
  {
   "cell_type": "code",
   "execution_count": null,
   "id": "566df6ec",
   "metadata": {},
   "outputs": [],
   "source": []
  },
  {
   "cell_type": "code",
   "execution_count": null,
   "id": "65ba9834",
   "metadata": {},
   "outputs": [],
   "source": []
  },
  {
   "cell_type": "code",
   "execution_count": null,
   "id": "4fe13b2e",
   "metadata": {},
   "outputs": [],
   "source": []
  }
 ],
 "metadata": {
  "kernelspec": {
   "display_name": "Python 3 (ipykernel)",
   "language": "python",
   "name": "python3"
  },
  "language_info": {
   "codemirror_mode": {
    "name": "ipython",
    "version": 3
   },
   "file_extension": ".py",
   "mimetype": "text/x-python",
   "name": "python",
   "nbconvert_exporter": "python",
   "pygments_lexer": "ipython3",
   "version": "3.9.12"
  },
  "toc": {
   "base_numbering": 1,
   "nav_menu": {},
   "number_sections": true,
   "sideBar": true,
   "skip_h1_title": false,
   "title_cell": "Table of Contents",
   "title_sidebar": "Contents",
   "toc_cell": false,
   "toc_position": {
    "height": "calc(100% - 180px)",
    "left": "10px",
    "top": "150px",
    "width": "357px"
   },
   "toc_section_display": true,
   "toc_window_display": false
  },
  "varInspector": {
   "cols": {
    "lenName": 16,
    "lenType": 16,
    "lenVar": 40
   },
   "kernels_config": {
    "python": {
     "delete_cmd_postfix": "",
     "delete_cmd_prefix": "del ",
     "library": "var_list.py",
     "varRefreshCmd": "print(var_dic_list())"
    },
    "r": {
     "delete_cmd_postfix": ") ",
     "delete_cmd_prefix": "rm(",
     "library": "var_list.r",
     "varRefreshCmd": "cat(var_dic_list()) "
    }
   },
   "position": {
    "height": "576.844px",
    "left": "1550px",
    "right": "20px",
    "top": "120px",
    "width": "350px"
   },
   "types_to_exclude": [
    "module",
    "function",
    "builtin_function_or_method",
    "instance",
    "_Feature"
   ],
   "window_display": false
  }
 },
 "nbformat": 4,
 "nbformat_minor": 5
}
