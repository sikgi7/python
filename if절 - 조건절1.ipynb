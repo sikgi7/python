{
 "cells": [
  {
   "cell_type": "code",
   "execution_count": 1,
   "id": "595336dc",
   "metadata": {},
   "outputs": [
    {
     "data": {
      "text/html": [
       "<style>.container { width:65% !important; }</style>"
      ],
      "text/plain": [
       "<IPython.core.display.HTML object>"
      ]
     },
     "metadata": {},
     "output_type": "display_data"
    }
   ],
   "source": [
    "from IPython.display import display, HTML\n",
    "display(HTML(\"<style>.container { width:65% !important; }</style>\"))"
   ]
  },
  {
   "cell_type": "markdown",
   "id": "3d8ecf33",
   "metadata": {},
   "source": [
    "## 조건절\n",
    "- 조건(케이스) 별로 다른 코드를 실행시키는 경우.\n",
    "- A조건 - 실행될 코드\n",
    "- B조건 - 실행될 코드\n",
    "- C조건 - 실행될 코드\n",
    "- #.. \n",
    "---\n",
    "- #예시\n",
    "1. 점수가 90점 이상이면 - print(\"합격했습니다.\")\n",
    "   점수가 90점 미만이면 - print('불합격했습니다.')\n",
    "   \n",
    "2. 점수가 90점 이상이면 - print(\"최우수 점수입니다. 축하드립니다..\")\n",
    "   점수가 90점 미만이면서 80점 이상이면 - print('좋은 점수를 얻으셨습니다..')\n",
    "   점수가 80점 미만이면서 70점 이상이면 - print('보통점수입니다.')\n",
    "   점수가 70점 미만이면서 60점 이상이면 - print('더욱 노력하셔야 합니다..')\n",
    "---   "
   ]
  },
  {
   "cell_type": "code",
   "execution_count": 4,
   "id": "7d2dd4cd",
   "metadata": {},
   "outputs": [],
   "source": [
    "#if 조건(True/false): ->\n",
    "# 조건이 참인 경우 실행될 코드"
   ]
  },
  {
   "cell_type": "code",
   "execution_count": 10,
   "id": "248c37b9",
   "metadata": {},
   "outputs": [],
   "source": [
    "people = 10 \n",
    "apple = 5"
   ]
  },
  {
   "cell_type": "code",
   "execution_count": 11,
   "id": "1ae04021",
   "metadata": {},
   "outputs": [],
   "source": [
    "if people < apple:\n",
    "    print('사과가 부족합니다')"
   ]
  },
  {
   "cell_type": "code",
   "execution_count": 15,
   "id": "10681130",
   "metadata": {},
   "outputs": [
    {
     "name": "stdout",
     "output_type": "stream",
     "text": [
      "사과가 부족합니다.\n",
      "사과를 더 가져오세요.\n"
     ]
    }
   ],
   "source": [
    "if people > apple:\n",
    "    print('사과가 부족합니다.')\n",
    "    print('사과를 더 가져오세요')"
   ]
  },
  {
   "cell_type": "code",
   "execution_count": 16,
   "id": "bcfaf69b",
   "metadata": {
    "collapsed": true
   },
   "outputs": [
    {
     "ename": "IndentationError",
     "evalue": "unexpected indent (80536545.py, line 3)",
     "output_type": "error",
     "traceback": [
      "\u001b[1;36m  Input \u001b[1;32mIn [16]\u001b[1;36m\u001b[0m\n\u001b[1;33m    print('사과를 더 가져오세요')\u001b[0m\n\u001b[1;37m    ^\u001b[0m\n\u001b[1;31mIndentationError\u001b[0m\u001b[1;31m:\u001b[0m unexpected indent\n"
     ]
    }
   ],
   "source": [
    "if people > apple:\n",
    "    print('사과가 부족합니다') # 들여쓰기가 일치해야\n",
    "     print('사과를 더 가져오세요')"
   ]
  },
  {
   "cell_type": "code",
   "execution_count": 17,
   "id": "b001c50a",
   "metadata": {},
   "outputs": [
    {
     "name": "stdout",
     "output_type": "stream",
     "text": [
      "사과가 부족합니다\n",
      "사과를 더 가져오세요\n"
     ]
    }
   ],
   "source": [
    "if people > apple:\n",
    "    print('사과가 부족합니다')\n",
    "    print('사과를 더 가져오세요')\n",
    "else: \n",
    "    print('사과가 충분합니다')"
   ]
  },
  {
   "cell_type": "code",
   "execution_count": 18,
   "id": "f2bf331e",
   "metadata": {},
   "outputs": [
    {
     "name": "stdout",
     "output_type": "stream",
     "text": [
      "사과가 충분합니다\n"
     ]
    }
   ],
   "source": [
    "people = 5\n",
    "apple = 10\n",
    "\n",
    "if people > apple:\n",
    "    print('사과가 부족합니다')\n",
    "    print('사과를 더 가져오세요')\n",
    "else: \n",
    "    print('사과가 충분합니다')"
   ]
  },
  {
   "cell_type": "code",
   "execution_count": 20,
   "id": "767559bf",
   "metadata": {},
   "outputs": [
    {
     "name": "stdout",
     "output_type": "stream",
     "text": [
      "사과가 적당합니다\n"
     ]
    }
   ],
   "source": [
    "people = 5\n",
    "apple = 5\n",
    "\n",
    "if people > apple:\n",
    "    print('사과가 부족합니다')\n",
    "    print('사과를 더 가져오세요')\n",
    "elif people == apple: \n",
    "    print('사과가 적당합니다')\n",
    "else: \n",
    "    print('사과가 충분합니다')"
   ]
  },
  {
   "cell_type": "code",
   "execution_count": null,
   "id": "572d38b5",
   "metadata": {},
   "outputs": [],
   "source": [
    "# if 조건식:\n",
    "#     실행코드1  -> 조건식1이 참인 경우 실행될 코드\n",
    "# elif 조건식: 다른조건추가\n",
    "#     실행코드2  -> 조건식2이 참인 경우 실행될 코드\n",
    "# elif 조건식:\n",
    "#     실행코드3  -> 조건식3이 참인 경우 실행될 코드                       #elif는 조건 계속 추가가능\n",
    "# elif 조건식:\n",
    "#     실행코드4  -> 조건식4이 참인 경우 실행될 코드\n",
    "# else:\n",
    "#     실행코드5  -> 위의 모든 조건이 참이 아닐 경우 실행될 코드          #else는 계속 추가 불가\n",
    "        "
   ]
  },
  {
   "cell_type": "code",
   "execution_count": 12,
   "id": "23ee10f5",
   "metadata": {},
   "outputs": [
    {
     "name": "stdout",
     "output_type": "stream",
     "text": [
      "영어 점수를 입력하세요21\n",
      "불합격입니다\n"
     ]
    }
   ],
   "source": [
    "# 영어점수를 입력받은 후 90점 이상이면 합격입니다. 90점 미만이면 불합격 입니다가\n",
    "# 90점 미만이면 불합격 입니다. 가출력되도록 조건식 코드를 작성하시오.\n",
    "score = input('영어 점수를 입력하세요')\n",
    "score = int(score)\n",
    "type(score)\n",
    "if score >= 90: \n",
    "    print('합격입니다')\n",
    "else:\n",
    "    print('불합격입니다')"
   ]
  },
  {
   "cell_type": "code",
   "execution_count": 27,
   "id": "66b2ad5f",
   "metadata": {},
   "outputs": [
    {
     "name": "stdout",
     "output_type": "stream",
     "text": [
      "학점를 입력하세요 40\n",
      "E학점 입니다\n"
     ]
    }
   ],
   "source": [
    "# 90점 이상이면 => 'A학점입니다'\n",
    "# 90점 미만 80점 이상 =>\"B학점입니다\"\n",
    "# 80점 미만 70점 이상 =>\"C학점입니다\"\n",
    "# 70점 미만 60점 이상 =>\"D학점입니다\" \n",
    "# 60점 미만 => \"E학점입니다\"\n",
    "\n",
    "score = input('학점를 입력하세요 ')\n",
    "score = int(score)\n",
    "if score >= 90: \n",
    "    print('A학점 입니다')\n",
    "elif score >= 80:\n",
    "    print('B학점 입니다')\n",
    "elif score >= 70:\n",
    "    print('C학점 입니다')\n",
    "elif score >= 60:\n",
    "    print('D학점 입니다')\n",
    "elif score <= 60:\n",
    "    print('E학점 입니다')\n",
    "else:                        # 위 값들을뺀 나머지값일경우\n",
    "    print('E학점 입니다')"
   ]
  },
  {
   "cell_type": "code",
   "execution_count": null,
   "id": "5a523f34",
   "metadata": {},
   "outputs": [],
   "source": []
  },
  {
   "cell_type": "code",
   "execution_count": 10,
   "id": "a8827ad1",
   "metadata": {},
   "outputs": [
    {
     "name": "stdout",
     "output_type": "stream",
     "text": [
      "패스워드를 입력하세요1234\n",
      "환영합니다\n"
     ]
    }
   ],
   "source": [
    "# 패스워드를 입력받은 후 일치하면 '환영합니다' 다르면 '비밀번호가 다릅니다'를 출력.\n",
    "\n",
    "password = 1234\n",
    "\n",
    "pw = input('패스워드를 입력하세요')\n",
    "pw = int(pw)\n",
    "if pw == password: \n",
    "    print('환영합니다')\n",
    "else:\n",
    "    print('비밀번호가 다릅니다')"
   ]
  },
  {
   "cell_type": "code",
   "execution_count": null,
   "id": "06b330f8",
   "metadata": {},
   "outputs": [],
   "source": [
    "# 임의의 정수를 입력받은 후 짝수이면 \"짝수입니다\", 홀수이면 \"홀수입니다\"를 출력."
   ]
  },
  {
   "cell_type": "code",
   "execution_count": 13,
   "id": "3206128c",
   "metadata": {},
   "outputs": [
    {
     "name": "stdout",
     "output_type": "stream",
     "text": [
      "임의의 정수를 입력하세요 21\n",
      "홀수입니다\n"
     ]
    }
   ],
   "source": [
    "num = int(input('임의의 정수를 입력하세요 '))\n",
    "\n",
    "if num%2 == 0:\n",
    "    print('짝수입니다')\n",
    "else:\n",
    "    print('홀수입니다')"
   ]
  },
  {
   "cell_type": "code",
   "execution_count": null,
   "id": "1da3fab1",
   "metadata": {},
   "outputs": [],
   "source": [
    "# 주민번호를 7자리 입력 받은후 (ex. 970412-1)\n",
    "# \"당신은 (남성/여성)이고, 나이는 ()\"를 출력하시오."
   ]
  },
  {
   "cell_type": "code",
   "execution_count": 14,
   "id": "3b704fc2",
   "metadata": {},
   "outputs": [
    {
     "name": "stdout",
     "output_type": "stream",
     "text": [
      "주민번호 앞자리를 입력하세요 970421-2\n",
      "당신은 fmale이고 , 나이는 25입니다 \n"
     ]
    }
   ],
   "source": [
    "h_num = input('주민번호 앞자리를 입력하세요 ')\n",
    "  \n",
    "if h_num[-1] == '1':\n",
    "    age = 2022 - int('19'+h_num[:2])\n",
    "    gender = 'male'\n",
    "elif h_num[-1] == '2':\n",
    "    age = 2022 - int('19'+h_num[:2])\n",
    "    gender = 'fmale'\n",
    "elif h_num[-1] == '3':\n",
    "    age = 2022 - int('20'+h_num[:2])\n",
    "    gender = 'male'\n",
    "\n",
    "else:\n",
    "    age = 2022 - int('20'+h_num[:2])\n",
    "    gender = 'fmale'\n",
    "    \n",
    "print(\"당신은 {}이고 , 나이는 {}입니다 \".format(gender, age))"
   ]
  },
  {
   "cell_type": "code",
   "execution_count": null,
   "id": "4af13108",
   "metadata": {},
   "outputs": [],
   "source": [
    "# 임의의 두정수 a,b 를 입력 받은 후, a가 b보다 크면 \"a가 b보다 큽니다\"\n",
    "#                                   a가 b보다 작으면 \"a가 b보다 작습니다\"\n",
    "#                                   a와 b가 같으면 \"a와 b는 같습니다\"를 출력하시오."
   ]
  },
  {
   "cell_type": "code",
   "execution_count": 15,
   "id": "48baa661",
   "metadata": {
    "hide_input": false
   },
   "outputs": [
    {
     "name": "stdout",
     "output_type": "stream",
     "text": [
      "임의의 정수a를 입력하세요 1\n",
      "임의의 정수b를 입력하세요 2\n",
      "a가 b보다 작습니다 \n"
     ]
    }
   ],
   "source": [
    "num = input ('임의의 정수a를 입력하세요 ')\n",
    "num1 = input ('임의의 정수b를 입력하세요 ')\n",
    "num = int(num)\n",
    "num1 = int(num1)\n",
    "\n",
    "if  num  > num1:\n",
    "    print('a가 b보다 큽니다 ')\n",
    "    \n",
    "elif num < num1:    \n",
    "    print('a가 b보다 작습니다 ')\n",
    "    \n",
    "elif num == num1:\n",
    "    print('a와 b는 같습니다 ')    "
   ]
  },
  {
   "cell_type": "code",
   "execution_count": null,
   "id": "de9f598a",
   "metadata": {
    "hide_input": false
   },
   "outputs": [],
   "source": [
    "# 이름을 입력받은 후 이름이 있으면 점수를 출력하고 \n",
    "# 이름이 없으면 점수를 0으로 해서 names에 추가하시오..\n",
    "# 단, setdefault() 함수를 사용하지 말고 조건식으로 작성하시오\n",
    "\n",
    "names = {'Mary':4521, 'Tom':4587, 'Amy':2149, 'prark':8754}\n",
    "\n",
    "nam = input('점수를 확인하고 싶은 사람의 이름을 입력하세요')\n",
    "\n",
    "if nam in names:\n",
    "    print(names[nam])\n",
    "else:\n",
    "    names[nam] = 0\n",
    "    print(names)"
   ]
  },
  {
   "cell_type": "code",
   "execution_count": null,
   "id": "c3c3bdc7",
   "metadata": {},
   "outputs": [],
   "source": []
  },
  {
   "cell_type": "code",
   "execution_count": 1,
   "id": "bb5eb4fc",
   "metadata": {
    "collapsed": true
   },
   "outputs": [
    {
     "name": "stdout",
     "output_type": "stream",
     "text": [
      "점수를 확인하고 싶은 사람의 이름을 입력하세요mary\n"
     ]
    },
    {
     "ename": "ValueError",
     "evalue": "invalid literal for int() with base 10: 'mary'",
     "output_type": "error",
     "traceback": [
      "\u001b[1;31m---------------------------------------------------------------------------\u001b[0m",
      "\u001b[1;31mValueError\u001b[0m                                Traceback (most recent call last)",
      "Input \u001b[1;32mIn [1]\u001b[0m, in \u001b[0;36m<cell line: 6>\u001b[1;34m()\u001b[0m\n\u001b[0;32m      1\u001b[0m \u001b[38;5;66;03m# 이름을 입력 받은 후 이름이 있으면 몇 번째 있는지 위치를 출력하고\u001b[39;00m\n\u001b[0;32m      2\u001b[0m \u001b[38;5;66;03m# 이름이 없으면 names의 맨 뒤에 추가하시오\u001b[39;00m\n\u001b[0;32m      4\u001b[0m names \u001b[38;5;241m=\u001b[39m {\u001b[38;5;124m'\u001b[39m\u001b[38;5;124mmary\u001b[39m\u001b[38;5;124m'\u001b[39m, \u001b[38;5;124m'\u001b[39m\u001b[38;5;124mParker\u001b[39m\u001b[38;5;124m'\u001b[39m, \u001b[38;5;124m'\u001b[39m\u001b[38;5;124mtom\u001b[39m\u001b[38;5;124m'\u001b[39m, \u001b[38;5;124m'\u001b[39m\u001b[38;5;124mamy\u001b[39m\u001b[38;5;124m'\u001b[39m}\n\u001b[1;32m----> 6\u001b[0m nam \u001b[38;5;241m=\u001b[39m \u001b[38;5;28;43mint\u001b[39;49m\u001b[43m(\u001b[49m\u001b[38;5;28;43minput\u001b[39;49m\u001b[43m(\u001b[49m\u001b[38;5;124;43m'\u001b[39;49m\u001b[38;5;124;43m점수를 확인하고 싶은 사람의 이름을 입력하세요\u001b[39;49m\u001b[38;5;124;43m'\u001b[39;49m\u001b[43m)\u001b[49m\u001b[43m)\u001b[49m\n\u001b[0;32m      8\u001b[0m \u001b[38;5;28;01mif\u001b[39;00m nam \u001b[38;5;129;01min\u001b[39;00m names:\n\u001b[0;32m      9\u001b[0m     \u001b[38;5;28mprint\u001b[39m(names[nam]\u001b[38;5;241m.\u001b[39mindex(nam))\n",
      "\u001b[1;31mValueError\u001b[0m: invalid literal for int() with base 10: 'mary'"
     ]
    }
   ],
   "source": [
    "# 이름을 입력받은 후 이름이 있으면 몇 번째 있는지 위치를 출력하고 \n",
    "# 이름이 없으면 names의 맨 뒤에 추가하시오..\n",
    "\n",
    "names = ['Mary', 'Tom', 'Amy', 'park']\n",
    "\n",
    "nam = input('점수를 확인하고 싶은 사람의 이름을 입력하세요')\n",
    "\n",
    "if nam in names:\n",
    "    print(names.index(nam))\n",
    "else:\n",
    "    names.append(nam)\n",
    "    print(names)"
   ]
  },
  {
   "cell_type": "code",
   "execution_count": null,
   "id": "258be597",
   "metadata": {},
   "outputs": [],
   "source": []
  },
  {
   "cell_type": "code",
   "execution_count": null,
   "id": "53327b92",
   "metadata": {},
   "outputs": [],
   "source": []
  },
  {
   "cell_type": "code",
   "execution_count": null,
   "id": "cfbf740a",
   "metadata": {},
   "outputs": [],
   "source": []
  },
  {
   "cell_type": "code",
   "execution_count": null,
   "id": "dd5a2617",
   "metadata": {},
   "outputs": [],
   "source": []
  },
  {
   "cell_type": "code",
   "execution_count": null,
   "id": "422799be",
   "metadata": {},
   "outputs": [],
   "source": []
  },
  {
   "cell_type": "code",
   "execution_count": null,
   "id": "fa101348",
   "metadata": {},
   "outputs": [],
   "source": []
  },
  {
   "cell_type": "code",
   "execution_count": null,
   "id": "3fd39ced",
   "metadata": {},
   "outputs": [],
   "source": []
  }
 ],
 "metadata": {
  "kernelspec": {
   "display_name": "Python 3 (ipykernel)",
   "language": "python",
   "name": "python3"
  },
  "language_info": {
   "codemirror_mode": {
    "name": "ipython",
    "version": 3
   },
   "file_extension": ".py",
   "mimetype": "text/x-python",
   "name": "python",
   "nbconvert_exporter": "python",
   "pygments_lexer": "ipython3",
   "version": "3.9.12"
  },
  "toc": {
   "base_numbering": 1,
   "nav_menu": {},
   "number_sections": true,
   "sideBar": true,
   "skip_h1_title": false,
   "title_cell": "Table of Contents",
   "title_sidebar": "Contents",
   "toc_cell": false,
   "toc_position": {},
   "toc_section_display": true,
   "toc_window_display": false
  },
  "varInspector": {
   "cols": {
    "lenName": 16,
    "lenType": 16,
    "lenVar": 40
   },
   "kernels_config": {
    "python": {
     "delete_cmd_postfix": "",
     "delete_cmd_prefix": "del ",
     "library": "var_list.py",
     "varRefreshCmd": "print(var_dic_list())"
    },
    "r": {
     "delete_cmd_postfix": ") ",
     "delete_cmd_prefix": "rm(",
     "library": "var_list.r",
     "varRefreshCmd": "cat(var_dic_list()) "
    }
   },
   "types_to_exclude": [
    "module",
    "function",
    "builtin_function_or_method",
    "instance",
    "_Feature"
   ],
   "window_display": false
  }
 },
 "nbformat": 4,
 "nbformat_minor": 5
}
