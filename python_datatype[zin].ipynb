{
 "cells": [
  {
   "cell_type": "markdown",
   "id": "d7569a25",
   "metadata": {},
   "source": [
    "## 파이썬 기초\n",
    "\n",
    "---"
   ]
  },
  {
   "cell_type": "code",
   "execution_count": 1,
   "id": "3abf7dd0",
   "metadata": {},
   "outputs": [
    {
     "name": "stdout",
     "output_type": "stream",
     "text": [
      "pyton, java\n"
     ]
    }
   ],
   "source": [
    "print('pyton, java')"
   ]
  },
  {
   "cell_type": "code",
   "execution_count": 77,
   "id": "79302c7e",
   "metadata": {},
   "outputs": [
    {
     "data": {
      "text/html": [
       "<style>.container { width:65% !important; }</style>"
      ],
      "text/plain": [
       "<IPython.core.display.HTML object>"
      ]
     },
     "metadata": {},
     "output_type": "display_data"
    }
   ],
   "source": [
    "from IPython.display import display, HTML\n",
    "display(HTML(\"<style>.container { width:65% !important; }</style>\"))"
   ]
  },
  {
   "cell_type": "code",
   "execution_count": 39,
   "id": "98254109",
   "metadata": {},
   "outputs": [],
   "source": [
    "# 변수 : 그릇 (빈 그릇) -  컴퓨터 안에서 데이터를 담는 그릇  - 데이터를 처리할 때도 변수에 담아서 처리.."
   ]
  },
  {
   "cell_type": "code",
   "execution_count": 29,
   "id": "4d5fab4e",
   "metadata": {},
   "outputs": [],
   "source": [
    "# '=' : 변수(그릇)에 데이터를 담아라\n",
    "# '==' : 두 개의 변수에 담긴 데이터의 값은 같다..\n",
    "# '=!' : 값이 동일하지 않다\n",
    "# > 왼쪽 값이 오른쪽 값보다 크다\t(a > b) → false\n",
    "# < 왼쪽 값이 오른쪽 값보다 작다\t(a < b) → true\n",
    "# >= 왼쪽 값이 오른쪽 값보다 크거나 동일하다\t(a >= b) → false\n",
    "# <= 왼쪽 값이 오른쪽 값보다 작거나 동일하다\t(a <= b) → true"
   ]
  },
  {
   "cell_type": "code",
   "execution_count": 30,
   "id": "d2c4ada2",
   "metadata": {},
   "outputs": [
    {
     "name": "stdout",
     "output_type": "stream",
     "text": [
      "10\n"
     ]
    }
   ],
   "source": [
    "# int a : 일반언어에서 변수를 먼저 선언..  다른언어와 반대\n",
    "\n",
    "a = 10  # \"=\" 사용하는 순간 왼쪽이 변수가 되고, 값이 변수에 저장...  b = 'python'\n",
    "\n",
    "print(a)"
   ]
  },
  {
   "cell_type": "code",
   "execution_count": 31,
   "id": "cfbd2aaf",
   "metadata": {
    "scrolled": false
   },
   "outputs": [
    {
     "ename": "NameError",
     "evalue": "name 'b' is not defined",
     "output_type": "error",
     "traceback": [
      "\u001b[1;31m---------------------------------------------------------------------------\u001b[0m",
      "\u001b[1;31mNameError\u001b[0m                                 Traceback (most recent call last)",
      "Input \u001b[1;32mIn [31]\u001b[0m, in \u001b[0;36m<cell line: 1>\u001b[1;34m()\u001b[0m\n\u001b[1;32m----> 1\u001b[0m \u001b[38;5;28mprint\u001b[39m(\u001b[43mb\u001b[49m)\n",
      "\u001b[1;31mNameError\u001b[0m: name 'b' is not defined"
     ]
    }
   ],
   "source": [
    "print(b) # error"
   ]
  },
  {
   "cell_type": "code",
   "execution_count": null,
   "id": "22abfbe0",
   "metadata": {},
   "outputs": [],
   "source": []
  },
  {
   "cell_type": "markdown",
   "id": "fe32b217",
   "metadata": {},
   "source": [
    "# 정수 설명\n",
    "\n",
    "- 변수에 데이터를 할당.. : 데이터가 할당되는 순간에 변수가 동시에 생성..\n",
    "- 파이썬에 존재하는 데이터의 종류는 단 7가지 뿐 : str, int, float, list, set, tuple, dictionary\n",
    "- int와 float 차이는  뒤에 수소점이 있느냐 없느냐의 차이.\n",
    "\n",
    "- a = 'hello python'  # 문자열 파이썬의 내장 함수 str()은 정수나 실수를 문자열 형태로 바꿔주는 함수이다.\n",
    "\n",
    "- b = 125   # 정수(integer, 줄여서 int)는 자연수에 음양 부호(+, -)가 붙은 것이다. 비트 하나로 부호를 표현하고, 여러 개의 비트 묶음으       자연수를 표현한다  파이썬에서 소수점 없이 입력된 수, 즉 0, -15 같은 표현은 모두 정수다. 파이썬에서 소수점 없이 입력된 수, 즉 0,     15 같은 표현은 모두 정수다\n",
    "\n",
    "- c = 1053.7  # 실수 float 동소수점 수(floating point number, 줄여서 float)라는 데이터 유형으로 실수를 다룬다. 부동소수점 수는 '소수   점이 움직이는 수'라는 뜻이다.\n",
    "\n",
    "- d = [1,2,3,4]   # list (자료들을 목록 형태로 관리하는 자료형) 리스트의 이름 =[요소1,요소2..]\n",
    "  인덱싱/슬라이싱 사용가능 수정가능\n",
    "\n",
    "- e = {'a', 'b','c'}   # set (집합의 원소들을 표현하며 중복 값을 허용하지 않음) 집합의 이름 =[요소1,요소2..]\n",
    "  인덱싱/슬라이싱 사용불가능  수정 가능\n",
    "\n",
    "- f = ('a', 'b','c')   # tuple (리스트와 기능은 같지만 생성/삭제/수정 불가) 튜플의 이름 =[요소1,요소2..]\n",
    " 인덱싱/슬라이싱 사용가능 수정 불가능\n",
    "\n",
    "- g = {a:1, b:2, c:3}  # dictionary (사전처럼 이름(key)와 내용(value)를 연결 사전의 이름[key1:value,key2:value..]\n",
    " 인덱싱/슬라이싱 사용불가 수정가능\n",
    "\n",
    "- h = True"
   ]
  },
  {
   "cell_type": "code",
   "execution_count": 32,
   "id": "cf7235a5",
   "metadata": {},
   "outputs": [
    {
     "name": "stdout",
     "output_type": "stream",
     "text": [
      "10\n"
     ]
    }
   ],
   "source": [
    "print(a)"
   ]
  },
  {
   "cell_type": "code",
   "execution_count": 7,
   "id": "9ed8cda1",
   "metadata": {},
   "outputs": [
    {
     "name": "stdout",
     "output_type": "stream",
     "text": [
      "125\n"
     ]
    }
   ],
   "source": [
    "print(b)"
   ]
  },
  {
   "cell_type": "code",
   "execution_count": 8,
   "id": "dc57ab21",
   "metadata": {},
   "outputs": [
    {
     "name": "stdout",
     "output_type": "stream",
     "text": [
      "1053.7\n"
     ]
    }
   ],
   "source": [
    "print(c)"
   ]
  },
  {
   "cell_type": "code",
   "execution_count": 9,
   "id": "5f326269",
   "metadata": {},
   "outputs": [
    {
     "name": "stdout",
     "output_type": "stream",
     "text": [
      "[1, 2, 3, 4]\n"
     ]
    }
   ],
   "source": [
    "print(d)"
   ]
  },
  {
   "cell_type": "code",
   "execution_count": 10,
   "id": "d6323973",
   "metadata": {},
   "outputs": [
    {
     "name": "stdout",
     "output_type": "stream",
     "text": [
      "{'a', 'b', 'c'}\n"
     ]
    }
   ],
   "source": [
    "print(e)"
   ]
  },
  {
   "cell_type": "code",
   "execution_count": 11,
   "id": "5b560513",
   "metadata": {},
   "outputs": [
    {
     "name": "stdout",
     "output_type": "stream",
     "text": [
      "('a', 'b', 'c')\n"
     ]
    }
   ],
   "source": [
    "print(f)"
   ]
  },
  {
   "cell_type": "code",
   "execution_count": 12,
   "id": "b40f3eae",
   "metadata": {},
   "outputs": [
    {
     "name": "stdout",
     "output_type": "stream",
     "text": [
      "{'hello python': 1, 125: 2, 1053.7: 3}\n"
     ]
    }
   ],
   "source": [
    "print(g)"
   ]
  },
  {
   "cell_type": "code",
   "execution_count": 38,
   "id": "785620a8",
   "metadata": {},
   "outputs": [
    {
     "name": "stdout",
     "output_type": "stream",
     "text": [
      "True\n"
     ]
    }
   ],
   "source": [
    "print(f)"
   ]
  },
  {
   "cell_type": "code",
   "execution_count": null,
   "id": "16da42dc",
   "metadata": {},
   "outputs": [],
   "source": []
  },
  {
   "cell_type": "code",
   "execution_count": null,
   "id": "91b8a208",
   "metadata": {},
   "outputs": [],
   "source": []
  },
  {
   "cell_type": "code",
   "execution_count": 14,
   "id": "e1efd976",
   "metadata": {},
   "outputs": [
    {
     "data": {
      "text/plain": [
       "36"
      ]
     },
     "execution_count": 14,
     "metadata": {},
     "output_type": "execute_result"
    }
   ],
   "source": [
    "a = 12\n",
    "b = 3\n",
    "\n",
    "a * b"
   ]
  },
  {
   "cell_type": "code",
   "execution_count": null,
   "id": "738702a2",
   "metadata": {},
   "outputs": [],
   "source": []
  },
  {
   "cell_type": "code",
   "execution_count": null,
   "id": "c1f7935b",
   "metadata": {},
   "outputs": [],
   "source": [
    "# (), [], {}\n",
    "# 함수이름() => 함수"
   ]
  },
  {
   "cell_type": "code",
   "execution_count": 15,
   "id": "1fdd1906",
   "metadata": {},
   "outputs": [
    {
     "name": "stdout",
     "output_type": "stream",
     "text": [
      "hello\n"
     ]
    }
   ],
   "source": [
    "print('hello')"
   ]
  },
  {
   "cell_type": "code",
   "execution_count": null,
   "id": "a1b49a1f",
   "metadata": {},
   "outputs": [],
   "source": []
  },
  {
   "cell_type": "code",
   "execution_count": null,
   "id": "db0dfa61",
   "metadata": {},
   "outputs": [],
   "source": [
    "print(매개변수)   # 매개변수를 화면에 출력\n",
    "input()  # 값을 사용자에게 받을 때 사용하는 함수.."
   ]
  },
  {
   "cell_type": "code",
   "execution_count": 17,
   "id": "96918b6e",
   "metadata": {},
   "outputs": [
    {
     "name": "stdout",
     "output_type": "stream",
     "text": [
      "임의의 숫자를 입력하세요..10\n",
      "당신이 입력한 값은 : 10\n"
     ]
    }
   ],
   "source": [
    "x  = input('임의의 숫자를 입력하세요..')\n",
    "print('당신이 입력한 값은 :', x)"
   ]
  },
  {
   "cell_type": "code",
   "execution_count": null,
   "id": "49b94905",
   "metadata": {},
   "outputs": [],
   "source": []
  },
  {
   "cell_type": "code",
   "execution_count": 18,
   "id": "b13f33bb",
   "metadata": {},
   "outputs": [
    {
     "data": {
      "text/plain": [
       "12"
      ]
     },
     "execution_count": 18,
     "metadata": {},
     "output_type": "execute_result"
    }
   ],
   "source": [
    "a  # 변수는 덮어써진다.."
   ]
  },
  {
   "cell_type": "code",
   "execution_count": null,
   "id": "d5146da6",
   "metadata": {},
   "outputs": [],
   "source": [
    "#  type(x) : 변수에 담긴 값의 데이터타입을 알려준다.. 변수의 데이터타입을 리턴"
   ]
  },
  {
   "cell_type": "code",
   "execution_count": 19,
   "id": "d6f2b8ad",
   "metadata": {},
   "outputs": [
    {
     "data": {
      "text/plain": [
       "int"
      ]
     },
     "execution_count": 19,
     "metadata": {},
     "output_type": "execute_result"
    }
   ],
   "source": [
    "type(a)"
   ]
  },
  {
   "cell_type": "code",
   "execution_count": 20,
   "id": "690a49a2",
   "metadata": {},
   "outputs": [
    {
     "data": {
      "text/plain": [
       "int"
      ]
     },
     "execution_count": 20,
     "metadata": {},
     "output_type": "execute_result"
    }
   ],
   "source": [
    "type(b)"
   ]
  },
  {
   "cell_type": "code",
   "execution_count": 21,
   "id": "67d6044e",
   "metadata": {},
   "outputs": [
    {
     "data": {
      "text/plain": [
       "float"
      ]
     },
     "execution_count": 21,
     "metadata": {},
     "output_type": "execute_result"
    }
   ],
   "source": [
    "type(c)"
   ]
  },
  {
   "cell_type": "code",
   "execution_count": 22,
   "id": "61a8b73f",
   "metadata": {},
   "outputs": [
    {
     "data": {
      "text/plain": [
       "tuple"
      ]
     },
     "execution_count": 22,
     "metadata": {},
     "output_type": "execute_result"
    }
   ],
   "source": [
    "type(f)"
   ]
  },
  {
   "cell_type": "code",
   "execution_count": 23,
   "id": "86e56c5a",
   "metadata": {},
   "outputs": [
    {
     "data": {
      "text/plain": [
       "list"
      ]
     },
     "execution_count": 23,
     "metadata": {},
     "output_type": "execute_result"
    }
   ],
   "source": [
    "type(d)"
   ]
  },
  {
   "cell_type": "code",
   "execution_count": null,
   "id": "805627c9",
   "metadata": {},
   "outputs": [],
   "source": []
  },
  {
   "cell_type": "code",
   "execution_count": 131,
   "id": "2e0a620d",
   "metadata": {},
   "outputs": [
    {
     "name": "stdout",
     "output_type": "stream",
     "text": [
      "나이를 입력하세요36\n",
      "당신의 나이 : 36\n"
     ]
    },
    {
     "data": {
      "text/plain": [
       "str"
      ]
     },
     "execution_count": 131,
     "metadata": {},
     "output_type": "execute_result"
    }
   ],
   "source": [
    "age = input('나이를 입력하세요')  # input함수로 데이터를 받으면 모두 str형식으로 저장..\n",
    "print('당신의 나이 :', age)\n",
    "type(age)"
   ]
  },
  {
   "cell_type": "code",
   "execution_count": 129,
   "id": "62877969",
   "metadata": {},
   "outputs": [
    {
     "name": "stdout",
     "output_type": "stream",
     "text": [
      "나이를 입력하세요36\n"
     ]
    },
    {
     "ename": "TypeError",
     "evalue": "unsupported operand type(s) for -: 'str' and 'int'",
     "output_type": "error",
     "traceback": [
      "\u001b[1;31m---------------------------------------------------------------------------\u001b[0m",
      "\u001b[1;31mTypeError\u001b[0m                                 Traceback (most recent call last)",
      "Input \u001b[1;32mIn [129]\u001b[0m, in \u001b[0;36m<cell line: 4>\u001b[1;34m()\u001b[0m\n\u001b[0;32m      1\u001b[0m \u001b[38;5;66;03m# 만 나이를 계산해서 출력, 만 나이 = 한국나이 -1\u001b[39;00m\n\u001b[0;32m      3\u001b[0m age \u001b[38;5;241m=\u001b[39m \u001b[38;5;28minput\u001b[39m(\u001b[38;5;124m'\u001b[39m\u001b[38;5;124m나이를 입력하세요\u001b[39m\u001b[38;5;124m'\u001b[39m)\n\u001b[1;32m----> 4\u001b[0m int_age \u001b[38;5;241m=\u001b[39m \u001b[43mage\u001b[49m\u001b[43m \u001b[49m\u001b[38;5;241;43m-\u001b[39;49m\u001b[43m \u001b[49m\u001b[38;5;241;43m1\u001b[39;49m\n\u001b[0;32m      5\u001b[0m \u001b[38;5;28mprint\u001b[39m(\u001b[38;5;124m'\u001b[39m\u001b[38;5;124m당신의 만 나이는 :\u001b[39m\u001b[38;5;124m'\u001b[39m, int_age)\n",
      "\u001b[1;31mTypeError\u001b[0m: unsupported operand type(s) for -: 'str' and 'int'"
     ]
    }
   ],
   "source": [
    "# 만 나이를 계산해서 출력, 만 나이 = 한국나이 -1\n",
    "\n",
    "age = input('나이를 입력하세요')\n",
    "int_age = age - 1\n",
    "print('당신의 만 나이는 :', int_age)"
   ]
  },
  {
   "cell_type": "code",
   "execution_count": 130,
   "id": "598e4a06",
   "metadata": {},
   "outputs": [
    {
     "name": "stdout",
     "output_type": "stream",
     "text": [
      "나이를 입력하세요36\n",
      "당신의 만 나이는 : 35\n"
     ]
    }
   ],
   "source": [
    "# 형변환 함수\n",
    "\n",
    "# 만 나이를 계산해서 출력, 만 나이 = 한국나이 -1\n",
    "# int(매개변수) : 매개변수를 숫자로 데이터타입을 변환하는 함수\n",
    "\n",
    "age = int(input('나이를 입력하세요'))\n",
    "int_age = age - 1\n",
    "print('당신의 만 나이는 :', int_age)"
   ]
  },
  {
   "cell_type": "code",
   "execution_count": null,
   "id": "62c09ce9",
   "metadata": {},
   "outputs": [],
   "source": []
  },
  {
   "cell_type": "markdown",
   "id": "9ecf7eb2",
   "metadata": {},
   "source": [
    "### 산술연산\n",
    "\n",
    "   \n",
    "\n",
    "1.더하기 +\n",
    " \n",
    "2.빼기 -\n",
    "\n",
    "3.곱하기 *\n",
    "\n",
    "4.나누기 /\n",
    "\n",
    "5.나머지 %\n",
    "\n",
    "6.몫 //\n",
    "\n",
    "7.거듭제곱 **\n",
    "\n",
    "---"
   ]
  },
  {
   "cell_type": "code",
   "execution_count": 33,
   "id": "fbe4af2e",
   "metadata": {},
   "outputs": [],
   "source": [
    "a = 2\n",
    "b = 5"
   ]
  },
  {
   "cell_type": "code",
   "execution_count": 32,
   "id": "d0204745",
   "metadata": {},
   "outputs": [
    {
     "name": "stdout",
     "output_type": "stream",
     "text": [
      "7\n",
      "-3\n",
      "10\n",
      "0.4\n",
      "32\n",
      "0\n",
      "1\n"
     ]
    }
   ],
   "source": [
    "print(a + b)\n",
    "print(a - b)\n",
    "print(a * b)\n",
    "print(a / b)\n",
    "print(a ** b)\n",
    "print(a // b)\n",
    "print(b%a)"
   ]
  },
  {
   "cell_type": "code",
   "execution_count": null,
   "id": "cd98715e",
   "metadata": {},
   "outputs": [],
   "source": []
  },
  {
   "cell_type": "code",
   "execution_count": null,
   "id": "763c25de",
   "metadata": {},
   "outputs": [],
   "source": [
    "# 비교연산 : 결과가 True, False로 나옴 (boolean type)\n",
    "# >, >=. <. <=, ==, !="
   ]
  },
  {
   "cell_type": "code",
   "execution_count": 33,
   "id": "2ca9e098",
   "metadata": {},
   "outputs": [],
   "source": [
    "a = 10\n",
    "b = 15\n",
    "c = 5"
   ]
  },
  {
   "cell_type": "code",
   "execution_count": 34,
   "id": "57f4127c",
   "metadata": {},
   "outputs": [
    {
     "data": {
      "text/plain": [
       "True"
      ]
     },
     "execution_count": 34,
     "metadata": {},
     "output_type": "execute_result"
    }
   ],
   "source": [
    "a < b"
   ]
  },
  {
   "cell_type": "code",
   "execution_count": 35,
   "id": "5adbe98a",
   "metadata": {},
   "outputs": [
    {
     "data": {
      "text/plain": [
       "True"
      ]
     },
     "execution_count": 35,
     "metadata": {},
     "output_type": "execute_result"
    }
   ],
   "source": [
    "a != b"
   ]
  },
  {
   "cell_type": "code",
   "execution_count": 36,
   "id": "08640418",
   "metadata": {},
   "outputs": [
    {
     "data": {
      "text/plain": [
       "False"
      ]
     },
     "execution_count": 36,
     "metadata": {},
     "output_type": "execute_result"
    }
   ],
   "source": [
    "a == b"
   ]
  },
  {
   "cell_type": "code",
   "execution_count": null,
   "id": "7dad50d7",
   "metadata": {},
   "outputs": [],
   "source": []
  },
  {
   "cell_type": "code",
   "execution_count": 39,
   "id": "3265b62c",
   "metadata": {},
   "outputs": [],
   "source": [
    "# 논리연산 => and, or, not\n",
    "\n",
    "# and : 전부 True인 경우만 True 연산\n",
    "# or : 하나만 True이면 True로 연산\n",
    "# not : True이면 False로 Flase이면 True로 변환"
   ]
  },
  {
   "cell_type": "code",
   "execution_count": 40,
   "id": "b8a028d7",
   "metadata": {},
   "outputs": [],
   "source": [
    "a = True\n",
    "b = False\n",
    "c = True"
   ]
  },
  {
   "cell_type": "code",
   "execution_count": 41,
   "id": "c74672a4",
   "metadata": {},
   "outputs": [
    {
     "data": {
      "text/plain": [
       "False"
      ]
     },
     "execution_count": 41,
     "metadata": {},
     "output_type": "execute_result"
    }
   ],
   "source": [
    "a and b"
   ]
  },
  {
   "cell_type": "code",
   "execution_count": 42,
   "id": "f692cfb8",
   "metadata": {},
   "outputs": [
    {
     "data": {
      "text/plain": [
       "True"
      ]
     },
     "execution_count": 42,
     "metadata": {},
     "output_type": "execute_result"
    }
   ],
   "source": [
    "a or b"
   ]
  },
  {
   "cell_type": "code",
   "execution_count": 43,
   "id": "97845e99",
   "metadata": {},
   "outputs": [
    {
     "data": {
      "text/plain": [
       "True"
      ]
     },
     "execution_count": 43,
     "metadata": {},
     "output_type": "execute_result"
    }
   ],
   "source": [
    "a and c"
   ]
  },
  {
   "cell_type": "code",
   "execution_count": 44,
   "id": "3d7ae675",
   "metadata": {},
   "outputs": [
    {
     "data": {
      "text/plain": [
       "False"
      ]
     },
     "execution_count": 44,
     "metadata": {},
     "output_type": "execute_result"
    }
   ],
   "source": [
    "not a"
   ]
  },
  {
   "cell_type": "code",
   "execution_count": 45,
   "id": "cd200ec0",
   "metadata": {},
   "outputs": [
    {
     "data": {
      "text/plain": [
       "True"
      ]
     },
     "execution_count": 45,
     "metadata": {},
     "output_type": "execute_result"
    }
   ],
   "source": [
    "not b"
   ]
  },
  {
   "cell_type": "code",
   "execution_count": null,
   "id": "d0c49efb",
   "metadata": {},
   "outputs": [],
   "source": []
  },
  {
   "cell_type": "code",
   "execution_count": null,
   "id": "93027e8c",
   "metadata": {},
   "outputs": [],
   "source": [
    "# 기본 함수..\n",
    "\n",
    "# abs(x) : 절대값을 리턴\n",
    "# divmode(x, y) 매개변수로 두 숫자를 입력 받아 첫번째 인자를 두번째 인자로 나눈 몫과 나머지를 tuple 형식으로 반환한다.  \n",
    "# pow(x, y) 제곱(거듭제곱) / pow 함수는  두 가지가 존재 파이썬 내장 함수에 정의된 pow()가 있고 math 라이브러리에 정의된 math.pow() 함수가 있다.\n",
    "# pow(a, b) : a의 b제곱을 계산해서, 반환하는 함수\n"
   ]
  },
  {
   "cell_type": "code",
   "execution_count": 46,
   "id": "b3a565f7",
   "metadata": {},
   "outputs": [
    {
     "data": {
      "text/plain": [
       "3"
      ]
     },
     "execution_count": 46,
     "metadata": {},
     "output_type": "execute_result"
    }
   ],
   "source": [
    "abs(-3)"
   ]
  },
  {
   "cell_type": "code",
   "execution_count": 48,
   "id": "c06ed808",
   "metadata": {},
   "outputs": [
    {
     "data": {
      "text/plain": [
       "(2, 0)"
      ]
     },
     "execution_count": 48,
     "metadata": {},
     "output_type": "execute_result"
    }
   ],
   "source": [
    "divmod(4,2)"
   ]
  },
  {
   "cell_type": "code",
   "execution_count": 49,
   "id": "54a6acd1",
   "metadata": {},
   "outputs": [
    {
     "data": {
      "text/plain": [
       "8"
      ]
     },
     "execution_count": 49,
     "metadata": {},
     "output_type": "execute_result"
    }
   ],
   "source": [
    "pow(2, 3)"
   ]
  },
  {
   "cell_type": "code",
   "execution_count": null,
   "id": "38f7a64c",
   "metadata": {},
   "outputs": [],
   "source": []
  },
  {
   "cell_type": "code",
   "execution_count": null,
   "id": "860437d1",
   "metadata": {},
   "outputs": [],
   "source": [
    "# 임의의 값을 입력받은 후 그 값의 데이터타입을 출력..\n",
    "# \"당신이 입력한 데이터의 타입은 :  문자열\""
   ]
  },
  {
   "cell_type": "code",
   "execution_count": 51,
   "id": "ff8a2b24",
   "metadata": {},
   "outputs": [
    {
     "name": "stdout",
     "output_type": "stream",
     "text": [
      "임의의 값을 입력하세요50\n",
      "당신이 입력한 데이터의 타입은 : <class 'str'>\n"
     ]
    }
   ],
   "source": [
    "data = input('임의의 값을 입력하세요')\n",
    "print('당신이 입력한 데이터의 타입은 :', type(data))"
   ]
  },
  {
   "cell_type": "markdown",
   "id": "0300ed0a",
   "metadata": {},
   "source": [
    "# DataType\n",
    "---"
   ]
  },
  {
   "cell_type": "code",
   "execution_count": null,
   "id": "cc000779",
   "metadata": {},
   "outputs": [],
   "source": []
  },
  {
   "cell_type": "code",
   "execution_count": 52,
   "id": "5324b53d",
   "metadata": {},
   "outputs": [],
   "source": [
    "# * 단일 데이터타입 - 원소가 개별 하나\n",
    "# 1. int(정수)\n",
    "# 2. float(실수)\n",
    "\n",
    "# * 군집형 데이터 타입 - 여러개의 원소가 묶여서 하나의 데이터를 구성\n",
    "# 3. string(문자열) - '', \" \", \"\"\" ~ \"\"\"\n",
    "# 4. list(리스트) - []\n",
    "# 5. tuple(튜플) - ()\n",
    "# 6. set(셋) - {}\n",
    "# 7. dictionary(딕셔너리) -{a:b}\n",
    "\n",
    "# 8. boolean - True, False"
   ]
  },
  {
   "cell_type": "code",
   "execution_count": null,
   "id": "8916d8e7",
   "metadata": {},
   "outputs": [],
   "source": []
  },
  {
   "cell_type": "markdown",
   "id": "a21c78fe",
   "metadata": {},
   "source": [
    "1. string (문자열)\n",
    "- 원소별 순서 number가 할당 -> index -> 원소의 주소값\n",
    "- 항상 0부터 시작\n",
    "- 역순으로 index가 붙는데, -1부터 시작한다..\n",
    "---"
   ]
  },
  {
   "cell_type": "code",
   "execution_count": 54,
   "id": "6763913b",
   "metadata": {},
   "outputs": [
    {
     "data": {
      "text/plain": [
       "str"
      ]
     },
     "execution_count": 54,
     "metadata": {},
     "output_type": "execute_result"
    }
   ],
   "source": [
    "text = 'hello python'\n",
    "type(text)"
   ]
  },
  {
   "cell_type": "code",
   "execution_count": 56,
   "id": "0fccc504",
   "metadata": {},
   "outputs": [
    {
     "data": {
      "text/plain": [
       "str"
      ]
     },
     "execution_count": 56,
     "metadata": {},
     "output_type": "execute_result"
    }
   ],
   "source": [
    "num = '56'\n",
    "type(num)"
   ]
  },
  {
   "cell_type": "code",
   "execution_count": 57,
   "id": "cd1dadb5",
   "metadata": {},
   "outputs": [],
   "source": [
    "text = 'hello python'"
   ]
  },
  {
   "cell_type": "code",
   "execution_count": 58,
   "id": "5e9c483b",
   "metadata": {},
   "outputs": [
    {
     "data": {
      "text/plain": [
       "'l'"
      ]
     },
     "execution_count": 58,
     "metadata": {},
     "output_type": "execute_result"
    }
   ],
   "source": [
    "text[3]"
   ]
  },
  {
   "cell_type": "code",
   "execution_count": 59,
   "id": "a57bdb37",
   "metadata": {},
   "outputs": [
    {
     "data": {
      "text/plain": [
       "'o'"
      ]
     },
     "execution_count": 59,
     "metadata": {},
     "output_type": "execute_result"
    }
   ],
   "source": [
    "text[4]"
   ]
  },
  {
   "cell_type": "code",
   "execution_count": 60,
   "id": "01e90bae",
   "metadata": {},
   "outputs": [
    {
     "data": {
      "text/plain": [
       "' '"
      ]
     },
     "execution_count": 60,
     "metadata": {},
     "output_type": "execute_result"
    }
   ],
   "source": [
    "text[5]"
   ]
  },
  {
   "cell_type": "code",
   "execution_count": 61,
   "id": "1d5bf842",
   "metadata": {},
   "outputs": [],
   "source": [
    "text = 'python programming'"
   ]
  },
  {
   "cell_type": "code",
   "execution_count": 62,
   "id": "594b41e6",
   "metadata": {},
   "outputs": [
    {
     "data": {
      "text/plain": [
       "'i'"
      ]
     },
     "execution_count": 62,
     "metadata": {},
     "output_type": "execute_result"
    }
   ],
   "source": [
    "text[-3]"
   ]
  },
  {
   "cell_type": "code",
   "execution_count": null,
   "id": "e71e8ce6",
   "metadata": {},
   "outputs": [],
   "source": [
    "# slicing : start index와 end index를 지정해서 그 범위에 해당하는 원소들을 가져오는 => :\n",
    "# [start_index : end_index : step]\n",
    "# python에서 indexing할 때, 마지막 index의 해당하는 값은 가져오지 않는다.. "
   ]
  },
  {
   "cell_type": "code",
   "execution_count": 65,
   "id": "e4229aee",
   "metadata": {},
   "outputs": [
    {
     "data": {
      "text/plain": [
       "'th'"
      ]
     },
     "execution_count": 65,
     "metadata": {},
     "output_type": "execute_result"
    }
   ],
   "source": [
    "text[2:4]"
   ]
  },
  {
   "cell_type": "code",
   "execution_count": 67,
   "id": "8062cc64",
   "metadata": {},
   "outputs": [
    {
     "data": {
      "text/plain": [
       "'pro'"
      ]
     },
     "execution_count": 67,
     "metadata": {},
     "output_type": "execute_result"
    }
   ],
   "source": [
    "text[7:10]"
   ]
  },
  {
   "cell_type": "code",
   "execution_count": 68,
   "id": "59a02a5d",
   "metadata": {},
   "outputs": [],
   "source": [
    "# ing"
   ]
  },
  {
   "cell_type": "code",
   "execution_count": 69,
   "id": "adf74228",
   "metadata": {},
   "outputs": [
    {
     "data": {
      "text/plain": [
       "'python programming'"
      ]
     },
     "execution_count": 69,
     "metadata": {},
     "output_type": "execute_result"
    }
   ],
   "source": [
    "text"
   ]
  },
  {
   "cell_type": "code",
   "execution_count": 70,
   "id": "986fe0bc",
   "metadata": {},
   "outputs": [
    {
     "data": {
      "text/plain": [
       "'ing'"
      ]
     },
     "execution_count": 70,
     "metadata": {},
     "output_type": "execute_result"
    }
   ],
   "source": [
    "text[15:20]"
   ]
  },
  {
   "cell_type": "code",
   "execution_count": 74,
   "id": "d834d6b3",
   "metadata": {},
   "outputs": [
    {
     "data": {
      "text/plain": [
       "'in'"
      ]
     },
     "execution_count": 74,
     "metadata": {},
     "output_type": "execute_result"
    }
   ],
   "source": [
    "text[-3:-1]"
   ]
  },
  {
   "cell_type": "code",
   "execution_count": 75,
   "id": "feebb32c",
   "metadata": {},
   "outputs": [
    {
     "data": {
      "text/plain": [
       "'ing'"
      ]
     },
     "execution_count": 75,
     "metadata": {},
     "output_type": "execute_result"
    }
   ],
   "source": [
    "text[-3:]"
   ]
  },
  {
   "cell_type": "code",
   "execution_count": 76,
   "id": "5e4d3bc2",
   "metadata": {},
   "outputs": [
    {
     "data": {
      "text/plain": [
       "'python'"
      ]
     },
     "execution_count": 76,
     "metadata": {},
     "output_type": "execute_result"
    }
   ],
   "source": [
    "text[:6]"
   ]
  },
  {
   "cell_type": "code",
   "execution_count": 78,
   "id": "54ae2d99",
   "metadata": {},
   "outputs": [
    {
     "data": {
      "text/plain": [
       "'yhnpo'"
      ]
     },
     "execution_count": 78,
     "metadata": {},
     "output_type": "execute_result"
    }
   ],
   "source": [
    "text[1: 10: 2]"
   ]
  },
  {
   "cell_type": "code",
   "execution_count": 79,
   "id": "9fde5fcd",
   "metadata": {},
   "outputs": [],
   "source": [
    "# 문자열 : ' ', \" \", \"\"\" \"\"\""
   ]
  },
  {
   "cell_type": "code",
   "execution_count": 81,
   "id": "b39b2089",
   "metadata": {},
   "outputs": [],
   "source": [
    "# '\\' : '\\' 하고 줄바꿈하면 파이썬이 한 줄로 인식한다\n",
    "text = 'hello python \\\n",
    "hello world'"
   ]
  },
  {
   "cell_type": "code",
   "execution_count": null,
   "id": "a04a9da1",
   "metadata": {},
   "outputs": [],
   "source": [
    "# 여러 줄을 string으로 만들 때, => ''' ''', \"\"\" \"\"\""
   ]
  },
  {
   "cell_type": "code",
   "execution_count": 82,
   "id": "30f286ae",
   "metadata": {
    "collapsed": true
   },
   "outputs": [
    {
     "data": {
      "text/plain": [
       "'hello \\nworld\\npython \\nprogramming'"
      ]
     },
     "execution_count": 82,
     "metadata": {},
     "output_type": "execute_result"
    }
   ],
   "source": [
    "text = '''hello \n",
    "world\n",
    "python \n",
    "programming'''\n",
    "\n",
    "text"
   ]
  },
  {
   "cell_type": "code",
   "execution_count": 85,
   "id": "f0602754",
   "metadata": {
    "collapsed": true
   },
   "outputs": [
    {
     "ename": "SyntaxError",
     "evalue": "invalid syntax (264935862.py, line 1)",
     "output_type": "error",
     "traceback": [
      "\u001b[1;36m  Input \u001b[1;32mIn [85]\u001b[1;36m\u001b[0m\n\u001b[1;33m    text = \" hello world \"python\" world\"\u001b[0m\n\u001b[1;37m                          ^\u001b[0m\n\u001b[1;31mSyntaxError\u001b[0m\u001b[1;31m:\u001b[0m invalid syntax\n"
     ]
    }
   ],
   "source": [
    "text = \" hello world \"python\" world\"\n",
    "text"
   ]
  },
  {
   "cell_type": "code",
   "execution_count": 84,
   "id": "80c3a4ad",
   "metadata": {
    "collapsed": true
   },
   "outputs": [
    {
     "data": {
      "text/plain": [
       "\" hello world 'python' world\""
      ]
     },
     "execution_count": 84,
     "metadata": {},
     "output_type": "execute_result"
    }
   ],
   "source": [
    "text = \" hello world 'python' world\"\n",
    "text"
   ]
  },
  {
   "cell_type": "code",
   "execution_count": 86,
   "id": "41afa900",
   "metadata": {},
   "outputs": [
    {
     "data": {
      "text/plain": [
       "' hello world \"python\" world'"
      ]
     },
     "execution_count": 86,
     "metadata": {},
     "output_type": "execute_result"
    }
   ],
   "source": [
    "text = ' hello world \"python\" world'\n",
    "text"
   ]
  },
  {
   "cell_type": "code",
   "execution_count": null,
   "id": "274cfed0",
   "metadata": {},
   "outputs": [],
   "source": []
  },
  {
   "cell_type": "code",
   "execution_count": null,
   "id": "4a229366",
   "metadata": {},
   "outputs": [],
   "source": [
    "# '+' : 두 문자열을 연결\n",
    "# '*' : 문자열 반복..\n",
    "# in : 군집데이터에서 특정 원소가 포함되어 있는지\n",
    "# len()  : sequence(군집데이터)의 원소의 갯수"
   ]
  },
  {
   "cell_type": "code",
   "execution_count": 87,
   "id": "10333040",
   "metadata": {},
   "outputs": [],
   "source": [
    "a = 'hello'\n",
    "b = 'world'"
   ]
  },
  {
   "cell_type": "code",
   "execution_count": 88,
   "id": "88956b25",
   "metadata": {},
   "outputs": [
    {
     "data": {
      "text/plain": [
       "'helloworld'"
      ]
     },
     "execution_count": 88,
     "metadata": {},
     "output_type": "execute_result"
    }
   ],
   "source": [
    "a + b"
   ]
  },
  {
   "cell_type": "code",
   "execution_count": 89,
   "id": "46bfbd4b",
   "metadata": {},
   "outputs": [
    {
     "data": {
      "text/plain": [
       "'hellohellohello'"
      ]
     },
     "execution_count": 89,
     "metadata": {},
     "output_type": "execute_result"
    }
   ],
   "source": [
    "a * 3"
   ]
  },
  {
   "cell_type": "code",
   "execution_count": 90,
   "id": "6291b625",
   "metadata": {},
   "outputs": [
    {
     "data": {
      "text/plain": [
       "True"
      ]
     },
     "execution_count": 90,
     "metadata": {},
     "output_type": "execute_result"
    }
   ],
   "source": [
    "'h' in a"
   ]
  },
  {
   "cell_type": "code",
   "execution_count": 91,
   "id": "c1a688bd",
   "metadata": {},
   "outputs": [
    {
     "data": {
      "text/plain": [
       "False"
      ]
     },
     "execution_count": 91,
     "metadata": {},
     "output_type": "execute_result"
    }
   ],
   "source": [
    "'s' in a"
   ]
  },
  {
   "cell_type": "code",
   "execution_count": 92,
   "id": "ffe7bd01",
   "metadata": {},
   "outputs": [
    {
     "data": {
      "text/plain": [
       "5"
      ]
     },
     "execution_count": 92,
     "metadata": {},
     "output_type": "execute_result"
    }
   ],
   "source": [
    "len(a)"
   ]
  },
  {
   "cell_type": "code",
   "execution_count": 93,
   "id": "d4debad8",
   "metadata": {},
   "outputs": [
    {
     "data": {
      "text/plain": [
       "True"
      ]
     },
     "execution_count": 93,
     "metadata": {},
     "output_type": "execute_result"
    }
   ],
   "source": [
    "'s' not in a"
   ]
  },
  {
   "cell_type": "code",
   "execution_count": null,
   "id": "7b9dc9f3",
   "metadata": {},
   "outputs": [],
   "source": []
  },
  {
   "cell_type": "code",
   "execution_count": 94,
   "id": "87cb10ca",
   "metadata": {},
   "outputs": [
    {
     "data": {
      "text/plain": [
       "' hello world \"python\" world'"
      ]
     },
     "execution_count": 94,
     "metadata": {},
     "output_type": "execute_result"
    }
   ],
   "source": [
    "text"
   ]
  },
  {
   "cell_type": "code",
   "execution_count": 96,
   "id": "6079c83d",
   "metadata": {},
   "outputs": [
    {
     "ename": "TypeError",
     "evalue": "'str' object does not support item assignment",
     "output_type": "error",
     "traceback": [
      "\u001b[1;31m---------------------------------------------------------------------------\u001b[0m",
      "\u001b[1;31mTypeError\u001b[0m                                 Traceback (most recent call last)",
      "Input \u001b[1;32mIn [96]\u001b[0m, in \u001b[0;36m<cell line: 1>\u001b[1;34m()\u001b[0m\n\u001b[1;32m----> 1\u001b[0m text[\u001b[38;5;241m7\u001b[39m] \u001b[38;5;241m=\u001b[39m \u001b[38;5;124m'\u001b[39m\u001b[38;5;124ms\u001b[39m\u001b[38;5;124m'\u001b[39m\n",
      "\u001b[1;31mTypeError\u001b[0m: 'str' object does not support item assignment"
     ]
    }
   ],
   "source": [
    "# 문자열 데이터에서는 원소를 수정 삭제 추가가 안 됨\n",
    "# 문자열 안에 새로운 텍스트를 삽입 => format()\n",
    "\n",
    "text[7] = 's'"
   ]
  },
  {
   "cell_type": "code",
   "execution_count": null,
   "id": "cc55703e",
   "metadata": {},
   "outputs": [],
   "source": [
    "data = input('임의의 값을 입력하세요')\n",
    "print('당신이 입력한 데이터의 타입은 :', type(data))\n",
    "\n",
    "# => 당신이 입력한 데이터의 타입은 000입니다."
   ]
  },
  {
   "cell_type": "code",
   "execution_count": 37,
   "id": "0742c86a",
   "metadata": {},
   "outputs": [
    {
     "name": "stdout",
     "output_type": "stream",
     "text": [
      "임의의 값을 입력하세요36\n",
      "당신이 입력한 데이터의 타입은 <class 'str'>입니다\n"
     ]
    }
   ],
   "source": [
    "data = input('임의의 값을 입력하세요')\n",
    "print('당신이 입력한 데이터의 타입은 {}입니다'.format(type(data)))"
   ]
  },
  {
   "cell_type": "code",
   "execution_count": 36,
   "id": "509344fa",
   "metadata": {},
   "outputs": [
    {
     "name": "stdout",
     "output_type": "stream",
     "text": [
      "성별를 입력하세요남\n",
      "나이를 입력하세요36\n",
      "당신의 나이는 36이고 성별은 남입니다\n"
     ]
    }
   ],
   "source": [
    "gender = input('성별를 입력하세요')\n",
    "age = input('나이를 입력하세요')\n",
    "\n",
    "print('당신의 나이는 {}이고 성별은 {}입니다'.format(age, gender))"
   ]
  },
  {
   "cell_type": "code",
   "execution_count": 35,
   "id": "49b5dd66",
   "metadata": {},
   "outputs": [
    {
     "name": "stdout",
     "output_type": "stream",
     "text": [
      "성별를 입력하세요남\n",
      "나이를 입력하세요36\n",
      "당신의 나이는 36이고 성별은 남입니다\n"
     ]
    }
   ],
   "source": [
    "gender = input('성별를 입력하세요')\n",
    "age = input('나이를 입력하세요')\n",
    "\n",
    "print('당신의 나이는 %s이고 성별은 %s입니다'%(age, gender))"
   ]
  },
  {
   "cell_type": "code",
   "execution_count": null,
   "id": "6e42b628",
   "metadata": {},
   "outputs": [],
   "source": []
  },
  {
   "cell_type": "code",
   "execution_count": 103,
   "id": "bf8990e5",
   "metadata": {},
   "outputs": [
    {
     "data": {
      "text/plain": [
       "' hello world \"python\" world'"
      ]
     },
     "execution_count": 103,
     "metadata": {},
     "output_type": "execute_result"
    }
   ],
   "source": [
    "text"
   ]
  },
  {
   "cell_type": "code",
   "execution_count": 104,
   "id": "2cd84b7f",
   "metadata": {},
   "outputs": [
    {
     "data": {
      "text/plain": [
       "' HELLO WORLD \"PYTHON\" WORLD'"
      ]
     },
     "execution_count": 104,
     "metadata": {},
     "output_type": "execute_result"
    }
   ],
   "source": [
    "text.upper()"
   ]
  },
  {
   "cell_type": "code",
   "execution_count": 105,
   "id": "e28f8ba0",
   "metadata": {},
   "outputs": [
    {
     "data": {
      "text/plain": [
       "' hello world \"python\" world'"
      ]
     },
     "execution_count": 105,
     "metadata": {},
     "output_type": "execute_result"
    }
   ],
   "source": [
    "text.lower()"
   ]
  },
  {
   "cell_type": "code",
   "execution_count": 106,
   "id": "0e97951d",
   "metadata": {},
   "outputs": [
    {
     "data": {
      "text/plain": [
       "' Hello World \"Python\" World'"
      ]
     },
     "execution_count": 106,
     "metadata": {},
     "output_type": "execute_result"
    }
   ],
   "source": [
    "text.title()"
   ]
  },
  {
   "cell_type": "code",
   "execution_count": null,
   "id": "86bbf776",
   "metadata": {},
   "outputs": [],
   "source": []
  },
  {
   "cell_type": "code",
   "execution_count": null,
   "id": "9c4bd0fb",
   "metadata": {},
   "outputs": [],
   "source": [
    "# split() : 문자열을 space기준으로 나누어서 list에 담는다"
   ]
  },
  {
   "cell_type": "code",
   "execution_count": 108,
   "id": "cb079221",
   "metadata": {},
   "outputs": [
    {
     "data": {
      "text/plain": [
       "' hello world \"python\" world'"
      ]
     },
     "execution_count": 108,
     "metadata": {},
     "output_type": "execute_result"
    }
   ],
   "source": [
    "text"
   ]
  },
  {
   "cell_type": "code",
   "execution_count": 110,
   "id": "19613b79",
   "metadata": {},
   "outputs": [
    {
     "data": {
      "text/plain": [
       "['hello', 'world', '\"python\"', 'world']"
      ]
     },
     "execution_count": 110,
     "metadata": {},
     "output_type": "execute_result"
    }
   ],
   "source": [
    "text.split()"
   ]
  },
  {
   "cell_type": "code",
   "execution_count": 109,
   "id": "1700f82b",
   "metadata": {},
   "outputs": [],
   "source": [
    "L = text.split()"
   ]
  },
  {
   "cell_type": "code",
   "execution_count": 111,
   "id": "1b5ba146",
   "metadata": {},
   "outputs": [
    {
     "data": {
      "text/plain": [
       "['hello', 'world', '\"python\"', 'world']"
      ]
     },
     "execution_count": 111,
     "metadata": {},
     "output_type": "execute_result"
    }
   ],
   "source": [
    "L"
   ]
  },
  {
   "cell_type": "code",
   "execution_count": null,
   "id": "d3ffc798",
   "metadata": {},
   "outputs": [],
   "source": []
  },
  {
   "cell_type": "code",
   "execution_count": null,
   "id": "540e0ca2",
   "metadata": {},
   "outputs": [],
   "source": [
    "# join()함수 : 리스트를 이어서 문자열을 만든다.."
   ]
  },
  {
   "cell_type": "code",
   "execution_count": 112,
   "id": "121711b7",
   "metadata": {},
   "outputs": [
    {
     "data": {
      "text/plain": [
       "'hello world \"python\" world'"
      ]
     },
     "execution_count": 112,
     "metadata": {},
     "output_type": "execute_result"
    }
   ],
   "source": [
    "\" \".join(L)"
   ]
  },
  {
   "cell_type": "code",
   "execution_count": null,
   "id": "88ca0114",
   "metadata": {},
   "outputs": [],
   "source": []
  },
  {
   "cell_type": "code",
   "execution_count": null,
   "id": "2fb28fe7",
   "metadata": {},
   "outputs": [],
   "source": [
    "# 특정 원소가 몇 개 존재하는지.."
   ]
  },
  {
   "cell_type": "code",
   "execution_count": 114,
   "id": "14cc14fa",
   "metadata": {},
   "outputs": [
    {
     "data": {
      "text/plain": [
       "4"
      ]
     },
     "execution_count": 114,
     "metadata": {},
     "output_type": "execute_result"
    }
   ],
   "source": [
    "text.count('o')"
   ]
  },
  {
   "cell_type": "code",
   "execution_count": 117,
   "id": "9c16c618",
   "metadata": {},
   "outputs": [
    {
     "data": {
      "text/plain": [
       "4"
      ]
     },
     "execution_count": 117,
     "metadata": {},
     "output_type": "execute_result"
    }
   ],
   "source": [
    "text.count('l')"
   ]
  },
  {
   "cell_type": "code",
   "execution_count": null,
   "id": "e056d224",
   "metadata": {},
   "outputs": [],
   "source": []
  },
  {
   "cell_type": "code",
   "execution_count": null,
   "id": "e2b1f68b",
   "metadata": {},
   "outputs": [],
   "source": [
    "# 특정원소가 몇 번째 인덱스에 있는지.."
   ]
  },
  {
   "cell_type": "code",
   "execution_count": 119,
   "id": "27aabb1b",
   "metadata": {},
   "outputs": [
    {
     "data": {
      "text/plain": [
       "3"
      ]
     },
     "execution_count": 119,
     "metadata": {},
     "output_type": "execute_result"
    }
   ],
   "source": [
    "text.find('l')"
   ]
  },
  {
   "cell_type": "code",
   "execution_count": 120,
   "id": "62c03793",
   "metadata": {
    "scrolled": true
   },
   "outputs": [
    {
     "data": {
      "text/plain": [
       "-1"
      ]
     },
     "execution_count": 120,
     "metadata": {},
     "output_type": "execute_result"
    }
   ],
   "source": [
    "text.find('x')"
   ]
  },
  {
   "cell_type": "code",
   "execution_count": null,
   "id": "7123e247",
   "metadata": {},
   "outputs": [],
   "source": []
  },
  {
   "cell_type": "markdown",
   "id": "18c4c093",
   "metadata": {},
   "source": [
    "### 2.List\n",
    "---\n",
    "- 주석다는법: 비주얼코드랑 같음\n",
    "- 형태:[...],  text[6] <-- 주소  [abc] <- 리스트 [a,b,c,] 원소\n",
    "- 원소의 수정 , 추가 , 삭제가 자유\n",
    "- 순번 인덱스가 붙는다. (0, 1, 2..) 역순 인데스일때 ( 1,-2..)\n",
    "- .slicing :.[st index: end index :(step)[건너뛰기]ex:2는 한칸], 마지막 인덱스의 값은 제외한다. ex (1:4가져오고 싶으면 하나+ 1:5)\n",
    "- 건너뛰어서 가져오는법 ex(3:6:2) 뒤에 :붙이고 숫자\n",
    "- 리스트의 길이: len() \n",
    "- find(),count(), in..\n",
    "- 원소 : 모든 데이터, 함수, 대부분의 객체\n",
    "---"
   ]
  },
  {
   "cell_type": "code",
   "execution_count": 8,
   "id": "466f31d0",
   "metadata": {
    "collapsed": true
   },
   "outputs": [
    {
     "ename": "TypeError",
     "evalue": "'str' object does not support item assignment",
     "output_type": "error",
     "traceback": [
      "\u001b[1;31m---------------------------------------------------------------------------\u001b[0m",
      "\u001b[1;31mTypeError\u001b[0m                                 Traceback (most recent call last)",
      "Input \u001b[1;32mIn [8]\u001b[0m, in \u001b[0;36m<cell line: 3>\u001b[1;34m()\u001b[0m\n\u001b[0;32m      1\u001b[0m \u001b[38;5;66;03m# string type은 원소의 수정 삭제 추가가 안된다.\u001b[39;00m\n\u001b[0;32m      2\u001b[0m txt \u001b[38;5;241m=\u001b[39m \u001b[38;5;124m'\u001b[39m\u001b[38;5;124mhello python\u001b[39m\u001b[38;5;124m'\u001b[39m\n\u001b[1;32m----> 3\u001b[0m txt[\u001b[38;5;241m-\u001b[39m\u001b[38;5;241m6\u001b[39m] \u001b[38;5;241m=\u001b[39m \u001b[38;5;124m'\u001b[39m\u001b[38;5;124ms\u001b[39m\u001b[38;5;124m'\u001b[39m\n",
      "\u001b[1;31mTypeError\u001b[0m: 'str' object does not support item assignment"
     ]
    }
   ],
   "source": [
    "# string type은 원소의 수정 삭제 추가가 안된다.\n",
    "txt = 'hello python'\n",
    "txt[-6] = 's'\n"
   ]
  },
  {
   "cell_type": "code",
   "execution_count": 8,
   "id": "2d24ceb4",
   "metadata": {},
   "outputs": [],
   "source": [
    "score = [80, 90, 75, 88, 92]"
   ]
  },
  {
   "cell_type": "code",
   "execution_count": 9,
   "id": "27afd4a9",
   "metadata": {},
   "outputs": [
    {
     "data": {
      "text/plain": [
       "[80, 90, 75, 88, 92]"
      ]
     },
     "execution_count": 9,
     "metadata": {},
     "output_type": "execute_result"
    }
   ],
   "source": [
    "score"
   ]
  },
  {
   "cell_type": "code",
   "execution_count": 11,
   "id": "06148fa3",
   "metadata": {},
   "outputs": [],
   "source": [
    "score = ['a', '가', 123, 10.5]"
   ]
  },
  {
   "cell_type": "code",
   "execution_count": 12,
   "id": "28f91224",
   "metadata": {},
   "outputs": [
    {
     "data": {
      "text/plain": [
       "['a', '가', 123, 10.5]"
      ]
     },
     "execution_count": 12,
     "metadata": {},
     "output_type": "execute_result"
    }
   ],
   "source": [
    "score"
   ]
  },
  {
   "cell_type": "code",
   "execution_count": 14,
   "id": "3ff097b0",
   "metadata": {},
   "outputs": [],
   "source": [
    "score = [80, 90 ,75 ,88 ,92]"
   ]
  },
  {
   "cell_type": "code",
   "execution_count": 17,
   "id": "ddc7cc97",
   "metadata": {},
   "outputs": [
    {
     "data": {
      "text/plain": [
       "100"
      ]
     },
     "execution_count": 17,
     "metadata": {},
     "output_type": "execute_result"
    }
   ],
   "source": [
    "score[2]"
   ]
  },
  {
   "cell_type": "code",
   "execution_count": 19,
   "id": "56f661e0",
   "metadata": {},
   "outputs": [
    {
     "data": {
      "text/plain": [
       "[80, 90, 100, 88, 92]"
      ]
     },
     "execution_count": 19,
     "metadata": {},
     "output_type": "execute_result"
    }
   ],
   "source": [
    "score[2] =100\n",
    "score"
   ]
  },
  {
   "cell_type": "code",
   "execution_count": 20,
   "id": "16d27b68",
   "metadata": {},
   "outputs": [
    {
     "data": {
      "text/plain": [
       "[90, 100, 88]"
      ]
     },
     "execution_count": 20,
     "metadata": {},
     "output_type": "execute_result"
    }
   ],
   "source": [
    "score[1:4]"
   ]
  },
  {
   "cell_type": "code",
   "execution_count": 22,
   "id": "e42ea2d9",
   "metadata": {},
   "outputs": [],
   "source": [
    "score = [45, 21 ,45 ,87 ,56 ,35, 21, 58, 96, 21, 45]"
   ]
  },
  {
   "cell_type": "code",
   "execution_count": 23,
   "id": "f03922b9",
   "metadata": {},
   "outputs": [
    {
     "data": {
      "text/plain": [
       "[45, 21, 45]"
      ]
     },
     "execution_count": 23,
     "metadata": {},
     "output_type": "execute_result"
    }
   ],
   "source": [
    "score[:3]"
   ]
  },
  {
   "cell_type": "code",
   "execution_count": 24,
   "id": "9e55abc8",
   "metadata": {},
   "outputs": [
    {
     "data": {
      "text/plain": [
       "[58, 96, 21, 45]"
      ]
     },
     "execution_count": 24,
     "metadata": {},
     "output_type": "execute_result"
    }
   ],
   "source": [
    "score[-4:]"
   ]
  },
  {
   "cell_type": "code",
   "execution_count": 25,
   "id": "9213f4a8",
   "metadata": {},
   "outputs": [
    {
     "data": {
      "text/plain": [
       "[45, 21, 45, 87, 56, 35, 21]"
      ]
     },
     "execution_count": 25,
     "metadata": {},
     "output_type": "execute_result"
    }
   ],
   "source": [
    "score[:7]"
   ]
  },
  {
   "cell_type": "code",
   "execution_count": 26,
   "id": "d7242e55",
   "metadata": {},
   "outputs": [
    {
     "data": {
      "text/plain": [
       "[45, 56, 21, 96]"
      ]
     },
     "execution_count": 26,
     "metadata": {},
     "output_type": "execute_result"
    }
   ],
   "source": [
    "score[2:9:2]"
   ]
  },
  {
   "cell_type": "code",
   "execution_count": null,
   "id": "94f2a7d8",
   "metadata": {},
   "outputs": [],
   "source": []
  },
  {
   "cell_type": "code",
   "execution_count": 30,
   "id": "c33e7560",
   "metadata": {},
   "outputs": [
    {
     "data": {
      "text/plain": [
       "[1, 3, 5, 7, 9, 2, 4, 6, 8]"
      ]
     },
     "execution_count": 30,
     "metadata": {},
     "output_type": "execute_result"
    }
   ],
   "source": [
    "L = [1,3,5,7,9]\n",
    "M = [2,4,6,8]\n",
    "L + M"
   ]
  },
  {
   "cell_type": "code",
   "execution_count": 27,
   "id": "47cf3564",
   "metadata": {},
   "outputs": [
    {
     "data": {
      "text/plain": [
       "'hello pythonhello world'"
      ]
     },
     "execution_count": 27,
     "metadata": {},
     "output_type": "execute_result"
    }
   ],
   "source": [
    "txt1 = 'hello python'\n",
    "txt2 = 'hello world'\n",
    "txt1 + txt2 #텍스트 이어주기"
   ]
  },
  {
   "cell_type": "code",
   "execution_count": 32,
   "id": "1c594a93",
   "metadata": {},
   "outputs": [
    {
     "data": {
      "text/plain": [
       "[1, 3, 5, 7, 9, 2, 4, 6, 8, 2, 4, 6, 8, 2, 4, 6, 8]"
      ]
     },
     "execution_count": 32,
     "metadata": {},
     "output_type": "execute_result"
    }
   ],
   "source": [
    "L *3"
   ]
  },
  {
   "cell_type": "code",
   "execution_count": 33,
   "id": "442d0aae",
   "metadata": {},
   "outputs": [
    {
     "data": {
      "text/plain": [
       "'hello pythonhello pythonhello python'"
      ]
     },
     "execution_count": 33,
     "metadata": {},
     "output_type": "execute_result"
    }
   ],
   "source": [
    "txt1 *3"
   ]
  },
  {
   "cell_type": "code",
   "execution_count": 34,
   "id": "4150a68b",
   "metadata": {},
   "outputs": [
    {
     "data": {
      "text/plain": [
       "True"
      ]
     },
     "execution_count": 34,
     "metadata": {},
     "output_type": "execute_result"
    }
   ],
   "source": [
    "5 in L"
   ]
  },
  {
   "cell_type": "code",
   "execution_count": 35,
   "id": "e033d7c9",
   "metadata": {},
   "outputs": [
    {
     "data": {
      "text/plain": [
       "5"
      ]
     },
     "execution_count": 35,
     "metadata": {},
     "output_type": "execute_result"
    }
   ],
   "source": [
    "len(L)"
   ]
  },
  {
   "cell_type": "code",
   "execution_count": 36,
   "id": "1c0e47b8",
   "metadata": {},
   "outputs": [
    {
     "data": {
      "text/plain": [
       "12"
      ]
     },
     "execution_count": 36,
     "metadata": {},
     "output_type": "execute_result"
    }
   ],
   "source": [
    "len(txt1)"
   ]
  },
  {
   "cell_type": "code",
   "execution_count": null,
   "id": "8a61c17e",
   "metadata": {},
   "outputs": [],
   "source": []
  },
  {
   "cell_type": "code",
   "execution_count": null,
   "id": "d068d3c9",
   "metadata": {},
   "outputs": [],
   "source": [
    "# packing / unpacking"
   ]
  },
  {
   "cell_type": "code",
   "execution_count": 40,
   "id": "fe473110",
   "metadata": {},
   "outputs": [
    {
     "data": {
      "text/plain": [
       "[1, 2, 3, 4, 5]"
      ]
     },
     "execution_count": 40,
     "metadata": {},
     "output_type": "execute_result"
    }
   ],
   "source": [
    "a = [1,2,3,4,5]\n",
    "a\n"
   ]
  },
  {
   "cell_type": "code",
   "execution_count": null,
   "id": "b8eee8ea",
   "metadata": {},
   "outputs": [],
   "source": [
    "# a* -> 가변변수 : 여러값을 저장할수 있는 변수"
   ]
  },
  {
   "cell_type": "code",
   "execution_count": 127,
   "id": "87ba8877",
   "metadata": {},
   "outputs": [
    {
     "name": "stdout",
     "output_type": "stream",
     "text": [
      "1\n",
      "[2, 3, 4, 5]\n"
     ]
    }
   ],
   "source": [
    "L = [1,2,3,4,5]\n",
    "a, *b = L\n",
    "print(a)\n",
    "print(b)"
   ]
  },
  {
   "cell_type": "code",
   "execution_count": 132,
   "id": "90ec05ca",
   "metadata": {
    "scrolled": false
   },
   "outputs": [
    {
     "name": "stdout",
     "output_type": "stream",
     "text": [
      "1\n",
      "[2, 3, 4, 5]\n"
     ]
    }
   ],
   "source": [
    "a = L[0]\n",
    "b = L[1:]\n",
    "\n",
    "print(a)\n",
    "print(b)"
   ]
  },
  {
   "cell_type": "code",
   "execution_count": 78,
   "id": "3e3a17e3",
   "metadata": {},
   "outputs": [],
   "source": [
    "L = [8,8,7,5,1,2,5]"
   ]
  },
  {
   "cell_type": "markdown",
   "id": "f4d2d083",
   "metadata": {},
   "source": [
    "# 리스트 주요 함수!\n",
    "\n",
    "#내장함수\n",
    "\n",
    "sum() - (평균값) 합집합 / 인자 : iterable한 자료형을 받으며 numeric 해야합니다. \n",
    "즉, 리스트나 튜플 처럼 인덱스 순환 접근이 가능한 자료형이고 내부에 숫자로만 이루어져 있어야합니다. \n",
    "여기서 숫자는 정수, 실수 둘다 가능입니다\n",
    "반환형 : 인자로 들어온 iterable 내부 모든 요소의 합\n",
    "\n",
    "max() - 인수로 받은 자료형 내에서 최대값을 찾아서 반환하는 함수(iterable 데이터 타입을 인자로 받아서 그중 가장 값이 큰 것을 반환하는 함수이며) 기본형 : max(iterable)  매개변수 : 반복이 가능한 자료형 반환형 매개변수출처 로 들어온 인자 내부에서 제일 큰 값을 반환합니다\n",
    "\n",
    "응용형 : max(iterable1, iterable2, ...)매개변수 : 반복이 가능한 자료형 '들'반환형 : 매개변수로 들어온 반복이 가능한 인자들 중에 가장 큰 데이터를 반환합니다.\n",
    "\n",
    "min() - 인수로 받은 자료형 내에서 최소값을 찾아서 반환하는 함수  \n",
    "기본형 : min(iterable)  매개변수 : 반복이 가능한 자료형 반환형 : 매개변수로 들어온 인자 내부에서 제일 작은 값을 반환합니다.\n",
    " \n",
    "응용형 : min(iterable1, iterable2, ...)매개변수 : 반복이 가능한 자료형 '들'반환형 : 매개변수로 들어온 반복이 가능한 인자들 중에 가장 작은 인자(덩어리)을 반환합니다.\n",
    "여기서 반환형은 iterable1내부에 가장 작은 값이 아니라, iterable1 과 iterable2 중에 작은걸 반환한다는 것 입니다.\n",
    "\n",
    "sorted() - 올림차순 정렬, 원본을 바꾸지 않고 결과만 바꿔줌(리턴)\n",
    "len() - 원소의 길이\n",
    "append() - 리스트의 맨 끝에 새로운 원소를 추가할때 사용\n",
    "clear() - 원소를 지우는것\n",
    "copy() - 리스트 복사\n",
    "count() - 특정 원소의 갯수\n",
    "extend() - 리스트를 연결 ('+')\n",
    "index() - 특정 원소에  위치(index)값을 리턴  리스트에서 특정 원소의 인덱스를 찾아주는 함수 문자열에서도 인덱스를 찾을 수 있음\n",
    "중복된 원소가 있으면 가장 작은 인덱스를 리턴\n",
    "insert() - 특정 위치에 값을 추가할때\n",
    "pop() - 특정 위치의 값을 제거할때 (인데스값)을 제거remove() - 특정 데이터를 제거(위치값) 데이터 자체를 제거\n",
    "reverse() - 순서를 반대로 바꾸는것\n",
    "sort() - 올림차순 정렬, 원본을 바꾸지만 결과는 리턴하지않음 그대로\n",
    "in 값에 존재를 확인\n",
    "not in  값에 존재가 없는지 확인\n",
    "값을 이어줄때 + ex: sol + sol1\n",
    "del - 완전 삭제\n",
    "\n",
    "---"
   ]
  },
  {
   "cell_type": "code",
   "execution_count": 6,
   "id": "78c8afdc",
   "metadata": {},
   "outputs": [],
   "source": [
    "# find( ) 차이점\n",
    "\n",
    "# 찾는 문자가 없는 경우에 -1을 출력한다.\n",
    "\n",
    "# 문자열을 찾을 수 있는 변수는 문자열만 사용이 가능하다.  리스트, 튜플, 딕셔너리 자료형에서는 find 함수를 사용할 수 없다. 만일 사용하게 되면 AttributeError 에러가 발생한다.\n",
    "\n",
    "\n",
    "#2-2) index( ) 차이점\n",
    "\n",
    "# 찾는 문자가 없는 경우에 ValueError 에러가 발생한다.\n",
    "\n",
    "# 문자열, 리스트, 튜플 자료형에서 사용 가능하고 딕셔너리 자료형에는 사용할 수 없어 AttributeError 에러가 발생한다."
   ]
  },
  {
   "cell_type": "code",
   "execution_count": 79,
   "id": "cb5d9c66",
   "metadata": {},
   "outputs": [
    {
     "data": {
      "text/plain": [
       "7"
      ]
     },
     "execution_count": 79,
     "metadata": {},
     "output_type": "execute_result"
    }
   ],
   "source": [
    "len(L)"
   ]
  },
  {
   "cell_type": "code",
   "execution_count": 80,
   "id": "52434b99",
   "metadata": {
    "collapsed": true
   },
   "outputs": [
    {
     "data": {
      "text/plain": [
       "36"
      ]
     },
     "execution_count": 80,
     "metadata": {},
     "output_type": "execute_result"
    }
   ],
   "source": [
    "sum(L)"
   ]
  },
  {
   "cell_type": "code",
   "execution_count": 81,
   "id": "53fab59d",
   "metadata": {
    "collapsed": true
   },
   "outputs": [
    {
     "data": {
      "text/plain": [
       "8"
      ]
     },
     "execution_count": 81,
     "metadata": {},
     "output_type": "execute_result"
    }
   ],
   "source": [
    "max(L)"
   ]
  },
  {
   "cell_type": "code",
   "execution_count": 82,
   "id": "74d41118",
   "metadata": {},
   "outputs": [
    {
     "data": {
      "text/plain": [
       "1"
      ]
     },
     "execution_count": 82,
     "metadata": {},
     "output_type": "execute_result"
    }
   ],
   "source": [
    "min(L)"
   ]
  },
  {
   "cell_type": "code",
   "execution_count": 83,
   "id": "9e0e15d1",
   "metadata": {
    "scrolled": true
   },
   "outputs": [
    {
     "data": {
      "text/plain": [
       "[1, 2, 5, 5, 7, 8, 8]"
      ]
     },
     "execution_count": 83,
     "metadata": {},
     "output_type": "execute_result"
    }
   ],
   "source": [
    "sorted(L) # 정렬한 결과값을 리턴"
   ]
  },
  {
   "cell_type": "code",
   "execution_count": 84,
   "id": "1aed28ce",
   "metadata": {
    "collapsed": true
   },
   "outputs": [
    {
     "data": {
      "text/plain": [
       "[8, 8, 7, 5, 1, 2, 5]"
      ]
     },
     "execution_count": 84,
     "metadata": {},
     "output_type": "execute_result"
    }
   ],
   "source": [
    "L # 원본은 반영이 안 됨."
   ]
  },
  {
   "cell_type": "code",
   "execution_count": 85,
   "id": "07360a20",
   "metadata": {},
   "outputs": [],
   "source": [
    "L.sort() # 결과를 리턴하지않음"
   ]
  },
  {
   "cell_type": "code",
   "execution_count": 86,
   "id": "2cba5a3f",
   "metadata": {
    "collapsed": true
   },
   "outputs": [
    {
     "data": {
      "text/plain": [
       "[1, 2, 5, 5, 7, 8, 8]"
      ]
     },
     "execution_count": 86,
     "metadata": {},
     "output_type": "execute_result"
    }
   ],
   "source": [
    "L # 원본을 바꿈"
   ]
  },
  {
   "cell_type": "code",
   "execution_count": null,
   "id": "2115a5d8",
   "metadata": {},
   "outputs": [],
   "source": []
  },
  {
   "cell_type": "code",
   "execution_count": 87,
   "id": "0b0f4dae",
   "metadata": {
    "collapsed": true
   },
   "outputs": [
    {
     "data": {
      "text/plain": [
       "[]"
      ]
     },
     "execution_count": 87,
     "metadata": {},
     "output_type": "execute_result"
    }
   ],
   "source": [
    "L = []\n",
    "L"
   ]
  },
  {
   "cell_type": "code",
   "execution_count": 90,
   "id": "fae35a19",
   "metadata": {
    "collapsed": true
   },
   "outputs": [
    {
     "data": {
      "text/plain": [
       "[]"
      ]
     },
     "execution_count": 90,
     "metadata": {},
     "output_type": "execute_result"
    }
   ],
   "source": [
    "L = list()\n",
    "L"
   ]
  },
  {
   "cell_type": "code",
   "execution_count": 5,
   "id": "e9e43e17",
   "metadata": {
    "collapsed": true
   },
   "outputs": [
    {
     "data": {
      "text/plain": [
       "[1, 3, 5, 7, 9, 'a', 13, 1.5, ['a', 'b', 'c']]"
      ]
     },
     "execution_count": 5,
     "metadata": {},
     "output_type": "execute_result"
    }
   ],
   "source": [
    "# append() - 맨 뒤로 추가..\n",
    "\n",
    "L.append('a')\n",
    "L.append(13)\n",
    "L.append(1.5)\n",
    "L.append(['a','b','c'])\n",
    "L"
   ]
  },
  {
   "cell_type": "code",
   "execution_count": 6,
   "id": "9fd64375",
   "metadata": {
    "scrolled": false
   },
   "outputs": [
    {
     "data": {
      "text/plain": [
       "[1, '가방', 3, 5, 7, 9, 'a', 13, 1.5, ['a', 'b', 'c']]"
      ]
     },
     "execution_count": 6,
     "metadata": {},
     "output_type": "execute_result"
    }
   ],
   "source": [
    "# insert(인덱스,데이터 - 특정 위치에 데이터 추가)\n",
    "# index = 위치값 = 주소\n",
    "\n",
    "L.insert(1, '가방')\n",
    "L"
   ]
  },
  {
   "cell_type": "code",
   "execution_count": null,
   "id": "490d5c77",
   "metadata": {},
   "outputs": [],
   "source": []
  },
  {
   "cell_type": "code",
   "execution_count": 7,
   "id": "ed490be5",
   "metadata": {
    "collapsed": true
   },
   "outputs": [
    {
     "data": {
      "text/plain": [
       "8"
      ]
     },
     "execution_count": 7,
     "metadata": {},
     "output_type": "execute_result"
    }
   ],
   "source": [
    "L.index(1.5)"
   ]
  },
  {
   "cell_type": "code",
   "execution_count": 8,
   "id": "d30f80f6",
   "metadata": {
    "scrolled": true
   },
   "outputs": [
    {
     "data": {
      "text/plain": [
       "[1, '가방', 3, 5, 7, 9, 'a', 13, 1.5, ['a', 'b', 'c'], '가방']"
      ]
     },
     "execution_count": 8,
     "metadata": {},
     "output_type": "execute_result"
    }
   ],
   "source": [
    "L.append('가방')\n",
    "L"
   ]
  },
  {
   "cell_type": "code",
   "execution_count": 12,
   "id": "977539be",
   "metadata": {
    "scrolled": true
   },
   "outputs": [
    {
     "data": {
      "text/plain": [
       "2"
      ]
     },
     "execution_count": 12,
     "metadata": {},
     "output_type": "execute_result"
    }
   ],
   "source": [
    "L.count('가방')"
   ]
  },
  {
   "cell_type": "code",
   "execution_count": 14,
   "id": "f45555cf",
   "metadata": {},
   "outputs": [],
   "source": [
    "L = [2,3,5,6,7,5,4,8]"
   ]
  },
  {
   "cell_type": "code",
   "execution_count": 15,
   "id": "7ebc01b7",
   "metadata": {
    "collapsed": true
   },
   "outputs": [
    {
     "data": {
      "text/plain": [
       "[2, 3, 4, 5, 5, 6, 7, 8]"
      ]
     },
     "execution_count": 15,
     "metadata": {},
     "output_type": "execute_result"
    }
   ],
   "source": [
    "L.sort()\n",
    "L"
   ]
  },
  {
   "cell_type": "code",
   "execution_count": 16,
   "id": "32d57520",
   "metadata": {
    "collapsed": true
   },
   "outputs": [
    {
     "data": {
      "text/plain": [
       "[8, 7, 6, 5, 5, 4, 3, 2]"
      ]
     },
     "execution_count": 16,
     "metadata": {},
     "output_type": "execute_result"
    }
   ],
   "source": [
    "L.reverse()  # 순서를 바꾼다..\n",
    "L"
   ]
  },
  {
   "cell_type": "code",
   "execution_count": 18,
   "id": "ebfb7900",
   "metadata": {
    "collapsed": true
   },
   "outputs": [
    {
     "data": {
      "text/plain": [
       "[8, 7, 6, 5, 4, 3, 2]"
      ]
     },
     "execution_count": 18,
     "metadata": {},
     "output_type": "execute_result"
    }
   ],
   "source": [
    "L.pop(3) # 인덱스 기준 삭제\n",
    "L"
   ]
  },
  {
   "cell_type": "code",
   "execution_count": 19,
   "id": "44b2d43a",
   "metadata": {},
   "outputs": [],
   "source": [
    "L.remove(4) #데이터값 기준 삭제"
   ]
  },
  {
   "cell_type": "code",
   "execution_count": 20,
   "id": "537908ab",
   "metadata": {
    "collapsed": true
   },
   "outputs": [
    {
     "data": {
      "text/plain": [
       "[8, 7, 6, 5, 3, 2]"
      ]
     },
     "execution_count": 20,
     "metadata": {},
     "output_type": "execute_result"
    }
   ],
   "source": [
    "L"
   ]
  },
  {
   "cell_type": "code",
   "execution_count": 21,
   "id": "e1ab8bb1",
   "metadata": {
    "collapsed": true
   },
   "outputs": [
    {
     "data": {
      "text/plain": [
       "['a', 'b', 'b', 'd', '가', '나', '다', '라']"
      ]
     },
     "execution_count": 21,
     "metadata": {},
     "output_type": "execute_result"
    }
   ],
   "source": [
    "L1 = ['a','b','b','d']\n",
    "L2 = ['가','나','다','라']\n",
    "L1 + L2"
   ]
  },
  {
   "cell_type": "code",
   "execution_count": 22,
   "id": "e26ad4b9",
   "metadata": {
    "collapsed": true
   },
   "outputs": [
    {
     "data": {
      "text/plain": [
       "['a', 'b', 'b', 'd', '가', '나', '다', '라']"
      ]
     },
     "execution_count": 22,
     "metadata": {},
     "output_type": "execute_result"
    }
   ],
   "source": [
    "L1.extend(L2) # L1에 L2를 추가 / L1이 바뀐다.\n",
    "L1"
   ]
  },
  {
   "cell_type": "code",
   "execution_count": 24,
   "id": "468567f3",
   "metadata": {
    "scrolled": false
   },
   "outputs": [
    {
     "data": {
      "text/plain": [
       "[]"
      ]
     },
     "execution_count": 24,
     "metadata": {},
     "output_type": "execute_result"
    }
   ],
   "source": [
    "L1.clear() #삭제 완전 삭제 x (리스트는 남음 []) 완전 삭제는 del\n",
    "L1"
   ]
  },
  {
   "cell_type": "code",
   "execution_count": null,
   "id": "f7cf8a09",
   "metadata": {},
   "outputs": [],
   "source": []
  },
  {
   "cell_type": "code",
   "execution_count": 2,
   "id": "58212157",
   "metadata": {},
   "outputs": [
    {
     "data": {
      "text/plain": [
       "2297894462848"
      ]
     },
     "execution_count": 2,
     "metadata": {},
     "output_type": "execute_result"
    }
   ],
   "source": [
    "L = [1,3,5,7,9]\n",
    "id(L) # id(): 컴퓨터 메모리 상의 물리적 주소"
   ]
  },
  {
   "cell_type": "code",
   "execution_count": 3,
   "id": "0ef04b0a",
   "metadata": {},
   "outputs": [],
   "source": [
    "M = L #L이라는 리스트를 M이라는 변수에 저장"
   ]
  },
  {
   "cell_type": "code",
   "execution_count": 4,
   "id": "3a484414",
   "metadata": {},
   "outputs": [
    {
     "data": {
      "text/plain": [
       "2297894462848"
      ]
     },
     "execution_count": 4,
     "metadata": {},
     "output_type": "execute_result"
    }
   ],
   "source": [
    "id(M) "
   ]
  },
  {
   "cell_type": "code",
   "execution_count": 5,
   "id": "c6d96e1a",
   "metadata": {},
   "outputs": [
    {
     "data": {
      "text/plain": [
       "2297894462848"
      ]
     },
     "execution_count": 5,
     "metadata": {},
     "output_type": "execute_result"
    }
   ],
   "source": [
    "id(M)"
   ]
  },
  {
   "cell_type": "code",
   "execution_count": 6,
   "id": "acb1e1c8",
   "metadata": {},
   "outputs": [
    {
     "data": {
      "text/plain": [
       "2297866315904"
      ]
     },
     "execution_count": 6,
     "metadata": {},
     "output_type": "execute_result"
    }
   ],
   "source": [
    "M = L.copy()\n",
    "id(M)"
   ]
  },
  {
   "cell_type": "code",
   "execution_count": null,
   "id": "a5d48df9",
   "metadata": {},
   "outputs": [],
   "source": []
  },
  {
   "cell_type": "markdown",
   "id": "75e3f589",
   "metadata": {},
   "source": [
    "### list example\n",
    "---"
   ]
  },
  {
   "cell_type": "code",
   "execution_count": 2,
   "id": "bb1f2a4c",
   "metadata": {},
   "outputs": [],
   "source": [
    "sol = ['태양','수성','금성','지구','화성','목성','토성','천왕성','해왕성','지구']\n",
    "sol1 = ['토성','천왕성','해왕성']       "
   ]
  },
  {
   "cell_type": "code",
   "execution_count": 3,
   "id": "eaf23aaf",
   "metadata": {},
   "outputs": [
    {
     "data": {
      "text/plain": [
       "['수성', '금성', '지구']"
      ]
     },
     "execution_count": 3,
     "metadata": {},
     "output_type": "execute_result"
    }
   ],
   "source": [
    "# sol에서 ['수성','금성','지구']를 출력하시오.\n",
    "sol[1:4]"
   ]
  },
  {
   "cell_type": "code",
   "execution_count": 4,
   "id": "ec436d23",
   "metadata": {},
   "outputs": [
    {
     "data": {
      "text/plain": [
       "['해왕성', '지구']"
      ]
     },
     "execution_count": 4,
     "metadata": {},
     "output_type": "execute_result"
    }
   ],
   "source": [
    "# sol에서 ['해왕성','지구']를 가져오시오.\n",
    "sol[-2:]"
   ]
  },
  {
   "cell_type": "code",
   "execution_count": 5,
   "id": "32d4cc2c",
   "metadata": {},
   "outputs": [
    {
     "data": {
      "text/plain": [
       "['수성', '지구', '목성', '천왕성', '지구']"
      ]
     },
     "execution_count": 5,
     "metadata": {},
     "output_type": "execute_result"
    }
   ],
   "source": [
    "# sol에서 홀수 인덱스 값을 모두 가져오시오.\n",
    "sol[1:20:2]"
   ]
  },
  {
   "cell_type": "code",
   "execution_count": 6,
   "id": "7e6abd10",
   "metadata": {},
   "outputs": [
    {
     "data": {
      "text/plain": [
       "'화성'"
      ]
     },
     "execution_count": 6,
     "metadata": {},
     "output_type": "execute_result"
    }
   ],
   "source": [
    "# '화성'을 출력하시오.\n",
    "idx = sol.index('화성')\n",
    "sol[idx]"
   ]
  },
  {
   "cell_type": "code",
   "execution_count": 7,
   "id": "b586f318",
   "metadata": {},
   "outputs": [
    {
     "data": {
      "text/plain": [
       "3"
      ]
     },
     "execution_count": 7,
     "metadata": {},
     "output_type": "execute_result"
    }
   ],
   "source": [
    "# '지구'의 인덱스 값을 출력\n",
    "sol.index('지구')"
   ]
  },
  {
   "cell_type": "code",
   "execution_count": 8,
   "id": "cd124077",
   "metadata": {},
   "outputs": [
    {
     "data": {
      "text/plain": [
       "['태양', '수성', '금성', '지구', '화성', '목성', '토성', '천왕성', '해왕성', '지구', '해왕성']"
      ]
     },
     "execution_count": 8,
     "metadata": {},
     "output_type": "execute_result"
    }
   ],
   "source": [
    "# sol 맨 뒤에 '해왕성'을 삽입하시오\n",
    "sol.append('해왕성')\n",
    "sol"
   ]
  },
  {
   "cell_type": "code",
   "execution_count": 9,
   "id": "80ca3fd2",
   "metadata": {},
   "outputs": [
    {
     "data": {
      "text/plain": [
       "['태양', '수성', '금성', '화성', '목성', '토성', '천왕성', '해왕성', '지구', '해왕성']"
      ]
     },
     "execution_count": 9,
     "metadata": {},
     "output_type": "execute_result"
    }
   ],
   "source": [
    "# 3번 인덱스의 값을 삭제하시오.\n",
    "sol.pop(3)\n",
    "sol"
   ]
  },
  {
   "cell_type": "code",
   "execution_count": 10,
   "id": "923c0bbd",
   "metadata": {},
   "outputs": [
    {
     "data": {
      "text/plain": [
       "['태양', '수성', '금성', '화성', '목성', '천왕성', '해왕성', '지구', '해왕성']"
      ]
     },
     "execution_count": 10,
     "metadata": {},
     "output_type": "execute_result"
    }
   ],
   "source": [
    "# '토성'을 삭제하시오.\n",
    "sol.remove('토성')\n",
    "sol"
   ]
  },
  {
   "cell_type": "code",
   "execution_count": 11,
   "id": "6232ba41",
   "metadata": {},
   "outputs": [],
   "source": [
    "# sol.remove('수성')\n",
    "# sol.remove(sol[1]) 다른방식 삭제 결과는 둘다 같음 "
   ]
  },
  {
   "cell_type": "code",
   "execution_count": 12,
   "id": "26af6918",
   "metadata": {},
   "outputs": [
    {
     "data": {
      "text/plain": [
       "['금성', '목성', '수성', '지구', '천왕성', '태양', '해왕성', '해왕성', '화성']"
      ]
     },
     "execution_count": 12,
     "metadata": {},
     "output_type": "execute_result"
    }
   ],
   "source": [
    "sorted(sol) #solt"
   ]
  },
  {
   "cell_type": "code",
   "execution_count": 13,
   "id": "18e7d7d5",
   "metadata": {},
   "outputs": [
    {
     "data": {
      "text/plain": [
       "False"
      ]
     },
     "execution_count": 13,
     "metadata": {},
     "output_type": "execute_result"
    }
   ],
   "source": [
    "# sol '달'이 있는지 확인하시오\n",
    "'달' in sol #데이터 존재확인 in"
   ]
  },
  {
   "cell_type": "code",
   "execution_count": 14,
   "id": "ef09e534",
   "metadata": {},
   "outputs": [
    {
     "data": {
      "text/plain": [
       "True"
      ]
     },
     "execution_count": 14,
     "metadata": {},
     "output_type": "execute_result"
    }
   ],
   "source": [
    "'달' not in sol #데이터가 없는지 확인 not in"
   ]
  },
  {
   "cell_type": "code",
   "execution_count": 15,
   "id": "158955fb",
   "metadata": {},
   "outputs": [
    {
     "data": {
      "text/plain": [
       "9"
      ]
     },
     "execution_count": 15,
     "metadata": {},
     "output_type": "execute_result"
    }
   ],
   "source": [
    "#sol의 길이를 구하시오.\n",
    "len(sol)"
   ]
  },
  {
   "cell_type": "code",
   "execution_count": 16,
   "id": "af9a3d10",
   "metadata": {},
   "outputs": [
    {
     "data": {
      "text/plain": [
       "['태양', '수성', '금성', '화성', '목성', '천왕성', '해왕성', '지구', '해왕성']"
      ]
     },
     "execution_count": 16,
     "metadata": {},
     "output_type": "execute_result"
    }
   ],
   "source": [
    "sol"
   ]
  },
  {
   "cell_type": "code",
   "execution_count": 17,
   "id": "d1e4c7af",
   "metadata": {},
   "outputs": [
    {
     "data": {
      "text/plain": [
       "2"
      ]
     },
     "execution_count": 17,
     "metadata": {},
     "output_type": "execute_result"
    }
   ],
   "source": [
    "# 해왕성이 몇 번 포함 되어 있는지 확인하시오.\n",
    "sol.count('해왕성')"
   ]
  },
  {
   "cell_type": "code",
   "execution_count": 18,
   "id": "bbae8031",
   "metadata": {},
   "outputs": [
    {
     "data": {
      "text/plain": [
       "['태양', '수성', '금성', '화성', '목성', '천왕성', '해왕성', '지구', '해왕성', '토성', '천왕성', '해왕성']"
      ]
     },
     "execution_count": 18,
     "metadata": {},
     "output_type": "execute_result"
    }
   ],
   "source": [
    "# sol과 sol1을 이으시오.\n",
    "sol + sol1"
   ]
  },
  {
   "cell_type": "code",
   "execution_count": 19,
   "id": "9ba1e83b",
   "metadata": {},
   "outputs": [
    {
     "data": {
      "text/plain": [
       "['태양', '수성', '금성', '화성', '목성', '천왕성', '해왕성', '지구', '해왕성', '토성', '천왕성', '해왕성']"
      ]
     },
     "execution_count": 19,
     "metadata": {},
     "output_type": "execute_result"
    }
   ],
   "source": [
    "# sol에 sol1을 이어 붙이시오.\n",
    "sol.extend(sol1)\n",
    "sol"
   ]
  },
  {
   "cell_type": "code",
   "execution_count": 20,
   "id": "2915630a",
   "metadata": {},
   "outputs": [
    {
     "data": {
      "text/plain": [
       "[]"
      ]
     },
     "execution_count": 20,
     "metadata": {},
     "output_type": "execute_result"
    }
   ],
   "source": [
    "# sol의 원소를 모두 지우시오.\n",
    "sol.clear()\n",
    "sol # 빈 리스트 출력됨 [] 완전 삭제는 X "
   ]
  },
  {
   "cell_type": "code",
   "execution_count": 21,
   "id": "68791240",
   "metadata": {},
   "outputs": [],
   "source": [
    "del sol # 완전 삭제"
   ]
  },
  {
   "cell_type": "code",
   "execution_count": 22,
   "id": "93368eaa",
   "metadata": {
    "collapsed": true
   },
   "outputs": [
    {
     "ename": "NameError",
     "evalue": "name 'sol' is not defined",
     "output_type": "error",
     "traceback": [
      "\u001b[1;31m---------------------------------------------------------------------------\u001b[0m",
      "\u001b[1;31mNameError\u001b[0m                                 Traceback (most recent call last)",
      "Input \u001b[1;32mIn [22]\u001b[0m, in \u001b[0;36m<cell line: 1>\u001b[1;34m()\u001b[0m\n\u001b[1;32m----> 1\u001b[0m \u001b[43msol\u001b[49m\u001b[38;5;241m.\u001b[39mpop(\u001b[38;5;241m-\u001b[39m\u001b[38;5;241m1\u001b[39m)\n",
      "\u001b[1;31mNameError\u001b[0m: name 'sol' is not defined"
     ]
    }
   ],
   "source": [
    "sol.pop(-1) # 삭제해서 안뜸"
   ]
  },
  {
   "cell_type": "code",
   "execution_count": 23,
   "id": "be60b51a",
   "metadata": {
    "collapsed": true
   },
   "outputs": [
    {
     "ename": "NameError",
     "evalue": "name 'sol' is not defined",
     "output_type": "error",
     "traceback": [
      "\u001b[1;31m---------------------------------------------------------------------------\u001b[0m",
      "\u001b[1;31mNameError\u001b[0m                                 Traceback (most recent call last)",
      "Input \u001b[1;32mIn [23]\u001b[0m, in \u001b[0;36m<cell line: 1>\u001b[1;34m()\u001b[0m\n\u001b[1;32m----> 1\u001b[0m \u001b[43msol\u001b[49m\n",
      "\u001b[1;31mNameError\u001b[0m: name 'sol' is not defined"
     ]
    }
   ],
   "source": [
    "sol # 완전 삭제로 안뜸"
   ]
  },
  {
   "cell_type": "code",
   "execution_count": 24,
   "id": "888748df",
   "metadata": {},
   "outputs": [],
   "source": [
    "listdata = [1,2, 'a','b','c',[4,5,6,]]"
   ]
  },
  {
   "cell_type": "code",
   "execution_count": 25,
   "id": "d8a3aa97",
   "metadata": {},
   "outputs": [
    {
     "data": {
      "text/plain": [
       "['a', 'c']"
      ]
     },
     "execution_count": 25,
     "metadata": {},
     "output_type": "execute_result"
    }
   ],
   "source": [
    "# 'a'와 'c' 를 출력하시오\n",
    "listdata[2:5:2]"
   ]
  },
  {
   "cell_type": "code",
   "execution_count": 26,
   "id": "38cab855",
   "metadata": {
    "scrolled": true
   },
   "outputs": [
    {
     "data": {
      "text/plain": [
       "5"
      ]
     },
     "execution_count": 26,
     "metadata": {},
     "output_type": "execute_result"
    }
   ],
   "source": [
    "# 5를 출력하시오..\n",
    "listdata[5][1] # 숫자5번에 1번을 가져오라는 뜻"
   ]
  },
  {
   "cell_type": "code",
   "execution_count": 27,
   "id": "68ecbf3c",
   "metadata": {},
   "outputs": [
    {
     "data": {
      "text/plain": [
       "[4, 5]"
      ]
     },
     "execution_count": 27,
     "metadata": {},
     "output_type": "execute_result"
    }
   ],
   "source": [
    "# [4,5]를 출력하시오\n",
    "listdata[5][0:2] # 숫자 5번을 가져오는데 한칸띄워서 4까지 가져오라\n",
    "listdata[5][:2] #같은뜻 5번에서 한칸뒤숫자까지 가져와라"
   ]
  },
  {
   "cell_type": "code",
   "execution_count": 28,
   "id": "91a0782d",
   "metadata": {},
   "outputs": [
    {
     "name": "stdout",
     "output_type": "stream",
     "text": [
      "6\n",
      "4\n",
      "5.0\n",
      "[4, 5, 6]\n"
     ]
    }
   ],
   "source": [
    "# 5번 인덱스에 있는 리스트를 최대값,최소값,평균값 오름차순 정렬해서 출력하세요.\n",
    "print(max(listdata[5])) \n",
    "print(min(listdata[5])) \n",
    "print(sum(listdata[5])/len(listdata[5]))\n",
    "print(sorted(listdata[5])) "
   ]
  },
  {
   "cell_type": "code",
   "execution_count": 29,
   "id": "108091f7",
   "metadata": {},
   "outputs": [
    {
     "data": {
      "text/plain": [
       "5.0"
      ]
     },
     "execution_count": 29,
     "metadata": {},
     "output_type": "execute_result"
    }
   ],
   "source": [
    "import numpy as np\n",
    "np.mean(listdata[5])"
   ]
  },
  {
   "cell_type": "code",
   "execution_count": null,
   "id": "5472fb56",
   "metadata": {},
   "outputs": [],
   "source": []
  },
  {
   "cell_type": "code",
   "execution_count": 30,
   "id": "1e9d7209",
   "metadata": {},
   "outputs": [
    {
     "name": "stdout",
     "output_type": "stream",
     "text": [
      "행성의 이름을 입력하세요목성\n"
     ]
    },
    {
     "data": {
      "text/plain": [
       "5"
      ]
     },
     "execution_count": 30,
     "metadata": {},
     "output_type": "execute_result"
    }
   ],
   "source": [
    "sol = ['태양','수성','금성','지구','화성','목성','토성','천왕성','해왕성','지구']\n",
    "\n",
    "# 행성의 이름을 입력받은 후 sol에 존재하면 해당 행성의 인덱스 주소값을 출력하고, 없으면 에러를 리턴하시오..\n",
    "\n",
    "name = input('행성의 이름을 입력하세요')\n",
    "sol.index(name)"
   ]
  },
  {
   "cell_type": "code",
   "execution_count": 31,
   "id": "13394023",
   "metadata": {},
   "outputs": [
    {
     "data": {
      "text/plain": [
       "['화성', '해왕성', '토성', '태양', '천왕성', '지구', '지구', '수성', '목성', '금성']"
      ]
     },
     "execution_count": 31,
     "metadata": {},
     "output_type": "execute_result"
    }
   ],
   "source": [
    "# sol의 순서를 내림차순으로 정렬하세요.\n",
    "\n",
    "sorted(sol, reverse=True)"
   ]
  },
  {
   "cell_type": "code",
   "execution_count": 32,
   "id": "b9be880d",
   "metadata": {},
   "outputs": [
    {
     "data": {
      "text/plain": [
       "['지구', '해왕성', '천왕성', '토성', '목성', '화성', '지구', '금성', '수성', '태양']"
      ]
     },
     "execution_count": 32,
     "metadata": {},
     "output_type": "execute_result"
    }
   ],
   "source": [
    "# sol의 순서를 반대로 바꾸시오.\n",
    "sol.reverse()\n",
    "sol"
   ]
  },
  {
   "cell_type": "code",
   "execution_count": null,
   "id": "5cd984ad",
   "metadata": {},
   "outputs": [],
   "source": []
  },
  {
   "cell_type": "code",
   "execution_count": 33,
   "id": "fc246666",
   "metadata": {},
   "outputs": [
    {
     "data": {
      "text/plain": [
       "['h', 'e', 'l', 'l', 'o', ' ', 'p', 'y', 't', 'h', 'o', 'n']"
      ]
     },
     "execution_count": 33,
     "metadata": {},
     "output_type": "execute_result"
    }
   ],
   "source": [
    "# 형변환 함수\n",
    "\n",
    "text = 'hello python'\n",
    "list(text)"
   ]
  },
  {
   "cell_type": "code",
   "execution_count": null,
   "id": "159b8ad3",
   "metadata": {},
   "outputs": [],
   "source": []
  },
  {
   "cell_type": "code",
   "execution_count": 34,
   "id": "a961aab4",
   "metadata": {},
   "outputs": [
    {
     "name": "stdout",
     "output_type": "stream",
     "text": [
      "행성의 이름을 입력하세요구성\n",
      "구성은 sol에 존재하지 않습니다\n"
     ]
    }
   ],
   "source": [
    "sol = ['태양','수성','금성','지구','화성','목성','토성','천왕성','해왕성','지구']\n",
    "\n",
    "# 행성의 이름을 입력받은 후 sol에 행성이 존재하면,\n",
    "# => \"[행성이름]은 [몇 번째] 인덱스에 존재합니다\"\n",
    "\n",
    "# 존재하지 않으면\n",
    "# => \"[행성이름]은 sol에 존재하지 않습니다..\"\n",
    "\n",
    "nam = input('행성의 이름을 입력하세요')\n",
    "\n",
    "if nam in sol:\n",
    "    idx = sol.index(nam)\n",
    "    text= \"{}은 {} 인덱스에 존재합니다\".format(nam, idx)\n",
    "    \n",
    "else:\n",
    "    text = \"{}은 sol에 존재하지 않습니다\".format(nam)\n",
    "\n",
    "print(text)"
   ]
  },
  {
   "cell_type": "code",
   "execution_count": 35,
   "id": "e3140aae",
   "metadata": {},
   "outputs": [
    {
     "name": "stdout",
     "output_type": "stream",
     "text": [
      "행성의 이름을 입력하세요구성\n",
      "목성은 sol에 없으므로 맨 마지막에 추가하였습니다..\n",
      "=>> ['태양', '수성', '금성', '지구', '화성', '목성', '토성', '천왕성', '해왕성', '지구', '구성']\n"
     ]
    }
   ],
   "source": [
    "sol = ['태양','수성','금성','지구','화성','목성','토성','천왕성','해왕성','지구']\n",
    "\n",
    "# 행성의 이름을 입력받은 후 sol에 행성이 존재하면,\n",
    "# => \"[행성이름]은 [몇 번째] 인덱스에 존재합니다\"\n",
    "\n",
    "# 존재하지 않으면\n",
    "# => \"sol의 맨 뒤에 행성이름을 추가하시오\"\n",
    "# => 그리고 sol을 출력하시오..\n",
    "\n",
    "nam = input('행성의 이름을 입력하세요')\n",
    "\n",
    "if nam in sol:\n",
    "    idx = sol.index(nam)\n",
    "    text= \"{}은 {} 인덱스에 존재합니다\".format(nam, idx)\n",
    "    print(text)\n",
    "    \n",
    "else:\n",
    "    sol.append(nam)\n",
    "    print('{}은 sol에 없으므로 맨 마지막에 추가하였습니다..'.format(name))\n",
    "    print('=>>', sol)\n"
   ]
  },
  {
   "cell_type": "code",
   "execution_count": null,
   "id": "5167abc0",
   "metadata": {},
   "outputs": [],
   "source": []
  },
  {
   "cell_type": "code",
   "execution_count": 36,
   "id": "70dfbff9",
   "metadata": {},
   "outputs": [
    {
     "name": "stdout",
     "output_type": "stream",
     "text": [
      "sol 안에 있는 행성의 이름을 입력하세요..목성\n"
     ]
    },
    {
     "data": {
      "text/plain": [
       "'토성'"
      ]
     },
     "execution_count": 36,
     "metadata": {},
     "output_type": "execute_result"
    }
   ],
   "source": [
    "# 행성의 이름을 입력받은 후 sol에서 입력받은 행성 바로 다음의 행성의 출력하시오..\n",
    "\n",
    "sol = ['태양','수성','금성','지구','화성','목성','토성','천왕성','해왕성','지구']\n",
    "\n",
    "nam = input(\"sol 안에 있는 행성의 이름을 입력하세요..\")\n",
    "idx = sol.index(nam) + 1\n",
    "sol[idx]\n"
   ]
  },
  {
   "cell_type": "code",
   "execution_count": 38,
   "id": "8cd044e0",
   "metadata": {},
   "outputs": [
    {
     "name": "stdout",
     "output_type": "stream",
     "text": [
      "sol 안에 있는 행성의 이름과 없는 행성의 이름을 각각 입력하세요..태양 구성\n"
     ]
    },
    {
     "data": {
      "text/plain": [
       "['수성', '금성', '지구', '화성', '목성', '토성', '천왕성', '해왕성', '지구', '구성']"
      ]
     },
     "execution_count": 38,
     "metadata": {},
     "output_type": "execute_result"
    }
   ],
   "source": [
    "# 행성의 이름을 두 개 입력받은 후 sol에서 첫 번째 행성은 삭제하고 두 번째 행성은 마지막에 추가하시오...\n",
    "\n",
    "sol = ['태양','수성','금성','지구','화성','목성','토성','천왕성','해왕성','지구']\n",
    "\n",
    "nam = input(\"sol 안에 있는 행성의 이름과 없는 행성의 이름을 각각 입력하세요..\")\n",
    "\n",
    "nam1 = nam.split()[0]\n",
    "nam2 = nam.split()[1]\n",
    "\n",
    "sol.remove(nam1)\n",
    "sol.append(nam2)\n",
    "\n",
    "sol"
   ]
  },
  {
   "cell_type": "code",
   "execution_count": 40,
   "id": "d254efa7",
   "metadata": {},
   "outputs": [
    {
     "name": "stdout",
     "output_type": "stream",
     "text": [
      "sol 안에 있는 행성의 이름을 입력하세요..수성\n",
      "sol 안에 없는 행성의 이름을 입력하세요..자성\n"
     ]
    },
    {
     "data": {
      "text/plain": [
       "['태양', '금성', '지구', '화성', '목성', '토성', '천왕성', '해왕성', '지구', '자성']"
      ]
     },
     "execution_count": 40,
     "metadata": {},
     "output_type": "execute_result"
    }
   ],
   "source": [
    "# 행성의 이름을 두 개 입력받은 후 sol에서 첫 번째 행성은 삭제하고 두 번째 행성은 마지막에 추가하시오...\n",
    "\n",
    "sol = ['태양','수성','금성','지구','화성','목성','토성','천왕성','해왕성','지구']\n",
    "\n",
    "nam1 = input(\"sol 안에 있는 행성의 이름을 입력하세요..\")\n",
    "nam2 = input(\"sol 안에 없는 행성의 이름을 입력하세요..\")\n",
    "\n",
    "sol.remove(nam1)\n",
    "sol.append(nam2)\n",
    "\n",
    "sol"
   ]
  },
  {
   "cell_type": "code",
   "execution_count": 41,
   "id": "2fe78288",
   "metadata": {},
   "outputs": [
    {
     "name": "stdout",
     "output_type": "stream",
     "text": [
      "sol 안에 있는 행성의 이름을 입력하세요..지구\n",
      "sol 안에 없는 행성의 이름을 입력하세요..조성\n"
     ]
    },
    {
     "data": {
      "text/plain": [
       "['태양', '수성', '금성', '조성', '화성', '목성', '토성', '천왕성', '해왕성', '지구']"
      ]
     },
     "execution_count": 41,
     "metadata": {},
     "output_type": "execute_result"
    }
   ],
   "source": [
    "# 행성의 이름을 두 개 입력받은 후 sol에서 첫 번째 행성은 삭제하고 두 번째 행성은 삭제한 행성자리에 입력하시오...\n",
    "\n",
    "sol = ['태양','수성','금성','지구','화성','목성','토성','천왕성','해왕성','지구']\n",
    "\n",
    "sol = ['태양','수성','금성','지구','화성','목성','토성','천왕성','해왕성','지구']\n",
    "\n",
    "nam1 = input(\"sol 안에 있는 행성의 이름을 입력하세요..\")\n",
    "nam2 = input(\"sol 안에 없는 행성의 이름을 입력하세요..\")\n",
    "\n",
    "idx = sol.index(nam1)\n",
    "\n",
    "sol.pop(idx)\n",
    "sol.insert(idx, nam2)\n",
    "\n",
    "sol"
   ]
  },
  {
   "cell_type": "code",
   "execution_count": 42,
   "id": "599dae4b",
   "metadata": {},
   "outputs": [
    {
     "name": "stdout",
     "output_type": "stream",
     "text": [
      "['태양', '수성', '금성', '지구', '화성', '목성', '토성', '천왕성', '해왕성', '지구']\n",
      "['지구', '수성', '금성', '화성', '목성', '토성', '천왕성', '해왕성', '지구', '태양']\n"
     ]
    }
   ],
   "source": [
    "# sol에서 맨 뒤에있는 요소를 맨 앞으로, 제일 앞에 있는 요소를 맨 뒤고 자리를 바꾸시오..\n",
    "\n",
    "sol = ['태양','수성','금성','지구','화성','목성','토성','천왕성','해왕성','지구']\n",
    "print(sol)\n",
    "\n",
    "st = sol[0]\n",
    "ed = sol[-1]\n",
    "\n",
    "sol.remove(st)\n",
    "sol.remove(ed)\n",
    "\n",
    "sol.insert(0, ed)\n",
    "sol.append(st)\n",
    "\n",
    "print(sol)"
   ]
  },
  {
   "cell_type": "code",
   "execution_count": 43,
   "id": "c9afdbc8",
   "metadata": {},
   "outputs": [
    {
     "name": "stdout",
     "output_type": "stream",
     "text": [
      "['태양', '수성', '금성', '지구', '화성', '목성', '토성', '천왕성', '해왕성', '지구']\n",
      "['지구', '수성', '금성', '지구', '화성', '목성', '토성', '천왕성', '해왕성', '태양']\n"
     ]
    }
   ],
   "source": [
    "# sol에서 맨 뒤에있는 요소를 맨 앞으로, 제일 앞에 있는 요소를 맨 뒤고 자리를 바꾸시오..\n",
    "\n",
    "sol = ['태양','수성','금성','지구','화성','목성','토성','천왕성','해왕성','지구']\n",
    "print(sol)\n",
    "\n",
    "st = sol.pop(0)\n",
    "ed = sol.pop(-1)\n",
    "\n",
    "sol.insert(0, ed)\n",
    "sol.append(st)\n",
    "\n",
    "print(sol)"
   ]
  },
  {
   "cell_type": "code",
   "execution_count": null,
   "id": "5641eab7",
   "metadata": {},
   "outputs": [],
   "source": []
  },
  {
   "cell_type": "code",
   "execution_count": 44,
   "id": "6dfb0d20",
   "metadata": {},
   "outputs": [
    {
     "data": {
      "text/plain": [
       "True"
      ]
     },
     "execution_count": 44,
     "metadata": {},
     "output_type": "execute_result"
    }
   ],
   "source": [
    "# 짝수 인덱스 원소들의 합과 홀수 인덱스 원소들의 합을 비교하여 짝수 인덱스의 합이 더크다는 주장을 검증하시오\n",
    "listdata = [2,3,4,2,21,4,6,]\n",
    "\n",
    "even_list = listdata[0:20:2]\n",
    "odd_list = listdata[1:20:2]\n",
    "\n",
    "sum(even_list) > sum(odd_list)"
   ]
  },
  {
   "cell_type": "code",
   "execution_count": 45,
   "id": "0d9a6245",
   "metadata": {},
   "outputs": [
    {
     "data": {
      "text/plain": [
       "[2, 3, 1000, 2, 21, 4, 6]"
      ]
     },
     "execution_count": 45,
     "metadata": {},
     "output_type": "execute_result"
    }
   ],
   "source": [
    "listdata[2] = 1000\n",
    "listdata"
   ]
  },
  {
   "cell_type": "markdown",
   "id": "3ee6d9b5",
   "metadata": {},
   "source": [
    "### data type\n",
    "#int      \n",
    "#float   [단일형식] data type\n",
    "\n",
    "#str       \n",
    "#list\n",
    "#tuple       [군집형원소] data type -> 순번(인덱스)\n",
    "#set         (원소가 다수)\n",
    "#dict\n",
    "\n",
    "#bool   [참,거짓 (True,false]"
   ]
  },
  {
   "cell_type": "code",
   "execution_count": null,
   "id": "7f3347d7",
   "metadata": {},
   "outputs": [],
   "source": []
  },
  {
   "cell_type": "markdown",
   "id": "ca230b0e",
   "metadata": {},
   "source": [
    "## 3.tuple\n",
    "\n",
    "- (...)\n",
    "- list : 요소의 수정,추가,삭제가자유. string:x , tuple : X\n",
    "- 요소의 수정, 추가 삭제가 불가능\n",
    "- 인덱스(순번,주소)가 있음 순서가 존재 ex(mytuple = ('1.tuple', 2.(1,2,3), 3.[4,5,6,7], 4. '7','8','9')\n",
    "---"
   ]
  },
  {
   "cell_type": "code",
   "execution_count": 4,
   "id": "6f69300c",
   "metadata": {},
   "outputs": [],
   "source": [
    "L = (1,3,5,7,9)\n",
    "M = (2,4,6,8)"
   ]
  },
  {
   "cell_type": "code",
   "execution_count": 5,
   "id": "a0f86786",
   "metadata": {},
   "outputs": [
    {
     "data": {
      "text/plain": [
       "tuple"
      ]
     },
     "execution_count": 5,
     "metadata": {},
     "output_type": "execute_result"
    }
   ],
   "source": [
    "type(L)"
   ]
  },
  {
   "cell_type": "code",
   "execution_count": 6,
   "id": "cca29ca1",
   "metadata": {},
   "outputs": [
    {
     "data": {
      "text/plain": [
       "(1, 3, 5, 7, 9, 2, 4, 6, 8)"
      ]
     },
     "execution_count": 6,
     "metadata": {},
     "output_type": "execute_result"
    }
   ],
   "source": [
    "L + M"
   ]
  },
  {
   "cell_type": "code",
   "execution_count": 7,
   "id": "83ddb176",
   "metadata": {},
   "outputs": [
    {
     "data": {
      "text/plain": [
       "5"
      ]
     },
     "execution_count": 7,
     "metadata": {},
     "output_type": "execute_result"
    }
   ],
   "source": [
    "len(L)"
   ]
  },
  {
   "cell_type": "code",
   "execution_count": 8,
   "id": "bfd84b89",
   "metadata": {
    "collapsed": true
   },
   "outputs": [
    {
     "ename": "TypeError",
     "evalue": "'tuple' object does not support item assignment",
     "output_type": "error",
     "traceback": [
      "\u001b[1;31m---------------------------------------------------------------------------\u001b[0m",
      "\u001b[1;31mTypeError\u001b[0m                                 Traceback (most recent call last)",
      "Input \u001b[1;32mIn [8]\u001b[0m, in \u001b[0;36m<cell line: 1>\u001b[1;34m()\u001b[0m\n\u001b[1;32m----> 1\u001b[0m L[\u001b[38;5;241m1\u001b[39m] \u001b[38;5;241m=\u001b[39m \u001b[38;5;241m100\u001b[39m\n",
      "\u001b[1;31mTypeError\u001b[0m: 'tuple' object does not support item assignment"
     ]
    }
   ],
   "source": [
    "L[1] = 100 # 원소의 수정 삭제가 추가가 불가능"
   ]
  },
  {
   "cell_type": "code",
   "execution_count": 9,
   "id": "529031da",
   "metadata": {},
   "outputs": [
    {
     "data": {
      "text/plain": [
       "2"
      ]
     },
     "execution_count": 9,
     "metadata": {},
     "output_type": "execute_result"
    }
   ],
   "source": [
    "L.index(5)"
   ]
  },
  {
   "cell_type": "code",
   "execution_count": 11,
   "id": "960abd42",
   "metadata": {},
   "outputs": [
    {
     "data": {
      "text/plain": [
       "1"
      ]
     },
     "execution_count": 11,
     "metadata": {},
     "output_type": "execute_result"
    }
   ],
   "source": [
    "L.count(3)"
   ]
  },
  {
   "cell_type": "code",
   "execution_count": 47,
   "id": "55c47f22",
   "metadata": {},
   "outputs": [],
   "source": [
    "a = 1\n",
    "b = 2\n",
    "c = 3\n",
    "\n",
    "a=1; b=2; c=3\n",
    "\n",
    "a, b, c = 1, 2, 3"
   ]
  },
  {
   "cell_type": "code",
   "execution_count": 126,
   "id": "1f658887",
   "metadata": {},
   "outputs": [],
   "source": [
    "#################################"
   ]
  },
  {
   "cell_type": "markdown",
   "id": "15c3b6a1",
   "metadata": {},
   "source": [
    "## 4. SET (집합)\n",
    "1. 집합: {}\n",
    "2. 여러원소(데이터) 존재\n",
    "3. 순번(인덱스,주소)가 없다\n",
    "4. 데이터의 중복을 허용하지 않는다.\n",
    "5. 집합연산 : 교집합,합집합,차집합,여집합..등등\n",
    "---"
   ]
  },
  {
   "cell_type": "markdown",
   "id": "fa57f81f",
   "metadata": {},
   "source": [
    "##### 용어\n",
    "\n",
    "- add 집합의 원소를 추가한다\n",
    "- clear 공집합으로 만든다(리스트삭제)\n",
    "- copy 집합을 복사\n",
    "- discard 집합에서 원소를 삭제한다. 없는 원소를 삭제하려고 할 때에도 에러를 발생하지 않는다.(remove와 비교)\n",
    "- pop 집합의 임의의 원소를 삭제(랜덤) 잘 사용하지 않음\n",
    "- remove 집합에서 원소를 삭제한다. 없는 원소를 삭제하려고하면 에러 (리스트 remove랑 같음)\n",
    "- frozenset 변경 불가능한 집합 <br>\n",
    "---\n",
    "- 합집합 교집합 차집합 대칭차집합\n",
    "---"
   ]
  },
  {
   "cell_type": "code",
   "execution_count": 38,
   "id": "fdb9a062",
   "metadata": {},
   "outputs": [],
   "source": [
    "s = {1, 2, 5,}"
   ]
  },
  {
   "cell_type": "code",
   "execution_count": 39,
   "id": "a3aee0c8",
   "metadata": {
    "collapsed": true
   },
   "outputs": [
    {
     "data": {
      "text/plain": [
       "{1, 2, 3, 5}"
      ]
     },
     "execution_count": 39,
     "metadata": {},
     "output_type": "execute_result"
    }
   ],
   "source": [
    "s.add(3)\n",
    "s"
   ]
  },
  {
   "cell_type": "code",
   "execution_count": 40,
   "id": "a1560aaa",
   "metadata": {
    "collapsed": true
   },
   "outputs": [
    {
     "data": {
      "text/plain": [
       "set"
      ]
     },
     "execution_count": 40,
     "metadata": {},
     "output_type": "execute_result"
    }
   ],
   "source": [
    "type(s)"
   ]
  },
  {
   "cell_type": "code",
   "execution_count": 41,
   "id": "e671766c",
   "metadata": {
    "collapsed": true
   },
   "outputs": [
    {
     "data": {
      "text/plain": [
       "{1, 2, 3, 5}"
      ]
     },
     "execution_count": 41,
     "metadata": {},
     "output_type": "execute_result"
    }
   ],
   "source": [
    "s.add(5)  # set 은 중복을 허용하지 않음. 유일한 값만 가지고있다. 그래서 변화가없음\n",
    "s"
   ]
  },
  {
   "cell_type": "code",
   "execution_count": 42,
   "id": "605a8ce1",
   "metadata": {
    "collapsed": true
   },
   "outputs": [
    {
     "data": {
      "text/plain": [
       "{1, 2, 3}"
      ]
     },
     "execution_count": 42,
     "metadata": {},
     "output_type": "execute_result"
    }
   ],
   "source": [
    "s.remove(5)\n",
    "s"
   ]
  },
  {
   "cell_type": "code",
   "execution_count": 43,
   "id": "e301b446",
   "metadata": {
    "collapsed": true
   },
   "outputs": [
    {
     "data": {
      "text/plain": [
       "{1, 2}"
      ]
     },
     "execution_count": 43,
     "metadata": {},
     "output_type": "execute_result"
    }
   ],
   "source": [
    "s.discard(3)\n",
    "s"
   ]
  },
  {
   "cell_type": "code",
   "execution_count": 44,
   "id": "d94ff004",
   "metadata": {
    "collapsed": true
   },
   "outputs": [
    {
     "data": {
      "text/plain": [
       "{1, 2, 100}"
      ]
     },
     "execution_count": 44,
     "metadata": {},
     "output_type": "execute_result"
    }
   ],
   "source": [
    "s.add(100)\n",
    "s"
   ]
  },
  {
   "cell_type": "code",
   "execution_count": 45,
   "id": "ed994576",
   "metadata": {
    "collapsed": true
   },
   "outputs": [
    {
     "data": {
      "text/plain": [
       "3"
      ]
     },
     "execution_count": 45,
     "metadata": {},
     "output_type": "execute_result"
    }
   ],
   "source": [
    "len(s)"
   ]
  },
  {
   "cell_type": "code",
   "execution_count": 46,
   "id": "9fd37724",
   "metadata": {
    "collapsed": true
   },
   "outputs": [
    {
     "data": {
      "text/plain": [
       "True"
      ]
     },
     "execution_count": 46,
     "metadata": {},
     "output_type": "execute_result"
    }
   ],
   "source": [
    "100 in s"
   ]
  },
  {
   "cell_type": "code",
   "execution_count": 47,
   "id": "a5ee90b4",
   "metadata": {
    "collapsed": true
   },
   "outputs": [
    {
     "data": {
      "text/plain": [
       "False"
      ]
     },
     "execution_count": 47,
     "metadata": {},
     "output_type": "execute_result"
    }
   ],
   "source": [
    "99 in s"
   ]
  },
  {
   "cell_type": "code",
   "execution_count": 48,
   "id": "76732e9e",
   "metadata": {
    "collapsed": true
   },
   "outputs": [
    {
     "data": {
      "text/plain": [
       "{1, 2, 100}"
      ]
     },
     "execution_count": 48,
     "metadata": {},
     "output_type": "execute_result"
    }
   ],
   "source": [
    "s"
   ]
  },
  {
   "cell_type": "code",
   "execution_count": 49,
   "id": "8e24873e",
   "metadata": {
    "collapsed": true
   },
   "outputs": [
    {
     "data": {
      "text/plain": [
       "1"
      ]
     },
     "execution_count": 49,
     "metadata": {},
     "output_type": "execute_result"
    }
   ],
   "source": [
    "s.pop() #랜덤하게 한 원소를 제거 (가챠)"
   ]
  },
  {
   "cell_type": "code",
   "execution_count": 50,
   "id": "1766e42c",
   "metadata": {
    "collapsed": true
   },
   "outputs": [
    {
     "data": {
      "text/plain": [
       "{2, 100}"
      ]
     },
     "execution_count": 50,
     "metadata": {},
     "output_type": "execute_result"
    }
   ],
   "source": [
    "s"
   ]
  },
  {
   "cell_type": "code",
   "execution_count": 51,
   "id": "30ef5065",
   "metadata": {},
   "outputs": [],
   "source": [
    "s.clear()"
   ]
  },
  {
   "cell_type": "code",
   "execution_count": 58,
   "id": "6e1a281a",
   "metadata": {
    "collapsed": true
   },
   "outputs": [
    {
     "data": {
      "text/plain": [
       "set()"
      ]
     },
     "execution_count": 58,
     "metadata": {},
     "output_type": "execute_result"
    }
   ],
   "source": [
    "s"
   ]
  },
  {
   "cell_type": "code",
   "execution_count": null,
   "id": "1d50a0b6",
   "metadata": {},
   "outputs": [],
   "source": []
  },
  {
   "cell_type": "code",
   "execution_count": 59,
   "id": "480d973e",
   "metadata": {},
   "outputs": [],
   "source": [
    "# 집합연산"
   ]
  },
  {
   "cell_type": "code",
   "execution_count": 63,
   "id": "41a51890",
   "metadata": {},
   "outputs": [],
   "source": [
    "a = {1, 3, 5, 7}\n",
    "b = {1, 2 ,4, 6, 7, 8}"
   ]
  },
  {
   "cell_type": "code",
   "execution_count": 64,
   "id": "6eba09b8",
   "metadata": {},
   "outputs": [
    {
     "data": {
      "text/plain": [
       "{1, 2, 3, 4, 5, 6, 7, 8}"
      ]
     },
     "execution_count": 64,
     "metadata": {},
     "output_type": "execute_result"
    }
   ],
   "source": [
    "a.union(b) # 합집합"
   ]
  },
  {
   "cell_type": "code",
   "execution_count": 65,
   "id": "8103921b",
   "metadata": {},
   "outputs": [
    {
     "data": {
      "text/plain": [
       "{1, 7}"
      ]
     },
     "execution_count": 65,
     "metadata": {},
     "output_type": "execute_result"
    }
   ],
   "source": [
    "a.intersection(b) # 교집합"
   ]
  },
  {
   "cell_type": "code",
   "execution_count": 66,
   "id": "84e04524",
   "metadata": {},
   "outputs": [
    {
     "data": {
      "text/plain": [
       "{3, 5}"
      ]
     },
     "execution_count": 66,
     "metadata": {},
     "output_type": "execute_result"
    }
   ],
   "source": [
    "a.difference(b) #차집합"
   ]
  },
  {
   "cell_type": "code",
   "execution_count": 69,
   "id": "9b86778a",
   "metadata": {},
   "outputs": [
    {
     "data": {
      "text/plain": [
       "{2, 3, 4, 5, 6, 8}"
      ]
     },
     "execution_count": 69,
     "metadata": {},
     "output_type": "execute_result"
    }
   ],
   "source": [
    "a.symmetric_difference(b) #교차차집합 : 합집합 - 교집합"
   ]
  },
  {
   "cell_type": "code",
   "execution_count": 70,
   "id": "f77fbecf",
   "metadata": {},
   "outputs": [
    {
     "data": {
      "text/plain": [
       "False"
      ]
     },
     "execution_count": 70,
     "metadata": {},
     "output_type": "execute_result"
    }
   ],
   "source": [
    "a.isdisjoint(b) # 서로소 여부 확인 - 교집합이 0인 집합인지 여부 확인 (겹쳐지는 데이터가 없으면 서로소 )"
   ]
  },
  {
   "cell_type": "code",
   "execution_count": 71,
   "id": "2979112a",
   "metadata": {},
   "outputs": [
    {
     "data": {
      "text/plain": [
       "False"
      ]
     },
     "execution_count": 71,
     "metadata": {},
     "output_type": "execute_result"
    }
   ],
   "source": [
    "a.issuperset(b) # a가 b를 포함하는지 확인"
   ]
  },
  {
   "cell_type": "code",
   "execution_count": 72,
   "id": "72fb5f6f",
   "metadata": {},
   "outputs": [
    {
     "data": {
      "text/plain": [
       "False"
      ]
     },
     "execution_count": 72,
     "metadata": {},
     "output_type": "execute_result"
    }
   ],
   "source": [
    "a.issubset(b) # a가 b의 부분집합인지"
   ]
  },
  {
   "cell_type": "code",
   "execution_count": null,
   "id": "9eeadf0e",
   "metadata": {},
   "outputs": [],
   "source": []
  },
  {
   "cell_type": "markdown",
   "id": "6174f320",
   "metadata": {},
   "source": [
    "### 5. dictionary\n",
    "1. {key:value 키 : 밸류가 항상 쌍으로.. }\n",
    "2. 순번(순서개념)이 없다. => 인덱스가 없다.\n",
    "3. 인덱스 역할을 하는게 -> key\n",
    "4. 값을 역할을 하는게 - > value\n",
    "5. javascript의 Json과 동일한 구조\n",
    "---"
   ]
  },
  {
   "cell_type": "markdown",
   "id": "ddad9071",
   "metadata": {},
   "source": [
    "##### 요소가 없는 군집형 데이터 만들기\n",
    "- L = L   L = list() 빈리스트\n",
    "- string: ',str() (문자열) 만들기\n",
    "- set = {} 빈 set 혹은() 방법 두개지만 원소가없는 set 만들떈 항상 ()\n",
    "- #dictionary: dict = {} 빈 dict 혹은 dict()\n",
    "---"
   ]
  },
  {
   "cell_type": "code",
   "execution_count": 78,
   "id": "18918625",
   "metadata": {},
   "outputs": [],
   "source": [
    "d ={'one':1, 'two':2, 'three':3} "
   ]
  },
  {
   "cell_type": "code",
   "execution_count": 79,
   "id": "9113c442",
   "metadata": {},
   "outputs": [
    {
     "data": {
      "text/plain": [
       "dict"
      ]
     },
     "execution_count": 79,
     "metadata": {},
     "output_type": "execute_result"
    }
   ],
   "source": [
    "type(d)"
   ]
  },
  {
   "cell_type": "code",
   "execution_count": 80,
   "id": "965d6a4c",
   "metadata": {
    "collapsed": true
   },
   "outputs": [
    {
     "data": {
      "text/plain": [
       "1"
      ]
     },
     "execution_count": 80,
     "metadata": {},
     "output_type": "execute_result"
    }
   ],
   "source": [
    "d['one']"
   ]
  },
  {
   "cell_type": "code",
   "execution_count": 81,
   "id": "6f29d630",
   "metadata": {},
   "outputs": [
    {
     "data": {
      "text/plain": [
       "2"
      ]
     },
     "execution_count": 81,
     "metadata": {},
     "output_type": "execute_result"
    }
   ],
   "source": [
    "d['two']"
   ]
  },
  {
   "cell_type": "code",
   "execution_count": 83,
   "id": "6f604eeb",
   "metadata": {},
   "outputs": [
    {
     "data": {
      "text/plain": [
       "{'one': 1, 'two': 2, 'three': 3, 'four': 4}"
      ]
     },
     "execution_count": 83,
     "metadata": {},
     "output_type": "execute_result"
    }
   ],
   "source": [
    "d['four'] = 4\n",
    "d"
   ]
  },
  {
   "cell_type": "markdown",
   "id": "3b63520f",
   "metadata": {},
   "source": [
    "###### pop,len,in not in\n",
    "---"
   ]
  },
  {
   "cell_type": "code",
   "execution_count": 100,
   "id": "bebf5e43",
   "metadata": {},
   "outputs": [
    {
     "data": {
      "text/plain": [
       "{'math': 95, 'eng': 88, 'kor': 75}"
      ]
     },
     "execution_count": 100,
     "metadata": {},
     "output_type": "execute_result"
    }
   ],
   "source": [
    "mydict = {}\n",
    "\n",
    "mydict['math'] =95\n",
    "mydict['eng'] = 88\n",
    "mydict['kor'] = 75\n",
    "mydict"
   ]
  },
  {
   "cell_type": "code",
   "execution_count": 101,
   "id": "4d8d1bb1",
   "metadata": {},
   "outputs": [
    {
     "data": {
      "text/plain": [
       "{'math': 95, 'eng': 88, 'kor': 95}"
      ]
     },
     "execution_count": 101,
     "metadata": {},
     "output_type": "execute_result"
    }
   ],
   "source": [
    "mydict['kor'] = 95\n",
    "mydict"
   ]
  },
  {
   "cell_type": "code",
   "execution_count": 102,
   "id": "537e8cbb",
   "metadata": {},
   "outputs": [
    {
     "data": {
      "text/plain": [
       "{'math': 95, 'kor': 95}"
      ]
     },
     "execution_count": 102,
     "metadata": {},
     "output_type": "execute_result"
    }
   ],
   "source": [
    "mydict.pop('eng')\n",
    "mydict"
   ]
  },
  {
   "cell_type": "code",
   "execution_count": 103,
   "id": "279474b5",
   "metadata": {},
   "outputs": [
    {
     "data": {
      "text/plain": [
       "2"
      ]
     },
     "execution_count": 103,
     "metadata": {},
     "output_type": "execute_result"
    }
   ],
   "source": [
    "len(mydict)"
   ]
  },
  {
   "cell_type": "code",
   "execution_count": 104,
   "id": "544417d0",
   "metadata": {},
   "outputs": [
    {
     "data": {
      "text/plain": [
       "True"
      ]
     },
     "execution_count": 104,
     "metadata": {},
     "output_type": "execute_result"
    }
   ],
   "source": [
    "'math' in mydict"
   ]
  },
  {
   "cell_type": "code",
   "execution_count": 125,
   "id": "480cf84c",
   "metadata": {
    "collapsed": true
   },
   "outputs": [
    {
     "data": {
      "text/plain": [
       "False"
      ]
     },
     "execution_count": 125,
     "metadata": {},
     "output_type": "execute_result"
    }
   ],
   "source": [
    "'moon' in mydict"
   ]
  },
  {
   "cell_type": "markdown",
   "id": "7009dffb",
   "metadata": {},
   "source": [
    "###### get\n",
    "---"
   ]
  },
  {
   "cell_type": "code",
   "execution_count": 105,
   "id": "b786b08a",
   "metadata": {},
   "outputs": [
    {
     "data": {
      "text/plain": [
       "{'math': 95, 'kor': 95, 'red': 5, 'blue': 7}"
      ]
     },
     "execution_count": 105,
     "metadata": {},
     "output_type": "execute_result"
    }
   ],
   "source": [
    "mydict['red'] = 5\n",
    "mydict['blue'] = 7\n",
    "mydict"
   ]
  },
  {
   "cell_type": "code",
   "execution_count": 106,
   "id": "7f890fb1",
   "metadata": {},
   "outputs": [
    {
     "data": {
      "text/plain": [
       "95"
      ]
     },
     "execution_count": 106,
     "metadata": {},
     "output_type": "execute_result"
    }
   ],
   "source": [
    "mydict['kor']"
   ]
  },
  {
   "cell_type": "code",
   "execution_count": 107,
   "id": "3658437e",
   "metadata": {},
   "outputs": [
    {
     "data": {
      "text/plain": [
       "95"
      ]
     },
     "execution_count": 107,
     "metadata": {},
     "output_type": "execute_result"
    }
   ],
   "source": [
    "mydict.get('kor')"
   ]
  },
  {
   "cell_type": "code",
   "execution_count": 108,
   "id": "ae8cc8e9",
   "metadata": {
    "collapsed": true
   },
   "outputs": [
    {
     "ename": "KeyError",
     "evalue": "'yellow'",
     "output_type": "error",
     "traceback": [
      "\u001b[1;31m---------------------------------------------------------------------------\u001b[0m",
      "\u001b[1;31mKeyError\u001b[0m                                  Traceback (most recent call last)",
      "Input \u001b[1;32mIn [108]\u001b[0m, in \u001b[0;36m<cell line: 1>\u001b[1;34m()\u001b[0m\n\u001b[1;32m----> 1\u001b[0m \u001b[43mmydict\u001b[49m\u001b[43m[\u001b[49m\u001b[38;5;124;43m'\u001b[39;49m\u001b[38;5;124;43myellow\u001b[39;49m\u001b[38;5;124;43m'\u001b[39;49m\u001b[43m]\u001b[49m\n",
      "\u001b[1;31mKeyError\u001b[0m: 'yellow'"
     ]
    }
   ],
   "source": [
    "mydict['yellow'] # error 없는 key 요청시는 에러"
   ]
  },
  {
   "cell_type": "code",
   "execution_count": null,
   "id": "46592b94",
   "metadata": {},
   "outputs": [],
   "source": [
    "mydict.get('yellow') # 없는 데이터를 요청할때는, 에러가 발생하지 않음."
   ]
  },
  {
   "cell_type": "code",
   "execution_count": 109,
   "id": "73af21a0",
   "metadata": {},
   "outputs": [
    {
     "data": {
      "text/plain": [
       "-1"
      ]
     },
     "execution_count": 109,
     "metadata": {},
     "output_type": "execute_result"
    }
   ],
   "source": [
    "mydict.get('yellow',-1) # 없는 키를 요청할때, 다른값을 출력."
   ]
  },
  {
   "cell_type": "markdown",
   "id": "aeb3d480",
   "metadata": {},
   "source": [
    "###### keys,values,items\n",
    "---"
   ]
  },
  {
   "cell_type": "code",
   "execution_count": 110,
   "id": "2a052ead",
   "metadata": {},
   "outputs": [
    {
     "data": {
      "text/plain": [
       "{'math': 95, 'kor': 95, 'red': 5, 'blue': 7}"
      ]
     },
     "execution_count": 110,
     "metadata": {},
     "output_type": "execute_result"
    }
   ],
   "source": [
    "mydict"
   ]
  },
  {
   "cell_type": "code",
   "execution_count": 111,
   "id": "7b513ca8",
   "metadata": {},
   "outputs": [
    {
     "data": {
      "text/plain": [
       "dict_keys(['math', 'kor', 'red', 'blue'])"
      ]
     },
     "execution_count": 111,
     "metadata": {},
     "output_type": "execute_result"
    }
   ],
   "source": [
    "mydict.keys() # 키만볼때"
   ]
  },
  {
   "cell_type": "code",
   "execution_count": 112,
   "id": "597e406d",
   "metadata": {},
   "outputs": [
    {
     "data": {
      "text/plain": [
       "dict_values([95, 95, 5, 7])"
      ]
     },
     "execution_count": 112,
     "metadata": {},
     "output_type": "execute_result"
    }
   ],
   "source": [
    "mydict.values() #밸류값만 볼때"
   ]
  },
  {
   "cell_type": "code",
   "execution_count": 113,
   "id": "d5621ba1",
   "metadata": {},
   "outputs": [
    {
     "data": {
      "text/plain": [
       "dict_items([('math', 95), ('kor', 95), ('red', 5), ('blue', 7)])"
      ]
     },
     "execution_count": 113,
     "metadata": {},
     "output_type": "execute_result"
    }
   ],
   "source": [
    "mydict.items() # 전체볼때"
   ]
  },
  {
   "cell_type": "markdown",
   "id": "8d28d25e",
   "metadata": {},
   "source": [
    "###### setdefault\n",
    "---"
   ]
  },
  {
   "cell_type": "code",
   "execution_count": 114,
   "id": "bd2e07a5",
   "metadata": {},
   "outputs": [
    {
     "data": {
      "text/plain": [
       "95"
      ]
     },
     "execution_count": 114,
     "metadata": {},
     "output_type": "execute_result"
    }
   ],
   "source": [
    "mydict.setdefault('math') # 키가 있으면 값을 리턴 보여줌"
   ]
  },
  {
   "cell_type": "code",
   "execution_count": 116,
   "id": "9f1c3dfc",
   "metadata": {},
   "outputs": [
    {
     "data": {
      "text/plain": [
       "77"
      ]
     },
     "execution_count": 116,
     "metadata": {},
     "output_type": "execute_result"
    }
   ],
   "source": [
    "mydict.setdefault('yellow', 77) # 없는 키를 호출하면서 값을 입력하면 key : value 로 추가가 됨"
   ]
  },
  {
   "cell_type": "code",
   "execution_count": 120,
   "id": "b4d5322c",
   "metadata": {},
   "outputs": [
    {
     "data": {
      "text/plain": [
       "{'math': 95, 'kor': 95, 'red': 5, 'blue': 7, 'yellow': 77}"
      ]
     },
     "execution_count": 120,
     "metadata": {},
     "output_type": "execute_result"
    }
   ],
   "source": [
    "mydict"
   ]
  },
  {
   "cell_type": "markdown",
   "id": "d4d65bac",
   "metadata": {},
   "source": [
    "###### update\n",
    "---"
   ]
  },
  {
   "cell_type": "code",
   "execution_count": 124,
   "id": "9bf2dd94",
   "metadata": {
    "collapsed": true
   },
   "outputs": [
    {
     "data": {
      "text/plain": [
       "{'red': 1, 'blue': 3, 'yellow': 2}"
      ]
     },
     "execution_count": 124,
     "metadata": {},
     "output_type": "execute_result"
    }
   ],
   "source": [
    "color = {'red':1, 'blue':3} \n",
    "color1 = {'yellow':2}\n",
    "\n",
    "color.update(color1) # 위 두개의 데이터값을 합친다.\n",
    "color"
   ]
  },
  {
   "cell_type": "code",
   "execution_count": null,
   "id": "beaf95ec",
   "metadata": {},
   "outputs": [],
   "source": []
  },
  {
   "cell_type": "code",
   "execution_count": 1,
   "id": "e35503dc",
   "metadata": {},
   "outputs": [],
   "source": [
    "name = {'mary':10999, 'sams':2111, 'aimy':9788, 'tom':3024, 'miderel':54762, \\\n",
    "        'kelley':7895}"
   ]
  },
  {
   "cell_type": "code",
   "execution_count": 5,
   "id": "2b10bb3c",
   "metadata": {},
   "outputs": [
    {
     "name": "stdout",
     "output_type": "stream",
     "text": [
      "9788\n",
      "{'mary': 10999, 'sams': 2111, 'aimy': 2500, 'tom': 3024, 'miderel': 54762, 'kelley': 7895}\n",
      "{'mary': 10999, 'sams': 2111, 'aimy': 2500, 'miderel': 54762, 'kelley': 7895}\n",
      "dict_keys(['mary', 'sams', 'aimy', 'miderel', 'kelley'])\n",
      "78267\n",
      "key를 입력하세요jelly\n",
      "None\n",
      "{'mary': 10999, 'sams': 2111, 'aimy': 2500, 'miderel': 54762, 'kelley': 7895, 'jane': 10000}\n",
      "이름을 입력하세요jelly\n",
      "{'mary': 10999, 'sams': 2111, 'aimy': 2500, 'miderel': 54762, 'kelley': 7895, 'jane': 10000, 'jelly': 25000}\n"
     ]
    }
   ],
   "source": [
    "name = {'mary':10999, 'sams':2111, 'aimy':9788, 'tom':3024, 'miderel':54762, \\\n",
    "        'kelley':7895}\n",
    "\n",
    "# 1. 'aimy'의 값을 출력\n",
    "print(name['aimy'])\n",
    "# 2. 'aimy'의 값을 2500으로 수정\n",
    "name['aimy'] = 2500\n",
    "print(name)\n",
    "# 3. 'tom'의 값을 삭제\n",
    "name.pop('tom')\n",
    "print(name)\n",
    "# 4. key값들만 출력\n",
    "print(name.keys())\n",
    "# 5. value들의 합을 계산\n",
    "print(sum(name.values()))\n",
    "# 6. key를 입력받은 후 해당 key의 value를 출력. 단, 오류를 발생시키지 마시오\n",
    "key = input('key를 입력하세요')\n",
    "print(name.get(key))\n",
    "# 7. 'jane'의 값을 10000으로 name에 추가..\n",
    "name['jane'] = 10000\n",
    "print(name)\n",
    "# 8. key를 입력받은 후 있으면 그 값을 출력하고, 없으면 25000값으로 name에 추가\n",
    "key = input('이름을 입력하세요')\n",
    "name.setdefault(key, 25000)\n",
    "print(name)"
   ]
  },
  {
   "cell_type": "code",
   "execution_count": 14,
   "id": "4f9f4920",
   "metadata": {},
   "outputs": [],
   "source": [
    "# range() 함수"
   ]
  },
  {
   "cell_type": "raw",
   "id": "8677c0c5",
   "metadata": {},
   "source": []
  },
  {
   "cell_type": "code",
   "execution_count": 15,
   "id": "c4be2108",
   "metadata": {},
   "outputs": [
    {
     "data": {
      "text/plain": [
       "[0, 1, 2, 3, 4]"
      ]
     },
     "execution_count": 15,
     "metadata": {},
     "output_type": "execute_result"
    }
   ],
   "source": [
    "list(range(5))"
   ]
  },
  {
   "cell_type": "code",
   "execution_count": 12,
   "id": "16c63e0e",
   "metadata": {},
   "outputs": [
    {
     "data": {
      "text/plain": [
       "[4, 6, 8]"
      ]
     },
     "execution_count": 12,
     "metadata": {},
     "output_type": "execute_result"
    }
   ],
   "source": [
    "list(range(4, 10, 2))"
   ]
  },
  {
   "cell_type": "code",
   "execution_count": 17,
   "id": "3b85e6aa",
   "metadata": {
    "collapsed": true
   },
   "outputs": [
    {
     "data": {
      "text/plain": [
       "[4, 7]"
      ]
     },
     "execution_count": 17,
     "metadata": {},
     "output_type": "execute_result"
    }
   ],
   "source": [
    "list(range(4, 10, 3))"
   ]
  },
  {
   "cell_type": "code",
   "execution_count": 7,
   "id": "55e68616",
   "metadata": {
    "collapsed": true
   },
   "outputs": [
    {
     "name": "stdout",
     "output_type": "stream",
     "text": [
      "[0, 1, 2, 3, 4, 5, 6, 7, 8, 9, 10, 11, 12, 13, 14, 15, 16, 17, 18, 19, 20, 21, 22, 23, 24, 25, 26, 27, 28, 29, 30, 31, 32, 33, 34, 35, 36, 37, 38, 39, 40, 41, 42, 43, 44, 45, 46, 47, 48, 49, 50, 51, 52, 53, 54, 55, 56, 57, 58, 59, 60, 61, 62, 63, 64, 65, 66, 67, 68, 69, 70, 71, 72, 73, 74, 75, 76, 77, 78, 79, 80, 81, 82, 83, 84, 85, 86, 87, 88, 89, 90, 91, 92, 93, 94, 95, 96, 97, 98, 99]\n"
     ]
    }
   ],
   "source": [
    "print(list(range(100)))"
   ]
  },
  {
   "cell_type": "code",
   "execution_count": 4,
   "id": "18ecd000",
   "metadata": {
    "collapsed": true
   },
   "outputs": [
    {
     "data": {
      "text/plain": [
       "[10, 8, 6]"
      ]
     },
     "execution_count": 4,
     "metadata": {},
     "output_type": "execute_result"
    }
   ],
   "source": [
    "list(range(10, 4, -2))"
   ]
  },
  {
   "cell_type": "markdown",
   "id": "1d112ad9",
   "metadata": {},
   "source": [
    "---\n",
    "##### 형변환 함수\n",
    "---"
   ]
  },
  {
   "cell_type": "code",
   "execution_count": null,
   "id": "1d5132e2",
   "metadata": {},
   "outputs": [],
   "source": [
    "v = '7' #문자열 \n",
    "type(v)"
   ]
  },
  {
   "cell_type": "code",
   "execution_count": null,
   "id": "bc50a4f9",
   "metadata": {},
   "outputs": [],
   "source": [
    "v1 = int(v) # 정수 형변환 함수\n",
    "type(v1)"
   ]
  },
  {
   "cell_type": "code",
   "execution_count": null,
   "id": "1c4e5ae9",
   "metadata": {},
   "outputs": [],
   "source": [
    "v2 = float(v1) # 실수 형변환 함수\n",
    "type(v2)"
   ]
  },
  {
   "cell_type": "code",
   "execution_count": null,
   "id": "0246cbd7",
   "metadata": {},
   "outputs": [],
   "source": [
    "a = 'hello'\n",
    "type(a)"
   ]
  },
  {
   "cell_type": "code",
   "execution_count": null,
   "id": "4767fdc3",
   "metadata": {},
   "outputs": [],
   "source": [
    "b = list(a) #리스트로 형변환을 하는 함수\n",
    "print(b)\n",
    "type(b)"
   ]
  },
  {
   "cell_type": "code",
   "execution_count": null,
   "id": "3105e25c",
   "metadata": {},
   "outputs": [],
   "source": [
    "c = tuple(a) # 튜플로 형변환 하는 함수\n",
    "print(c)\n",
    "type(c)"
   ]
  },
  {
   "cell_type": "code",
   "execution_count": null,
   "id": "29e6d364",
   "metadata": {},
   "outputs": [],
   "source": [
    "d = set(a) # set으로 형변환하는 함수, / 중복값 제거\n",
    "print(d)\n",
    "type(d)"
   ]
  },
  {
   "cell_type": "code",
   "execution_count": null,
   "id": "1be30966",
   "metadata": {},
   "outputs": [],
   "source": [
    "dict(a) # key:value 구조가 아니여서 dict 으로 형변환은 불가능. 에러"
   ]
  },
  {
   "cell_type": "code",
   "execution_count": null,
   "id": "3e2f2827",
   "metadata": {},
   "outputs": [],
   "source": []
  },
  {
   "cell_type": "code",
   "execution_count": null,
   "id": "da09c307",
   "metadata": {},
   "outputs": [],
   "source": []
  },
  {
   "cell_type": "code",
   "execution_count": null,
   "id": "9550bbe0",
   "metadata": {},
   "outputs": [],
   "source": []
  },
  {
   "cell_type": "code",
   "execution_count": null,
   "id": "a3796497",
   "metadata": {},
   "outputs": [],
   "source": []
  },
  {
   "cell_type": "code",
   "execution_count": null,
   "id": "18ce8618",
   "metadata": {},
   "outputs": [],
   "source": []
  },
  {
   "cell_type": "code",
   "execution_count": null,
   "id": "383686d1",
   "metadata": {},
   "outputs": [],
   "source": []
  },
  {
   "cell_type": "code",
   "execution_count": null,
   "id": "4bb289f6",
   "metadata": {},
   "outputs": [],
   "source": []
  }
 ],
 "metadata": {
  "kernelspec": {
   "display_name": "Python 3 (ipykernel)",
   "language": "python",
   "name": "python3"
  },
  "language_info": {
   "codemirror_mode": {
    "name": "ipython",
    "version": 3
   },
   "file_extension": ".py",
   "mimetype": "text/x-python",
   "name": "python",
   "nbconvert_exporter": "python",
   "pygments_lexer": "ipython3",
   "version": "3.9.12"
  },
  "toc": {
   "base_numbering": 1,
   "nav_menu": {},
   "number_sections": true,
   "sideBar": true,
   "skip_h1_title": false,
   "title_cell": "Table of Contents",
   "title_sidebar": "Contents",
   "toc_cell": false,
   "toc_position": {},
   "toc_section_display": true,
   "toc_window_display": false
  },
  "varInspector": {
   "cols": {
    "lenName": 16,
    "lenType": 16,
    "lenVar": 40
   },
   "kernels_config": {
    "python": {
     "delete_cmd_postfix": "",
     "delete_cmd_prefix": "del ",
     "library": "var_list.py",
     "varRefreshCmd": "print(var_dic_list())"
    },
    "r": {
     "delete_cmd_postfix": ") ",
     "delete_cmd_prefix": "rm(",
     "library": "var_list.r",
     "varRefreshCmd": "cat(var_dic_list()) "
    }
   },
   "types_to_exclude": [
    "module",
    "function",
    "builtin_function_or_method",
    "instance",
    "_Feature"
   ],
   "window_display": false
  },
  "widgets": {
   "application/vnd.jupyter.widget-state+json": {
    "state": {},
    "version_major": 2,
    "version_minor": 0
   }
  }
 },
 "nbformat": 4,
 "nbformat_minor": 5
}
