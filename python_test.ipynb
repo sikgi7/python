{
 "cells": [
  {
   "cell_type": "markdown",
   "id": "546ac38f",
   "metadata": {},
   "source": [
    "# Python Test"
   ]
  },
  {
   "cell_type": "code",
   "execution_count": null,
   "id": "9f1c0e97",
   "metadata": {},
   "outputs": [],
   "source": []
  },
  {
   "cell_type": "code",
   "execution_count": 24,
   "id": "d97636d7",
   "metadata": {},
   "outputs": [
    {
     "name": "stdout",
     "output_type": "stream",
     "text": [
      "이름을 입력하세요박철순\n",
      "박철순 환영합니다!!\n"
     ]
    }
   ],
   "source": [
    "# String Test\n",
    "\n",
    "txt = 'A tale that was not right'\n",
    "\n",
    "# 1. 'ale'을 출력하시오\n",
    "txt[3:6]\n",
    "\n",
    "# 2. 'A tale'을 출력\n",
    "txt[0:6]\n",
    "txt[:6]\n",
    "\n",
    "# 3. 'not'을 출력\n",
    "txt[-9:-6]\n",
    "# txt.split()[-2]\n",
    "\n",
    "# 4. txt를 소문자로 전환하시오\n",
    "txt.lower()\n",
    "\n",
    "# 5. txt를 대문자로 전환하시오\n",
    "txt.upper()\n",
    "\n",
    "# 6. 'o'가 몇 개 존재하는가\n",
    "txt.count('o')\n",
    "\n",
    "# 7. 'o'가 몇 번째 인덱스에 처음 등장하는가\n",
    "txt.find('o')\n",
    "\n",
    "# 8. 'txt'의 길이를 출력하시오\n",
    "len(txt)\n",
    "\n",
    "# 9. space를 기준으로 나누어서 리스트에 넣으시오\n",
    "L = txt.split()\n",
    "L\n",
    "# 10. 위의 리스트를 '='기준으로 이어서 str로 바꾸시오\n",
    "'='.join(L)\n",
    "\n",
    "# 11. txt에 'right'가 존재하는지 확인하시오\n",
    "'right' in txt\n",
    "\n",
    "# 12. 'tale'을 'story'로 바꾸시오..\n",
    "txt.replace('tale', 'story')\n",
    "\n",
    "# 13. 이름을 입력받은 후 \"[이름]님 환영합니다!!\"라고 출력되도록 하시오\n",
    "name = input('이름을 입력하세요')\n",
    "# text = '{}님 환영합니다!!'.format(name)\n",
    "text = '%s 환영합니다!!'%(name)\n",
    "print(text)"
   ]
  },
  {
   "cell_type": "code",
   "execution_count": null,
   "id": "c62749f2",
   "metadata": {},
   "outputs": [],
   "source": []
  },
  {
   "cell_type": "code",
   "execution_count": null,
   "id": "6ff4cbbe",
   "metadata": {},
   "outputs": [],
   "source": []
  },
  {
   "cell_type": "code",
   "execution_count": null,
   "id": "d6410027",
   "metadata": {},
   "outputs": [],
   "source": [
    "# List Test"
   ]
  },
  {
   "cell_type": "code",
   "execution_count": 32,
   "id": "f22687ea",
   "metadata": {},
   "outputs": [
    {
     "name": "stdout",
     "output_type": "stream",
     "text": [
      "['수성', '금성', '지구']\n",
      "3\n",
      "['태양', '명왕성', '수성', '금성', '지구', '해왕성', '목성', '지구', '토성']\n",
      "['태양', '명왕성', '수성', '금성', '지구', '해왕성', '목성', '지구']\n",
      "['태양', '명왕성', '지구', '해왕성', '목성', '지구']\n",
      "['태양', '명왕성', '지구', '해왕성', '목성', '지구', '토성', '천황성', '해왕성']\n",
      "['해왕성', '해왕성', '토성', '태양', '천황성', '지구', '지구', '목성', '명왕성']\n",
      "['명왕성', '목성', '지구', '지구', '천황성', '태양', '토성', '해왕성', '해왕성']\n",
      "False\n",
      "True\n",
      "['태양', '명왕성', '지구', '해왕성', '목성', '지구', '토성', '천황성', '해왕성', '태양', '명왕성', '지구', '해왕성', '목성', '지구', '토성', '천황성', '해왕성', '태양', '명왕성', '지구', '해왕성', '목성', '지구', '토성', '천황성', '해왕성']\n",
      "9\n",
      "2\n",
      "['해왕성', '천황성', '토성', '지구', '목성', '해왕성', '지구', '명왕성', '태양']\n",
      "[]\n"
     ]
    },
    {
     "ename": "NameError",
     "evalue": "name 'sol' is not defined",
     "output_type": "error",
     "traceback": [
      "\u001b[1;31m---------------------------------------------------------------------------\u001b[0m",
      "\u001b[1;31mNameError\u001b[0m                                 Traceback (most recent call last)",
      "Input \u001b[1;32mIn [32]\u001b[0m, in \u001b[0;36m<cell line: 51>\u001b[1;34m()\u001b[0m\n\u001b[0;32m     49\u001b[0m \u001b[38;5;66;03m# 18. sol 리스트를 제거하시오\u001b[39;00m\n\u001b[0;32m     50\u001b[0m \u001b[38;5;28;01mdel\u001b[39;00m sol\n\u001b[1;32m---> 51\u001b[0m \u001b[38;5;28mprint\u001b[39m(\u001b[43msol\u001b[49m)\n",
      "\u001b[1;31mNameError\u001b[0m: name 'sol' is not defined"
     ]
    }
   ],
   "source": [
    "sol = ['태양','수성','금성','지구','화성','목성','지구']\n",
    "sol1 = ['토성','천황성','해왕성']\n",
    "planet = '지구'\n",
    "\n",
    "# 1. sol에서 ['수성','금성','지구']를 출력\n",
    "print(sol[1:4])\n",
    "# 2. sol에서 '지구' 인덱스를 출력\n",
    "print(sol.index('지구'))\n",
    "# 3. sol에서 '화성'을 '해왕성'으로 수정\n",
    "sol[4] = '해왕성'\n",
    "sol\n",
    "# 4. sol에서 '수성'자리에 '명왕성' 삽입\n",
    "sol.insert(1, '명왕성')\n",
    "sol\n",
    "# 5. sol에서 '토성'을 맨 끝에 삽입\n",
    "sol.append('토성')\n",
    "print(sol)\n",
    "# 6. sol에서 맨 끝 요소를 삭제하고 리턴\n",
    "sol.pop()\n",
    "print(sol)\n",
    "# 7. sol에서 '금성'을 제거\n",
    "sol.remove('금성')\n",
    "sol\n",
    "# 8. sol에서 2번 인덱스 값을 제거\n",
    "sol.pop(2)\n",
    "print(sol)\n",
    "# 9. sol에 sol1을 뒤에 이으시오\n",
    "sol.extend(sol1)\n",
    "print(sol)\n",
    "# 10. sol을 내림차순으로 정렬하시오\n",
    "print(sorted(sol, reverse=True))\n",
    "# 11. sol을 올림차순으로 정렬하시오\n",
    "print(sorted(sol))\n",
    "# 12. '만리장성'이 있는지 확인하시오\n",
    "print('만리장성' in sol)\n",
    "print('천황성' in sol)\n",
    "# 13. sol을 3번 반복하시오\n",
    "print(sol * 3)\n",
    "# 14. sol의 길이를 출력하시오\n",
    "print(len(sol))\n",
    "# 15. sol에 '지구'가 몇 개 포함되어 있는지 확인하시오.\n",
    "print(sol.count('지구'))\n",
    "# 16. sol 원소의 순서를 바꾸시오.\n",
    "sol.reverse()\n",
    "print(sol)\n",
    "# 17. sol의 모든 원소를 지우시오\n",
    "sol.clear()\n",
    "print(sol)\n",
    "# 18. sol 리스트를 제거하시오\n",
    "del sol\n",
    "print(sol)"
   ]
  },
  {
   "cell_type": "code",
   "execution_count": null,
   "id": "38d88a2a",
   "metadata": {},
   "outputs": [],
   "source": []
  },
  {
   "cell_type": "code",
   "execution_count": 47,
   "id": "1e5e6d3e",
   "metadata": {},
   "outputs": [
    {
     "name": "stdout",
     "output_type": "stream",
     "text": [
      "tuple\n",
      "3\n",
      "[4, 5]\n",
      "[4, 5]\n",
      "6\n",
      "True\n",
      "3\n",
      "1\n",
      "[4, 5, 6, 7]\n",
      "7 4\n",
      "[3, 2, 1]\n"
     ]
    }
   ],
   "source": [
    "# Tuple Test\n",
    "\n",
    "mytuple = ('tuple', (1,2,3), [4,5,6,7], '7','8','9')\n",
    "\n",
    "# 1. 'tuple'을 출력하시오\n",
    "print(mytuple[0])\n",
    "# 2. 3을 출력하시오\n",
    "print(mytuple[1][2])\n",
    "# 3. 4, 5를 출력하시오\n",
    "print(mytuple[2][0:2])\n",
    "print(mytuple[2][:2])\n",
    "# 4. tuple의 길이를 출력하시오\n",
    "print(len(mytuple))\n",
    "# 5. '7'이 있는지 확인하시오\n",
    "print('7' in mytuple)\n",
    "# 6. '7' 값이 있으면 인덱스를 출력하시오\n",
    "print(mytuple.index('7'))\n",
    "# 7. '7'이 몇 번 있는지 확인하시오.\n",
    "print(mytuple.count('7'))\n",
    "# 8. 인덱스 2번의 값을 출력하시오\n",
    "print(mytuple[2])\n",
    "# 9. 인덱스 2번의 최대값, 최소값을 출력하시오\n",
    "print(max(mytuple[2]), min(mytuple[2]))\n",
    "# 10. 인덱스 1번을 내림차순 정렬하시오.\n",
    "print(sorted(mytuple[1], reverse=True))"
   ]
  },
  {
   "cell_type": "code",
   "execution_count": null,
   "id": "30bfb045",
   "metadata": {},
   "outputs": [],
   "source": []
  },
  {
   "cell_type": "code",
   "execution_count": null,
   "id": "30f01eda",
   "metadata": {},
   "outputs": [],
   "source": []
  },
  {
   "cell_type": "code",
   "execution_count": 1,
   "id": "9a6efa1f",
   "metadata": {},
   "outputs": [],
   "source": [
    "### Set"
   ]
  },
  {
   "cell_type": "code",
   "execution_count": 16,
   "id": "99763a5d",
   "metadata": {},
   "outputs": [
    {
     "name": "stdout",
     "output_type": "stream",
     "text": [
      "{'earth', 'sky'}\n",
      "{'earth', 1, 2, 'sky'}\n",
      "{'earth', 1, 2}\n",
      "{1, 2, 3, 4, 5, 6, 7, 8}\n",
      "{1, 2, 3}\n",
      "{4, 5, 6}\n",
      "{4, 5, 6, 7, 8}\n",
      "True\n",
      "5\n",
      "True\n",
      "최대값 : 8 ,최소값 : 1 ,총합 : 21 ,평균 : 4.2\n"
     ]
    }
   ],
   "source": [
    "# 1. 원소가 없는 빈 set s를 만드세요\n",
    "s = set()  # {}(x)\n",
    "# 2. s에 원소 'sky'와 'earth'를 추가하세요\n",
    "s.add('sky')\n",
    "s.add('earth')\n",
    "print(s)\n",
    "# 3. s에 1, 2 두 정수를 추가하세요\n",
    "s.add(1)\n",
    "s.add(2)\n",
    "print(s)\n",
    "# 4. s에서 'sky'를 삭제하세요\n",
    "s.remove('sky')\n",
    "# s.discard('sky')\n",
    "print(s)\n",
    "\n",
    "A = {1,2,3,4,5,6}\n",
    "B = {1,2,3,7,8}\n",
    "C = {1,2,3}\n",
    "\n",
    "# 5. A, B 두 집합의 합집합을 구하세요\n",
    "print(A.union(B))\n",
    "# 6. A, B 두 집합의 교집합을 구하세요\n",
    "print(A.intersection(B))\n",
    "# 7. A의 B에 대한 차집합을 구하세요\n",
    "print(A.difference(B))\n",
    "# 8. A, B 두 집합의 대칭차집합을 구하세요\n",
    "print(A.symmetric_difference(B))\n",
    "# 9. A가 C를 포함하는지 확인하시오\n",
    "print(A.issuperset(C))\n",
    "\n",
    "# 10. 집합 B의 길이를 출력하시오\n",
    "print(len(B))\n",
    "# 11. 집합 B에 8 원소가 포함되어 있는지 확인하시오\n",
    "print(8 in B)\n",
    "# 12. 집합 B의 최대값, 최소값, 총합, 평균을 구하시오.\n",
    "print('최대값 :', max(B), ',최소값 :', min(B), ',총합 :', sum(B), ',평균 :', sum(B)/len(B))"
   ]
  },
  {
   "cell_type": "code",
   "execution_count": null,
   "id": "c6b4d391",
   "metadata": {},
   "outputs": [],
   "source": []
  },
  {
   "cell_type": "code",
   "execution_count": 39,
   "id": "890dba86",
   "metadata": {
    "collapsed": true
   },
   "outputs": [
    {
     "name": "stdout",
     "output_type": "stream",
     "text": [
      "{}\n",
      "{'red': 4, 'blue': 3, 'green': 2}\n",
      "True\n",
      "3\n",
      "4\n",
      "{'red': 7, 'blue': 3, 'green': 2}\n",
      "dict_keys(['red', 'blue', 'green'])\n",
      "dict_values([7, 3, 2])\n",
      "dict_items([('red', 7), ('blue', 3), ('green', 2)])\n",
      "{'red': 7, 'green': 2}\n",
      "None\n",
      "True\n",
      "key를 입력하세요red\n",
      "{'green': 2}\n"
     ]
    }
   ],
   "source": [
    "### Dictionary\n",
    "\n",
    "# 1. mydict라는 빈 dictionary를 만드세요\n",
    "mydict = dict()  # mydict = {}\n",
    "print(mydict)\n",
    "\n",
    "# 2. 'red':4, 'blue':3, 'green':2 세 원소를 추가하세요\n",
    "mydict['red'] = 4\n",
    "mydict['blue'] = 3\n",
    "mydict['green'] = 2\n",
    "print(mydict)\n",
    "\n",
    "# 3. mydict에 'blue'가 있는지 확인하세요\n",
    "print('blue' in mydict)\n",
    "\n",
    "# 4. mydict의 길이를 확인하세요\n",
    "print(len(mydict))\n",
    "\n",
    "# 5. 'red'의 값을 출력하세요\n",
    "print(mydict['red'])\n",
    "\n",
    "# 6. 'red'의 값을 7로 수정하세요\n",
    "mydict['red'] = 7\n",
    "print(mydict)\n",
    "\n",
    "# 7. key만 출력하세요\n",
    "print(mydict.keys())\n",
    "\n",
    "# 8. value만 출력하세요\n",
    "print(mydict.values())\n",
    "\n",
    "# 9. key와 value를 tuple로 묶어서 출력하세요\n",
    "print(mydict.items())\n",
    "\n",
    "# 10. key가 'blue'인 요소를 삭제하세요\n",
    "mydict.pop('blue')\n",
    "print(mydict)\n",
    "\n",
    "# 11. key가 'pink'인 key요소를 출력하되 없으면 오류가 나지 않도록 하세요\n",
    "# print(mydict['pink']) - error\n",
    "print(mydict.get('pink'))\n",
    "\n",
    "# 12. value에 7이 있는지 확인하세요\n",
    "print(7 in mydict.values())\n",
    "\n",
    "# 13. key를 입력받아서 mydict에 있으면 값을 출력하고, 없으면 값을 100으로 추가하세요\n",
    "#     1) 함수를 사용하서 구현하세요\n",
    "#     2) 함수를 사용하지 말고 조건문을 사용해서 구현하세요\n",
    "\n",
    "# 1)\n",
    "# key = input('key를 입력하세요')\n",
    "# mydict.setdefault(key, 100)\n",
    "# print(mydict)\n",
    "\n",
    "# 2)\n",
    "# key = input('key를 입력하세요')\n",
    "# if key in mydict:\n",
    "#     print(mydict[key])\n",
    "# else:\n",
    "#     mydict[key] = 100\n",
    "#     print(mydict)\n",
    "\n",
    "# 14. key와 value를 입력받은 후 key가 있으면 value를 새로운 입력된 value로 수정하고,\n",
    "#     key가 없으면 입력받은 key와 value를 mydict에 추가하세요\n",
    "\n",
    "# key = input('key를 입력하세요')\n",
    "# val = input('value를 입력하세요')\n",
    "\n",
    "# if key in mydict:\n",
    "#     mydict[key] = val\n",
    "#     print(mydict)\n",
    "# else:\n",
    "#     mydict[key] = val\n",
    "#     print(mydict)    \n",
    "\n",
    "# 15. 삭제할 key를 입력받은 후 입력받은 key가 mydict에 있으면 삭제하고, 없으면 \"해당 \n",
    "#     key는 존재하지 않습니다\"를 출력하세요\n",
    "\n",
    "key = input('key를 입력하세요')\n",
    "\n",
    "if key in mydict:\n",
    "    mydict.pop(key)\n",
    "    print(mydict)\n",
    "else:\n",
    "    print('해당 key가 없습니다')"
   ]
  },
  {
   "cell_type": "code",
   "execution_count": null,
   "id": "0838494a",
   "metadata": {},
   "outputs": [],
   "source": []
  },
  {
   "cell_type": "code",
   "execution_count": null,
   "id": "ecebca65",
   "metadata": {},
   "outputs": [],
   "source": []
  },
  {
   "cell_type": "code",
   "execution_count": null,
   "id": "1d1a07b2",
   "metadata": {},
   "outputs": [],
   "source": []
  },
  {
   "cell_type": "code",
   "execution_count": null,
   "id": "b92e0cac",
   "metadata": {},
   "outputs": [],
   "source": []
  }
 ],
 "metadata": {
  "kernelspec": {
   "display_name": "Python 3 (ipykernel)",
   "language": "python",
   "name": "python3"
  },
  "language_info": {
   "codemirror_mode": {
    "name": "ipython",
    "version": 3
   },
   "file_extension": ".py",
   "mimetype": "text/x-python",
   "name": "python",
   "nbconvert_exporter": "python",
   "pygments_lexer": "ipython3",
   "version": "3.9.12"
  },
  "toc": {
   "base_numbering": 1,
   "nav_menu": {},
   "number_sections": true,
   "sideBar": true,
   "skip_h1_title": false,
   "title_cell": "Table of Contents",
   "title_sidebar": "Contents",
   "toc_cell": false,
   "toc_position": {},
   "toc_section_display": true,
   "toc_window_display": false
  },
  "varInspector": {
   "cols": {
    "lenName": 16,
    "lenType": 16,
    "lenVar": 40
   },
   "kernels_config": {
    "python": {
     "delete_cmd_postfix": "",
     "delete_cmd_prefix": "del ",
     "library": "var_list.py",
     "varRefreshCmd": "print(var_dic_list())"
    },
    "r": {
     "delete_cmd_postfix": ") ",
     "delete_cmd_prefix": "rm(",
     "library": "var_list.r",
     "varRefreshCmd": "cat(var_dic_list()) "
    }
   },
   "types_to_exclude": [
    "module",
    "function",
    "builtin_function_or_method",
    "instance",
    "_Feature"
   ],
   "window_display": false
  }
 },
 "nbformat": 4,
 "nbformat_minor": 5
}
