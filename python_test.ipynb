{
 "cells": [
  {
   "cell_type": "markdown",
   "id": "546ac38f",
   "metadata": {},
   "source": [
    "# Python Test"
   ]
  },
  {
   "cell_type": "code",
   "execution_count": null,
   "id": "9f1c0e97",
   "metadata": {},
   "outputs": [],
   "source": []
  },
  {
   "cell_type": "code",
   "execution_count": 24,
   "id": "d97636d7",
   "metadata": {},
   "outputs": [
    {
     "name": "stdout",
     "output_type": "stream",
     "text": [
      "이름을 입력하세요박철순\n",
      "박철순 환영합니다!!\n"
     ]
    }
   ],
   "source": [
    "# String Test\n",
    "\n",
    "txt = 'A tale that was not right'\n",
    "\n",
    "# 1. 'ale'을 출력하시오\n",
    "txt[3:6]\n",
    "\n",
    "# 2. 'A tale'을 출력\n",
    "txt[0:6]\n",
    "txt[:6]\n",
    "\n",
    "# 3. 'not'을 출력\n",
    "txt[-9:-6]\n",
    "# txt.split()[-2]\n",
    "\n",
    "# 4. txt를 소문자로 전환하시오\n",
    "txt.lower()\n",
    "\n",
    "# 5. txt를 대문자로 전환하시오\n",
    "txt.upper()\n",
    "\n",
    "# 6. 'o'가 몇 개 존재하는가\n",
    "txt.count('o')\n",
    "\n",
    "# 7. 'o'가 몇 번째 인덱스에 처음 등장하는가\n",
    "txt.find('o')\n",
    "\n",
    "# 8. 'txt'의 길이를 출력하시오\n",
    "len(txt)\n",
    "\n",
    "# 9. space를 기준으로 나누어서 리스트에 넣으시오\n",
    "L = txt.split()\n",
    "L\n",
    "# 10. 위의 리스트를 '='기준으로 이어서 str로 바꾸시오\n",
    "'='.join(L)\n",
    "\n",
    "# 11. txt에 'right'가 존재하는지 확인하시오\n",
    "'right' in txt\n",
    "\n",
    "# 12. 'tale'을 'story'로 바꾸시오..\n",
    "txt.replace('tale', 'story')\n",
    "\n",
    "# 13. 이름을 입력받은 후 \"[이름]님 환영합니다!!\"라고 출력되도록 하시오\n",
    "name = input('이름을 입력하세요')\n",
    "# text = '{}님 환영합니다!!'.format(name)\n",
    "text = '%s 환영합니다!!'%(name)\n",
    "print(text)"
   ]
  },
  {
   "cell_type": "code",
   "execution_count": null,
   "id": "c62749f2",
   "metadata": {},
   "outputs": [],
   "source": []
  },
  {
   "cell_type": "code",
   "execution_count": null,
   "id": "6ff4cbbe",
   "metadata": {},
   "outputs": [],
   "source": []
  },
  {
   "cell_type": "code",
   "execution_count": null,
   "id": "d6410027",
   "metadata": {},
   "outputs": [],
   "source": [
    "# List Test"
   ]
  },
  {
   "cell_type": "code",
   "execution_count": 32,
   "id": "f22687ea",
   "metadata": {},
   "outputs": [
    {
     "name": "stdout",
     "output_type": "stream",
     "text": [
      "['수성', '금성', '지구']\n",
      "3\n",
      "['태양', '명왕성', '수성', '금성', '지구', '해왕성', '목성', '지구', '토성']\n",
      "['태양', '명왕성', '수성', '금성', '지구', '해왕성', '목성', '지구']\n",
      "['태양', '명왕성', '지구', '해왕성', '목성', '지구']\n",
      "['태양', '명왕성', '지구', '해왕성', '목성', '지구', '토성', '천황성', '해왕성']\n",
      "['해왕성', '해왕성', '토성', '태양', '천황성', '지구', '지구', '목성', '명왕성']\n",
      "['명왕성', '목성', '지구', '지구', '천황성', '태양', '토성', '해왕성', '해왕성']\n",
      "False\n",
      "True\n",
      "['태양', '명왕성', '지구', '해왕성', '목성', '지구', '토성', '천황성', '해왕성', '태양', '명왕성', '지구', '해왕성', '목성', '지구', '토성', '천황성', '해왕성', '태양', '명왕성', '지구', '해왕성', '목성', '지구', '토성', '천황성', '해왕성']\n",
      "9\n",
      "2\n",
      "['해왕성', '천황성', '토성', '지구', '목성', '해왕성', '지구', '명왕성', '태양']\n",
      "[]\n"
     ]
    },
    {
     "ename": "NameError",
     "evalue": "name 'sol' is not defined",
     "output_type": "error",
     "traceback": [
      "\u001b[1;31m---------------------------------------------------------------------------\u001b[0m",
      "\u001b[1;31mNameError\u001b[0m                                 Traceback (most recent call last)",
      "Input \u001b[1;32mIn [32]\u001b[0m, in \u001b[0;36m<cell line: 51>\u001b[1;34m()\u001b[0m\n\u001b[0;32m     49\u001b[0m \u001b[38;5;66;03m# 18. sol 리스트를 제거하시오\u001b[39;00m\n\u001b[0;32m     50\u001b[0m \u001b[38;5;28;01mdel\u001b[39;00m sol\n\u001b[1;32m---> 51\u001b[0m \u001b[38;5;28mprint\u001b[39m(\u001b[43msol\u001b[49m)\n",
      "\u001b[1;31mNameError\u001b[0m: name 'sol' is not defined"
     ]
    }
   ],
   "source": [
    "sol = ['태양','수성','금성','지구','화성','목성','지구']\n",
    "sol1 = ['토성','천황성','해왕성']\n",
    "planet = '지구'\n",
    "\n",
    "# 1. sol에서 ['수성','금성','지구']를 출력\n",
    "print(sol[1:4])\n",
    "# 2. sol에서 '지구' 인덱스를 출력\n",
    "print(sol.index('지구'))\n",
    "# 3. sol에서 '화성'을 '해왕성'으로 수정\n",
    "sol[4] = '해왕성'\n",
    "sol\n",
    "# 4. sol에서 '수성'자리에 '명왕성' 삽입\n",
    "sol.insert(1, '명왕성')\n",
    "sol\n",
    "# 5. sol에서 '토성'을 맨 끝에 삽입\n",
    "sol.append('토성')\n",
    "print(sol)\n",
    "# 6. sol에서 맨 끝 요소를 삭제하고 리턴\n",
    "sol.pop()\n",
    "print(sol)\n",
    "# 7. sol에서 '금성'을 제거\n",
    "sol.remove('금성')\n",
    "sol\n",
    "# 8. sol에서 2번 인덱스 값을 제거\n",
    "sol.pop(2)\n",
    "print(sol)\n",
    "# 9. sol에 sol1을 뒤에 이으시오\n",
    "sol.extend(sol1)\n",
    "print(sol)\n",
    "# 10. sol을 내림차순으로 정렬하시오\n",
    "print(sorted(sol, reverse=True))\n",
    "# 11. sol을 올림차순으로 정렬하시오\n",
    "print(sorted(sol))\n",
    "# 12. '만리장성'이 있는지 확인하시오\n",
    "print('만리장성' in sol)\n",
    "print('천황성' in sol)\n",
    "# 13. sol을 3번 반복하시오\n",
    "print(sol * 3)\n",
    "# 14. sol의 길이를 출력하시오\n",
    "print(len(sol))\n",
    "# 15. sol에 '지구'가 몇 개 포함되어 있는지 확인하시오.\n",
    "print(sol.count('지구'))\n",
    "# 16. sol 원소의 순서를 바꾸시오.\n",
    "sol.reverse()\n",
    "print(sol)\n",
    "# 17. sol의 모든 원소를 지우시오\n",
    "sol.clear()\n",
    "print(sol)\n",
    "# 18. sol 리스트를 제거하시오\n",
    "del sol\n",
    "print(sol)"
   ]
  },
  {
   "cell_type": "code",
   "execution_count": null,
   "id": "38d88a2a",
   "metadata": {},
   "outputs": [],
   "source": []
  },
  {
   "cell_type": "code",
   "execution_count": 47,
   "id": "1e5e6d3e",
   "metadata": {},
   "outputs": [
    {
     "name": "stdout",
     "output_type": "stream",
     "text": [
      "tuple\n",
      "3\n",
      "[4, 5]\n",
      "[4, 5]\n",
      "6\n",
      "True\n",
      "3\n",
      "1\n",
      "[4, 5, 6, 7]\n",
      "7 4\n",
      "[3, 2, 1]\n"
     ]
    }
   ],
   "source": [
    "# Tuple Test\n",
    "\n",
    "mytuple = ('tuple', (1,2,3), [4,5,6,7], '7','8','9')\n",
    "\n",
    "# 1. 'tuple'을 출력하시오\n",
    "print(mytuple[0])\n",
    "# 2. 3을 출력하시오\n",
    "print(mytuple[1][2])\n",
    "# 3. 4, 5를 출력하시오\n",
    "print(mytuple[2][0:2])\n",
    "print(mytuple[2][:2])\n",
    "# 4. tuple의 길이를 출력하시오\n",
    "print(len(mytuple))\n",
    "# 5. '7'이 있는지 확인하시오\n",
    "print('7' in mytuple)\n",
    "# 6. '7' 값이 있으면 인덱스를 출력하시오\n",
    "print(mytuple.index('7'))\n",
    "# 7. '7'이 몇 번 있는지 확인하시오.\n",
    "print(mytuple.count('7'))\n",
    "# 8. 인덱스 2번의 값을 출력하시오\n",
    "print(mytuple[2])\n",
    "# 9. 인덱스 2번의 최대값, 최소값을 출력하시오\n",
    "print(max(mytuple[2]), min(mytuple[2]))\n",
    "# 10. 인덱스 1번을 내림차순 정렬하시오.\n",
    "print(sorted(mytuple[1], reverse=True))"
   ]
  },
  {
   "cell_type": "code",
   "execution_count": null,
   "id": "30bfb045",
   "metadata": {},
   "outputs": [],
   "source": []
  },
  {
   "cell_type": "code",
   "execution_count": null,
   "id": "30f01eda",
   "metadata": {},
   "outputs": [],
   "source": []
  },
  {
   "cell_type": "code",
   "execution_count": null,
   "id": "9a6efa1f",
   "metadata": {},
   "outputs": [],
   "source": []
  },
  {
   "cell_type": "code",
   "execution_count": null,
   "id": "99763a5d",
   "metadata": {},
   "outputs": [],
   "source": []
  },
  {
   "cell_type": "code",
   "execution_count": null,
   "id": "c6b4d391",
   "metadata": {},
   "outputs": [],
   "source": []
  },
  {
   "cell_type": "code",
   "execution_count": null,
   "id": "890dba86",
   "metadata": {},
   "outputs": [],
   "source": []
  },
  {
   "cell_type": "code",
   "execution_count": null,
   "id": "0838494a",
   "metadata": {},
   "outputs": [],
   "source": []
  },
  {
   "cell_type": "code",
   "execution_count": null,
   "id": "ecebca65",
   "metadata": {},
   "outputs": [],
   "source": []
  },
  {
   "cell_type": "code",
   "execution_count": null,
   "id": "1d1a07b2",
   "metadata": {},
   "outputs": [],
   "source": []
  },
  {
   "cell_type": "code",
   "execution_count": null,
   "id": "b92e0cac",
   "metadata": {},
   "outputs": [],
   "source": []
  }
 ],
 "metadata": {
  "kernelspec": {
   "display_name": "Python 3 (ipykernel)",
   "language": "python",
   "name": "python3"
  },
  "language_info": {
   "codemirror_mode": {
    "name": "ipython",
    "version": 3
   },
   "file_extension": ".py",
   "mimetype": "text/x-python",
   "name": "python",
   "nbconvert_exporter": "python",
   "pygments_lexer": "ipython3",
   "version": "3.9.12"
  }
 },
 "nbformat": 4,
 "nbformat_minor": 5
}
