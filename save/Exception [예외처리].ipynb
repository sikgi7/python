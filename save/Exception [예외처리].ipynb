{
 "cells": [
  {
   "cell_type": "code",
   "execution_count": 12,
   "id": "9ca588b7",
   "metadata": {},
   "outputs": [
    {
     "data": {
      "text/html": [
       "<style>.container { width:61% !important; }</style>"
      ],
      "text/plain": [
       "<IPython.core.display.HTML object>"
      ]
     },
     "metadata": {},
     "output_type": "display_data"
    }
   ],
   "source": [
    "from IPython.display import display, HTML\n",
    "display(HTML(\"<style>.container { width:61% !important; }</style>\"))"
   ]
  },
  {
   "cell_type": "markdown",
   "id": "269c25f7",
   "metadata": {},
   "source": [
    "# 예외처리\n",
    "- try:\n",
    "     실행코드1\n",
    "     실행코드2\n",
    "     ...\n",
    "    \n",
    "- except:\n",
    "     오류시 실행코드1\n",
    "     오류시 실행코드2\n",
    "     ...."
   ]
  },
  {
   "cell_type": "code",
   "execution_count": 11,
   "id": "a2521c91",
   "metadata": {
    "scrolled": true
   },
   "outputs": [
    {
     "name": "stdout",
     "output_type": "stream",
     "text": [
      "임의의 정수를 입력하세요65\n",
      "임의의 정수를 입력하세요5\n",
      "13.0\n",
      "마포대교가 막힙니다.\n",
      "양화대교는 무너졌냐.\n"
     ]
    }
   ],
   "source": [
    "# 두 정수(a, b)를 입력받은 후 , a를 b로 나눈 값을 출력하는 코드. \n",
    "\n",
    "try: # (예외 발생 가능성이 있는 문장)\n",
    "    a = int(input('임의의 정수를 입력하세요'))        # 대부분 try - except 에서 끝\n",
    "    b = int(input('임의의 정수를 입력하세요'))\n",
    "\n",
    "    result = a/b\n",
    "    print(result)\n",
    "    \n",
    "except: # (예외 종류) \n",
    "    print('b에는 0이 아닌 정수를 입력하세요') # (예외처리문장) \n",
    "\n",
    "else: # (예외가 발생하지 않은 경우, 수행할 문장)\n",
    "    print('마포대교가 막힙니다.')\n",
    "    \n",
    "finally : # (예외가 발생하지 않은 경우, 수행할 문장)\n",
    "    print('양화대교는 무너졌냐.')"
   ]
  },
  {
   "cell_type": "markdown",
   "id": "1becd059",
   "metadata": {},
   "source": [
    "### syntax error"
   ]
  },
  {
   "cell_type": "code",
   "execution_count": null,
   "id": "70fe1f22",
   "metadata": {},
   "outputs": [],
   "source": [
    "# print('hello world), print('hello world'"
   ]
  },
  {
   "cell_type": "markdown",
   "id": "0f3c911a",
   "metadata": {},
   "source": [
    "### name error"
   ]
  },
  {
   "cell_type": "code",
   "execution_count": null,
   "id": "5f647174",
   "metadata": {},
   "outputs": [],
   "source": [
    "print(aa), print('aa')"
   ]
  },
  {
   "cell_type": "markdown",
   "id": "30ad88a9",
   "metadata": {},
   "source": [
    "### zero division error"
   ]
  },
  {
   "cell_type": "code",
   "execution_count": null,
   "id": "04f46e34",
   "metadata": {},
   "outputs": [],
   "source": [
    "a = 5\n",
    "b = 0       # 0이 들어가면 안됨 분수오류 \n",
    "                                            \n",
    "a/b"
   ]
  },
  {
   "cell_type": "code",
   "execution_count": null,
   "id": "fcf04d67",
   "metadata": {},
   "outputs": [],
   "source": [
    "# 예외의 종류별로 다르게 예외처리\n",
    "\n",
    "# try:\n",
    "#     실행코드\n",
    "# except 예외종류1:\n",
    "#     오류처리코드\n",
    "# except 예외종류2:\n",
    "#     오류처리코드\n",
    "# except 예외종류3:\n",
    "#     오류처리코드\n",
    "# else\n",
    "#     오류가 없을 때 실행할코드\n",
    "# finally:\n",
    "#     무조건 실행할 코드"
   ]
  },
  {
   "cell_type": "markdown",
   "id": "5d8b02e9",
   "metadata": {},
   "source": [
    "---\n",
    "##### index error"
   ]
  },
  {
   "cell_type": "code",
   "execution_count": 18,
   "id": "f02c9764",
   "metadata": {
    "collapsed": true
   },
   "outputs": [
    {
     "ename": "NameError",
     "evalue": "name 'zerodivisionerror' is not defined",
     "output_type": "error",
     "traceback": [
      "\u001b[1;31m---------------------------------------------------------------------------\u001b[0m",
      "\u001b[1;31mIndexError\u001b[0m                                Traceback (most recent call last)",
      "Input \u001b[1;32mIn [18]\u001b[0m, in \u001b[0;36m<cell line: 5>\u001b[1;34m()\u001b[0m\n\u001b[0;32m      6\u001b[0m     c \u001b[38;5;241m=\u001b[39m a\u001b[38;5;241m/\u001b[39mb\n\u001b[1;32m----> 7\u001b[0m     \u001b[43mL\u001b[49m\u001b[43m[\u001b[49m\u001b[38;5;241;43m3\u001b[39;49m\u001b[43m]\u001b[49m\n\u001b[0;32m      8\u001b[0m \u001b[38;5;28;01mexcept\u001b[39;00m zerodivisionerror:\n",
      "\u001b[1;31mIndexError\u001b[0m: list index out of range",
      "\nDuring handling of the above exception, another exception occurred:\n",
      "\u001b[1;31mNameError\u001b[0m                                 Traceback (most recent call last)",
      "Input \u001b[1;32mIn [18]\u001b[0m, in \u001b[0;36m<cell line: 5>\u001b[1;34m()\u001b[0m\n\u001b[0;32m      6\u001b[0m     c \u001b[38;5;241m=\u001b[39m a\u001b[38;5;241m/\u001b[39mb\n\u001b[0;32m      7\u001b[0m     L[\u001b[38;5;241m3\u001b[39m]\n\u001b[1;32m----> 8\u001b[0m \u001b[38;5;28;01mexcept\u001b[39;00m \u001b[43mzerodivisionerror\u001b[49m:\n\u001b[0;32m      9\u001b[0m     \u001b[38;5;28mprint\u001b[39m(\u001b[38;5;124m'\u001b[39m\u001b[38;5;124mcannot divide by zero\u001b[39m\u001b[38;5;124m'\u001b[39m)\n\u001b[0;32m     10\u001b[0m \u001b[38;5;28;01melse\u001b[39;00m:\n",
      "\u001b[1;31mNameError\u001b[0m: name 'zerodivisionerror' is not defined"
     ]
    }
   ],
   "source": [
    "a = 5\n",
    "b = 1\n",
    "L = ['a','b','c']\n",
    "\n",
    "try:\n",
    "    c = a/b\n",
    "    L[3]   # index error\n",
    "except ZeroDivisionError:\n",
    "    print('cannot divide by zero')\n",
    "else:\n",
    "    print(c)"
   ]
  },
  {
   "cell_type": "code",
   "execution_count": 22,
   "id": "e70b8a56",
   "metadata": {},
   "outputs": [
    {
     "name": "stdout",
     "output_type": "stream",
     "text": [
      "코드에서 error가 발생했습니다\n"
     ]
    }
   ],
   "source": [
    "a = 5\n",
    "b = 1\n",
    "L = ['a','b','c']\n",
    "\n",
    "try:\n",
    "    c = a/b\n",
    "    L[3]   # index error\n",
    "except Exception as e:\n",
    "    print('코드에서 error가 발생했습니다..')\n",
    "    print('error :', e)\n",
    "else:\n",
    "    print(c)"
   ]
  },
  {
   "cell_type": "markdown",
   "id": "7474b25d",
   "metadata": {},
   "source": [
    "---\n",
    "#### name error"
   ]
  },
  {
   "cell_type": "code",
   "execution_count": 23,
   "id": "433a4e90",
   "metadata": {
    "collapsed": true
   },
   "outputs": [
    {
     "ename": "NameError",
     "evalue": "name 'exception' is not defined",
     "output_type": "error",
     "traceback": [
      "\u001b[1;31m---------------------------------------------------------------------------\u001b[0m",
      "\u001b[1;31mIndexError\u001b[0m                                Traceback (most recent call last)",
      "Input \u001b[1;32mIn [23]\u001b[0m, in \u001b[0;36m<cell line: 5>\u001b[1;34m()\u001b[0m\n\u001b[0;32m      6\u001b[0m     c \u001b[38;5;241m=\u001b[39m a\u001b[38;5;241m/\u001b[39mb\n\u001b[1;32m----> 7\u001b[0m     \u001b[43mL\u001b[49m\u001b[43m[\u001b[49m\u001b[38;5;241;43m3\u001b[39;49m\u001b[43m]\u001b[49m \u001b[38;5;66;03m# index error\u001b[39;00m\n\u001b[0;32m      8\u001b[0m \u001b[38;5;28;01mexcept\u001b[39;00m exception \u001b[38;5;28;01mas\u001b[39;00m e:\n",
      "\u001b[1;31mIndexError\u001b[0m: list index out of range",
      "\nDuring handling of the above exception, another exception occurred:\n",
      "\u001b[1;31mNameError\u001b[0m                                 Traceback (most recent call last)",
      "Input \u001b[1;32mIn [23]\u001b[0m, in \u001b[0;36m<cell line: 5>\u001b[1;34m()\u001b[0m\n\u001b[0;32m      6\u001b[0m     c \u001b[38;5;241m=\u001b[39m a\u001b[38;5;241m/\u001b[39mb\n\u001b[0;32m      7\u001b[0m     L[\u001b[38;5;241m3\u001b[39m] \u001b[38;5;66;03m# index error\u001b[39;00m\n\u001b[1;32m----> 8\u001b[0m \u001b[38;5;28;01mexcept\u001b[39;00m \u001b[43mexception\u001b[49m \u001b[38;5;28;01mas\u001b[39;00m e:\n\u001b[0;32m      9\u001b[0m     \u001b[38;5;28mprint\u001b[39m(\u001b[38;5;124m'\u001b[39m\u001b[38;5;124m코드에서 error가 발생했습니다\u001b[39m\u001b[38;5;124m'\u001b[39m)\n\u001b[0;32m     10\u001b[0m     \u001b[38;5;28mprint\u001b[39m(\u001b[38;5;124m'\u001b[39m\u001b[38;5;124merror :\u001b[39m\u001b[38;5;124m'\u001b[39m, e)\n",
      "\u001b[1;31mNameError\u001b[0m: name 'exception' is not defined"
     ]
    }
   ],
   "source": [
    "a = 5\n",
    "b = 1\n",
    "L = ['a','b','c']\n",
    "print('hello')\n",
    "\n",
    "try:\n",
    "    c = a/b\n",
    "    print(x)  # name error\n",
    "    L[3]   # index error\n",
    "    \n",
    "except ZeroDivisionError:\n",
    "    print('zerodivision error occured')\n",
    "except NameError:\n",
    "    print('name error occured')\n",
    "except IndexError:\n",
    "    print('index error occured')\n",
    "    \n",
    "else:\n",
    "    print(c)"
   ]
  },
  {
   "cell_type": "code",
   "execution_count": null,
   "id": "f8f4ca02",
   "metadata": {},
   "outputs": [],
   "source": [
    "a = 5\n",
    "b = 1\n",
    "x = 10\n",
    "L = ['a','b','c']\n",
    "print('hello')\n",
    "\n",
    "try:\n",
    "    c = a/b\n",
    "    print(x)  # name error\n",
    "    L[3]   # index error\n",
    "    \n",
    "except ZeroDivisionError:\n",
    "    print('zerodivision error occured')\n",
    "except NameError:\n",
    "    print('name error occured')\n",
    "except IndexError:\n",
    "    print('index error occured')\n",
    "    \n",
    "else:\n",
    "    print(c)"
   ]
  },
  {
   "cell_type": "markdown",
   "id": "09bfe4fc",
   "metadata": {},
   "source": [
    "---\n",
    "#### 종합오류"
   ]
  },
  {
   "cell_type": "code",
   "execution_count": 29,
   "id": "bf27d49d",
   "metadata": {
    "collapsed": true
   },
   "outputs": [
    {
     "ename": "IndentationError",
     "evalue": "unindent does not match any outer indentation level (<tokenize>, line 17)",
     "output_type": "error",
     "traceback": [
      "\u001b[1;36m  File \u001b[1;32m<tokenize>:17\u001b[1;36m\u001b[0m\n\u001b[1;33m    else:\u001b[0m\n\u001b[1;37m    ^\u001b[0m\n\u001b[1;31mIndentationError\u001b[0m\u001b[1;31m:\u001b[0m unindent does not match any outer indentation level\n"
     ]
    }
   ],
   "source": [
    "a = 5\n",
    "b = 1\n",
    "x = 10\n",
    "L = ['a','b','c']\n",
    "print('hello')\n",
    "\n",
    "try:\n",
    "    c = a/b\n",
    "    print(x)  \n",
    "    L[2]   \n",
    "    \n",
    "except ZeroDivisionError:\n",
    "    print('zerodivision error occured')\n",
    "except NameError:\n",
    "    print('name error occured')\n",
    "except IndexError:\n",
    "    print('index error occured')\n",
    "    \n",
    "else:\n",
    "    print(c)\n",
    "    \n",
    "finally:\n",
    "    print('finally를 프린트합니다..')"
   ]
  },
  {
   "cell_type": "code",
   "execution_count": null,
   "id": "364fe00b",
   "metadata": {},
   "outputs": [],
   "source": [
    "a = 5\n",
    "b = 1\n",
    "L = ['a','b','c']\n",
    "\n",
    "try:\n",
    "    c = a/b\n",
    "    L[3]   \n",
    "except IndexError:\n",
    "    print('index error occured')\n",
    "except Exception as e:\n",
    "    print('코드에서 error가 발생했습니다..')\n",
    "    print('error :', e)\n",
    "else:\n",
    "    print(c)"
   ]
  },
  {
   "cell_type": "code",
   "execution_count": null,
   "id": "c1ec262c",
   "metadata": {},
   "outputs": [],
   "source": [
    "a = 5\n",
    "b = 1\n",
    "L = ['a','b','c']\n",
    "\n",
    "try:\n",
    "    c = a/b\n",
    "    L[3]   \n",
    "\n",
    "except Exception as e:\n",
    "    print('코드에서 error가 발생했습니다..')\n",
    "    print('error :', e)\n",
    "    \n",
    "    if 'index' in str(e):\n",
    "        print()\n",
    "        print('index error가 발생했습니다..')\n",
    "        \n",
    "else:\n",
    "    print(c)"
   ]
  },
  {
   "cell_type": "code",
   "execution_count": null,
   "id": "77fa8764",
   "metadata": {},
   "outputs": [],
   "source": []
  },
  {
   "cell_type": "code",
   "execution_count": null,
   "id": "b79035a3",
   "metadata": {},
   "outputs": [],
   "source": []
  },
  {
   "cell_type": "code",
   "execution_count": null,
   "id": "f8079e91",
   "metadata": {},
   "outputs": [],
   "source": []
  },
  {
   "cell_type": "code",
   "execution_count": null,
   "id": "25b61f03",
   "metadata": {},
   "outputs": [],
   "source": []
  },
  {
   "cell_type": "code",
   "execution_count": null,
   "id": "81293712",
   "metadata": {},
   "outputs": [],
   "source": []
  }
 ],
 "metadata": {
  "kernelspec": {
   "display_name": "Python 3 (ipykernel)",
   "language": "python",
   "name": "python3"
  },
  "language_info": {
   "codemirror_mode": {
    "name": "ipython",
    "version": 3
   },
   "file_extension": ".py",
   "mimetype": "text/x-python",
   "name": "python",
   "nbconvert_exporter": "python",
   "pygments_lexer": "ipython3",
   "version": "3.9.12"
  },
  "toc": {
   "base_numbering": 1,
   "nav_menu": {},
   "number_sections": true,
   "sideBar": true,
   "skip_h1_title": false,
   "title_cell": "Table of Contents",
   "title_sidebar": "Contents",
   "toc_cell": false,
   "toc_position": {},
   "toc_section_display": true,
   "toc_window_display": false
  },
  "varInspector": {
   "cols": {
    "lenName": 16,
    "lenType": 16,
    "lenVar": 40
   },
   "kernels_config": {
    "python": {
     "delete_cmd_postfix": "",
     "delete_cmd_prefix": "del ",
     "library": "var_list.py",
     "varRefreshCmd": "print(var_dic_list())"
    },
    "r": {
     "delete_cmd_postfix": ") ",
     "delete_cmd_prefix": "rm(",
     "library": "var_list.r",
     "varRefreshCmd": "cat(var_dic_list()) "
    }
   },
   "types_to_exclude": [
    "module",
    "function",
    "builtin_function_or_method",
    "instance",
    "_Feature"
   ],
   "window_display": false
  }
 },
 "nbformat": 4,
 "nbformat_minor": 5
}
