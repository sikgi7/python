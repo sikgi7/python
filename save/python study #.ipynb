{
 "cells": [
  {
   "cell_type": "code",
   "execution_count": 2,
   "id": "8ca122d0",
   "metadata": {
    "scrolled": true
   },
   "outputs": [
    {
     "name": "stdout",
     "output_type": "stream",
     "text": [
      "hello world!\n"
     ]
    }
   ],
   "source": [
    "print(\"hello world!\") # 셀(cell)실행 : 시프트+엔터(shift + enter)"
   ]
  },
  {
   "cell_type": "code",
   "execution_count": 10,
   "id": "b6fd7053",
   "metadata": {},
   "outputs": [
    {
     "data": {
      "text/plain": [
       "183"
      ]
     },
     "execution_count": 10,
     "metadata": {},
     "output_type": "execute_result"
    }
   ],
   "source": [
    "158+25 # 셀선택 모드 vs 편집모드"
   ]
  },
  {
   "cell_type": "code",
   "execution_count": 6,
   "id": "376441f7",
   "metadata": {
    "scrolled": true
   },
   "outputs": [
    {
     "data": {
      "text/plain": [
       "5"
      ]
     },
     "execution_count": 6,
     "metadata": {},
     "output_type": "execute_result"
    }
   ],
   "source": [
    "test_func(2,3)"
   ]
  },
  {
   "cell_type": "code",
   "execution_count": null,
   "id": "426fe9e8",
   "metadata": {},
   "outputs": [],
   "source": [
    "# 셀 삭제 : 셀선택+D두번 \n",
    "#셀 이동 : 위아래 화살표\n",
    "#빈 셀 추가 : 셀선택 + a (위에 셀 생성) , 셀선택 + b (아래 셀 생성)"
   ]
  },
  {
   "cell_type": "code",
   "execution_count": 14,
   "id": "35d3a983",
   "metadata": {},
   "outputs": [],
   "source": [
    "def test_func(a,b):\n",
    "    return a+b"
   ]
  },
  {
   "cell_type": "code",
   "execution_count": 20,
   "id": "b23bf573",
   "metadata": {},
   "outputs": [
    {
     "name": "stdout",
     "output_type": "stream",
     "text": [
      "4950\n"
     ]
    }
   ],
   "source": [
    "suma = 0\n",
    "for i in range(100):\n",
    "    suma += i\n",
    "print(suma)"
   ]
  },
  {
   "cell_type": "code",
   "execution_count": null,
   "id": "813153ad",
   "metadata": {},
   "outputs": [],
   "source": [
    "####셀의 텍스트 모드 \n",
    "*텍스트모드"
   ]
  },
  {
   "cell_type": "code",
   "execution_count": null,
   "id": "a5b6e364",
   "metadata": {},
   "outputs": [],
   "source": []
  }
 ],
 "metadata": {
  "kernelspec": {
   "display_name": "Python 3 (ipykernel)",
   "language": "python",
   "name": "python3"
  },
  "language_info": {
   "codemirror_mode": {
    "name": "ipython",
    "version": 3
   },
   "file_extension": ".py",
   "mimetype": "text/x-python",
   "name": "python",
   "nbconvert_exporter": "python",
   "pygments_lexer": "ipython3",
   "version": "3.9.12"
  }
 },
 "nbformat": 4,
 "nbformat_minor": 5
}
