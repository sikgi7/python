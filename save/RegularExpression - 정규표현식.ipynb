{
 "cells": [
  {
   "cell_type": "code",
   "execution_count": 1,
   "id": "6ccc06d9",
   "metadata": {},
   "outputs": [
    {
     "data": {
      "text/html": [
       "<style>.container { width:61% !important; }</style>"
      ],
      "text/plain": [
       "<IPython.core.display.HTML object>"
      ]
     },
     "metadata": {},
     "output_type": "display_data"
    }
   ],
   "source": [
    "from IPython.display import display, HTML\n",
    "display(HTML(\"<style>.container { width:61% !important; }</style>\"))"
   ]
  },
  {
   "cell_type": "markdown",
   "id": "314e2de0",
   "metadata": {},
   "source": [
    "# 정규표현식\n",
    "- 텍스트를 정교하게 처리하기 위한 문법\n",
    "---"
   ]
  },
  {
   "cell_type": "markdown",
   "id": "26f0556d",
   "metadata": {},
   "source": [
    "#### 1. re.compile('정규표현식')\n",
    "---"
   ]
  },
  {
   "cell_type": "code",
   "execution_count": null,
   "id": "2df88f13",
   "metadata": {},
   "outputs": [],
   "source": [
    "# 문자열 앞 r , f 붙이는 이유\n",
    "# Formatted string literals\n",
    "# 본론부터 말하자면 string 앞 f 는  formatted string 리터럴 을 의미한다.\n",
    " \n",
    "# python 3.6 에서부터 사용되기 시작했으며 이전에는 .format 같은 방식으로 사용해 왔었다.\n",
    "# formatted string literals 는 아래 코드 예시처럼 사용 가능하다.\n",
    " \n",
    "# >>> a = 1\n",
    "# >>> b = 2\n",
    "# >>> fs = f\"{a} is a, {b} is b\"\n",
    "# >>> print(fs)\n",
    " \n",
    "# 그러면 출력은 어떻게 나올까? 아래처럼 실제 값을 대입해서 보여준다.\n",
    "\n",
    "# 참고삼아 예전에는 이런 방식으로 사용했다는 것만 알아두고 가자.\n",
    "\n",
    "# 아무튼 이렇게 format 을 뒤에 써 가면서 하던 방식이  python3 로 바뀌면서 얼마나 편해졌는지 모른다.\n",
    "# 이걸로 formatted string literal 에 대한 궁금증은 해소가 되었을 것 같다.\n",
    "# 이제 r 의 의미를 알아보자.\n",
    " \n",
    " \n",
    "# Raw string\n",
    "# python에서 string 앞에 r 을 표기해 주는 것은 해당 string literal을 raw string 으로 만들어 주기 위함이다. \n",
    "# 예시를 보면 조금 이해하기 편할 것 같다.\n",
    " \n",
    "# >>> mystring = \"hello\\tworld\\nI'm Kim\"\n",
    "# >>> print(mystring)\n",
    "# hello\tworld\n",
    "# I'm Kim\n",
    "# >>> mystring_raw = r\"hello\\tworld\\nI'm Kim\"\n",
    "# >>> print(mystring_raw)\n",
    "# hello\\tworld\\nI'm Kim\n",
    " \n",
    "# 출력이 차이가 난다는 것을 알 수 있을 것이다.\n",
    "# r이 없는 mystring의 경우, 개행이나 각종  Escape 문자를 출력하지 않는다.\n",
    "# 개행문자는 개행이 되고, \\t 은 tab처리된다.\n",
    " \n",
    "# 그런데 raw string은 다르다.\n",
    "# 모든 Escape 문자를 그대로 출력해 준다.\n",
    " \n",
    "# Raw string은 내 경험 상 regex를 이용해서 문자열을 찾아야 하는 경우 사용했던 것으로 기억한다.\n",
    "# tab이나 개행문자도 같이 찾아줘야했기 떄문이다."
   ]
  },
  {
   "cell_type": "code",
   "execution_count": 39,
   "id": "b0f3d005",
   "metadata": {},
   "outputs": [],
   "source": [
    "import re   # 정규표현식을 파이썬에서 사용하도록 하는 라이브러리(확장프로그램)"
   ]
  },
  {
   "cell_type": "code",
   "execution_count": 40,
   "id": "4196955f",
   "metadata": {},
   "outputs": [],
   "source": [
    "# 1. 정규표현식 객체를 생성\n",
    "# 2. 정규표현식 메소드를 통해서 패턴에 일치하는 문자열을 처리"
   ]
  },
  {
   "cell_type": "code",
   "execution_count": 41,
   "id": "d2188308",
   "metadata": {},
   "outputs": [],
   "source": [
    "regex = re.compile(r'\\d\\d\\d-\\d\\d\\d-\\d\\d\\d\\d') #Wd : 숫자"
   ]
  },
  {
   "cell_type": "code",
   "execution_count": 42,
   "id": "aec9da7b",
   "metadata": {},
   "outputs": [],
   "source": [
    "# search() : 패턴이 일치하는 첫 번째 문자열만 출력"
   ]
  },
  {
   "cell_type": "code",
   "execution_count": 43,
   "id": "b9e8bfa3",
   "metadata": {},
   "outputs": [
    {
     "data": {
      "text/plain": [
       "'415-555-4242'"
      ]
     },
     "execution_count": 43,
     "metadata": {},
     "output_type": "execute_result"
    }
   ],
   "source": [
    "# 2. 정규표현식 메소드 실행\n",
    "mo = regex.search('My number is 415-555-4242')\n",
    "mo.group()"
   ]
  },
  {
   "cell_type": "code",
   "execution_count": 44,
   "id": "390e81a6",
   "metadata": {},
   "outputs": [],
   "source": [
    "regex = re.compile(r'(\\d\\d\\d)-(\\d\\d\\d-\\d\\d\\d\\d)')"
   ]
  },
  {
   "cell_type": "code",
   "execution_count": 45,
   "id": "45d10b64",
   "metadata": {},
   "outputs": [
    {
     "data": {
      "text/plain": [
       "'415-555-4242'"
      ]
     },
     "execution_count": 45,
     "metadata": {},
     "output_type": "execute_result"
    }
   ],
   "source": [
    "mo = regex.search('My number is 415-555-4242')\n",
    "mo.group()"
   ]
  },
  {
   "cell_type": "code",
   "execution_count": 46,
   "id": "cabcf87d",
   "metadata": {},
   "outputs": [
    {
     "data": {
      "text/plain": [
       "'415'"
      ]
     },
     "execution_count": 46,
     "metadata": {},
     "output_type": "execute_result"
    }
   ],
   "source": [
    "mo.group(1)"
   ]
  },
  {
   "cell_type": "code",
   "execution_count": 47,
   "id": "4e14366b",
   "metadata": {},
   "outputs": [
    {
     "data": {
      "text/plain": [
       "'555-4242'"
      ]
     },
     "execution_count": 47,
     "metadata": {},
     "output_type": "execute_result"
    }
   ],
   "source": [
    "mo.group(2)"
   ]
  },
  {
   "cell_type": "code",
   "execution_count": 48,
   "id": "ad96bba4",
   "metadata": {},
   "outputs": [
    {
     "data": {
      "text/plain": [
       "('415', '555-4242')"
      ]
     },
     "execution_count": 48,
     "metadata": {},
     "output_type": "execute_result"
    }
   ],
   "source": [
    "mo.groups()"
   ]
  },
  {
   "cell_type": "code",
   "execution_count": null,
   "id": "1a70a6b5",
   "metadata": {},
   "outputs": [],
   "source": []
  },
  {
   "cell_type": "code",
   "execution_count": 49,
   "id": "06f74ce5",
   "metadata": {},
   "outputs": [],
   "source": [
    "regex = re.compile(r'Batman|Tina Fey') # batman Ehsms tina fey라는 문자열"
   ]
  },
  {
   "cell_type": "code",
   "execution_count": 50,
   "id": "b3576b2e",
   "metadata": {},
   "outputs": [
    {
     "data": {
      "text/plain": [
       "'Tina Fey'"
      ]
     },
     "execution_count": 50,
     "metadata": {},
     "output_type": "execute_result"
    }
   ],
   "source": [
    "mo = regex.search('Tina Fey and Batman')\n",
    "mo.group()"
   ]
  },
  {
   "cell_type": "code",
   "execution_count": 51,
   "id": "ae7274e3",
   "metadata": {},
   "outputs": [
    {
     "data": {
      "text/plain": [
       "'Batmobile'"
      ]
     },
     "execution_count": 51,
     "metadata": {},
     "output_type": "execute_result"
    }
   ],
   "source": [
    "regex = re.compile(r'Bat(man|mobile|coopter|bat)')\n",
    "mo = regex.search('Batmobile is lost in pool')\n",
    "mo.group()"
   ]
  },
  {
   "cell_type": "code",
   "execution_count": 52,
   "id": "5e45efe3",
   "metadata": {},
   "outputs": [
    {
     "data": {
      "text/plain": [
       "'Batman'"
      ]
     },
     "execution_count": 52,
     "metadata": {},
     "output_type": "execute_result"
    }
   ],
   "source": [
    "regex = re.compile(r'Bat(wo)?man')  # ? : 1번 또는 0번 출현하는 경우\n",
    "mo = regex.search('The Adventures of Batman')\n",
    "mo.group()"
   ]
  },
  {
   "cell_type": "code",
   "execution_count": 53,
   "id": "c28a24e7",
   "metadata": {},
   "outputs": [
    {
     "data": {
      "text/plain": [
       "'Batwoman'"
      ]
     },
     "execution_count": 53,
     "metadata": {},
     "output_type": "execute_result"
    }
   ],
   "source": [
    "mo = regex.search('The Adventures of Batwoman')\n",
    "mo.group()"
   ]
  },
  {
   "cell_type": "code",
   "execution_count": 54,
   "id": "86b043b1",
   "metadata": {
    "collapsed": true
   },
   "outputs": [
    {
     "ename": "AttributeError",
     "evalue": "'NoneType' object has no attribute 'group'",
     "output_type": "error",
     "traceback": [
      "\u001b[1;31m---------------------------------------------------------------------------\u001b[0m",
      "\u001b[1;31mAttributeError\u001b[0m                            Traceback (most recent call last)",
      "Input \u001b[1;32mIn [54]\u001b[0m, in \u001b[0;36m<cell line: 2>\u001b[1;34m()\u001b[0m\n\u001b[0;32m      1\u001b[0m mo \u001b[38;5;241m=\u001b[39m regex\u001b[38;5;241m.\u001b[39msearch(\u001b[38;5;124m'\u001b[39m\u001b[38;5;124mThe Adventures of Batwowoman\u001b[39m\u001b[38;5;124m'\u001b[39m)\n\u001b[1;32m----> 2\u001b[0m \u001b[43mmo\u001b[49m\u001b[38;5;241;43m.\u001b[39;49m\u001b[43mgroup\u001b[49m()\n",
      "\u001b[1;31mAttributeError\u001b[0m: 'NoneType' object has no attribute 'group'"
     ]
    }
   ],
   "source": [
    "mo = regex.search('The Adventures of Batwowoman')\n",
    "mo.group()"
   ]
  },
  {
   "cell_type": "code",
   "execution_count": null,
   "id": "f634acc8",
   "metadata": {},
   "outputs": [],
   "source": []
  },
  {
   "cell_type": "code",
   "execution_count": 55,
   "id": "986c8141",
   "metadata": {},
   "outputs": [
    {
     "data": {
      "text/plain": [
       "'Batman'"
      ]
     },
     "execution_count": 55,
     "metadata": {},
     "output_type": "execute_result"
    }
   ],
   "source": [
    "regex = re.compile(r'Bat(wo)*man')  # * : 앞 패턴이 0번 이상 나오는 패턴\n",
    "mo = regex.search('The Adventures of Batman')\n",
    "mo.group()"
   ]
  },
  {
   "cell_type": "code",
   "execution_count": 56,
   "id": "35837d52",
   "metadata": {},
   "outputs": [
    {
     "data": {
      "text/plain": [
       "'Batwoman'"
      ]
     },
     "execution_count": 56,
     "metadata": {},
     "output_type": "execute_result"
    }
   ],
   "source": [
    "mo = regex.search('The Adventures of Batwoman')\n",
    "mo.group()"
   ]
  },
  {
   "cell_type": "code",
   "execution_count": 58,
   "id": "b86fad14",
   "metadata": {},
   "outputs": [
    {
     "data": {
      "text/plain": [
       "'Batwowowowoman'"
      ]
     },
     "execution_count": 58,
     "metadata": {},
     "output_type": "execute_result"
    }
   ],
   "source": [
    "mo = regex.search('The Adventures of Batwowowowoman')\n",
    "mo.group()"
   ]
  },
  {
   "cell_type": "code",
   "execution_count": null,
   "id": "98f6c8aa",
   "metadata": {},
   "outputs": [],
   "source": []
  },
  {
   "cell_type": "code",
   "execution_count": null,
   "id": "86033e17",
   "metadata": {},
   "outputs": [],
   "source": []
  },
  {
   "cell_type": "code",
   "execution_count": null,
   "id": "7c5f7d34",
   "metadata": {},
   "outputs": [],
   "source": []
  },
  {
   "cell_type": "code",
   "execution_count": null,
   "id": "04911667",
   "metadata": {},
   "outputs": [],
   "source": []
  },
  {
   "cell_type": "code",
   "execution_count": null,
   "id": "cf7e271e",
   "metadata": {},
   "outputs": [],
   "source": []
  }
 ],
 "metadata": {
  "kernelspec": {
   "display_name": "Python 3 (ipykernel)",
   "language": "python",
   "name": "python3"
  },
  "language_info": {
   "codemirror_mode": {
    "name": "ipython",
    "version": 3
   },
   "file_extension": ".py",
   "mimetype": "text/x-python",
   "name": "python",
   "nbconvert_exporter": "python",
   "pygments_lexer": "ipython3",
   "version": "3.9.12"
  },
  "toc": {
   "base_numbering": 1,
   "nav_menu": {},
   "number_sections": true,
   "sideBar": true,
   "skip_h1_title": false,
   "title_cell": "Table of Contents",
   "title_sidebar": "Contents",
   "toc_cell": false,
   "toc_position": {},
   "toc_section_display": true,
   "toc_window_display": false
  },
  "varInspector": {
   "cols": {
    "lenName": 16,
    "lenType": 16,
    "lenVar": 40
   },
   "kernels_config": {
    "python": {
     "delete_cmd_postfix": "",
     "delete_cmd_prefix": "del ",
     "library": "var_list.py",
     "varRefreshCmd": "print(var_dic_list())"
    },
    "r": {
     "delete_cmd_postfix": ") ",
     "delete_cmd_prefix": "rm(",
     "library": "var_list.r",
     "varRefreshCmd": "cat(var_dic_list()) "
    }
   },
   "types_to_exclude": [
    "module",
    "function",
    "builtin_function_or_method",
    "instance",
    "_Feature"
   ],
   "window_display": false
  }
 },
 "nbformat": 4,
 "nbformat_minor": 5
}
