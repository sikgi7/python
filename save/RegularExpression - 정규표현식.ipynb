{
 "cells": [
  {
   "cell_type": "code",
   "execution_count": 1,
   "id": "6ccc06d9",
   "metadata": {},
   "outputs": [
    {
     "data": {
      "text/html": [
       "<style>.container { width:61% !important; }</style>"
      ],
      "text/plain": [
       "<IPython.core.display.HTML object>"
      ]
     },
     "metadata": {},
     "output_type": "display_data"
    }
   ],
   "source": [
    "from IPython.display import display, HTML\n",
    "display(HTML(\"<style>.container { width:61% !important; }</style>\"))"
   ]
  },
  {
   "cell_type": "markdown",
   "id": "314e2de0",
   "metadata": {},
   "source": [
    "# 정규표현식\n",
    "- 텍스트를 정교하게 처리하기 위한 문법\n",
    "- 정규식은 일련의 규칙을 이용해서 검색이나 잘못된 양식을 선별할 때 사용한다.\n",
    "- Python 뿐만 아니라 문자열을 처리하는 모든 곳에서 사용된다.\n",
    "---"
   ]
  },
  {
   "cell_type": "markdown",
   "id": "26f0556d",
   "metadata": {},
   "source": [
    "#### 1. re.compile('정규표현식')\n",
    "- 메타 문자란 문자가 가진 원래의 의미가 아닌 특별한 용도로 사용되는 문자를 말한다. 정규표현식에서 사용되는 메타 문자는 다음과     같다.\n",
    "-  . ^ $ * + ? \\ | ( ) { } [ ]  \n",
    "---"
   ]
  },
  {
   "cell_type": "code",
   "execution_count": null,
   "id": "060c4b55",
   "metadata": {},
   "outputs": [],
   "source": [
    "# - [] 문자 클래스\n",
    "# - 정규표현식에서 대괄호 [] 는 대괄호 안에 포함된 문자들 중 하나와 매치를 뜻한다.\n",
    "\n",
    "# [abc] # abc 중 하나와 매치\n",
    "# 'a' # a와 매치\n",
    "# 'boy' # b와 매치\n",
    "# 'dye' # a, b, c 중 어느 문자와도 매치되지 않음\n",
    "# [] 안의 두 문자에 -를 사용하면 두 문자 사이의 범위를 뜻한다.\n",
    "\n",
    "# [a-c] # [abc]와 같음\n",
    "# [0-5] # [012345]와 같음\n",
    "# [a-zA-Z] # 모든 알파벳\n",
    "# [0-9] # 숫자"
   ]
  },
  {
   "cell_type": "code",
   "execution_count": null,
   "id": "2df88f13",
   "metadata": {},
   "outputs": [],
   "source": [
    "# 문자열 앞 r , f 붙이는 이유\n",
    "# Formatted string literals\n",
    "# string(문자) 앞 f 는  formatted string 리터럴 을 의미한다.\n",
    " \n",
    "# python 3.6 에서부터 사용되기 시작했으며 이전에는 .format 같은 방식으로 사용해 왔었다.\n",
    "# formatted string literals 는 아래 코드 예시처럼 사용 가능하다.\n",
    " \n",
    "# >>> a = 1\n",
    "# >>> b = 2\n",
    "# >>> fs = f\"{a} is a, {b} is b\"\n",
    "# >>> print(fs)\n",
    " \n",
    "# 이제 r 의 의미를 알아보자.\n",
    " \n",
    " \n",
    "# Raw string\n",
    "# python에서 string 앞에 r 을 표기해 주는 것은 해당 string literal을 raw string 으로 만들어 주기 위함이다. \n",
    "# 예시\n",
    " \n",
    "# >>> mystring = \"hello\\tworld\\nI'm Kim\"\n",
    "# >>> print(mystring)\n",
    "# hello\tworld\n",
    "# I'm Kim\n",
    "# >>> mystring_raw = r\"hello\\tworld\\nI'm Kim\"\n",
    "# >>> print(mystring_raw)\n",
    "# hello\\tworld\\nI'm Kim\n",
    " \n",
    "# 출력이 차이가 난다는 것을 알 수 있을 것이다.\n",
    "# r이 없는 mystring의 경우, 개행이나 각종  Escape 문자를 출력하지 않는다.\n",
    "# 개행문자는 개행이 되고, \\t(탭) 은 tab처리된다.\n",
    " \n",
    "# 그런데 raw string은 다르다.\n",
    "# 모든 Escape 문자를 그대로 출력해 준다.\n",
    " \n",
    "# Raw string은 내 경험 상 regex를 이용해서 문자열을 찾아야 하는 경우 사용했던 것으로 기억한다.\n",
    "# tab이나 개행문자도 같이 찾아줘야했기 떄문이다."
   ]
  },
  {
   "cell_type": "code",
   "execution_count": 7,
   "id": "4196955f",
   "metadata": {},
   "outputs": [],
   "source": [
    "# 1. 정규표현식 객체를 생성\n",
    "# 2. 정규표현식 메소드를 통해서 패턴에 일치하는 문자열을 처리\n",
    "# 3. 정규표현식 클래스 객체"
   ]
  },
  {
   "cell_type": "code",
   "execution_count": null,
   "id": "8ac3219d",
   "metadata": {},
   "outputs": [],
   "source": [
    "# 아이디(ID) Regular Expression 예제  \n",
    "\n",
    "# [ - ] 안은 범위를 의미한다.\n",
    "\n",
    "# 예를 들어 [a - c] 는 a,b,c를 가능하게 보는 것이다.\n",
    "\n",
    "# [A-za-z]는 소문자 대문자 모두 가능하다.\n",
    "\n",
    "# {5,15} 는 최소 5개~15개 반복되어야 한다.\n",
    "\n",
    "# import re\n",
    "\n",
    "# ID_regex = re.compile(\"([A-za-z]{5,15})\")\n",
    "# ID_input = input(\"아이디를 입력하세요 (최소5자에서 15자, 시작은 영어문자로해야함): \")\n",
    "# ID_validation = ID_regex.search(ID_input.replace(\" \",\"\"))\n",
    "\n",
    "# if ID_validation:\n",
    "#     print(\"It's vaild\")\n",
    "# else:\n",
    "#     print(\"It's invaild\")\n",
    "\n",
    "# 결과 아이디를 입력하세요 (최소5자에서 15자, 시작은 영어문자로해야함): hello123 It's vaild"
   ]
  },
  {
   "cell_type": "code",
   "execution_count": null,
   "id": "c29714d0",
   "metadata": {},
   "outputs": [],
   "source": [
    "# 이메일(email) 정규표현식으로 검사하기\n",
    "\n",
    "# [ - ] 안은 범위를 의미한다.\n",
    "\n",
    "# 예를 들어 [a - c] 는 a,b,c를 가능하게 보는 것이다.\n",
    "\n",
    "# + 는 1개 이상을 의미한다.\n",
    "\n",
    "# 역슬래시 점 으로된 \\. 는 원래 .은 어떤값이든 받는 건데 그냥 점을 쓰고 싶을 경우 역슬래시를 같이 써주면 된다.\n",
    "\n",
    "# / 예제\n",
    "# import re \n",
    "\n",
    "# email_regex = re.compile(\"([A-Za-z]+[A-Za-z0-9]+@[A-Za-z]+\\.[A-Za-z]+)\")\n",
    "# # email_regex = re.compile(\"(\\.)\")\n",
    "# email_input = input(\"이메일을 입력하세요 (ex: abc0123@gmail.com)): \")\n",
    "# email_validation = email_regex.search(email_input.replace(\" \",\"\"))\n",
    "\n",
    "# if email_validation:\n",
    "#     print(\"It's vaild\")\n",
    "# else:\n",
    "#     print(\"It's invaild\")\n",
    "    \n",
    "# 결과\n",
    "# 이메일을 입력하세요 (ex: abc0123@gmail.com)): abc123@abc.com It's vaild"
   ]
  },
  {
   "cell_type": "code",
   "execution_count": null,
   "id": "1083834d",
   "metadata": {},
   "outputs": [],
   "source": [
    "# 전화번호 정규표현식 예제\n",
    "\n",
    "# ^(01) 꺽쇠는 01로 시작해야한다는 뜻이고 \n",
    "\n",
    "# \\d{1} 은 정수로 하나를 받는거고 {3,4}는 3~4개를 받는 것이다.\n",
    "\n",
    "# import re\n",
    "\n",
    "# phone_regex = re.compile(\"^(01)\\d{1}-\\d{3,4}-\\d{4}$\")\n",
    "# # email_regex = re.compile(\"(\\.)\")\n",
    "# phone_input = input(\"전화번호를 입력하세요 (ex: 010-123-1234)): \")\n",
    "# phone_validation = phone_regex.search(phone_input.replace(\" \",\"\"))\n",
    "\n",
    "# if phone_validation:\n",
    "#     print(\"It's vaild\")\n",
    "# else:\n",
    "#     print(\"It's invaild\")\n",
    "    \n",
    "# 결과\n",
    "# 전화번호를 입력하세요 (ex: 010-123-1234)): 011-1234-1234 It's vaild"
   ]
  },
  {
   "cell_type": "code",
   "execution_count": null,
   "id": "4ee994c8",
   "metadata": {},
   "outputs": [],
   "source": [
    "# 포트(Port) 범위 입력 받기 예제\n",
    "\n",
    "# [ - ] 안은 범위를 의미한다. \n",
    "\n",
    "# 예를 들어 [a - c] 는 a,b,c를 가능하게 보는 것이다. [0 - 9] 는 0~9사이 모든 수가 가능한것이다.\n",
    " \n",
    "# + 는 반복으로 한번이상 반복 가능한것이다. \n",
    "\n",
    "# import re\n",
    "\n",
    "# port_regex = re.compile(\"([0-9]+)~([0-9]+)\")\n",
    "# port_input = input(\"포트 범위를 입력하세요 (EX:0~65535): \")\n",
    "# port_validation = port_regex.search(port_input.replace(\" \",\"\"))\n",
    "\n",
    "# if port_validation:\n",
    "#     print(\"It's vaild\")\n",
    "# else:\n",
    "#     print(\"It's invaild\")\n",
    "\n",
    "# 결과\n",
    "# 포트 범위를 입력하세요 (EX:0~65535): 0~300 It's vaild"
   ]
  },
  {
   "cell_type": "code",
   "execution_count": null,
   "id": "894547c1",
   "metadata": {},
   "outputs": [],
   "source": [
    "import re   # 정규표현식을 파이썬에서 사용하도록 하는 라이브러리 # 정규표현식 모듈"
   ]
  },
  {
   "cell_type": "code",
   "execution_count": null,
   "id": "79915b24",
   "metadata": {},
   "outputs": [],
   "source": [
    "regex = re.compile(r'\\d\\d\\d-\\d\\d\\d-\\d\\d\\d\\d') #Wd : 숫자"
   ]
  },
  {
   "cell_type": "code",
   "execution_count": 9,
   "id": "aec9da7b",
   "metadata": {},
   "outputs": [],
   "source": [
    "# search() : 패턴이 일치하는 첫 번째 문자열만 출력"
   ]
  },
  {
   "cell_type": "code",
   "execution_count": null,
   "id": "b79ba02c",
   "metadata": {},
   "outputs": [],
   "source": [
    "# 전화번호 예제 2\n",
    "\n",
    "# 정규 표현식은 단순한 리터럴 문자열을 검색하는 것보다 훨씬 많은 기능들을 제공하는데, \n",
    "# 즉 특정 패턴의 문자열을 검색하는데 매우 유용하다. \n",
    "# 그 한가지 예로 웹페이지나 텍스트에서 특정 패턴의 전화번호를 발췌하는 기능에 대해 알아보자. \n",
    "# 전화번호의 패턴은 032-232-3245 와 같이 3자리-3자리-4자리로 구성되어 있다고 가정하자.\n",
    "# 정규식에서 숫자를 의미하는 기호로 \\d 를 사용한다. \n",
    "# 여기서 d는 digit 을 의미하고 0 ~ 9 까지의 숫자 중 아무 숫자나 될 수 있다. \n",
    "# 따라서, 위 전화번호 패턴을 정규식으로 표현하면 \\d\\d\\d-\\d\\d\\d-\\d\\d\\d\\d 와 같이 될 수 있다. \n",
    "# 아래는 이러한 패턴을 사용하여 전화번호를 발췌하는 예이다.\n",
    "\n",
    "# import re 예제\n",
    " \n",
    "# text = \"문의사항이 있으면 032-232-3245 으로 연락주시기 바랍니다.\"\n",
    " \n",
    "# regex = re.compile(r'\\d\\d\\d-\\d\\d\\d-\\d\\d\\d\\d')\n",
    "# matchobj = regex.search(text)\n",
    "# phonenumber = matchobj.group()\n",
    "# print(phonenumber)    \n"
   ]
  },
  {
   "cell_type": "code",
   "execution_count": null,
   "id": "e83e8ab9",
   "metadata": {},
   "outputs": [],
   "source": [
    "# -정규표현식 그룹(Group) 예제로 설명\n",
    "# 정규 표현식에서 ( ) 괄호는 그룹을 의미한다. 예를 들어, 전화번호의 패턴을 \\d{3}-\\d{3}-\\d{4} 와 같이 표현하였을 때, 지역번호 3자를 그룹1으로 하고 나머지 7자리를 그룹2로 분리하고 싶을 때, (\\d{3})-(\\d{3}-\\d{4}) 와 같이 둥근 괄호로 묶어 두 그룹으로 분리할 수 있다.\n",
    "# 이렇게 분리된 그룹들은 MatchObject의 group() 메서드에서 그룹 번호를 파라미터로 넣어 값을 가져올 수 있는데, 첫번째 그룹 지역번호는 group(1) 으로, 두번째 그룹은 group(2) 와 같이 사용한다. 그리고 전체 전화번호를 가져올 때는 group() 혹은 group(0) 을 사용한다.\n",
    "\n",
    "# - 예제\n",
    "# import re\n",
    " \n",
    "# text = \"문의사항이 있으면 032-232-3245 으로 연락주시기 바랍니다.\"\n",
    " \n",
    "# regex = re.compile(r'(\\d{3})-(\\d{3}-\\d{4})')\n",
    "# matchobj = regex.search(text)\n",
    "# areaCode = matchobj.group(1)\n",
    "# num = matchobj.group(2)\n",
    "# fullNum = matchobj.group()\n",
    "# print(areaCode, num) # 032 232-3245\n",
    "# 그룹을 위와 같이 숫자로 인덱싱하는 대신 그룹이름을 지정할 수도 있는데 이를 정규식에서 Named Capturing Group 이라 한다. 파이썬에서 Named Capturing Group을 사용하는 방법은 (?P<그룹명>정규식) 와 같이 정규식 표현 앞에 ?P<그룹명>을 쓰면 된다. 그리고 이후 MatchObject에서 group('그룹명') 을 호출하면 캡쳐된 그룹 값을 얻을 수 있다.\n",
    "\n",
    "# -예제\n",
    "# import re\n",
    " \n",
    "# text = \"문의사항이 있으면 032-232-3245 으로 연락주시기 바랍니다.\"\n",
    " \n",
    "# regex = re.compile(r'(?P<area>\\d{3})-(?P<num>\\d{3}-\\d{4})')\n",
    "# matchobj = regex.search(text)\n",
    "# areaCode = matchobj.group(\"area\")\n",
    "# num = matchobj.group(\"num\")\n",
    "# print(areaCode, num)  # 032 232-3245\n",
    "# </num>"
   ]
  },
  {
   "cell_type": "code",
   "execution_count": 10,
   "id": "b9e8bfa3",
   "metadata": {},
   "outputs": [
    {
     "data": {
      "text/plain": [
       "'415-555-4242'"
      ]
     },
     "execution_count": 10,
     "metadata": {},
     "output_type": "execute_result"
    }
   ],
   "source": [
    "# 2. 정규표현식 메소드 실행\n",
    "mo = regex.search('My number is 415-555-4242')\n",
    "mo.group()"
   ]
  },
  {
   "cell_type": "code",
   "execution_count": 11,
   "id": "390e81a6",
   "metadata": {},
   "outputs": [],
   "source": [
    "regex = re.compile(r'(\\d\\d\\d)-(\\d\\d\\d-\\d\\d\\d\\d)')"
   ]
  },
  {
   "cell_type": "code",
   "execution_count": 12,
   "id": "45d10b64",
   "metadata": {},
   "outputs": [
    {
     "data": {
      "text/plain": [
       "'415-555-4242'"
      ]
     },
     "execution_count": 12,
     "metadata": {},
     "output_type": "execute_result"
    }
   ],
   "source": [
    "mo = regex.search('My number is 415-555-4242')\n",
    "mo.group()"
   ]
  },
  {
   "cell_type": "code",
   "execution_count": 13,
   "id": "cabcf87d",
   "metadata": {},
   "outputs": [
    {
     "data": {
      "text/plain": [
       "'415'"
      ]
     },
     "execution_count": 13,
     "metadata": {},
     "output_type": "execute_result"
    }
   ],
   "source": [
    "mo.group(1)"
   ]
  },
  {
   "cell_type": "code",
   "execution_count": 14,
   "id": "4e14366b",
   "metadata": {},
   "outputs": [
    {
     "data": {
      "text/plain": [
       "'555-4242'"
      ]
     },
     "execution_count": 14,
     "metadata": {},
     "output_type": "execute_result"
    }
   ],
   "source": [
    "mo.group(2)"
   ]
  },
  {
   "cell_type": "code",
   "execution_count": 16,
   "id": "ad96bba4",
   "metadata": {},
   "outputs": [
    {
     "data": {
      "text/plain": [
       "('415', '555-4242')"
      ]
     },
     "execution_count": 16,
     "metadata": {},
     "output_type": "execute_result"
    }
   ],
   "source": [
    "mo.groups()"
   ]
  },
  {
   "cell_type": "code",
   "execution_count": null,
   "id": "1a70a6b5",
   "metadata": {},
   "outputs": [],
   "source": [
    "# \\ = or\n",
    "^\t이 패턴으로 시작해야 함   예제:^abc : abc로 시작해야 함 (abcd, abc12 등)\n",
    "$\t이 패턴으로 종료되어야 함 예제: xyz$ : xyz로 종료되어야 함 (123xyz, strxyz 등)"
   ]
  },
  {
   "cell_type": "code",
   "execution_count": 49,
   "id": "06f74ce5",
   "metadata": {},
   "outputs": [],
   "source": [
    "regex = re.compile(r'Batman|Tina Fey') # batman Ehsms tina fey라는 문자열"
   ]
  },
  {
   "cell_type": "code",
   "execution_count": 50,
   "id": "b3576b2e",
   "metadata": {},
   "outputs": [
    {
     "data": {
      "text/plain": [
       "'Tina Fey'"
      ]
     },
     "execution_count": 50,
     "metadata": {},
     "output_type": "execute_result"
    }
   ],
   "source": [
    "mo = regex.search('Tina Fey and Batman')\n",
    "mo.group()"
   ]
  },
  {
   "cell_type": "code",
   "execution_count": 51,
   "id": "ae7274e3",
   "metadata": {},
   "outputs": [
    {
     "data": {
      "text/plain": [
       "'Batmobile'"
      ]
     },
     "execution_count": 51,
     "metadata": {},
     "output_type": "execute_result"
    }
   ],
   "source": [
    "regex = re.compile(r'Bat(man|mobile|coopter|bat)')\n",
    "mo = regex.search('Batmobile is lost in pool')\n",
    "mo.group()"
   ]
  },
  {
   "cell_type": "code",
   "execution_count": 52,
   "id": "5e45efe3",
   "metadata": {},
   "outputs": [
    {
     "data": {
      "text/plain": [
       "'Batman'"
      ]
     },
     "execution_count": 52,
     "metadata": {},
     "output_type": "execute_result"
    }
   ],
   "source": [
    "regex = re.compile(r'Bat(wo)?man')  # ? : 1번 또는 0번 출현하는 경우\n",
    "mo = regex.search('The Adventures of Batman')\n",
    "mo.group()"
   ]
  },
  {
   "cell_type": "code",
   "execution_count": 53,
   "id": "c28a24e7",
   "metadata": {},
   "outputs": [
    {
     "data": {
      "text/plain": [
       "'Batwoman'"
      ]
     },
     "execution_count": 53,
     "metadata": {},
     "output_type": "execute_result"
    }
   ],
   "source": [
    "mo = regex.search('The Adventures of Batwoman')\n",
    "mo.group()"
   ]
  },
  {
   "cell_type": "code",
   "execution_count": 54,
   "id": "86b043b1",
   "metadata": {
    "collapsed": true
   },
   "outputs": [
    {
     "ename": "AttributeError",
     "evalue": "'NoneType' object has no attribute 'group'",
     "output_type": "error",
     "traceback": [
      "\u001b[1;31m---------------------------------------------------------------------------\u001b[0m",
      "\u001b[1;31mAttributeError\u001b[0m                            Traceback (most recent call last)",
      "Input \u001b[1;32mIn [54]\u001b[0m, in \u001b[0;36m<cell line: 2>\u001b[1;34m()\u001b[0m\n\u001b[0;32m      1\u001b[0m mo \u001b[38;5;241m=\u001b[39m regex\u001b[38;5;241m.\u001b[39msearch(\u001b[38;5;124m'\u001b[39m\u001b[38;5;124mThe Adventures of Batwowoman\u001b[39m\u001b[38;5;124m'\u001b[39m)\n\u001b[1;32m----> 2\u001b[0m \u001b[43mmo\u001b[49m\u001b[38;5;241;43m.\u001b[39;49m\u001b[43mgroup\u001b[49m()\n",
      "\u001b[1;31mAttributeError\u001b[0m: 'NoneType' object has no attribute 'group'"
     ]
    }
   ],
   "source": [
    "mo = regex.search('The Adventures of Batwowoman')\n",
    "mo.group()"
   ]
  },
  {
   "cell_type": "code",
   "execution_count": null,
   "id": "f634acc8",
   "metadata": {},
   "outputs": [],
   "source": [
    "# 문자열 속에서 \\는 특수기호로 사용\n",
    "# \\n : 줄바꿈\n",
    "# \\s : 스페이스\n",
    "# \\t: 탭 tab"
   ]
  },
  {
   "cell_type": "code",
   "execution_count": 55,
   "id": "986c8141",
   "metadata": {},
   "outputs": [
    {
     "data": {
      "text/plain": [
       "'Batman'"
      ]
     },
     "execution_count": 55,
     "metadata": {},
     "output_type": "execute_result"
    }
   ],
   "source": [
    "regex = re.compile(r'Bat(wo)*man')  # * : 앞 패턴이 0번 이상 나오는 패턴\n",
    "mo = regex.search('The Adventures of Batman')\n",
    "mo.group()"
   ]
  },
  {
   "cell_type": "code",
   "execution_count": 56,
   "id": "35837d52",
   "metadata": {},
   "outputs": [
    {
     "data": {
      "text/plain": [
       "'Batwoman'"
      ]
     },
     "execution_count": 56,
     "metadata": {},
     "output_type": "execute_result"
    }
   ],
   "source": [
    "mo = regex.search('The Adventures of Batwoman')\n",
    "mo.group()"
   ]
  },
  {
   "cell_type": "code",
   "execution_count": 58,
   "id": "b86fad14",
   "metadata": {},
   "outputs": [
    {
     "data": {
      "text/plain": [
       "'Batwowowowoman'"
      ]
     },
     "execution_count": 58,
     "metadata": {},
     "output_type": "execute_result"
    }
   ],
   "source": [
    "mo = regex.search('The Adventures of Batwowowowoman')\n",
    "mo.group()"
   ]
  },
  {
   "cell_type": "code",
   "execution_count": null,
   "id": "98f6c8aa",
   "metadata": {},
   "outputs": [],
   "source": [
    "regex = re.compile('bat(wo)+man') # 앞의 정규표현식 패턴이 1번이상 나오는 패턴"
   ]
  },
  {
   "cell_type": "code",
   "execution_count": null,
   "id": "b8fc61ac",
   "metadata": {},
   "outputs": [],
   "source": [
    "mo = regex.search('The Adventures of Batman')  # 한개이상이 안나오면 에러가뜸\n",
    "mo.group()"
   ]
  },
  {
   "cell_type": "code",
   "execution_count": null,
   "id": "86033e17",
   "metadata": {},
   "outputs": [],
   "source": [
    "mo = regex.search('The Adventures of Batwoman')\n",
    "mo.group()"
   ]
  },
  {
   "cell_type": "code",
   "execution_count": null,
   "id": "7c5f7d34",
   "metadata": {},
   "outputs": [],
   "source": [
    "mo = regex.search('The Adventures of Batwowowowoman')\n",
    "mo.group()"
   ]
  },
  {
   "cell_type": "code",
   "execution_count": null,
   "id": "04911667",
   "metadata": {},
   "outputs": [],
   "source": [
    "regex = re.compile('bat(wo){3}man') # 앞의 정규표현식 패턴이 3번 나오는 패턴"
   ]
  },
  {
   "cell_type": "code",
   "execution_count": null,
   "id": "cf7e271e",
   "metadata": {},
   "outputs": [],
   "source": [
    "mo = regex.search('The Adventures of Batwoman')\n",
    "mo.group()"
   ]
  },
  {
   "cell_type": "code",
   "execution_count": null,
   "id": "4eb0c0db",
   "metadata": {},
   "outputs": [],
   "source": [
    "mo = regex.search('The Adventures of Batwowowowoman')\n",
    "mo.group()"
   ]
  },
  {
   "cell_type": "code",
   "execution_count": null,
   "id": "b15b5d62",
   "metadata": {},
   "outputs": [],
   "source": [
    "regex = re.compile('bat(wo){3,5}man') # 앞의 정규표현식 패턴이 3~5번 나오는 패턴 6번 나오면 에러"
   ]
  },
  {
   "cell_type": "code",
   "execution_count": null,
   "id": "1b842ac8",
   "metadata": {},
   "outputs": [],
   "source": [
    "mo = regex.search('The Adventures of Batwoman')\n",
    "mo.group()"
   ]
  },
  {
   "cell_type": "code",
   "execution_count": null,
   "id": "2963f0fd",
   "metadata": {},
   "outputs": [],
   "source": [
    "mo = regex.search('The Adventures of Batwowowowoman')\n",
    "mo.group()"
   ]
  },
  {
   "cell_type": "code",
   "execution_count": null,
   "id": "abb20c68",
   "metadata": {},
   "outputs": [],
   "source": [
    "mo = regex.search('The Adventures of Batwowowowowoman')\n",
    "mo.group()"
   ]
  },
  {
   "cell_type": "code",
   "execution_count": null,
   "id": "0df0d944",
   "metadata": {},
   "outputs": [],
   "source": [
    "# 정규표현식의 패턴 반복횟수 정의\n",
    "# ? - 0, 1 회 출현\n",
    "# * - 0번 이상\n",
    "# + - 1번이상 (1번이상 꼭나와야 안나오면 에러)\n",
    "# {} - 횟수를 정확히 지정(제한)\n",
    "# 패턴{n, m}\t앞 패턴이 최소 n번,최대 m 번 반복해서 나타나는 경우 (n 또는 m 은 생략 가능) 예제 : \\d{3,5} : 숫자가 3개, 4개 혹은 5개 있어야 함"
   ]
  },
  {
   "cell_type": "markdown",
   "id": "e2e6aa7f",
   "metadata": {},
   "source": [
    "---\n",
    "###  Findall() - 패턴과 매칭되는 모든 문자열 리턴\n",
    "---"
   ]
  },
  {
   "cell_type": "code",
   "execution_count": 4,
   "id": "f53943ca",
   "metadata": {},
   "outputs": [],
   "source": [
    "import re"
   ]
  },
  {
   "cell_type": "code",
   "execution_count": 5,
   "id": "33fd4d45",
   "metadata": {},
   "outputs": [],
   "source": [
    "reg = re.compile('\\d\\d\\d-\\d\\d\\d-\\d\\d\\d\\d')"
   ]
  },
  {
   "cell_type": "code",
   "execution_count": 6,
   "id": "6c69129d",
   "metadata": {},
   "outputs": [
    {
     "data": {
      "text/plain": [
       "'415-555-9999'"
      ]
     },
     "execution_count": 6,
     "metadata": {},
     "output_type": "execute_result"
    }
   ],
   "source": [
    "mo = reg.search('call : 415-555-9999, work : 212-555-0011')\n",
    "mo.group()"
   ]
  },
  {
   "cell_type": "code",
   "execution_count": 7,
   "id": "c4226e8a",
   "metadata": {},
   "outputs": [
    {
     "data": {
      "text/plain": [
       "'415-555-9999'"
      ]
     },
     "execution_count": 7,
     "metadata": {},
     "output_type": "execute_result"
    }
   ],
   "source": [
    "reg.findall('call : 415-555-9999, work : 212-555-0011')  # findall  search 보다 심플\n",
    "mo.group()"
   ]
  },
  {
   "cell_type": "markdown",
   "id": "4492afe4",
   "metadata": {},
   "source": [
    "#### - [문자 클래스 설명]\n",
    "- \\d\t숫자 [0-9]와 같다.\n",
    "- \\D\t비숫자 [^0-9]와 같다.(숫자가 아닌 글자)\n",
    "- \\w\t숫자 + 문자 [a-zA-Z0-9]와 같다.(문자,숫자,밑줄 글자)\n",
    "- \\W\t숫자 + 문자가 아닌 것 [^a-zA-Z0-9]와 같다.(문자,숫자,글자가 아닌글자)\n",
    "- \\s\t공백 [ \\t\\n\\r\\f\\v]와 같다. (스페이스,탭)\n",
    "- \\S\t비공백 [^ \\t\\n\\r\\f\\v]와 같다. (스페이스나,탭이 아닌 글자[안들어간])\n",
    "- \\b\t단어 경계 (`\\w`와 `\\W`의 경계)\n",
    "- \\B\t비단어 경계 \n",
    "- .\t    뉴라인(\\n) 을 제외한 모든 문자를 의미\tex: .{3} : 문자 3개 (F15, 0x0 등)\n",
    "---"
   ]
  },
  {
   "cell_type": "code",
   "execution_count": 8,
   "id": "832959b7",
   "metadata": {},
   "outputs": [],
   "source": [
    "reg = re.compile(r'\\d+\\s\\w+')"
   ]
  },
  {
   "cell_type": "code",
   "execution_count": 9,
   "id": "4af807fc",
   "metadata": {},
   "outputs": [
    {
     "data": {
      "text/plain": [
       "['12 drummers', '10 lords', '9 ladies', '8 madis', '7 swans']"
      ]
     },
     "execution_count": 9,
     "metadata": {},
     "output_type": "execute_result"
    }
   ],
   "source": [
    "reg.findall('12 drummers, 11pipers, 10 lords, 9 ladies, 8 madis, 7 swans')"
   ]
  },
  {
   "cell_type": "code",
   "execution_count": 10,
   "id": "01f55edc",
   "metadata": {},
   "outputs": [],
   "source": [
    "reg = re.compile(r'.at')"
   ]
  },
  {
   "cell_type": "code",
   "execution_count": 11,
   "id": "eed60317",
   "metadata": {},
   "outputs": [
    {
     "data": {
      "text/plain": [
       "['cat', 'hat', 'sat', 'lat', 'mat']"
      ]
     },
     "execution_count": 11,
     "metadata": {},
     "output_type": "execute_result"
    }
   ],
   "source": [
    "reg.findall('the cat in the hat sat on the filat 3mat')"
   ]
  },
  {
   "cell_type": "code",
   "execution_count": 12,
   "id": "51eb1b2e",
   "metadata": {},
   "outputs": [],
   "source": [
    "# 사용자 정의 문자 클래스 -> [],  - (범위를 지정)\n",
    "# ex : [aeiouAEIOU] : 모든 모음\n",
    "# ex : [a-zA-ZO-9] : 모든 영문자 그리고 숫자\n",
    "# ex : [0-9] : 모든숫자\n",
    "# ex : [^0-9] : 숫자가 아닌 모든 문자       "
   ]
  },
  {
   "cell_type": "code",
   "execution_count": 13,
   "id": "0a8fee08",
   "metadata": {},
   "outputs": [
    {
     "data": {
      "text/plain": [
       "['o', 'o', 'a', 'e', 'a', 'a', 'o', 'o']"
      ]
     },
     "execution_count": 13,
     "metadata": {},
     "output_type": "execute_result"
    }
   ],
   "source": [
    "reg = re.compile(r'[aeiouAEIOU]')\n",
    "reg.findall('robocab eats baby food')"
   ]
  },
  {
   "cell_type": "code",
   "execution_count": 14,
   "id": "889cdb14",
   "metadata": {},
   "outputs": [
    {
     "data": {
      "text/plain": [
       "['r', 'b', 'c', 'b', ' ', 't', 's', ' ', 'b', 'b', 'y', ' ', 'f', 'd']"
      ]
     },
     "execution_count": 14,
     "metadata": {},
     "output_type": "execute_result"
    }
   ],
   "source": [
    "reg = re.compile(r'[^aeiouAEIOU]')\n",
    "reg.findall('robocab eats baby food')"
   ]
  },
  {
   "cell_type": "code",
   "execution_count": 15,
   "id": "27216e7c",
   "metadata": {},
   "outputs": [],
   "source": [
    "# ^ - 문장의 시작\n",
    "# $ - 문장의 끝"
   ]
  },
  {
   "cell_type": "code",
   "execution_count": 17,
   "id": "cdf4a9e9",
   "metadata": {},
   "outputs": [
    {
     "data": {
      "text/plain": [
       "['hello']"
      ]
     },
     "execution_count": 17,
     "metadata": {},
     "output_type": "execute_result"
    }
   ],
   "source": [
    "reg = re.compile(r'^hello')\n",
    "reg.findall('hello world')"
   ]
  },
  {
   "cell_type": "code",
   "execution_count": 16,
   "id": "aacaea95",
   "metadata": {},
   "outputs": [
    {
     "data": {
      "text/plain": [
       "[]"
      ]
     },
     "execution_count": 16,
     "metadata": {},
     "output_type": "execute_result"
    }
   ],
   "source": [
    "reg = re.compile(r'^hello')\n",
    "reg.findall('world hello')"
   ]
  },
  {
   "cell_type": "code",
   "execution_count": 18,
   "id": "6d346953",
   "metadata": {},
   "outputs": [
    {
     "data": {
      "text/plain": [
       "['2']"
      ]
     },
     "execution_count": 18,
     "metadata": {},
     "output_type": "execute_result"
    }
   ],
   "source": [
    "reg = re.compile(r'\\d$')\n",
    "reg.findall('you number5 is 42')"
   ]
  },
  {
   "cell_type": "code",
   "execution_count": 20,
   "id": "4e61efb2",
   "metadata": {},
   "outputs": [
    {
     "data": {
      "text/plain": [
       "['42']"
      ]
     },
     "execution_count": 20,
     "metadata": {},
     "output_type": "execute_result"
    }
   ],
   "source": [
    "reg = re.compile(r'\\d+$')\n",
    "reg.findall('you number5 is 42')"
   ]
  },
  {
   "cell_type": "code",
   "execution_count": 23,
   "id": "8db62826",
   "metadata": {},
   "outputs": [
    {
     "data": {
      "text/plain": [
       "['5', '42']"
      ]
     },
     "execution_count": 23,
     "metadata": {},
     "output_type": "execute_result"
    }
   ],
   "source": [
    "reg = re.compile(r'\\d+')\n",
    "reg.findall('you number5 is 42')"
   ]
  },
  {
   "cell_type": "code",
   "execution_count": 25,
   "id": "c8732008",
   "metadata": {},
   "outputs": [
    {
     "data": {
      "text/plain": [
       "['number5', '42']"
      ]
     },
     "execution_count": 25,
     "metadata": {},
     "output_type": "execute_result"
    }
   ],
   "source": [
    "reg = re.compile(r'\\w+\\d+')\n",
    "reg.findall('you number5 is 42')"
   ]
  },
  {
   "cell_type": "markdown",
   "id": "9377870c",
   "metadata": {},
   "source": [
    "---\n",
    "#### sub() - 일치하는 패터의 문자열을 변경\n",
    "---"
   ]
  },
  {
   "cell_type": "code",
   "execution_count": 26,
   "id": "33089a75",
   "metadata": {},
   "outputs": [
    {
     "data": {
      "text/plain": [
       "'Agent xxx gave the secret'"
      ]
     },
     "execution_count": 26,
     "metadata": {},
     "output_type": "execute_result"
    }
   ],
   "source": [
    "reg = re.compile(r'Agent \\w+')\n",
    "reg.sub('Agent xxx', 'Agent Alice gave the secret')"
   ]
  },
  {
   "cell_type": "code",
   "execution_count": 31,
   "id": "8e3c1e3c",
   "metadata": {},
   "outputs": [
    {
     "data": {
      "text/plain": [
       "'Agent Alxxx gave the secret'"
      ]
     },
     "execution_count": 31,
     "metadata": {},
     "output_type": "execute_result"
    }
   ],
   "source": [
    "reg = re.compile(r'Agent (\\w{2})\\w*')\n",
    "reg.sub(r'Agent \\1xxx', 'Agent Alice gave the secret')"
   ]
  },
  {
   "cell_type": "code",
   "execution_count": null,
   "id": "355bca41",
   "metadata": {},
   "outputs": [],
   "source": [
    "# text = '저의 이메일은 sikgi777@naver.com'이고, 회사의 이메일은 'cat@daum.net'입니다.\n",
    "# 위의 텍스트에서 모든 이메일을 추출"
   ]
  },
  {
   "cell_type": "code",
   "execution_count": 67,
   "id": "2f7e2c44",
   "metadata": {},
   "outputs": [
    {
     "name": "stdout",
     "output_type": "stream",
     "text": [
      "sikgi777@naver.comcat@daum.net"
     ]
    }
   ],
   "source": [
    "text = \"저의 이메일은 sikgi777@naver.com'이고, 회사의 이메일은 cat@daum.net입니다.\" # for문 사용\n",
    "Email_llist = re.compile('[a-zA-Z0-9_-]+@[a-z]+.[a-z]+').finditer(text)\n",
    "for email in Email_llist:\n",
    "\n",
    "    print(email.group(),)"
   ]
  },
  {
   "cell_type": "code",
   "execution_count": 47,
   "id": "cadbf95d",
   "metadata": {},
   "outputs": [
    {
     "data": {
      "text/plain": [
       "['sikgi777@naver.com', 'cat@daum.net']"
      ]
     },
     "execution_count": 47,
     "metadata": {},
     "output_type": "execute_result"
    }
   ],
   "source": [
    "text = \"저의 이메일은 sikgi777@naver.com'이고, 회사의 이메일은 cat@daum.net입니다.\"\n",
    "reg = re.compile('[a-zA-Z0-9_-]+@[a-z]+.[a-z]+')\n",
    "reg.findall(text) "
   ]
  },
  {
   "cell_type": "code",
   "execution_count": null,
   "id": "a9165b3c",
   "metadata": {},
   "outputs": [],
   "source": []
  },
  {
   "cell_type": "code",
   "execution_count": null,
   "id": "d53e9f5f",
   "metadata": {},
   "outputs": [],
   "source": []
  },
  {
   "cell_type": "code",
   "execution_count": null,
   "id": "6e5d4d25",
   "metadata": {},
   "outputs": [],
   "source": []
  },
  {
   "cell_type": "code",
   "execution_count": null,
   "id": "6f6fa9c9",
   "metadata": {},
   "outputs": [],
   "source": []
  },
  {
   "cell_type": "code",
   "execution_count": null,
   "id": "9eba64e7",
   "metadata": {},
   "outputs": [],
   "source": []
  }
 ],
 "metadata": {
  "kernelspec": {
   "display_name": "Python 3 (ipykernel)",
   "language": "python",
   "name": "python3"
  },
  "language_info": {
   "codemirror_mode": {
    "name": "ipython",
    "version": 3
   },
   "file_extension": ".py",
   "mimetype": "text/x-python",
   "name": "python",
   "nbconvert_exporter": "python",
   "pygments_lexer": "ipython3",
   "version": "3.9.12"
  },
  "toc": {
   "base_numbering": 1,
   "nav_menu": {},
   "number_sections": true,
   "sideBar": true,
   "skip_h1_title": false,
   "title_cell": "Table of Contents",
   "title_sidebar": "Contents",
   "toc_cell": false,
   "toc_position": {},
   "toc_section_display": true,
   "toc_window_display": false
  },
  "varInspector": {
   "cols": {
    "lenName": 16,
    "lenType": 16,
    "lenVar": 40
   },
   "kernels_config": {
    "python": {
     "delete_cmd_postfix": "",
     "delete_cmd_prefix": "del ",
     "library": "var_list.py",
     "varRefreshCmd": "print(var_dic_list())"
    },
    "r": {
     "delete_cmd_postfix": ") ",
     "delete_cmd_prefix": "rm(",
     "library": "var_list.r",
     "varRefreshCmd": "cat(var_dic_list()) "
    }
   },
   "types_to_exclude": [
    "module",
    "function",
    "builtin_function_or_method",
    "instance",
    "_Feature"
   ],
   "window_display": false
  }
 },
 "nbformat": 4,
 "nbformat_minor": 5
}
