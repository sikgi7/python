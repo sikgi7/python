{
 "cells": [
  {
   "cell_type": "code",
   "execution_count": null,
   "id": "30e6c65e",
   "metadata": {},
   "outputs": [],
   "source": [
    "text = "
   ]
  },
  {
   "cell_type": "code",
   "execution_count": 2,
   "id": "13cae428",
   "metadata": {},
   "outputs": [],
   "source": [
    "f = open('newfile.txt', 'w')\n",
    "\n",
    "f.write('hello world \\n')\n",
    "f.write('now I am studying python \\n')\n",
    "f.write('programming is fun \\n')\n",
    "\n",
    "f.close()\n"
   ]
  },
  {
   "cell_type": "code",
   "execution_count": 3,
   "id": "4248e9f2",
   "metadata": {
    "collapsed": true
   },
   "outputs": [
    {
     "data": {
      "text/plain": [
       "'D:\\\\ds\\\\python'"
      ]
     },
     "execution_count": 3,
     "metadata": {},
     "output_type": "execute_result"
    }
   ],
   "source": [
    "pwd"
   ]
  },
  {
   "cell_type": "code",
   "execution_count": 4,
   "id": "c7849e05",
   "metadata": {
    "collapsed": true
   },
   "outputs": [
    {
     "name": "stdout",
     "output_type": "stream",
     "text": [
      "hell\n"
     ]
    }
   ],
   "source": [
    "f = open('newfile.txt', 'r')\n",
    "a = f.read(4)  # 4 byte를 읽는다..\n",
    "print(a)"
   ]
  },
  {
   "cell_type": "code",
   "execution_count": 5,
   "id": "c3a88270",
   "metadata": {
    "collapsed": true
   },
   "outputs": [
    {
     "name": "stdout",
     "output_type": "stream",
     "text": [
      "o world \n",
      "now I am studying python \n",
      "programming is fun \n",
      "\n"
     ]
    }
   ],
   "source": [
    "b = f.read()\n",
    "print(b)"
   ]
  },
  {
   "cell_type": "code",
   "execution_count": 6,
   "id": "50324abe",
   "metadata": {},
   "outputs": [],
   "source": [
    "f.close()"
   ]
  },
  {
   "cell_type": "code",
   "execution_count": null,
   "id": "0eeded32",
   "metadata": {},
   "outputs": [],
   "source": []
  },
  {
   "cell_type": "code",
   "execution_count": 7,
   "id": "70b020d2",
   "metadata": {},
   "outputs": [
    {
     "name": "stdout",
     "output_type": "stream",
     "text": [
      "hello world \n",
      "now I am studying python \n",
      "programming is fun \n",
      "\n"
     ]
    }
   ],
   "source": [
    "# 1. read() : 파일 전체를 읽는다\n",
    "\n",
    "f = open('newfile.txt', 'r')\n",
    "text =  f.read()\n",
    "print(text)\n",
    "f.close()"
   ]
  },
  {
   "cell_type": "code",
   "execution_count": 8,
   "id": "6f34837b",
   "metadata": {},
   "outputs": [
    {
     "name": "stdout",
     "output_type": "stream",
     "text": [
      "hello world \n",
      "\n"
     ]
    }
   ],
   "source": [
    "# 2. readline() : 한 줄만 읽는다\n",
    "\n",
    "f = open('newfile.txt', 'r')\n",
    "text = f.readline()\n",
    "print(text)\n",
    "f.close()"
   ]
  },
  {
   "cell_type": "code",
   "execution_count": 9,
   "id": "7f8ef6ed",
   "metadata": {},
   "outputs": [
    {
     "name": "stdout",
     "output_type": "stream",
     "text": [
      "hello world \n",
      "\n",
      "now I am studying python \n",
      "\n"
     ]
    }
   ],
   "source": [
    "f = open('newfile.txt', 'r')\n",
    "text1 = f.readline()\n",
    "text2 = f.readline()  #  앞에서 읽은 다음 줄을 읽는다..\n",
    "print(text1)\n",
    "print(text2)\n",
    "f.close()"
   ]
  },
  {
   "cell_type": "code",
   "execution_count": 10,
   "id": "6814a955",
   "metadata": {
    "collapsed": true
   },
   "outputs": [
    {
     "name": "stdout",
     "output_type": "stream",
     "text": [
      "hello world \n",
      "\n",
      "now I am studying python \n",
      "\n",
      "programming is fun \n",
      "\n"
     ]
    }
   ],
   "source": [
    "# readline()으로 전체 문장을 읽어서 출력하시오..\n",
    "\n",
    "f = open('newfile.txt', 'r')\n",
    "\n",
    "text = f.readline()\n",
    "\n",
    "# sequence : 빈 sequence는 false, 값이 있는 sequence는 True\n",
    "while text:\n",
    "    print(text)\n",
    "    text = f.readline()\n",
    "    \n",
    "f.close()"
   ]
  },
  {
   "cell_type": "code",
   "execution_count": null,
   "id": "c92aa0bf",
   "metadata": {},
   "outputs": [],
   "source": [
    "# 3. readlines()는 전체문장을 읽어서 문장을 리스트에 넣어서 출력"
   ]
  },
  {
   "cell_type": "code",
   "execution_count": 11,
   "id": "d7d5cc7a",
   "metadata": {},
   "outputs": [
    {
     "name": "stdout",
     "output_type": "stream",
     "text": [
      "['hello world \\n', 'now I am studying python \\n', 'programming is fun \\n']\n"
     ]
    }
   ],
   "source": [
    "f = open('newfile.txt', 'r')\n",
    "\n",
    "text = f.readlines()\n",
    "print(text)\n",
    "\n",
    "f.close()"
   ]
  },
  {
   "cell_type": "code",
   "execution_count": null,
   "id": "4ea20e44",
   "metadata": {},
   "outputs": [],
   "source": []
  },
  {
   "cell_type": "code",
   "execution_count": null,
   "id": "577dd657",
   "metadata": {},
   "outputs": [],
   "source": [
    "# 4. for문 이용.. => 속도가 빠르다.."
   ]
  },
  {
   "cell_type": "code",
   "execution_count": 12,
   "id": "1e26391d",
   "metadata": {},
   "outputs": [
    {
     "name": "stdout",
     "output_type": "stream",
     "text": [
      "hello world \n",
      "\n",
      "now I am studying python \n",
      "\n",
      "programming is fun \n",
      "\n"
     ]
    }
   ],
   "source": [
    "f = open('newfile.txt', 'r')\n",
    "\n",
    "for line in f:  \n",
    "    print(line)"
   ]
  },
  {
   "cell_type": "code",
   "execution_count": null,
   "id": "b560c4cc",
   "metadata": {},
   "outputs": [],
   "source": []
  },
  {
   "cell_type": "code",
   "execution_count": 13,
   "id": "5fd0611b",
   "metadata": {},
   "outputs": [],
   "source": [
    "f = open('newfile.txt', 'r')\n",
    "text = f.read()\n",
    "f.close()"
   ]
  },
  {
   "cell_type": "code",
   "execution_count": 14,
   "id": "605d8163",
   "metadata": {},
   "outputs": [],
   "source": [
    "# with 구문으로 파일을 열면, close()하지 않아도 자동으로 파일을 저장하고 close한다\n",
    "\n",
    "with open('newfile.txt', 'r') as f:\n",
    "    text = f.read()"
   ]
  },
  {
   "cell_type": "code",
   "execution_count": 15,
   "id": "5560cfc7",
   "metadata": {},
   "outputs": [
    {
     "name": "stdout",
     "output_type": "stream",
     "text": [
      "hello world \n",
      "now I am studying python \n",
      "programming is fun \n",
      "\n"
     ]
    }
   ],
   "source": [
    "print(text)"
   ]
  },
  {
   "cell_type": "code",
   "execution_count": null,
   "id": "005e9200",
   "metadata": {},
   "outputs": [],
   "source": []
  },
  {
   "cell_type": "code",
   "execution_count": 16,
   "id": "d008b898",
   "metadata": {},
   "outputs": [
    {
     "name": "stdout",
     "output_type": "stream",
     "text": [
      "4 9 2 3\n",
      "1 3\n",
      "9 5 4 8 2\n",
      "3 7 6\n"
     ]
    }
   ],
   "source": [
    "with open('data.txt', 'r') as f:\n",
    "    text = f.read()\n",
    "    \n",
    "print(text)"
   ]
  },
  {
   "cell_type": "code",
   "execution_count": 23,
   "id": "df09650f",
   "metadata": {},
   "outputs": [
    {
     "name": "stdout",
     "output_type": "stream",
     "text": [
      "[['4', '9', '2', '3'], ['1', '3'], ['9', '5', '4', '8', '2'], ['3', '7', '6']]\n"
     ]
    }
   ],
   "source": [
    "# data.txt파일을 열어서 리스트에 담아라\n",
    "# [[4,9,2,3], [1,3], [9,5,4,8,2], [3,7,6]]\n",
    "\n",
    "L0 = []\n",
    "\n",
    "with open('data.txt', 'r') as f:\n",
    "    text = f.readline()\n",
    "    \n",
    "    while text:\n",
    "#         L1 = []\n",
    "#         L1.append(text)\n",
    "        L0.append(text.split())\n",
    "        text = f.readline()\n",
    "    \n",
    "print(L0)"
   ]
  },
  {
   "cell_type": "code",
   "execution_count": 24,
   "id": "c7b8cb4e",
   "metadata": {},
   "outputs": [
    {
     "name": "stdout",
     "output_type": "stream",
     "text": [
      "[[4, 9, 2, 3], [1, 3], [9, 5, 4, 8, 2], [3, 7, 6]]\n"
     ]
    }
   ],
   "source": [
    "# data.txt파일을 열어서 리스트에 담아라\n",
    "# [[4,9,2,3], [1,3], [9,5,4,8,2], [3,7,6]]\n",
    "\n",
    "L0 = []\n",
    "\n",
    "with open('data.txt', 'r') as f:\n",
    "    text = f.readline()\n",
    "    \n",
    "    while text:\n",
    "#         L1 = []\n",
    "#         L1.append(text)\n",
    "        L0.append([int(x) for x in text.split()])\n",
    "        text = f.readline()\n",
    "    \n",
    "print(L0)"
   ]
  },
  {
   "cell_type": "code",
   "execution_count": 21,
   "id": "87f62f1a",
   "metadata": {},
   "outputs": [
    {
     "name": "stdout",
     "output_type": "stream",
     "text": [
      "[['4 9 2 3\\n'], ['1 3\\n'], ['9 5 4 8 2\\n'], ['3 7 6']]\n"
     ]
    }
   ],
   "source": [
    "L0 = []\n",
    "\n",
    "with open('data.txt', 'r') as f:\n",
    "    \n",
    "    for line in f:\n",
    "        L1 = []\n",
    "        L1.append(line)\n",
    "        L0.append(L1)\n",
    "    \n",
    "print(L0)"
   ]
  },
  {
   "cell_type": "code",
   "execution_count": null,
   "id": "c7d3bf17",
   "metadata": {},
   "outputs": [],
   "source": []
  },
  {
   "cell_type": "code",
   "execution_count": 25,
   "id": "13ae816c",
   "metadata": {},
   "outputs": [],
   "source": [
    "with open('ban.txt', 'w') as f:\n",
    "    f.write('2 45\\n')\n",
    "    f.write('4 39\\n')    \n",
    "    f.write('1 41\\n')    \n",
    "    f.write('3 40\\n')    "
   ]
  },
  {
   "cell_type": "code",
   "execution_count": 26,
   "id": "dad26818",
   "metadata": {
    "collapsed": true
   },
   "outputs": [
    {
     "name": "stdout",
     "output_type": "stream",
     "text": [
      "2 45\n",
      "\n",
      "4 39\n",
      "\n",
      "1 41\n",
      "\n",
      "3 40\n",
      "\n"
     ]
    }
   ],
   "source": [
    "f = open('ban.txt', 'r')\n",
    "for line in f:\n",
    "    print(line)"
   ]
  },
  {
   "cell_type": "code",
   "execution_count": 27,
   "id": "15b074c6",
   "metadata": {},
   "outputs": [],
   "source": [
    "# ban.txt 파일을 열어서 dict에 다음과 같이 담으시오. \n",
    "# {'2': 45, '4':39, '1':41, '3':40}"
   ]
  },
  {
   "cell_type": "code",
   "execution_count": 33,
   "id": "cd1821d6",
   "metadata": {},
   "outputs": [
    {
     "data": {
      "text/plain": [
       "{'2': 45, '4': 39, '1': 41, '3': 40}"
      ]
     },
     "execution_count": 33,
     "metadata": {},
     "output_type": "execute_result"
    }
   ],
   "source": [
    "f = open('ban.txt', 'r')\n",
    "d = {}\n",
    "\n",
    "for line in f:\n",
    "#     print(line.split())\n",
    "    key  = line.split()[0]\n",
    "    val = line.split()[1]\n",
    "#     print(key, val)\n",
    "    d[key] = int(val)\n",
    "    \n",
    "d"
   ]
  },
  {
   "cell_type": "code",
   "execution_count": null,
   "id": "5e2fce82",
   "metadata": {},
   "outputs": [],
   "source": []
  },
  {
   "cell_type": "code",
   "execution_count": 35,
   "id": "3a5e913d",
   "metadata": {},
   "outputs": [
    {
     "name": "stdout",
     "output_type": "stream",
     "text": [
      "2 Alice Paul Bob\n",
      "4 Cindy Stella Bill\n",
      "3 Jone Joe Tom\n",
      "1 Mary Jun Kelly\n",
      "\n"
     ]
    }
   ],
   "source": [
    "with open('ban_student.txt', 'w') as f:\n",
    "    f.write('2 Alice Paul Bob\\n')\n",
    "    f.write('4 Cindy Stella Bill\\n')    \n",
    "    f.write('3 Jone Joe Tom\\n')    \n",
    "    f.write('1 Mary Jun Kelly\\n')    \n",
    "    \n",
    "with open('ban_student.txt', 'r') as f:\n",
    "    text = f.read()\n",
    "print(text)"
   ]
  },
  {
   "cell_type": "code",
   "execution_count": 36,
   "id": "355a2620",
   "metadata": {},
   "outputs": [],
   "source": [
    "# 'ban_student.txt' 파일의 내용을 아래처럼 dict에 넣으시오..\n",
    "# {'2': ['Alice', 'Paul', 'Bob'], '1':['Mary', 'Jun', 'Kelly'], '3':[...], '4':[...]}"
   ]
  },
  {
   "cell_type": "code",
   "execution_count": 40,
   "id": "41c3894a",
   "metadata": {},
   "outputs": [
    {
     "data": {
      "text/plain": [
       "{'2': ['Alice', 'Paul', 'Bob'],\n",
       " '4': ['Cindy', 'Stella', 'Bill'],\n",
       " '3': ['Jone', 'Joe', 'Tom'],\n",
       " '1': ['Mary', 'Jun', 'Kelly']}"
      ]
     },
     "execution_count": 40,
     "metadata": {},
     "output_type": "execute_result"
    }
   ],
   "source": [
    "d = {}\n",
    "with open('ban_student.txt', 'r') as f:\n",
    "    for line in f:\n",
    "        key = line.split()[0]\n",
    "        val = line.split()[1:]\n",
    "#         print(key,val)\n",
    "        d[key] = val\n",
    "    \n",
    "d"
   ]
  },
  {
   "cell_type": "code",
   "execution_count": null,
   "id": "1a81015e",
   "metadata": {},
   "outputs": [],
   "source": []
  },
  {
   "cell_type": "code",
   "execution_count": 41,
   "id": "68820062",
   "metadata": {},
   "outputs": [],
   "source": [
    "# stockcode.txt에서 '삼성전자'의 코드번호를 출력하시오.."
   ]
  },
  {
   "cell_type": "code",
   "execution_count": 47,
   "id": "3d71f360",
   "metadata": {},
   "outputs": [
    {
     "name": "stdout",
     "output_type": "stream",
     "text": [
      "066570\n"
     ]
    }
   ],
   "source": [
    "f = open('stockcode.txt', 'r')\n",
    "\n",
    "for line in f:\n",
    "    name = line.split()[1]\n",
    "    code = line.split()[0]\n",
    "    \n",
    "    if name == 'LG전자':\n",
    "        print(code)"
   ]
  },
  {
   "cell_type": "code",
   "execution_count": null,
   "id": "a3335fec",
   "metadata": {},
   "outputs": [],
   "source": []
  },
  {
   "cell_type": "code",
   "execution_count": 48,
   "id": "ed5e9fc2",
   "metadata": {},
   "outputs": [],
   "source": [
    "# text기준\n",
    "# 읽는 모드 :'r' \n",
    "# 쓰는 모드 :'w'\n",
    "\n",
    "# binary (숫자로 된 컴퓨터 언어) : 이미지, 소리, 프로그램...\n",
    "# 읽는 모드 :'rb' \n",
    "# 쓰는 모드 :'wb'"
   ]
  },
  {
   "cell_type": "code",
   "execution_count": null,
   "id": "e86d7be7",
   "metadata": {},
   "outputs": [],
   "source": []
  },
  {
   "cell_type": "code",
   "execution_count": 49,
   "id": "dd4da295",
   "metadata": {
    "collapsed": true
   },
   "outputs": [
    {
     "data": {
      "image/jpeg": "[encoded data removed]",
      "text/plain": [
       "<IPython.core.display.Image object>"
      ]
     },
     "execution_count": 49,
     "metadata": {},
     "output_type": "execute_result"
    }
   ],
   "source": [
    "from IPython.display import Image\n",
    "Image('bird.jpg')"
   ]
  },
  {
   "cell_type": "code",
   "execution_count": null,
   "id": "978f7a6e",
   "metadata": {},
   "outputs": [],
   "source": [
    "# bird.jpg 파일을 읽어서 다른 파일 bird_copy.jpg에 읽은 내용을 쓴다.."
   ]
  },
  {
   "cell_type": "code",
   "execution_count": 50,
   "id": "0a9ea9d6",
   "metadata": {},
   "outputs": [],
   "source": [
    "f = open('bird.jpg', 'rb')\n",
    "g = open('bird_copy.jpg', 'wb')\n",
    "\n",
    "content = f.read()\n",
    "g.write(content)\n",
    "\n",
    "f.close()\n",
    "g.close()"
   ]
  },
  {
   "cell_type": "code",
   "execution_count": 51,
   "id": "46f97b3e",
   "metadata": {
    "collapsed": true
   },
   "outputs": [
    {
     "data": {
      "image/jpeg": "[encoded data removed]",
      "text/plain": [
       "<IPython.core.display.Image object>"
      ]
     },
     "execution_count": 51,
     "metadata": {},
     "output_type": "execute_result"
    }
   ],
   "source": [
    "Image('bird_copy.jpg')"
   ]
  },
  {
   "cell_type": "code",
   "execution_count": null,
   "id": "ec10bae4",
   "metadata": {},
   "outputs": [],
   "source": []
  },
  {
   "cell_type": "code",
   "execution_count": 53,
   "id": "8fc36af3",
   "metadata": {},
   "outputs": [],
   "source": [
    "f = open('bird.jpg', 'rb')     #바이너리 파일을 읽겠다 #바이너리 파일은 2진으로 되어있는 이미지 파일!!\n",
    "g = open('bird_copy1.jpg', 'wb') \n",
    "\n",
    "bufsize=1024 \n",
    "\n",
    "img  = f.read(bufsize) \n",
    "\n",
    "while img:\n",
    "    g.write(img)\n",
    "    img = f.read(bufsize)\n",
    "\n",
    "f.close()\n",
    "g.close()"
   ]
  },
  {
   "cell_type": "code",
   "execution_count": 54,
   "id": "cdcbbe18",
   "metadata": {
    "collapsed": true
   },
   "outputs": [
    {
     "data": {
      "image/jpeg": "[encoded data removed]",
      "text/plain": [
       "<IPython.core.display.Image object>"
      ]
     },
     "execution_count": 54,
     "metadata": {},
     "output_type": "execute_result"
    }
   ],
   "source": [
    "Image('bird_copy1.jpg')"
   ]
  },
  {
   "cell_type": "code",
   "execution_count": null,
   "id": "0699fcd6",
   "metadata": {},
   "outputs": [],
   "source": []
  },
  {
   "cell_type": "code",
   "execution_count": null,
   "id": "7b5166a6",
   "metadata": {},
   "outputs": [],
   "source": [
    "# 파일경로.."
   ]
  },
  {
   "cell_type": "code",
   "execution_count": 55,
   "id": "2041ac21",
   "metadata": {},
   "outputs": [
    {
     "data": {
      "text/plain": [
       "'D:\\\\ds\\\\python'"
      ]
     },
     "execution_count": 55,
     "metadata": {},
     "output_type": "execute_result"
    }
   ],
   "source": [
    "pwd   # 현재 작업 폴더/경로"
   ]
  },
  {
   "cell_type": "code",
   "execution_count": 56,
   "id": "32cbec1a",
   "metadata": {},
   "outputs": [
    {
     "name": "stdout",
     "output_type": "stream",
     "text": [
      "2 45\n",
      "4 39\n",
      "1 41\n",
      "3 40\n",
      "\n"
     ]
    }
   ],
   "source": [
    "with open('ban.txt', 'r') as f:\n",
    "    text = f.read()\n",
    "    \n",
    "print(text)"
   ]
  },
  {
   "cell_type": "code",
   "execution_count": 13,
   "id": "4f2ce5dd",
   "metadata": {},
   "outputs": [
    {
     "name": "stdout",
     "output_type": "stream",
     "text": [
      "2 45\n",
      "4 39\n",
      "1 41\n",
      "3 40\n",
      "\n"
     ]
    }
   ],
   "source": [
    "with open('./data_files/ban.txt', 'r') as f:\n",
    "    text = f.read()\n",
    "    \n",
    "print(text)"
   ]
  },
  {
   "cell_type": "code",
   "execution_count": 18,
   "id": "dcc2e048",
   "metadata": {},
   "outputs": [
    {
     "name": "stdout",
     "output_type": "stream",
     "text": [
      "2 45\n",
      "4 39\n",
      "1 41\n",
      "3 40\n",
      "\n"
     ]
    }
   ],
   "source": [
    "with open(\"../ban_test.txt\", 'r') as f:\n",
    "    text = f.read()\n",
    "    \n",
    "print(text)"
   ]
  },
  {
   "cell_type": "code",
   "execution_count": 19,
   "id": "42ff8d23",
   "metadata": {},
   "outputs": [
    {
     "name": "stdout",
     "output_type": "stream",
     "text": [
      "2 45\n",
      "4 39\n",
      "1 41\n",
      "3 40\n",
      "\n"
     ]
    }
   ],
   "source": [
    "f = open(r'D:\\ds\\ban_test.txt', 'r')\n",
    "text = f.read()\n",
    "    \n",
    "print(text)"
   ]
  },
  {
   "cell_type": "code",
   "execution_count": 69,
   "id": "35496f27",
   "metadata": {},
   "outputs": [
    {
     "data": {
      "text/plain": [
       "'D:\\\\ds\\\\python'"
      ]
     },
     "execution_count": 69,
     "metadata": {},
     "output_type": "execute_result"
    }
   ],
   "source": [
    "pwd"
   ]
  },
  {
   "cell_type": "code",
   "execution_count": 20,
   "id": "626a119e",
   "metadata": {},
   "outputs": [
    {
     "data": {
      "text/plain": [
       "['.ipynb_checkpoints', 'ban_test.txt', 'python', '조편성.xlsx']"
      ]
     },
     "execution_count": 20,
     "metadata": {},
     "output_type": "execute_result"
    }
   ],
   "source": [
    "import os\n",
    "\n",
    "os.listdir('../')"
   ]
  },
  {
   "cell_type": "code",
   "execution_count": null,
   "id": "5a6cb610",
   "metadata": {},
   "outputs": [],
   "source": []
  },
  {
   "cell_type": "code",
   "execution_count": 21,
   "id": "07235aa5",
   "metadata": {},
   "outputs": [
    {
     "name": "stdout",
     "output_type": "stream",
     "text": [
      "2 45\n",
      "4 39\n",
      "1 41\n",
      "3 40\n",
      "\n"
     ]
    }
   ],
   "source": [
    "with open('./data_files/data/ban1.txt', 'r') as f:\n",
    "    text = f.read()\n",
    "    \n",
    "print(text)"
   ]
  },
  {
   "cell_type": "code",
   "execution_count": null,
   "id": "9ffd0e9c",
   "metadata": {},
   "outputs": [],
   "source": []
  },
  {
   "cell_type": "code",
   "execution_count": null,
   "id": "889657c0",
   "metadata": {},
   "outputs": [],
   "source": []
  }
 ],
 "metadata": {
  "kernelspec": {
   "display_name": "Python 3 (ipykernel)",
   "language": "python",
   "name": "python3"
  },
  "language_info": {
   "codemirror_mode": {
    "name": "ipython",
    "version": 3
   },
   "file_extension": ".py",
   "mimetype": "text/x-python",
   "name": "python",
   "nbconvert_exporter": "python",
   "pygments_lexer": "ipython3",
   "version": "3.9.12"
  },
  "toc": {
   "base_numbering": 1,
   "nav_menu": {},
   "number_sections": true,
   "sideBar": true,
   "skip_h1_title": false,
   "title_cell": "Table of Contents",
   "title_sidebar": "Contents",
   "toc_cell": false,
   "toc_position": {},
   "toc_section_display": true,
   "toc_window_display": false
  },
  "varInspector": {
   "cols": {
    "lenName": 16,
    "lenType": 16,
    "lenVar": 40
   },
   "kernels_config": {
    "python": {
     "delete_cmd_postfix": "",
     "delete_cmd_prefix": "del ",
     "library": "var_list.py",
     "varRefreshCmd": "print(var_dic_list())"
    },
    "r": {
     "delete_cmd_postfix": ") ",
     "delete_cmd_prefix": "rm(",
     "library": "var_list.r",
     "varRefreshCmd": "cat(var_dic_list()) "
    }
   },
   "types_to_exclude": [
    "module",
    "function",
    "builtin_function_or_method",
    "instance",
    "_Feature"
   ],
   "window_display": false
  }
 },
 "nbformat": 4,
 "nbformat_minor": 5
}
