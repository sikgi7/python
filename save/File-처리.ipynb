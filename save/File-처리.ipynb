{
 "cells": [
  {
   "cell_type": "code",
   "execution_count": 5,
   "id": "b1022909",
   "metadata": {},
   "outputs": [
    {
     "data": {
      "text/html": [
       "<style>.container { width:61% !important;}</style>"
      ],
      "text/plain": [
       "<IPython.core.display.HTML object>"
      ]
     },
     "metadata": {},
     "output_type": "display_data"
    }
   ],
   "source": [
    "from IPython.display import display, HTML\n",
    "display(HTML(\"<style>.container { width:61% !important;}</style>\"))"
   ]
  },
  {
   "cell_type": "markdown",
   "id": "4c0783c6",
   "metadata": {},
   "source": [
    "# FILE 처리\n",
    "---"
   ]
  },
  {
   "cell_type": "code",
   "execution_count": 101,
   "id": "bc420e2a",
   "metadata": {},
   "outputs": [],
   "source": [
    "text =\n",
    "f = open('newfile.txt','w')\n",
    "f.write('hello world \\n')\n",
    "f.write('now i am studying python \\n')\n",
    "f.write('programming is fun \\n')\n",
    "f.close()"
   ]
  },
  {
   "cell_type": "code",
   "execution_count": 102,
   "id": "1dcba4e8",
   "metadata": {},
   "outputs": [
    {
     "data": {
      "text/plain": [
       "'D:\\\\bigdata'"
      ]
     },
     "execution_count": 102,
     "metadata": {},
     "output_type": "execute_result"
    }
   ],
   "source": [
    "pwd"
   ]
  },
  {
   "cell_type": "code",
   "execution_count": 103,
   "id": "1bdc2fa9",
   "metadata": {},
   "outputs": [
    {
     "name": "stdout",
     "output_type": "stream",
     "text": [
      "hell\n"
     ]
    }
   ],
   "source": [
    "f = open('newfile.txt','r')\n",
    "a = f.read(4) #안에 숫자(4)는 4byte를 읽는다는 뜻(영어 = 한글자에 1바이트 한글은 = 한글자에 3바이트)\n",
    "print(a)"
   ]
  },
  {
   "cell_type": "code",
   "execution_count": 104,
   "id": "27ae966c",
   "metadata": {},
   "outputs": [
    {
     "name": "stdout",
     "output_type": "stream",
     "text": [
      "o world \n",
      "gnow i am studying python \n",
      "programming is fun \n",
      "\n"
     ]
    }
   ],
   "source": [
    "b = f.read()\n",
    "print(b)"
   ]
  },
  {
   "cell_type": "code",
   "execution_count": 105,
   "id": "0d23d299",
   "metadata": {},
   "outputs": [],
   "source": [
    "f.close()"
   ]
  },
  {
   "cell_type": "code",
   "execution_count": 106,
   "id": "1f7a830e",
   "metadata": {},
   "outputs": [
    {
     "name": "stdout",
     "output_type": "stream",
     "text": [
      "hello world \n",
      "gnow i am studying python \n",
      "programming is fun \n",
      "\n"
     ]
    }
   ],
   "source": [
    "# 1. read() : 파일 전체를 읽는다\n",
    "\n",
    "f = open('newfile.txt', 'r')\n",
    "text =  f.read()\n",
    "print(text)\n",
    "f.close()"
   ]
  },
  {
   "cell_type": "code",
   "execution_count": 107,
   "id": "450a7fa4",
   "metadata": {},
   "outputs": [
    {
     "name": "stdout",
     "output_type": "stream",
     "text": [
      "hello world \n",
      "\n"
     ]
    }
   ],
   "source": [
    "# 2. readline() : 한 줄만 읽는다\n",
    "\n",
    "f = open('newfile.txt', 'r')\n",
    "text = f.readline()\n",
    "print(text)\n",
    "f.close()"
   ]
  },
  {
   "cell_type": "code",
   "execution_count": 108,
   "id": "b11daa30",
   "metadata": {},
   "outputs": [
    {
     "name": "stdout",
     "output_type": "stream",
     "text": [
      "hello world \n",
      "\n",
      "gnow i am studying python \n",
      "\n"
     ]
    }
   ],
   "source": [
    "f = open('newfile.txt', 'r')\n",
    "text1 = f.readline()\n",
    "text2 = f.readline()  #  앞에서 읽은 다음 줄을 읽어준다.\n",
    "print(text1)\n",
    "print(text2)\n",
    "f.close()"
   ]
  },
  {
   "cell_type": "code",
   "execution_count": 109,
   "id": "5f2d4eb4",
   "metadata": {},
   "outputs": [],
   "source": [
    "# 2. readline()으로 전체 문장을 읽어서 출력 (while문 이용)"
   ]
  },
  {
   "cell_type": "code",
   "execution_count": 110,
   "id": "bbb77e67",
   "metadata": {},
   "outputs": [
    {
     "name": "stdout",
     "output_type": "stream",
     "text": [
      "hello world \n",
      "\n",
      "gnow i am studying python \n",
      "\n",
      "programming is fun \n",
      "\n"
     ]
    }
   ],
   "source": [
    "f = open('newfile.txt','r')\n",
    "\n",
    "text = f.readline()\n",
    "\n",
    "# sequence : 빈 sequences는 False, 값이 있는 sequence는 True로 인식\n",
    "while text: \n",
    "    print(text)\n",
    "    text = f.readline()\n",
    "\n",
    "f.close()"
   ]
  },
  {
   "cell_type": "code",
   "execution_count": 111,
   "id": "f5e06a67",
   "metadata": {},
   "outputs": [],
   "source": [
    "# 3. readlines()는 전체문장을 읽어서 문장을 리스트에 넣어서 출력"
   ]
  },
  {
   "cell_type": "code",
   "execution_count": 112,
   "id": "3b7a8452",
   "metadata": {
    "scrolled": true
   },
   "outputs": [
    {
     "name": "stdout",
     "output_type": "stream",
     "text": [
      "['hello world \\n', 'gnow i am studying python \\n', 'programming is fun \\n']\n"
     ]
    }
   ],
   "source": [
    "f = open('newfile.txt','r')\n",
    "text = f.readlines()\n",
    "print(text)\n",
    "f.close()"
   ]
  },
  {
   "cell_type": "code",
   "execution_count": 115,
   "id": "4fe09ef5",
   "metadata": {},
   "outputs": [
    {
     "name": "stdout",
     "output_type": "stream",
     "text": [
      "hello world \n",
      "\n",
      "gnow i am studying python \n",
      "\n",
      "programming is fun \n",
      "\n"
     ]
    }
   ],
   "source": [
    "# 4. for문 이용 (자주이용 속도가 더 빠름)\n",
    "\n",
    "f = open('newfile.txt','r')\n",
    "\n",
    "for line in f:  \n",
    "    print(line)"
   ]
  },
  {
   "cell_type": "code",
   "execution_count": null,
   "id": "4f030e52",
   "metadata": {},
   "outputs": [],
   "source": [
    "f = open('newfile.txt','r')\n",
    "text = f.read()\n",
    "f.close()"
   ]
  },
  {
   "cell_type": "markdown",
   "id": "bd356b99",
   "metadata": {},
   "source": [
    "##### with 구문"
   ]
  },
  {
   "cell_type": "code",
   "execution_count": 119,
   "id": "6233a0c2",
   "metadata": {
    "collapsed": true
   },
   "outputs": [
    {
     "name": "stdout",
     "output_type": "stream",
     "text": [
      "hello world \n",
      "gnow i am studying python \n",
      "programming is fun \n",
      "\n"
     ]
    }
   ],
   "source": [
    "with open('newfile.txt','r') as f:  # with 구문으로 파일을 열면 close() 하지 않아도 자동으로 파일을 저장하고 close한다(cloes생략가능)\n",
    "    text = f.read()\n",
    "print(text)"
   ]
  },
  {
   "cell_type": "code",
   "execution_count": 121,
   "id": "272c1b8e",
   "metadata": {},
   "outputs": [
    {
     "name": "stdout",
     "output_type": "stream",
     "text": [
      "4 9 2 3\n",
      "1 3\n",
      "9 5 4 8 2\n",
      "3 7 6\n"
     ]
    }
   ],
   "source": [
    "with open('data.txt','r') as f:\n",
    "    text = f.read()\n",
    "print(text)   "
   ]
  },
  {
   "cell_type": "code",
   "execution_count": 136,
   "id": "9fbece42",
   "metadata": {
    "collapsed": true
   },
   "outputs": [
    {
     "ename": "AttributeError",
     "evalue": "'str' object has no attribute 'splitp'",
     "output_type": "error",
     "traceback": [
      "\u001b[1;31m---------------------------------------------------------------------------\u001b[0m",
      "\u001b[1;31mAttributeError\u001b[0m                            Traceback (most recent call last)",
      "Input \u001b[1;32mIn [136]\u001b[0m, in \u001b[0;36m<cell line: 5>\u001b[1;34m()\u001b[0m\n\u001b[0;32m      6\u001b[0m     text \u001b[38;5;241m=\u001b[39m f\u001b[38;5;241m.\u001b[39mreadline()\n\u001b[0;32m      8\u001b[0m     \u001b[38;5;28;01mwhile\u001b[39;00m text:\n\u001b[0;32m      9\u001b[0m \u001b[38;5;66;03m#         L1 = []\u001b[39;00m\n\u001b[0;32m     10\u001b[0m \u001b[38;5;66;03m#         L1.append(text)\u001b[39;00m\n\u001b[1;32m---> 11\u001b[0m         L\u001b[38;5;241m.\u001b[39mappend(\u001b[43mtext\u001b[49m\u001b[38;5;241;43m.\u001b[39;49m\u001b[43msplitp\u001b[49m())\n\u001b[0;32m     12\u001b[0m         text \u001b[38;5;241m=\u001b[39m f\u001b[38;5;241m.\u001b[39mreadline()\n\u001b[0;32m     14\u001b[0m \u001b[38;5;28mprint\u001b[39m(L)\n",
      "\u001b[1;31mAttributeError\u001b[0m: 'str' object has no attribute 'splitp'"
     ]
    }
   ],
   "source": [
    "# data.txt파일을 열어서 리스트에 담기  \n",
    "# [4 9 2 3], [1 3], [9 5 4 8 2], [3 7 6]\n",
    "# while문이 더복잡\n",
    "L = []\n",
    "with open('data.txt', 'r') as f:\n",
    "    text = f.readline()\n",
    "\n",
    "    while text:\n",
    "#         L1 = []\n",
    "#         L1.append(text)\n",
    "        L.append(text.splitp())\n",
    "        text = f.readline()\n",
    "\n",
    "print(L)"
   ]
  },
  {
   "cell_type": "code",
   "execution_count": 129,
   "id": "8bcb5e5f",
   "metadata": {},
   "outputs": [
    {
     "name": "stdout",
     "output_type": "stream",
     "text": [
      "[[4, 9, 2, 3], [1, 3], [9, 5, 4, 8, 2], [3, 7, 6]]\n"
     ]
    }
   ],
   "source": [
    "f = open('data.txt', 'r') \n",
    "   \n",
    "L = []\n",
    "\n",
    "for line in f:\n",
    "    L.append([int(x) for x in line.split()])\n",
    "\n",
    "print(L)"
   ]
  },
  {
   "cell_type": "code",
   "execution_count": 135,
   "id": "3daf00e9",
   "metadata": {},
   "outputs": [
    {
     "name": "stdout",
     "output_type": "stream",
     "text": [
      "[['4', '9', '2', '3'], ['9', '5', '4', '8', '2']]\n"
     ]
    }
   ],
   "source": [
    "L = []  # for문이 더간단\n",
    "with open('data.txt', 'r') as f:\n",
    "    \n",
    "    for line in f:\n",
    "        L1 = []\n",
    "        L1.append(line)\n",
    "        L.append(text.split())\n",
    "        \n",
    "print(L)"
   ]
  },
  {
   "cell_type": "markdown",
   "id": "b0bf292b",
   "metadata": {},
   "source": [
    "---\n",
    "###### 쓰기\n",
    "---"
   ]
  },
  {
   "cell_type": "code",
   "execution_count": 168,
   "id": "96e73179",
   "metadata": {},
   "outputs": [],
   "source": [
    "with open('ban.txt', 'w') as f:\n",
    "    f.write('2 45\\n')\n",
    "    f.write('4 39\\n')\n",
    "    f.write('1 41\\n')\n",
    "    f.write('3 40\\n')"
   ]
  },
  {
   "cell_type": "code",
   "execution_count": 169,
   "id": "a09e39e1",
   "metadata": {},
   "outputs": [
    {
     "name": "stdout",
     "output_type": "stream",
     "text": [
      "2 45\n",
      "\n",
      "4 39\n",
      "\n",
      "1 41\n",
      "\n",
      "3 40\n",
      "\n"
     ]
    }
   ],
   "source": [
    "f = open('ban.txt', 'r')\n",
    "for line in f:\n",
    "    print(line)"
   ]
  },
  {
   "cell_type": "code",
   "execution_count": 170,
   "id": "d3bcf6a9",
   "metadata": {
    "scrolled": true
   },
   "outputs": [
    {
     "name": "stdout",
     "output_type": "stream",
     "text": [
      "{'2': 45, '4': 39, '1': 41, '3': 40}\n"
     ]
    }
   ],
   "source": [
    "# ban.txt 파일을 열어서 dict에 다음과 같이 담으시오.\n",
    "# {'2': 45, '4': 39, '1': 41, '3': 40}\n",
    "\n",
    "f = open('ban.txt', 'r')\n",
    "D = {}    \n",
    "for line in f:\n",
    "    # print(line.split())\n",
    "    key = line.split()[0]\n",
    "    val = line.split()[1]\n",
    "    # print(key, val)\n",
    "    D[key] = int(val)\n",
    "print(D)"
   ]
  },
  {
   "cell_type": "code",
   "execution_count": 203,
   "id": "a7195e1c",
   "metadata": {},
   "outputs": [
    {
     "name": "stdout",
     "output_type": "stream",
     "text": [
      "2 Alice Paul Bob\n",
      "4 Cindy Stella Bill\n",
      "3 Jone Joe Tom/\n",
      "1 Mary Jun Kelly\n",
      "\n"
     ]
    }
   ],
   "source": [
    "with open('ban_student.txt', 'w') as f:\n",
    "    f.write('2 Alice Paul Bob\\n')\n",
    "    f.write('4 Cindy Stella Bill\\n')\n",
    "    f.write('3 Jone Joe Tom\\n')\n",
    "    f.write('1 Mary Jun Kelly\\n')\n",
    "    \n",
    "with open('ban.txt', 'r') as f:\n",
    "    text = f.read()\n",
    "print(text)"
   ]
  },
  {
   "cell_type": "code",
   "execution_count": 205,
   "id": "128656b5",
   "metadata": {},
   "outputs": [
    {
     "data": {
      "text/plain": [
       "{'2': ['Alice', 'Paul', 'Bob'],\n",
       " '4': ['Cindy', 'Stella', 'Bill'],\n",
       " '3': ['Jone', 'Joe', 'Tom'],\n",
       " '1': ['Mary', 'Jun', 'Kelly']}"
      ]
     },
     "execution_count": 205,
     "metadata": {},
     "output_type": "execute_result"
    }
   ],
   "source": [
    "# ban-student.txt 파일을 내용을 dict에 다음과 같이 넣으시오.\n",
    "# {'2': [Alice Paul Bob], '1':[Mary Jun Kelly], '3':[Jone Joe Tom], '4':[Cindy Stella Bill]}\n",
    "d = {}\n",
    "with open('ban_student.txt', 'r') as f:\n",
    "    for line in f:\n",
    "        key = line.split()[0]\n",
    "        val = line.split()[1:] # [1:5] == [1:]\n",
    "#         print(key,val)\n",
    "        d[key] = val\n",
    "d"
   ]
  },
  {
   "cell_type": "code",
   "execution_count": 199,
   "id": "22e106fa",
   "metadata": {},
   "outputs": [
    {
     "name": "stdout",
     "output_type": "stream",
     "text": [
      "{'2': ['Alice', 'Paul', 'Bob'], '4': ['Cindy', 'Stella', 'Bill'], '3': ['Jone', 'Joe', 'Tom'], 'g1': ['Mary', 'Jun', 'Kelly']}\n"
     ]
    }
   ],
   "source": [
    "d = {}\n",
    "f = open('ban_student.txt', 'r')\n",
    "for line in f:\n",
    "    items = line.split() # 전체값을 쪼개줘서\n",
    "    key, val = items[0], items[1:5] # key 와 values로 나눠서 itmes에 나눠넣어서\n",
    "    d[key] = val\n",
    "print(d)"
   ]
  },
  {
   "cell_type": "code",
   "execution_count": 215,
   "id": "7d04c29c",
   "metadata": {},
   "outputs": [
    {
     "name": "stdout",
     "output_type": "stream",
     "text": [
      "000830\n"
     ]
    }
   ],
   "source": [
    "# stockcode.txt 에서 삼성전자의 코드번호를 출력하시오\n",
    "f = open ('stockcode.txt','r')\n",
    "    \n",
    "for line in f:  \n",
    "    name = line.split()[1] # 기업명을 1 으로 쪼개고\n",
    "    code = line.split()[0] # 코드명을 0 으로 쪼개고\n",
    "    \n",
    "    if name == '삼성물산':\n",
    "        print(code)"
   ]
  },
  {
   "cell_type": "markdown",
   "id": "3b56db1f",
   "metadata": {},
   "source": [
    "---\n",
    "### text기준\n",
    "- 읽는 모드 : 'r'\n",
    "- 쓰는 모드 : 'w'\n",
    "\n",
    "- binary (숫자로 된 컴퓨터 언어) : 이미지 ,소리, 프로그램 등..\n",
    "- 읽는 모드 : 'rb'\n",
    "- 쓰는 모드 : 'wb'\n",
    "---"
   ]
  },
  {
   "cell_type": "markdown",
   "id": "a75b005b",
   "metadata": {},
   "source": [
    "---\n",
    "#### 이미지 불러오기"
   ]
  },
  {
   "cell_type": "code",
   "execution_count": 40,
   "id": "f78806a2",
   "metadata": {
    "scrolled": true
   },
   "outputs": [
    {
     "data": {
      "image/jpeg": "[encoded data removed]",
      "text/plain": [
       "<IPython.core.display.Image object>"
      ]
     },
     "execution_count": 40,
     "metadata": {},
     "output_type": "execute_result"
    }
   ],
   "source": [
    "from IPython.display import Image \n",
    "Image('../source/cat.jpg')"
   ]
  },
  {
   "cell_type": "code",
   "execution_count": 41,
   "id": "a5e6c514",
   "metadata": {},
   "outputs": [],
   "source": [
    "# bird.jpg 파일을 읽어서 다른 파일 bird_copy.jpg에 읽은 내용을 쓴다.."
   ]
  },
  {
   "cell_type": "code",
   "execution_count": 42,
   "id": "cf7acab2",
   "metadata": {},
   "outputs": [],
   "source": [
    "#이미지 크기 사이즈 조절 안할때\n",
    "\n",
    "f = open('../source/cat.jpg', 'rb')\n",
    "g = open('../source/cat_copy1', 'wb')\n",
    "\n",
    "content = f.read()\n",
    "g.write(content)\n",
    "\n",
    "f.close()\n",
    "g.close()"
   ]
  },
  {
   "cell_type": "code",
   "execution_count": 43,
   "id": "0cd13ed9",
   "metadata": {
    "scrolled": true
   },
   "outputs": [
    {
     "data": {
      "image/jpeg": "[encoded data removed]",
      "text/plain": [
       "<IPython.core.display.Image object>"
      ]
     },
     "execution_count": 43,
     "metadata": {},
     "output_type": "execute_result"
    }
   ],
   "source": [
    "Image('../source/cat_copy1.jpg')"
   ]
  },
  {
   "cell_type": "markdown",
   "id": "6dc63e91",
   "metadata": {},
   "source": [
    "#### 이미지 복사및 이미지 사이즈 지정할때"
   ]
  },
  {
   "cell_type": "code",
   "execution_count": 44,
   "id": "24d08b98",
   "metadata": {},
   "outputs": [],
   "source": [
    "f = open('../source/cat.jpg', 'rb')        #바이너리 파일을 읽겠다.  #바이너리 파일은 2진으로 되어있는 이미지 파일!!\n",
    "g = open('../source/cat_copy1.jpg', 'wb') \n",
    "\n",
    "bufsize=1024 #이미지를 저장 할 최소 기본 메모리 사이즈\n",
    "\n",
    "img  = f.read(bufsize)\n",
    "\n",
    "while img:\n",
    "    g.write(img)\n",
    "    img = f.read(bufsize) # 이거 없으면 무한루프! \n",
    "\n",
    "f.close()\n",
    "g.close()"
   ]
  },
  {
   "cell_type": "code",
   "execution_count": 45,
   "id": "0dc71390",
   "metadata": {
    "collapsed": true
   },
   "outputs": [
    {
     "data": {
      "image/jpeg": "[encoded data removed]",
      "text/plain": [
       "<IPython.core.display.Image object>"
      ]
     },
     "execution_count": 45,
     "metadata": {},
     "output_type": "execute_result"
    }
   ],
   "source": [
    "Image('../source/cat_copy1.jpg')"
   ]
  },
  {
   "cell_type": "markdown",
   "id": "fb5b60cf",
   "metadata": {},
   "source": [
    "### 파일경로"
   ]
  },
  {
   "cell_type": "code",
   "execution_count": 21,
   "id": "6dea9735",
   "metadata": {},
   "outputs": [
    {
     "data": {
      "text/plain": [
       "'D:\\\\bigdata'"
      ]
     },
     "execution_count": 21,
     "metadata": {},
     "output_type": "execute_result"
    }
   ],
   "source": [
    "pwd # 현재 작업 폴더 / 경로 확인"
   ]
  },
  {
   "cell_type": "code",
   "execution_count": 27,
   "id": "3326de97",
   "metadata": {
    "collapsed": true
   },
   "outputs": [
    {
     "name": "stdout",
     "output_type": "stream",
     "text": [
      "2 Alice Paul Bob\n",
      "4 Cindy Stella Bill\n",
      "3 Jone Joe Tom/\n",
      "1 Mary Jun Kelly\n",
      "\n"
     ]
    }
   ],
   "source": [
    "with open('ban.txt', 'r') as f:  #기본경로\n",
    "          text = f.read()\n",
    "print(text)"
   ]
  },
  {
   "cell_type": "code",
   "execution_count": 28,
   "id": "af591f14",
   "metadata": {
    "collapsed": true
   },
   "outputs": [
    {
     "name": "stdout",
     "output_type": "stream",
     "text": [
      "2 45\n",
      "4 39\n",
      "1 41\n",
      "3 40\n"
     ]
    }
   ],
   "source": [
    "with open('../source/ban.txt', 'r') as f:   # ./경로찾기  / .. 점두번은 최상위폴더부터 찾기\n",
    "              text = f.read()\n",
    "print(text)"
   ]
  },
  {
   "cell_type": "code",
   "execution_count": 5,
   "id": "b54c40bc",
   "metadata": {},
   "outputs": [
    {
     "name": "stdout",
     "output_type": "stream",
     "text": [
      "2 Alice Paul Bob\n",
      "4 Cindy Stella Bill\n",
      "3 Jone Joe Tom/\n",
      "1 Mary Jun Kelly\n",
      "\n"
     ]
    }
   ],
   "source": [
    "with open('./source/ban.txt', 'r') as f:   # ./경로찾기 \n",
    "              text = f.read()\n",
    "print(text)"
   ]
  },
  {
   "cell_type": "code",
   "execution_count": null,
   "id": "d6a230a2",
   "metadata": {},
   "outputs": [],
   "source": [
    "import os #os 함수\n",
    "\n",
    "os.listdir('../')"
   ]
  },
  {
   "cell_type": "code",
   "execution_count": null,
   "id": "4315e07b",
   "metadata": {},
   "outputs": [],
   "source": [
    "with open('../save/ban1.txt', 'r') as f:\n",
    "    text = f.read()\n",
    "    \n",
    "print(text)"
   ]
  },
  {
   "cell_type": "code",
   "execution_count": null,
   "id": "a5750569",
   "metadata": {},
   "outputs": [],
   "source": []
  },
  {
   "cell_type": "code",
   "execution_count": null,
   "id": "2079152e",
   "metadata": {},
   "outputs": [],
   "source": []
  },
  {
   "cell_type": "code",
   "execution_count": null,
   "id": "fefb587b",
   "metadata": {},
   "outputs": [],
   "source": []
  },
  {
   "cell_type": "code",
   "execution_count": null,
   "id": "129aa437",
   "metadata": {},
   "outputs": [],
   "source": []
  }
 ],
 "metadata": {
  "kernelspec": {
   "display_name": "Python 3 (ipykernel)",
   "language": "python",
   "name": "python3"
  },
  "language_info": {
   "codemirror_mode": {
    "name": "ipython",
    "version": 3
   },
   "file_extension": ".py",
   "mimetype": "text/x-python",
   "name": "python",
   "nbconvert_exporter": "python",
   "pygments_lexer": "ipython3",
   "version": "3.9.12"
  },
  "toc": {
   "base_numbering": 1,
   "nav_menu": {},
   "number_sections": true,
   "sideBar": true,
   "skip_h1_title": false,
   "title_cell": "Table of Contents",
   "title_sidebar": "Contents",
   "toc_cell": false,
   "toc_position": {},
   "toc_section_display": true,
   "toc_window_display": false
  },
  "varInspector": {
   "cols": {
    "lenName": 16,
    "lenType": 16,
    "lenVar": 40
   },
   "kernels_config": {
    "python": {
     "delete_cmd_postfix": "",
     "delete_cmd_prefix": "del ",
     "library": "var_list.py",
     "varRefreshCmd": "print(var_dic_list())"
    },
    "r": {
     "delete_cmd_postfix": ") ",
     "delete_cmd_prefix": "rm(",
     "library": "var_list.r",
     "varRefreshCmd": "cat(var_dic_list()) "
    }
   },
   "types_to_exclude": [
    "module",
    "function",
    "builtin_function_or_method",
    "instance",
    "_Feature"
   ],
   "window_display": false
  }
 },
 "nbformat": 4,
 "nbformat_minor": 5
}
