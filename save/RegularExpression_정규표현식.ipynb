{
 "cells": [
  {
   "cell_type": "code",
   "execution_count": null,
   "id": "bfb4f818",
   "metadata": {},
   "outputs": [],
   "source": []
  },
  {
   "cell_type": "markdown",
   "id": "b02bd052",
   "metadata": {},
   "source": [
    "### 정규표현식\n",
    "- 텍스트를 정교하게 처리하기 위한 문법"
   ]
  },
  {
   "cell_type": "code",
   "execution_count": null,
   "id": "8d1275d5",
   "metadata": {},
   "outputs": [],
   "source": []
  },
  {
   "cell_type": "markdown",
   "id": "8d9dc211",
   "metadata": {},
   "source": [
    "1. re.compile('정규표현식')"
   ]
  },
  {
   "cell_type": "code",
   "execution_count": 2,
   "id": "2b99f73a",
   "metadata": {},
   "outputs": [],
   "source": [
    "import re   # 정규표현식을 파이썬에서 사용하도록 하는 라이브러리"
   ]
  },
  {
   "cell_type": "code",
   "execution_count": null,
   "id": "630016cf",
   "metadata": {},
   "outputs": [],
   "source": []
  },
  {
   "cell_type": "code",
   "execution_count": 3,
   "id": "dccf32bc",
   "metadata": {},
   "outputs": [],
   "source": [
    "# 1. 정규표현식 객체를 생성\n",
    "# 2. 정규표현식 메소드를 통해서 패턴에 일치하는 문자열을 처리"
   ]
  },
  {
   "cell_type": "code",
   "execution_count": null,
   "id": "108e777e",
   "metadata": {},
   "outputs": [],
   "source": []
  },
  {
   "cell_type": "code",
   "execution_count": 4,
   "id": "f96abb24",
   "metadata": {},
   "outputs": [],
   "source": [
    "# 1. 정규표현식 객체생성\n",
    "regex = re.compile(r'\\d\\d\\d-\\d\\d\\d-\\d\\d\\d\\d')  # \\d : 숫자"
   ]
  },
  {
   "cell_type": "code",
   "execution_count": 5,
   "id": "fdd7a64e",
   "metadata": {},
   "outputs": [
    {
     "data": {
      "text/plain": [
       "'415-555-4242'"
      ]
     },
     "execution_count": 5,
     "metadata": {},
     "output_type": "execute_result"
    }
   ],
   "source": [
    "# 2. 정규표현식 메소드 실행\n",
    "mo = regex.search('My number is 415-555-4242')\n",
    "mo.group()"
   ]
  },
  {
   "cell_type": "code",
   "execution_count": null,
   "id": "a375f02f",
   "metadata": {},
   "outputs": [],
   "source": []
  },
  {
   "cell_type": "code",
   "execution_count": null,
   "id": "4b786f25",
   "metadata": {},
   "outputs": [],
   "source": [
    "# search() : 패턴이 일치하는 첫 번째 문자열만 출력.."
   ]
  },
  {
   "cell_type": "code",
   "execution_count": null,
   "id": "14a5d012",
   "metadata": {},
   "outputs": [],
   "source": []
  },
  {
   "cell_type": "code",
   "execution_count": 6,
   "id": "18e49d93",
   "metadata": {},
   "outputs": [],
   "source": [
    "regex = re.compile(r'(\\d\\d\\d)-(\\d\\d\\d-\\d\\d\\d\\d)')"
   ]
  },
  {
   "cell_type": "code",
   "execution_count": 7,
   "id": "652f54f8",
   "metadata": {},
   "outputs": [
    {
     "data": {
      "text/plain": [
       "'415-555-4242'"
      ]
     },
     "execution_count": 7,
     "metadata": {},
     "output_type": "execute_result"
    }
   ],
   "source": [
    "mo = regex.search('My number is 415-555-4242')\n",
    "mo.group()"
   ]
  },
  {
   "cell_type": "code",
   "execution_count": 8,
   "id": "e491536e",
   "metadata": {},
   "outputs": [
    {
     "data": {
      "text/plain": [
       "'415'"
      ]
     },
     "execution_count": 8,
     "metadata": {},
     "output_type": "execute_result"
    }
   ],
   "source": [
    "mo.group(1)"
   ]
  },
  {
   "cell_type": "code",
   "execution_count": 9,
   "id": "2d1fd534",
   "metadata": {},
   "outputs": [
    {
     "data": {
      "text/plain": [
       "'555-4242'"
      ]
     },
     "execution_count": 9,
     "metadata": {},
     "output_type": "execute_result"
    }
   ],
   "source": [
    "mo.group(2)"
   ]
  },
  {
   "cell_type": "code",
   "execution_count": 10,
   "id": "fff8808b",
   "metadata": {},
   "outputs": [
    {
     "data": {
      "text/plain": [
       "('415', '555-4242')"
      ]
     },
     "execution_count": 10,
     "metadata": {},
     "output_type": "execute_result"
    }
   ],
   "source": [
    "mo.groups()"
   ]
  },
  {
   "cell_type": "code",
   "execution_count": null,
   "id": "162f3871",
   "metadata": {},
   "outputs": [],
   "source": []
  },
  {
   "cell_type": "code",
   "execution_count": null,
   "id": "edbee80a",
   "metadata": {},
   "outputs": [],
   "source": []
  },
  {
   "cell_type": "code",
   "execution_count": 11,
   "id": "4cad3334",
   "metadata": {},
   "outputs": [],
   "source": [
    "regex = re.compile(r'Batman|Tina Fey')  # 'Batman' 또는 'Tina Fey'라는 문자열 "
   ]
  },
  {
   "cell_type": "code",
   "execution_count": 13,
   "id": "31996a0e",
   "metadata": {},
   "outputs": [
    {
     "data": {
      "text/plain": [
       "'Tina Fey'"
      ]
     },
     "execution_count": 13,
     "metadata": {},
     "output_type": "execute_result"
    }
   ],
   "source": [
    "mo = regex.search('Tina Fey and Batman')\n",
    "mo.group()"
   ]
  },
  {
   "cell_type": "code",
   "execution_count": null,
   "id": "295df58d",
   "metadata": {},
   "outputs": [],
   "source": []
  },
  {
   "cell_type": "code",
   "execution_count": 15,
   "id": "7343a2d7",
   "metadata": {},
   "outputs": [
    {
     "data": {
      "text/plain": [
       "'Batmobile'"
      ]
     },
     "execution_count": 15,
     "metadata": {},
     "output_type": "execute_result"
    }
   ],
   "source": [
    "regex = re.compile(r'Bat(man|mobile|coopter|bat)')\n",
    "mo = regex.search('Batmobile is lost in pool')\n",
    "mo.group()"
   ]
  },
  {
   "cell_type": "code",
   "execution_count": null,
   "id": "752f664f",
   "metadata": {},
   "outputs": [],
   "source": []
  },
  {
   "cell_type": "code",
   "execution_count": 16,
   "id": "4765257f",
   "metadata": {},
   "outputs": [
    {
     "data": {
      "text/plain": [
       "'Batman'"
      ]
     },
     "execution_count": 16,
     "metadata": {},
     "output_type": "execute_result"
    }
   ],
   "source": [
    "regex = re.compile(r'Bat(wo)?man')  # ? : 1번 또는 0번 출현하는 경우\n",
    "mo = regex.search('The Adventures of Batman')\n",
    "mo.group()"
   ]
  },
  {
   "cell_type": "code",
   "execution_count": 17,
   "id": "2ad3f8eb",
   "metadata": {},
   "outputs": [
    {
     "data": {
      "text/plain": [
       "'Batwoman'"
      ]
     },
     "execution_count": 17,
     "metadata": {},
     "output_type": "execute_result"
    }
   ],
   "source": [
    "mo = regex.search('The Adventures of Batwoman')\n",
    "mo.group()"
   ]
  },
  {
   "cell_type": "code",
   "execution_count": 18,
   "id": "e48c9538",
   "metadata": {
    "collapsed": true
   },
   "outputs": [
    {
     "ename": "AttributeError",
     "evalue": "'NoneType' object has no attribute 'group'",
     "output_type": "error",
     "traceback": [
      "\u001b[1;31m---------------------------------------------------------------------------\u001b[0m",
      "\u001b[1;31mAttributeError\u001b[0m                            Traceback (most recent call last)",
      "Input \u001b[1;32mIn [18]\u001b[0m, in \u001b[0;36m<cell line: 2>\u001b[1;34m()\u001b[0m\n\u001b[0;32m      1\u001b[0m mo \u001b[38;5;241m=\u001b[39m regex\u001b[38;5;241m.\u001b[39msearch(\u001b[38;5;124m'\u001b[39m\u001b[38;5;124mThe Adventures of Batwowoman\u001b[39m\u001b[38;5;124m'\u001b[39m)\n\u001b[1;32m----> 2\u001b[0m \u001b[43mmo\u001b[49m\u001b[38;5;241;43m.\u001b[39;49m\u001b[43mgroup\u001b[49m()\n",
      "\u001b[1;31mAttributeError\u001b[0m: 'NoneType' object has no attribute 'group'"
     ]
    }
   ],
   "source": [
    "mo = regex.search('The Adventures of Batwowoman')\n",
    "mo.group()"
   ]
  },
  {
   "cell_type": "code",
   "execution_count": null,
   "id": "5eee9fde",
   "metadata": {},
   "outputs": [],
   "source": []
  },
  {
   "cell_type": "code",
   "execution_count": 19,
   "id": "cb483dcc",
   "metadata": {},
   "outputs": [
    {
     "data": {
      "text/plain": [
       "'Batman'"
      ]
     },
     "execution_count": 19,
     "metadata": {},
     "output_type": "execute_result"
    }
   ],
   "source": [
    "regex = re.compile(r'Bat(wo)*man')  # * : 앞 패턴이 0번 이상 나오는 패턴\n",
    "mo = regex.search('The Adventures of Batman')\n",
    "mo.group()"
   ]
  },
  {
   "cell_type": "code",
   "execution_count": 20,
   "id": "bd2d2003",
   "metadata": {},
   "outputs": [
    {
     "data": {
      "text/plain": [
       "'Batwoman'"
      ]
     },
     "execution_count": 20,
     "metadata": {},
     "output_type": "execute_result"
    }
   ],
   "source": [
    "mo = regex.search('The Adventures of Batwoman')\n",
    "mo.group()"
   ]
  },
  {
   "cell_type": "code",
   "execution_count": 21,
   "id": "ad1c2799",
   "metadata": {},
   "outputs": [
    {
     "data": {
      "text/plain": [
       "'Batwowowowoman'"
      ]
     },
     "execution_count": 21,
     "metadata": {},
     "output_type": "execute_result"
    }
   ],
   "source": [
    "mo = regex.search('The Adventures of Batwowowowoman')\n",
    "mo.group()"
   ]
  },
  {
   "cell_type": "code",
   "execution_count": null,
   "id": "b2e213d0",
   "metadata": {},
   "outputs": [],
   "source": []
  },
  {
   "cell_type": "code",
   "execution_count": null,
   "id": "afc169ee",
   "metadata": {},
   "outputs": [],
   "source": []
  },
  {
   "cell_type": "code",
   "execution_count": null,
   "id": "79a5b9a2",
   "metadata": {},
   "outputs": [],
   "source": []
  },
  {
   "cell_type": "code",
   "execution_count": null,
   "id": "47c12187",
   "metadata": {},
   "outputs": [],
   "source": []
  },
  {
   "cell_type": "code",
   "execution_count": null,
   "id": "dec12103",
   "metadata": {},
   "outputs": [],
   "source": []
  },
  {
   "cell_type": "code",
   "execution_count": null,
   "id": "0aeb9d15",
   "metadata": {},
   "outputs": [],
   "source": []
  }
 ],
 "metadata": {
  "kernelspec": {
   "display_name": "Python 3 (ipykernel)",
   "language": "python",
   "name": "python3"
  },
  "language_info": {
   "codemirror_mode": {
    "name": "ipython",
    "version": 3
   },
   "file_extension": ".py",
   "mimetype": "text/x-python",
   "name": "python",
   "nbconvert_exporter": "python",
   "pygments_lexer": "ipython3",
   "version": "3.9.12"
  }
 },
 "nbformat": 4,
 "nbformat_minor": 5
}
