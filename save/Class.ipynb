{
 "cells": [
  {
   "cell_type": "code",
   "execution_count": 3,
   "id": "35f641b0",
   "metadata": {},
   "outputs": [
    {
     "data": {
      "text/html": [
       "<style>.container { width:61% !important; }</style>"
      ],
      "text/plain": [
       "<IPython.core.display.HTML object>"
      ]
     },
     "metadata": {},
     "output_type": "display_data"
    }
   ],
   "source": [
    "from IPython.display import display, HTML\n",
    "display(HTML(\"<style>.container { width:61% !important; }</style>\"))"
   ]
  },
  {
   "cell_type": "markdown",
   "id": "1fefe007",
   "metadata": {},
   "source": [
    "# class (클래스)\n",
    "- class 클래스명:\n",
    "-   코드 ->..\n",
    "-   코드 ->..\n",
    "-   코드 ->..\n",
    "- __init__ < = 생성자 함수\n",
    "---"
   ]
  },
  {
   "cell_type": "code",
   "execution_count": 12,
   "id": "64a845d4",
   "metadata": {},
   "outputs": [],
   "source": [
    "class person:\n",
    "    \n",
    "    name='alice'     #attribute (속성)\n",
    "    age=10\n",
    "    \n",
    "    def __init__(self, name, age):      # 생성자 (__init__) @문법적으로 들어가니 외워야(self)\n",
    "        self.name = name                # 객체 맞춰줘야\n",
    "        self.age = age\n",
    "        \n",
    "    def ageup(self, n):                 # method(메소드)\n",
    "        self.age += n"
   ]
  },
  {
   "cell_type": "code",
   "execution_count": 18,
   "id": "2f75ceda",
   "metadata": {},
   "outputs": [],
   "source": [
    "p = person('철수', 25)"
   ]
  },
  {
   "cell_type": "code",
   "execution_count": 19,
   "id": "9297990f",
   "metadata": {},
   "outputs": [],
   "source": [
    "p.ageup(3)"
   ]
  },
  {
   "cell_type": "code",
   "execution_count": 20,
   "id": "8e3637d5",
   "metadata": {},
   "outputs": [
    {
     "data": {
      "text/plain": [
       "28"
      ]
     },
     "execution_count": 20,
     "metadata": {},
     "output_type": "execute_result"
    }
   ],
   "source": [
    "p.age"
   ]
  },
  {
   "cell_type": "code",
   "execution_count": null,
   "id": "67c19250",
   "metadata": {},
   "outputs": [],
   "source": [
    "# - 클래스 Doggy는 talk 메소드만 하나 가지고 있는 클래스이다.\n",
    "# - 클래스 메소드는 함수의 형태이고 반드시 첫 번째 매개 변수로 self가 와야 한다. "
   ]
  },
  {
   "cell_type": "markdown",
   "id": "3e32a1a8",
   "metadata": {},
   "source": [
    "##### - 예제 1 - 강아지를 코드로 표현하기\n",
    "- 강아지가 가지고 있는 속성 (attribute)\n",
    "- 이름\n",
    "- 기분\n",
    "- 강아지가 가지고 있는 기능 (method) \n",
    "- 멍멍짖기 (bark)\n",
    "- 꼬리흔들기\n"
   ]
  },
  {
   "cell_type": "code",
   "execution_count": 4,
   "id": "afd8535b",
   "metadata": {},
   "outputs": [],
   "source": [
    "class cat:                                \n",
    "    def talk(self):                      # <= cat 클래스 정의                \n",
    "        print('Hi, i am cat. ')"
   ]
  },
  {
   "cell_type": "code",
   "execution_count": null,
   "id": "0a9ea087",
   "metadata": {},
   "outputs": [],
   "source": [
    "# 클래스 Doggy의 객체(object)를 만들려면 다음과 같이 해야 한다.\n",
    "        \n",
    "# talk() 메소드를 수행하려면 객체.메소드 형태로 실행시켜야 한다.   "
   ]
  },
  {
   "cell_type": "code",
   "execution_count": 5,
   "id": "460f589c",
   "metadata": {},
   "outputs": [],
   "source": [
    "ya = cat()"
   ]
  },
  {
   "cell_type": "code",
   "execution_count": 6,
   "id": "50b7fd83",
   "metadata": {},
   "outputs": [
    {
     "name": "stdout",
     "output_type": "stream",
     "text": [
      "Hi, i am cat. \n"
     ]
    }
   ],
   "source": [
    "ya.talk()"
   ]
  },
  {
   "cell_type": "code",
   "execution_count": null,
   "id": "acf36d43",
   "metadata": {},
   "outputs": [],
   "source": [
    "#############"
   ]
  },
  {
   "cell_type": "code",
   "execution_count": 26,
   "id": "a0635424",
   "metadata": {},
   "outputs": [],
   "source": [
    "# 예시 : 붕어빵 찍는 기계(class), 붕어빵(객체)\n",
    "pup = Doggy()\n",
    "jon = Doggy()\n",
    "Pan = Doggy()"
   ]
  },
  {
   "cell_type": "code",
   "execution_count": 27,
   "id": "09cccba5",
   "metadata": {},
   "outputs": [
    {
     "name": "stdout",
     "output_type": "stream",
     "text": [
      "Hi, i am doggy. \n"
     ]
    }
   ],
   "source": [
    "pup . talk()"
   ]
  },
  {
   "cell_type": "code",
   "execution_count": 28,
   "id": "5575ccee",
   "metadata": {},
   "outputs": [
    {
     "name": "stdout",
     "output_type": "stream",
     "text": [
      "Hi, i am doggy. \n"
     ]
    }
   ],
   "source": [
    "jon . talk()"
   ]
  },
  {
   "cell_type": "code",
   "execution_count": 29,
   "id": "0e16b11f",
   "metadata": {},
   "outputs": [
    {
     "name": "stdout",
     "output_type": "stream",
     "text": [
      "Hi, i am doggy. \n"
     ]
    }
   ],
   "source": [
    "Pan. talk()"
   ]
  },
  {
   "cell_type": "code",
   "execution_count": null,
   "id": "839c503d",
   "metadata": {},
   "outputs": [],
   "source": [
    "################"
   ]
  },
  {
   "cell_type": "code",
   "execution_count": 31,
   "id": "66e46f98",
   "metadata": {},
   "outputs": [],
   "source": [
    "class Doggy:\n",
    "    \n",
    "    def __init__(self):         # 생성자 객체가 생성될 때 자동으로 실행\n",
    "        print('hello i am born!')\n",
    "        \n",
    "    def talk(self):\n",
    "        print('hi i am doggy')"
   ]
  },
  {
   "cell_type": "code",
   "execution_count": 33,
   "id": "69f0cd12",
   "metadata": {},
   "outputs": [
    {
     "name": "stdout",
     "output_type": "stream",
     "text": [
      "hello i am born!\n",
      "hello i am born!\n",
      "hello i am born!\n"
     ]
    }
   ],
   "source": [
    "happy = Doggy()\n",
    "milky = Doggy()\n",
    "choco = Doggy()"
   ]
  },
  {
   "cell_type": "code",
   "execution_count": 37,
   "id": "9cafb380",
   "metadata": {},
   "outputs": [
    {
     "name": "stdout",
     "output_type": "stream",
     "text": [
      "hi i am doggy\n",
      "hi i am doggy\n",
      "hi i am doggy\n"
     ]
    }
   ],
   "source": [
    "happy.talk()\n",
    "milky.talk()\n",
    "choco.talk()"
   ]
  },
  {
   "cell_type": "code",
   "execution_count": null,
   "id": "12874e49",
   "metadata": {},
   "outputs": [],
   "source": [
    "##################"
   ]
  },
  {
   "cell_type": "code",
   "execution_count": 39,
   "id": "3abb851f",
   "metadata": {},
   "outputs": [],
   "source": [
    "class Doggy:\n",
    "    \n",
    "    def __init__(self,name): #생성자 객체가 생성될 때 자동으로 실행\n",
    "        self.name = name\n",
    "        print('hello i am born!')\n",
    "        \n",
    "    def talk(self):\n",
    "        print('hi i am ', self.name)"
   ]
  },
  {
   "cell_type": "code",
   "execution_count": 41,
   "id": "6f259dff",
   "metadata": {},
   "outputs": [
    {
     "name": "stdout",
     "output_type": "stream",
     "text": [
      "hello i am born!\n"
     ]
    }
   ],
   "source": [
    "dog1 = Doggy('happy')"
   ]
  },
  {
   "cell_type": "code",
   "execution_count": 42,
   "id": "e5708638",
   "metadata": {},
   "outputs": [
    {
     "name": "stdout",
     "output_type": "stream",
     "text": [
      "hello i am born!\n"
     ]
    }
   ],
   "source": [
    "dog2 = Doggy('milky')"
   ]
  },
  {
   "cell_type": "code",
   "execution_count": 43,
   "id": "1c48cc98",
   "metadata": {},
   "outputs": [
    {
     "name": "stdout",
     "output_type": "stream",
     "text": [
      "hello i am born!\n"
     ]
    }
   ],
   "source": [
    "dog3 = Doggy('choco')"
   ]
  },
  {
   "cell_type": "code",
   "execution_count": 44,
   "id": "832031f0",
   "metadata": {},
   "outputs": [
    {
     "name": "stdout",
     "output_type": "stream",
     "text": [
      "hi i am  happy\n"
     ]
    }
   ],
   "source": [
    "dog1.talk()"
   ]
  },
  {
   "cell_type": "code",
   "execution_count": 45,
   "id": "6be4c9de",
   "metadata": {},
   "outputs": [
    {
     "name": "stdout",
     "output_type": "stream",
     "text": [
      "hi i am  milky\n"
     ]
    }
   ],
   "source": [
    "dog2.talk()"
   ]
  },
  {
   "cell_type": "code",
   "execution_count": 46,
   "id": "aa212949",
   "metadata": {},
   "outputs": [
    {
     "name": "stdout",
     "output_type": "stream",
     "text": [
      "hi i am  choco\n"
     ]
    }
   ],
   "source": [
    "dog3.talk()"
   ]
  },
  {
   "cell_type": "code",
   "execution_count": null,
   "id": "751a0c57",
   "metadata": {},
   "outputs": [],
   "source": [
    "##################"
   ]
  },
  {
   "cell_type": "code",
   "execution_count": 47,
   "id": "98459e08",
   "metadata": {},
   "outputs": [],
   "source": [
    "class Doggy:\n",
    "    \n",
    "    def __init__(self,name,mood): #생성자 객체가 생성될 때 자동으로 실행\n",
    "        self.name = name\n",
    "        self.mood = mood\n",
    "        print('hello i am born!')\n",
    "        \n",
    "    def talk(self):\n",
    "        print('hi i am ', self.name,'and i am ',self.mood,'now')"
   ]
  },
  {
   "cell_type": "code",
   "execution_count": 50,
   "id": "2531c57a",
   "metadata": {
    "scrolled": true
   },
   "outputs": [
    {
     "name": "stdout",
     "output_type": "stream",
     "text": [
      "hello i am born!\n",
      "hello i am born!\n",
      "hello i am born!\n"
     ]
    }
   ],
   "source": [
    "dog1 = Doggy('happy','happy')\n",
    "dog2 = Doggy('milky','sad')             # happy = Doggy()\n",
    "dog3 = Doggy('choco','borling')"
   ]
  },
  {
   "cell_type": "code",
   "execution_count": 54,
   "id": "9468495a",
   "metadata": {},
   "outputs": [
    {
     "name": "stdout",
     "output_type": "stream",
     "text": [
      "hi i am  happy and i am  happy now\n",
      "hi i am  milky and i am  sad now\n",
      "hi i am  choco and i am  borling now\n"
     ]
    }
   ],
   "source": [
    "# 객체는 모두 독립적이다.\n",
    "dog1.talk()\n",
    "dog2.talk()\n",
    "dog3.talk()"
   ]
  },
  {
   "cell_type": "code",
   "execution_count": null,
   "id": "15b49063",
   "metadata": {},
   "outputs": [],
   "source": []
  },
  {
   "cell_type": "code",
   "execution_count": 2,
   "id": "b1a7936f",
   "metadata": {},
   "outputs": [],
   "source": [
    "class circle:\n",
    "    \n",
    "    def __init__(self, radius):\n",
    "        self.radius = radius\n",
    "    def area(self):\n",
    "        circle_area = 3.14 * self.radius**2 # pow(self.radius, 2)\n",
    "        return circle_area\n",
    "    def perimeter(self):\n",
    "        circle_perimeter = 2*3.14*self.radius\n",
    "        return circle_perimeter"
   ]
  },
  {
   "cell_type": "code",
   "execution_count": 3,
   "id": "854e8a90",
   "metadata": {},
   "outputs": [],
   "source": [
    "cir1 = circle(3)"
   ]
  },
  {
   "cell_type": "code",
   "execution_count": 4,
   "id": "aa7bf9db",
   "metadata": {},
   "outputs": [
    {
     "data": {
      "text/plain": [
       "18.84"
      ]
     },
     "execution_count": 4,
     "metadata": {},
     "output_type": "execute_result"
    }
   ],
   "source": [
    "cir1. perimeter()"
   ]
  },
  {
   "cell_type": "code",
   "execution_count": 5,
   "id": "c305c69e",
   "metadata": {},
   "outputs": [
    {
     "data": {
      "text/plain": [
       "28.26"
      ]
     },
     "execution_count": 5,
     "metadata": {},
     "output_type": "execute_result"
    }
   ],
   "source": [
    "cir1.area()"
   ]
  },
  {
   "cell_type": "code",
   "execution_count": 6,
   "id": "b7a1e6c9",
   "metadata": {},
   "outputs": [],
   "source": [
    "#########################"
   ]
  },
  {
   "cell_type": "code",
   "execution_count": 7,
   "id": "49ecae08",
   "metadata": {},
   "outputs": [],
   "source": [
    "cir2 = circle(2)"
   ]
  },
  {
   "cell_type": "code",
   "execution_count": 8,
   "id": "5a68ccd7",
   "metadata": {},
   "outputs": [
    {
     "data": {
      "text/plain": [
       "12.56"
      ]
     },
     "execution_count": 8,
     "metadata": {},
     "output_type": "execute_result"
    }
   ],
   "source": [
    "cir2.area()"
   ]
  },
  {
   "cell_type": "code",
   "execution_count": 9,
   "id": "da2485e8",
   "metadata": {},
   "outputs": [
    {
     "data": {
      "text/plain": [
       "12.56"
      ]
     },
     "execution_count": 9,
     "metadata": {},
     "output_type": "execute_result"
    }
   ],
   "source": [
    "cir2.perimeter()"
   ]
  },
  {
   "cell_type": "code",
   "execution_count": 10,
   "id": "0dd8c5da",
   "metadata": {},
   "outputs": [],
   "source": [
    "###########################"
   ]
  },
  {
   "cell_type": "code",
   "execution_count": 81,
   "id": "5901c893",
   "metadata": {},
   "outputs": [],
   "source": [
    "class test:\n",
    "    def __init__(self):   \n",
    "        self.value = 100\n",
    "        print('created wuth value:', self.value)\n",
    "    def __del__(self):    # 소멸자 : 객체가 사라질 때 자동으로 실행되는 함수\n",
    "        print('deleted with value:', self.value)\n",
    "    def setm(self,v):\n",
    "        self.value = v"
   ]
  },
  {
   "cell_type": "code",
   "execution_count": 83,
   "id": "4527c07c",
   "metadata": {},
   "outputs": [
    {
     "name": "stdout",
     "output_type": "stream",
     "text": [
      "created wuth value: 100\n"
     ]
    }
   ],
   "source": [
    "x1 = test()"
   ]
  },
  {
   "cell_type": "code",
   "execution_count": 84,
   "id": "74cb9b20",
   "metadata": {},
   "outputs": [
    {
     "name": "stdout",
     "output_type": "stream",
     "text": [
      "created wuth value: 100\n"
     ]
    }
   ],
   "source": [
    "x2 =test()"
   ]
  },
  {
   "cell_type": "code",
   "execution_count": 85,
   "id": "84784f1d",
   "metadata": {},
   "outputs": [],
   "source": [
    "x1.setm(50)"
   ]
  },
  {
   "cell_type": "code",
   "execution_count": 86,
   "id": "d97b2fab",
   "metadata": {},
   "outputs": [
    {
     "data": {
      "text/plain": [
       "50"
      ]
     },
     "execution_count": 86,
     "metadata": {},
     "output_type": "execute_result"
    }
   ],
   "source": [
    "x1.value"
   ]
  },
  {
   "cell_type": "code",
   "execution_count": 89,
   "id": "892cab82",
   "metadata": {},
   "outputs": [
    {
     "name": "stdout",
     "output_type": "stream",
     "text": [
      "deleted with value: 50\n"
     ]
    }
   ],
   "source": [
    "del x1"
   ]
  },
  {
   "cell_type": "code",
   "execution_count": null,
   "id": "765e3704",
   "metadata": {},
   "outputs": [],
   "source": [
    "#############################"
   ]
  },
  {
   "cell_type": "code",
   "execution_count": 16,
   "id": "7d96a9f4",
   "metadata": {},
   "outputs": [],
   "source": [
    "class student:\n",
    "    def __init__(self,no,name,score):\n",
    "        self.no = no\n",
    "        self.name = name\n",
    "        self.score = score\n",
    "    def printstudent(self):\n",
    "        print('no :',self.no)\n",
    "        print('name :',self.name)\n",
    "        print('score :',self.score)"
   ]
  },
  {
   "cell_type": "code",
   "execution_count": 17,
   "id": "11b53923",
   "metadata": {},
   "outputs": [
    {
     "name": "stdout",
     "output_type": "stream",
     "text": [
      "no : 1\n",
      "name : 철수\n",
      "score : 80\n"
     ]
    }
   ],
   "source": [
    "s1 = student(1,'철수',80)\n",
    "s1.printstudent()"
   ]
  },
  {
   "cell_type": "code",
   "execution_count": 18,
   "id": "302a4a83",
   "metadata": {},
   "outputs": [
    {
     "name": "stdout",
     "output_type": "stream",
     "text": [
      "no : 2\n",
      "name : endy\n",
      "score : 70\n"
     ]
    }
   ],
   "source": [
    "s2 = student(2,'endy',70)\n",
    "s2.printstudent()"
   ]
  },
  {
   "cell_type": "code",
   "execution_count": 19,
   "id": "e5bef2b2",
   "metadata": {},
   "outputs": [],
   "source": [
    "#####################"
   ]
  },
  {
   "cell_type": "code",
   "execution_count": 108,
   "id": "4e7e6aa3",
   "metadata": {},
   "outputs": [],
   "source": [
    "import datetime\n",
    "\n",
    "class Person :\n",
    "    \n",
    "    def __init__(self, name):\n",
    "        self.name = name\n",
    "        self.birthday = None\n",
    "#   def __init__(self,name,birthdate):      #일반적으로는 간편하게 한꺼번에 \n",
    "#       self.name = name\n",
    "#       self.birthday = birthdate\n",
    "    \n",
    "\n",
    "    def setBirthday(self, birthDate):\n",
    "        self.birthday = birthDate\n",
    "        \n",
    "    def getAge(self):\n",
    "#         return (datetime.date.today() - datetime.datetime.strptime(self.birthday, '%Y-%m-%d').date)datetime.date.today()\n",
    "        return (datetime.date.today() - self.birthday).days\n",
    " \n",
    "    def getName(self):\n",
    "        return self.name\n"
   ]
  },
  {
   "cell_type": "code",
   "execution_count": 109,
   "id": "ada12161",
   "metadata": {},
   "outputs": [],
   "source": [
    "p1 = person('ekjde')"
   ]
  },
  {
   "cell_type": "code",
   "execution_count": 110,
   "id": "6f7e0694",
   "metadata": {},
   "outputs": [],
   "source": [
    "p1.setbirthday('1999-12-05')"
   ]
  },
  {
   "cell_type": "code",
   "execution_count": 111,
   "id": "a02fc089",
   "metadata": {
    "collapsed": true
   },
   "outputs": [
    {
     "ename": "TypeError",
     "evalue": "an integer is required (got type NoneType)",
     "output_type": "error",
     "traceback": [
      "\u001b[1;31m---------------------------------------------------------------------------\u001b[0m",
      "\u001b[1;31mTypeError\u001b[0m                                 Traceback (most recent call last)",
      "Input \u001b[1;32mIn [111]\u001b[0m, in \u001b[0;36m<cell line: 1>\u001b[1;34m()\u001b[0m\n\u001b[1;32m----> 1\u001b[0m \u001b[43mp1\u001b[49m\u001b[38;5;241;43m.\u001b[39;49m\u001b[43mgetage\u001b[49m\u001b[43m(\u001b[49m\u001b[43m)\u001b[49m\n",
      "Input \u001b[1;32mIn [108]\u001b[0m, in \u001b[0;36mperson.getage\u001b[1;34m(self)\u001b[0m\n\u001b[0;32m      9\u001b[0m \u001b[38;5;28;01mdef\u001b[39;00m \u001b[38;5;21mgetage\u001b[39m(\u001b[38;5;28mself\u001b[39m):\n\u001b[1;32m---> 10\u001b[0m     \u001b[38;5;28;01mreturn\u001b[39;00m (datetime\u001b[38;5;241m.\u001b[39mdate\u001b[38;5;241m.\u001b[39mtoday() \u001b[38;5;241m-\u001b[39m \u001b[43mdatetime\u001b[49m\u001b[38;5;241;43m.\u001b[39;49m\u001b[43mdate\u001b[49m\u001b[43m(\u001b[49m\u001b[38;5;28;43mself\u001b[39;49m\u001b[38;5;241;43m.\u001b[39;49m\u001b[43mbirthday\u001b[49m\u001b[43m)\u001b[49m)\u001b[38;5;241m.\u001b[39mdays\n",
      "\u001b[1;31mTypeError\u001b[0m: an integer is required (got type NoneType)"
     ]
    }
   ],
   "source": [
    "p1.getage()"
   ]
  },
  {
   "cell_type": "code",
   "execution_count": 112,
   "id": "e01135d2",
   "metadata": {},
   "outputs": [],
   "source": [
    "p2 = person('명수')\n",
    "p3 = person('기수')"
   ]
  },
  {
   "cell_type": "code",
   "execution_count": 115,
   "id": "b8b137bd",
   "metadata": {},
   "outputs": [
    {
     "name": "stdout",
     "output_type": "stream",
     "text": [
      "ekjde\n",
      "명수\n",
      "기수\n"
     ]
    }
   ],
   "source": [
    "for o in [p1,p2,p3]:\n",
    "    print(o.getname())"
   ]
  },
  {
   "cell_type": "code",
   "execution_count": null,
   "id": "51040a13",
   "metadata": {},
   "outputs": [],
   "source": [
    "# x,y 두 개의 값을 입력받고, 사칙연산 덧셈,뺄셈,곱셈,나눗셈을 하는 네 개의\n",
    "# 메소드를 가진 클래스를 정의하고, 객체를 만들어서 각각의 메소드를 실행하시오."
   ]
  },
  {
   "cell_type": "code",
   "execution_count": 12,
   "id": "acf025e4",
   "metadata": {},
   "outputs": [],
   "source": [
    "class fourcal:\n",
    "    \n",
    "    def __init__(self, x, y):   # 생성자\n",
    "        self.x = x\n",
    "        self.y = y\n",
    "    \n",
    "    def suma(self):     # 덧셈\n",
    "        result = self.x + self.y\n",
    "        return result\n",
    "    \n",
    "    def divf(self):     # 뺄샘\n",
    "        result = self.x / self.y\n",
    "        return result\n",
    "        \n",
    "    def mulf(self):  # 곱셉\n",
    "        result = self.x * self.y\n",
    "        return result\n",
    "    \n",
    "    def subf(self): # 나눗셈\n",
    "        result = self.x - self.y\n",
    "        return result"
   ]
  },
  {
   "cell_type": "code",
   "execution_count": 13,
   "id": "eb1e444c",
   "metadata": {},
   "outputs": [],
   "source": [
    "f = fourcal(2,4)"
   ]
  },
  {
   "cell_type": "code",
   "execution_count": 14,
   "id": "7e1b36f3",
   "metadata": {},
   "outputs": [
    {
     "data": {
      "text/plain": [
       "6"
      ]
     },
     "execution_count": 14,
     "metadata": {},
     "output_type": "execute_result"
    }
   ],
   "source": [
    "f.suma()"
   ]
  },
  {
   "cell_type": "code",
   "execution_count": 15,
   "id": "4d6d1e4a",
   "metadata": {},
   "outputs": [
    {
     "data": {
      "text/plain": [
       "0.5"
      ]
     },
     "execution_count": 15,
     "metadata": {},
     "output_type": "execute_result"
    }
   ],
   "source": [
    "f.divf()"
   ]
  },
  {
   "cell_type": "code",
   "execution_count": 16,
   "id": "8a06dba1",
   "metadata": {},
   "outputs": [
    {
     "data": {
      "text/plain": [
       "8"
      ]
     },
     "execution_count": 16,
     "metadata": {},
     "output_type": "execute_result"
    }
   ],
   "source": [
    "f.mulf()"
   ]
  },
  {
   "cell_type": "code",
   "execution_count": 17,
   "id": "36042f8d",
   "metadata": {},
   "outputs": [
    {
     "data": {
      "text/plain": [
       "8"
      ]
     },
     "execution_count": 17,
     "metadata": {},
     "output_type": "execute_result"
    }
   ],
   "source": [
    "f.mulf()"
   ]
  },
  {
   "cell_type": "code",
   "execution_count": 18,
   "id": "66ecd8f9",
   "metadata": {},
   "outputs": [],
   "source": [
    "g = fourcal(7,7)"
   ]
  },
  {
   "cell_type": "code",
   "execution_count": 19,
   "id": "c540fe74",
   "metadata": {},
   "outputs": [
    {
     "data": {
      "text/plain": [
       "0"
      ]
     },
     "execution_count": 19,
     "metadata": {},
     "output_type": "execute_result"
    }
   ],
   "source": [
    "g.subf()"
   ]
  },
  {
   "cell_type": "code",
   "execution_count": null,
   "id": "0497d3a1",
   "metadata": {},
   "outputs": [],
   "source": [
    "#######################"
   ]
  },
  {
   "cell_type": "code",
   "execution_count": null,
   "id": "1a164a9e",
   "metadata": {},
   "outputs": [],
   "source": [
    "# 클래스에 새로운 메소드(기능)를 추가 - ex:지수승"
   ]
  },
  {
   "cell_type": "code",
   "execution_count": 26,
   "id": "14818424",
   "metadata": {},
   "outputs": [],
   "source": [
    "class five_cal(fourcal):   # 상속 - 다른 클래스의 메소드와 속성을 물려받는다 (편리함),(다른사람과 코드공유할때사용)\n",
    "    def powf(self):        # 새로운 메소드만 추가\n",
    "        result = pow(self.x, self.y)\n",
    "        return result"
   ]
  },
  {
   "cell_type": "code",
   "execution_count": 27,
   "id": "7447c0c5",
   "metadata": {},
   "outputs": [],
   "source": [
    "fl = five_cal(2,4)"
   ]
  },
  {
   "cell_type": "code",
   "execution_count": 28,
   "id": "96cba524",
   "metadata": {},
   "outputs": [
    {
     "data": {
      "text/plain": [
       "6"
      ]
     },
     "execution_count": 28,
     "metadata": {},
     "output_type": "execute_result"
    }
   ],
   "source": [
    "fl.suma()"
   ]
  },
  {
   "cell_type": "code",
   "execution_count": 29,
   "id": "7526a27c",
   "metadata": {},
   "outputs": [
    {
     "data": {
      "text/plain": [
       "0.5"
      ]
     },
     "execution_count": 29,
     "metadata": {},
     "output_type": "execute_result"
    }
   ],
   "source": [
    "fl.divf() "
   ]
  },
  {
   "cell_type": "code",
   "execution_count": 31,
   "id": "ff94edd6",
   "metadata": {},
   "outputs": [
    {
     "data": {
      "text/plain": [
       "16"
      ]
     },
     "execution_count": 31,
     "metadata": {},
     "output_type": "execute_result"
    }
   ],
   "source": [
    "fl.powf()"
   ]
  },
  {
   "cell_type": "code",
   "execution_count": null,
   "id": "e524f324",
   "metadata": {},
   "outputs": [],
   "source": []
  },
  {
   "cell_type": "code",
   "execution_count": null,
   "id": "3ee88b60",
   "metadata": {},
   "outputs": [],
   "source": []
  },
  {
   "cell_type": "code",
   "execution_count": null,
   "id": "d2ac4add",
   "metadata": {},
   "outputs": [],
   "source": []
  },
  {
   "cell_type": "code",
   "execution_count": null,
   "id": "f0343547",
   "metadata": {},
   "outputs": [],
   "source": []
  },
  {
   "cell_type": "code",
   "execution_count": null,
   "id": "45e877dc",
   "metadata": {},
   "outputs": [],
   "source": []
  },
  {
   "cell_type": "code",
   "execution_count": null,
   "id": "2cab41e4",
   "metadata": {},
   "outputs": [],
   "source": []
  },
  {
   "cell_type": "code",
   "execution_count": null,
   "id": "87a71f0d",
   "metadata": {},
   "outputs": [],
   "source": []
  }
 ],
 "metadata": {
  "kernelspec": {
   "display_name": "Python 3 (ipykernel)",
   "language": "python",
   "name": "python3"
  },
  "language_info": {
   "codemirror_mode": {
    "name": "ipython",
    "version": 3
   },
   "file_extension": ".py",
   "mimetype": "text/x-python",
   "name": "python",
   "nbconvert_exporter": "python",
   "pygments_lexer": "ipython3",
   "version": "3.9.12"
  },
  "toc": {
   "base_numbering": 1,
   "nav_menu": {},
   "number_sections": true,
   "sideBar": true,
   "skip_h1_title": false,
   "title_cell": "Table of Contents",
   "title_sidebar": "Contents",
   "toc_cell": false,
   "toc_position": {},
   "toc_section_display": true,
   "toc_window_display": false
  },
  "varInspector": {
   "cols": {
    "lenName": 16,
    "lenType": 16,
    "lenVar": 40
   },
   "kernels_config": {
    "python": {
     "delete_cmd_postfix": "",
     "delete_cmd_prefix": "del ",
     "library": "var_list.py",
     "varRefreshCmd": "print(var_dic_list())"
    },
    "r": {
     "delete_cmd_postfix": ") ",
     "delete_cmd_prefix": "rm(",
     "library": "var_list.r",
     "varRefreshCmd": "cat(var_dic_list()) "
    }
   },
   "types_to_exclude": [
    "module",
    "function",
    "builtin_function_or_method",
    "instance",
    "_Feature"
   ],
   "window_display": false
  }
 },
 "nbformat": 4,
 "nbformat_minor": 5
}
