{
 "cells": [
  {
   "cell_type": "code",
   "execution_count": 4,
   "id": "a8bc0265",
   "metadata": {},
   "outputs": [
    {
     "ename": "SyntaxError",
     "evalue": "unexpected EOF while parsing (3238112484.py, line 32)",
     "output_type": "error",
     "traceback": [
      "\u001b[1;36m  Input \u001b[1;32mIn [4]\u001b[1;36m\u001b[0m\n\u001b[1;33m    print(\"평점 평균 : {:.2f}\".format(avg/len(cartoons))\u001b[0m\n\u001b[1;37m                                                    ^\u001b[0m\n\u001b[1;31mSyntaxError\u001b[0m\u001b[1;31m:\u001b[0m unexpected EOF while parsing\n"
     ]
    }
   ],
   "source": [
    "import requests\n",
    "from bs4 import BeautifulSoup as y\n",
    "\n",
    "# url은 네이버 웹툰의 애옹식당이다.\n",
    "url = \"https://comic.naver.com/webtoon/list?titleId=785703&weekday=tue\"\n",
    "head = {\"User-Agent\": \"Mozilla/5.0 (Windows NT 10.0; Win64; x64) AppleWebKit/537.36 (KHTML, like Gecko) Chrome/97.0.4692.99 Safari/537.36\"}\n",
    "res = requests.get(url, headers=head)\n",
    "res.raise_for_status()\n",
    "\n",
    "soup = y(res.text, 'html.parser')\n",
    "\n",
    "# html을 보면 제목은 td태그의 클래스명이 title이고, 평점은 div태그의 클래스명이 rating_type이다.\n",
    "cartoons = soup.find_all(\"td\", attrs={\"class\": \"title\"})\n",
    "ratings = soup.find_all(\"div\", attrs={\"class\": \"rating_type\"})\n",
    "\n",
    "# 평점의 평균을 위한 avg이다.\n",
    "avg = 0\n",
    "\n",
    "# for문의 zip을 사용해 webtoon과 rating을 한꺼번에 돌림\n",
    "for cartoons, rating in zip(cartoons, ratings):\n",
    "    # 이 내용은 앞의 내용과 동일하다\n",
    "    title = cartoon.a.string\n",
    "    link = \"https://comic.naver.com\" + cartoon.a[\"href\"]\n",
    "    rate = rating.strong.string\n",
    "\n",
    "    #이 부분이 약간 중요한데, 결국 내가 가져오는 HTML문서는 모두 string이라는 점이다. 숫자를 가져와도 결국 string이므로\n",
    "    #형변환이 필수!\n",
    "    avg += float(rate)\n",
    "\n",
    "    print(title, link, rate)\n",
    "\n",
    "print(\"평점 평균 : {:.2f}\".format(avg/len(cartoons))\n"
   ]
  },
  {
   "cell_type": "code",
   "execution_count": null,
   "id": "d182fd43",
   "metadata": {},
   "outputs": [],
   "source": []
  }
 ],
 "metadata": {
  "kernelspec": {
   "display_name": "Python 3 (ipykernel)",
   "language": "python",
   "name": "python3"
  },
  "language_info": {
   "codemirror_mode": {
    "name": "ipython",
    "version": 3
   },
   "file_extension": ".py",
   "mimetype": "text/x-python",
   "name": "python",
   "nbconvert_exporter": "python",
   "pygments_lexer": "ipython3",
   "version": "3.9.12"
  },
  "toc": {
   "base_numbering": 1,
   "nav_menu": {},
   "number_sections": true,
   "sideBar": true,
   "skip_h1_title": false,
   "title_cell": "Table of Contents",
   "title_sidebar": "Contents",
   "toc_cell": false,
   "toc_position": {},
   "toc_section_display": true,
   "toc_window_display": false
  },
  "varInspector": {
   "cols": {
    "lenName": 16,
    "lenType": 16,
    "lenVar": 40
   },
   "kernels_config": {
    "python": {
     "delete_cmd_postfix": "",
     "delete_cmd_prefix": "del ",
     "library": "var_list.py",
     "varRefreshCmd": "print(var_dic_list())"
    },
    "r": {
     "delete_cmd_postfix": ") ",
     "delete_cmd_prefix": "rm(",
     "library": "var_list.r",
     "varRefreshCmd": "cat(var_dic_list()) "
    }
   },
   "types_to_exclude": [
    "module",
    "function",
    "builtin_function_or_method",
    "instance",
    "_Feature"
   ],
   "window_display": false
  }
 },
 "nbformat": 4,
 "nbformat_minor": 5
}
