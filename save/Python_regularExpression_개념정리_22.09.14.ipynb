{
 "cells": [
  {
   "cell_type": "markdown",
   "id": "26e102a9",
   "metadata": {},
   "source": [
    "# 정규표현식(Regular Expression)\n",
    "    : 복잡한 문자열을 처리할 때 사용하는 기법\n",
    "    : 파이썬만의 고유 문법이 아니라 문자열을 처리하는 모든 곳에서 사용한다\n",
    "    \n",
    "    *참고자료1: https://wikidocs.net/1642\n",
    "    *참고자료2: https://nachwon.github.io/regular-expressions/"
   ]
  },
  {
   "cell_type": "code",
   "execution_count": null,
   "id": "44e7d454",
   "metadata": {},
   "outputs": [],
   "source": []
  },
  {
   "cell_type": "markdown",
   "id": "d470de6b",
   "metadata": {},
   "source": [
    "###### Q: 정규표현식은 왜 필요한가?\n",
    "    A: 복잡한 구문을 보다 간단하게 줄여쓰기 쌉가능"
   ]
  },
  {
   "cell_type": "code",
   "execution_count": null,
   "id": "62e94722",
   "metadata": {},
   "outputs": [],
   "source": []
  },
  {
   "cell_type": "markdown",
   "id": "ae4cc050",
   "metadata": {},
   "source": [
    "### 1. 정규표현식의 기초, 메타 문자(meta characters)\n",
    "    Q: 메타 문자란?\n",
    "    A: 문자가 고유의 뜻이 아닌 특별한 용도로 사용하는 문자"
   ]
  },
  {
   "cell_type": "markdown",
   "id": "76971566",
   "metadata": {},
   "source": [
    "###### 1) [] 문자 클래스\n",
    "    : 정규표현식에서 대괄호 [] 는 대괄호 안에 포함된 문자들 중 하나와 매치를 뜻한다."
   ]
  },
  {
   "cell_type": "code",
   "execution_count": null,
   "id": "464534e3",
   "metadata": {},
   "outputs": [],
   "source": [
    "[abc] # abc 중 하나와 매치\n",
    "'a' # a와 매치\n",
    "'boy' # b와 매치\n",
    "'dye' # a, b, c 중 어느 문자와도 매치되지 않음"
   ]
  },
  {
   "cell_type": "markdown",
   "id": "cf6fe5bb",
   "metadata": {},
   "source": [
    "###### 1-1) [] 안의 두 문자에 -를 사용하면 두 문자 사이의 범위를 뜻한다."
   ]
  },
  {
   "cell_type": "code",
   "execution_count": null,
   "id": "97cf7f09",
   "metadata": {},
   "outputs": [],
   "source": [
    "[a-c] # [abc]와 같음\n",
    "[0-5] # [012345]와 같음\n",
    "[a-zA-Z] # 모든 알파벳\n",
    "[0-9] # 숫자"
   ]
  },
  {
   "cell_type": "markdown",
   "id": "6e70f070",
   "metadata": {},
   "source": [
    "###### 1-2)자주 사용하는 문자 클래스"
   ]
  },
  {
   "cell_type": "code",
   "execution_count": null,
   "id": "2cbfd97d",
   "metadata": {},
   "outputs": [],
   "source": [
    "문자 클래스\t---> 설명\n",
    "\\d\t------> 숫자 [0-9]와 같다.\n",
    "\\D\t------> 비숫자 [^0-9]와 같다.\n",
    "\\w\t------> 숫자 + 문자 [a-zA-Z0-9]와 같다.\n",
    "\\W\t------> 숫자 + 문자가 아닌 것 [^a-zA-Z0-9]와 같다.\n",
    "\\s\t------> 공백 [ \\t\\n\\r\\f\\v]와 같다.\n",
    "\\S\t------> 비공백 [^ \\t\\n\\r\\f\\v]와 같다.\n",
    "\\b\t------> 단어 경계 (`\\w`와 `\\W`의 경계)\n",
    "\\B\t------> 비단어 경계"
   ]
  },
  {
   "cell_type": "markdown",
   "id": "59b08a4e",
   "metadata": {},
   "source": [
    "###### 1-3) [^xy] \n",
    "    : [] 안에서 ^는 반대를 뜻한다."
   ]
  },
  {
   "cell_type": "code",
   "execution_count": null,
   "id": "bdf4abe9",
   "metadata": {},
   "outputs": [],
   "source": [
    "[^0-9] # 숫자를 제외한 문자만 매치\n",
    "[^abc] # a, b, c를 제외한 모든 문자와 매치"
   ]
  },
  {
   "cell_type": "markdown",
   "id": "8cca2f05",
   "metadata": {},
   "source": [
    "###### 2) . 모든 문자\n",
    "    : .은 줄바꿈 문자인 \\n 을 제외한 모든 문자와 매치된다.\n",
    "    : cf) [] 사이에서 .을 사용할 경우 문자 원래의 의미인 마침표가 된다."
   ]
  },
  {
   "cell_type": "code",
   "execution_count": null,
   "id": "bfb1592a",
   "metadata": {},
   "outputs": [],
   "source": [
    "a.b # 'a + 모든 문자 + b'를 뜻함\n",
    "    aab # a와 b 사이의 a는 모든 문자에 포함되므로 매치\n",
    "    a0b # a와 b 사이의 0은 모든 문자에 포함되므로 매치\n",
    "    abc # a와 b 사이에 문자가 없기 때문에 매치되지 않음\n",
    "\n",
    "\n",
    "a[.]b\n",
    "    a.b # a와 b 사이에 마침표가 있으므로 매치\n",
    "    a0b # a와 b 사이에 마침표가 없으므로 매치 안됨"
   ]
  },
  {
   "cell_type": "markdown",
   "id": "0d34fb86",
   "metadata": {},
   "source": [
    "###### 3) * 반복\n",
    "    : * 앞에 오는 문자가 0개를 포함하여 몇 개가 오든 모두 매치된다."
   ]
  },
  {
   "cell_type": "code",
   "execution_count": null,
   "id": "f38206e1",
   "metadata": {},
   "outputs": [],
   "source": [
    "lo*l\n",
    "    ll # 매치\n",
    "    lol # 매치\n",
    "    looool # 매치\n",
    "    looooooooooooooooooooool # 매치\n",
    "    lbl # 매치 안됨\n",
    "    loooooooooooobooooooool # 매치 안됨"
   ]
  },
  {
   "cell_type": "markdown",
   "id": "29c106ef",
   "metadata": {},
   "source": [
    "###### 4) + 최소 한 번 이상 반복\n",
    "    : + 앞에 있는 문자가 최소 한 번 이상 반복되어야 매치된다."
   ]
  },
  {
   "cell_type": "code",
   "execution_count": null,
   "id": "f61c5b76",
   "metadata": {},
   "outputs": [],
   "source": [
    "lo+l\n",
    "    ll # 매치 안됨\n",
    "    lol # 매치\n",
    "    looooool # 매치"
   ]
  },
  {
   "cell_type": "markdown",
   "id": "6012c847",
   "metadata": {},
   "source": [
    "###### 5) ? 없거나 하나 있거나\n",
    "    : ? 앞에 있는 문자가 없거나 하나 있을 때 매치된다."
   ]
  },
  {
   "cell_type": "code",
   "execution_count": null,
   "id": "b32bb62b",
   "metadata": {},
   "outputs": [],
   "source": [
    "lo?l\n",
    "    ll # 매치\n",
    "    lol # 매치\n",
    "    lool # 매치 안됨"
   ]
  },
  {
   "cell_type": "markdown",
   "id": "49868720",
   "metadata": {},
   "source": [
    "###### 6) {m, n} 반복 횟수 지정\n",
    "    : {m, n} 앞에 있는 문자가 m 번에서 n 번까지 반복될 때 매치된다.\n",
    "    : {m}의 형태로 사용하면 반드시 m 번 반복인 경우만 매치된다.\n",
    "    : {0,} 는 *, {1,} 는 +, {0,1} 는 ? 와 각각 동일하다."
   ]
  },
  {
   "cell_type": "code",
   "execution_count": null,
   "id": "1eea8eed",
   "metadata": {},
   "outputs": [],
   "source": [
    "lo{3, 5}l\n",
    "    ll # 매치 안됨\n",
    "    lol # 매치 안됨\n",
    "    loool # 매치\n",
    "    loooool # 매치\n",
    "    looooool # 매치 안됨"
   ]
  },
  {
   "cell_type": "markdown",
   "id": "a7738eb5",
   "metadata": {},
   "source": [
    "###### 7) | 여러 개의 표현식 중 하나\n",
    "    : 여러 개의 정규표현식들을 | 로 구분하면 or 의 의미가 적용되어 정규표현식들 중 어느 하나와 매치된다."
   ]
  },
  {
   "cell_type": "code",
   "execution_count": null,
   "id": "ac199c0f",
   "metadata": {},
   "outputs": [],
   "source": [
    "a|b|c # hello or hi or bye\n",
    "    a # 매치\n",
    "    b # 매치\n",
    "    c # 매치\n",
    "    a b # 매치\n",
    "    a b c # 매치\n",
    "    d # 매치 안됨"
   ]
  },
  {
   "cell_type": "markdown",
   "id": "61b2d77c",
   "metadata": {},
   "source": [
    "###### 8) ^ 문자열의 제일 처음과 매치\n",
    "    : 문자열이 ^의 뒤에 있는 문자로 시작되면 매치된다.\n",
    "    : 여러 줄의 문자열일 경우 첫 줄만 적용된다.\n",
    "    : (단, re.MULTILINE 옵션이 적용되면 각 줄의 첫 문자를 검사하여 매치된다.)"
   ]
  },
  {
   "cell_type": "code",
   "execution_count": null,
   "id": "3fddaece",
   "metadata": {},
   "outputs": [],
   "source": [
    "^a\n",
    "    a # 매치\n",
    "    aaa # 매치\n",
    "    baaa # 매치 안됨\n",
    "    1aaa # 매치 안됨"
   ]
  },
  {
   "cell_type": "markdown",
   "id": "31f83bad",
   "metadata": {},
   "source": [
    "######  9) (달러) 문자열의 제일 마지막과 매치\n",
    "    : 문자열이 $의 앞에 있는 문자로 끝나면 매치된다.\n",
    "    : 여러 줄의 문자열일 경우 마지막 줄만 적용된다.\n",
    "    : (단, re.MULTILINE 옵션이 적용되면 각 줄의 마지막 문자를 검사하여 매치된다.)"
   ]
  },
  {
   "cell_type": "code",
   "execution_count": null,
   "id": "dd7bf8e3",
   "metadata": {},
   "outputs": [],
   "source": [
    "a$\n",
    "    a # 매치\n",
    "    aa # 매치\n",
    "    baa # 매치\n",
    "    aabb # 매치안됨"
   ]
  },
  {
   "cell_type": "markdown",
   "id": "ca6ea327",
   "metadata": {},
   "source": [
    "###### 10) \\A , \\Z ---> 8, 9번 개념 참고\n",
    "    : \\A 는 ^ 와 동일하지만 re.MULTILINE 옵션을 무시하고 항상 문자열 첫 줄의 시작 문자를 검사한다.\n",
    "    : \\Z 는 (달러) 와 동일하지만 re.MULTILINE 옵션을 무시하고 항상 문자열 마지막 줄의 끝 문자를 검사한다."
   ]
  },
  {
   "cell_type": "markdown",
   "id": "bc1c6694",
   "metadata": {},
   "source": [
    "###### 11) 조건이 있는 표현식"
   ]
  },
  {
   "cell_type": "code",
   "execution_count": null,
   "id": "9abcaa9d",
   "metadata": {},
   "outputs": [],
   "source": [
    "다음의 표현들은 조건을 가진 정규표현식이다.\n",
    "\n",
    "표현식1(?=표현식2): 표현식1 뒤의 문자열이 표현식2와 매치되면 표현식1 매치.\n",
    "\n",
    "'hello(?=world)' # hello 뒤에 world가 있으면 hello를 매치\n",
    "helloworld # hello 뒤에 world가 있기 때문에 hello가 매치됨\n",
    "byeworld # hello가 없기 때문에 매치 안됨\n",
    "helloJames # hello 뒤에 world가 없기 때문에 매치 안됨\n",
    "표현식1(?!표현식2): 표현식1 뒤의 문자열이 표현식2와 매치되지 않으면 표현식1 매치.\n",
    "\n",
    "'hello(?!world)' # hello 뒤에 world가 없으면 hello를 매치\n",
    "helloworld # hello 뒤에 world가 있기 때문에 매치 안됨\n",
    "byeworld # hello가 없기 때문에 매치 안됨\n",
    "helloJames # hello 뒤에 world가 없기 때문에 hello가 매치됨\n",
    "(?<=표현식1)표현식2: 표현식2 앞의 문자열이 표현식1과 매치되면 표현식2 매치.\n",
    "\n",
    "'(?<=hello)world' # world 앞에 hello가 있으면 world를 매치\n",
    "helloworld # world 앞에 hello가 있기 때문에 world가 매치됨\n",
    "byeworld # world 앞에 hello가 없기 때문에 매치 안됨\n",
    "helloJames # world가 없기 때문에 매치 안됨\n",
    "(?<!표현식1)표현식2: 표현식2 앞의 문자열이 표현식1과 매치되지 않으면 표현식2 매치.\n",
    "\n",
    "'(?<!hello)world' # world 앞에 hello가 없으면 world를 매치\n",
    "helloworld # world 앞에 hello가 있기 때문에 매치 안됨\n",
    "byeworld # world 앞에 hello가 없기 때문에 world가 매치됨\n",
    "helloJames # world가 없기 때문에 매치 안됨"
   ]
  },
  {
   "cell_type": "code",
   "execution_count": null,
   "id": "cda8ceba",
   "metadata": {},
   "outputs": [],
   "source": []
  },
  {
   "cell_type": "markdown",
   "id": "a320b294",
   "metadata": {},
   "source": [
    "### 2. re Python 정규표현식 모듈\n",
    "    : Python 에서는 re 모듈을 통해 정규표현식을 사용한다."
   ]
  },
  {
   "cell_type": "code",
   "execution_count": 11,
   "id": "918cc2c1",
   "metadata": {},
   "outputs": [],
   "source": [
    "import re"
   ]
  },
  {
   "cell_type": "markdown",
   "id": "5cec95e3",
   "metadata": {},
   "source": [
    "###### 1) compile - 정규표현식의 컴파일\n",
    "    : 파이썬에서는 re.compile() 명령을 통해 정규표현식을 컴파일하여 변수에 저장한 후 사용할 수 있다.\n",
    "    : 형식 ---> 변수이름 = re.compile('정규표현식')"
   ]
  },
  {
   "cell_type": "code",
   "execution_count": 14,
   "id": "b5f3d734",
   "metadata": {},
   "outputs": [
    {
     "name": "stdout",
     "output_type": "stream",
     "text": [
      "<class 're.Pattern'>\n"
     ]
    }
   ],
   "source": [
    "# 정규표현식을 컴파일하여 변수에 할당한 후 타입을 확인해보면\n",
    "# _sre.SRE_Pattern 이라는 이름의 클래스 객체인 것을 볼 수 있다.\n",
    "\n",
    "\n",
    "p = re.compile('[abc]')\n",
    "print(type(p))"
   ]
  },
  {
   "cell_type": "code",
   "execution_count": null,
   "id": "3718c6d7",
   "metadata": {},
   "outputs": [],
   "source": []
  },
  {
   "cell_type": "markdown",
   "id": "ecb1bf1f",
   "metadata": {},
   "source": [
    "### 3. 패턴 객체의 메서드\n",
    "    : 패턴 객체는 매치를 검색할 수 있는 네 가지 메서드를 제공한다."
   ]
  },
  {
   "cell_type": "markdown",
   "id": "f2a23613",
   "metadata": {},
   "source": [
    "###### 1) match(): 시작부터 일치하는 패턴 찾기 ----> 4. 매치 객에의 메서드 참고\n",
    "    : 문자열의 처음 시작부터 검색하여 일치하지 않는 부분이 나올 때까지 찾는다.\n",
    "    : 검색의 결과로 _sre.SRE_Match 객체를 리턴한다."
   ]
  },
  {
   "cell_type": "code",
   "execution_count": 21,
   "id": "1436109b",
   "metadata": {},
   "outputs": [
    {
     "data": {
      "text/plain": [
       "<re.Match object; span=(0, 1), match='a'>"
      ]
     },
     "execution_count": 21,
     "metadata": {},
     "output_type": "execute_result"
    }
   ],
   "source": [
    "p.match('aaaaa')\n",
    "# <_sre.SRE_Match object; span=(0, 5), match='aaaaa'>\n",
    "\n",
    "p.match('bbbbbbbbb')\n",
    "# <_sre.SRE_Match object; span=(0, 9), match='bbbbbbbbb'>\n",
    "\n",
    "p.match('1aaaa')\n",
    "# None\n",
    "\n",
    "p.match('aaa1aaa')\n",
    "# <_sre.SRE_Match object; span=(0, 3), match='aaa'>"
   ]
  },
  {
   "cell_type": "markdown",
   "id": "d22e71a0",
   "metadata": {},
   "source": [
    "###### 2) search(): 전체 문자열에서 첫 번째 매치 찾기\n",
    "    : 문자열 전체에서 검색하여 처음으로 매치되는 문자열을 찾는다"
   ]
  },
  {
   "cell_type": "code",
   "execution_count": null,
   "id": "2676010e",
   "metadata": {},
   "outputs": [],
   "source": [
    "ex)"
   ]
  },
  {
   "cell_type": "markdown",
   "id": "560bfaba",
   "metadata": {},
   "source": [
    "###### 3) findall(): 모든 매치를 찾아 리스트로 반환\n",
    "    : 문자열 내에서 일치하는 모든 패턴을 찾아 리스트로 반환한다."
   ]
  },
  {
   "cell_type": "code",
   "execution_count": 15,
   "id": "6e00a1ec",
   "metadata": {},
   "outputs": [
    {
     "data": {
      "text/plain": [
       "['aa', 'aaa', 'a', 'aa', 'aaa']"
      ]
     },
     "execution_count": 15,
     "metadata": {},
     "output_type": "execute_result"
    }
   ],
   "source": [
    "p.findall('aaa')\n",
    "# ['aaa']\n",
    "\n",
    "p.findall('11aaa')\n",
    "# ['aaa']\n",
    "\n",
    "p.findall('1a1a1a1a1a')\n",
    "# ['a', 'a', 'a', 'a', 'a']\n",
    "\n",
    "p.findall('1aa1aaa1a1aa1aaa')\n",
    "# ['aa', 'aaa', 'a', 'aa', 'aaa']"
   ]
  },
  {
   "cell_type": "markdown",
   "id": "ef9b2306",
   "metadata": {},
   "source": [
    "###### 4) finditer(): 모든 매치를 찾아 반복가능 객체로 반환\n",
    "    : 모든 매치를 찾아 반복가능 객체로 반환한다"
   ]
  },
  {
   "cell_type": "code",
   "execution_count": 19,
   "id": "e8e92d1f",
   "metadata": {
    "scrolled": true
   },
   "outputs": [
    {
     "data": {
      "text/plain": [
       "<callable_iterator at 0x19bb9f506d0>"
      ]
     },
     "execution_count": 19,
     "metadata": {},
     "output_type": "execute_result"
    }
   ],
   "source": [
    "p.finditer('a1bb1ccc')\n",
    "\n",
    "# callable_iterator라는 객체가 반환됨"
   ]
  },
  {
   "cell_type": "code",
   "execution_count": 20,
   "id": "4d37740a",
   "metadata": {},
   "outputs": [
    {
     "name": "stdout",
     "output_type": "stream",
     "text": [
      "<re.Match object; span=(0, 1), match='a'>\n",
      "<re.Match object; span=(2, 3), match='b'>\n",
      "<re.Match object; span=(3, 4), match='b'>\n",
      "<re.Match object; span=(5, 6), match='c'>\n",
      "<re.Match object; span=(6, 7), match='c'>\n",
      "<re.Match object; span=(7, 8), match='c'>\n"
     ]
    }
   ],
   "source": [
    "# callable_iterator라는 객체를 for을 사용하여 하나씩 출력하기\n",
    "\n",
    "f_iter = p.finditer('a1bb1ccc')\n",
    "for i in f_iter:\n",
    "    print(i)"
   ]
  },
  {
   "cell_type": "code",
   "execution_count": null,
   "id": "e1e40e63",
   "metadata": {},
   "outputs": [],
   "source": []
  },
  {
   "cell_type": "markdown",
   "id": "28d42820",
   "metadata": {},
   "source": [
    "### 4. 매치 객체의 메서드\n",
    "    : 패턴 객체의 메서드를 통해 리턴된 매치 객체는 아래와 같은 정보를 담고 있다.\n",
    "    : <_sre.SRE_Match object; span=(매치 시작지점 인덱스, 매치 끝지점 인덱스), match='매치된 문자열'>"
   ]
  },
  {
   "cell_type": "markdown",
   "id": "dec4cff6",
   "metadata": {},
   "source": [
    "###### 1) 매치 객체의 4가지 내부정보 접근 메서드\n",
    "    메서드\t---> 기능\n",
    "    group()\t---> 매치된 문자열 출력\n",
    "    start()\t---> 매치 시작지점 인덱스 출력\n",
    "    end()\t---> 매치 끝지점 인덱스 출력\n",
    "    span()\t---> (start(), end())를 튜플로 출력"
   ]
  },
  {
   "cell_type": "code",
   "execution_count": 25,
   "id": "1515a4b7",
   "metadata": {},
   "outputs": [
    {
     "name": "stdout",
     "output_type": "stream",
     "text": [
      "<class 're.Pattern'>\n"
     ]
    }
   ],
   "source": [
    "# 정규표현식을 컴파일하여 변수에 할당한 후 타입을 확인해보면\n",
    "# _sre.SRE_Pattern 이라는 이름의 클래스 객체인 것을 볼 수 있다.\n",
    "\n",
    "\n",
    "p = re.compile('[abc]')\n",
    "print(type(p))"
   ]
  },
  {
   "cell_type": "code",
   "execution_count": 26,
   "id": "f1d50d2c",
   "metadata": {},
   "outputs": [
    {
     "name": "stdout",
     "output_type": "stream",
     "text": [
      "<re.Match object; span=(1, 4), match='aaa'>\n"
     ]
    }
   ],
   "source": [
    "# 매치 오브젝트 얻기\n",
    "\n",
    "\n",
    "p = re.compile('[a-z]+')\n",
    "result = p.search('1aaa11aaa1')\n",
    "print(result)"
   ]
  },
  {
   "cell_type": "code",
   "execution_count": 27,
   "id": "c99681b1",
   "metadata": {},
   "outputs": [
    {
     "data": {
      "text/plain": [
       "(1, 4)"
      ]
     },
     "execution_count": 27,
     "metadata": {},
     "output_type": "execute_result"
    }
   ],
   "source": [
    "# 매치 객체의 메서드의 실행\n",
    "\n",
    "\n",
    "result.group()\n",
    "# aaa\n",
    "\n",
    "result.start()\n",
    "# 1\n",
    "\n",
    "result.end()\n",
    "# 4\n",
    "\n",
    "result.span()\n",
    "# (1, 4)"
   ]
  },
  {
   "cell_type": "code",
   "execution_count": null,
   "id": "ddf2f9ed",
   "metadata": {},
   "outputs": [],
   "source": []
  },
  {
   "cell_type": "markdown",
   "id": "8ce86e06",
   "metadata": {},
   "source": [
    "### 5. () 그룹화\n",
    "    : 정규표현식을 () 안에 넣으면 그 부분만 그룹화된다.\n",
    "    : groups 메서드를 통해 그룹들을 튜플 형태로 리턴 할 수 있다.\n",
    "    : group 메서드를 통해 각 그룹을 호출할 수 있다."
   ]
  },
  {
   "cell_type": "code",
   "execution_count": 29,
   "id": "15ed9591",
   "metadata": {},
   "outputs": [
    {
     "name": "stdout",
     "output_type": "stream",
     "text": [
      "('hello', 'world')\n"
     ]
    }
   ],
   "source": [
    "p = re.search('(hello)(world)', 'helloworld') # 정규표현식 hello와 world의 매치 결과를 각각 그룹화\n",
    "grouping = p.groups()\n",
    "print(grouping)\n",
    "\n",
    "# 각 그룹의 매치 결과가 튜플로 묶여서 리턴됨"
   ]
  },
  {
   "cell_type": "code",
   "execution_count": 30,
   "id": "6080bb9f",
   "metadata": {},
   "outputs": [
    {
     "data": {
      "text/plain": [
       "'world'"
      ]
     },
     "execution_count": 30,
     "metadata": {},
     "output_type": "execute_result"
    }
   ],
   "source": [
    "# group 메서드를 통해 각 그룹을 호출\n",
    "\n",
    "p.group() # 인자를 넣지 않으면 전체 매치 결과 리턴\n",
    "# helloworld\n",
    "\n",
    "p.group(0) # group()와 같다\n",
    "# helloworld\n",
    "\n",
    "p.group(1) # 1번 그룹 매치 결과 리턴\n",
    "# hello\n",
    "\n",
    "p.group(2) # 2번 그룹 매치 결과 리턴\n",
    "# world"
   ]
  },
  {
   "cell_type": "code",
   "execution_count": null,
   "id": "03273e67",
   "metadata": {},
   "outputs": [],
   "source": []
  },
  {
   "cell_type": "code",
   "execution_count": null,
   "id": "397df6bc",
   "metadata": {},
   "outputs": [],
   "source": []
  },
  {
   "cell_type": "code",
   "execution_count": null,
   "id": "1039215f",
   "metadata": {},
   "outputs": [],
   "source": []
  },
  {
   "cell_type": "code",
   "execution_count": null,
   "id": "2e64f1df",
   "metadata": {},
   "outputs": [],
   "source": []
  },
  {
   "cell_type": "code",
   "execution_count": null,
   "id": "e2a6bae6",
   "metadata": {},
   "outputs": [],
   "source": []
  },
  {
   "cell_type": "code",
   "execution_count": null,
   "id": "15d0a766",
   "metadata": {},
   "outputs": [],
   "source": []
  },
  {
   "cell_type": "code",
   "execution_count": null,
   "id": "04110d1c",
   "metadata": {},
   "outputs": [],
   "source": []
  },
  {
   "cell_type": "code",
   "execution_count": null,
   "id": "38a63eca",
   "metadata": {},
   "outputs": [],
   "source": []
  },
  {
   "cell_type": "code",
   "execution_count": null,
   "id": "20f94a85",
   "metadata": {},
   "outputs": [],
   "source": []
  },
  {
   "cell_type": "code",
   "execution_count": null,
   "id": "a3e1ad92",
   "metadata": {},
   "outputs": [],
   "source": []
  },
  {
   "cell_type": "code",
   "execution_count": null,
   "id": "0276e463",
   "metadata": {},
   "outputs": [],
   "source": []
  },
  {
   "cell_type": "code",
   "execution_count": null,
   "id": "454d521a",
   "metadata": {},
   "outputs": [],
   "source": []
  },
  {
   "cell_type": "code",
   "execution_count": null,
   "id": "931e41ff",
   "metadata": {},
   "outputs": [],
   "source": []
  }
 ],
 "metadata": {
  "kernelspec": {
   "display_name": "Python 3 (ipykernel)",
   "language": "python",
   "name": "python3"
  },
  "language_info": {
   "codemirror_mode": {
    "name": "ipython",
    "version": 3
   },
   "file_extension": ".py",
   "mimetype": "text/x-python",
   "name": "python",
   "nbconvert_exporter": "python",
   "pygments_lexer": "ipython3",
   "version": "3.9.12"
  }
 },
 "nbformat": 4,
 "nbformat_minor": 5
}
