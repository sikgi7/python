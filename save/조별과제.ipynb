{
 "cells": [
  {
   "cell_type": "code",
   "execution_count": 1,
   "id": "a030871b",
   "metadata": {},
   "outputs": [
    {
     "data": {
      "text/html": [
       "<style>.container { width:61% !important; }</style>"
      ],
      "text/plain": [
       "<IPython.core.display.HTML object>"
      ]
     },
     "metadata": {},
     "output_type": "display_data"
    }
   ],
   "source": [
    "from IPython.display import display, HTML\n",
    "display(HTML(\"<style>.container { width:61% !important; }</style>\"))"
   ]
  },
  {
   "cell_type": "code",
   "execution_count": null,
   "id": "39675f3b",
   "metadata": {},
   "outputs": [],
   "source": [
    "# 조별 쿼즈\n",
    "\n",
    "# 1. 인터넷에서 뉴스 텍스트를 'news.txt' 파일에 저장하고,\n",
    "#   4가지 방식으로 파일을 읽어서 출력하시오.\n",
    "\n",
    "# 2. 두 문자열을 입력받은 후 첫 번째 문자열이 파일에 있으면\n",
    "#    위의 뉴스 텍스트에서 첫번째 문자열을 두 번째 문자열로 변경하는 함수를 만드시오 "
   ]
  },
  {
   "cell_type": "code",
   "execution_count": 7,
   "id": "67474257",
   "metadata": {
    "scrolled": true
   },
   "outputs": [
    {
     "name": "stdout",
     "output_type": "stream",
     "text": [
      "인하대학교 캠퍼스에서 여학생에게 성폭행을 시도하다 건물에서 떨어트려 숨지게 한 혐의로 재판에 넘겨진 20대 가해 남학생이 최고 수위 처분을 받을 것으로 보입니다.\n",
      "\n",
      "인하대는 최근 학생상벌위원회를 열고 성폭력 범죄의 처벌 등에 관한 특례법상 강간 등 살인 혐의로 구속돼 재판에 넘겨진 1학년 남학생 A씨와 관련해 최고 수위 처분을 의결했다고 오늘(13일) 밝혔습니다.\n",
      "\n",
      "규정에 따르면 징계는 근신, 유기정학, 무기정학, 퇴학 등 4가지로 나눠집니다. A씨는 퇴학 처분을 받을 것으로 보입니다. 징계로 퇴학을 당하면 다시 입학할 수 없습니다.\n",
      "\n",
      "인하대 관계자는 JTBC와 통화에서 \"학생상벌위에서 최고 수위 처분을 의결한 건 맞다\"며 \"징계 수위에 대해선 개인정보라 밝힐 수 없다\"고 말했습니다.\n",
      "\n",
      "A씨는 지난 7월 15일 인천시 미추홀구 인하대 캠퍼스에 있는 한 건물에서 20대 여학생을 성폭행한 뒤 추락해 숨지게 한 혐의를 받습니다.\n"
     ]
    }
   ],
   "source": [
    "with open('../source/news.txt',encoding='utf-8') as f:\n",
    "        text = f.read()\n",
    "print(text)"
   ]
  },
  {
   "cell_type": "code",
   "execution_count": 16,
   "id": "3f5d22eb",
   "metadata": {},
   "outputs": [
    {
     "name": "stdout",
     "output_type": "stream",
     "text": [
      "인하대학교 캠퍼스에서 여학생에게 성폭행을 시도하다 건물에서 떨어트려 숨지게 한 혐의로 재판에 넘겨진 20대 가해 남학생이 최고 수위 처분을 받을 것으로 보입니다.\n",
      "\n",
      "\n",
      "\n",
      "인하대는 최근 학생상벌위원회를 열고 성폭력 범죄의 처벌 등에 관한 특례법상 강간 등 살인 혐의로 구속돼 재판에 넘겨진 1학년 남학생 A씨와 관련해 최고 수위 처분을 의결했다고 오늘(13일) 밝혔습니다.\n",
      "\n",
      "\n",
      "\n",
      "규정에 따르면 징계는 근신, 유기정학, 무기정학, 퇴학 등 4가지로 나눠집니다. A씨는 퇴학 처분을 받을 것으로 보입니다. 징계로 퇴학을 당하면 다시 입학할 수 없습니다.\n",
      "\n",
      "\n",
      "\n",
      "인하대 관계자는 JTBC와 통화에서 \"학생상벌위에서 최고 수위 처분을 의결한 건 맞다\"며 \"징계 수위에 대해선 개인정보라 밝힐 수 없다\"고 말했습니다.\n",
      "\n",
      "\n",
      "\n",
      "A씨는 지난 7월 15일 인천시 미추홀구 인하대 캠퍼스에 있는 한 건물에서 20대 여학생을 성폭행한 뒤 추락해 숨지게 한 혐의를 받습니다.\n"
     ]
    }
   ],
   "source": [
    "f = open('../source/news.txt',encoding='utf-8')\n",
    "\n",
    "text = f.readline()\n",
    "\n",
    "while text: \n",
    "    print(text)\n",
    "    text = f.readline()\n",
    "\n",
    "f.close()"
   ]
  },
  {
   "cell_type": "code",
   "execution_count": 12,
   "id": "87d32b00",
   "metadata": {},
   "outputs": [
    {
     "name": "stdout",
     "output_type": "stream",
     "text": [
      "['인하대학교 캠퍼스에서 여학생에게 성폭행을 시도하다 건물에서 떨어트려 숨지게 한 혐의로 재판에 넘겨진 20대 가해 남학생이 최고 수위 처분을 받을 것으로 보입니다.\\n', '\\n', '인하대는 최근 학생상벌위원회를 열고 성폭력 범죄의 처벌 등에 관한 특례법상 강간 등 살인 혐의로 구속돼 재판에 넘겨진 1학년 남학생 A씨와 관련해 최고 수위 처분을 의결했다고 오늘(13일) 밝혔습니다.\\n', '\\n', '규정에 따르면 징계는 근신, 유기정학, 무기정학, 퇴학 등 4가지로 나눠집니다. A씨는 퇴학 처분을 받을 것으로 보입니다. 징계로 퇴학을 당하면 다시 입학할 수 없습니다.\\n', '\\n', '인하대 관계자는 JTBC와 통화에서 \"학생상벌위에서 최고 수위 처분을 의결한 건 맞다\"며 \"징계 수위에 대해선 개인정보라 밝힐 수 없다\"고 말했습니다.\\n', '\\n', 'A씨는 지난 7월 15일 인천시 미추홀구 인하대 캠퍼스에 있는 한 건물에서 20대 여학생을 성폭행한 뒤 추락해 숨지게 한 혐의를 받습니다.']\n"
     ]
    }
   ],
   "source": [
    "with open('../source/news.txt',encoding='utf-8') as f:\n",
    "        text = f.readlines()\n",
    "print(text)"
   ]
  },
  {
   "cell_type": "code",
   "execution_count": 14,
   "id": "5907e48a",
   "metadata": {},
   "outputs": [
    {
     "name": "stdout",
     "output_type": "stream",
     "text": [
      "인하대학교 캠퍼스에서 여학생에게 성폭행을 시도하다 건물에서 떨어트려 숨지게 한 혐의로 재판에 넘겨진 20대 가해 남학생이 최고 수위 처분을 받을 것으로 보입니다.\n",
      "\n",
      "\n",
      "\n",
      "인하대는 최근 학생상벌위원회를 열고 성폭력 범죄의 처벌 등에 관한 특례법상 강간 등 살인 혐의로 구속돼 재판에 넘겨진 1학년 남학생 A씨와 관련해 최고 수위 처분을 의결했다고 오늘(13일) 밝혔습니다.\n",
      "\n",
      "\n",
      "\n",
      "규정에 따르면 징계는 근신, 유기정학, 무기정학, 퇴학 등 4가지로 나눠집니다. A씨는 퇴학 처분을 받을 것으로 보입니다. 징계로 퇴학을 당하면 다시 입학할 수 없습니다.\n",
      "\n",
      "\n",
      "\n",
      "인하대 관계자는 JTBC와 통화에서 \"학생상벌위에서 최고 수위 처분을 의결한 건 맞다\"며 \"징계 수위에 대해선 개인정보라 밝힐 수 없다\"고 말했습니다.\n",
      "\n",
      "\n",
      "\n",
      "A씨는 지난 7월 15일 인천시 미추홀구 인하대 캠퍼스에 있는 한 건물에서 20대 여학생을 성폭행한 뒤 추락해 숨지게 한 혐의를 받습니다.\n"
     ]
    }
   ],
   "source": [
    "f = open('../source/news.txt',encoding='utf-8')\n",
    "\n",
    "for line in f:  \n",
    "    print(line)"
   ]
  },
  {
   "cell_type": "code",
   "execution_count": 50,
   "id": "a4be5cd8",
   "metadata": {},
   "outputs": [],
   "source": [
    "def change_word(w1, w2):\n",
    "    f = open('../source/news.txt',encoding='utf-8')\n",
    "    text = f.read()\n",
    "    f.close()\n",
    "    \n",
    "    if w1 in text:\n",
    "        text1 = text.readplace(w1, 2)\n",
    "        g = open('../source/news.txt', 'w')\n",
    "        g.write(text1)\n",
    "        g.close()\n",
    "\n",
    "#     f = open('../source/news.txt)\n",
    "#     text2 =f.read()\n",
    "#     return text2"
   ]
  },
  {
   "cell_type": "code",
   "execution_count": 52,
   "id": "9173004f",
   "metadata": {},
   "outputs": [
    {
     "name": "stdout",
     "output_type": "stream",
     "text": [
      "인하대학교 캠퍼스에서 여학생에게 성폭행을 시도하다 건물에서 떨어트려 숨지게 한 혐의로 재판에 넘겨진 20대 가해 남학생이 최고 수위 처분을 받을 것으로 보입니다.\n",
      "\n",
      "인하대는 최근 학생상벌위원회를 열고 성폭력 범죄의 처벌 등에 관한 특례법상 강간 등 살인 혐의로 구속돼 재판에 넘겨진 1학년 남학생 A씨와 관련해 최고 수위 처분을 의결했다고 오늘(13일) 밝혔습니다.\n",
      "\n",
      "규정에 따르면 징계는 근신, 유기정학, 무기정학, 퇴학 등 4가지로 나눠집니다. A씨는 퇴학 처분을 받을 것으로 보입니다. 징계로 퇴학을 당하면 다시 입학할 수 없습니다.\n",
      "\n",
      "인하대 관계자는 JTBC와 통화에서 \"학생상벌위에서 최고 수위 처분을 의결한 건 맞다\"며 \"징계 수위에 대해선 개인정보라 밝힐 수 없다\"고 말했습니다.\n",
      "\n",
      "A씨는 지난 7월 15일 인천시 미추홀구 인하대 캠퍼스에 있는 한 건물에서 20대 여학생을 성폭행한 뒤 추락해 숨지게 한 혐의를 받습니다.\n"
     ]
    }
   ],
   "source": [
    "print(text)"
   ]
  },
  {
   "cell_type": "code",
   "execution_count": null,
   "id": "7fe4d454",
   "metadata": {},
   "outputs": [],
   "source": []
  },
  {
   "cell_type": "code",
   "execution_count": null,
   "id": "3d749e78",
   "metadata": {},
   "outputs": [],
   "source": []
  },
  {
   "cell_type": "code",
   "execution_count": null,
   "id": "8f023cc8",
   "metadata": {},
   "outputs": [],
   "source": []
  },
  {
   "cell_type": "code",
   "execution_count": null,
   "id": "d899581b",
   "metadata": {},
   "outputs": [],
   "source": []
  },
  {
   "cell_type": "code",
   "execution_count": null,
   "id": "8e07d125",
   "metadata": {},
   "outputs": [],
   "source": []
  },
  {
   "cell_type": "code",
   "execution_count": null,
   "id": "ad9656c2",
   "metadata": {},
   "outputs": [],
   "source": []
  },
  {
   "cell_type": "code",
   "execution_count": null,
   "id": "8e3cf383",
   "metadata": {},
   "outputs": [],
   "source": []
  },
  {
   "cell_type": "code",
   "execution_count": null,
   "id": "c945e19b",
   "metadata": {},
   "outputs": [],
   "source": []
  },
  {
   "cell_type": "code",
   "execution_count": null,
   "id": "cb780d9c",
   "metadata": {},
   "outputs": [],
   "source": []
  },
  {
   "cell_type": "code",
   "execution_count": null,
   "id": "06017ace",
   "metadata": {},
   "outputs": [],
   "source": []
  }
 ],
 "metadata": {
  "kernelspec": {
   "display_name": "Python 3 (ipykernel)",
   "language": "python",
   "name": "python3"
  },
  "language_info": {
   "codemirror_mode": {
    "name": "ipython",
    "version": 3
   },
   "file_extension": ".py",
   "mimetype": "text/x-python",
   "name": "python",
   "nbconvert_exporter": "python",
   "pygments_lexer": "ipython3",
   "version": "3.9.12"
  },
  "toc": {
   "base_numbering": 1,
   "nav_menu": {},
   "number_sections": true,
   "sideBar": true,
   "skip_h1_title": false,
   "title_cell": "Table of Contents",
   "title_sidebar": "Contents",
   "toc_cell": false,
   "toc_position": {},
   "toc_section_display": true,
   "toc_window_display": false
  },
  "varInspector": {
   "cols": {
    "lenName": 16,
    "lenType": 16,
    "lenVar": 40
   },
   "kernels_config": {
    "python": {
     "delete_cmd_postfix": "",
     "delete_cmd_prefix": "del ",
     "library": "var_list.py",
     "varRefreshCmd": "print(var_dic_list())"
    },
    "r": {
     "delete_cmd_postfix": ") ",
     "delete_cmd_prefix": "rm(",
     "library": "var_list.r",
     "varRefreshCmd": "cat(var_dic_list()) "
    }
   },
   "types_to_exclude": [
    "module",
    "function",
    "builtin_function_or_method",
    "instance",
    "_Feature"
   ],
   "window_display": false
  }
 },
 "nbformat": 4,
 "nbformat_minor": 5
}
