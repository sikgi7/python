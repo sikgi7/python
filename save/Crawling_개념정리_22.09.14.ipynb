{
 "cells": [
  {
   "cell_type": "markdown",
   "id": "3f8bfdfe",
   "metadata": {},
   "source": [
    "# Crawling\n",
    "    \n",
    "    *참고자료1: https://coding-kindergarten.tistory.com/24\n",
    "    *참고자료2: https://www.naragara.com/%ED%8C%8C%EC%9D%B4%EC%8D%AC-python-%EC%9B%B9%ED%8E%98%EC%9D%B4%EC%A7%80-%ED%81%AC%EB%A1%A4%EB%A7%81-%ED%95%98%EB%8A%94-%EB%B0%A9%EB%B2%95%EB%89%B4%EC%8A%A4-%EA%B8%81%EC%96%B4%EC%98%A4%EA%B8%B0/\n",
    "    *참고자료3: https://wikidocs.net/85737\n",
    "    *참고자료4: https://terms.naver.com/entry.naver?docId=6559363&cid=59277&categoryId=69439"
   ]
  },
  {
   "cell_type": "code",
   "execution_count": null,
   "id": "cf1a8996",
   "metadata": {},
   "outputs": [],
   "source": []
  },
  {
   "cell_type": "markdown",
   "id": "74cce670",
   "metadata": {},
   "source": [
    "### 1. 크롤링, 스크래핑, 파싱"
   ]
  },
  {
   "cell_type": "markdown",
   "id": "526ef36e",
   "metadata": {},
   "source": [
    "###### Q: 크롤링(crawling)?\n",
    "    : 크롤러(자동화 봇)가 일정한 규칙으로 정보자원에 접근해 필요한 정보를 찾아내는 행위\n",
    "    : 웹사이트(website), 하이퍼링크(hyperlink), 데이터(data) 등의 정보 자원을 자동화된 방법(크롤러)으로 수집, 분류, 저장하는 것\n",
    "    : 사전적 의미는 기어다니다는 의미의 영단어로, Web상을 돌아다니며 정보를 수집하는 행위를 빗대어서 만들어짐\n",
    "    \n",
    "###### Q: 크롤러(crawler)?\n",
    "    : 크롤링을 위해 개발된 소프트웨어\n",
    "    : 크롤러는 주어진 인터넷 주소(URL)에 접근하여,\n",
    "    특정 데이터가 어디에 있는지 색인(index) 을 만들어 데이터베이스(DB)에 저장하는 역할을 한다.\n",
    "    \n",
    "###### Q: 스크래핑(scraping)?\n",
    "    : 웹 사이트 상에서 원하는 정보를 추출하는 기술\n",
    "    : 크롤링과 유사 개념\n",
    "    : 소프트웨어를 통해 웹사이트와 같은 데이터 소스에서 데이터 자체를 추출하여 특정 형태로 저장하는 것\n",
    "###### Q: 파싱? \n",
    "    특정 대상(문서, HTML 등)에서 사용자가 원하는 데이터를 특정 패턴이나 순서로 추출하여 정보로 가공하는 것을 말함"
   ]
  },
  {
   "cell_type": "code",
   "execution_count": null,
   "id": "245d8f5a",
   "metadata": {},
   "outputs": [],
   "source": []
  },
  {
   "cell_type": "markdown",
   "id": "b7d74d28",
   "metadata": {},
   "source": [
    "### 2. Request & BeautifulSoup\n",
    "\n",
    "    **Request\n",
    "    : 웹사이트로부터 사용자가 원하는 정보를 가져오기 위한 도구\n",
    "\n",
    "    **BeautifulSoup\n",
    "    : html을 파싱(사용자가 원하는 형태로 데이터를 가공)하기 위해 필요한 도구"
   ]
  },
  {
   "cell_type": "markdown",
   "id": "680d020d",
   "metadata": {},
   "source": [
    "###### 1) 설치\n",
    "    : anaconda comand(관리자 권한으로 실행) ---> (커멘드 입력)pip install bs4  /  pip install requests"
   ]
  },
  {
   "cell_type": "code",
   "execution_count": null,
   "id": "d00b76af",
   "metadata": {},
   "outputs": [],
   "source": []
  },
  {
   "cell_type": "markdown",
   "id": "9dd8cab6",
   "metadata": {},
   "source": [
    "### 3. 파이썬으로 크롤링하기"
   ]
  },
  {
   "cell_type": "markdown",
   "id": "5abdb0c2",
   "metadata": {},
   "source": [
    "###### 1) 파싱할 대상 찾기\n",
    "    1. 크롬 브라우저에서 대상 사이트 접속\n",
    "    2. F12 ---> 개발자 도구 실행\n",
    "    3.원하는 영역의 최상위 div태그 찾기"
   ]
  },
  {
   "cell_type": "markdown",
   "id": "c3301a0c",
   "metadata": {},
   "source": [
    "###### 2) Request 모듈과 BeautifulSoup 모듈 불러오기"
   ]
  },
  {
   "cell_type": "code",
   "execution_count": 2,
   "id": "eb683181",
   "metadata": {},
   "outputs": [],
   "source": [
    "import requests\n",
    "from bs4 import BeautifulSoup"
   ]
  },
  {
   "cell_type": "markdown",
   "id": "21d811a8",
   "metadata": {},
   "source": [
    "###### 3) url 변수에 사이트 주소를 할당하기"
   ]
  },
  {
   "cell_type": "code",
   "execution_count": 17,
   "id": "aa5a0bab",
   "metadata": {},
   "outputs": [],
   "source": [
    "url = \"https://comic.naver.com/index\""
   ]
  },
  {
   "cell_type": "markdown",
   "id": "ec859121",
   "metadata": {},
   "source": [
    "###### 3) response 변수에 requests.get(url)으로 사이트 정보 불러오기"
   ]
  },
  {
   "cell_type": "code",
   "execution_count": 18,
   "id": "31b04a0a",
   "metadata": {},
   "outputs": [
    {
     "name": "stdout",
     "output_type": "stream",
     "text": [
      "<Response [200]>\n"
     ]
    }
   ],
   "source": [
    "res = requests.get(url)\n",
    "print(res)\n",
    "\n",
    "# 정상 = 200, 오류 = 403"
   ]
  },
  {
   "cell_type": "markdown",
   "id": "4ceb15c3",
   "metadata": {},
   "source": [
    "###### 4) res.raise_for_status() 로 불러온 정보의 오류 확인"
   ]
  },
  {
   "cell_type": "code",
   "execution_count": 19,
   "id": "717cd8cb",
   "metadata": {},
   "outputs": [],
   "source": [
    " res.raise_for_status()"
   ]
  },
  {
   "cell_type": "markdown",
   "id": "2241510d",
   "metadata": {},
   "source": [
    "###### 5) soup객체 생성\n",
    "    **parsor\n",
    "    : Compiler나 Interpreter에서 원시 프로그램을 읽어 들여, 그 문장이 구조를 알아내는 Parsing을 행하여 주는 프로그램\n",
    "        ex) lxml"
   ]
  },
  {
   "cell_type": "code",
   "execution_count": 20,
   "id": "66cba8b5",
   "metadata": {},
   "outputs": [],
   "source": [
    "soup = BeautifulSoup(res.text, 'lxml')\n",
    "\n",
    "# 가져온 사이트 정보를 lxml이라는 파서를 통해 BeautifulSoup 객체로 생성"
   ]
  },
  {
   "cell_type": "markdown",
   "id": "e8969fb0",
   "metadata": {},
   "source": [
    "###### 6) soup객체에서 정보 추출하기"
   ]
  },
  {
   "cell_type": "code",
   "execution_count": 24,
   "id": "58221568",
   "metadata": {
    "scrolled": true
   },
   "outputs": [
    {
     "name": "stdout",
     "output_type": "stream",
     "text": [
      "<title>네이버 웹툰</title>\n",
      "네이버 웹툰\n"
     ]
    }
   ],
   "source": [
    "print(soup.title)\n",
    "print(soup.title.get_text())  # get_text() ---> text만 받기"
   ]
  },
  {
   "cell_type": "code",
   "execution_count": 25,
   "id": "7e1ee19f",
   "metadata": {},
   "outputs": [
    {
     "name": "stdout",
     "output_type": "stream",
     "text": [
      "<a href=\"#menu\" onclick=\"document.getElementById('menu').tabIndex=-1;document.getElementById('menu').focus();return false;\"><span>메인 메뉴로 바로가기</span></a>\n"
     ]
    }
   ],
   "source": [
    "print(soup.a)  # 모든 a태그 중에 첫 번째로 발견되는 a태그"
   ]
  },
  {
   "cell_type": "code",
   "execution_count": 26,
   "id": "c820bf17",
   "metadata": {
    "scrolled": false
   },
   "outputs": [
    {
     "name": "stdout",
     "output_type": "stream",
     "text": [
      "{'href': '#menu', 'onclick': \"document.getElementById('menu').tabIndex=-1;document.getElementById('menu').focus();return false;\"}\n"
     ]
    }
   ],
   "source": [
    "print(soup.a.attrs)  # attribute 속성 정보"
   ]
  },
  {
   "cell_type": "code",
   "execution_count": 27,
   "id": "29f1f6af",
   "metadata": {},
   "outputs": [
    {
     "name": "stdout",
     "output_type": "stream",
     "text": [
      "#menu\n"
     ]
    }
   ],
   "source": [
    "print(soup.a[\"href\"])  # 특정 속성'값' 정보"
   ]
  },
  {
   "cell_type": "code",
   "execution_count": 30,
   "id": "2ec8818f",
   "metadata": {},
   "outputs": [
    {
     "name": "stdout",
     "output_type": "stream",
     "text": [
      "<h2 class=\"Ntxt_today_webtoon\">오늘의 웹툰</h2>\n"
     ]
    }
   ],
   "source": [
    "print(soup.find(\"h2\", attrs = {\"class\":\"Ntxt_today_webtoon\"}))  # class = \"Ntxt_today_webtoon\" 인 h2 element를 찾아라"
   ]
  },
  {
   "cell_type": "code",
   "execution_count": 33,
   "id": "686bb4ac",
   "metadata": {
    "scrolled": true
   },
   "outputs": [
    {
     "name": "stdout",
     "output_type": "stream",
     "text": [
      "<a href=\"/webtoon/detail?titleId=783769&amp;no=46\" onclick=\"nclk_v2(event,'rnk*p.cont','783769','1')\" title=\"내 남편과 결혼해줘-46화\">내 남편과 결혼해줘-46화</a>\n"
     ]
    }
   ],
   "source": [
    "rank1 = soup.find('li', attrs = {\"class\":\"rank01\"})  # class = \"rank01\" 인 li element를 찾아라\n",
    "print(rank1.a)"
   ]
  },
  {
   "cell_type": "code",
   "execution_count": null,
   "id": "5f748325",
   "metadata": {},
   "outputs": [],
   "source": []
  },
  {
   "cell_type": "code",
   "execution_count": null,
   "id": "7d300a6b",
   "metadata": {},
   "outputs": [],
   "source": []
  },
  {
   "cell_type": "code",
   "execution_count": null,
   "id": "0092973a",
   "metadata": {},
   "outputs": [],
   "source": []
  },
  {
   "cell_type": "code",
   "execution_count": null,
   "id": "e516cb6b",
   "metadata": {},
   "outputs": [],
   "source": []
  },
  {
   "cell_type": "code",
   "execution_count": null,
   "id": "9f0120c6",
   "metadata": {},
   "outputs": [],
   "source": []
  },
  {
   "cell_type": "code",
   "execution_count": null,
   "id": "ef3534ce",
   "metadata": {},
   "outputs": [],
   "source": []
  },
  {
   "cell_type": "code",
   "execution_count": null,
   "id": "27345c26",
   "metadata": {},
   "outputs": [],
   "source": []
  },
  {
   "cell_type": "code",
   "execution_count": null,
   "id": "46a09b08",
   "metadata": {},
   "outputs": [],
   "source": []
  },
  {
   "cell_type": "code",
   "execution_count": null,
   "id": "b3571811",
   "metadata": {},
   "outputs": [],
   "source": []
  },
  {
   "cell_type": "code",
   "execution_count": null,
   "id": "916ed92e",
   "metadata": {},
   "outputs": [],
   "source": []
  },
  {
   "cell_type": "code",
   "execution_count": null,
   "id": "24950c69",
   "metadata": {},
   "outputs": [],
   "source": []
  },
  {
   "cell_type": "code",
   "execution_count": null,
   "id": "357f26d2",
   "metadata": {},
   "outputs": [],
   "source": []
  },
  {
   "cell_type": "code",
   "execution_count": null,
   "id": "4a6259dc",
   "metadata": {},
   "outputs": [],
   "source": []
  },
  {
   "cell_type": "code",
   "execution_count": null,
   "id": "c9915bc1",
   "metadata": {},
   "outputs": [],
   "source": []
  },
  {
   "cell_type": "code",
   "execution_count": null,
   "id": "9521c79c",
   "metadata": {},
   "outputs": [],
   "source": []
  },
  {
   "cell_type": "code",
   "execution_count": null,
   "id": "ccc6cc42",
   "metadata": {},
   "outputs": [],
   "source": []
  },
  {
   "cell_type": "code",
   "execution_count": null,
   "id": "491f2720",
   "metadata": {},
   "outputs": [],
   "source": []
  },
  {
   "cell_type": "code",
   "execution_count": null,
   "id": "92a3afbd",
   "metadata": {},
   "outputs": [],
   "source": []
  },
  {
   "cell_type": "code",
   "execution_count": null,
   "id": "0d946df2",
   "metadata": {},
   "outputs": [],
   "source": []
  }
 ],
 "metadata": {
  "kernelspec": {
   "display_name": "Python 3 (ipykernel)",
   "language": "python",
   "name": "python3"
  },
  "language_info": {
   "codemirror_mode": {
    "name": "ipython",
    "version": 3
   },
   "file_extension": ".py",
   "mimetype": "text/x-python",
   "name": "python",
   "nbconvert_exporter": "python",
   "pygments_lexer": "ipython3",
   "version": "3.9.12"
  }
 },
 "nbformat": 4,
 "nbformat_minor": 5
}
