{
 "cells": [
  {
   "cell_type": "code",
   "execution_count": 2,
   "id": "bc77b949",
   "metadata": {},
   "outputs": [
    {
     "data": {
      "text/html": [
       "<style>.container { width:70% !important;}</style>"
      ],
      "text/plain": [
       "<IPython.core.display.HTML object>"
      ]
     },
     "metadata": {},
     "output_type": "display_data"
    }
   ],
   "source": [
    "from IPython.display import display, HTML    #  화면 크기조절\n",
    "display(HTML(\"<style>.container { width:70% !important;}</style>\"))"
   ]
  },
  {
   "cell_type": "code",
   "execution_count": 3,
   "id": "cf760278",
   "metadata": {},
   "outputs": [],
   "source": [
    "import pandas as pd\n",
    "import MySQLdb\n",
    "import warnings                    # 경고 메세지 무시하기\n",
    "warnings.filterwarnings('ignore')"
   ]
  },
  {
   "cell_type": "markdown",
   "id": "ba779818",
   "metadata": {},
   "source": [
    "---\n",
    "# 관계형 데이터 베이스 (RDBMS)\n",
    "\n",
    "- [SQL] \n",
    "\n",
    "-  SQL 언어의 엄격한 문법을 따른다\n",
    "-  MYSQL, MSSQL, ORACLE - SQL문법을 공통으로 사용\n",
    "\n",
    "- [NOSQL]\n",
    "\n",
    "-  정확한 규격이 없다\n",
    "-  비정형 데이터를 다루는데 유리\n",
    "-  빅데이터에 많이 사용\n",
    "-  READ에는 관계형 데이터베이스가 유리, WRITE에 있어서는 NOSQL이 유리\n",
    "\n",
    "- [MONGODB]\n",
    "\n",
    "- JSON 기반의 DOCUMENT 기반 데이터 관리\n",
    "- DATABASE - COLLECTION - DOCUMENT : MONGODB\n",
    "- DATABASE - TABLE - ROW, COLUMN : SQL\n",
    "---  "
   ]
  },
  {
   "cell_type": "code",
   "execution_count": null,
   "id": "c969dd93",
   "metadata": {},
   "outputs": [],
   "source": [
    "# www.mongodb.com/try - mongodb 설치 커뮤니티 버전 설치\n",
    "# mongodb gui 개발환경 - robo 3t"
   ]
  },
  {
   "cell_type": "code",
   "execution_count": null,
   "id": "3a17da03",
   "metadata": {},
   "outputs": [],
   "source": [
    "# requests 서버에 요청\n",
    "# get 로 요청하는 방식 : 요청하는 파라미터가 url에 첨부되어서 요청 /보안에 취약\n",
    "# post 로 요청하는 방식 : 데이터값들을 전달해서 요청 // url에서는 안보임 그래서 값을 변수에 담아서 전달해야함 / 보안에 강함"
   ]
  },
  {
   "cell_type": "code",
   "execution_count": null,
   "id": "195d747f",
   "metadata": {},
   "outputs": [],
   "source": [
    "# post 로 요청 씨네사이트에서 막힘"
   ]
  },
  {
   "cell_type": "code",
   "execution_count": 8,
   "id": "57e97475",
   "metadata": {},
   "outputs": [],
   "source": [
    "url = 'http://www.cine21.com/rank/person/content'"
   ]
  },
  {
   "cell_type": "code",
   "execution_count": 9,
   "id": "a34ebeef",
   "metadata": {},
   "outputs": [],
   "source": [
    "post_data = {'section':'actor', 'period_start':'2022-08', 'gender':'all', 'page':1}"
   ]
  },
  {
   "cell_type": "code",
   "execution_count": 10,
   "id": "7a198902",
   "metadata": {
    "collapsed": true
   },
   "outputs": [
    {
     "data": {
      "text/plain": [
       "'\\t\\t\\t<ul class=\"people_list\">\\r\\n\\t\\t\\t\\t<li class=\"people_li\">\\r\\n\\t\\t\\t\\t\\t<a href=\"/db/person/info/?person_id=20745\"><img src=\"https://image.cine21.com/resize/cine21/still/2017/1212/10_50_28__5a2f35e412a6b[X145,145].jpg\" alt=\"\" class=\"people_thumb\" target=\"_blank\" /></a>\\r\\n\\t\\t\\t\\t\\t<div class=\"name\"><a href=\"/db/person/info/?person_id=20745\">현빈(2편)</a></div>\\r\\n\\t\\t\\t\\t\\t<ul class=\"num_info\">\\r\\n\\t\\t\\t\\t\\t\\t<li><span class=\"tit\">흥행지수</span><strong>93,754</strong></li>\\r\\n\\t\\t\\t\\t\\t\\t<!--\\r\\n\\t\\t\\t\\t\\t\\t<li><a href=\"#\" class=\"btn_graph\"><span class=\"ico\"></span><span>흥행성적<br />그래프로 보기</span></a></li>\\r\\n\\t\\t\\t\\t\\t\\t-->\\r\\n\\t\\t\\t\\t\\t</ul>\\r\\n\\t\\t\\t\\t\\t<!-- 영화포스터는 최대 5개까지만 -->\\r\\n\\t\\t\\t\\t\\t<ul class=\"mov_list\">\\r\\n\\t\\t\\t\\t\\t\\t\\r\\n\\t\\t\\t\\t\\t\\t\\t<li>\\r\\n\\t\\t\\t\\t\\t\\t\\t\\t<a href=\"/movie/info/?movie_id=57553\">\\r\\n\\t\\t\\t\\t\\t\\t\\t\\t\\t<img src=\"https://image.cine21.com/resize/cine21/poster/2022/0826/12_30_09__63083e410eb65[X85,120].jpg\" alt=\"\" class=\"thumb\"  target=\"_blank\" />\\r\\n\\t\\t\\t\\t\\t\\t\\t\\t\\t<span>공조2: 인터내셔날</span>\\r\\n\\t\\t\\t\\t\\t\\t\\t\\t</a>\\r\\n\\t\\t\\t\\t\\t\\t\\t</li>\\r\\n\\t\\t\\t\\t\\t\\t\\r\\n\\t\\t\\t\\t\\t\\t\\t<li>\\r\\n\\t\\t\\t\\t\\t\\t\\t\\t<a href=\"/movie/info/?movie_id=47462\">\\r\\n\\t\\t\\t\\t\\t\\t\\t\\t\\t<img src=\"https://image.cine21.com/resize/cine21/poster/2017/0118/10_40_01__587ec771f2e55[X85,120].jpg\" alt=\"\" class=\"thumb\"  target=\"_blank\" />\\r\\n\\t\\t\\t\\t\\t\\t\\t\\t\\t<span>공조</span>\\r\\n\\t\\t\\t\\t\\t\\t\\t\\t</a>\\r\\n\\t\\t\\t\\t\\t\\t\\t</li>\\r\\n\\t\\t\\t\\t\\t\\t\\t\\t\\t\\t\\t</ul>\\r\\n\\t\\t\\t\\t\\t<!-- 순위 --><span class=\"grade\">1</span>\\r\\n\\t\\t\\t\\t</li>\\r\\n\\t\\t\\t\\t<li class=\"people_li\">\\r\\n\\t\\t\\t\\t\\t<a href=\"/db/person/info/?person_id=15757\"><img src=\"https://image.cine21.com/resize/cine21/still/2017/1207/13_58_12__5a28ca6489f5e[X145,145].jpg\" alt=\"\" class=\"people_thumb\" target=\"_blank\" /></a>\\r\\n\\t\\t\\t\\t\\t<div class=\"name\"><a href=\"/db/person/info/?person_id=15757\">유해진(2편)</a></div>\\r\\n\\t\\t\\t\\t\\t<ul class=\"num_info\">\\r\\n\\t\\t\\t\\t\\t\\t<li><span class=\"tit\">흥행지수</span><strong>75,003</strong></li>\\r\\n\\t\\t\\t\\t\\t\\t<!--\\r\\n\\t\\t\\t\\t\\t\\t<li><a href=\"#\" class=\"btn_graph\"><span class=\"ico\"></span><span>흥행성적<br />그래프로 보기</span></a></li>\\r\\n\\t\\t\\t\\t\\t\\t-->\\r\\n\\t\\t\\t\\t\\t</ul>\\r\\n\\t\\t\\t\\t\\t<!-- 영화포스터는 최대 5개까지만 -->\\r\\n\\t\\t\\t\\t\\t<ul class=\"mov_list\">\\r\\n\\t\\t\\t\\t\\t\\t\\r\\n\\t\\t\\t\\t\\t\\t\\t<li>\\r\\n\\t\\t\\t\\t\\t\\t\\t\\t<a href=\"/movie/info/?movie_id=57553\">\\r\\n\\t\\t\\t\\t\\t\\t\\t\\t\\t<img src=\"https://image.cine21.com/resize/cine21/poster/2022/0826/12_30_09__63083e410eb65[X85,120].jpg\" alt=\"\" class=\"thumb\"  target=\"_blank\" />\\r\\n\\t\\t\\t\\t\\t\\t\\t\\t\\t<span>공조2: 인터내셔날</span>\\r\\n\\t\\t\\t\\t\\t\\t\\t\\t</a>\\r\\n\\t\\t\\t\\t\\t\\t\\t</li>\\r\\n\\t\\t\\t\\t\\t\\t\\r\\n\\t\\t\\t\\t\\t\\t\\t<li>\\r\\n\\t\\t\\t\\t\\t\\t\\t\\t<a href=\"/movie/info/?movie_id=47462\">\\r\\n\\t\\t\\t\\t\\t\\t\\t\\t\\t<img src=\"https://image.cine21.com/resize/cine21/poster/2017/0118/10_40_01__587ec771f2e55[X85,120].jpg\" alt=\"\" class=\"thumb\"  target=\"_blank\" />\\r\\n\\t\\t\\t\\t\\t\\t\\t\\t\\t<span>공조</span>\\r\\n\\t\\t\\t\\t\\t\\t\\t\\t</a>\\r\\n\\t\\t\\t\\t\\t\\t\\t</li>\\r\\n\\t\\t\\t\\t\\t\\t\\t\\t\\t\\t\\t</ul>\\r\\n\\t\\t\\t\\t\\t<!-- 순위 --><span class=\"grade\">2</span>\\r\\n\\t\\t\\t\\t</li>\\r\\n\\t\\t\\t\\t<li class=\"people_li\">\\r\\n\\t\\t\\t\\t\\t<a href=\"/db/person/info/?person_id=66313\"><img src=\"https://image.cine21.com/resize/cine21/person/2021/0927/15_22_17__615163198ef1b[X145,145].jpg\" alt=\"\" class=\"people_thumb\" target=\"_blank\" /></a>\\r\\n\\t\\t\\t\\t\\t<div class=\"name\"><a href=\"/db/person/info/?person_id=66313\">임윤아(2편)</a></div>\\r\\n\\t\\t\\t\\t\\t<ul class=\"num_info\">\\r\\n\\t\\t\\t\\t\\t\\t<li><span class=\"tit\">흥행지수</span><strong>56,252</strong></li>\\r\\n\\t\\t\\t\\t\\t\\t<!--\\r\\n\\t\\t\\t\\t\\t\\t<li><a href=\"#\" class=\"btn_graph\"><span class=\"ico\"></span><span>흥행성적<br />그래프로 보기</span></a></li>\\r\\n\\t\\t\\t\\t\\t\\t-->\\r\\n\\t\\t\\t\\t\\t</ul>\\r\\n\\t\\t\\t\\t\\t<!-- 영화포스터는 최대 5개까지만 -->\\r\\n\\t\\t\\t\\t\\t<ul class=\"mov_list\">\\r\\n\\t\\t\\t\\t\\t\\t\\r\\n\\t\\t\\t\\t\\t\\t\\t<li>\\r\\n\\t\\t\\t\\t\\t\\t\\t\\t<a href=\"/movie/info/?movie_id=57553\">\\r\\n\\t\\t\\t\\t\\t\\t\\t\\t\\t<img src=\"https://image.cine21.com/resize/cine21/poster/2022/0826/12_30_09__63083e410eb65[X85,120].jpg\" alt=\"\" class=\"thumb\"  target=\"_blank\" />\\r\\n\\t\\t\\t\\t\\t\\t\\t\\t\\t<span>공조2: 인터내셔날</span>\\r\\n\\t\\t\\t\\t\\t\\t\\t\\t</a>\\r\\n\\t\\t\\t\\t\\t\\t\\t</li>\\r\\n\\t\\t\\t\\t\\t\\t\\r\\n\\t\\t\\t\\t\\t\\t\\t<li>\\r\\n\\t\\t\\t\\t\\t\\t\\t\\t<a href=\"/movie/info/?movie_id=47462\">\\r\\n\\t\\t\\t\\t\\t\\t\\t\\t\\t<img src=\"https://image.cine21.com/resize/cine21/poster/2017/0118/10_40_01__587ec771f2e55[X85,120].jpg\" alt=\"\" class=\"thumb\"  target=\"_blank\" />\\r\\n\\t\\t\\t\\t\\t\\t\\t\\t\\t<span>공조</span>\\r\\n\\t\\t\\t\\t\\t\\t\\t\\t</a>\\r\\n\\t\\t\\t\\t\\t\\t\\t</li>\\r\\n\\t\\t\\t\\t\\t\\t\\t\\t\\t\\t\\t</ul>\\r\\n\\t\\t\\t\\t\\t<!-- 순위 --><span class=\"grade\">3</span>\\r\\n\\t\\t\\t\\t</li>\\r\\n\\t\\t\\t\\t<li class=\"people_li\">\\r\\n\\t\\t\\t\\t\\t<a href=\"/db/person/info/?person_id=1533\"><img src=\"https://image.cine21.com/resize/cine21/person/2020/0618/15_12_14__5eeb05be48092[X145,145].jpg\" alt=\"\" class=\"people_thumb\" target=\"_blank\" /></a>\\r\\n\\t\\t\\t\\t\\t<div class=\"name\"><a href=\"/db/person/info/?person_id=1533\">정우성(2편)</a></div>\\r\\n\\t\\t\\t\\t\\t<ul class=\"num_info\">\\r\\n\\t\\t\\t\\t\\t\\t<li><span class=\"tit\">흥행지수</span><strong>52,601</strong></li>\\r\\n\\t\\t\\t\\t\\t\\t<!--\\r\\n\\t\\t\\t\\t\\t\\t<li><a href=\"#\" class=\"btn_graph\"><span class=\"ico\"></span><span>흥행성적<br />그래프로 보기</span></a></li>\\r\\n\\t\\t\\t\\t\\t\\t-->\\r\\n\\t\\t\\t\\t\\t</ul>\\r\\n\\t\\t\\t\\t\\t<!-- 영화포스터는 최대 5개까지만 -->\\r\\n\\t\\t\\t\\t\\t<ul class=\"mov_list\">\\r\\n\\t\\t\\t\\t\\t\\t\\r\\n\\t\\t\\t\\t\\t\\t\\t<li>\\r\\n\\t\\t\\t\\t\\t\\t\\t\\t<a href=\"/movie/info/?movie_id=57907\">\\r\\n\\t\\t\\t\\t\\t\\t\\t\\t\\t<img src=\"https://image.cine21.com/resize/cine21/poster/2022/0805/12_33_30__62ec8f8ad4a13[X85,120].jpg\" alt=\"\" class=\"thumb\"  target=\"_blank\" />\\r\\n\\t\\t\\t\\t\\t\\t\\t\\t\\t<span>헌트</span>\\r\\n\\t\\t\\t\\t\\t\\t\\t\\t</a>\\r\\n\\t\\t\\t\\t\\t\\t\\t</li>\\r\\n\\t\\t\\t\\t\\t\\t\\r\\n\\t\\t\\t\\t\\t\\t\\t<li>\\r\\n\\t\\t\\t\\t\\t\\t\\t\\t<a href=\"/movie/info/?movie_id=54144\">\\r\\n\\t\\t\\t\\t\\t\\t\\t\\t\\t<img src=\"https://image.cine21.com/resize/cine21/poster/2019/0226/10_54_37__5c749c5dc9e07[X85,120].jpg\" alt=\"\" class=\"thumb\"  target=\"_blank\" />\\r\\n\\t\\t\\t\\t\\t\\t\\t\\t\\t<span>증인</span>\\r\\n\\t\\t\\t\\t\\t\\t\\t\\t</a>\\r\\n\\t\\t\\t\\t\\t\\t\\t</li>\\r\\n\\t\\t\\t\\t\\t\\t\\t\\t\\t\\t\\t</ul>\\r\\n\\t\\t\\t\\t\\t<!-- 순위 --><span class=\"grade\">4</span>\\r\\n\\t\\t\\t\\t</li>\\r\\n\\t\\t\\t\\t<li class=\"people_li\">\\r\\n\\t\\t\\t\\t\\t<a href=\"/db/person/info/?person_id=1075\"><img src=\"https://image.cine21.com/resize/cine21/person/2020/0611/15_47_54__5ee1d39adf671[X145,145].jpg\" alt=\"\" class=\"people_thumb\" target=\"_blank\" /></a>\\r\\n\\t\\t\\t\\t\\t<div class=\"name\"><a href=\"/db/person/info/?person_id=1075\">이정재(2편)</a></div>\\r\\n\\t\\t\\t\\t\\t<ul class=\"num_info\">\\r\\n\\t\\t\\t\\t\\t\\t<li><span class=\"tit\">흥행지수</span><strong>45,090</strong></li>\\r\\n\\t\\t\\t\\t\\t\\t<!--\\r\\n\\t\\t\\t\\t\\t\\t<li><a href=\"#\" class=\"btn_graph\"><span class=\"ico\"></span><span>흥행성적<br />그래프로 보기</span></a></li>\\r\\n\\t\\t\\t\\t\\t\\t-->\\r\\n\\t\\t\\t\\t\\t</ul>\\r\\n\\t\\t\\t\\t\\t<!-- 영화포스터는 최대 5개까지만 -->\\r\\n\\t\\t\\t\\t\\t<ul class=\"mov_list\">\\r\\n\\t\\t\\t\\t\\t\\t\\r\\n\\t\\t\\t\\t\\t\\t\\t<li>\\r\\n\\t\\t\\t\\t\\t\\t\\t\\t<a href=\"/movie/info/?movie_id=57907\">\\r\\n\\t\\t\\t\\t\\t\\t\\t\\t\\t<img src=\"https://image.cine21.com/resize/cine21/poster/2022/0805/12_33_30__62ec8f8ad4a13[X85,120].jpg\" alt=\"\" class=\"thumb\"  target=\"_blank\" />\\r\\n\\t\\t\\t\\t\\t\\t\\t\\t\\t<span>헌트</span>\\r\\n\\t\\t\\t\\t\\t\\t\\t\\t</a>\\r\\n\\t\\t\\t\\t\\t\\t\\t</li>\\r\\n\\t\\t\\t\\t\\t\\t\\r\\n\\t\\t\\t\\t\\t\\t\\t<li>\\r\\n\\t\\t\\t\\t\\t\\t\\t\\t<a href=\"/movie/info/?movie_id=1135\">\\r\\n\\t\\t\\t\\t\\t\\t\\t\\t\\t<img src=\"https://image.cine21.com/resize/cine21/poster/2022/0926/18_09_52__63316c60f13ef[X85,120].jpg\" alt=\"\" class=\"thumb\"  target=\"_blank\" />\\r\\n\\t\\t\\t\\t\\t\\t\\t\\t\\t<span>젊은 남자</span>\\r\\n\\t\\t\\t\\t\\t\\t\\t\\t</a>\\r\\n\\t\\t\\t\\t\\t\\t\\t</li>\\r\\n\\t\\t\\t\\t\\t\\t\\t\\t\\t\\t\\t</ul>\\r\\n\\t\\t\\t\\t\\t<!-- 순위 --><span class=\"grade\">5</span>\\r\\n\\t\\t\\t\\t</li>\\r\\n\\t\\t\\t\\t<li class=\"people_li\">\\r\\n\\t\\t\\t\\t\\t<a href=\"/db/person/info/?person_id=15222\"><img src=\"https://image.cine21.com/resize/cine21/still/2017/1207/14_33_48__5a28d2bcb1647[X145,145].jpg\" alt=\"\" class=\"people_thumb\" target=\"_blank\" /></a>\\r\\n\\t\\t\\t\\t\\t<div class=\"name\"><a href=\"/db/person/info/?person_id=15222\">박해일(3편)</a></div>\\r\\n\\t\\t\\t\\t\\t<ul class=\"num_info\">\\r\\n\\t\\t\\t\\t\\t\\t<li><span class=\"tit\">흥행지수</span><strong>43,660</strong></li>\\r\\n\\t\\t\\t\\t\\t\\t<!--\\r\\n\\t\\t\\t\\t\\t\\t<li><a href=\"#\" class=\"btn_graph\"><span class=\"ico\"></span><span>흥행성적<br />그래프로 보기</span></a></li>\\r\\n\\t\\t\\t\\t\\t\\t-->\\r\\n\\t\\t\\t\\t\\t</ul>\\r\\n\\t\\t\\t\\t\\t<!-- 영화포스터는 최대 5개까지만 -->\\r\\n\\t\\t\\t\\t\\t<ul class=\"mov_list\">\\r\\n\\t\\t\\t\\t\\t\\t\\r\\n\\t\\t\\t\\t\\t\\t\\t<li>\\r\\n\\t\\t\\t\\t\\t\\t\\t\\t<a href=\"/movie/info/?movie_id=56294\">\\r\\n\\t\\t\\t\\t\\t\\t\\t\\t\\t<img src=\"https://image.cine21.com/resize/cine21/poster/2022/0727/16_21_10__62e0e76663483[X85,120].jpg\" alt=\"\" class=\"thumb\"  target=\"_blank\" />\\r\\n\\t\\t\\t\\t\\t\\t\\t\\t\\t<span>한산: 용의 출현</span>\\r\\n\\t\\t\\t\\t\\t\\t\\t\\t</a>\\r\\n\\t\\t\\t\\t\\t\\t\\t</li>\\r\\n\\t\\t\\t\\t\\t\\t\\r\\n\\t\\t\\t\\t\\t\\t\\t<li>\\r\\n\\t\\t\\t\\t\\t\\t\\t\\t<a href=\"/movie/info/?movie_id=56942\">\\r\\n\\t\\t\\t\\t\\t\\t\\t\\t\\t<img src=\"https://image.cine21.com/resize/cine21/poster/2022/0610/09_59_51__62a2978774d80[X85,120].jpg\" alt=\"\" class=\"thumb\"  target=\"_blank\" />\\r\\n\\t\\t\\t\\t\\t\\t\\t\\t\\t<span>헤어질 결심</span>\\r\\n\\t\\t\\t\\t\\t\\t\\t\\t</a>\\r\\n\\t\\t\\t\\t\\t\\t\\t</li>\\r\\n\\t\\t\\t\\t\\t\\t\\r\\n\\t\\t\\t\\t\\t\\t\\t<li>\\r\\n\\t\\t\\t\\t\\t\\t\\t\\t<a href=\"/movie/info/?movie_id=5563\">\\r\\n\\t\\t\\t\\t\\t\\t\\t\\t\\t<img src=\"https://image.cine21.com/resize/IMGDB/poster/2002/0423/large/171611_whoar[X85,120].JPG\" alt=\"\" class=\"thumb\"  target=\"_blank\" />\\r\\n\\t\\t\\t\\t\\t\\t\\t\\t\\t<span>후아유</span>\\r\\n\\t\\t\\t\\t\\t\\t\\t\\t</a>\\r\\n\\t\\t\\t\\t\\t\\t\\t</li>\\r\\n\\t\\t\\t\\t\\t\\t\\t\\t\\t\\t\\t</ul>\\r\\n\\t\\t\\t\\t\\t<!-- 순위 --><span class=\"grade\">6</span>\\r\\n\\t\\t\\t\\t</li>\\r\\n\\t\\t\\t\\t<li class=\"people_li\">\\r\\n\\t\\t\\t\\t\\t<a href=\"/db/person/info/?person_id=11198\"><img src=\"https://image.cine21.com/resize/cine21/still/2019/0320/10_45_23__5c919b33df50b[X145,145].jpg\" alt=\"\" class=\"people_thumb\" target=\"_blank\" /></a>\\r\\n\\t\\t\\t\\t\\t<div class=\"name\"><a href=\"/db/person/info/?person_id=11198\">전혜진(2편)</a></div>\\r\\n\\t\\t\\t\\t\\t<ul class=\"num_info\">\\r\\n\\t\\t\\t\\t\\t\\t<li><span class=\"tit\">흥행지수</span><strong>37,572</strong></li>\\r\\n\\t\\t\\t\\t\\t\\t<!--\\r\\n\\t\\t\\t\\t\\t\\t<li><a href=\"#\" class=\"btn_graph\"><span class=\"ico\"></span><span>흥행성적<br />그래프로 보기</span></a></li>\\r\\n\\t\\t\\t\\t\\t\\t-->\\r\\n\\t\\t\\t\\t\\t</ul>\\r\\n\\t\\t\\t\\t\\t<!-- 영화포스터는 최대 5개까지만 -->\\r\\n\\t\\t\\t\\t\\t<ul class=\"mov_list\">\\r\\n\\t\\t\\t\\t\\t\\t\\r\\n\\t\\t\\t\\t\\t\\t\\t<li>\\r\\n\\t\\t\\t\\t\\t\\t\\t\\t<a href=\"/movie/info/?movie_id=57907\">\\r\\n\\t\\t\\t\\t\\t\\t\\t\\t\\t<img src=\"https://image.cine21.com/resize/cine21/poster/2022/0805/12_33_30__62ec8f8ad4a13[X85,120].jpg\" alt=\"\" class=\"thumb\"  target=\"_blank\" />\\r\\n\\t\\t\\t\\t\\t\\t\\t\\t\\t<span>헌트</span>\\r\\n\\t\\t\\t\\t\\t\\t\\t\\t</a>\\r\\n\\t\\t\\t\\t\\t\\t\\t</li>\\r\\n\\t\\t\\t\\t\\t\\t\\r\\n\\t\\t\\t\\t\\t\\t\\t<li>\\r\\n\\t\\t\\t\\t\\t\\t\\t\\t<a href=\"/movie/info/?movie_id=49793\">\\r\\n\\t\\t\\t\\t\\t\\t\\t\\t\\t<img src=\"https://image.cine21.com/resize/cine21/poster/2017/0828/16_04_14__59a3c06e8e6f8[X85,120].jpg\" alt=\"\" class=\"thumb\"  target=\"_blank\" />\\r\\n\\t\\t\\t\\t\\t\\t\\t\\t\\t<span>시인의 사랑</span>\\r\\n\\t\\t\\t\\t\\t\\t\\t\\t</a>\\r\\n\\t\\t\\t\\t\\t\\t\\t</li>\\r\\n\\t\\t\\t\\t\\t\\t\\t\\t\\t\\t\\t</ul>\\r\\n\\t\\t\\t\\t\\t<!-- 순위 --><span class=\"grade\">7</span>\\r\\n\\t\\t\\t\\t</li>\\r\\n\\t\\t\\t</ul>\\r\\n\\r\\n\\r\\n\\t\\t\\t\\t<div class=\"pagination\"><a href=\"javascript:fetch_list(1)\" class=\"btn_first\"><span class=\"hidden\">처음으로</span><span class=\"ico\"></span></a><div class=\"page\"><a href=\"javascript:;\" class=\"on\">1</a><a href=\"javascript:fetch_list(2)\">2</a><a href=\"javascript:fetch_list(3)\">3</a><a href=\"javascript:fetch_list(4)\">4</a><a href=\"javascript:fetch_list(5)\">5</a><a href=\"javascript:fetch_list(6)\">6</a><a href=\"javascript:fetch_list(7)\">7</a><a href=\"javascript:fetch_list(8)\">8</a><a href=\"javascript:fetch_list(9)\">9</a><a href=\"javascript:fetch_list(10)\">10</a></div><a href=\"javascript:fetch_list(11)\" class=\"btn_next\"><span class=\"hidden\">다음</span><span class=\"ico\"></span></a><a href=\"javascript:fetch_list(108)\" class=\"btn_end\"><span class=\"hidden\">끝으로</span><span class=\"ico\"></span></a>\\t\\t\\t\\t</div>'"
      ]
     },
     "execution_count": 10,
     "metadata": {},
     "output_type": "execute_result"
    }
   ],
   "source": [
    "res = r.post(url, data=post_data) \n",
    "res.text"
   ]
  },
  {
   "cell_type": "code",
   "execution_count": 11,
   "id": "3f95a78a",
   "metadata": {},
   "outputs": [],
   "source": [
    "soup = bs(res.text, 'html.parser')"
   ]
  },
  {
   "cell_type": "code",
   "execution_count": 12,
   "id": "76a7a1db",
   "metadata": {
    "collapsed": true
   },
   "outputs": [
    {
     "data": {
      "text/plain": [
       "[<li class=\"people_li\">\n",
       " <a href=\"/db/person/info/?person_id=20745\"><img alt=\"\" class=\"people_thumb\" src=\"https://image.cine21.com/resize/cine21/still/2017/1212/10_50_28__5a2f35e412a6b[X145,145].jpg\" target=\"_blank\"/></a>\n",
       " <div class=\"name\"><a href=\"/db/person/info/?person_id=20745\">현빈(2편)</a></div>\n",
       " <ul class=\"num_info\">\n",
       " <li><span class=\"tit\">흥행지수</span><strong>93,754</strong></li>\n",
       " <!--\n",
       " \t\t\t\t\t\t<li><a href=\"#\" class=\"btn_graph\"><span class=\"ico\"></span><span>흥행성적<br />그래프로 보기</span></a></li>\n",
       " \t\t\t\t\t\t-->\n",
       " </ul>\n",
       " <!-- 영화포스터는 최대 5개까지만 -->\n",
       " <ul class=\"mov_list\">\n",
       " <li>\n",
       " <a href=\"/movie/info/?movie_id=57553\">\n",
       " <img alt=\"\" class=\"thumb\" src=\"https://image.cine21.com/resize/cine21/poster/2022/0826/12_30_09__63083e410eb65[X85,120].jpg\" target=\"_blank\"/>\n",
       " <span>공조2: 인터내셔날</span>\n",
       " </a>\n",
       " </li>\n",
       " <li>\n",
       " <a href=\"/movie/info/?movie_id=47462\">\n",
       " <img alt=\"\" class=\"thumb\" src=\"https://image.cine21.com/resize/cine21/poster/2017/0118/10_40_01__587ec771f2e55[X85,120].jpg\" target=\"_blank\"/>\n",
       " <span>공조</span>\n",
       " </a>\n",
       " </li>\n",
       " </ul>\n",
       " <!-- 순위 --><span class=\"grade\">1</span>\n",
       " </li>,\n",
       " <li class=\"people_li\">\n",
       " <a href=\"/db/person/info/?person_id=15757\"><img alt=\"\" class=\"people_thumb\" src=\"https://image.cine21.com/resize/cine21/still/2017/1207/13_58_12__5a28ca6489f5e[X145,145].jpg\" target=\"_blank\"/></a>\n",
       " <div class=\"name\"><a href=\"/db/person/info/?person_id=15757\">유해진(2편)</a></div>\n",
       " <ul class=\"num_info\">\n",
       " <li><span class=\"tit\">흥행지수</span><strong>75,003</strong></li>\n",
       " <!--\n",
       " \t\t\t\t\t\t<li><a href=\"#\" class=\"btn_graph\"><span class=\"ico\"></span><span>흥행성적<br />그래프로 보기</span></a></li>\n",
       " \t\t\t\t\t\t-->\n",
       " </ul>\n",
       " <!-- 영화포스터는 최대 5개까지만 -->\n",
       " <ul class=\"mov_list\">\n",
       " <li>\n",
       " <a href=\"/movie/info/?movie_id=57553\">\n",
       " <img alt=\"\" class=\"thumb\" src=\"https://image.cine21.com/resize/cine21/poster/2022/0826/12_30_09__63083e410eb65[X85,120].jpg\" target=\"_blank\"/>\n",
       " <span>공조2: 인터내셔날</span>\n",
       " </a>\n",
       " </li>\n",
       " <li>\n",
       " <a href=\"/movie/info/?movie_id=47462\">\n",
       " <img alt=\"\" class=\"thumb\" src=\"https://image.cine21.com/resize/cine21/poster/2017/0118/10_40_01__587ec771f2e55[X85,120].jpg\" target=\"_blank\"/>\n",
       " <span>공조</span>\n",
       " </a>\n",
       " </li>\n",
       " </ul>\n",
       " <!-- 순위 --><span class=\"grade\">2</span>\n",
       " </li>,\n",
       " <li class=\"people_li\">\n",
       " <a href=\"/db/person/info/?person_id=66313\"><img alt=\"\" class=\"people_thumb\" src=\"https://image.cine21.com/resize/cine21/person/2021/0927/15_22_17__615163198ef1b[X145,145].jpg\" target=\"_blank\"/></a>\n",
       " <div class=\"name\"><a href=\"/db/person/info/?person_id=66313\">임윤아(2편)</a></div>\n",
       " <ul class=\"num_info\">\n",
       " <li><span class=\"tit\">흥행지수</span><strong>56,252</strong></li>\n",
       " <!--\n",
       " \t\t\t\t\t\t<li><a href=\"#\" class=\"btn_graph\"><span class=\"ico\"></span><span>흥행성적<br />그래프로 보기</span></a></li>\n",
       " \t\t\t\t\t\t-->\n",
       " </ul>\n",
       " <!-- 영화포스터는 최대 5개까지만 -->\n",
       " <ul class=\"mov_list\">\n",
       " <li>\n",
       " <a href=\"/movie/info/?movie_id=57553\">\n",
       " <img alt=\"\" class=\"thumb\" src=\"https://image.cine21.com/resize/cine21/poster/2022/0826/12_30_09__63083e410eb65[X85,120].jpg\" target=\"_blank\"/>\n",
       " <span>공조2: 인터내셔날</span>\n",
       " </a>\n",
       " </li>\n",
       " <li>\n",
       " <a href=\"/movie/info/?movie_id=47462\">\n",
       " <img alt=\"\" class=\"thumb\" src=\"https://image.cine21.com/resize/cine21/poster/2017/0118/10_40_01__587ec771f2e55[X85,120].jpg\" target=\"_blank\"/>\n",
       " <span>공조</span>\n",
       " </a>\n",
       " </li>\n",
       " </ul>\n",
       " <!-- 순위 --><span class=\"grade\">3</span>\n",
       " </li>,\n",
       " <li class=\"people_li\">\n",
       " <a href=\"/db/person/info/?person_id=1533\"><img alt=\"\" class=\"people_thumb\" src=\"https://image.cine21.com/resize/cine21/person/2020/0618/15_12_14__5eeb05be48092[X145,145].jpg\" target=\"_blank\"/></a>\n",
       " <div class=\"name\"><a href=\"/db/person/info/?person_id=1533\">정우성(2편)</a></div>\n",
       " <ul class=\"num_info\">\n",
       " <li><span class=\"tit\">흥행지수</span><strong>52,601</strong></li>\n",
       " <!--\n",
       " \t\t\t\t\t\t<li><a href=\"#\" class=\"btn_graph\"><span class=\"ico\"></span><span>흥행성적<br />그래프로 보기</span></a></li>\n",
       " \t\t\t\t\t\t-->\n",
       " </ul>\n",
       " <!-- 영화포스터는 최대 5개까지만 -->\n",
       " <ul class=\"mov_list\">\n",
       " <li>\n",
       " <a href=\"/movie/info/?movie_id=57907\">\n",
       " <img alt=\"\" class=\"thumb\" src=\"https://image.cine21.com/resize/cine21/poster/2022/0805/12_33_30__62ec8f8ad4a13[X85,120].jpg\" target=\"_blank\"/>\n",
       " <span>헌트</span>\n",
       " </a>\n",
       " </li>\n",
       " <li>\n",
       " <a href=\"/movie/info/?movie_id=54144\">\n",
       " <img alt=\"\" class=\"thumb\" src=\"https://image.cine21.com/resize/cine21/poster/2019/0226/10_54_37__5c749c5dc9e07[X85,120].jpg\" target=\"_blank\"/>\n",
       " <span>증인</span>\n",
       " </a>\n",
       " </li>\n",
       " </ul>\n",
       " <!-- 순위 --><span class=\"grade\">4</span>\n",
       " </li>,\n",
       " <li class=\"people_li\">\n",
       " <a href=\"/db/person/info/?person_id=1075\"><img alt=\"\" class=\"people_thumb\" src=\"https://image.cine21.com/resize/cine21/person/2020/0611/15_47_54__5ee1d39adf671[X145,145].jpg\" target=\"_blank\"/></a>\n",
       " <div class=\"name\"><a href=\"/db/person/info/?person_id=1075\">이정재(2편)</a></div>\n",
       " <ul class=\"num_info\">\n",
       " <li><span class=\"tit\">흥행지수</span><strong>45,090</strong></li>\n",
       " <!--\n",
       " \t\t\t\t\t\t<li><a href=\"#\" class=\"btn_graph\"><span class=\"ico\"></span><span>흥행성적<br />그래프로 보기</span></a></li>\n",
       " \t\t\t\t\t\t-->\n",
       " </ul>\n",
       " <!-- 영화포스터는 최대 5개까지만 -->\n",
       " <ul class=\"mov_list\">\n",
       " <li>\n",
       " <a href=\"/movie/info/?movie_id=57907\">\n",
       " <img alt=\"\" class=\"thumb\" src=\"https://image.cine21.com/resize/cine21/poster/2022/0805/12_33_30__62ec8f8ad4a13[X85,120].jpg\" target=\"_blank\"/>\n",
       " <span>헌트</span>\n",
       " </a>\n",
       " </li>\n",
       " <li>\n",
       " <a href=\"/movie/info/?movie_id=1135\">\n",
       " <img alt=\"\" class=\"thumb\" src=\"https://image.cine21.com/resize/cine21/poster/2022/0926/18_09_52__63316c60f13ef[X85,120].jpg\" target=\"_blank\"/>\n",
       " <span>젊은 남자</span>\n",
       " </a>\n",
       " </li>\n",
       " </ul>\n",
       " <!-- 순위 --><span class=\"grade\">5</span>\n",
       " </li>,\n",
       " <li class=\"people_li\">\n",
       " <a href=\"/db/person/info/?person_id=15222\"><img alt=\"\" class=\"people_thumb\" src=\"https://image.cine21.com/resize/cine21/still/2017/1207/14_33_48__5a28d2bcb1647[X145,145].jpg\" target=\"_blank\"/></a>\n",
       " <div class=\"name\"><a href=\"/db/person/info/?person_id=15222\">박해일(3편)</a></div>\n",
       " <ul class=\"num_info\">\n",
       " <li><span class=\"tit\">흥행지수</span><strong>43,660</strong></li>\n",
       " <!--\n",
       " \t\t\t\t\t\t<li><a href=\"#\" class=\"btn_graph\"><span class=\"ico\"></span><span>흥행성적<br />그래프로 보기</span></a></li>\n",
       " \t\t\t\t\t\t-->\n",
       " </ul>\n",
       " <!-- 영화포스터는 최대 5개까지만 -->\n",
       " <ul class=\"mov_list\">\n",
       " <li>\n",
       " <a href=\"/movie/info/?movie_id=56294\">\n",
       " <img alt=\"\" class=\"thumb\" src=\"https://image.cine21.com/resize/cine21/poster/2022/0727/16_21_10__62e0e76663483[X85,120].jpg\" target=\"_blank\"/>\n",
       " <span>한산: 용의 출현</span>\n",
       " </a>\n",
       " </li>\n",
       " <li>\n",
       " <a href=\"/movie/info/?movie_id=56942\">\n",
       " <img alt=\"\" class=\"thumb\" src=\"https://image.cine21.com/resize/cine21/poster/2022/0610/09_59_51__62a2978774d80[X85,120].jpg\" target=\"_blank\"/>\n",
       " <span>헤어질 결심</span>\n",
       " </a>\n",
       " </li>\n",
       " <li>\n",
       " <a href=\"/movie/info/?movie_id=5563\">\n",
       " <img alt=\"\" class=\"thumb\" src=\"https://image.cine21.com/resize/IMGDB/poster/2002/0423/large/171611_whoar[X85,120].JPG\" target=\"_blank\"/>\n",
       " <span>후아유</span>\n",
       " </a>\n",
       " </li>\n",
       " </ul>\n",
       " <!-- 순위 --><span class=\"grade\">6</span>\n",
       " </li>,\n",
       " <li class=\"people_li\">\n",
       " <a href=\"/db/person/info/?person_id=11198\"><img alt=\"\" class=\"people_thumb\" src=\"https://image.cine21.com/resize/cine21/still/2019/0320/10_45_23__5c919b33df50b[X145,145].jpg\" target=\"_blank\"/></a>\n",
       " <div class=\"name\"><a href=\"/db/person/info/?person_id=11198\">전혜진(2편)</a></div>\n",
       " <ul class=\"num_info\">\n",
       " <li><span class=\"tit\">흥행지수</span><strong>37,572</strong></li>\n",
       " <!--\n",
       " \t\t\t\t\t\t<li><a href=\"#\" class=\"btn_graph\"><span class=\"ico\"></span><span>흥행성적<br />그래프로 보기</span></a></li>\n",
       " \t\t\t\t\t\t-->\n",
       " </ul>\n",
       " <!-- 영화포스터는 최대 5개까지만 -->\n",
       " <ul class=\"mov_list\">\n",
       " <li>\n",
       " <a href=\"/movie/info/?movie_id=57907\">\n",
       " <img alt=\"\" class=\"thumb\" src=\"https://image.cine21.com/resize/cine21/poster/2022/0805/12_33_30__62ec8f8ad4a13[X85,120].jpg\" target=\"_blank\"/>\n",
       " <span>헌트</span>\n",
       " </a>\n",
       " </li>\n",
       " <li>\n",
       " <a href=\"/movie/info/?movie_id=49793\">\n",
       " <img alt=\"\" class=\"thumb\" src=\"https://image.cine21.com/resize/cine21/poster/2017/0828/16_04_14__59a3c06e8e6f8[X85,120].jpg\" target=\"_blank\"/>\n",
       " <span>시인의 사랑</span>\n",
       " </a>\n",
       " </li>\n",
       " </ul>\n",
       " <!-- 순위 --><span class=\"grade\">7</span>\n",
       " </li>]"
      ]
     },
     "execution_count": 12,
     "metadata": {},
     "output_type": "execute_result"
    }
   ],
   "source": [
    "lis = soup.select('li.people_li')\n",
    "lis"
   ]
  },
  {
   "cell_type": "markdown",
   "id": "da778447",
   "metadata": {},
   "source": [
    "---\n",
    "## MONGODB\n",
    "\n",
    "1. MongoDB 는 그 정보를 JSON(JavaScript Object Notation) 형태로 표현하는 다큐먼트에 저장을 함\n",
    "\n",
    "\n",
    "2. 사용자(user) 정보와 주문(order) 정보 와 같이 다른 유형의 도큐먼트들을 별도의 공간에 저장하고자 할 수 있다\n",
    "\n",
    "\n",
    "3. 이는 MonogDB가 RDBMS의 테이블과 같이 다큐먼트들을 그루핑(Grouping) 할 수 있는 방법이 필요함을 뜻하며, 이를 컬렉션(collection) 부른다\n",
    "\n",
    "---"
   ]
  },
  {
   "cell_type": "markdown",
   "id": "b8c5e0b0",
   "metadata": {},
   "source": [
    "## 관계형 데이터베이스와 MONGODB  명령어 비교\n",
    "\n",
    "* RDBMS      -     MongoDB\n",
    "* database   -     database\n",
    "* table      -     collection\n",
    "* index      -     index\n",
    "* row        -     BSON document\n",
    "* column     -     BSON field\n",
    "* join       -     embedding 또는 linking\n",
    "---"
   ]
  },
  {
   "cell_type": "markdown",
   "id": "2326747e",
   "metadata": {},
   "source": [
    "### Namespace(네임스페이스)\n",
    "\n",
    "1. MongoDB 의 컬렉션 또는 인덱스에 대한 정식 이름입니다. 네임스페이스는 다음과 같이 데이터베이스 이름과 컬렉션 또는 인덱스 이름의 조합입니다\n",
    "   [database-name].[collection-or-index-name].\n",
    "   그리고 모든 도큐먼트 네임스페이스에 속하게 됩니다.\n",
    "\n",
    "2. MongoDB는 컬렉션들을 별개의 데이터베이스(database)에 분리 합니다.\n",
    "   다른 SQL제품에서의 데이터베이스들과 다르게, MongoDB에 있는 데이터베이스들은 단지 컬렉션들을 구분하는 네임스페이스 일뿐 이다.\n",
    "\n",
    "3. MongoDB 에 질의하기 위해서 질의를 하기를 원하는 대상 도큐먼트가 존재하는 데이터베이스(또는 네임스페이스)와 컬렉션을 알아야 한다\n",
    "\n",
    "   쉘을 시작할 때 데이터베이스를 지정하지 않으면 test 라는 이름의 기본 설정 데이터베이스에 연결 된다.\n",
    "\n",
    "   다른 네임스페이스에 연결하기 위한 예시 아래와 같이 데이터베이스를 변경 해볼수 있다.\n",
    "   \n",
    "   > use test\n",
    "   switched to db test\n",
    "   \n",
    "4. 접속한 MongoDB 에 존재하는 데이터베이스에 대한 정보는 아래와 같이 조회를 해볼 수 있다\n",
    "  \n",
    "   예시:\n",
    "   > show dbs\n",
    "   admin   0.000GB\n",
    "   config  0.000GB\n",
    "   local   0.000GB\n",
    "  \n",
    "   !명령어 라인에서 \">\" 는 명령어라인의 프롬프트로 명령어와 수행 결과의 차이를 구분 하게 됨.\n",
    "   \n",
    "5. 왜 MongoDB는 데이터베이스와 컬렉션 모두를 다 가지고 있을까요?\n",
    "\n",
    "   이에 대한 대답은 어떻게 MongoDB가 데이터를 디스크에 쓰는지에 달려 있다.\n",
    "   데이터베이스의 모든 컬렉션들이 같은 파일에 그루핑되는데, 이는 같은 데이터베이스내 관련된 컬렉션들을 보관하기 위함이며, \n",
    "   이는 메모리 관점에서 이치에 맞는 것이라고 볼 수 있다.\n",
    "---"
   ]
  },
  {
   "cell_type": "markdown",
   "id": "db80c829",
   "metadata": {},
   "source": [
    "### 데이터베이스와 컬렉션의 생성\n",
    "\n",
    "* 위 예제에서 데이터베이스를 생성하지 않았는데도 어쩧게 그 데이터베이스로 변경할 수 있는지 의아했을수도 있지만,\n",
    "\n",
    "* 사실 MongoDB 에서는 데이터베이스를 만드는 것이 필요 없기도 하다\n",
    "* 데이터베이스와 컬렉션은 다큐먼트가 처음 입력될 때 생성 됨\n",
    "\n",
    "* 이것은 데이터에 대한 MongoDB의 동적 접근 방식과 동일하다.\n",
    "\n",
    "* 다큐먼트의 구조가 미리 정의될 필요가 없듯이 개별 컬렉션과 데이터베이스도 런타임시 생성 되게 됨.\n",
    "* 이렇게 함으로써 개발 과정이 단순해지고 빨라지며, 본질적으로 동적 네임스페이스 할당을 충분히 활용하게 되는 장점.\n",
    "\n",
    "* 데이터베이스나 컬렉션이 우연히 생성될지가 우려된다면 드라이버에서 지원되는 strict 모드를 통해 그러한 실수를 미연에 발지 할 수 있다.\n",
    "\n",
    "* 다큐먼트는 JSON 형태로 표현 됨.\n",
    "\n",
    "* > use test\n",
    "  switched to db test # 테스트 데이터베이스를 미리 생성\n",
    "---  "
   ]
  },
  {
   "cell_type": "markdown",
   "id": "d90324a8",
   "metadata": {},
   "source": [
    "### 데이터 조회, 입력, 변경, 삭제\n",
    "\n",
    "1. 데이터의 입력은 insertOne(또는 insertMany) 를 사용하면 되며, // one = 하나의 값 many = 다수의 값\n",
    "   insertOne 명령어를 통해 아래와 같이 users 컬렉션 으로 저장\n",
    "\n",
    "- 예시\n",
    "  커맨드 : db.users.insertOne({username:\"smith\"})\n",
    "  > db.users.insertOne({username:\"smith\"})\n",
    "  {\n",
    "        \"acknowledged\" : true,  #  위에서 실행한 insertOne 결과 내용\n",
    "        \"insertedId\" : ObjectId(\"61ae69a5986719224adc57d0\")\n",
    "  }\n",
    "\n",
    "2. 위의 코드를 입력하고 실행하고 나면 약간 지연되는 느낌이 있을수있으나,\n",
    "\n",
    "   이 코드를 실행하는데 까지는 test 데이터베이스와 users 컬렉션이 하드디스크에 아직 \n",
    "   생성되지 않은 상태임으로 초기 데이터파일을 할당 하느라 약간의 지연을 느낄수도 있음.\n",
    "\n",
    "   위의 삽입문이 성공적으로 수행되면 첫 번재 다큐먼트가 저장된 것.\n",
    "\n",
    "   MongoDB 기본 설정에서 이제 데이터는 쉘이 중단하거나 갑자기 수행 중인 작업머신을 재기동 하더라도 삽입이 보장된다는 뜻 \n",
    "   \n",
    "   새로 삽입된 다큐먼트를 확인하기 위해서는 다음과 같은 간단한 쿼리를 실행할 수 있음\n",
    "   \n",
    "   예시\n",
    "   > db.users.find() # 워크벤치와 틀리게 대소문자 구분\n",
    "   { \"_id\" : ObjectId(\"61ae69a5986719224adc57d0\"), \"username\" : \"smith\" }\n",
    "   \n",
    "   다큐먼트 필드에 _id라는 필드가 추가된 것을 먼저 확인가능\n",
    "\n",
    "   _id 는 다큐먼트의 SQL = 프라이머리 키 \n",
    "   모든 MongoDB는 도큐먼트의 _id 필트가 필요하며, 다큐먼트가 생성될 때 이 필드가 없으면 MongoDB 객체 ID(Object ID) 라는 특별    한 값을 생성해서 도큐먼트에 자동으로 추가.\n",
    "\n",
    "   컬렉션 내에서 객체 ID 는 고유한 값을 가져야만 하며, 이 필드에 대해서 유일하게 요구 되는 사항.\n",
    "   \n",
    "3. 삽입을 통해서 직접 _id 값을 넣을 수 있으며 객체 ID는 MongoDB 의 기본 설정\n",
    "   \n",
    "   두번째 사용자를 추가 예시\n",
    "     > db.users.insertOne({username:\"jone\"})\n",
    "   {\n",
    "        \"acknowledged\" : true,\n",
    "        \"insertedId\" : ObjectId(\"61ae6a78986719224adc57d1\")\n",
    "   }\n",
    "   \n",
    "   이제 컬렉션(테이블)에 두개의 다큐먼트(로우)가 존재\n",
    "   count 명령어로 확인  가능 예시\n",
    "   > db.users.count()\n",
    "   2\n",
    "---   "
   ]
  },
  {
   "cell_type": "markdown",
   "id": "50c6d9f8",
   "metadata": {},
   "source": [
    "### 데이터 조회\n",
    "\n",
    "1. 컬렉션에 하나 이상의 다큐먼트가 있으므로 약간 더 정고한 쿼리를 실행해 볼 수 있습니다.\n",
    "\n",
    "   컬렉션에 있는 다큐먼트를 모두 보기 위해서는 find() 쿼리를 사용 //  아래 예시\n",
    "   \n",
    "   > db.users.find()\n",
    "   { \"_id\" : ObjectId(\"61ae69a5986719224adc57d0\"), \"username\" : \"smith\" }\n",
    "   { \"_id\" : ObjectId(\"61ae6a78986719224adc57d1\"), \"username\" : \"jone\" }\n",
    "   \n",
    "2. 위의 find 메서드에 간단한 쿼리 셀렉터(query selector) 를 넘겨줄 수 있음다.\n",
    "\n",
    "   쿼리 셀렉터는 컬렉션에 있는 모든 다큐먼트에 대해 일치 여부를 검사하기 위한 조건으로 사용되는 다큐먼트\n",
    "   사용자 이름 jone 인 모든 다큐먼트에 대해서 질의 하기 위해서는 다음과 같이 간단한 다큐먼트를 쿼리 셀렉터로 넘겨줌.\n",
    "   \n",
    "   예시/\n",
    "   > db.users.find({username: \"jone\"})\n",
    "   { \"_id\" : ObjectId(\"61ae6a78986719224adc57d1\"), \"username\" : \"jone\" }\n",
    "   \n",
    "   {username: \"jone\"} 는 사용자 이름(username)이  jone 인 모든 다큐먼트를 반환해 주며, 존재하는 모든 다큐먼트에 대해서          username 키의 값이 문자적으로 일치하는지 여부를 검사해줌.\n",
    "\n",
    "   어떤 매개변수 없이 find 메서드를 호출하는 것은 비어 있는 조회 명령어를 넘겨주는 것과 동일\n",
    "   이말은 db.users.find() 는 db.users.find({}) 와 동일 함을 뜻 한다.\n",
    "---"
   ]
  },
  {
   "cell_type": "markdown",
   "id": "40940a56",
   "metadata": {},
   "source": [
    "###  AND 와 OR 연산\n",
    "\n",
    "1. 필드(다큐먼트) 사이에 명시적으로 AND 를 만들어 내기 위해서는 쿼리 조회 조건에 여러개의 필드를 명시 할 수 있다.\n",
    "   예시:  > db.users.find({\n",
    "    _id:ObjectId(\"61ae69a5986719224adc57d0\"),\n",
    "    username:\"smith\"\n",
    "    })\n",
    "    { \"_id\" : ObjectId(\"61ae69a5986719224adc57d0\"), \"username\" : \"smith\" }\n",
    "    \n",
    "    위 예시 는 필드들은 AND 연산을 수행함으로 이 질의는 _id 와 username 필드를 모두 일치하는 다큐먼트를 찾는 것,\n",
    "    \n",
    "\n",
    "2.   또한 명시적으로 $and 연산자를 사용할 수 있음. \n",
    "     > db.users.find({ $and: [\n",
    "    { _id: ObjectId(\"61ae69a5986719224adc57d0\")},\n",
    "    { username: \"smith\"}\n",
    "    ]})\n",
    "    { \"_id\" : ObjectId(\"61ae69a5986719224adc57d0\"), \"username\" : \"smith\" }\n",
    "    \n",
    "    OR 연산자를 이용해서 다큐먼트를 선택하는 것도 비슷 합니다 그저 $or 연산자만 사용\n",
    "    \n",
    "    > db.users.find({ $or:[\n",
    "    { username: \"smith\"},\n",
    "    { username: \"jone\"}\n",
    "    ]})\n",
    "    { \"_id\" : ObjectId(\"61ae69a5986719224adc57d0\"), \"username\" : \"smith\" }\n",
    "    { \"_id\" : ObjectId(\"61ae6a78986719224adc57d1\"), \"username\" : \"jone\" }\n",
    "    \n",
    "    \n",
    "    조회 결과로 smith 와 jone 의 다큐먼트가 반환하였데, 조회 그 자체가 하나의 다큐먼트,\n",
    "\n",
    "    다큐먼트로 명령어를 표현하는 발상은 MongoDB를 사용할 때 종종 사용되는 방식이지만 관계형 데이터베이스에 익숙해져\n",
    "    사용자에겐 어려울수 있지만\n",
    "    이러한 방식은 조회가 SQL 문자열이 아닌 다큐먼트이므로 애플리케이션에서 조회를 프로그래밍하기 더 쉽다는 장점 있음\n",
    "---    "
   ]
  },
  {
   "cell_type": "code",
   "execution_count": null,
   "id": "37bced8f",
   "metadata": {},
   "outputs": [],
   "source": [
    "$AND $OR 보충 설명\n",
    "\n",
    "$AND : $and는 여러 개의 조건을 모두 만족하는 다큐먼트를 찾습니다. 조건이 간단하면 \n",
    "       그냥 { 필드: 값, 필드: 값 } 이렇게 $and가 없어도 되지만, 다음과 같은 예시 처럼 조건이 여러가지 경우 때문에 $and가 필요\n",
    "      \n",
    "        { $and: [\n",
    "        { $or: [{ 조건1 }, { 조건2 }] },\n",
    "        { $or: [{ 조건3 }, { 조건4 }] }\n",
    "        ] }\n",
    "    \n",
    "$or : $or은 $or은 여러 개의 조건 중에 적어도 하나를 만족하는 다큐먼트를 찾을때 사용\n",
    "      \n",
    "       { $or: [{ 조건1 }, { 조건2 }, ...] } 예시처럼 여러조건에서 하나의 조건을 만족하는 다큐먼트를 찾을때 사용함."
   ]
  },
  {
   "cell_type": "markdown",
   "id": "f1e0d183",
   "metadata": {},
   "source": [
    "---\n",
    "### 업데이트 연산자\n",
    "\n",
    "1. MongoDB에서는 update() 메소드를 통하여 데이터를 수정 할 수 있습니다.\n",
    "   \n",
    "   예시:\n",
    "   > db.users.find()\n",
    "   { \"_id\" : ObjectId(\"61ae69a5986719224adc57d0\"), \"username\" : \"smith\" }\n",
    "   { \"_id\" : ObjectId(\"61ae6a78986719224adc57d1\"), \"username\" : \"jone\" }\n",
    "   jone 라는 사람에게 국가 정보를 추가한다고 가정해보면 아래와 같이 updateone 이나 updatemany 문에 $set 절을 사용하여 추가\n",
    "   \n",
    "   !update $set => 특정 field의 값을 수정할 땐 $set 연산자를 사용합니다. 이 연산자를 사용해서 똑같은 방법을 새로운 field를      추가 할 수도 있습니다.\n",
    "   field = 다큐먼트\n",
    "   \n",
    "*  예시 2\n",
    " \n",
    "   방법1:\n",
    "  > db.users.updateOne({ username:\"jone\"}, {$set: {country: \"USA\"}})\n",
    "  { \"acknowledged\" : true, \"matchedCount\" : 1, \"modifiedCount\" : 1 }\n",
    "  \n",
    "  방법2:\n",
    "  > db.users.updateMany({ username:\"smith\"}, {$set: {country: \"USA\"}})\n",
    "  \n",
    "  결과물:\n",
    "  \n",
    "  > db.users.find()\n",
    "  { \"_id\" : ObjectId(\"61ae69a5986719224adc57d0\"), \"username\" : \"jone\", \"country\" : \"USA\" }\n",
    "  { \"_id\" : ObjectId(\"61ae6a78986719224adc57d1\"), \"username\" : \"smith\" }  "
   ]
  },
  {
   "cell_type": "markdown",
   "id": "b2095344",
   "metadata": {},
   "source": [
    "####  업데이트 연산사 2\n",
    "\n",
    "1. delete 명령어를 사용하였을 경우 도큐먼트의 필드값을 추가(설정) 하는 것이 아니라 도큐먼트 값을 다른 것으로 변경 \n",
    "   추가가 아니라 변경을 하는이유 이전의 update 명령어에서 $set 연산자 를 사용하는 업데이트를 의도 했을때 발생하는\n",
    "   실수(오류) 방지.\n",
    "\n",
    "   예시\n",
    "   > db.users.update ({username:\"smith\"}, {country:\"KOREA\"})\n",
    "   > db.users.find()\n",
    "   { \"_id\" : ObjectId(\"61ae69a5986719224adc57d0\"), \"username\" : \"jone\", \"country\" : \"USA\" }\n",
    "   { \"_id\" : ObjectId(\"61ae6a78986719224adc57d1\"), \"country\" : \"KOREA\" }\n",
    "   \n",
    "    결과 : 위의 결과와 같이 {username:\"smith\"} 의 값이 {country:\"KOREA\"} 으로 업데이트\n",
    "   \n",
    "   위의 update 명령어는 deprecated 되었고, 대체 명령어로는 replaceone 명령어 대체 사용가능\n",
    "   > db.users.replaceone({username:\"jone\"}, {country:\"USA \"})\n",
    "   \n",
    "   테스트2  이번에는 username: jone 를 추가 예시\n",
    "   \n",
    "   > db.users.updateOne({country: \"Netherlands\"}, {$set: {username: \"jone\"}})\n",
    "   또는\n",
    "   > db.users.updateOne({country: \"Netherlands\"}, {$set: {username: \"jone\"}})\n",
    "   // 다시 조회 //\n",
    "   > db.users.find()\n",
    "   { \"_id\" : ObjectId(\"61ae69a5986719224adc57d0\"), \"username\" : \"smith\", \"country\" : \"Canada\" }\n",
    "   { \"_id\" : ObjectId(\"61ae6a78986719224adc57d1\"), \"country\" : \"Netherlands\", \"username\" : \"jone\" }\n",
    "   \n",
    "   다시 updateOne(또는 updateMany) 명령어를 사용하여 업데이트를 진행\n",
    "   \n",
    "   > db.users.updateOne({ username:\"smith\"}, {$set: {country: \"France\"}})\n",
    "   { \"acknowledged\" : true, \"matchedCount\" : 1, \"modifiedCount\" : 1 }\n",
    "   \n",
    "    \\\\다시 조회//\n",
    "    \n",
    "    > db.users.find()\n",
    "    { \"_id\" : ObjectId(\"61ae69a5986719224adc57d0\"), \"username\" : \"smith\", \"country\" : \"France\" }\n",
    "    { \"_id\" : ObjectId(\"61ae6a78986719224adc57d1\"), \"country\" : \"Netherlands\", \"username\" : \"jone\" }\n",
    "    \n",
    "    위와 같이 보통의 SQL 에서 사용하는 것처럼 업데이트가 수행됨\n",
    "    \n",
    "    ! 추가예시 ex : city\n",
    "    \n",
    "    추가 업데이트를 업데이트할 키는 city\n",
    "    > db.users.updateOne({ username:\"smith\"}, {$set: {city: \"Paris\"}})\n",
    "    { \"acknowledged\" : true, \"matchedCount\" : 1, \"modifiedCount\" : 1 }\n",
    "    // 조회 //\n",
    "    > db.users.find()\n",
    "    { \"_id\" : ObjectId(\"61ae69a5986719224adc57d0\"), \"username\" : \"smith\", \"country\" : \"France\", \"city\" : \"Paris\"  }\n",
    "    { \"_id\" : ObjectId(\"61ae6a78986719224adc57d1\"), \"country\" : \"Netherlands\", \"username\" : \"jone\" }\n",
    "    \n",
    "     키가 존재한다면 키를 새로운 내용으로 업데이트를 하고, 없다면 RDB에서의 컬럼 추가 형태로\n",
    "     이전의 update 명령어로는 아래와 같이 되며 동일한 결과 출력\n",
    "     > db.users.update({ username:\"smith\"}, {$set: {city: \"Paris\"}})\n",
    "     \n",
    "     방금 추가한 city 키가 더이상 필요 없다면 $unset 연산자로 삭제 가능\n",
    "     \n",
    "     > db.users.updateMany({username: \"smith\"}, {$unset: {city:1}})\n",
    "     { \"acknowledged\" : true, \"matchedCount\" : 1, \"modifiedCount\" : 1 }\n",
    "     // 다시 조회 //\n",
    "     > db.users.find()\n",
    "     { \"_id\" : ObjectId(\"61ae69a5986719224adc57d0\"), \"username\" : \"smith\", \"country\" : \"France\" }\n",
    "     { \"_id\" : ObjectId(\"61ae6a78986719224adc57d1\"), \"country\" : \"Netherlands\", \"username\" : \"jone\" }"
   ]
  },
  {
   "cell_type": "markdown",
   "id": "1d287346",
   "metadata": {},
   "source": [
    "### 복잡한 데이터 업데이트\n",
    "\n",
    "1. 자신이 좋아하는 것의 목록을 추가로 저장하려고 한다면 어떻게 해야할까용?\n",
    "\n",
    "    username : \"smith\"\n",
    "    favorites : {\n",
    "    cities: [\"Chicago\",\"Cheyenne\"],\n",
    "    movies: [\"Casablanca\",\"For a Few Dollars More\",\"The Sting\"]\n",
    "    }\n",
    "   }\n",
    "   \n",
    "   favorites 키의 값은 또 다른 객체이며, 이 객체에는 좋아 하는 도시 와 좋아하는 영화 에 대한 리스트가 있지용\n",
    "   \n",
    "   아래와 같이 업데이트를 수행 할 수 있슴 예시\n",
    "   \n",
    "   > db.users.updateMany( {username: \"smith\"},\n",
    "      {\n",
    "          $set: {\n",
    "              favorites: {\n",
    "                  cities: [\"Chicago\",\"Cheyenne\"],\n",
    "                  movies: [\"Casablanca\",\"For a Few Dollars More\",\"The Sting\"]\n",
    "            }\n",
    "        }\n",
    "     }\n",
    "  )\n",
    "  { \"acknowledged\" : true, \"matchedCount\" : 1, \"modifiedCount\" : 1 }\n",
    "  \n",
    "  들여쓰기는 필수사항은 아니지만 이런 도큐먼트 형식에서 가독성을 높여 주기 때문에 가급적 사용하는 편을 권장!\n",
    "  \n",
    "  이번에는 jone 에게도 좋아하는 영화 내용을 추가 \n",
    "  \n",
    "    > db.users.updateMany({username: \"jones\"},\n",
    "  {\n",
    "      $set: {\n",
    "          favorites: {\n",
    "             movies: [\"Titanic\",\"Rocky\"]\n",
    "          }\n",
    "      }\n",
    "  }\n",
    "  )\n",
    "   { \"acknowledged\" : true, \"matchedCount\" : 1, \"modifiedCount\" : 1 }\n",
    "   \n",
    "   업데이트가 되었기 때문에 조회, 이번에는 pretty 연산자를 사용 (심화)\n",
    "   \n",
    "   > db.users.find().pretty()\n",
    "{\n",
    "        \"_id\" : ObjectId(\"61ae69a5986719224adc57d0\"),\n",
    "        \"username\" : \"smith\",\n",
    "        \"country\" : \"France\",        \n",
    "        \"favorites\" : {\n",
    "                \"cities\" : [\n",
    "                        \"Chicago\",\n",
    "                        \"Cheyenne\"\n",
    "                ],\n",
    "                \"movies\" : [\n",
    "                        \"Casablanca\",\n",
    "                        \"For a Few Dollars More\",\n",
    "                        \"The Sting\"\n",
    "                ]\n",
    "        }\n",
    "}\n",
    "{\n",
    "        \"_id\" : ObjectId(\"61ae6a78986719224adc57d1\"),\n",
    "        \"country\" : \"Netherlands\",\n",
    "        \"username\" : \"jones\",\n",
    "        \"favorites\" : {\n",
    "                \"movies\" : [\n",
    "                        \"Titanic\",\n",
    "                        \"Rocky\"\n",
    "                ]\n",
    "        } \n",
    "} \n",
    "   pretty 연산자를 사용하면 서버로 부터 반환된 결과를 잘 정돈된 형태로 반환해주게 됨\n",
    "\n",
    "  엄밀히 말해서 pretty() 는 실제로는 cursor.pretty() 이며, 이는 조회 결과를 가독성 있게 잘 정돈된 형태로 보여주기 위해서 커서를 설정하는 방법.\n",
    "  \n",
    "  영화 어벤져스(The Avengers) 를 좋아하는 모든 사용자를 검색하기 위해서는 아래 예시\n",
    "   \n",
    "   > db.users.find({\"favorites.movies\": \"The Avengers\"}).pretty()\n",
    "{\n",
    "        \"_id\" : ObjectId(\"61ae69a5986719224adc57d0\"),\n",
    "        \"username\" : \"smith\",\n",
    "        \"country\" : \"France\",        \n",
    "        \"favorites\" : {\n",
    "                \"cities\" : [\n",
    "                        \"Chicago\",\n",
    "                        \"Cheyenne\"\n",
    "                ],\n",
    "                \"movies\" : [\n",
    "                        \"The Avengers\",\n",
    "                        \"For a Few Dollars More\",\n",
    "                        \"The Sting\"\n",
    "                ]\n",
    "        }\n",
    "}\n",
    "\n",
    "2. 더 발전된 업데이트 (심화)\n",
    "\n",
    "영화 어벤져스를 좋아하는 사용자가 라이언 일병 구하기(Saving Private Ryan) 도 좋아한다고 할때 이 정보를 업데이트를 하기 위해서는 어떻게 해야할까용?\n",
    "\n",
    "$set 연산자를 사용할 수도 있겠지만 이것은 movies 배열 전체에 대해서 다시 쓰기를 해야 한다는 단점,\n",
    "\n",
    "movies 리스트에 하나의 값만 추가 하려고 하는 것임으로 이때는 $push 나 $addToSet 을 사용하는것이 좋음\n",
    "\n",
    "$push 나 $addToSet 두가지 연산자 모두 배열에 새로운 아이템을 추가하는 것이며, $addToSet 은 값을 추가 할 때 중복 되지 않도록 확인하게 해준다.\n",
    "\n",
    "예시!\n",
    "\n",
    "db.users.updateMany ({\"favorites.movies\":\"The Avengers\"},\n",
    "{\n",
    "    $addToSet: {\"favorites.movies\": \"Saving Private Ryan\"}\n",
    "    },\n",
    "    false,\n",
    "    true\n",
    ")\n",
    "{ \"acknowledged\" : true, \"matchedCount\" : 1, \"modifiedCount\" : 1 }\n",
    "\n",
    "@첫번째 인자는 쿼리 셀렉터로 조회 조건이며, 두번째는 $addToSet 연산자를 이용하여 \"Saving Private Ryan\" 를 리스트에 추가 하는 것 ,\n",
    "\n",
    "세번째는 false 인데 upsert(update & insert) 가 허용되는지 아닌지를 설정하는 항목으로 해당 하는 도큐먼트가 존재 하지 않을때 입력(insert)를 해야 하는지를 결정하는 내용,\n",
    "\n",
    "네번째 true 는 이 업데이트가 다중 업데이트 일 경우 하나 이상의 도큐먼트에 대해서도 업데이트가 이루어 져야 함을 의미,\n",
    "\n",
    "MongoDB 에서는 쿼리 셀렉터의 조건에 맞는 첫번째 도큐먼트 대해서만 업데이트를 하는 것이 기본설정으로 되어 있습니다.\n",
    "조건에 일치하는 모든 도큐먼트에 대해서 업데이트 연산을 하려면 네번째 인자를 반드시 명시적으로 지정해야 합니다.\n",
    "\n",
    "다시 조회 결과 출력\n",
    "\n",
    "> db.users.find({\"favorites.movies\": \"Saving Private Ryan\"}).pretty()\n",
    "{\n",
    "        \"_id\" : ObjectId(\"61ae69a5986719224adc57d0\"),\n",
    "        \"username\" : \"smith\",\n",
    "        \"country\" : \"France\",\n",
    "        \"favorites\" : {\n",
    "                \"cities\" : [\n",
    "                        \"Chicago\",\n",
    "                        \"Cheyenne\"\n",
    "                ],\n",
    "                \"movies\" : [\n",
    "                        \"The Avengers\",\n",
    "                        \"For a Few Dollars More\",\n",
    "                        \"The Sting\",\n",
    "                        \"Saving Private Ryan\"\n",
    "                ]\n",
    "        }\n",
    "}> db.users.find({\"favorites.movies\": \"Saving Private Ryan\"}).pretty()\n",
    "{\n",
    "        \"_id\" : ObjectId(\"61ae69a5986719224adc57d0\"),\n",
    "        \"username\" : \"smith\",\n",
    "        \"country\" : \"France\",\n",
    "        \"favorites\" : {\n",
    "                \"cities\" : [\n",
    "                        \"Chicago\",\n",
    "                        \"Cheyenne\"\n",
    "                ],\n",
    "                \"movies\" : [\n",
    "                        \"The Avengers\",\n",
    "                        \"For a Few Dollars More\",\n",
    "                        \"The Sting\",\n",
    "                        \"Saving Private Ryan\"\n",
    "                ]\n",
    "        }\n",
    "}"
   ]
  },
  {
   "cell_type": "markdown",
   "id": "fe493d64",
   "metadata": {},
   "source": [
    "### 데이터 삭제"
   ]
  },
  {
   "cell_type": "code",
   "execution_count": 58,
   "id": "493c8133",
   "metadata": {
    "collapsed": true
   },
   "outputs": [
    {
     "name": "stderr",
     "output_type": "stream",
     "text": [
      "ERROR: Invalid requirement: '#'\n"
     ]
    }
   ],
   "source": [
    "# !pip install pymongo # mongodb 모듈 설치"
   ]
  },
  {
   "cell_type": "code",
   "execution_count": 25,
   "id": "c33b273a",
   "metadata": {},
   "outputs": [],
   "source": [
    "import pymongo"
   ]
  },
  {
   "cell_type": "code",
   "execution_count": 26,
   "id": "d4ccbbb7",
   "metadata": {},
   "outputs": [],
   "source": [
    "conn = pymongo.MongoClient()"
   ]
  },
  {
   "cell_type": "code",
   "execution_count": 59,
   "id": "86504edb",
   "metadata": {},
   "outputs": [],
   "source": [
    "mydb = conn['testdb'] # 'testdb'가 없으면 새로운 database가 생성이 된다"
   ]
  },
  {
   "cell_type": "code",
   "execution_count": 60,
   "id": "63168162",
   "metadata": {},
   "outputs": [
    {
     "data": {
      "text/plain": [
       "'testdb'"
      ]
     },
     "execution_count": 60,
     "metadata": {},
     "output_type": "execute_result"
    }
   ],
   "source": [
    "mydb.name"
   ]
  },
  {
   "cell_type": "code",
   "execution_count": 64,
   "id": "f36ae153",
   "metadata": {},
   "outputs": [],
   "source": [
    "knowlege_db = conn['knowlege']"
   ]
  },
  {
   "cell_type": "code",
   "execution_count": 65,
   "id": "a15c6142",
   "metadata": {},
   "outputs": [],
   "source": [
    "know_col = knowlege_db['knowlege_coll'] # 'knowlege_coll'이 없으면 생성"
   ]
  },
  {
   "cell_type": "code",
   "execution_count": 66,
   "id": "3da535f8",
   "metadata": {},
   "outputs": [
    {
     "data": {
      "text/plain": [
       "<pymongo.results.InsertOneResult at 0x1d33242dca0>"
      ]
     },
     "execution_count": 66,
     "metadata": {},
     "output_type": "execute_result"
    }
   ],
   "source": [
    "post = {'author':'mike', 'text':'blog post', 'tags':['mongodb', 'python']}\n",
    "know_col.insert_one(post)"
   ]
  },
  {
   "cell_type": "code",
   "execution_count": 67,
   "id": "0d14584d",
   "metadata": {},
   "outputs": [
    {
     "data": {
      "text/plain": [
       "<pymongo.results.InsertOneResult at 0x1d3313e44c0>"
      ]
     },
     "execution_count": 67,
     "metadata": {},
     "output_type": "execute_result"
    }
   ],
   "source": [
    "know_col.insert_one({'author':'kin', 'age':15}) # 하나의 값 입출력"
   ]
  },
  {
   "cell_type": "code",
   "execution_count": 68,
   "id": "60e1fab2",
   "metadata": {
    "collapsed": true
   },
   "outputs": [
    {
     "name": "stdout",
     "output_type": "stream",
     "text": [
      "{'_id': ObjectId('6333d2d1831ec95275745f6b'), 'author': 'mike', 'text': 'blog post', 'tags': ['mongodb', 'python']}\n",
      "{'_id': ObjectId('6333d2d2831ec95275745f6c'), 'author': 'kin', 'age': 15}\n",
      "{'_id': ObjectId('6333d2d3831ec95275745f6d'), 'author': 'dave_ahn', 'age': 25}\n",
      "{'_id': ObjectId('6333d2d3831ec95275745f6e'), 'author': 'dave', 'age': 35}\n",
      "{'_id': ObjectId('6333d2d4831ec95275745f6f'), 'title': '암살', 'castings': ['이정재', '전지현', '하정우']}\n",
      "{'_id': ObjectId('6333d2d5831ec95275745f70'), 'title': '실미도', 'castings': ['설경구', '안성기'], 'datetime': {'year': '2003', 'month': 3, 'val': {'a': {'b': 1}}}}\n",
      "{'_id': ObjectId('6333d37a831ec95275745f71'), 'name': 'aaron', 'age': 20}\n",
      "{'_id': ObjectId('6333d37a831ec95275745f72'), 'name': 'bob', 'age': 22}\n",
      "{'_id': ObjectId('6333d37a831ec95275745f73'), 'name': 'cathy', 'age': 25}\n",
      "{'_id': ObjectId('6333d37a831ec95275745f74'), 'name': 'david', 'age': 27}\n",
      "{'_id': ObjectId('6333d37a831ec95275745f75'), 'name': 'eric', 'age': 28}\n",
      "{'_id': ObjectId('6333d37a831ec95275745f76'), 'name': 'fox', 'age': 25}\n",
      "{'_id': ObjectId('6333d37a831ec95275745f77'), 'name': 'hue', 'age': 50}\n",
      "{'_id': ObjectId('6333d71b831ec95275745f78'), 'author': 'mike'}\n",
      "{'_id': ObjectId('6333e0eb831ec95275745f79'), 'author': 'mike', 'text': 'blog post', 'tags': ['mongodb', 'python']}\n",
      "{'_id': ObjectId('6333e0f2831ec95275745f7a'), 'author': 'mike', 'text': 'blog post', 'tags': ['mongodb', 'python']}\n",
      "{'_id': ObjectId('6333e0f3831ec95275745f7b'), 'author': 'kin', 'age': 15}\n"
     ]
    }
   ],
   "source": [
    "results = know_col.find()\n",
    "for r in results:\n",
    "    print(r)"
   ]
  },
  {
   "cell_type": "code",
   "execution_count": 69,
   "id": "f1acbcb8",
   "metadata": {},
   "outputs": [
    {
     "data": {
      "text/plain": [
       "<pymongo.results.InsertManyResult at 0x1d33246e3a0>"
      ]
     },
     "execution_count": 69,
     "metadata": {},
     "output_type": "execute_result"
    }
   ],
   "source": [
    "# 여러값 입출력\n",
    "\n",
    "know_col.insert_many(\n",
    "    [\n",
    "        {'author': 'dave_ahn', 'age' :25},\n",
    "        {'author': 'dave', 'age' :30}\n",
    "    ]\n",
    ")"
   ]
  },
  {
   "cell_type": "code",
   "execution_count": 70,
   "id": "644d844c",
   "metadata": {
    "collapsed": true
   },
   "outputs": [
    {
     "name": "stdout",
     "output_type": "stream",
     "text": [
      "{'_id': ObjectId('6333d2d1831ec95275745f6b'), 'author': 'mike', 'text': 'blog post', 'tags': ['mongodb', 'python']}\n",
      "{'_id': ObjectId('6333d2d2831ec95275745f6c'), 'author': 'kin', 'age': 15}\n",
      "{'_id': ObjectId('6333d2d3831ec95275745f6d'), 'author': 'dave_ahn', 'age': 25}\n",
      "{'_id': ObjectId('6333d2d3831ec95275745f6e'), 'author': 'dave', 'age': 35}\n",
      "{'_id': ObjectId('6333d2d4831ec95275745f6f'), 'title': '암살', 'castings': ['이정재', '전지현', '하정우']}\n",
      "{'_id': ObjectId('6333d2d5831ec95275745f70'), 'title': '실미도', 'castings': ['설경구', '안성기'], 'datetime': {'year': '2003', 'month': 3, 'val': {'a': {'b': 1}}}}\n",
      "{'_id': ObjectId('6333d37a831ec95275745f71'), 'name': 'aaron', 'age': 20}\n",
      "{'_id': ObjectId('6333d37a831ec95275745f72'), 'name': 'bob', 'age': 22}\n",
      "{'_id': ObjectId('6333d37a831ec95275745f73'), 'name': 'cathy', 'age': 25}\n",
      "{'_id': ObjectId('6333d37a831ec95275745f74'), 'name': 'david', 'age': 27}\n",
      "{'_id': ObjectId('6333d37a831ec95275745f75'), 'name': 'eric', 'age': 28}\n",
      "{'_id': ObjectId('6333d37a831ec95275745f76'), 'name': 'fox', 'age': 25}\n",
      "{'_id': ObjectId('6333d37a831ec95275745f77'), 'name': 'hue', 'age': 50}\n",
      "{'_id': ObjectId('6333d71b831ec95275745f78'), 'author': 'mike'}\n",
      "{'_id': ObjectId('6333e0eb831ec95275745f79'), 'author': 'mike', 'text': 'blog post', 'tags': ['mongodb', 'python']}\n",
      "{'_id': ObjectId('6333e0f2831ec95275745f7a'), 'author': 'mike', 'text': 'blog post', 'tags': ['mongodb', 'python']}\n",
      "{'_id': ObjectId('6333e0f3831ec95275745f7b'), 'author': 'kin', 'age': 15}\n",
      "{'_id': ObjectId('6333e0f4831ec95275745f7c'), 'author': 'dave_ahn', 'age': 25}\n",
      "{'_id': ObjectId('6333e0f4831ec95275745f7d'), 'author': 'dave', 'age': 30}\n"
     ]
    }
   ],
   "source": [
    "results = know_col.find()\n",
    "\n",
    "for r in results:\n",
    "    print(r)"
   ]
  },
  {
   "cell_type": "code",
   "execution_count": 71,
   "id": "9171ab64",
   "metadata": {},
   "outputs": [
    {
     "data": {
      "text/plain": [
       "19"
      ]
     },
     "execution_count": 71,
     "metadata": {},
     "output_type": "execute_result"
    }
   ],
   "source": [
    "know_col.count_documents({})"
   ]
  },
  {
   "cell_type": "code",
   "execution_count": 72,
   "id": "68329483",
   "metadata": {},
   "outputs": [
    {
     "data": {
      "text/plain": [
       "<pymongo.results.InsertOneResult at 0x1d332570970>"
      ]
     },
     "execution_count": 72,
     "metadata": {},
     "output_type": "execute_result"
    }
   ],
   "source": [
    "know_col.insert_one({'title' : '암살', 'castings': ['이정재', '전지현', '하정우']})"
   ]
  },
  {
   "cell_type": "code",
   "execution_count": 73,
   "id": "96634e35",
   "metadata": {},
   "outputs": [
    {
     "data": {
      "text/plain": [
       "<pymongo.results.InsertOneResult at 0x1d332570a90>"
      ]
     },
     "execution_count": 73,
     "metadata": {},
     "output_type": "execute_result"
    }
   ],
   "source": [
    "know_col.insert_one(\n",
    "{\n",
    "    'title':'실미도',\n",
    "    'castings' : ['설경구', '안성기'],\n",
    "    'datetime' :\n",
    "    {\n",
    "        'year':'2003',\n",
    "        'month':3,\n",
    "        'val':\n",
    "        {\n",
    "            'a':\n",
    "            {\n",
    "                'b':1\n",
    "            }\n",
    "        }\n",
    "    }\n",
    "}\n",
    ")"
   ]
  },
  {
   "cell_type": "code",
   "execution_count": 74,
   "id": "be608a2f",
   "metadata": {
    "collapsed": true
   },
   "outputs": [
    {
     "name": "stdout",
     "output_type": "stream",
     "text": [
      "{'_id': ObjectId('6333d2d1831ec95275745f6b'), 'author': 'mike', 'text': 'blog post', 'tags': ['mongodb', 'python']}\n",
      "{'_id': ObjectId('6333d2d2831ec95275745f6c'), 'author': 'kin', 'age': 15}\n",
      "{'_id': ObjectId('6333d2d3831ec95275745f6d'), 'author': 'dave_ahn', 'age': 25}\n",
      "{'_id': ObjectId('6333d2d3831ec95275745f6e'), 'author': 'dave', 'age': 35}\n",
      "{'_id': ObjectId('6333d2d4831ec95275745f6f'), 'title': '암살', 'castings': ['이정재', '전지현', '하정우']}\n",
      "{'_id': ObjectId('6333d2d5831ec95275745f70'), 'title': '실미도', 'castings': ['설경구', '안성기'], 'datetime': {'year': '2003', 'month': 3, 'val': {'a': {'b': 1}}}}\n",
      "{'_id': ObjectId('6333d37a831ec95275745f71'), 'name': 'aaron', 'age': 20}\n",
      "{'_id': ObjectId('6333d37a831ec95275745f72'), 'name': 'bob', 'age': 22}\n",
      "{'_id': ObjectId('6333d37a831ec95275745f73'), 'name': 'cathy', 'age': 25}\n",
      "{'_id': ObjectId('6333d37a831ec95275745f74'), 'name': 'david', 'age': 27}\n",
      "{'_id': ObjectId('6333d37a831ec95275745f75'), 'name': 'eric', 'age': 28}\n",
      "{'_id': ObjectId('6333d37a831ec95275745f76'), 'name': 'fox', 'age': 25}\n",
      "{'_id': ObjectId('6333d37a831ec95275745f77'), 'name': 'hue', 'age': 50}\n",
      "{'_id': ObjectId('6333d71b831ec95275745f78'), 'author': 'mike'}\n",
      "{'_id': ObjectId('6333e0eb831ec95275745f79'), 'author': 'mike', 'text': 'blog post', 'tags': ['mongodb', 'python']}\n",
      "{'_id': ObjectId('6333e0f2831ec95275745f7a'), 'author': 'mike', 'text': 'blog post', 'tags': ['mongodb', 'python']}\n",
      "{'_id': ObjectId('6333e0f3831ec95275745f7b'), 'author': 'kin', 'age': 15}\n",
      "{'_id': ObjectId('6333e0f4831ec95275745f7c'), 'author': 'dave_ahn', 'age': 25}\n",
      "{'_id': ObjectId('6333e0f4831ec95275745f7d'), 'author': 'dave', 'age': 30}\n",
      "{'_id': ObjectId('6333e0f8831ec95275745f7e'), 'title': '암살', 'castings': ['이정재', '전지현', '하정우']}\n",
      "{'_id': ObjectId('6333e0f9831ec95275745f7f'), 'title': '실미도', 'castings': ['설경구', '안성기'], 'datetime': {'year': '2003', 'month': 3, 'val': {'a': {'b': 1}}}}\n"
     ]
    }
   ],
   "source": [
    "results = know_col.find()\n",
    "for r in results:\n",
    "    print(r)"
   ]
  },
  {
   "cell_type": "code",
   "execution_count": 75,
   "id": "468353a8",
   "metadata": {},
   "outputs": [
    {
     "data": {
      "text/plain": [
       "[{'name': 'aaron', 'age': 20},\n",
       " {'name': 'bob', 'age': 22},\n",
       " {'name': 'cathy', 'age': 25},\n",
       " {'name': 'david', 'age': 27},\n",
       " {'name': 'eric', 'age': 28},\n",
       " {'name': 'fox', 'age': 25},\n",
       " {'name': 'hue', 'age': 50}]"
      ]
     },
     "execution_count": 75,
     "metadata": {},
     "output_type": "execute_result"
    }
   ],
   "source": [
    "data = []\n",
    "\n",
    "data.append({'name':'aaron', 'age':20})\n",
    "data.append({'name':'bob', 'age':22})\n",
    "data.append({'name':'cathy', 'age':25})\n",
    "data.append({'name':'david', 'age':27})\n",
    "data.append({'name':'eric', 'age':28})\n",
    "data.append({'name':'fox', 'age':25})\n",
    "data.append({'name':'hue', 'age':50})\n",
    "\n",
    "data"
   ]
  },
  {
   "cell_type": "code",
   "execution_count": 76,
   "id": "b4976437",
   "metadata": {},
   "outputs": [
    {
     "data": {
      "text/plain": [
       "<pymongo.results.InsertManyResult at 0x1d3325cd700>"
      ]
     },
     "execution_count": 76,
     "metadata": {},
     "output_type": "execute_result"
    }
   ],
   "source": [
    "know_col.insert_many(data)"
   ]
  },
  {
   "cell_type": "code",
   "execution_count": 77,
   "id": "4cbefec8",
   "metadata": {
    "collapsed": true
   },
   "outputs": [
    {
     "name": "stdout",
     "output_type": "stream",
     "text": [
      "{'_id': ObjectId('6333d2d1831ec95275745f6b'), 'author': 'mike', 'text': 'blog post', 'tags': ['mongodb', 'python']}\n",
      "{'_id': ObjectId('6333d2d2831ec95275745f6c'), 'author': 'kin', 'age': 15}\n",
      "{'_id': ObjectId('6333d2d3831ec95275745f6d'), 'author': 'dave_ahn', 'age': 25}\n",
      "{'_id': ObjectId('6333d2d3831ec95275745f6e'), 'author': 'dave', 'age': 35}\n",
      "{'_id': ObjectId('6333d2d4831ec95275745f6f'), 'title': '암살', 'castings': ['이정재', '전지현', '하정우']}\n",
      "{'_id': ObjectId('6333d2d5831ec95275745f70'), 'title': '실미도', 'castings': ['설경구', '안성기'], 'datetime': {'year': '2003', 'month': 3, 'val': {'a': {'b': 1}}}}\n",
      "{'_id': ObjectId('6333d37a831ec95275745f71'), 'name': 'aaron', 'age': 20}\n",
      "{'_id': ObjectId('6333d37a831ec95275745f72'), 'name': 'bob', 'age': 22}\n",
      "{'_id': ObjectId('6333d37a831ec95275745f73'), 'name': 'cathy', 'age': 25}\n",
      "{'_id': ObjectId('6333d37a831ec95275745f74'), 'name': 'david', 'age': 27}\n",
      "{'_id': ObjectId('6333d37a831ec95275745f75'), 'name': 'eric', 'age': 28}\n",
      "{'_id': ObjectId('6333d37a831ec95275745f76'), 'name': 'fox', 'age': 25}\n",
      "{'_id': ObjectId('6333d37a831ec95275745f77'), 'name': 'hue', 'age': 50}\n",
      "{'_id': ObjectId('6333d71b831ec95275745f78'), 'author': 'mike'}\n",
      "{'_id': ObjectId('6333e0eb831ec95275745f79'), 'author': 'mike', 'text': 'blog post', 'tags': ['mongodb', 'python']}\n",
      "{'_id': ObjectId('6333e0f2831ec95275745f7a'), 'author': 'mike', 'text': 'blog post', 'tags': ['mongodb', 'python']}\n",
      "{'_id': ObjectId('6333e0f3831ec95275745f7b'), 'author': 'kin', 'age': 15}\n",
      "{'_id': ObjectId('6333e0f4831ec95275745f7c'), 'author': 'dave_ahn', 'age': 25}\n",
      "{'_id': ObjectId('6333e0f4831ec95275745f7d'), 'author': 'dave', 'age': 30}\n",
      "{'_id': ObjectId('6333e0f8831ec95275745f7e'), 'title': '암살', 'castings': ['이정재', '전지현', '하정우']}\n",
      "{'_id': ObjectId('6333e0f9831ec95275745f7f'), 'title': '실미도', 'castings': ['설경구', '안성기'], 'datetime': {'year': '2003', 'month': 3, 'val': {'a': {'b': 1}}}}\n",
      "{'_id': ObjectId('6333e0fb831ec95275745f80'), 'name': 'aaron', 'age': 20}\n",
      "{'_id': ObjectId('6333e0fb831ec95275745f81'), 'name': 'bob', 'age': 22}\n",
      "{'_id': ObjectId('6333e0fb831ec95275745f82'), 'name': 'cathy', 'age': 25}\n",
      "{'_id': ObjectId('6333e0fb831ec95275745f83'), 'name': 'david', 'age': 27}\n",
      "{'_id': ObjectId('6333e0fb831ec95275745f84'), 'name': 'eric', 'age': 28}\n",
      "{'_id': ObjectId('6333e0fb831ec95275745f85'), 'name': 'fox', 'age': 25}\n",
      "{'_id': ObjectId('6333e0fb831ec95275745f86'), 'name': 'hue', 'age': 50}\n"
     ]
    }
   ],
   "source": [
    "results = know_col.find()  # find() : 리스트(list)에 담아서 출력\n",
    "for r in results:\n",
    "    print(r)"
   ]
  },
  {
   "cell_type": "code",
   "execution_count": 78,
   "id": "a1588218",
   "metadata": {},
   "outputs": [
    {
     "data": {
      "text/plain": [
       "28"
      ]
     },
     "execution_count": 78,
     "metadata": {},
     "output_type": "execute_result"
    }
   ],
   "source": [
    "know_col.estimated_document_count() # 위 아래 같은 확인방법"
   ]
  },
  {
   "cell_type": "code",
   "execution_count": 79,
   "id": "a924c984",
   "metadata": {},
   "outputs": [
    {
     "data": {
      "text/plain": [
       "28"
      ]
     },
     "execution_count": 79,
     "metadata": {},
     "output_type": "execute_result"
    }
   ],
   "source": [
    "know_col.count_documents({}) # 위 아래 같은 / 갯수 값 확인 방법"
   ]
  },
  {
   "cell_type": "code",
   "execution_count": 80,
   "id": "b4c9cd5d",
   "metadata": {},
   "outputs": [
    {
     "name": "stdout",
     "output_type": "stream",
     "text": [
      "{'_id': ObjectId('6333d2d2831ec95275745f6c'), 'author': 'kin', 'age': 15}\n",
      "{'_id': ObjectId('6333e0f3831ec95275745f7b'), 'author': 'kin', 'age': 15}\n"
     ]
    }
   ],
   "source": [
    "results = know_col.find({'author':'kin'}) # 원하는 데이터 갯수정해서 가져오는법 //ex: fine_one..two three..등등\n",
    "for r in results:\n",
    "    print(r)                                    # find() : 리스트(list)에 담아서 출력"
   ]
  },
  {
   "cell_type": "code",
   "execution_count": 81,
   "id": "2e099d55",
   "metadata": {
    "collapsed": true
   },
   "outputs": [
    {
     "name": "stdout",
     "output_type": "stream",
     "text": [
      "{'_id': ObjectId('6333d2d1831ec95275745f6b'), 'author': 'mike', 'text': 'blog post', 'tags': ['mongodb', 'python']}\n",
      "{'_id': ObjectId('6333d2d4831ec95275745f6f'), 'title': '암살', 'castings': ['이정재', '전지현', '하정우']}\n",
      "{'_id': ObjectId('6333d2d5831ec95275745f70'), 'title': '실미도', 'castings': ['설경구', '안성기'], 'datetime': {'year': '2003', 'month': 3, 'val': {'a': {'b': 1}}}}\n",
      "{'_id': ObjectId('6333d71b831ec95275745f78'), 'author': 'mike'}\n",
      "{'_id': ObjectId('6333e0eb831ec95275745f79'), 'author': 'mike', 'text': 'blog post', 'tags': ['mongodb', 'python']}\n",
      "{'_id': ObjectId('6333e0f2831ec95275745f7a'), 'author': 'mike', 'text': 'blog post', 'tags': ['mongodb', 'python']}\n",
      "{'_id': ObjectId('6333e0f8831ec95275745f7e'), 'title': '암살', 'castings': ['이정재', '전지현', '하정우']}\n",
      "{'_id': ObjectId('6333e0f9831ec95275745f7f'), 'title': '실미도', 'castings': ['설경구', '안성기'], 'datetime': {'year': '2003', 'month': 3, 'val': {'a': {'b': 1}}}}\n",
      "{'_id': ObjectId('6333d2d2831ec95275745f6c'), 'author': 'kin', 'age': 15}\n",
      "{'_id': ObjectId('6333e0f3831ec95275745f7b'), 'author': 'kin', 'age': 15}\n",
      "{'_id': ObjectId('6333d37a831ec95275745f71'), 'name': 'aaron', 'age': 20}\n",
      "{'_id': ObjectId('6333e0fb831ec95275745f80'), 'name': 'aaron', 'age': 20}\n",
      "{'_id': ObjectId('6333d37a831ec95275745f72'), 'name': 'bob', 'age': 22}\n",
      "{'_id': ObjectId('6333e0fb831ec95275745f81'), 'name': 'bob', 'age': 22}\n",
      "{'_id': ObjectId('6333d2d3831ec95275745f6d'), 'author': 'dave_ahn', 'age': 25}\n",
      "{'_id': ObjectId('6333d37a831ec95275745f73'), 'name': 'cathy', 'age': 25}\n",
      "{'_id': ObjectId('6333d37a831ec95275745f76'), 'name': 'fox', 'age': 25}\n",
      "{'_id': ObjectId('6333e0f4831ec95275745f7c'), 'author': 'dave_ahn', 'age': 25}\n",
      "{'_id': ObjectId('6333e0fb831ec95275745f82'), 'name': 'cathy', 'age': 25}\n",
      "{'_id': ObjectId('6333e0fb831ec95275745f85'), 'name': 'fox', 'age': 25}\n",
      "{'_id': ObjectId('6333d37a831ec95275745f74'), 'name': 'david', 'age': 27}\n",
      "{'_id': ObjectId('6333e0fb831ec95275745f83'), 'name': 'david', 'age': 27}\n",
      "{'_id': ObjectId('6333d37a831ec95275745f75'), 'name': 'eric', 'age': 28}\n",
      "{'_id': ObjectId('6333e0fb831ec95275745f84'), 'name': 'eric', 'age': 28}\n",
      "{'_id': ObjectId('6333e0f4831ec95275745f7d'), 'author': 'dave', 'age': 30}\n",
      "{'_id': ObjectId('6333d2d3831ec95275745f6e'), 'author': 'dave', 'age': 35}\n",
      "{'_id': ObjectId('6333d37a831ec95275745f77'), 'name': 'hue', 'age': 50}\n",
      "{'_id': ObjectId('6333e0fb831ec95275745f86'), 'name': 'hue', 'age': 50}\n"
     ]
    }
   ],
   "source": [
    "results = know_col.find().sort('age')\n",
    "for r in results:\n",
    "    print(r)"
   ]
  },
  {
   "cell_type": "code",
   "execution_count": 82,
   "id": "a3eeea42",
   "metadata": {},
   "outputs": [],
   "source": [
    "# update_one() : 하나의 (document )다큐먼트 값 수정\n",
    "# update_many() : 여러개의 다큐먼트 값 수정"
   ]
  },
  {
   "cell_type": "code",
   "execution_count": 83,
   "id": "7f912d9f",
   "metadata": {},
   "outputs": [
    {
     "data": {
      "text/plain": [
       "{'_id': ObjectId('6333d2d3831ec95275745f6e'), 'author': 'dave', 'age': 35}"
      ]
     },
     "execution_count": 83,
     "metadata": {},
     "output_type": "execute_result"
    }
   ],
   "source": [
    "know_col.find_one({'author':'dave'}) # 하나의 다큐먼트"
   ]
  },
  {
   "cell_type": "code",
   "execution_count": 50,
   "id": "ed022ddd",
   "metadata": {},
   "outputs": [
    {
     "data": {
      "text/plain": [
       "<pymongo.results.InsertOneResult at 0x1d32fd95c10>"
      ]
     },
     "execution_count": 50,
     "metadata": {},
     "output_type": "execute_result"
    }
   ],
   "source": [
    "know_col.insert_one({'author':'mike',}, {'$set': {'text' : 'hi dave'}})"
   ]
  },
  {
   "cell_type": "code",
   "execution_count": 85,
   "id": "9afc6301",
   "metadata": {},
   "outputs": [
    {
     "data": {
      "text/plain": [
       "{'_id': ObjectId('6333d2d3831ec95275745f6e'), 'author': 'dave', 'age': 35}"
      ]
     },
     "execution_count": 85,
     "metadata": {},
     "output_type": "execute_result"
    }
   ],
   "source": [
    "know_col.find_one({'author':'dave'})"
   ]
  },
  {
   "cell_type": "code",
   "execution_count": 86,
   "id": "94a45b22",
   "metadata": {
    "collapsed": true
   },
   "outputs": [
    {
     "name": "stdout",
     "output_type": "stream",
     "text": [
      "{'_id': ObjectId('6333d2d1831ec95275745f6b'), 'author': 'mike', 'text': 'blog post', 'tags': ['mongodb', 'python']}\n",
      "{'_id': ObjectId('6333d2d2831ec95275745f6c'), 'author': 'kin', 'age': 15}\n",
      "{'_id': ObjectId('6333d2d3831ec95275745f6d'), 'author': 'dave_ahn', 'age': 25}\n",
      "{'_id': ObjectId('6333d2d3831ec95275745f6e'), 'author': 'dave', 'age': 35}\n",
      "{'_id': ObjectId('6333d2d4831ec95275745f6f'), 'title': '암살', 'castings': ['이정재', '전지현', '하정우']}\n",
      "{'_id': ObjectId('6333d2d5831ec95275745f70'), 'title': '실미도', 'castings': ['설경구', '안성기'], 'datetime': {'year': '2003', 'month': 3, 'val': {'a': {'b': 1}}}}\n",
      "{'_id': ObjectId('6333d37a831ec95275745f71'), 'name': 'aaron', 'age': 20}\n",
      "{'_id': ObjectId('6333d37a831ec95275745f72'), 'name': 'bob', 'age': 22}\n",
      "{'_id': ObjectId('6333d37a831ec95275745f73'), 'name': 'cathy', 'age': 25}\n",
      "{'_id': ObjectId('6333d37a831ec95275745f74'), 'name': 'david', 'age': 27}\n",
      "{'_id': ObjectId('6333d37a831ec95275745f75'), 'name': 'eric', 'age': 28}\n",
      "{'_id': ObjectId('6333d37a831ec95275745f76'), 'name': 'fox', 'age': 25}\n",
      "{'_id': ObjectId('6333d37a831ec95275745f77'), 'name': 'hue', 'age': 50}\n",
      "{'_id': ObjectId('6333d71b831ec95275745f78'), 'author': 'mike'}\n",
      "{'_id': ObjectId('6333e0eb831ec95275745f79'), 'author': 'mike', 'text': 'blog post', 'tags': ['mongodb', 'python']}\n",
      "{'_id': ObjectId('6333e0f2831ec95275745f7a'), 'author': 'mike', 'text': 'blog post', 'tags': ['mongodb', 'python']}\n",
      "{'_id': ObjectId('6333e0f3831ec95275745f7b'), 'author': 'kin', 'age': 15}\n",
      "{'_id': ObjectId('6333e0f4831ec95275745f7c'), 'author': 'dave_ahn', 'age': 25}\n",
      "{'_id': ObjectId('6333e0f4831ec95275745f7d'), 'author': 'dave', 'age': 30}\n",
      "{'_id': ObjectId('6333e0f8831ec95275745f7e'), 'title': '암살', 'castings': ['이정재', '전지현', '하정우']}\n",
      "{'_id': ObjectId('6333e0f9831ec95275745f7f'), 'title': '실미도', 'castings': ['설경구', '안성기'], 'datetime': {'year': '2003', 'month': 3, 'val': {'a': {'b': 1}}}}\n",
      "{'_id': ObjectId('6333e0fb831ec95275745f80'), 'name': 'aaron', 'age': 20}\n",
      "{'_id': ObjectId('6333e0fb831ec95275745f81'), 'name': 'bob', 'age': 22}\n",
      "{'_id': ObjectId('6333e0fb831ec95275745f82'), 'name': 'cathy', 'age': 25}\n",
      "{'_id': ObjectId('6333e0fb831ec95275745f83'), 'name': 'david', 'age': 27}\n",
      "{'_id': ObjectId('6333e0fb831ec95275745f84'), 'name': 'eric', 'age': 28}\n",
      "{'_id': ObjectId('6333e0fb831ec95275745f85'), 'name': 'fox', 'age': 25}\n",
      "{'_id': ObjectId('6333e0fb831ec95275745f86'), 'name': 'hue', 'age': 50}\n"
     ]
    }
   ],
   "source": [
    "results = know_col.find()\n",
    "for i in results:\n",
    "    print(i)"
   ]
  },
  {
   "cell_type": "code",
   "execution_count": 87,
   "id": "72bbf518",
   "metadata": {},
   "outputs": [
    {
     "data": {
      "text/plain": [
       "{'_id': ObjectId('6333d2d3831ec95275745f6e'), 'author': 'dave', 'age': 35}"
      ]
     },
     "execution_count": 87,
     "metadata": {},
     "output_type": "execute_result"
    }
   ],
   "source": [
    "know_col.find_one({'author':'dave'})"
   ]
  },
  {
   "cell_type": "code",
   "execution_count": 89,
   "id": "b652abec",
   "metadata": {},
   "outputs": [
    {
     "data": {
      "text/plain": [
       "<pymongo.results.InsertOneResult at 0x1d3325cd1c0>"
      ]
     },
     "execution_count": 89,
     "metadata": {},
     "output_type": "execute_result"
    }
   ],
   "source": [
    "know_col.insert_one({'author':'mike',}, {'$set': {'text' : 'hi dave'}})"
   ]
  },
  {
   "cell_type": "code",
   "execution_count": 90,
   "id": "66beb3dc",
   "metadata": {
    "scrolled": true
   },
   "outputs": [
    {
     "data": {
      "text/plain": [
       "{'_id': ObjectId('6333d2d3831ec95275745f6e'), 'author': 'dave', 'age': 35}"
      ]
     },
     "execution_count": 90,
     "metadata": {},
     "output_type": "execute_result"
    }
   ],
   "source": [
    "know_col.find_one({'author':'dave'})"
   ]
  },
  {
   "cell_type": "code",
   "execution_count": 91,
   "id": "6ce4c486",
   "metadata": {
    "collapsed": true
   },
   "outputs": [
    {
     "name": "stdout",
     "output_type": "stream",
     "text": [
      "{'_id': ObjectId('6333d2d1831ec95275745f6b'), 'author': 'mike', 'text': 'blog post', 'tags': ['mongodb', 'python']}\n",
      "{'_id': ObjectId('6333d2d2831ec95275745f6c'), 'author': 'kin', 'age': 15}\n",
      "{'_id': ObjectId('6333d2d3831ec95275745f6d'), 'author': 'dave_ahn', 'age': 25}\n",
      "{'_id': ObjectId('6333d2d3831ec95275745f6e'), 'author': 'dave', 'age': 35}\n",
      "{'_id': ObjectId('6333d2d4831ec95275745f6f'), 'title': '암살', 'castings': ['이정재', '전지현', '하정우']}\n",
      "{'_id': ObjectId('6333d2d5831ec95275745f70'), 'title': '실미도', 'castings': ['설경구', '안성기'], 'datetime': {'year': '2003', 'month': 3, 'val': {'a': {'b': 1}}}}\n",
      "{'_id': ObjectId('6333d37a831ec95275745f71'), 'name': 'aaron', 'age': 20}\n",
      "{'_id': ObjectId('6333d37a831ec95275745f72'), 'name': 'bob', 'age': 22}\n",
      "{'_id': ObjectId('6333d37a831ec95275745f73'), 'name': 'cathy', 'age': 25}\n",
      "{'_id': ObjectId('6333d37a831ec95275745f74'), 'name': 'david', 'age': 27}\n",
      "{'_id': ObjectId('6333d37a831ec95275745f75'), 'name': 'eric', 'age': 28}\n",
      "{'_id': ObjectId('6333d37a831ec95275745f76'), 'name': 'fox', 'age': 25}\n",
      "{'_id': ObjectId('6333d37a831ec95275745f77'), 'name': 'hue', 'age': 50}\n",
      "{'_id': ObjectId('6333d71b831ec95275745f78'), 'author': 'mike'}\n",
      "{'_id': ObjectId('6333e0eb831ec95275745f79'), 'author': 'mike', 'text': 'blog post', 'tags': ['mongodb', 'python']}\n",
      "{'_id': ObjectId('6333e0f2831ec95275745f7a'), 'author': 'mike', 'text': 'blog post', 'tags': ['mongodb', 'python']}\n",
      "{'_id': ObjectId('6333e0f3831ec95275745f7b'), 'author': 'kin', 'age': 15}\n",
      "{'_id': ObjectId('6333e0f4831ec95275745f7c'), 'author': 'dave_ahn', 'age': 25}\n",
      "{'_id': ObjectId('6333e0f4831ec95275745f7d'), 'author': 'dave', 'age': 30}\n",
      "{'_id': ObjectId('6333e0f8831ec95275745f7e'), 'title': '암살', 'castings': ['이정재', '전지현', '하정우']}\n",
      "{'_id': ObjectId('6333e0f9831ec95275745f7f'), 'title': '실미도', 'castings': ['설경구', '안성기'], 'datetime': {'year': '2003', 'month': 3, 'val': {'a': {'b': 1}}}}\n",
      "{'_id': ObjectId('6333e0fb831ec95275745f80'), 'name': 'aaron', 'age': 20}\n",
      "{'_id': ObjectId('6333e0fb831ec95275745f81'), 'name': 'bob', 'age': 22}\n",
      "{'_id': ObjectId('6333e0fb831ec95275745f82'), 'name': 'cathy', 'age': 25}\n",
      "{'_id': ObjectId('6333e0fb831ec95275745f83'), 'name': 'david', 'age': 27}\n",
      "{'_id': ObjectId('6333e0fb831ec95275745f84'), 'name': 'eric', 'age': 28}\n",
      "{'_id': ObjectId('6333e0fb831ec95275745f85'), 'name': 'fox', 'age': 25}\n",
      "{'_id': ObjectId('6333e0fb831ec95275745f86'), 'name': 'hue', 'age': 50}\n",
      "{'_id': ObjectId('6333e128831ec95275745f87'), 'author': 'mike'}\n"
     ]
    }
   ],
   "source": [
    "results = know_col.find()\n",
    "for i in results:\n",
    "    print(i)"
   ]
  },
  {
   "cell_type": "code",
   "execution_count": 92,
   "id": "c8aeacbe",
   "metadata": {},
   "outputs": [
    {
     "data": {
      "text/plain": [
       "<pymongo.results.InsertOneResult at 0x1d3336e2220>"
      ]
     },
     "execution_count": 92,
     "metadata": {},
     "output_type": "execute_result"
    }
   ],
   "source": [
    "know_col.insert_one({'author':'mike', 'text':'my python post'})"
   ]
  },
  {
   "cell_type": "code",
   "execution_count": 93,
   "id": "49610b03",
   "metadata": {
    "collapsed": true
   },
   "outputs": [
    {
     "name": "stdout",
     "output_type": "stream",
     "text": [
      "{'_id': ObjectId('6333d2d1831ec95275745f6b'), 'author': 'mike', 'text': 'blog post', 'tags': ['mongodb', 'python']}\n",
      "{'_id': ObjectId('6333d2d2831ec95275745f6c'), 'author': 'kin', 'age': 15}\n",
      "{'_id': ObjectId('6333d2d3831ec95275745f6d'), 'author': 'dave_ahn', 'age': 25}\n",
      "{'_id': ObjectId('6333d2d3831ec95275745f6e'), 'author': 'dave', 'age': 35}\n",
      "{'_id': ObjectId('6333d2d4831ec95275745f6f'), 'title': '암살', 'castings': ['이정재', '전지현', '하정우']}\n",
      "{'_id': ObjectId('6333d2d5831ec95275745f70'), 'title': '실미도', 'castings': ['설경구', '안성기'], 'datetime': {'year': '2003', 'month': 3, 'val': {'a': {'b': 1}}}}\n",
      "{'_id': ObjectId('6333d37a831ec95275745f71'), 'name': 'aaron', 'age': 20}\n",
      "{'_id': ObjectId('6333d37a831ec95275745f72'), 'name': 'bob', 'age': 22}\n",
      "{'_id': ObjectId('6333d37a831ec95275745f73'), 'name': 'cathy', 'age': 25}\n",
      "{'_id': ObjectId('6333d37a831ec95275745f74'), 'name': 'david', 'age': 27}\n",
      "{'_id': ObjectId('6333d37a831ec95275745f75'), 'name': 'eric', 'age': 28}\n",
      "{'_id': ObjectId('6333d37a831ec95275745f76'), 'name': 'fox', 'age': 25}\n",
      "{'_id': ObjectId('6333d37a831ec95275745f77'), 'name': 'hue', 'age': 50}\n",
      "{'_id': ObjectId('6333d71b831ec95275745f78'), 'author': 'mike'}\n",
      "{'_id': ObjectId('6333e0eb831ec95275745f79'), 'author': 'mike', 'text': 'blog post', 'tags': ['mongodb', 'python']}\n",
      "{'_id': ObjectId('6333e0f2831ec95275745f7a'), 'author': 'mike', 'text': 'blog post', 'tags': ['mongodb', 'python']}\n",
      "{'_id': ObjectId('6333e0f3831ec95275745f7b'), 'author': 'kin', 'age': 15}\n",
      "{'_id': ObjectId('6333e0f4831ec95275745f7c'), 'author': 'dave_ahn', 'age': 25}\n",
      "{'_id': ObjectId('6333e0f4831ec95275745f7d'), 'author': 'dave', 'age': 30}\n",
      "{'_id': ObjectId('6333e0f8831ec95275745f7e'), 'title': '암살', 'castings': ['이정재', '전지현', '하정우']}\n",
      "{'_id': ObjectId('6333e0f9831ec95275745f7f'), 'title': '실미도', 'castings': ['설경구', '안성기'], 'datetime': {'year': '2003', 'month': 3, 'val': {'a': {'b': 1}}}}\n",
      "{'_id': ObjectId('6333e0fb831ec95275745f80'), 'name': 'aaron', 'age': 20}\n",
      "{'_id': ObjectId('6333e0fb831ec95275745f81'), 'name': 'bob', 'age': 22}\n",
      "{'_id': ObjectId('6333e0fb831ec95275745f82'), 'name': 'cathy', 'age': 25}\n",
      "{'_id': ObjectId('6333e0fb831ec95275745f83'), 'name': 'david', 'age': 27}\n",
      "{'_id': ObjectId('6333e0fb831ec95275745f84'), 'name': 'eric', 'age': 28}\n",
      "{'_id': ObjectId('6333e0fb831ec95275745f85'), 'name': 'fox', 'age': 25}\n",
      "{'_id': ObjectId('6333e0fb831ec95275745f86'), 'name': 'hue', 'age': 50}\n",
      "{'_id': ObjectId('6333e128831ec95275745f87'), 'author': 'mike'}\n",
      "{'_id': ObjectId('6333e129831ec95275745f88'), 'author': 'mike', 'text': 'my python post'}\n"
     ]
    }
   ],
   "source": [
    "results = know_col.find()\n",
    "for i in results:\n",
    "    print(i)"
   ]
  },
  {
   "cell_type": "code",
   "execution_count": 94,
   "id": "b9e4749c",
   "metadata": {},
   "outputs": [
    {
     "data": {
      "text/plain": [
       "<pymongo.results.UpdateResult at 0x1d330ca60a0>"
      ]
     },
     "execution_count": 94,
     "metadata": {},
     "output_type": "execute_result"
    }
   ],
   "source": [
    "know_col.update_one({'author':'mike'}, {'$set': {'text': 'hi dave'}})  # 하나의 document를 수정 "
   ]
  },
  {
   "cell_type": "code",
   "execution_count": 95,
   "id": "3cb03734",
   "metadata": {},
   "outputs": [
    {
     "name": "stdout",
     "output_type": "stream",
     "text": [
      "{'_id': ObjectId('6333d2d1831ec95275745f6b'), 'author': 'mike', 'text': 'hi dave', 'tags': ['mongodb', 'python']}\n",
      "{'_id': ObjectId('6333d71b831ec95275745f78'), 'author': 'mike'}\n",
      "{'_id': ObjectId('6333e0eb831ec95275745f79'), 'author': 'mike', 'text': 'blog post', 'tags': ['mongodb', 'python']}\n",
      "{'_id': ObjectId('6333e0f2831ec95275745f7a'), 'author': 'mike', 'text': 'blog post', 'tags': ['mongodb', 'python']}\n",
      "{'_id': ObjectId('6333e128831ec95275745f87'), 'author': 'mike'}\n",
      "{'_id': ObjectId('6333e129831ec95275745f88'), 'author': 'mike', 'text': 'my python post'}\n"
     ]
    }
   ],
   "source": [
    "results = know_col.find({'author':'mike'})\n",
    "for r in results:\n",
    "    print(r)"
   ]
  },
  {
   "cell_type": "code",
   "execution_count": 96,
   "id": "5ff2689e",
   "metadata": {},
   "outputs": [
    {
     "data": {
      "text/plain": [
       "<pymongo.results.UpdateResult at 0x1d333711b20>"
      ]
     },
     "execution_count": 96,
     "metadata": {},
     "output_type": "execute_result"
    }
   ],
   "source": [
    "know_col.update_many({'author':'mike'}, {'$set': {'text': 'mongodb posting..'}}) # 여러개의 document를 수정"
   ]
  },
  {
   "cell_type": "code",
   "execution_count": 97,
   "id": "e0130303",
   "metadata": {},
   "outputs": [
    {
     "name": "stdout",
     "output_type": "stream",
     "text": [
      "{'_id': ObjectId('6333d2d1831ec95275745f6b'), 'author': 'mike', 'text': 'mongodb posting..', 'tags': ['mongodb', 'python']}\n",
      "{'_id': ObjectId('6333d71b831ec95275745f78'), 'author': 'mike', 'text': 'mongodb posting..'}\n",
      "{'_id': ObjectId('6333e0eb831ec95275745f79'), 'author': 'mike', 'text': 'mongodb posting..', 'tags': ['mongodb', 'python']}\n",
      "{'_id': ObjectId('6333e0f2831ec95275745f7a'), 'author': 'mike', 'text': 'mongodb posting..', 'tags': ['mongodb', 'python']}\n",
      "{'_id': ObjectId('6333e128831ec95275745f87'), 'author': 'mike', 'text': 'mongodb posting..'}\n",
      "{'_id': ObjectId('6333e129831ec95275745f88'), 'author': 'mike', 'text': 'mongodb posting..'}\n"
     ]
    }
   ],
   "source": [
    "results = know_col.find({'author':'mike'})\n",
    "for r in results:\n",
    "    print(r)"
   ]
  },
  {
   "cell_type": "code",
   "execution_count": 98,
   "id": "220a624c",
   "metadata": {},
   "outputs": [],
   "source": [
    "# document 다큐먼트 삭제\n",
    "# delete_one() - 조건에 맞는 데이터 하나만 삭제\n",
    "# delete_many() - 조건에 맞는 데이터 모두 삭제"
   ]
  },
  {
   "cell_type": "code",
   "execution_count": 99,
   "id": "e7518e68",
   "metadata": {},
   "outputs": [
    {
     "data": {
      "text/plain": [
       "<pymongo.results.InsertOneResult at 0x1d33256d100>"
      ]
     },
     "execution_count": 99,
     "metadata": {},
     "output_type": "execute_result"
    }
   ],
   "source": [
    "know_col.insert_one({'author':'mike', 'text':'my python post', 'age':55})"
   ]
  },
  {
   "cell_type": "code",
   "execution_count": 100,
   "id": "bf462686",
   "metadata": {},
   "outputs": [
    {
     "data": {
      "text/plain": [
       "7"
      ]
     },
     "execution_count": 100,
     "metadata": {},
     "output_type": "execute_result"
    }
   ],
   "source": [
    "know_col.count_documents({'author':'mike'})"
   ]
  },
  {
   "cell_type": "code",
   "execution_count": 101,
   "id": "121979cc",
   "metadata": {},
   "outputs": [
    {
     "data": {
      "text/plain": [
       "<pymongo.results.DeleteResult at 0x1d3338562b0>"
      ]
     },
     "execution_count": 101,
     "metadata": {},
     "output_type": "execute_result"
    }
   ],
   "source": [
    "know_col.delete_one({'author':'mike'})"
   ]
  },
  {
   "cell_type": "code",
   "execution_count": 102,
   "id": "d269dc0e",
   "metadata": {},
   "outputs": [
    {
     "data": {
      "text/plain": [
       "6"
      ]
     },
     "execution_count": 102,
     "metadata": {},
     "output_type": "execute_result"
    }
   ],
   "source": [
    "know_col.count_documents({'author':'mike'})"
   ]
  },
  {
   "cell_type": "code",
   "execution_count": 103,
   "id": "c567ecca",
   "metadata": {},
   "outputs": [
    {
     "data": {
      "text/plain": [
       "<pymongo.results.DeleteResult at 0x1d33246edc0>"
      ]
     },
     "execution_count": 103,
     "metadata": {},
     "output_type": "execute_result"
    }
   ],
   "source": [
    "know_col.delete_many({'author':'mike'})"
   ]
  },
  {
   "cell_type": "code",
   "execution_count": 104,
   "id": "de12f288",
   "metadata": {},
   "outputs": [
    {
     "data": {
      "text/plain": [
       "0"
      ]
     },
     "execution_count": 104,
     "metadata": {},
     "output_type": "execute_result"
    }
   ],
   "source": [
    "know_col.count_documents({'author':'mike'})"
   ]
  },
  {
   "cell_type": "code",
   "execution_count": 105,
   "id": "fa9eb1d7",
   "metadata": {},
   "outputs": [],
   "source": [
    "#======================================================================"
   ]
  },
  {
   "cell_type": "code",
   "execution_count": 110,
   "id": "f4e7b0c3",
   "metadata": {},
   "outputs": [],
   "source": [
    "book_db = conn['books']  # 'books' database가 없으면 생성 있으면 에러"
   ]
  },
  {
   "cell_type": "code",
   "execution_count": 111,
   "id": "bc585888",
   "metadata": {},
   "outputs": [],
   "source": [
    "book_col = book_db['book_col'] # 'book' collection 이 없으면 생성 "
   ]
  },
  {
   "cell_type": "code",
   "execution_count": 112,
   "id": "3eadfd5f",
   "metadata": {},
   "outputs": [
    {
     "data": {
      "text/plain": [
       "<pymongo.results.InsertOneResult at 0x1d3339afe20>"
      ]
     },
     "execution_count": 112,
     "metadata": {},
     "output_type": "execute_result"
    }
   ],
   "source": [
    "book_col.insert_one({'author':'david lee', 'publish':'mirae_it', 'number':1})"
   ]
  },
  {
   "cell_type": "code",
   "execution_count": 113,
   "id": "ad0df765",
   "metadata": {},
   "outputs": [
    {
     "name": "stdout",
     "output_type": "stream",
     "text": [
      "{'_id': ObjectId('6333e150831ec95275745f8a'), 'author': 'david lee', 'publish': 'mirae_it', 'number': 1}\n"
     ]
    }
   ],
   "source": [
    "results = book_col.find()\n",
    "for r in results:\n",
    "    print(r)"
   ]
  },
  {
   "cell_type": "code",
   "execution_count": 114,
   "id": "852387ae",
   "metadata": {},
   "outputs": [
    {
     "data": {
      "text/plain": [
       "<pymongo.results.DeleteResult at 0x1d3337b1760>"
      ]
     },
     "execution_count": 114,
     "metadata": {},
     "output_type": "execute_result"
    }
   ],
   "source": [
    "book_col.delete_one({'author':'david lee'})"
   ]
  },
  {
   "cell_type": "code",
   "execution_count": 115,
   "id": "0ae9b7b3",
   "metadata": {},
   "outputs": [
    {
     "data": {
      "text/plain": [
       "0"
      ]
     },
     "execution_count": 115,
     "metadata": {},
     "output_type": "execute_result"
    }
   ],
   "source": [
    "book_col.count_documents({})"
   ]
  },
  {
   "cell_type": "code",
   "execution_count": 116,
   "id": "26a10e0f",
   "metadata": {
    "collapsed": true
   },
   "outputs": [
    {
     "data": {
      "text/plain": [
       "[{'author': 'david lee', 'publisher': 'mirae_it.co.kr', 'number': 0},\n",
       " {'author': 'david lee', 'publisher': 'mirae_it.co.kr', 'number': 1},\n",
       " {'author': 'david lee', 'publisher': 'mirae_it.co.kr', 'number': 2},\n",
       " {'author': 'david lee', 'publisher': 'mirae_it.co.kr', 'number': 3},\n",
       " {'author': 'david lee', 'publisher': 'mirae_it.co.kr', 'number': 4},\n",
       " {'author': 'david lee', 'publisher': 'mirae_it.co.kr', 'number': 5},\n",
       " {'author': 'david lee', 'publisher': 'mirae_it.co.kr', 'number': 6},\n",
       " {'author': 'david lee', 'publisher': 'mirae_it.co.kr', 'number': 7},\n",
       " {'author': 'david lee', 'publisher': 'mirae_it.co.kr', 'number': 8},\n",
       " {'author': 'david lee', 'publisher': 'mirae_it.co.kr', 'number': 9},\n",
       " {'author': 'david lee', 'publisher': 'mirae_it.co.kr', 'number': 10},\n",
       " {'author': 'david lee', 'publisher': 'mirae_it.co.kr', 'number': 11},\n",
       " {'author': 'david lee', 'publisher': 'mirae_it.co.kr', 'number': 12},\n",
       " {'author': 'david lee', 'publisher': 'mirae_it.co.kr', 'number': 13},\n",
       " {'author': 'david lee', 'publisher': 'mirae_it.co.kr', 'number': 14},\n",
       " {'author': 'david lee', 'publisher': 'mirae_it.co.kr', 'number': 15},\n",
       " {'author': 'david lee', 'publisher': 'mirae_it.co.kr', 'number': 16},\n",
       " {'author': 'david lee', 'publisher': 'mirae_it.co.kr', 'number': 17},\n",
       " {'author': 'david lee', 'publisher': 'mirae_it.co.kr', 'number': 18},\n",
       " {'author': 'david lee', 'publisher': 'mirae_it.co.kr', 'number': 19},\n",
       " {'author': 'david lee', 'publisher': 'mirae_it.co.kr', 'number': 20},\n",
       " {'author': 'david lee', 'publisher': 'mirae_it.co.kr', 'number': 21},\n",
       " {'author': 'david lee', 'publisher': 'mirae_it.co.kr', 'number': 22},\n",
       " {'author': 'david lee', 'publisher': 'mirae_it.co.kr', 'number': 23},\n",
       " {'author': 'david lee', 'publisher': 'mirae_it.co.kr', 'number': 24},\n",
       " {'author': 'david lee', 'publisher': 'mirae_it.co.kr', 'number': 25},\n",
       " {'author': 'david lee', 'publisher': 'mirae_it.co.kr', 'number': 26},\n",
       " {'author': 'david lee', 'publisher': 'mirae_it.co.kr', 'number': 27},\n",
       " {'author': 'david lee', 'publisher': 'mirae_it.co.kr', 'number': 28},\n",
       " {'author': 'david lee', 'publisher': 'mirae_it.co.kr', 'number': 29},\n",
       " {'author': 'david lee', 'publisher': 'mirae_it.co.kr', 'number': 30},\n",
       " {'author': 'david lee', 'publisher': 'mirae_it.co.kr', 'number': 31},\n",
       " {'author': 'david lee', 'publisher': 'mirae_it.co.kr', 'number': 32},\n",
       " {'author': 'david lee', 'publisher': 'mirae_it.co.kr', 'number': 33},\n",
       " {'author': 'david lee', 'publisher': 'mirae_it.co.kr', 'number': 34},\n",
       " {'author': 'david lee', 'publisher': 'mirae_it.co.kr', 'number': 35},\n",
       " {'author': 'david lee', 'publisher': 'mirae_it.co.kr', 'number': 36},\n",
       " {'author': 'david lee', 'publisher': 'mirae_it.co.kr', 'number': 37},\n",
       " {'author': 'david lee', 'publisher': 'mirae_it.co.kr', 'number': 38},\n",
       " {'author': 'david lee', 'publisher': 'mirae_it.co.kr', 'number': 39},\n",
       " {'author': 'david lee', 'publisher': 'mirae_it.co.kr', 'number': 40},\n",
       " {'author': 'david lee', 'publisher': 'mirae_it.co.kr', 'number': 41},\n",
       " {'author': 'david lee', 'publisher': 'mirae_it.co.kr', 'number': 42},\n",
       " {'author': 'david lee', 'publisher': 'mirae_it.co.kr', 'number': 43},\n",
       " {'author': 'david lee', 'publisher': 'mirae_it.co.kr', 'number': 44},\n",
       " {'author': 'david lee', 'publisher': 'mirae_it.co.kr', 'number': 45},\n",
       " {'author': 'david lee', 'publisher': 'mirae_it.co.kr', 'number': 46},\n",
       " {'author': 'david lee', 'publisher': 'mirae_it.co.kr', 'number': 47},\n",
       " {'author': 'david lee', 'publisher': 'mirae_it.co.kr', 'number': 48},\n",
       " {'author': 'david lee', 'publisher': 'mirae_it.co.kr', 'number': 49},\n",
       " {'author': 'david lee', 'publisher': 'mirae_it.co.kr', 'number': 50},\n",
       " {'author': 'david lee', 'publisher': 'mirae_it.co.kr', 'number': 51},\n",
       " {'author': 'david lee', 'publisher': 'mirae_it.co.kr', 'number': 52},\n",
       " {'author': 'david lee', 'publisher': 'mirae_it.co.kr', 'number': 53},\n",
       " {'author': 'david lee', 'publisher': 'mirae_it.co.kr', 'number': 54},\n",
       " {'author': 'david lee', 'publisher': 'mirae_it.co.kr', 'number': 55},\n",
       " {'author': 'david lee', 'publisher': 'mirae_it.co.kr', 'number': 56},\n",
       " {'author': 'david lee', 'publisher': 'mirae_it.co.kr', 'number': 57},\n",
       " {'author': 'david lee', 'publisher': 'mirae_it.co.kr', 'number': 58},\n",
       " {'author': 'david lee', 'publisher': 'mirae_it.co.kr', 'number': 59},\n",
       " {'author': 'david lee', 'publisher': 'mirae_it.co.kr', 'number': 60},\n",
       " {'author': 'david lee', 'publisher': 'mirae_it.co.kr', 'number': 61},\n",
       " {'author': 'david lee', 'publisher': 'mirae_it.co.kr', 'number': 62},\n",
       " {'author': 'david lee', 'publisher': 'mirae_it.co.kr', 'number': 63},\n",
       " {'author': 'david lee', 'publisher': 'mirae_it.co.kr', 'number': 64},\n",
       " {'author': 'david lee', 'publisher': 'mirae_it.co.kr', 'number': 65},\n",
       " {'author': 'david lee', 'publisher': 'mirae_it.co.kr', 'number': 66},\n",
       " {'author': 'david lee', 'publisher': 'mirae_it.co.kr', 'number': 67},\n",
       " {'author': 'david lee', 'publisher': 'mirae_it.co.kr', 'number': 68},\n",
       " {'author': 'david lee', 'publisher': 'mirae_it.co.kr', 'number': 69},\n",
       " {'author': 'david lee', 'publisher': 'mirae_it.co.kr', 'number': 70},\n",
       " {'author': 'david lee', 'publisher': 'mirae_it.co.kr', 'number': 71},\n",
       " {'author': 'david lee', 'publisher': 'mirae_it.co.kr', 'number': 72},\n",
       " {'author': 'david lee', 'publisher': 'mirae_it.co.kr', 'number': 73},\n",
       " {'author': 'david lee', 'publisher': 'mirae_it.co.kr', 'number': 74},\n",
       " {'author': 'david lee', 'publisher': 'mirae_it.co.kr', 'number': 75},\n",
       " {'author': 'david lee', 'publisher': 'mirae_it.co.kr', 'number': 76},\n",
       " {'author': 'david lee', 'publisher': 'mirae_it.co.kr', 'number': 77},\n",
       " {'author': 'david lee', 'publisher': 'mirae_it.co.kr', 'number': 78},\n",
       " {'author': 'david lee', 'publisher': 'mirae_it.co.kr', 'number': 79},\n",
       " {'author': 'david lee', 'publisher': 'mirae_it.co.kr', 'number': 80},\n",
       " {'author': 'david lee', 'publisher': 'mirae_it.co.kr', 'number': 81},\n",
       " {'author': 'david lee', 'publisher': 'mirae_it.co.kr', 'number': 82},\n",
       " {'author': 'david lee', 'publisher': 'mirae_it.co.kr', 'number': 83},\n",
       " {'author': 'david lee', 'publisher': 'mirae_it.co.kr', 'number': 84},\n",
       " {'author': 'david lee', 'publisher': 'mirae_it.co.kr', 'number': 85},\n",
       " {'author': 'david lee', 'publisher': 'mirae_it.co.kr', 'number': 86},\n",
       " {'author': 'david lee', 'publisher': 'mirae_it.co.kr', 'number': 87},\n",
       " {'author': 'david lee', 'publisher': 'mirae_it.co.kr', 'number': 88},\n",
       " {'author': 'david lee', 'publisher': 'mirae_it.co.kr', 'number': 89},\n",
       " {'author': 'david lee', 'publisher': 'mirae_it.co.kr', 'number': 90},\n",
       " {'author': 'david lee', 'publisher': 'mirae_it.co.kr', 'number': 91},\n",
       " {'author': 'david lee', 'publisher': 'mirae_it.co.kr', 'number': 92},\n",
       " {'author': 'david lee', 'publisher': 'mirae_it.co.kr', 'number': 93},\n",
       " {'author': 'david lee', 'publisher': 'mirae_it.co.kr', 'number': 94},\n",
       " {'author': 'david lee', 'publisher': 'mirae_it.co.kr', 'number': 95},\n",
       " {'author': 'david lee', 'publisher': 'mirae_it.co.kr', 'number': 96},\n",
       " {'author': 'david lee', 'publisher': 'mirae_it.co.kr', 'number': 97},\n",
       " {'author': 'david lee', 'publisher': 'mirae_it.co.kr', 'number': 98},\n",
       " {'author': 'david lee', 'publisher': 'mirae_it.co.kr', 'number': 99}]"
      ]
     },
     "execution_count": 116,
     "metadata": {},
     "output_type": "execute_result"
    }
   ],
   "source": [
    "data = []\n",
    "for index in range(100):\n",
    "    data.append({'author':'david lee', 'publisher':'mirae_it.co.kr', 'number':index})\n",
    "data"
   ]
  },
  {
   "cell_type": "code",
   "execution_count": 117,
   "id": "9a59400f",
   "metadata": {},
   "outputs": [
    {
     "data": {
      "text/plain": [
       "<pymongo.results.InsertManyResult at 0x1d3324096a0>"
      ]
     },
     "execution_count": 117,
     "metadata": {},
     "output_type": "execute_result"
    }
   ],
   "source": [
    "book_col.insert_many(data)"
   ]
  },
  {
   "cell_type": "code",
   "execution_count": 118,
   "id": "4167e4af",
   "metadata": {
    "collapsed": true
   },
   "outputs": [
    {
     "name": "stdout",
     "output_type": "stream",
     "text": [
      "{'_id': ObjectId('6333e154831ec95275745f8b'), 'author': 'david lee', 'publisher': 'mirae_it.co.kr', 'number': 0}\n",
      "{'_id': ObjectId('6333e154831ec95275745f8c'), 'author': 'david lee', 'publisher': 'mirae_it.co.kr', 'number': 1}\n",
      "{'_id': ObjectId('6333e154831ec95275745f8d'), 'author': 'david lee', 'publisher': 'mirae_it.co.kr', 'number': 2}\n",
      "{'_id': ObjectId('6333e154831ec95275745f8e'), 'author': 'david lee', 'publisher': 'mirae_it.co.kr', 'number': 3}\n",
      "{'_id': ObjectId('6333e154831ec95275745f8f'), 'author': 'david lee', 'publisher': 'mirae_it.co.kr', 'number': 4}\n",
      "{'_id': ObjectId('6333e154831ec95275745f90'), 'author': 'david lee', 'publisher': 'mirae_it.co.kr', 'number': 5}\n",
      "{'_id': ObjectId('6333e154831ec95275745f91'), 'author': 'david lee', 'publisher': 'mirae_it.co.kr', 'number': 6}\n",
      "{'_id': ObjectId('6333e154831ec95275745f92'), 'author': 'david lee', 'publisher': 'mirae_it.co.kr', 'number': 7}\n",
      "{'_id': ObjectId('6333e154831ec95275745f93'), 'author': 'david lee', 'publisher': 'mirae_it.co.kr', 'number': 8}\n",
      "{'_id': ObjectId('6333e154831ec95275745f94'), 'author': 'david lee', 'publisher': 'mirae_it.co.kr', 'number': 9}\n",
      "{'_id': ObjectId('6333e154831ec95275745f95'), 'author': 'david lee', 'publisher': 'mirae_it.co.kr', 'number': 10}\n",
      "{'_id': ObjectId('6333e154831ec95275745f96'), 'author': 'david lee', 'publisher': 'mirae_it.co.kr', 'number': 11}\n",
      "{'_id': ObjectId('6333e154831ec95275745f97'), 'author': 'david lee', 'publisher': 'mirae_it.co.kr', 'number': 12}\n",
      "{'_id': ObjectId('6333e154831ec95275745f98'), 'author': 'david lee', 'publisher': 'mirae_it.co.kr', 'number': 13}\n",
      "{'_id': ObjectId('6333e154831ec95275745f99'), 'author': 'david lee', 'publisher': 'mirae_it.co.kr', 'number': 14}\n",
      "{'_id': ObjectId('6333e154831ec95275745f9a'), 'author': 'david lee', 'publisher': 'mirae_it.co.kr', 'number': 15}\n",
      "{'_id': ObjectId('6333e154831ec95275745f9b'), 'author': 'david lee', 'publisher': 'mirae_it.co.kr', 'number': 16}\n",
      "{'_id': ObjectId('6333e154831ec95275745f9c'), 'author': 'david lee', 'publisher': 'mirae_it.co.kr', 'number': 17}\n",
      "{'_id': ObjectId('6333e154831ec95275745f9d'), 'author': 'david lee', 'publisher': 'mirae_it.co.kr', 'number': 18}\n",
      "{'_id': ObjectId('6333e154831ec95275745f9e'), 'author': 'david lee', 'publisher': 'mirae_it.co.kr', 'number': 19}\n",
      "{'_id': ObjectId('6333e154831ec95275745f9f'), 'author': 'david lee', 'publisher': 'mirae_it.co.kr', 'number': 20}\n",
      "{'_id': ObjectId('6333e154831ec95275745fa0'), 'author': 'david lee', 'publisher': 'mirae_it.co.kr', 'number': 21}\n",
      "{'_id': ObjectId('6333e154831ec95275745fa1'), 'author': 'david lee', 'publisher': 'mirae_it.co.kr', 'number': 22}\n",
      "{'_id': ObjectId('6333e154831ec95275745fa2'), 'author': 'david lee', 'publisher': 'mirae_it.co.kr', 'number': 23}\n",
      "{'_id': ObjectId('6333e154831ec95275745fa3'), 'author': 'david lee', 'publisher': 'mirae_it.co.kr', 'number': 24}\n",
      "{'_id': ObjectId('6333e154831ec95275745fa4'), 'author': 'david lee', 'publisher': 'mirae_it.co.kr', 'number': 25}\n",
      "{'_id': ObjectId('6333e154831ec95275745fa5'), 'author': 'david lee', 'publisher': 'mirae_it.co.kr', 'number': 26}\n",
      "{'_id': ObjectId('6333e154831ec95275745fa6'), 'author': 'david lee', 'publisher': 'mirae_it.co.kr', 'number': 27}\n",
      "{'_id': ObjectId('6333e154831ec95275745fa7'), 'author': 'david lee', 'publisher': 'mirae_it.co.kr', 'number': 28}\n",
      "{'_id': ObjectId('6333e154831ec95275745fa8'), 'author': 'david lee', 'publisher': 'mirae_it.co.kr', 'number': 29}\n",
      "{'_id': ObjectId('6333e154831ec95275745fa9'), 'author': 'david lee', 'publisher': 'mirae_it.co.kr', 'number': 30}\n",
      "{'_id': ObjectId('6333e154831ec95275745faa'), 'author': 'david lee', 'publisher': 'mirae_it.co.kr', 'number': 31}\n",
      "{'_id': ObjectId('6333e154831ec95275745fab'), 'author': 'david lee', 'publisher': 'mirae_it.co.kr', 'number': 32}\n",
      "{'_id': ObjectId('6333e154831ec95275745fac'), 'author': 'david lee', 'publisher': 'mirae_it.co.kr', 'number': 33}\n",
      "{'_id': ObjectId('6333e154831ec95275745fad'), 'author': 'david lee', 'publisher': 'mirae_it.co.kr', 'number': 34}\n",
      "{'_id': ObjectId('6333e154831ec95275745fae'), 'author': 'david lee', 'publisher': 'mirae_it.co.kr', 'number': 35}\n",
      "{'_id': ObjectId('6333e154831ec95275745faf'), 'author': 'david lee', 'publisher': 'mirae_it.co.kr', 'number': 36}\n",
      "{'_id': ObjectId('6333e154831ec95275745fb0'), 'author': 'david lee', 'publisher': 'mirae_it.co.kr', 'number': 37}\n",
      "{'_id': ObjectId('6333e154831ec95275745fb1'), 'author': 'david lee', 'publisher': 'mirae_it.co.kr', 'number': 38}\n",
      "{'_id': ObjectId('6333e154831ec95275745fb2'), 'author': 'david lee', 'publisher': 'mirae_it.co.kr', 'number': 39}\n",
      "{'_id': ObjectId('6333e154831ec95275745fb3'), 'author': 'david lee', 'publisher': 'mirae_it.co.kr', 'number': 40}\n",
      "{'_id': ObjectId('6333e154831ec95275745fb4'), 'author': 'david lee', 'publisher': 'mirae_it.co.kr', 'number': 41}\n",
      "{'_id': ObjectId('6333e154831ec95275745fb5'), 'author': 'david lee', 'publisher': 'mirae_it.co.kr', 'number': 42}\n",
      "{'_id': ObjectId('6333e154831ec95275745fb6'), 'author': 'david lee', 'publisher': 'mirae_it.co.kr', 'number': 43}\n",
      "{'_id': ObjectId('6333e154831ec95275745fb7'), 'author': 'david lee', 'publisher': 'mirae_it.co.kr', 'number': 44}\n",
      "{'_id': ObjectId('6333e154831ec95275745fb8'), 'author': 'david lee', 'publisher': 'mirae_it.co.kr', 'number': 45}\n",
      "{'_id': ObjectId('6333e154831ec95275745fb9'), 'author': 'david lee', 'publisher': 'mirae_it.co.kr', 'number': 46}\n",
      "{'_id': ObjectId('6333e154831ec95275745fba'), 'author': 'david lee', 'publisher': 'mirae_it.co.kr', 'number': 47}\n",
      "{'_id': ObjectId('6333e154831ec95275745fbb'), 'author': 'david lee', 'publisher': 'mirae_it.co.kr', 'number': 48}\n",
      "{'_id': ObjectId('6333e154831ec95275745fbc'), 'author': 'david lee', 'publisher': 'mirae_it.co.kr', 'number': 49}\n",
      "{'_id': ObjectId('6333e154831ec95275745fbd'), 'author': 'david lee', 'publisher': 'mirae_it.co.kr', 'number': 50}\n",
      "{'_id': ObjectId('6333e154831ec95275745fbe'), 'author': 'david lee', 'publisher': 'mirae_it.co.kr', 'number': 51}\n",
      "{'_id': ObjectId('6333e154831ec95275745fbf'), 'author': 'david lee', 'publisher': 'mirae_it.co.kr', 'number': 52}\n",
      "{'_id': ObjectId('6333e154831ec95275745fc0'), 'author': 'david lee', 'publisher': 'mirae_it.co.kr', 'number': 53}\n",
      "{'_id': ObjectId('6333e154831ec95275745fc1'), 'author': 'david lee', 'publisher': 'mirae_it.co.kr', 'number': 54}\n",
      "{'_id': ObjectId('6333e154831ec95275745fc2'), 'author': 'david lee', 'publisher': 'mirae_it.co.kr', 'number': 55}\n",
      "{'_id': ObjectId('6333e154831ec95275745fc3'), 'author': 'david lee', 'publisher': 'mirae_it.co.kr', 'number': 56}\n",
      "{'_id': ObjectId('6333e154831ec95275745fc4'), 'author': 'david lee', 'publisher': 'mirae_it.co.kr', 'number': 57}\n",
      "{'_id': ObjectId('6333e154831ec95275745fc5'), 'author': 'david lee', 'publisher': 'mirae_it.co.kr', 'number': 58}\n",
      "{'_id': ObjectId('6333e154831ec95275745fc6'), 'author': 'david lee', 'publisher': 'mirae_it.co.kr', 'number': 59}\n",
      "{'_id': ObjectId('6333e154831ec95275745fc7'), 'author': 'david lee', 'publisher': 'mirae_it.co.kr', 'number': 60}\n",
      "{'_id': ObjectId('6333e154831ec95275745fc8'), 'author': 'david lee', 'publisher': 'mirae_it.co.kr', 'number': 61}\n",
      "{'_id': ObjectId('6333e154831ec95275745fc9'), 'author': 'david lee', 'publisher': 'mirae_it.co.kr', 'number': 62}\n",
      "{'_id': ObjectId('6333e154831ec95275745fca'), 'author': 'david lee', 'publisher': 'mirae_it.co.kr', 'number': 63}\n",
      "{'_id': ObjectId('6333e154831ec95275745fcb'), 'author': 'david lee', 'publisher': 'mirae_it.co.kr', 'number': 64}\n",
      "{'_id': ObjectId('6333e154831ec95275745fcc'), 'author': 'david lee', 'publisher': 'mirae_it.co.kr', 'number': 65}\n",
      "{'_id': ObjectId('6333e154831ec95275745fcd'), 'author': 'david lee', 'publisher': 'mirae_it.co.kr', 'number': 66}\n",
      "{'_id': ObjectId('6333e154831ec95275745fce'), 'author': 'david lee', 'publisher': 'mirae_it.co.kr', 'number': 67}\n",
      "{'_id': ObjectId('6333e154831ec95275745fcf'), 'author': 'david lee', 'publisher': 'mirae_it.co.kr', 'number': 68}\n",
      "{'_id': ObjectId('6333e154831ec95275745fd0'), 'author': 'david lee', 'publisher': 'mirae_it.co.kr', 'number': 69}\n",
      "{'_id': ObjectId('6333e154831ec95275745fd1'), 'author': 'david lee', 'publisher': 'mirae_it.co.kr', 'number': 70}\n",
      "{'_id': ObjectId('6333e154831ec95275745fd2'), 'author': 'david lee', 'publisher': 'mirae_it.co.kr', 'number': 71}\n",
      "{'_id': ObjectId('6333e154831ec95275745fd3'), 'author': 'david lee', 'publisher': 'mirae_it.co.kr', 'number': 72}\n",
      "{'_id': ObjectId('6333e154831ec95275745fd4'), 'author': 'david lee', 'publisher': 'mirae_it.co.kr', 'number': 73}\n",
      "{'_id': ObjectId('6333e154831ec95275745fd5'), 'author': 'david lee', 'publisher': 'mirae_it.co.kr', 'number': 74}\n",
      "{'_id': ObjectId('6333e154831ec95275745fd6'), 'author': 'david lee', 'publisher': 'mirae_it.co.kr', 'number': 75}\n",
      "{'_id': ObjectId('6333e154831ec95275745fd7'), 'author': 'david lee', 'publisher': 'mirae_it.co.kr', 'number': 76}\n",
      "{'_id': ObjectId('6333e154831ec95275745fd8'), 'author': 'david lee', 'publisher': 'mirae_it.co.kr', 'number': 77}\n",
      "{'_id': ObjectId('6333e154831ec95275745fd9'), 'author': 'david lee', 'publisher': 'mirae_it.co.kr', 'number': 78}\n",
      "{'_id': ObjectId('6333e154831ec95275745fda'), 'author': 'david lee', 'publisher': 'mirae_it.co.kr', 'number': 79}\n",
      "{'_id': ObjectId('6333e154831ec95275745fdb'), 'author': 'david lee', 'publisher': 'mirae_it.co.kr', 'number': 80}\n",
      "{'_id': ObjectId('6333e154831ec95275745fdc'), 'author': 'david lee', 'publisher': 'mirae_it.co.kr', 'number': 81}\n",
      "{'_id': ObjectId('6333e154831ec95275745fdd'), 'author': 'david lee', 'publisher': 'mirae_it.co.kr', 'number': 82}\n",
      "{'_id': ObjectId('6333e154831ec95275745fde'), 'author': 'david lee', 'publisher': 'mirae_it.co.kr', 'number': 83}\n",
      "{'_id': ObjectId('6333e154831ec95275745fdf'), 'author': 'david lee', 'publisher': 'mirae_it.co.kr', 'number': 84}\n",
      "{'_id': ObjectId('6333e154831ec95275745fe0'), 'author': 'david lee', 'publisher': 'mirae_it.co.kr', 'number': 85}\n",
      "{'_id': ObjectId('6333e154831ec95275745fe1'), 'author': 'david lee', 'publisher': 'mirae_it.co.kr', 'number': 86}\n",
      "{'_id': ObjectId('6333e154831ec95275745fe2'), 'author': 'david lee', 'publisher': 'mirae_it.co.kr', 'number': 87}\n",
      "{'_id': ObjectId('6333e154831ec95275745fe3'), 'author': 'david lee', 'publisher': 'mirae_it.co.kr', 'number': 88}\n",
      "{'_id': ObjectId('6333e154831ec95275745fe4'), 'author': 'david lee', 'publisher': 'mirae_it.co.kr', 'number': 89}\n",
      "{'_id': ObjectId('6333e154831ec95275745fe5'), 'author': 'david lee', 'publisher': 'mirae_it.co.kr', 'number': 90}\n",
      "{'_id': ObjectId('6333e154831ec95275745fe6'), 'author': 'david lee', 'publisher': 'mirae_it.co.kr', 'number': 91}\n",
      "{'_id': ObjectId('6333e154831ec95275745fe7'), 'author': 'david lee', 'publisher': 'mirae_it.co.kr', 'number': 92}\n",
      "{'_id': ObjectId('6333e154831ec95275745fe8'), 'author': 'david lee', 'publisher': 'mirae_it.co.kr', 'number': 93}\n",
      "{'_id': ObjectId('6333e154831ec95275745fe9'), 'author': 'david lee', 'publisher': 'mirae_it.co.kr', 'number': 94}\n",
      "{'_id': ObjectId('6333e154831ec95275745fea'), 'author': 'david lee', 'publisher': 'mirae_it.co.kr', 'number': 95}\n",
      "{'_id': ObjectId('6333e154831ec95275745feb'), 'author': 'david lee', 'publisher': 'mirae_it.co.kr', 'number': 96}\n",
      "{'_id': ObjectId('6333e154831ec95275745fec'), 'author': 'david lee', 'publisher': 'mirae_it.co.kr', 'number': 97}\n",
      "{'_id': ObjectId('6333e154831ec95275745fed'), 'author': 'david lee', 'publisher': 'mirae_it.co.kr', 'number': 98}\n",
      "{'_id': ObjectId('6333e154831ec95275745fee'), 'author': 'david lee', 'publisher': 'mirae_it.co.kr', 'number': 99}\n"
     ]
    }
   ],
   "source": [
    "results = book_col.find()\n",
    "\n",
    "for d in results:\n",
    "    print(d)"
   ]
  },
  {
   "cell_type": "code",
   "execution_count": 119,
   "id": "2029dc10",
   "metadata": {
    "collapsed": true
   },
   "outputs": [
    {
     "name": "stdout",
     "output_type": "stream",
     "text": [
      "{'_id': ObjectId('6333e154831ec95275745fea'), 'author': 'david lee', 'publisher': 'mirae_it.co.kr', 'number': 95}\n",
      "{'_id': ObjectId('6333e154831ec95275745feb'), 'author': 'david lee', 'publisher': 'mirae_it.co.kr', 'number': 96}\n",
      "{'_id': ObjectId('6333e154831ec95275745fec'), 'author': 'david lee', 'publisher': 'mirae_it.co.kr', 'number': 97}\n",
      "{'_id': ObjectId('6333e154831ec95275745fed'), 'author': 'david lee', 'publisher': 'mirae_it.co.kr', 'number': 98}\n",
      "{'_id': ObjectId('6333e154831ec95275745fee'), 'author': 'david lee', 'publisher': 'mirae_it.co.kr', 'number': 99}\n"
     ]
    }
   ],
   "source": [
    "results = book_col.find({'number': {'$gte': 95}})\n",
    "\n",
    "for d in results:\n",
    "    print(d)"
   ]
  },
  {
   "cell_type": "code",
   "execution_count": 120,
   "id": "14325808",
   "metadata": {},
   "outputs": [
    {
     "data": {
      "text/plain": [
       "<pymongo.results.DeleteResult at 0x1d33256da00>"
      ]
     },
     "execution_count": 120,
     "metadata": {},
     "output_type": "execute_result"
    }
   ],
   "source": [
    "book_col.delete_many({'number': {'$gte':90}})"
   ]
  },
  {
   "cell_type": "code",
   "execution_count": 121,
   "id": "3f05e8af",
   "metadata": {
    "collapsed": true
   },
   "outputs": [
    {
     "name": "stdout",
     "output_type": "stream",
     "text": [
      "{'_id': ObjectId('6333e154831ec95275745f8b'), 'author': 'david lee', 'publisher': 'mirae_it.co.kr', 'number': 0}\n",
      "{'_id': ObjectId('6333e154831ec95275745f8c'), 'author': 'david lee', 'publisher': 'mirae_it.co.kr', 'number': 1}\n",
      "{'_id': ObjectId('6333e154831ec95275745f8d'), 'author': 'david lee', 'publisher': 'mirae_it.co.kr', 'number': 2}\n",
      "{'_id': ObjectId('6333e154831ec95275745f8e'), 'author': 'david lee', 'publisher': 'mirae_it.co.kr', 'number': 3}\n",
      "{'_id': ObjectId('6333e154831ec95275745f8f'), 'author': 'david lee', 'publisher': 'mirae_it.co.kr', 'number': 4}\n",
      "{'_id': ObjectId('6333e154831ec95275745f90'), 'author': 'david lee', 'publisher': 'mirae_it.co.kr', 'number': 5}\n",
      "{'_id': ObjectId('6333e154831ec95275745f91'), 'author': 'david lee', 'publisher': 'mirae_it.co.kr', 'number': 6}\n",
      "{'_id': ObjectId('6333e154831ec95275745f92'), 'author': 'david lee', 'publisher': 'mirae_it.co.kr', 'number': 7}\n",
      "{'_id': ObjectId('6333e154831ec95275745f93'), 'author': 'david lee', 'publisher': 'mirae_it.co.kr', 'number': 8}\n",
      "{'_id': ObjectId('6333e154831ec95275745f94'), 'author': 'david lee', 'publisher': 'mirae_it.co.kr', 'number': 9}\n",
      "{'_id': ObjectId('6333e154831ec95275745f95'), 'author': 'david lee', 'publisher': 'mirae_it.co.kr', 'number': 10}\n",
      "{'_id': ObjectId('6333e154831ec95275745f96'), 'author': 'david lee', 'publisher': 'mirae_it.co.kr', 'number': 11}\n",
      "{'_id': ObjectId('6333e154831ec95275745f97'), 'author': 'david lee', 'publisher': 'mirae_it.co.kr', 'number': 12}\n",
      "{'_id': ObjectId('6333e154831ec95275745f98'), 'author': 'david lee', 'publisher': 'mirae_it.co.kr', 'number': 13}\n",
      "{'_id': ObjectId('6333e154831ec95275745f99'), 'author': 'david lee', 'publisher': 'mirae_it.co.kr', 'number': 14}\n",
      "{'_id': ObjectId('6333e154831ec95275745f9a'), 'author': 'david lee', 'publisher': 'mirae_it.co.kr', 'number': 15}\n",
      "{'_id': ObjectId('6333e154831ec95275745f9b'), 'author': 'david lee', 'publisher': 'mirae_it.co.kr', 'number': 16}\n",
      "{'_id': ObjectId('6333e154831ec95275745f9c'), 'author': 'david lee', 'publisher': 'mirae_it.co.kr', 'number': 17}\n",
      "{'_id': ObjectId('6333e154831ec95275745f9d'), 'author': 'david lee', 'publisher': 'mirae_it.co.kr', 'number': 18}\n",
      "{'_id': ObjectId('6333e154831ec95275745f9e'), 'author': 'david lee', 'publisher': 'mirae_it.co.kr', 'number': 19}\n",
      "{'_id': ObjectId('6333e154831ec95275745f9f'), 'author': 'david lee', 'publisher': 'mirae_it.co.kr', 'number': 20}\n",
      "{'_id': ObjectId('6333e154831ec95275745fa0'), 'author': 'david lee', 'publisher': 'mirae_it.co.kr', 'number': 21}\n",
      "{'_id': ObjectId('6333e154831ec95275745fa1'), 'author': 'david lee', 'publisher': 'mirae_it.co.kr', 'number': 22}\n",
      "{'_id': ObjectId('6333e154831ec95275745fa2'), 'author': 'david lee', 'publisher': 'mirae_it.co.kr', 'number': 23}\n",
      "{'_id': ObjectId('6333e154831ec95275745fa3'), 'author': 'david lee', 'publisher': 'mirae_it.co.kr', 'number': 24}\n",
      "{'_id': ObjectId('6333e154831ec95275745fa4'), 'author': 'david lee', 'publisher': 'mirae_it.co.kr', 'number': 25}\n",
      "{'_id': ObjectId('6333e154831ec95275745fa5'), 'author': 'david lee', 'publisher': 'mirae_it.co.kr', 'number': 26}\n",
      "{'_id': ObjectId('6333e154831ec95275745fa6'), 'author': 'david lee', 'publisher': 'mirae_it.co.kr', 'number': 27}\n",
      "{'_id': ObjectId('6333e154831ec95275745fa7'), 'author': 'david lee', 'publisher': 'mirae_it.co.kr', 'number': 28}\n",
      "{'_id': ObjectId('6333e154831ec95275745fa8'), 'author': 'david lee', 'publisher': 'mirae_it.co.kr', 'number': 29}\n",
      "{'_id': ObjectId('6333e154831ec95275745fa9'), 'author': 'david lee', 'publisher': 'mirae_it.co.kr', 'number': 30}\n",
      "{'_id': ObjectId('6333e154831ec95275745faa'), 'author': 'david lee', 'publisher': 'mirae_it.co.kr', 'number': 31}\n",
      "{'_id': ObjectId('6333e154831ec95275745fab'), 'author': 'david lee', 'publisher': 'mirae_it.co.kr', 'number': 32}\n",
      "{'_id': ObjectId('6333e154831ec95275745fac'), 'author': 'david lee', 'publisher': 'mirae_it.co.kr', 'number': 33}\n",
      "{'_id': ObjectId('6333e154831ec95275745fad'), 'author': 'david lee', 'publisher': 'mirae_it.co.kr', 'number': 34}\n",
      "{'_id': ObjectId('6333e154831ec95275745fae'), 'author': 'david lee', 'publisher': 'mirae_it.co.kr', 'number': 35}\n",
      "{'_id': ObjectId('6333e154831ec95275745faf'), 'author': 'david lee', 'publisher': 'mirae_it.co.kr', 'number': 36}\n",
      "{'_id': ObjectId('6333e154831ec95275745fb0'), 'author': 'david lee', 'publisher': 'mirae_it.co.kr', 'number': 37}\n",
      "{'_id': ObjectId('6333e154831ec95275745fb1'), 'author': 'david lee', 'publisher': 'mirae_it.co.kr', 'number': 38}\n",
      "{'_id': ObjectId('6333e154831ec95275745fb2'), 'author': 'david lee', 'publisher': 'mirae_it.co.kr', 'number': 39}\n",
      "{'_id': ObjectId('6333e154831ec95275745fb3'), 'author': 'david lee', 'publisher': 'mirae_it.co.kr', 'number': 40}\n",
      "{'_id': ObjectId('6333e154831ec95275745fb4'), 'author': 'david lee', 'publisher': 'mirae_it.co.kr', 'number': 41}\n",
      "{'_id': ObjectId('6333e154831ec95275745fb5'), 'author': 'david lee', 'publisher': 'mirae_it.co.kr', 'number': 42}\n",
      "{'_id': ObjectId('6333e154831ec95275745fb6'), 'author': 'david lee', 'publisher': 'mirae_it.co.kr', 'number': 43}\n",
      "{'_id': ObjectId('6333e154831ec95275745fb7'), 'author': 'david lee', 'publisher': 'mirae_it.co.kr', 'number': 44}\n",
      "{'_id': ObjectId('6333e154831ec95275745fb8'), 'author': 'david lee', 'publisher': 'mirae_it.co.kr', 'number': 45}\n",
      "{'_id': ObjectId('6333e154831ec95275745fb9'), 'author': 'david lee', 'publisher': 'mirae_it.co.kr', 'number': 46}\n",
      "{'_id': ObjectId('6333e154831ec95275745fba'), 'author': 'david lee', 'publisher': 'mirae_it.co.kr', 'number': 47}\n",
      "{'_id': ObjectId('6333e154831ec95275745fbb'), 'author': 'david lee', 'publisher': 'mirae_it.co.kr', 'number': 48}\n",
      "{'_id': ObjectId('6333e154831ec95275745fbc'), 'author': 'david lee', 'publisher': 'mirae_it.co.kr', 'number': 49}\n",
      "{'_id': ObjectId('6333e154831ec95275745fbd'), 'author': 'david lee', 'publisher': 'mirae_it.co.kr', 'number': 50}\n",
      "{'_id': ObjectId('6333e154831ec95275745fbe'), 'author': 'david lee', 'publisher': 'mirae_it.co.kr', 'number': 51}\n",
      "{'_id': ObjectId('6333e154831ec95275745fbf'), 'author': 'david lee', 'publisher': 'mirae_it.co.kr', 'number': 52}\n",
      "{'_id': ObjectId('6333e154831ec95275745fc0'), 'author': 'david lee', 'publisher': 'mirae_it.co.kr', 'number': 53}\n",
      "{'_id': ObjectId('6333e154831ec95275745fc1'), 'author': 'david lee', 'publisher': 'mirae_it.co.kr', 'number': 54}\n",
      "{'_id': ObjectId('6333e154831ec95275745fc2'), 'author': 'david lee', 'publisher': 'mirae_it.co.kr', 'number': 55}\n",
      "{'_id': ObjectId('6333e154831ec95275745fc3'), 'author': 'david lee', 'publisher': 'mirae_it.co.kr', 'number': 56}\n",
      "{'_id': ObjectId('6333e154831ec95275745fc4'), 'author': 'david lee', 'publisher': 'mirae_it.co.kr', 'number': 57}\n",
      "{'_id': ObjectId('6333e154831ec95275745fc5'), 'author': 'david lee', 'publisher': 'mirae_it.co.kr', 'number': 58}\n",
      "{'_id': ObjectId('6333e154831ec95275745fc6'), 'author': 'david lee', 'publisher': 'mirae_it.co.kr', 'number': 59}\n",
      "{'_id': ObjectId('6333e154831ec95275745fc7'), 'author': 'david lee', 'publisher': 'mirae_it.co.kr', 'number': 60}\n",
      "{'_id': ObjectId('6333e154831ec95275745fc8'), 'author': 'david lee', 'publisher': 'mirae_it.co.kr', 'number': 61}\n",
      "{'_id': ObjectId('6333e154831ec95275745fc9'), 'author': 'david lee', 'publisher': 'mirae_it.co.kr', 'number': 62}\n",
      "{'_id': ObjectId('6333e154831ec95275745fca'), 'author': 'david lee', 'publisher': 'mirae_it.co.kr', 'number': 63}\n",
      "{'_id': ObjectId('6333e154831ec95275745fcb'), 'author': 'david lee', 'publisher': 'mirae_it.co.kr', 'number': 64}\n",
      "{'_id': ObjectId('6333e154831ec95275745fcc'), 'author': 'david lee', 'publisher': 'mirae_it.co.kr', 'number': 65}\n",
      "{'_id': ObjectId('6333e154831ec95275745fcd'), 'author': 'david lee', 'publisher': 'mirae_it.co.kr', 'number': 66}\n",
      "{'_id': ObjectId('6333e154831ec95275745fce'), 'author': 'david lee', 'publisher': 'mirae_it.co.kr', 'number': 67}\n",
      "{'_id': ObjectId('6333e154831ec95275745fcf'), 'author': 'david lee', 'publisher': 'mirae_it.co.kr', 'number': 68}\n",
      "{'_id': ObjectId('6333e154831ec95275745fd0'), 'author': 'david lee', 'publisher': 'mirae_it.co.kr', 'number': 69}\n",
      "{'_id': ObjectId('6333e154831ec95275745fd1'), 'author': 'david lee', 'publisher': 'mirae_it.co.kr', 'number': 70}\n",
      "{'_id': ObjectId('6333e154831ec95275745fd2'), 'author': 'david lee', 'publisher': 'mirae_it.co.kr', 'number': 71}\n",
      "{'_id': ObjectId('6333e154831ec95275745fd3'), 'author': 'david lee', 'publisher': 'mirae_it.co.kr', 'number': 72}\n",
      "{'_id': ObjectId('6333e154831ec95275745fd4'), 'author': 'david lee', 'publisher': 'mirae_it.co.kr', 'number': 73}\n",
      "{'_id': ObjectId('6333e154831ec95275745fd5'), 'author': 'david lee', 'publisher': 'mirae_it.co.kr', 'number': 74}\n",
      "{'_id': ObjectId('6333e154831ec95275745fd6'), 'author': 'david lee', 'publisher': 'mirae_it.co.kr', 'number': 75}\n",
      "{'_id': ObjectId('6333e154831ec95275745fd7'), 'author': 'david lee', 'publisher': 'mirae_it.co.kr', 'number': 76}\n",
      "{'_id': ObjectId('6333e154831ec95275745fd8'), 'author': 'david lee', 'publisher': 'mirae_it.co.kr', 'number': 77}\n",
      "{'_id': ObjectId('6333e154831ec95275745fd9'), 'author': 'david lee', 'publisher': 'mirae_it.co.kr', 'number': 78}\n",
      "{'_id': ObjectId('6333e154831ec95275745fda'), 'author': 'david lee', 'publisher': 'mirae_it.co.kr', 'number': 79}\n",
      "{'_id': ObjectId('6333e154831ec95275745fdb'), 'author': 'david lee', 'publisher': 'mirae_it.co.kr', 'number': 80}\n",
      "{'_id': ObjectId('6333e154831ec95275745fdc'), 'author': 'david lee', 'publisher': 'mirae_it.co.kr', 'number': 81}\n",
      "{'_id': ObjectId('6333e154831ec95275745fdd'), 'author': 'david lee', 'publisher': 'mirae_it.co.kr', 'number': 82}\n",
      "{'_id': ObjectId('6333e154831ec95275745fde'), 'author': 'david lee', 'publisher': 'mirae_it.co.kr', 'number': 83}\n",
      "{'_id': ObjectId('6333e154831ec95275745fdf'), 'author': 'david lee', 'publisher': 'mirae_it.co.kr', 'number': 84}\n",
      "{'_id': ObjectId('6333e154831ec95275745fe0'), 'author': 'david lee', 'publisher': 'mirae_it.co.kr', 'number': 85}\n",
      "{'_id': ObjectId('6333e154831ec95275745fe1'), 'author': 'david lee', 'publisher': 'mirae_it.co.kr', 'number': 86}\n",
      "{'_id': ObjectId('6333e154831ec95275745fe2'), 'author': 'david lee', 'publisher': 'mirae_it.co.kr', 'number': 87}\n",
      "{'_id': ObjectId('6333e154831ec95275745fe3'), 'author': 'david lee', 'publisher': 'mirae_it.co.kr', 'number': 88}\n",
      "{'_id': ObjectId('6333e154831ec95275745fe4'), 'author': 'david lee', 'publisher': 'mirae_it.co.kr', 'number': 89}\n"
     ]
    }
   ],
   "source": [
    "results = book_col.find()\n",
    "\n",
    "for d in results:\n",
    "    print(d)"
   ]
  },
  {
   "cell_type": "code",
   "execution_count": 122,
   "id": "6c432f39",
   "metadata": {},
   "outputs": [],
   "source": [
    "#========================================"
   ]
  },
  {
   "cell_type": "code",
   "execution_count": 123,
   "id": "c6105071",
   "metadata": {},
   "outputs": [],
   "source": [
    "emp_col = book_db['emp_col']"
   ]
  },
  {
   "cell_type": "code",
   "execution_count": 124,
   "id": "b4134c4b",
   "metadata": {},
   "outputs": [
    {
     "data": {
      "text/plain": [
       "<pymongo.results.InsertManyResult at 0x1d333a45460>"
      ]
     },
     "execution_count": 124,
     "metadata": {},
     "output_type": "execute_result"
    }
   ],
   "source": [
    "# [\n",
    "#     {'userid':'bcd01', 'age':45, 'status':'A'},\n",
    "#     {'userid':'bcd02', 'age':25, 'status':'B'},\n",
    "#     {'userid':'bcd03', 'age':50, 'status':'A'},\n",
    "#     {'userid':'bcd04', 'age':35, 'status':'A'},\n",
    "#     {'userid':'bcd05', 'age':28, 'status':'B'}    \n",
    "# ]\n",
    "\n",
    "emp_col.insert_many([\n",
    "    {'userid':'bcd01', 'age':45, 'status':'A'},\n",
    "    {'userid':'bcd02', 'age':25, 'status':'B'},\n",
    "    {'userid':'bcd03', 'age':50, 'status':'A'},\n",
    "    {'userid':'bcd04', 'age':35, 'status':'A'},\n",
    "    {'userid':'bcd05', 'age':28, 'status':'B'}    \n",
    "])"
   ]
  },
  {
   "cell_type": "code",
   "execution_count": 125,
   "id": "4d86978a",
   "metadata": {
    "collapsed": true
   },
   "outputs": [
    {
     "name": "stdout",
     "output_type": "stream",
     "text": [
      "{'_id': ObjectId('6333e158831ec95275745ff0'), 'userid': 'bcd02', 'age': 25, 'status': 'B'}\n"
     ]
    }
   ],
   "source": [
    "results = emp_col.find({'userid':'bcd02'})\n",
    "for r in results:\n",
    "    print(r)"
   ]
  },
  {
   "cell_type": "code",
   "execution_count": 126,
   "id": "61d466a4",
   "metadata": {},
   "outputs": [
    {
     "name": "stdout",
     "output_type": "stream",
     "text": [
      "{'_id': ObjectId('6333e158831ec95275745ff2'), 'userid': 'bcd04', 'age': 35, 'status': 'A'}\n"
     ]
    }
   ],
   "source": [
    "results = emp_col.find({'age':35})\n",
    "for r in results:\n",
    "    print(r)"
   ]
  },
  {
   "cell_type": "code",
   "execution_count": null,
   "id": "2c05a1a1",
   "metadata": {},
   "outputs": [],
   "source": [
    "# results = emp_col.find({$and : [{'status':'A'}, {'age':25}})\n",
    "# for r in results:\n",
    "#     print(r)"
   ]
  },
  {
   "cell_type": "code",
   "execution_count": 129,
   "id": "ff20d89e",
   "metadata": {},
   "outputs": [
    {
     "name": "stdout",
     "output_type": "stream",
     "text": [
      "{'userid': 'bcd03', 'status': 'A'}\n"
     ]
    }
   ],
   "source": [
    "results = emp_col.find({}, {'userid':1, 'status':1})  # Select userid, status from emp_col: # 다른방법\n",
    "for r in results:\n",
    "    print(r)"
   ]
  },
  {
   "cell_type": "code",
   "execution_count": null,
   "id": "05703c97",
   "metadata": {},
   "outputs": [],
   "source": [
    "results = emp_col.find({}, {'userid':1, 'status':1, '_id':1}) #  select userid, _id status from emp_col: # 다른방법\n",
    "for r in results:\n",
    "    print(r)"
   ]
  },
  {
   "cell_type": "code",
   "execution_count": null,
   "id": "9fb70839",
   "metadata": {},
   "outputs": [],
   "source": [
    "results = emp_col.find({}, {'status':1, '_id':1}) #  select _id, status from emp_col: # 다른방법\n",
    "for r in results:\n",
    "    print(r)"
   ]
  },
  {
   "cell_type": "code",
   "execution_count": null,
   "id": "435859ab",
   "metadata": {},
   "outputs": [],
   "source": [
    "results = emp_col.find({'status':'A'}) # select * from emp_col where status='A': # 다른방법\n",
    "for r in results:\n",
    "    print(r)"
   ]
  },
  {
   "cell_type": "code",
   "execution_count": null,
   "id": "2aef2ad7",
   "metadata": {},
   "outputs": [],
   "source": [
    "results = emp_col.find({'status': 'A', 'age': 50}, {'_id': 1}) # select * from emp_col where status='A' and age=50: \n",
    "for r in results:\n",
    "    print(r)"
   ]
  },
  {
   "cell_type": "code",
   "execution_count": null,
   "id": "713aa6c6",
   "metadata": {},
   "outputs": [],
   "source": [
    "results = emp_col.find({'status': 'A', 'age': 50}, {'_id': 1}) # select * from emp_col where status='A' and age=50: \n",
    "for r in results:\n",
    "    print(r)"
   ]
  },
  {
   "cell_type": "code",
   "execution_count": null,
   "id": "17985bf5",
   "metadata": {},
   "outputs": [],
   "source": [
    "results = emp_col.find({'status': 'A', 'age': 50}, {'_id': 0, 'userid':1, 'status':1}) # select * from emp_col where status='A' and age=50: \n",
    "for r in results:\n",
    "    print(r)"
   ]
  },
  {
   "cell_type": "code",
   "execution_count": null,
   "id": "1568d0c8",
   "metadata": {},
   "outputs": [],
   "source": [
    "# _id는 default값으로 출력\n",
    "# _id를 제외할때는 '_id  : 0'\n",
    "# 특정한 key만 출력하는경우 : 'key : 1' => 지정된  key만 출력"
   ]
  },
  {
   "cell_type": "code",
   "execution_count": null,
   "id": "04c0e2e5",
   "metadata": {},
   "outputs": [],
   "source": [
    "results = emp_col.find({'status':'A', 'age':50}, {'_id':0, 'userid':1}) # '_id':0 = id값 제거\n",
    "for r in results:\n",
    "    print(r)"
   ]
  },
  {
   "cell_type": "code",
   "execution_count": 200,
   "id": "1ae658a4",
   "metadata": {},
   "outputs": [
    {
     "name": "stdout",
     "output_type": "stream",
     "text": [
      "{'_id': ObjectId('6333e158831ec95275745ff1'), 'userid': 'bcd03'}\n"
     ]
    }
   ],
   "source": [
    "results = emp_col.find({'status': 'A', 'age': 50}, {'userid':1}) # select * from emp_col where status='A' and age=50: \n",
    "for r in results:\n",
    "    print(r)"
   ]
  },
  {
   "cell_type": "code",
   "execution_count": null,
   "id": "b1c281c2",
   "metadata": {},
   "outputs": [],
   "source": [
    "!!!!! 비교문법 !!!!!\n",
    "\n",
    "- $eq : = : 같다\n",
    "- $gt : > : 크다\n",
    "- $gte : >= : 크거나 같다\n",
    "- $in : 포함한다 \n",
    "- $lt : < : 작다\n",
    "- $lte : <= : 작거나 같다\n",
    "- $ne : != : 같지않다\n",
    "- $nin : not in : 포함되지 않는다"
   ]
  },
  {
   "cell_type": "code",
   "execution_count": 136,
   "id": "77d19976",
   "metadata": {},
   "outputs": [
    {
     "name": "stdout",
     "output_type": "stream",
     "text": [
      "{'_id': ObjectId('6333e158831ec95275745fef'), 'userid': 'bcd01', 'age': 45, 'status': 'A'}\n",
      "{'_id': ObjectId('6333e158831ec95275745ff1'), 'userid': 'bcd03', 'age': 50, 'status': 'A'}\n",
      "{'_id': ObjectId('6333e158831ec95275745ff2'), 'userid': 'bcd04', 'age': 35, 'status': 'A'}\n",
      "{'_id': ObjectId('6333e158831ec95275745ff3'), 'userid': 'bcd05', 'age': 28, 'status': 'B'}\n"
     ]
    }
   ],
   "source": [
    "results = emp_col.find({'age':{'$gt' : 25}}) # 25 보다 나이가 많은사람\n",
    "for r in results:\n",
    "    print(r)"
   ]
  },
  {
   "cell_type": "code",
   "execution_count": 137,
   "id": "052c8607",
   "metadata": {},
   "outputs": [
    {
     "name": "stdout",
     "output_type": "stream",
     "text": [
      "{'_id': ObjectId('6333e158831ec95275745ff0'), 'userid': 'bcd02', 'age': 25, 'status': 'B'}\n",
      "{'_id': ObjectId('6333e158831ec95275745ff2'), 'userid': 'bcd04', 'age': 35, 'status': 'A'}\n",
      "{'_id': ObjectId('6333e158831ec95275745ff3'), 'userid': 'bcd05', 'age': 28, 'status': 'B'}\n"
     ]
    }
   ],
   "source": [
    "results = emp_col.find({'age':{'$lt' : 40}}) # 40 보다 나이가 적은사람\n",
    "for r in results:\n",
    "    print(r)"
   ]
  },
  {
   "cell_type": "code",
   "execution_count": 138,
   "id": "3015f1d6",
   "metadata": {},
   "outputs": [
    {
     "name": "stdout",
     "output_type": "stream",
     "text": [
      "{'_id': ObjectId('6333e158831ec95275745ff2'), 'userid': 'bcd04', 'age': 35, 'status': 'A'}\n",
      "{'_id': ObjectId('6333e158831ec95275745ff3'), 'userid': 'bcd05', 'age': 28, 'status': 'B'}\n"
     ]
    }
   ],
   "source": [
    "results = emp_col.find({'age':{'$gt':25, '$lt':40}}) # 나이가 25살보다 많고 40보다 적은사람\n",
    "for r in results:\n",
    "    print(r)"
   ]
  },
  {
   "cell_type": "code",
   "execution_count": 142,
   "id": "dc43a562",
   "metadata": {},
   "outputs": [
    {
     "name": "stdout",
     "output_type": "stream",
     "text": [
      "{'_id': ObjectId('6333e158831ec95275745fef'), 'userid': 'bcd01', 'age': 45, 'status': 'A'}\n",
      "{'_id': ObjectId('6333e158831ec95275745ff2'), 'userid': 'bcd04', 'age': 35, 'status': 'A'}\n",
      "{'_id': ObjectId('6333e158831ec95275745ff3'), 'userid': 'bcd05', 'age': 28, 'status': 'B'}\n"
     ]
    }
   ],
   "source": [
    "results = emp_col.find({'age':{'$nin':[25,50]}}) # 나이가 25 살과 40살이 아닌사람\n",
    "for r in results:\n",
    "    print(r)"
   ]
  },
  {
   "cell_type": "code",
   "execution_count": 202,
   "id": "cd04ea80",
   "metadata": {
    "scrolled": true
   },
   "outputs": [
    {
     "name": "stdout",
     "output_type": "stream",
     "text": [
      "{'_id': ObjectId('6333e158831ec95275745fef'), 'userid': 'bcd01', 'age': 45, 'status': 'A'}\n",
      "{'_id': ObjectId('6333e158831ec95275745ff0'), 'userid': 'bcd02', 'age': 25, 'status': 'B'}\n",
      "{'_id': ObjectId('6333e158831ec95275745ff1'), 'userid': 'bcd03', 'age': 50, 'status': 'A'}\n",
      "{'_id': ObjectId('6333e158831ec95275745ff2'), 'userid': 'bcd04', 'age': 35, 'status': 'A'}\n",
      "{'_id': ObjectId('6333e158831ec95275745ff3'), 'userid': 'bcd05', 'age': 28, 'status': 'B'}\n"
     ]
    }
   ],
   "source": [
    "results = emp_col.find({ 'userid': {'$regex': 'bc'}})# userid에 bc가 포함된 다큐먼트만 출력 \n",
    "for r in results:\n",
    "    print(r)\n",
    "    \n",
    "# sql = select * from emp_col where userid like bc%;와 같은 표현"
   ]
  },
  {
   "cell_type": "code",
   "execution_count": 203,
   "id": "7167cf30",
   "metadata": {},
   "outputs": [
    {
     "name": "stdout",
     "output_type": "stream",
     "text": [
      "{'_id': ObjectId('6333e158831ec95275745fef'), 'userid': 'bcd01', 'age': 45, 'status': 'A'}\n",
      "{'_id': ObjectId('6333e158831ec95275745ff0'), 'userid': 'bcd02', 'age': 25, 'status': 'B'}\n",
      "{'_id': ObjectId('6333e158831ec95275745ff1'), 'userid': 'bcd03', 'age': 50, 'status': 'A'}\n",
      "{'_id': ObjectId('6333e158831ec95275745ff2'), 'userid': 'bcd04', 'age': 35, 'status': 'A'}\n",
      "{'_id': ObjectId('6333e158831ec95275745ff3'), 'userid': 'bcd05', 'age': 28, 'status': 'B'}\n"
     ]
    }
   ],
   "source": [
    "results = emp_col.find({ 'userid': {'$regex': '^bc'}})  # userid에 bc로 시작하는 doc\n",
    "for r in results:\n",
    "    print(r)\n",
    "    \n",
    "# select * from emp_col where userid like bc%;"
   ]
  },
  {
   "cell_type": "code",
   "execution_count": 144,
   "id": "970d8b63",
   "metadata": {
    "collapsed": true
   },
   "outputs": [
    {
     "ename": "NameError",
     "evalue": "name 'A' is not defined",
     "output_type": "error",
     "traceback": [
      "\u001b[1;31m---------------------------------------------------------------------------\u001b[0m",
      "\u001b[1;31mNameError\u001b[0m                                 Traceback (most recent call last)",
      "Input \u001b[1;32mIn [144]\u001b[0m, in \u001b[0;36m<cell line: 1>\u001b[1;34m()\u001b[0m\n\u001b[1;32m----> 1\u001b[0m results \u001b[38;5;241m=\u001b[39m emp_col\u001b[38;5;241m.\u001b[39mfind({\u001b[38;5;124m'\u001b[39m\u001b[38;5;124mstatus\u001b[39m\u001b[38;5;124m'\u001b[39m:\u001b[43mA\u001b[49m})\u001b[38;5;241m.\u001b[39msort({\u001b[38;5;124m'\u001b[39m\u001b[38;5;124muserid\u001b[39m\u001b[38;5;124m'\u001b[39m:\u001b[38;5;241m1\u001b[39m}) \u001b[38;5;66;03m# userid에 bc가 포함된 다큐먼트만 출력 = select * from emp_col where userid like bc%;와 같은 표현\u001b[39;00m\n\u001b[0;32m      2\u001b[0m \u001b[38;5;28;01mfor\u001b[39;00m r \u001b[38;5;129;01min\u001b[39;00m results:                                    \n\u001b[0;32m      3\u001b[0m     \u001b[38;5;28mprint\u001b[39m(r)\n",
      "\u001b[1;31mNameError\u001b[0m: name 'A' is not defined"
     ]
    }
   ],
   "source": [
    "# results = emp_col.find({'status':'A'}).sort({'userid':1})  # 올림차순\n",
    "# for r in results:\n",
    "#     print(r) # 에러뜸"
   ]
  },
  {
   "cell_type": "code",
   "execution_count": null,
   "id": "2227b079",
   "metadata": {},
   "outputs": [],
   "source": [
    "# results = emp_col.find({'status':'A'}).sort({'userid':-1})  # 내림차순\n",
    "# for r in results:\n",
    "#     print(r) # 에러뜸"
   ]
  },
  {
   "cell_type": "code",
   "execution_count": 205,
   "id": "5670099a",
   "metadata": {
    "collapsed": true
   },
   "outputs": [
    {
     "name": "stdout",
     "output_type": "stream",
     "text": [
      "{'_id': ObjectId('6333e158831ec95275745fef'), 'userid': 'bcd01', 'age': 45, 'status': 'A'}\n",
      "{'_id': ObjectId('6333e158831ec95275745ff0'), 'userid': 'bcd02', 'age': 25, 'status': 'B'}\n",
      "{'_id': ObjectId('6333e158831ec95275745ff1'), 'userid': 'bcd03', 'age': 50, 'status': 'A'}\n",
      "{'_id': ObjectId('6333e158831ec95275745ff2'), 'userid': 'bcd04', 'age': 35, 'status': 'A'}\n",
      "{'_id': ObjectId('6333e158831ec95275745ff3'), 'userid': 'bcd05', 'age': 28, 'status': 'B'}\n"
     ]
    }
   ],
   "source": [
    "results = emp_col.find({'userid': {'$exists': True}})  # userid가 존재하는 다큐먼트만 출력\n",
    "for r in results:\n",
    "    print(r)"
   ]
  },
  {
   "cell_type": "code",
   "execution_count": 206,
   "id": "63891dd5",
   "metadata": {
    "collapsed": true
   },
   "outputs": [
    {
     "name": "stdout",
     "output_type": "stream",
     "text": [
      "A\n",
      "B\n"
     ]
    }
   ],
   "source": [
    "results = emp_col.distinct('status')  # distinct 값의 unique값을 출력..\n",
    "for r in results:\n",
    "    print(r)"
   ]
  },
  {
   "cell_type": "code",
   "execution_count": 207,
   "id": "fe84a548",
   "metadata": {
    "collapsed": true
   },
   "outputs": [
    {
     "name": "stdout",
     "output_type": "stream",
     "text": [
      "{'_id': ObjectId('6333e158831ec95275745fef'), 'userid': 'bcd01', 'age': 45, 'status': 'A'}\n",
      "{'_id': ObjectId('6333e158831ec95275745ff0'), 'userid': 'bcd02', 'age': 25, 'status': 'B'}\n",
      "{'_id': ObjectId('6333e158831ec95275745ff1'), 'userid': 'bcd03', 'age': 50, 'status': 'A'}\n",
      "{'_id': ObjectId('6333e158831ec95275745ff2'), 'userid': 'bcd04', 'age': 35, 'status': 'A'}\n"
     ]
    }
   ],
   "source": [
    "results = emp_col.find({ '$or': [{'status':'A'}, {'age':25}]})\n",
    "for r in results:\n",
    "    print(r)"
   ]
  },
  {
   "cell_type": "code",
   "execution_count": null,
   "id": "e5702838",
   "metadata": {},
   "outputs": [],
   "source": [
    "# http://www.cine21.com/rank/person"
   ]
  },
  {
   "cell_type": "code",
   "execution_count": 14,
   "id": "a6aa4d27",
   "metadata": {},
   "outputs": [],
   "source": [
    "import pandas as pd\n",
    "import numpy as np\n",
    "import requests as r\n",
    "from bs4 import BeautifulSoup as bs\n",
    "from selenium import webdriver as w\n",
    "import time\n",
    "from selenium.webdriver.common.by import By"
   ]
  },
  {
   "cell_type": "code",
   "execution_count": 6,
   "id": "7261b6ac",
   "metadata": {},
   "outputs": [],
   "source": [
    "url = 'http://www.cine21.com/rank/person'"
   ]
  },
  {
   "cell_type": "code",
   "execution_count": 7,
   "id": "1778b10d",
   "metadata": {},
   "outputs": [],
   "source": [
    "driver = w.Chrome()\n",
    "driver.get(url)\n",
    "html = driver.page_source"
   ]
  },
  {
   "cell_type": "code",
   "execution_count": 8,
   "id": "d02e29d6",
   "metadata": {},
   "outputs": [],
   "source": [
    "soup = bs(html, 'html.parser')"
   ]
  },
  {
   "cell_type": "code",
   "execution_count": 9,
   "id": "454b3003",
   "metadata": {},
   "outputs": [],
   "source": [
    "lis = soup.select('div#rank_holder > ul.people_list > li.people_li')"
   ]
  },
  {
   "cell_type": "code",
   "execution_count": 230,
   "id": "37b35990",
   "metadata": {},
   "outputs": [],
   "source": [
    "# res = r.get(url) \n",
    "# soup= bs(res.text, 'html.parser')\n",
    "# lis = soup.select('div#rank_holder > ul.people_list > li.people_li')"
   ]
  },
  {
   "cell_type": "code",
   "execution_count": 160,
   "id": "74e8f47a",
   "metadata": {
    "scrolled": false
   },
   "outputs": [
    {
     "data": {
      "text/plain": [
       "[]"
      ]
     },
     "execution_count": 160,
     "metadata": {},
     "output_type": "execute_result"
    }
   ],
   "source": [
    "# soup.select('div#rank_holder > ul.people_list > li.people_li') # 리퀘스트 막힘"
   ]
  },
  {
   "cell_type": "code",
   "execution_count": 10,
   "id": "8c41f3cb",
   "metadata": {},
   "outputs": [
    {
     "name": "stdout",
     "output_type": "stream",
     "text": [
      "현빈(2편)\n",
      "유해진(2편)\n",
      "임윤아(2편)\n",
      "정우성(2편)\n",
      "이정재(2편)\n",
      "박해일(3편)\n",
      "전혜진(2편)\n"
     ]
    }
   ],
   "source": [
    "path = 'div.name > a'\n",
    "main_url = 'http://www.cine21.com'\n",
    "\n",
    "for li in lis:\n",
    "    print(li.select(path)[0].text)\n",
    "    print(main_url + li.select(path)[0]['href'])    "
   ]
  },
  {
   "cell_type": "code",
   "execution_count": 12,
   "id": "ea37312e",
   "metadata": {
    "scrolled": true
   },
   "outputs": [
    {
     "name": "stdout",
     "output_type": "stream",
     "text": [
      "현빈(2편)\n",
      "유해진(2편)\n",
      "임윤아(2편)\n",
      "정우성(2편)\n",
      "이정재(2편)\n",
      "박해일(3편)\n",
      "전혜진(2편)\n"
     ]
    }
   ],
   "source": [
    "path = 'div.name > a'\n",
    "main_url = 'http://www.cine21.com'\n",
    "\n",
    "for li in lis:\n",
    "    print(li.select('span.grade')[0].text)"
   ]
  },
  {
   "cell_type": "code",
   "execution_count": null,
   "id": "f82a530b",
   "metadata": {},
   "outputs": [],
   "source": [
    "path = 'div.name > a'\n",
    "main_url = 'http://www.cine21.com'\n",
    "\n",
    "for li in lis:\n",
    "    print(int(li.select('strong')[0].text.replace(',', '')))"
   ]
  },
  {
   "cell_type": "code",
   "execution_count": 13,
   "id": "59c5ddcf",
   "metadata": {
    "collapsed": true
   },
   "outputs": [
    {
     "name": "stdout",
     "output_type": "stream",
     "text": [
      "공조2: 인터내셔날\n",
      "공조\n",
      "------------\n",
      "공조2: 인터내셔날\n",
      "공조\n",
      "------------\n",
      "공조2: 인터내셔날\n",
      "공조\n",
      "------------\n",
      "헌트\n",
      "증인\n",
      "------------\n",
      "헌트\n",
      "젊은 남자\n",
      "------------\n",
      "한산: 용의 출현\n",
      "헤어질 결심\n",
      "후아유\n",
      "------------\n",
      "헌트\n",
      "시인의 사랑\n",
      "------------\n"
     ]
    }
   ],
   "source": [
    "path = 'ul.mov_list > li span'\n",
    "for li in lis:\n",
    "    spans = li.select(path)\n",
    "    movies = []\n",
    "    for span in spans:\n",
    "        print(span.text)\n",
    "    print('======================')"
   ]
  },
  {
   "cell_type": "code",
   "execution_count": 14,
   "id": "4867c725",
   "metadata": {
    "collapsed": true
   },
   "outputs": [
    {
     "name": "stdout",
     "output_type": "stream",
     "text": [
      "http://www.cine21.com/db/person/info/?person_id=20745\n",
      "http://www.cine21.com/db/person/info/?person_id=15757\n",
      "http://www.cine21.com/db/person/info/?person_id=66313\n",
      "http://www.cine21.com/db/person/info/?person_id=1533\n",
      "http://www.cine21.com/db/person/info/?person_id=1075\n",
      "http://www.cine21.com/db/person/info/?person_id=15222\n",
      "http://www.cine21.com/db/person/info/?person_id=11198\n"
     ]
    }
   ],
   "source": [
    "main_url = 'http://www.cine21.com'\n",
    "path = 'div.name > a'\n",
    "for li in lis:\n",
    "    print(main_url + li.select(path)[0]['href'])"
   ]
  },
  {
   "cell_type": "code",
   "execution_count": 15,
   "id": "0c63582a",
   "metadata": {},
   "outputs": [],
   "source": [
    "res = r.get('http://www.cine21.com/db/person/info/?person_id=11198')\n",
    "soup = bs(res.text, 'html.parser')"
   ]
  },
  {
   "cell_type": "code",
   "execution_count": 16,
   "id": "d0a1f3b1",
   "metadata": {},
   "outputs": [],
   "source": [
    "lis = soup.select('ul.default_info > li')"
   ]
  },
  {
   "cell_type": "code",
   "execution_count": 17,
   "id": "e7c9ba56",
   "metadata": {
    "collapsed": true
   },
   "outputs": [
    {
     "name": "stdout",
     "output_type": "stream",
     "text": [
      "다른 이름 : 전이다\n",
      "직업 : 배우\n",
      "생년월일 : 1976-08-10\n",
      "성별 : 여\n",
      "신장/체중 : 171cm, 49kg\n",
      "학교 : 상명대 영화과\n",
      "취미 : 영화감상, 노래 부르기\n",
      "특기 : 수영\n",
      "소속사 : 호두엔터테인먼트\n"
     ]
    }
   ],
   "source": [
    "for li in lis:\n",
    "    key = li.select('span')[0].text\n",
    "    txt = li.text\n",
    "\n",
    "    val = txt.replace(key, '')\n",
    "    print(key, ':', val)"
   ]
  },
  {
   "cell_type": "code",
   "execution_count": null,
   "id": "90b6dd6a",
   "metadata": {},
   "outputs": [],
   "source": [
    "for li in lis:\n",
    "    key = li.select('span')[0].text\n",
    "#     print(key)\n",
    "    val = li.text.replace(key, '')\n",
    "    print(key, ':', val)"
   ]
  },
  {
   "cell_type": "code",
   "execution_count": 18,
   "id": "41e26fef",
   "metadata": {
    "collapsed": true
   },
   "outputs": [
    {
     "name": "stdout",
     "output_type": "stream",
     "text": [
      "1\n",
      "[<a href=\"/db/person/info/?person_id=20745\">현빈(2편)</a>]\n",
      "2\n",
      "[<a href=\"/db/person/info/?person_id=15757\">유해진(2편)</a>]\n",
      "3\n",
      "[<a href=\"/db/person/info/?person_id=66313\">임윤아(2편)</a>]\n",
      "4\n",
      "[<a href=\"/db/person/info/?person_id=1533\">정우성(2편)</a>]\n",
      "5\n",
      "[<a href=\"/db/person/info/?person_id=1075\">이정재(2편)</a>]\n",
      "6\n",
      "[<a href=\"/db/person/info/?person_id=15222\">박해일(3편)</a>]\n",
      "7\n",
      "[<a href=\"/db/person/info/?person_id=11198\">전혜진(2편)</a>]\n"
     ]
    }
   ],
   "source": [
    "url = 'http://www.cine21.com/rank/person'\n",
    "\n",
    "driver = w.Chrome()\n",
    "driver.get(url)\n",
    "driver.implicitly_wait(1) # time대신 명시적 대기 \n",
    "\n",
    "html = driver.page_source\n",
    "soup = bs(html, 'html.parser')\n",
    "\n",
    "lis = soup.select('div#rank_holder > ul.people_list > li.people_li')\n",
    "\n",
    "actors = [] # 배우를 리스트에 담는다\n",
    "\n",
    "count = 0\n",
    "\n",
    "for li in lis:\n",
    "    count += 1\n",
    "    print(count)\n",
    "\n",
    "    actor = {}\n",
    "\n",
    "    # title\n",
    "    path = 'div.name > a'\n",
    "    title = li.select(path)[0].text\n",
    "\n",
    "    actor['title'] = title\n",
    "\n",
    "    # 출연영화 목록\n",
    "    path = 'ul.mov_list > li span'\n",
    "\n",
    "\n",
    "    spans = li.select(path)\n",
    "    movies_list = []\n",
    "    for span in spans:\n",
    "        movies_list.append(span.text)\n",
    "\n",
    "    actor['movies'] = movies_list\n",
    "\n",
    "    # 상세정보\n",
    "    main_url = 'http://www.cine21.com'\n",
    "    path = 'div.name > a'    \n",
    "\n",
    "    print(li.select(path))\n",
    "    \n",
    "    # 상세 페이지 url\n",
    "    sub_page_url = main_url + li.select(path)[0]['href']\n",
    "\n",
    "    res = r.get(sub_page_url)\n",
    "    soup = bs(res.text, 'html.parser')\n",
    "\n",
    "    # 상세정보가 들어있는 li\n",
    "    lis = soup.select('ul.default_info > li')\n",
    "\n",
    "    # 상세 정보들\n",
    "    for li in lis:\n",
    "        key = li.select('span')[0].text\n",
    "    #     print(key)\n",
    "        val = li.text.replace(key, '')\n",
    "#         print(key, ':', val)\n",
    "\n",
    "        actor[key] = val\n",
    "\n",
    "    actors.append(actor)\n"
   ]
  },
  {
   "cell_type": "code",
   "execution_count": 19,
   "id": "0dd8ad6b",
   "metadata": {
    "collapsed": true
   },
   "outputs": [
    {
     "data": {
      "text/plain": [
       "[{'title': '현빈(2편)',\n",
       "  'movies': ['공조2: 인터내셔날', '공조'],\n",
       "  '원어명': '玄彬',\n",
       "  '다른 이름': '김태평',\n",
       "  '직업': '배우',\n",
       "  '생년월일': '1982-09-25',\n",
       "  '성별': '남',\n",
       "  '홈페이지': '\\nhttp://www.vastenm.com/\\n',\n",
       "  '신장/체중': '184cm, 74kg',\n",
       "  '학교': '중앙대 연극영화 졸업, 중앙대 예술 대학원 공연영상학과 재학 중',\n",
       "  '취미': '수영, 농구, 야구',\n",
       "  '특기': '스노우보드, 사진',\n",
       "  '소속사': 'VAST엔터테인먼트'},\n",
       " {'title': '유해진(2편)',\n",
       "  'movies': ['공조2: 인터내셔날', '공조'],\n",
       "  '직업': '배우',\n",
       "  '생년월일': '1969-01-04',\n",
       "  '성별': '남',\n",
       "  '신장/체중': '174cm, 65kg',\n",
       "  '학교': '서울예술대학 연극과',\n",
       "  '소속사': '심엔터테인먼트'},\n",
       " {'title': '임윤아(2편)',\n",
       "  'movies': ['공조2: 인터내셔날', '공조'],\n",
       "  '다른 이름': '소녀시대; girlsgeneration; girls generation',\n",
       "  '직업': '가수',\n",
       "  '생년월일': '1990-05-30',\n",
       "  '성별': '여',\n",
       "  '홈페이지': '\\nhttps://www.instagram.com/yoona__lim/\\n',\n",
       "  '소속사': 'SM엔터테인먼트'},\n",
       " {'title': '정우성(2편)',\n",
       "  'movies': ['헌트', '증인'],\n",
       "  '직업': '배우',\n",
       "  '생년월일': '1973-03-20',\n",
       "  '성별': '남',\n",
       "  '홈페이지': '\\nhttp://www.artistcompany.co.kr/portfolio-item/jung-woo-sung/\\n',\n",
       "  '소속사': '아티스트컴퍼니'},\n",
       " {'title': '이정재(2편)',\n",
       "  'movies': ['헌트', '젊은 남자'],\n",
       "  '직업': '배우',\n",
       "  '성별': '남',\n",
       "  '홈페이지': '\\nhttp://www.artistcompany.co.kr/portfolio-item/lee-jung-jae/\\n',\n",
       "  '소속사': '아티스트컴퍼니'},\n",
       " {'title': '박해일(3편)',\n",
       "  'movies': ['한산: 용의 출현', '헤어질 결심', '후아유'],\n",
       "  '직업': '배우',\n",
       "  '생년월일': '1977-01-26',\n",
       "  '성별': '남',\n",
       "  '신장/체중': '177cm, 65kg',\n",
       "  '학교': '남서울대 영어학 (중퇴)',\n",
       "  '취미': '영화감상, 음악감상, 컴퓨터게임',\n",
       "  '특기': '노래, 기타연주, 탁구, 야구',\n",
       "  '소속사': '휴메인엔터테인먼트'},\n",
       " {'title': '전혜진(2편)',\n",
       "  'movies': ['헌트', '시인의 사랑'],\n",
       "  '다른 이름': '전이다',\n",
       "  '직업': '배우',\n",
       "  '생년월일': '1976-08-10',\n",
       "  '성별': '여',\n",
       "  '신장/체중': '171cm, 49kg',\n",
       "  '학교': '상명대 영화과',\n",
       "  '취미': '영화감상, 노래 부르기',\n",
       "  '특기': '수영',\n",
       "  '소속사': '호두엔터테인먼트'}]"
      ]
     },
     "execution_count": 19,
     "metadata": {},
     "output_type": "execute_result"
    }
   ],
   "source": [
    "actors"
   ]
  },
  {
   "cell_type": "code",
   "execution_count": 27,
   "id": "c3e1ae33",
   "metadata": {},
   "outputs": [],
   "source": [
    "actor_db = conn['cinema_actors']\n",
    "actor_col = actor_db['actor_col']"
   ]
  },
  {
   "cell_type": "code",
   "execution_count": 28,
   "id": "9017419f",
   "metadata": {},
   "outputs": [
    {
     "data": {
      "text/plain": [
       "<pymongo.results.InsertManyResult at 0x237fe6cefa0>"
      ]
     },
     "execution_count": 28,
     "metadata": {},
     "output_type": "execute_result"
    }
   ],
   "source": [
    "actor_col.insert_many(actors)"
   ]
  },
  {
   "cell_type": "code",
   "execution_count": 29,
   "id": "dd8181f8",
   "metadata": {
    "collapsed": true
   },
   "outputs": [
    {
     "name": "stdout",
     "output_type": "stream",
     "text": [
      "{'_id': ObjectId('6333fcf217c1175f43800f7b'), 'title': '현빈(2편)', 'movies': ['공조2: 인터내셔날', '공조'], '원어명': '玄彬', '다른 이름': '김태평', '직업': '배우', '생년월일': '1982-09-25', '성별': '남', '홈페이지': '\\nhttp://www.vastenm.com/\\n', '신장/체중': '184cm, 74kg', '학교': '중앙대 연극영화 졸업, 중앙대 예술 대학원 공연영상학과 재학 중', '취미': '수영, 농구, 야구', '특기': '스노우보드, 사진', '소속사': 'VAST엔터테인먼트'}\n",
      "{'_id': ObjectId('6333fcf217c1175f43800f7c'), 'title': '유해진(2편)', 'movies': ['공조2: 인터내셔날', '공조'], '직업': '배우', '생년월일': '1969-01-04', '성별': '남', '신장/체중': '174cm, 65kg', '학교': '서울예술대학 연극과', '소속사': '심엔터테인먼트'}\n",
      "{'_id': ObjectId('6333fcf217c1175f43800f7d'), 'title': '임윤아(2편)', 'movies': ['공조2: 인터내셔날', '공조'], '다른 이름': '소녀시대; girlsgeneration; girls generation', '직업': '가수', '생년월일': '1990-05-30', '성별': '여', '홈페이지': '\\nhttps://www.instagram.com/yoona__lim/\\n', '소속사': 'SM엔터테인먼트'}\n",
      "{'_id': ObjectId('6333fcf217c1175f43800f7e'), 'title': '정우성(2편)', 'movies': ['헌트', '증인'], '직업': '배우', '생년월일': '1973-03-20', '성별': '남', '홈페이지': '\\nhttp://www.artistcompany.co.kr/portfolio-item/jung-woo-sung/\\n', '소속사': '아티스트컴퍼니'}\n",
      "{'_id': ObjectId('6333fcf217c1175f43800f7f'), 'title': '이정재(2편)', 'movies': ['헌트', '젊은 남자'], '직업': '배우', '성별': '남', '홈페이지': '\\nhttp://www.artistcompany.co.kr/portfolio-item/lee-jung-jae/\\n', '소속사': '아티스트컴퍼니'}\n",
      "{'_id': ObjectId('6333fcf217c1175f43800f80'), 'title': '박해일(3편)', 'movies': ['한산: 용의 출현', '헤어질 결심', '후아유'], '직업': '배우', '생년월일': '1977-01-26', '성별': '남', '신장/체중': '177cm, 65kg', '학교': '남서울대 영어학 (중퇴)', '취미': '영화감상, 음악감상, 컴퓨터게임', '특기': '노래, 기타연주, 탁구, 야구', '소속사': '휴메인엔터테인먼트'}\n",
      "{'_id': ObjectId('6333fcf217c1175f43800f81'), 'title': '전혜진(2편)', 'movies': ['헌트', '시인의 사랑'], '다른 이름': '전이다', '직업': '배우', '생년월일': '1976-08-10', '성별': '여', '신장/체중': '171cm, 49kg', '학교': '상명대 영화과', '취미': '영화감상, 노래 부르기', '특기': '수영', '소속사': '호두엔터테인먼트'}\n"
     ]
    }
   ],
   "source": [
    "results = actor_col.find()\n",
    "for r in results:\n",
    "    print(r)"
   ]
  },
  {
   "cell_type": "code",
   "execution_count": null,
   "id": "d03bb7d7",
   "metadata": {},
   "outputs": [],
   "source": [
    "# 한페이지 크롤링\n",
    "\n",
    "\n",
    "url = 'http://www.cine21.com/rank/person'\n",
    "\n",
    "driver = webdriver.Chrome()\n",
    "driver.get(url)\n",
    "driver.implicitly_wait(1)\n",
    "\n",
    "html = driver.page_source\n",
    "soup = bs(html, 'html.parser')\n",
    "\n",
    "lis = soup.select('div#rank_holder > ul.people_list > li.people_li')\n",
    "\n",
    "actors = []\n",
    "\n",
    "count = 0\n",
    "\n",
    "for li in lis:\n",
    "    count += 1\n",
    "    print(count)\n",
    "\n",
    "    actor = {}\n",
    "\n",
    "    # title\n",
    "    path = 'div.name > a'\n",
    "    title = li.select(path)[0].text\n",
    "\n",
    "    actor['title'] = title\n",
    "\n",
    "    # 출연영화 목록\n",
    "    path = 'ul.mov_list > li span'\n",
    "\n",
    "\n",
    "    spans = li.select(path)\n",
    "    movies_list = []\n",
    "    for span in spans:\n",
    "        movies_list.append(span.text)\n",
    "\n",
    "    actor['movies'] = movies_list\n",
    "    \n",
    "    # ranking정보\n",
    "    ranking = li.select('span.grade')[0].text\n",
    "    actor['ranking'] = ranking\n",
    "    \n",
    "    # 흥행지수\n",
    "    popular_idx = int(li.select('strong')[0].text.replace(',', ''))\n",
    "    actor['popular'] = popular_idx    \n",
    "\n",
    "    # 상세정보\n",
    "    main_url = 'http://www.cine21.com'\n",
    "    path = 'div.name > a'    \n",
    "\n",
    "\n",
    "    # 상세 페이지 url\n",
    "    sub_page_url = main_url + li.select(path)[0]['href']\n",
    "\n",
    "    res = r.get(sub_page_url)\n",
    "    soup = bs(res.text, 'html.parser')\n",
    "\n",
    "    # 상세정보가 들어있는 li들...\n",
    "    lis = soup.select('ul.default_info > li')\n",
    "\n",
    "    # 상세 정보들\n",
    "    for li in lis:\n",
    "        key = li.select('span')[0].text\n",
    "        val = li.text.replace(key, '')\n",
    "\n",
    "        actor[key] = val\n",
    "\n",
    "    actors.append(actor)\n",
    "    \n",
    "driver.close()"
   ]
  },
  {
   "cell_type": "code",
   "execution_count": null,
   "id": "e2609475",
   "metadata": {},
   "outputs": [],
   "source": [
    "actors"
   ]
  },
  {
   "cell_type": "code",
   "execution_count": null,
   "id": "80fe5d10",
   "metadata": {},
   "outputs": [],
   "source": [
    "conn = pymongo.MongoClient()"
   ]
  },
  {
   "cell_type": "code",
   "execution_count": null,
   "id": "0e806056",
   "metadata": {},
   "outputs": [],
   "source": [
    "actor_db = conn['cinema_actors']\n",
    "actor_col = actor_db['actor_col']"
   ]
  },
  {
   "cell_type": "code",
   "execution_count": null,
   "id": "4b10ae39",
   "metadata": {},
   "outputs": [],
   "source": [
    "actor_col.insert_many(actors) # 추가"
   ]
  },
  {
   "cell_type": "code",
   "execution_count": null,
   "id": "c4b47f33",
   "metadata": {},
   "outputs": [],
   "source": [
    "actor_col.delete_many({})  # 삭제"
   ]
  },
  {
   "cell_type": "code",
   "execution_count": null,
   "id": "abd3c0d3",
   "metadata": {},
   "outputs": [],
   "source": [
    "results = actor_col.find()\n",
    "for r in results:\n",
    "    print(r)"
   ]
  },
  {
   "cell_type": "code",
   "execution_count": null,
   "id": "814ff36b",
   "metadata": {},
   "outputs": [],
   "source": [
    "# 이름, 직업, 생년월일, 성별, 홈페이지, 신장/체중, 학교, 취미, 출연영화"
   ]
  },
  {
   "cell_type": "code",
   "execution_count": null,
   "id": "e456dca3",
   "metadata": {},
   "outputs": [],
   "source": [
    "## 여러 페이지 크롤링"
   ]
  },
  {
   "cell_type": "code",
   "execution_count": 16,
   "id": "484a9f4b",
   "metadata": {
    "collapsed": true
   },
   "outputs": [
    {
     "name": "stdout",
     "output_type": "stream",
     "text": [
      "1\n",
      "2\n",
      "3\n",
      "4\n",
      "5\n",
      "6\n",
      "7\n",
      "1\n",
      "2\n",
      "3\n",
      "4\n",
      "5\n",
      "6\n",
      "7\n",
      "1\n",
      "2\n",
      "3\n",
      "4\n",
      "5\n",
      "6\n",
      "7\n",
      "1\n",
      "2\n",
      "3\n",
      "4\n",
      "5\n",
      "6\n",
      "7\n",
      "1\n",
      "2\n",
      "3\n",
      "4\n",
      "5\n",
      "6\n",
      "7\n",
      "1\n",
      "2\n",
      "3\n",
      "4\n",
      "5\n",
      "6\n",
      "7\n",
      "1\n",
      "2\n",
      "3\n",
      "4\n",
      "5\n",
      "6\n",
      "7\n",
      "1\n",
      "2\n",
      "3\n",
      "4\n",
      "5\n",
      "6\n",
      "7\n",
      "1\n",
      "2\n",
      "3\n",
      "4\n",
      "5\n",
      "6\n",
      "7\n",
      "1\n",
      "2\n",
      "3\n",
      "4\n",
      "5\n",
      "6\n",
      "7\n"
     ]
    }
   ],
   "source": [
    "url = 'http://www.cine21.com/rank/person'\n",
    "\n",
    "driver = w.Chrome()\n",
    "driver.get(url)\n",
    "driver.implicitly_wait(1)\n",
    "\n",
    "actors = []\n",
    "\n",
    "\n",
    "\n",
    "for page in range(1, 11):\n",
    "    driver.implicitly_wait(1)\n",
    "    element = driver.find_element(By.LINK_TEXT, '{}'.format(page))\n",
    "    element.click()\n",
    "    driver.implicitly_wait(1)\n",
    "    \n",
    "    html = driver.page_source\n",
    "    soup = bs(html, 'html.parser')\n",
    "\n",
    "    lis = soup.select('div#rank_holder > ul.people_list > li.people_li')\n",
    "\n",
    "    count = 0\n",
    "\n",
    "    for li in lis:\n",
    "        count += 1\n",
    "        print(count)\n",
    "\n",
    "        actor = {}\n",
    "\n",
    "        # title\n",
    "        path = 'div.name > a'\n",
    "        title = li.select(path)[0].text\n",
    "\n",
    "        actor['title'] = title\n",
    "\n",
    "        # 출연영화 목록\n",
    "        path = 'ul.mov_list > li span'\n",
    "\n",
    "\n",
    "        spans = li.select(path)\n",
    "        movies_list = []\n",
    "        for span in spans:\n",
    "            movies_list.append(span.text)\n",
    "\n",
    "        actor['movies'] = movies_list\n",
    "\n",
    "        # ranking정보\n",
    "        ranking = li.select('span.grade')[0].text\n",
    "        actor['ranking'] = ranking\n",
    "\n",
    "        # 흥행지수\n",
    "        popular_idx = int(li.select('strong')[0].text.replace(',', ''))\n",
    "        actor['popular'] = popular_idx    \n",
    "\n",
    "        # 상세정보\n",
    "        main_url = 'http://www.cine21.com'\n",
    "        path = 'div.name > a'    \n",
    "\n",
    "\n",
    "        # 상세 페이지 url\n",
    "        sub_page_url = main_url + li.select(path)[0]['href']\n",
    "\n",
    "        res = r.get(sub_page_url)\n",
    "        soup = bs(res.text, 'html.parser')\n",
    "\n",
    "        # 상세정보가 들어있는 li들...\n",
    "        lis = soup.select('ul.default_info > li')\n",
    "\n",
    "        # 상세 정보들\n",
    "        for li in lis:\n",
    "            key = li.select('span')[0].text\n",
    "            val = li.text.replace(key, '')\n",
    "\n",
    "            actor[key] = val\n",
    "\n",
    "        actors.append(actor)\n",
    "\n",
    "driver.close()\n"
   ]
  },
  {
   "cell_type": "code",
   "execution_count": null,
   "id": "2aa8072f",
   "metadata": {},
   "outputs": [],
   "source": [
    "len(actors)"
   ]
  },
  {
   "cell_type": "code",
   "execution_count": null,
   "id": "88fb4592",
   "metadata": {},
   "outputs": [],
   "source": [
    "actors"
   ]
  },
  {
   "cell_type": "code",
   "execution_count": null,
   "id": "db8d7bc5",
   "metadata": {},
   "outputs": [],
   "source": [
    "# requests 서버에 요청\n",
    "# get 로 요청하는 방식 : 요청하는 파라미터가 url에 첨부되어서 요청 /보안에 취약\n",
    "# post 로 요청하는 방식 : 데이터값들을 전달해서 요청 // url에서는 안보임 그래서 값을 변수에 담아서 전달해야함 / 보안에 강함"
   ]
  },
  {
   "cell_type": "code",
   "execution_count": null,
   "id": "a9512c42",
   "metadata": {},
   "outputs": [],
   "source": [
    "# post 로 요청 씨네사이트에서 막힘"
   ]
  },
  {
   "cell_type": "code",
   "execution_count": 8,
   "id": "75928b23",
   "metadata": {},
   "outputs": [],
   "source": [
    "url = 'http://www.cine21.com/rank/person/content'"
   ]
  },
  {
   "cell_type": "code",
   "execution_count": 9,
   "id": "66dec9b2",
   "metadata": {},
   "outputs": [],
   "source": [
    "post_data = {'section':'actor', 'period_start':'2022-08', 'gender':'all', 'page':1}"
   ]
  },
  {
   "cell_type": "code",
   "execution_count": 10,
   "id": "11a1ee74",
   "metadata": {
    "collapsed": true
   },
   "outputs": [
    {
     "data": {
      "text/plain": [
       "'\\t\\t\\t<ul class=\"people_list\">\\r\\n\\t\\t\\t\\t<li class=\"people_li\">\\r\\n\\t\\t\\t\\t\\t<a href=\"/db/person/info/?person_id=20745\"><img src=\"https://image.cine21.com/resize/cine21/still/2017/1212/10_50_28__5a2f35e412a6b[X145,145].jpg\" alt=\"\" class=\"people_thumb\" target=\"_blank\" /></a>\\r\\n\\t\\t\\t\\t\\t<div class=\"name\"><a href=\"/db/person/info/?person_id=20745\">현빈(2편)</a></div>\\r\\n\\t\\t\\t\\t\\t<ul class=\"num_info\">\\r\\n\\t\\t\\t\\t\\t\\t<li><span class=\"tit\">흥행지수</span><strong>93,754</strong></li>\\r\\n\\t\\t\\t\\t\\t\\t<!--\\r\\n\\t\\t\\t\\t\\t\\t<li><a href=\"#\" class=\"btn_graph\"><span class=\"ico\"></span><span>흥행성적<br />그래프로 보기</span></a></li>\\r\\n\\t\\t\\t\\t\\t\\t-->\\r\\n\\t\\t\\t\\t\\t</ul>\\r\\n\\t\\t\\t\\t\\t<!-- 영화포스터는 최대 5개까지만 -->\\r\\n\\t\\t\\t\\t\\t<ul class=\"mov_list\">\\r\\n\\t\\t\\t\\t\\t\\t\\r\\n\\t\\t\\t\\t\\t\\t\\t<li>\\r\\n\\t\\t\\t\\t\\t\\t\\t\\t<a href=\"/movie/info/?movie_id=57553\">\\r\\n\\t\\t\\t\\t\\t\\t\\t\\t\\t<img src=\"https://image.cine21.com/resize/cine21/poster/2022/0826/12_30_09__63083e410eb65[X85,120].jpg\" alt=\"\" class=\"thumb\"  target=\"_blank\" />\\r\\n\\t\\t\\t\\t\\t\\t\\t\\t\\t<span>공조2: 인터내셔날</span>\\r\\n\\t\\t\\t\\t\\t\\t\\t\\t</a>\\r\\n\\t\\t\\t\\t\\t\\t\\t</li>\\r\\n\\t\\t\\t\\t\\t\\t\\r\\n\\t\\t\\t\\t\\t\\t\\t<li>\\r\\n\\t\\t\\t\\t\\t\\t\\t\\t<a href=\"/movie/info/?movie_id=47462\">\\r\\n\\t\\t\\t\\t\\t\\t\\t\\t\\t<img src=\"https://image.cine21.com/resize/cine21/poster/2017/0118/10_40_01__587ec771f2e55[X85,120].jpg\" alt=\"\" class=\"thumb\"  target=\"_blank\" />\\r\\n\\t\\t\\t\\t\\t\\t\\t\\t\\t<span>공조</span>\\r\\n\\t\\t\\t\\t\\t\\t\\t\\t</a>\\r\\n\\t\\t\\t\\t\\t\\t\\t</li>\\r\\n\\t\\t\\t\\t\\t\\t\\t\\t\\t\\t\\t</ul>\\r\\n\\t\\t\\t\\t\\t<!-- 순위 --><span class=\"grade\">1</span>\\r\\n\\t\\t\\t\\t</li>\\r\\n\\t\\t\\t\\t<li class=\"people_li\">\\r\\n\\t\\t\\t\\t\\t<a href=\"/db/person/info/?person_id=15757\"><img src=\"https://image.cine21.com/resize/cine21/still/2017/1207/13_58_12__5a28ca6489f5e[X145,145].jpg\" alt=\"\" class=\"people_thumb\" target=\"_blank\" /></a>\\r\\n\\t\\t\\t\\t\\t<div class=\"name\"><a href=\"/db/person/info/?person_id=15757\">유해진(2편)</a></div>\\r\\n\\t\\t\\t\\t\\t<ul class=\"num_info\">\\r\\n\\t\\t\\t\\t\\t\\t<li><span class=\"tit\">흥행지수</span><strong>75,003</strong></li>\\r\\n\\t\\t\\t\\t\\t\\t<!--\\r\\n\\t\\t\\t\\t\\t\\t<li><a href=\"#\" class=\"btn_graph\"><span class=\"ico\"></span><span>흥행성적<br />그래프로 보기</span></a></li>\\r\\n\\t\\t\\t\\t\\t\\t-->\\r\\n\\t\\t\\t\\t\\t</ul>\\r\\n\\t\\t\\t\\t\\t<!-- 영화포스터는 최대 5개까지만 -->\\r\\n\\t\\t\\t\\t\\t<ul class=\"mov_list\">\\r\\n\\t\\t\\t\\t\\t\\t\\r\\n\\t\\t\\t\\t\\t\\t\\t<li>\\r\\n\\t\\t\\t\\t\\t\\t\\t\\t<a href=\"/movie/info/?movie_id=57553\">\\r\\n\\t\\t\\t\\t\\t\\t\\t\\t\\t<img src=\"https://image.cine21.com/resize/cine21/poster/2022/0826/12_30_09__63083e410eb65[X85,120].jpg\" alt=\"\" class=\"thumb\"  target=\"_blank\" />\\r\\n\\t\\t\\t\\t\\t\\t\\t\\t\\t<span>공조2: 인터내셔날</span>\\r\\n\\t\\t\\t\\t\\t\\t\\t\\t</a>\\r\\n\\t\\t\\t\\t\\t\\t\\t</li>\\r\\n\\t\\t\\t\\t\\t\\t\\r\\n\\t\\t\\t\\t\\t\\t\\t<li>\\r\\n\\t\\t\\t\\t\\t\\t\\t\\t<a href=\"/movie/info/?movie_id=47462\">\\r\\n\\t\\t\\t\\t\\t\\t\\t\\t\\t<img src=\"https://image.cine21.com/resize/cine21/poster/2017/0118/10_40_01__587ec771f2e55[X85,120].jpg\" alt=\"\" class=\"thumb\"  target=\"_blank\" />\\r\\n\\t\\t\\t\\t\\t\\t\\t\\t\\t<span>공조</span>\\r\\n\\t\\t\\t\\t\\t\\t\\t\\t</a>\\r\\n\\t\\t\\t\\t\\t\\t\\t</li>\\r\\n\\t\\t\\t\\t\\t\\t\\t\\t\\t\\t\\t</ul>\\r\\n\\t\\t\\t\\t\\t<!-- 순위 --><span class=\"grade\">2</span>\\r\\n\\t\\t\\t\\t</li>\\r\\n\\t\\t\\t\\t<li class=\"people_li\">\\r\\n\\t\\t\\t\\t\\t<a href=\"/db/person/info/?person_id=66313\"><img src=\"https://image.cine21.com/resize/cine21/person/2021/0927/15_22_17__615163198ef1b[X145,145].jpg\" alt=\"\" class=\"people_thumb\" target=\"_blank\" /></a>\\r\\n\\t\\t\\t\\t\\t<div class=\"name\"><a href=\"/db/person/info/?person_id=66313\">임윤아(2편)</a></div>\\r\\n\\t\\t\\t\\t\\t<ul class=\"num_info\">\\r\\n\\t\\t\\t\\t\\t\\t<li><span class=\"tit\">흥행지수</span><strong>56,252</strong></li>\\r\\n\\t\\t\\t\\t\\t\\t<!--\\r\\n\\t\\t\\t\\t\\t\\t<li><a href=\"#\" class=\"btn_graph\"><span class=\"ico\"></span><span>흥행성적<br />그래프로 보기</span></a></li>\\r\\n\\t\\t\\t\\t\\t\\t-->\\r\\n\\t\\t\\t\\t\\t</ul>\\r\\n\\t\\t\\t\\t\\t<!-- 영화포스터는 최대 5개까지만 -->\\r\\n\\t\\t\\t\\t\\t<ul class=\"mov_list\">\\r\\n\\t\\t\\t\\t\\t\\t\\r\\n\\t\\t\\t\\t\\t\\t\\t<li>\\r\\n\\t\\t\\t\\t\\t\\t\\t\\t<a href=\"/movie/info/?movie_id=57553\">\\r\\n\\t\\t\\t\\t\\t\\t\\t\\t\\t<img src=\"https://image.cine21.com/resize/cine21/poster/2022/0826/12_30_09__63083e410eb65[X85,120].jpg\" alt=\"\" class=\"thumb\"  target=\"_blank\" />\\r\\n\\t\\t\\t\\t\\t\\t\\t\\t\\t<span>공조2: 인터내셔날</span>\\r\\n\\t\\t\\t\\t\\t\\t\\t\\t</a>\\r\\n\\t\\t\\t\\t\\t\\t\\t</li>\\r\\n\\t\\t\\t\\t\\t\\t\\r\\n\\t\\t\\t\\t\\t\\t\\t<li>\\r\\n\\t\\t\\t\\t\\t\\t\\t\\t<a href=\"/movie/info/?movie_id=47462\">\\r\\n\\t\\t\\t\\t\\t\\t\\t\\t\\t<img src=\"https://image.cine21.com/resize/cine21/poster/2017/0118/10_40_01__587ec771f2e55[X85,120].jpg\" alt=\"\" class=\"thumb\"  target=\"_blank\" />\\r\\n\\t\\t\\t\\t\\t\\t\\t\\t\\t<span>공조</span>\\r\\n\\t\\t\\t\\t\\t\\t\\t\\t</a>\\r\\n\\t\\t\\t\\t\\t\\t\\t</li>\\r\\n\\t\\t\\t\\t\\t\\t\\t\\t\\t\\t\\t</ul>\\r\\n\\t\\t\\t\\t\\t<!-- 순위 --><span class=\"grade\">3</span>\\r\\n\\t\\t\\t\\t</li>\\r\\n\\t\\t\\t\\t<li class=\"people_li\">\\r\\n\\t\\t\\t\\t\\t<a href=\"/db/person/info/?person_id=1533\"><img src=\"https://image.cine21.com/resize/cine21/person/2020/0618/15_12_14__5eeb05be48092[X145,145].jpg\" alt=\"\" class=\"people_thumb\" target=\"_blank\" /></a>\\r\\n\\t\\t\\t\\t\\t<div class=\"name\"><a href=\"/db/person/info/?person_id=1533\">정우성(2편)</a></div>\\r\\n\\t\\t\\t\\t\\t<ul class=\"num_info\">\\r\\n\\t\\t\\t\\t\\t\\t<li><span class=\"tit\">흥행지수</span><strong>52,601</strong></li>\\r\\n\\t\\t\\t\\t\\t\\t<!--\\r\\n\\t\\t\\t\\t\\t\\t<li><a href=\"#\" class=\"btn_graph\"><span class=\"ico\"></span><span>흥행성적<br />그래프로 보기</span></a></li>\\r\\n\\t\\t\\t\\t\\t\\t-->\\r\\n\\t\\t\\t\\t\\t</ul>\\r\\n\\t\\t\\t\\t\\t<!-- 영화포스터는 최대 5개까지만 -->\\r\\n\\t\\t\\t\\t\\t<ul class=\"mov_list\">\\r\\n\\t\\t\\t\\t\\t\\t\\r\\n\\t\\t\\t\\t\\t\\t\\t<li>\\r\\n\\t\\t\\t\\t\\t\\t\\t\\t<a href=\"/movie/info/?movie_id=57907\">\\r\\n\\t\\t\\t\\t\\t\\t\\t\\t\\t<img src=\"https://image.cine21.com/resize/cine21/poster/2022/0805/12_33_30__62ec8f8ad4a13[X85,120].jpg\" alt=\"\" class=\"thumb\"  target=\"_blank\" />\\r\\n\\t\\t\\t\\t\\t\\t\\t\\t\\t<span>헌트</span>\\r\\n\\t\\t\\t\\t\\t\\t\\t\\t</a>\\r\\n\\t\\t\\t\\t\\t\\t\\t</li>\\r\\n\\t\\t\\t\\t\\t\\t\\r\\n\\t\\t\\t\\t\\t\\t\\t<li>\\r\\n\\t\\t\\t\\t\\t\\t\\t\\t<a href=\"/movie/info/?movie_id=54144\">\\r\\n\\t\\t\\t\\t\\t\\t\\t\\t\\t<img src=\"https://image.cine21.com/resize/cine21/poster/2019/0226/10_54_37__5c749c5dc9e07[X85,120].jpg\" alt=\"\" class=\"thumb\"  target=\"_blank\" />\\r\\n\\t\\t\\t\\t\\t\\t\\t\\t\\t<span>증인</span>\\r\\n\\t\\t\\t\\t\\t\\t\\t\\t</a>\\r\\n\\t\\t\\t\\t\\t\\t\\t</li>\\r\\n\\t\\t\\t\\t\\t\\t\\t\\t\\t\\t\\t</ul>\\r\\n\\t\\t\\t\\t\\t<!-- 순위 --><span class=\"grade\">4</span>\\r\\n\\t\\t\\t\\t</li>\\r\\n\\t\\t\\t\\t<li class=\"people_li\">\\r\\n\\t\\t\\t\\t\\t<a href=\"/db/person/info/?person_id=1075\"><img src=\"https://image.cine21.com/resize/cine21/person/2020/0611/15_47_54__5ee1d39adf671[X145,145].jpg\" alt=\"\" class=\"people_thumb\" target=\"_blank\" /></a>\\r\\n\\t\\t\\t\\t\\t<div class=\"name\"><a href=\"/db/person/info/?person_id=1075\">이정재(2편)</a></div>\\r\\n\\t\\t\\t\\t\\t<ul class=\"num_info\">\\r\\n\\t\\t\\t\\t\\t\\t<li><span class=\"tit\">흥행지수</span><strong>45,090</strong></li>\\r\\n\\t\\t\\t\\t\\t\\t<!--\\r\\n\\t\\t\\t\\t\\t\\t<li><a href=\"#\" class=\"btn_graph\"><span class=\"ico\"></span><span>흥행성적<br />그래프로 보기</span></a></li>\\r\\n\\t\\t\\t\\t\\t\\t-->\\r\\n\\t\\t\\t\\t\\t</ul>\\r\\n\\t\\t\\t\\t\\t<!-- 영화포스터는 최대 5개까지만 -->\\r\\n\\t\\t\\t\\t\\t<ul class=\"mov_list\">\\r\\n\\t\\t\\t\\t\\t\\t\\r\\n\\t\\t\\t\\t\\t\\t\\t<li>\\r\\n\\t\\t\\t\\t\\t\\t\\t\\t<a href=\"/movie/info/?movie_id=57907\">\\r\\n\\t\\t\\t\\t\\t\\t\\t\\t\\t<img src=\"https://image.cine21.com/resize/cine21/poster/2022/0805/12_33_30__62ec8f8ad4a13[X85,120].jpg\" alt=\"\" class=\"thumb\"  target=\"_blank\" />\\r\\n\\t\\t\\t\\t\\t\\t\\t\\t\\t<span>헌트</span>\\r\\n\\t\\t\\t\\t\\t\\t\\t\\t</a>\\r\\n\\t\\t\\t\\t\\t\\t\\t</li>\\r\\n\\t\\t\\t\\t\\t\\t\\r\\n\\t\\t\\t\\t\\t\\t\\t<li>\\r\\n\\t\\t\\t\\t\\t\\t\\t\\t<a href=\"/movie/info/?movie_id=1135\">\\r\\n\\t\\t\\t\\t\\t\\t\\t\\t\\t<img src=\"https://image.cine21.com/resize/cine21/poster/2022/0926/18_09_52__63316c60f13ef[X85,120].jpg\" alt=\"\" class=\"thumb\"  target=\"_blank\" />\\r\\n\\t\\t\\t\\t\\t\\t\\t\\t\\t<span>젊은 남자</span>\\r\\n\\t\\t\\t\\t\\t\\t\\t\\t</a>\\r\\n\\t\\t\\t\\t\\t\\t\\t</li>\\r\\n\\t\\t\\t\\t\\t\\t\\t\\t\\t\\t\\t</ul>\\r\\n\\t\\t\\t\\t\\t<!-- 순위 --><span class=\"grade\">5</span>\\r\\n\\t\\t\\t\\t</li>\\r\\n\\t\\t\\t\\t<li class=\"people_li\">\\r\\n\\t\\t\\t\\t\\t<a href=\"/db/person/info/?person_id=15222\"><img src=\"https://image.cine21.com/resize/cine21/still/2017/1207/14_33_48__5a28d2bcb1647[X145,145].jpg\" alt=\"\" class=\"people_thumb\" target=\"_blank\" /></a>\\r\\n\\t\\t\\t\\t\\t<div class=\"name\"><a href=\"/db/person/info/?person_id=15222\">박해일(3편)</a></div>\\r\\n\\t\\t\\t\\t\\t<ul class=\"num_info\">\\r\\n\\t\\t\\t\\t\\t\\t<li><span class=\"tit\">흥행지수</span><strong>43,660</strong></li>\\r\\n\\t\\t\\t\\t\\t\\t<!--\\r\\n\\t\\t\\t\\t\\t\\t<li><a href=\"#\" class=\"btn_graph\"><span class=\"ico\"></span><span>흥행성적<br />그래프로 보기</span></a></li>\\r\\n\\t\\t\\t\\t\\t\\t-->\\r\\n\\t\\t\\t\\t\\t</ul>\\r\\n\\t\\t\\t\\t\\t<!-- 영화포스터는 최대 5개까지만 -->\\r\\n\\t\\t\\t\\t\\t<ul class=\"mov_list\">\\r\\n\\t\\t\\t\\t\\t\\t\\r\\n\\t\\t\\t\\t\\t\\t\\t<li>\\r\\n\\t\\t\\t\\t\\t\\t\\t\\t<a href=\"/movie/info/?movie_id=56294\">\\r\\n\\t\\t\\t\\t\\t\\t\\t\\t\\t<img src=\"https://image.cine21.com/resize/cine21/poster/2022/0727/16_21_10__62e0e76663483[X85,120].jpg\" alt=\"\" class=\"thumb\"  target=\"_blank\" />\\r\\n\\t\\t\\t\\t\\t\\t\\t\\t\\t<span>한산: 용의 출현</span>\\r\\n\\t\\t\\t\\t\\t\\t\\t\\t</a>\\r\\n\\t\\t\\t\\t\\t\\t\\t</li>\\r\\n\\t\\t\\t\\t\\t\\t\\r\\n\\t\\t\\t\\t\\t\\t\\t<li>\\r\\n\\t\\t\\t\\t\\t\\t\\t\\t<a href=\"/movie/info/?movie_id=56942\">\\r\\n\\t\\t\\t\\t\\t\\t\\t\\t\\t<img src=\"https://image.cine21.com/resize/cine21/poster/2022/0610/09_59_51__62a2978774d80[X85,120].jpg\" alt=\"\" class=\"thumb\"  target=\"_blank\" />\\r\\n\\t\\t\\t\\t\\t\\t\\t\\t\\t<span>헤어질 결심</span>\\r\\n\\t\\t\\t\\t\\t\\t\\t\\t</a>\\r\\n\\t\\t\\t\\t\\t\\t\\t</li>\\r\\n\\t\\t\\t\\t\\t\\t\\r\\n\\t\\t\\t\\t\\t\\t\\t<li>\\r\\n\\t\\t\\t\\t\\t\\t\\t\\t<a href=\"/movie/info/?movie_id=5563\">\\r\\n\\t\\t\\t\\t\\t\\t\\t\\t\\t<img src=\"https://image.cine21.com/resize/IMGDB/poster/2002/0423/large/171611_whoar[X85,120].JPG\" alt=\"\" class=\"thumb\"  target=\"_blank\" />\\r\\n\\t\\t\\t\\t\\t\\t\\t\\t\\t<span>후아유</span>\\r\\n\\t\\t\\t\\t\\t\\t\\t\\t</a>\\r\\n\\t\\t\\t\\t\\t\\t\\t</li>\\r\\n\\t\\t\\t\\t\\t\\t\\t\\t\\t\\t\\t</ul>\\r\\n\\t\\t\\t\\t\\t<!-- 순위 --><span class=\"grade\">6</span>\\r\\n\\t\\t\\t\\t</li>\\r\\n\\t\\t\\t\\t<li class=\"people_li\">\\r\\n\\t\\t\\t\\t\\t<a href=\"/db/person/info/?person_id=11198\"><img src=\"https://image.cine21.com/resize/cine21/still/2019/0320/10_45_23__5c919b33df50b[X145,145].jpg\" alt=\"\" class=\"people_thumb\" target=\"_blank\" /></a>\\r\\n\\t\\t\\t\\t\\t<div class=\"name\"><a href=\"/db/person/info/?person_id=11198\">전혜진(2편)</a></div>\\r\\n\\t\\t\\t\\t\\t<ul class=\"num_info\">\\r\\n\\t\\t\\t\\t\\t\\t<li><span class=\"tit\">흥행지수</span><strong>37,572</strong></li>\\r\\n\\t\\t\\t\\t\\t\\t<!--\\r\\n\\t\\t\\t\\t\\t\\t<li><a href=\"#\" class=\"btn_graph\"><span class=\"ico\"></span><span>흥행성적<br />그래프로 보기</span></a></li>\\r\\n\\t\\t\\t\\t\\t\\t-->\\r\\n\\t\\t\\t\\t\\t</ul>\\r\\n\\t\\t\\t\\t\\t<!-- 영화포스터는 최대 5개까지만 -->\\r\\n\\t\\t\\t\\t\\t<ul class=\"mov_list\">\\r\\n\\t\\t\\t\\t\\t\\t\\r\\n\\t\\t\\t\\t\\t\\t\\t<li>\\r\\n\\t\\t\\t\\t\\t\\t\\t\\t<a href=\"/movie/info/?movie_id=57907\">\\r\\n\\t\\t\\t\\t\\t\\t\\t\\t\\t<img src=\"https://image.cine21.com/resize/cine21/poster/2022/0805/12_33_30__62ec8f8ad4a13[X85,120].jpg\" alt=\"\" class=\"thumb\"  target=\"_blank\" />\\r\\n\\t\\t\\t\\t\\t\\t\\t\\t\\t<span>헌트</span>\\r\\n\\t\\t\\t\\t\\t\\t\\t\\t</a>\\r\\n\\t\\t\\t\\t\\t\\t\\t</li>\\r\\n\\t\\t\\t\\t\\t\\t\\r\\n\\t\\t\\t\\t\\t\\t\\t<li>\\r\\n\\t\\t\\t\\t\\t\\t\\t\\t<a href=\"/movie/info/?movie_id=49793\">\\r\\n\\t\\t\\t\\t\\t\\t\\t\\t\\t<img src=\"https://image.cine21.com/resize/cine21/poster/2017/0828/16_04_14__59a3c06e8e6f8[X85,120].jpg\" alt=\"\" class=\"thumb\"  target=\"_blank\" />\\r\\n\\t\\t\\t\\t\\t\\t\\t\\t\\t<span>시인의 사랑</span>\\r\\n\\t\\t\\t\\t\\t\\t\\t\\t</a>\\r\\n\\t\\t\\t\\t\\t\\t\\t</li>\\r\\n\\t\\t\\t\\t\\t\\t\\t\\t\\t\\t\\t</ul>\\r\\n\\t\\t\\t\\t\\t<!-- 순위 --><span class=\"grade\">7</span>\\r\\n\\t\\t\\t\\t</li>\\r\\n\\t\\t\\t</ul>\\r\\n\\r\\n\\r\\n\\t\\t\\t\\t<div class=\"pagination\"><a href=\"javascript:fetch_list(1)\" class=\"btn_first\"><span class=\"hidden\">처음으로</span><span class=\"ico\"></span></a><div class=\"page\"><a href=\"javascript:;\" class=\"on\">1</a><a href=\"javascript:fetch_list(2)\">2</a><a href=\"javascript:fetch_list(3)\">3</a><a href=\"javascript:fetch_list(4)\">4</a><a href=\"javascript:fetch_list(5)\">5</a><a href=\"javascript:fetch_list(6)\">6</a><a href=\"javascript:fetch_list(7)\">7</a><a href=\"javascript:fetch_list(8)\">8</a><a href=\"javascript:fetch_list(9)\">9</a><a href=\"javascript:fetch_list(10)\">10</a></div><a href=\"javascript:fetch_list(11)\" class=\"btn_next\"><span class=\"hidden\">다음</span><span class=\"ico\"></span></a><a href=\"javascript:fetch_list(108)\" class=\"btn_end\"><span class=\"hidden\">끝으로</span><span class=\"ico\"></span></a>\\t\\t\\t\\t</div>'"
      ]
     },
     "execution_count": 10,
     "metadata": {},
     "output_type": "execute_result"
    }
   ],
   "source": [
    "res = r.post(url, data=post_data) \n",
    "res.text"
   ]
  },
  {
   "cell_type": "code",
   "execution_count": 11,
   "id": "13f4e4c6",
   "metadata": {},
   "outputs": [],
   "source": [
    "soup = bs(res.text, 'html.parser')"
   ]
  },
  {
   "cell_type": "code",
   "execution_count": 12,
   "id": "df22c24c",
   "metadata": {
    "collapsed": true
   },
   "outputs": [
    {
     "data": {
      "text/plain": [
       "[<li class=\"people_li\">\n",
       " <a href=\"/db/person/info/?person_id=20745\"><img alt=\"\" class=\"people_thumb\" src=\"https://image.cine21.com/resize/cine21/still/2017/1212/10_50_28__5a2f35e412a6b[X145,145].jpg\" target=\"_blank\"/></a>\n",
       " <div class=\"name\"><a href=\"/db/person/info/?person_id=20745\">현빈(2편)</a></div>\n",
       " <ul class=\"num_info\">\n",
       " <li><span class=\"tit\">흥행지수</span><strong>93,754</strong></li>\n",
       " <!--\n",
       " \t\t\t\t\t\t<li><a href=\"#\" class=\"btn_graph\"><span class=\"ico\"></span><span>흥행성적<br />그래프로 보기</span></a></li>\n",
       " \t\t\t\t\t\t-->\n",
       " </ul>\n",
       " <!-- 영화포스터는 최대 5개까지만 -->\n",
       " <ul class=\"mov_list\">\n",
       " <li>\n",
       " <a href=\"/movie/info/?movie_id=57553\">\n",
       " <img alt=\"\" class=\"thumb\" src=\"https://image.cine21.com/resize/cine21/poster/2022/0826/12_30_09__63083e410eb65[X85,120].jpg\" target=\"_blank\"/>\n",
       " <span>공조2: 인터내셔날</span>\n",
       " </a>\n",
       " </li>\n",
       " <li>\n",
       " <a href=\"/movie/info/?movie_id=47462\">\n",
       " <img alt=\"\" class=\"thumb\" src=\"https://image.cine21.com/resize/cine21/poster/2017/0118/10_40_01__587ec771f2e55[X85,120].jpg\" target=\"_blank\"/>\n",
       " <span>공조</span>\n",
       " </a>\n",
       " </li>\n",
       " </ul>\n",
       " <!-- 순위 --><span class=\"grade\">1</span>\n",
       " </li>,\n",
       " <li class=\"people_li\">\n",
       " <a href=\"/db/person/info/?person_id=15757\"><img alt=\"\" class=\"people_thumb\" src=\"https://image.cine21.com/resize/cine21/still/2017/1207/13_58_12__5a28ca6489f5e[X145,145].jpg\" target=\"_blank\"/></a>\n",
       " <div class=\"name\"><a href=\"/db/person/info/?person_id=15757\">유해진(2편)</a></div>\n",
       " <ul class=\"num_info\">\n",
       " <li><span class=\"tit\">흥행지수</span><strong>75,003</strong></li>\n",
       " <!--\n",
       " \t\t\t\t\t\t<li><a href=\"#\" class=\"btn_graph\"><span class=\"ico\"></span><span>흥행성적<br />그래프로 보기</span></a></li>\n",
       " \t\t\t\t\t\t-->\n",
       " </ul>\n",
       " <!-- 영화포스터는 최대 5개까지만 -->\n",
       " <ul class=\"mov_list\">\n",
       " <li>\n",
       " <a href=\"/movie/info/?movie_id=57553\">\n",
       " <img alt=\"\" class=\"thumb\" src=\"https://image.cine21.com/resize/cine21/poster/2022/0826/12_30_09__63083e410eb65[X85,120].jpg\" target=\"_blank\"/>\n",
       " <span>공조2: 인터내셔날</span>\n",
       " </a>\n",
       " </li>\n",
       " <li>\n",
       " <a href=\"/movie/info/?movie_id=47462\">\n",
       " <img alt=\"\" class=\"thumb\" src=\"https://image.cine21.com/resize/cine21/poster/2017/0118/10_40_01__587ec771f2e55[X85,120].jpg\" target=\"_blank\"/>\n",
       " <span>공조</span>\n",
       " </a>\n",
       " </li>\n",
       " </ul>\n",
       " <!-- 순위 --><span class=\"grade\">2</span>\n",
       " </li>,\n",
       " <li class=\"people_li\">\n",
       " <a href=\"/db/person/info/?person_id=66313\"><img alt=\"\" class=\"people_thumb\" src=\"https://image.cine21.com/resize/cine21/person/2021/0927/15_22_17__615163198ef1b[X145,145].jpg\" target=\"_blank\"/></a>\n",
       " <div class=\"name\"><a href=\"/db/person/info/?person_id=66313\">임윤아(2편)</a></div>\n",
       " <ul class=\"num_info\">\n",
       " <li><span class=\"tit\">흥행지수</span><strong>56,252</strong></li>\n",
       " <!--\n",
       " \t\t\t\t\t\t<li><a href=\"#\" class=\"btn_graph\"><span class=\"ico\"></span><span>흥행성적<br />그래프로 보기</span></a></li>\n",
       " \t\t\t\t\t\t-->\n",
       " </ul>\n",
       " <!-- 영화포스터는 최대 5개까지만 -->\n",
       " <ul class=\"mov_list\">\n",
       " <li>\n",
       " <a href=\"/movie/info/?movie_id=57553\">\n",
       " <img alt=\"\" class=\"thumb\" src=\"https://image.cine21.com/resize/cine21/poster/2022/0826/12_30_09__63083e410eb65[X85,120].jpg\" target=\"_blank\"/>\n",
       " <span>공조2: 인터내셔날</span>\n",
       " </a>\n",
       " </li>\n",
       " <li>\n",
       " <a href=\"/movie/info/?movie_id=47462\">\n",
       " <img alt=\"\" class=\"thumb\" src=\"https://image.cine21.com/resize/cine21/poster/2017/0118/10_40_01__587ec771f2e55[X85,120].jpg\" target=\"_blank\"/>\n",
       " <span>공조</span>\n",
       " </a>\n",
       " </li>\n",
       " </ul>\n",
       " <!-- 순위 --><span class=\"grade\">3</span>\n",
       " </li>,\n",
       " <li class=\"people_li\">\n",
       " <a href=\"/db/person/info/?person_id=1533\"><img alt=\"\" class=\"people_thumb\" src=\"https://image.cine21.com/resize/cine21/person/2020/0618/15_12_14__5eeb05be48092[X145,145].jpg\" target=\"_blank\"/></a>\n",
       " <div class=\"name\"><a href=\"/db/person/info/?person_id=1533\">정우성(2편)</a></div>\n",
       " <ul class=\"num_info\">\n",
       " <li><span class=\"tit\">흥행지수</span><strong>52,601</strong></li>\n",
       " <!--\n",
       " \t\t\t\t\t\t<li><a href=\"#\" class=\"btn_graph\"><span class=\"ico\"></span><span>흥행성적<br />그래프로 보기</span></a></li>\n",
       " \t\t\t\t\t\t-->\n",
       " </ul>\n",
       " <!-- 영화포스터는 최대 5개까지만 -->\n",
       " <ul class=\"mov_list\">\n",
       " <li>\n",
       " <a href=\"/movie/info/?movie_id=57907\">\n",
       " <img alt=\"\" class=\"thumb\" src=\"https://image.cine21.com/resize/cine21/poster/2022/0805/12_33_30__62ec8f8ad4a13[X85,120].jpg\" target=\"_blank\"/>\n",
       " <span>헌트</span>\n",
       " </a>\n",
       " </li>\n",
       " <li>\n",
       " <a href=\"/movie/info/?movie_id=54144\">\n",
       " <img alt=\"\" class=\"thumb\" src=\"https://image.cine21.com/resize/cine21/poster/2019/0226/10_54_37__5c749c5dc9e07[X85,120].jpg\" target=\"_blank\"/>\n",
       " <span>증인</span>\n",
       " </a>\n",
       " </li>\n",
       " </ul>\n",
       " <!-- 순위 --><span class=\"grade\">4</span>\n",
       " </li>,\n",
       " <li class=\"people_li\">\n",
       " <a href=\"/db/person/info/?person_id=1075\"><img alt=\"\" class=\"people_thumb\" src=\"https://image.cine21.com/resize/cine21/person/2020/0611/15_47_54__5ee1d39adf671[X145,145].jpg\" target=\"_blank\"/></a>\n",
       " <div class=\"name\"><a href=\"/db/person/info/?person_id=1075\">이정재(2편)</a></div>\n",
       " <ul class=\"num_info\">\n",
       " <li><span class=\"tit\">흥행지수</span><strong>45,090</strong></li>\n",
       " <!--\n",
       " \t\t\t\t\t\t<li><a href=\"#\" class=\"btn_graph\"><span class=\"ico\"></span><span>흥행성적<br />그래프로 보기</span></a></li>\n",
       " \t\t\t\t\t\t-->\n",
       " </ul>\n",
       " <!-- 영화포스터는 최대 5개까지만 -->\n",
       " <ul class=\"mov_list\">\n",
       " <li>\n",
       " <a href=\"/movie/info/?movie_id=57907\">\n",
       " <img alt=\"\" class=\"thumb\" src=\"https://image.cine21.com/resize/cine21/poster/2022/0805/12_33_30__62ec8f8ad4a13[X85,120].jpg\" target=\"_blank\"/>\n",
       " <span>헌트</span>\n",
       " </a>\n",
       " </li>\n",
       " <li>\n",
       " <a href=\"/movie/info/?movie_id=1135\">\n",
       " <img alt=\"\" class=\"thumb\" src=\"https://image.cine21.com/resize/cine21/poster/2022/0926/18_09_52__63316c60f13ef[X85,120].jpg\" target=\"_blank\"/>\n",
       " <span>젊은 남자</span>\n",
       " </a>\n",
       " </li>\n",
       " </ul>\n",
       " <!-- 순위 --><span class=\"grade\">5</span>\n",
       " </li>,\n",
       " <li class=\"people_li\">\n",
       " <a href=\"/db/person/info/?person_id=15222\"><img alt=\"\" class=\"people_thumb\" src=\"https://image.cine21.com/resize/cine21/still/2017/1207/14_33_48__5a28d2bcb1647[X145,145].jpg\" target=\"_blank\"/></a>\n",
       " <div class=\"name\"><a href=\"/db/person/info/?person_id=15222\">박해일(3편)</a></div>\n",
       " <ul class=\"num_info\">\n",
       " <li><span class=\"tit\">흥행지수</span><strong>43,660</strong></li>\n",
       " <!--\n",
       " \t\t\t\t\t\t<li><a href=\"#\" class=\"btn_graph\"><span class=\"ico\"></span><span>흥행성적<br />그래프로 보기</span></a></li>\n",
       " \t\t\t\t\t\t-->\n",
       " </ul>\n",
       " <!-- 영화포스터는 최대 5개까지만 -->\n",
       " <ul class=\"mov_list\">\n",
       " <li>\n",
       " <a href=\"/movie/info/?movie_id=56294\">\n",
       " <img alt=\"\" class=\"thumb\" src=\"https://image.cine21.com/resize/cine21/poster/2022/0727/16_21_10__62e0e76663483[X85,120].jpg\" target=\"_blank\"/>\n",
       " <span>한산: 용의 출현</span>\n",
       " </a>\n",
       " </li>\n",
       " <li>\n",
       " <a href=\"/movie/info/?movie_id=56942\">\n",
       " <img alt=\"\" class=\"thumb\" src=\"https://image.cine21.com/resize/cine21/poster/2022/0610/09_59_51__62a2978774d80[X85,120].jpg\" target=\"_blank\"/>\n",
       " <span>헤어질 결심</span>\n",
       " </a>\n",
       " </li>\n",
       " <li>\n",
       " <a href=\"/movie/info/?movie_id=5563\">\n",
       " <img alt=\"\" class=\"thumb\" src=\"https://image.cine21.com/resize/IMGDB/poster/2002/0423/large/171611_whoar[X85,120].JPG\" target=\"_blank\"/>\n",
       " <span>후아유</span>\n",
       " </a>\n",
       " </li>\n",
       " </ul>\n",
       " <!-- 순위 --><span class=\"grade\">6</span>\n",
       " </li>,\n",
       " <li class=\"people_li\">\n",
       " <a href=\"/db/person/info/?person_id=11198\"><img alt=\"\" class=\"people_thumb\" src=\"https://image.cine21.com/resize/cine21/still/2019/0320/10_45_23__5c919b33df50b[X145,145].jpg\" target=\"_blank\"/></a>\n",
       " <div class=\"name\"><a href=\"/db/person/info/?person_id=11198\">전혜진(2편)</a></div>\n",
       " <ul class=\"num_info\">\n",
       " <li><span class=\"tit\">흥행지수</span><strong>37,572</strong></li>\n",
       " <!--\n",
       " \t\t\t\t\t\t<li><a href=\"#\" class=\"btn_graph\"><span class=\"ico\"></span><span>흥행성적<br />그래프로 보기</span></a></li>\n",
       " \t\t\t\t\t\t-->\n",
       " </ul>\n",
       " <!-- 영화포스터는 최대 5개까지만 -->\n",
       " <ul class=\"mov_list\">\n",
       " <li>\n",
       " <a href=\"/movie/info/?movie_id=57907\">\n",
       " <img alt=\"\" class=\"thumb\" src=\"https://image.cine21.com/resize/cine21/poster/2022/0805/12_33_30__62ec8f8ad4a13[X85,120].jpg\" target=\"_blank\"/>\n",
       " <span>헌트</span>\n",
       " </a>\n",
       " </li>\n",
       " <li>\n",
       " <a href=\"/movie/info/?movie_id=49793\">\n",
       " <img alt=\"\" class=\"thumb\" src=\"https://image.cine21.com/resize/cine21/poster/2017/0828/16_04_14__59a3c06e8e6f8[X85,120].jpg\" target=\"_blank\"/>\n",
       " <span>시인의 사랑</span>\n",
       " </a>\n",
       " </li>\n",
       " </ul>\n",
       " <!-- 순위 --><span class=\"grade\">7</span>\n",
       " </li>]"
      ]
     },
     "execution_count": 12,
     "metadata": {},
     "output_type": "execute_result"
    }
   ],
   "source": [
    "lis = soup.select('li.people_li')\n",
    "lis"
   ]
  },
  {
   "cell_type": "code",
   "execution_count": null,
   "id": "f90b1a28",
   "metadata": {},
   "outputs": [],
   "source": [
    "conn = pymongo.MongoClient()\n",
    "\n",
    "actor_db = conn['cinema_actors']\n",
    "actor_col = actor_db['actor_col']"
   ]
  },
  {
   "cell_type": "code",
   "execution_count": null,
   "id": "7fcf8c47",
   "metadata": {},
   "outputs": [],
   "source": [
    "actor_col.insert_many(actors)"
   ]
  },
  {
   "cell_type": "code",
   "execution_count": null,
   "id": "a995c1ce",
   "metadata": {},
   "outputs": [],
   "source": [
    "results = actor_col.find()\n",
    "for r in results:\n",
    "    print(r)"
   ]
  },
  {
   "cell_type": "code",
   "execution_count": null,
   "id": "e4197ba3",
   "metadata": {},
   "outputs": [],
   "source": [
    "actor_col.find_one({})"
   ]
  },
  {
   "cell_type": "code",
   "execution_count": null,
   "id": "667b35a9",
   "metadata": {},
   "outputs": [],
   "source": [
    "results = actor_col.find().limit(3)\n",
    "for r in results:\n",
    "    print(r)"
   ]
  },
  {
   "cell_type": "code",
   "execution_count": null,
   "id": "7755b08c",
   "metadata": {},
   "outputs": [],
   "source": [
    "# 칼럼명 수정"
   ]
  },
  {
   "cell_type": "code",
   "execution_count": null,
   "id": "58339360",
   "metadata": {},
   "outputs": [],
   "source": [
    "actor_col.update_many({}, {'$rename':{'소속사': '소속'}})"
   ]
  },
  {
   "cell_type": "code",
   "execution_count": null,
   "id": "7ede59d1",
   "metadata": {},
   "outputs": [],
   "source": [
    "results = actor_col.find()\n",
    "for r in results:\n",
    "    print(r)"
   ]
  },
  {
   "cell_type": "code",
   "execution_count": null,
   "id": "8a9ce29a",
   "metadata": {},
   "outputs": [],
   "source": [
    "# 정렬"
   ]
  },
  {
   "cell_type": "code",
   "execution_count": null,
   "id": "a95b8930",
   "metadata": {},
   "outputs": [],
   "source": [
    "docs = actor_col.find({}).sort('생년월일')\n",
    "for doc in docs:\n",
    "    print(doc)"
   ]
  },
  {
   "cell_type": "code",
   "execution_count": 18,
   "id": "e56c81e1",
   "metadata": {
    "collapsed": true
   },
   "outputs": [
    {
     "ename": "NameError",
     "evalue": "name 'actor_col' is not defined",
     "output_type": "error",
     "traceback": [
      "\u001b[1;31m---------------------------------------------------------------------------\u001b[0m",
      "\u001b[1;31mNameError\u001b[0m                                 Traceback (most recent call last)",
      "Input \u001b[1;32mIn [18]\u001b[0m, in \u001b[0;36m<cell line: 1>\u001b[1;34m()\u001b[0m\n\u001b[1;32m----> 1\u001b[0m docs \u001b[38;5;241m=\u001b[39m \u001b[43mactor_col\u001b[49m\u001b[38;5;241m.\u001b[39mfind({})\u001b[38;5;241m.\u001b[39msort(\u001b[38;5;124m'\u001b[39m\u001b[38;5;124m생년월일\u001b[39m\u001b[38;5;124m'\u001b[39m, pymongo\u001b[38;5;241m.\u001b[39mDESCENDING)\n\u001b[0;32m      2\u001b[0m \u001b[38;5;28;01mfor\u001b[39;00m doc \u001b[38;5;129;01min\u001b[39;00m docs:\n\u001b[0;32m      3\u001b[0m     \u001b[38;5;28mprint\u001b[39m(doc)\n",
      "\u001b[1;31mNameError\u001b[0m: name 'actor_col' is not defined"
     ]
    }
   ],
   "source": [
    "docs = actor_col.find({}).sort('생년월일', pymongo.DESCENDING)\n",
    "for doc in docs:\n",
    "    print(doc)\n"
   ]
  },
  {
   "cell_type": "code",
   "execution_count": null,
   "id": "d8063515",
   "metadata": {},
   "outputs": [],
   "source": [
    "# 특정 key가 있는 도큐먼트만 출력"
   ]
  },
  {
   "cell_type": "code",
   "execution_count": null,
   "id": "d9b8fcb2",
   "metadata": {},
   "outputs": [],
   "source": [
    "docs = actor_col.find({'특기' :{'$exists':True}}).limit(5)\n",
    "for doc in docs:\n",
    "    print(doc)"
   ]
  },
  {
   "cell_type": "code",
   "execution_count": null,
   "id": "2e754dc3",
   "metadata": {},
   "outputs": [],
   "source": [
    "docs = actor_col.find({'생년월일' : {'$exists':False}}).limit(5)\n",
    "for doc in docs:\n",
    "    print(doc)"
   ]
  },
  {
   "cell_type": "code",
   "execution_count": null,
   "id": "1570fad5",
   "metadata": {},
   "outputs": [],
   "source": [
    "docs = actor_col.find({'생년월일' : {'$exists':False}}, {'title':1, '_id':0}).limit(5)\n",
    "for doc in docs:\n",
    "    print(doc)"
   ]
  },
  {
   "cell_type": "code",
   "execution_count": null,
   "id": "6fcfa32c",
   "metadata": {},
   "outputs": [],
   "source": [
    "docs = actor_col.find({\"popular\": {'$gte':10000}}).sort('title').limit(5)  # \n",
    "for doc in docs:\n",
    "    print(doc)"
   ]
  },
  {
   "cell_type": "code",
   "execution_count": null,
   "id": "a8abd933",
   "metadata": {},
   "outputs": [],
   "source": [
    "docs = actor_col.find({\"popular\": {'$gte':10000}}, {'title':1, 'movies':1, '_id':0}).limit(5) # '_id':0 = id값 제거\n",
    "for doc in docs:\n",
    "    print(doc)"
   ]
  },
  {
   "cell_type": "code",
   "execution_count": null,
   "id": "1f0514bd",
   "metadata": {},
   "outputs": [],
   "source": [
    "# $or $and"
   ]
  },
  {
   "cell_type": "code",
   "execution_count": null,
   "id": "4282fa1a",
   "metadata": {},
   "outputs": [],
   "source": [
    "docs = actor_col.find({'$or':[{'movies':'공조'},{'movies':'젊은 남자'}]})\n",
    "for doc in docs:\n",
    "    print(doc)"
   ]
  },
  {
   "cell_type": "code",
   "execution_count": null,
   "id": "f25a50ee",
   "metadata": {},
   "outputs": [],
   "source": [
    "docs = actor_col.find({'$or':[{'movies':'공조'},{'movies':'젊은 남자'}]}, {'title':1, 'movies':1, '_id':0})\n",
    "for doc in docs:\n",
    "    print(doc)"
   ]
  },
  {
   "cell_type": "code",
   "execution_count": null,
   "id": "6420770e",
   "metadata": {},
   "outputs": [],
   "source": [
    "docs = actor_col.find({'$and':[{'movies':'헌트'},{'movies':'젊은 남자'}]})\n",
    "for doc in docs:\n",
    "    print(doc)"
   ]
  },
  {
   "cell_type": "code",
   "execution_count": null,
   "id": "f98e6702",
   "metadata": {},
   "outputs": [],
   "source": [
    "# $nor"
   ]
  },
  {
   "cell_type": "code",
   "execution_count": null,
   "id": "3e1d5ddd",
   "metadata": {},
   "outputs": [],
   "source": [
    "docs = actor_col.find({'$nor':[{'popular':{'$gte':10000}}, {'popular':{'$lte':2000}}]})\n",
    "for doc in docs:\n",
    "    print(doc)"
   ]
  },
  {
   "cell_type": "code",
   "execution_count": null,
   "id": "7a8e03c7",
   "metadata": {},
   "outputs": [],
   "source": [
    "# $in , $nin"
   ]
  },
  {
   "cell_type": "code",
   "execution_count": null,
   "id": "da7f4ba4",
   "metadata": {},
   "outputs": [],
   "source": [
    "docs = actor_col.find({'popular': {'$in': [2004, 2090, 2120]}})\n",
    "for doc in docs:\n",
    "    print(doc)"
   ]
  },
  {
   "cell_type": "code",
   "execution_count": null,
   "id": "d66c77b5",
   "metadata": {},
   "outputs": [],
   "source": [
    "docs = actor_col.find({'popular': {'$gte':20000 }}) # 흥행도 2만이상\n",
    "for doc in docs:\n",
    "    print(doc)"
   ]
  },
  {
   "cell_type": "code",
   "execution_count": null,
   "id": "faa312d9",
   "metadata": {},
   "outputs": [],
   "source": [
    "# list 검색 - all"
   ]
  },
  {
   "cell_type": "code",
   "execution_count": 19,
   "id": "dac025ff",
   "metadata": {
    "collapsed": true
   },
   "outputs": [
    {
     "ename": "NameError",
     "evalue": "name 'actor_col' is not defined",
     "output_type": "error",
     "traceback": [
      "\u001b[1;31m---------------------------------------------------------------------------\u001b[0m",
      "\u001b[1;31mNameError\u001b[0m                                 Traceback (most recent call last)",
      "Input \u001b[1;32mIn [19]\u001b[0m, in \u001b[0;36m<cell line: 1>\u001b[1;34m()\u001b[0m\n\u001b[1;32m----> 1\u001b[0m docs \u001b[38;5;241m=\u001b[39m \u001b[43mactor_col\u001b[49m\u001b[38;5;241m.\u001b[39mfind({\u001b[38;5;124m'\u001b[39m\u001b[38;5;124mmovies\u001b[39m\u001b[38;5;124m'\u001b[39m: {\u001b[38;5;124m'\u001b[39m\u001b[38;5;124m$gte\u001b[39m\u001b[38;5;124m'\u001b[39m:\u001b[38;5;241m20000\u001b[39m }}) \n\u001b[0;32m      2\u001b[0m \u001b[38;5;28;01mfor\u001b[39;00m doc \u001b[38;5;129;01min\u001b[39;00m docs:\n\u001b[0;32m      3\u001b[0m     \u001b[38;5;28mprint\u001b[39m(doc)\n",
      "\u001b[1;31mNameError\u001b[0m: name 'actor_col' is not defined"
     ]
    }
   ],
   "source": [
    "docs = actor_col.find({'movies': {'$all': ['헌트','젊은 남자']}}) \n",
    "for doc in docs:\n",
    "    print(doc)"
   ]
  },
  {
   "cell_type": "code",
   "execution_count": null,
   "id": "38308574",
   "metadata": {},
   "outputs": [],
   "source": [
    "# list 검색 - size\n",
    "docs = actor_col.find({'movies': {'$size':6}})\n",
    "for doc in docs:\n",
    "    print(doc)"
   ]
  },
  {
   "cell_type": "code",
   "execution_count": null,
   "id": "ec64460b",
   "metadata": {},
   "outputs": [],
   "source": [
    "# list 검색 - size\n",
    "docs = actor_col.find({'title': {'이정재(2편)'}})\n",
    "for doc in docs:\n",
    "    print(doc)"
   ]
  },
  {
   "cell_type": "code",
   "execution_count": null,
   "id": "4e098fb6",
   "metadata": {},
   "outputs": [],
   "source": [
    "actor_col.update_one({'title':'이정재(2편)'}, {'$set':{'title':'이정재'}})"
   ]
  },
  {
   "cell_type": "code",
   "execution_count": null,
   "id": "e1d44d24",
   "metadata": {},
   "outputs": [],
   "source": [
    "docs = actor_col.find({'title': {'이정재'}}) # 이정재 2편을 이정재로 변경\n",
    "for doc in docs:\n",
    "    print(doc)"
   ]
  }
 ],
 "metadata": {
  "kernelspec": {
   "display_name": "Python 3 (ipykernel)",
   "language": "python",
   "name": "python3"
  },
  "language_info": {
   "codemirror_mode": {
    "name": "ipython",
    "version": 3
   },
   "file_extension": ".py",
   "mimetype": "text/x-python",
   "name": "python",
   "nbconvert_exporter": "python",
   "pygments_lexer": "ipython3",
   "version": "3.9.12"
  },
  "toc": {
   "base_numbering": 1,
   "nav_menu": {},
   "number_sections": true,
   "sideBar": true,
   "skip_h1_title": false,
   "title_cell": "Table of Contents",
   "title_sidebar": "Contents",
   "toc_cell": false,
   "toc_position": {},
   "toc_section_display": true,
   "toc_window_display": false
  },
  "varInspector": {
   "cols": {
    "lenName": 16,
    "lenType": 16,
    "lenVar": 40
   },
   "kernels_config": {
    "python": {
     "delete_cmd_postfix": "",
     "delete_cmd_prefix": "del ",
     "library": "var_list.py",
     "varRefreshCmd": "print(var_dic_list())"
    },
    "r": {
     "delete_cmd_postfix": ") ",
     "delete_cmd_prefix": "rm(",
     "library": "var_list.r",
     "varRefreshCmd": "cat(var_dic_list()) "
    }
   },
   "types_to_exclude": [
    "module",
    "function",
    "builtin_function_or_method",
    "instance",
    "_Feature"
   ],
   "window_display": false
  }
 },
 "nbformat": 4,
 "nbformat_minor": 5
}
