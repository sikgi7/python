{
 "cells": [
  {
   "cell_type": "code",
   "execution_count": 4,
   "id": "4edbd3ba",
   "metadata": {},
   "outputs": [
    {
     "data": {
      "text/html": [
       "<style>.container { width:60% !important; }</style>"
      ],
      "text/plain": [
       "<IPython.core.display.HTML object>"
      ]
     },
     "metadata": {},
     "output_type": "display_data"
    }
   ],
   "source": [
    "from IPython.display import display, HTML\n",
    "display(HTML(\"<style>.container { width:60% !important; }</style>\"))"
   ]
  },
  {
   "cell_type": "markdown",
   "id": "83f50713",
   "metadata": {},
   "source": [
    "# 함수\n",
    "---\n",
    "- 반복해서 자주 사용하는 코드를 쉽게 사용할수 있도록, 코드의 효율성을 높이기 위해 사용.\n",
    "\n",
    "- 자주 반복적으로 사용하는 코드 덩어리를 반복 타이핑 X / 복붙 X /\n",
    "\n",
    "- 반복해서 자주 사용하는 코드를 함수로 만들면 함수 이름을 호출하면 코드가 실행하도록 사용\n",
    "\n",
    "- 함수 종류 def(deinfe: 함수를 정의한다) 함수이름(매개변수..):     -> 함수 생성 , 매개 변수는 있을수도 없을수도 있음             \n",
    "            실행코드1        # 줄맞춤 맞춰야함\n",
    "            실행코드2\n",
    "            등등..\n",
    "- 함수이름(매개변수값,{매개변수 없는경우도} => 함수 실행\n",
    "---"
   ]
  },
  {
   "cell_type": "markdown",
   "id": "642271c4",
   "metadata": {},
   "source": [
    "#### 함수 정의(생성)\n",
    "---"
   ]
  },
  {
   "cell_type": "code",
   "execution_count": 7,
   "id": "3796fe06",
   "metadata": {},
   "outputs": [],
   "source": [
    "def function():      # 매개변수가 없는 함수\n",
    "    print('함수 테스트입니다.')\n",
    "    \n",
    "    "
   ]
  },
  {
   "cell_type": "code",
   "execution_count": 8,
   "id": "5210be0c",
   "metadata": {},
   "outputs": [
    {
     "name": "stdout",
     "output_type": "stream",
     "text": [
      "함수 테스트입니다.\n"
     ]
    }
   ],
   "source": [
    "function() # 함수의 실행"
   ]
  },
  {
   "cell_type": "code",
   "execution_count": 13,
   "id": "3b47d174",
   "metadata": {},
   "outputs": [],
   "source": [
    "def test_func(a):   # 매개변수 a를 반드시 필요로 하는 함수로 정의한 함수\n",
    "    print('매개변수가 {}가 있는 함수'.format(a))"
   ]
  },
  {
   "cell_type": "code",
   "execution_count": 14,
   "id": "f552a457",
   "metadata": {
    "collapsed": true
   },
   "outputs": [
    {
     "ename": "TypeError",
     "evalue": "test_func() missing 1 required positional argument: 'a'",
     "output_type": "error",
     "traceback": [
      "\u001b[1;31m---------------------------------------------------------------------------\u001b[0m",
      "\u001b[1;31mTypeError\u001b[0m                                 Traceback (most recent call last)",
      "Input \u001b[1;32mIn [14]\u001b[0m, in \u001b[0;36m<cell line: 1>\u001b[1;34m()\u001b[0m\n\u001b[1;32m----> 1\u001b[0m \u001b[43mtest_func\u001b[49m\u001b[43m(\u001b[49m\u001b[43m)\u001b[49m\n",
      "\u001b[1;31mTypeError\u001b[0m: test_func() missing 1 required positional argument: 'a'"
     ]
    }
   ],
   "source": [
    "test_func() # error - 매개변수 값을 전달해야"
   ]
  },
  {
   "cell_type": "code",
   "execution_count": 15,
   "id": "c33564b5",
   "metadata": {},
   "outputs": [
    {
     "name": "stdout",
     "output_type": "stream",
     "text": [
      "매개변수가 a가 있는 함수\n"
     ]
    }
   ],
   "source": [
    "test_func('a')"
   ]
  },
  {
   "cell_type": "code",
   "execution_count": 17,
   "id": "036b9083",
   "metadata": {},
   "outputs": [],
   "source": [
    "def greeting(a): # 매개변수 a를 반드시 필요로 하는 함수로 정의한 함수  \n",
    "    print(\"안녕하세요.{}님!!\".format(a))"
   ]
  },
  {
   "cell_type": "code",
   "execution_count": null,
   "id": "00410e02",
   "metadata": {},
   "outputs": [],
   "source": [
    "greeting() # 매개 변수값을 반드시 전달해야."
   ]
  },
  {
   "cell_type": "code",
   "execution_count": 19,
   "id": "073bf9f5",
   "metadata": {},
   "outputs": [
    {
     "name": "stdout",
     "output_type": "stream",
     "text": [
      "안녕하세요.장원영님!!\n"
     ]
    }
   ],
   "source": [
    "# 함수 호출 (실행)\n",
    "greeting('장원영')"
   ]
  },
  {
   "cell_type": "markdown",
   "id": "310e501d",
   "metadata": {},
   "source": [
    "## 함수의 종류\n",
    "---\n",
    "1. 내장함수 : 파이썬 자체적으로 내장된 함수. print(), len(), max(), sum().. 등등\n",
    "2. 외부함수 : 외부에서 정의된 함수를 저장한 파일(패키지, 라이브러리)을 불러와서 사용.\n",
    "-             (ex : import numpy, import  pandas, import scipy.. 등등)\n",
    "3. 사용자 정의함수 : ex : def 함수이름(): <br>\n",
    "---"
   ]
  },
  {
   "cell_type": "code",
   "execution_count": 68,
   "id": "3614ffae",
   "metadata": {
    "collapsed": true
   },
   "outputs": [
    {
     "data": {
      "text/plain": [
       "['ArithmeticError',\n",
       " 'AssertionError',\n",
       " 'AttributeError',\n",
       " 'BaseException',\n",
       " 'BlockingIOError',\n",
       " 'BrokenPipeError',\n",
       " 'BufferError',\n",
       " 'BytesWarning',\n",
       " 'ChildProcessError',\n",
       " 'ConnectionAbortedError',\n",
       " 'ConnectionError',\n",
       " 'ConnectionRefusedError',\n",
       " 'ConnectionResetError',\n",
       " 'DeprecationWarning',\n",
       " 'EOFError',\n",
       " 'Ellipsis',\n",
       " 'EnvironmentError',\n",
       " 'Exception',\n",
       " 'False',\n",
       " 'FileExistsError',\n",
       " 'FileNotFoundError',\n",
       " 'FloatingPointError',\n",
       " 'FutureWarning',\n",
       " 'GeneratorExit',\n",
       " 'IOError',\n",
       " 'ImportError',\n",
       " 'ImportWarning',\n",
       " 'IndentationError',\n",
       " 'IndexError',\n",
       " 'InterruptedError',\n",
       " 'IsADirectoryError',\n",
       " 'KeyError',\n",
       " 'KeyboardInterrupt',\n",
       " 'LookupError',\n",
       " 'MemoryError',\n",
       " 'ModuleNotFoundError',\n",
       " 'NameError',\n",
       " 'None',\n",
       " 'NotADirectoryError',\n",
       " 'NotImplemented',\n",
       " 'NotImplementedError',\n",
       " 'OSError',\n",
       " 'OverflowError',\n",
       " 'PendingDeprecationWarning',\n",
       " 'PermissionError',\n",
       " 'ProcessLookupError',\n",
       " 'RecursionError',\n",
       " 'ReferenceError',\n",
       " 'ResourceWarning',\n",
       " 'RuntimeError',\n",
       " 'RuntimeWarning',\n",
       " 'StopAsyncIteration',\n",
       " 'StopIteration',\n",
       " 'SyntaxError',\n",
       " 'SyntaxWarning',\n",
       " 'SystemError',\n",
       " 'SystemExit',\n",
       " 'TabError',\n",
       " 'TimeoutError',\n",
       " 'True',\n",
       " 'TypeError',\n",
       " 'UnboundLocalError',\n",
       " 'UnicodeDecodeError',\n",
       " 'UnicodeEncodeError',\n",
       " 'UnicodeError',\n",
       " 'UnicodeTranslateError',\n",
       " 'UnicodeWarning',\n",
       " 'UserWarning',\n",
       " 'ValueError',\n",
       " 'Warning',\n",
       " 'WindowsError',\n",
       " 'ZeroDivisionError',\n",
       " '__IPYTHON__',\n",
       " '__build_class__',\n",
       " '__debug__',\n",
       " '__doc__',\n",
       " '__import__',\n",
       " '__loader__',\n",
       " '__name__',\n",
       " '__package__',\n",
       " '__spec__',\n",
       " 'abs',\n",
       " 'all',\n",
       " 'any',\n",
       " 'ascii',\n",
       " 'bin',\n",
       " 'bool',\n",
       " 'breakpoint',\n",
       " 'bytearray',\n",
       " 'bytes',\n",
       " 'callable',\n",
       " 'chr',\n",
       " 'classmethod',\n",
       " 'compile',\n",
       " 'complex',\n",
       " 'copyright',\n",
       " 'credits',\n",
       " 'delattr',\n",
       " 'dict',\n",
       " 'dir',\n",
       " 'display',\n",
       " 'divmod',\n",
       " 'enumerate',\n",
       " 'eval',\n",
       " 'exec',\n",
       " 'execfile',\n",
       " 'filter',\n",
       " 'float',\n",
       " 'format',\n",
       " 'frozenset',\n",
       " 'get_ipython',\n",
       " 'getattr',\n",
       " 'globals',\n",
       " 'hasattr',\n",
       " 'hash',\n",
       " 'help',\n",
       " 'hex',\n",
       " 'id',\n",
       " 'input',\n",
       " 'int',\n",
       " 'isinstance',\n",
       " 'issubclass',\n",
       " 'iter',\n",
       " 'len',\n",
       " 'license',\n",
       " 'list',\n",
       " 'locals',\n",
       " 'map',\n",
       " 'max',\n",
       " 'memoryview',\n",
       " 'min',\n",
       " 'next',\n",
       " 'object',\n",
       " 'oct',\n",
       " 'open',\n",
       " 'ord',\n",
       " 'pow',\n",
       " 'print',\n",
       " 'property',\n",
       " 'range',\n",
       " 'repr',\n",
       " 'reversed',\n",
       " 'round',\n",
       " 'runfile',\n",
       " 'set',\n",
       " 'setattr',\n",
       " 'slice',\n",
       " 'sorted',\n",
       " 'staticmethod',\n",
       " 'str',\n",
       " 'sum',\n",
       " 'super',\n",
       " 'tuple',\n",
       " 'type',\n",
       " 'vars',\n",
       " 'zip']"
      ]
     },
     "execution_count": 68,
     "metadata": {},
     "output_type": "execute_result"
    }
   ],
   "source": [
    "## 내장함수 종류확인\n",
    "dir(__builtins__)"
   ]
  },
  {
   "cell_type": "code",
   "execution_count": 28,
   "id": "0fc74bd0",
   "metadata": {},
   "outputs": [],
   "source": [
    "# 3개의 정수를 입력받고 최대값을 리턴하는 함수.\n",
    "\n",
    "def max_num_re(a,b,c):\n",
    "    result = max([a,b,c])\n",
    "    return result  # return : 함수가 어떤 값을 전달하고자 할때 리턴을 써야한다."
   ]
  },
  {
   "cell_type": "code",
   "execution_count": 29,
   "id": "7f168f57",
   "metadata": {
    "collapsed": true
   },
   "outputs": [
    {
     "data": {
      "text/plain": [
       "5"
      ]
     },
     "execution_count": 29,
     "metadata": {},
     "output_type": "execute_result"
    }
   ],
   "source": [
    "max_num_re(2,4,5)"
   ]
  },
  {
   "cell_type": "code",
   "execution_count": 30,
   "id": "14a73d65",
   "metadata": {},
   "outputs": [],
   "source": [
    "def max_num_no(a,b,c):\n",
    "    result = max([a,b,c])    # return이 없는 함수 : 함수는 연산은 하지만 값을 전달하지는 않는다."
   ]
  },
  {
   "cell_type": "code",
   "execution_count": 31,
   "id": "feb3e419",
   "metadata": {},
   "outputs": [],
   "source": [
    "max_num_no(2,4,5)"
   ]
  },
  {
   "cell_type": "code",
   "execution_count": 32,
   "id": "d40be467",
   "metadata": {
    "collapsed": true
   },
   "outputs": [
    {
     "data": {
      "text/plain": [
       "5"
      ]
     },
     "execution_count": 32,
     "metadata": {},
     "output_type": "execute_result"
    }
   ],
   "source": [
    "b = max_num_re(2,4,5)\n",
    "b"
   ]
  },
  {
   "cell_type": "code",
   "execution_count": 34,
   "id": "6db7f9ce",
   "metadata": {},
   "outputs": [],
   "source": [
    "c = max_num_no(2,4,5) # 값을 전달받지 못함\n",
    "c"
   ]
  },
  {
   "cell_type": "code",
   "execution_count": 40,
   "id": "c2a48bda",
   "metadata": {},
   "outputs": [],
   "source": [
    "def hello():\n",
    "    print('hello world')\n",
    "    print('hello python!')"
   ]
  },
  {
   "cell_type": "code",
   "execution_count": 41,
   "id": "bc1cadcd",
   "metadata": {},
   "outputs": [
    {
     "name": "stdout",
     "output_type": "stream",
     "text": [
      "hello world\n",
      "hello python!\n"
     ]
    }
   ],
   "source": [
    "hello()"
   ]
  },
  {
   "cell_type": "code",
   "execution_count": 70,
   "id": "4d78ee5f",
   "metadata": {},
   "outputs": [],
   "source": [
    "def score_avg(kor, eng, math):\n",
    "    suma = sum((kor, eng, math))\n",
    "    result = suma/len((kor, eng, math))\n",
    "    return result"
   ]
  },
  {
   "cell_type": "code",
   "execution_count": 71,
   "id": "def825a3",
   "metadata": {},
   "outputs": [
    {
     "data": {
      "text/plain": [
       "81.66666666666667"
      ]
     },
     "execution_count": 71,
     "metadata": {},
     "output_type": "execute_result"
    }
   ],
   "source": [
    "score_avg(95, 85, 65)"
   ]
  },
  {
   "cell_type": "code",
   "execution_count": 1,
   "id": "a4858dca",
   "metadata": {},
   "outputs": [],
   "source": [
    "# 세 과목 점수를 받은 후, 총점, 평균, 최고값, 최소값.\n",
    "\n",
    "def summary_score(a, b, c):    # 함수 만드는 과정\n",
    "    \n",
    "    total = sum((a,b,c))\n",
    "    avg = total/len((a,b,c))\n",
    "    max_v = max((a,b,c))\n",
    "    min_v = min((a,b,c))\n",
    "\n",
    "    return total, avg, max_v, min_v\n",
    "    "
   ]
  },
  {
   "cell_type": "code",
   "execution_count": 4,
   "id": "53ee0c9d",
   "metadata": {},
   "outputs": [
    {
     "data": {
      "text/plain": [
       "(259, 86.33333333333333, 87, 85)"
      ]
     },
     "execution_count": 4,
     "metadata": {},
     "output_type": "execute_result"
    }
   ],
   "source": [
    "summary_score(87, 85, 87) # 함수 실행"
   ]
  },
  {
   "cell_type": "code",
   "execution_count": 5,
   "id": "7455f114",
   "metadata": {},
   "outputs": [],
   "source": [
    "t, a, mx, mn = summary_score(87, 85, 67)"
   ]
  },
  {
   "cell_type": "code",
   "execution_count": 6,
   "id": "a4816fd1",
   "metadata": {},
   "outputs": [
    {
     "name": "stdout",
     "output_type": "stream",
     "text": [
      "239 79.66666666666667 87 67\n"
     ]
    }
   ],
   "source": [
    "print(t, a, mx, mn)"
   ]
  },
  {
   "cell_type": "code",
   "execution_count": null,
   "id": "3ec0e70a",
   "metadata": {},
   "outputs": [],
   "source": [
    "# 임의의 정수 n을 입력받은후 1부터 n까지 합을 리턴하는 함수를 정의하고 실행하시오."
   ]
  },
  {
   "cell_type": "code",
   "execution_count": 95,
   "id": "cc587076",
   "metadata": {},
   "outputs": [
    {
     "data": {
      "text/plain": [
       "120"
      ]
     },
     "execution_count": 95,
     "metadata": {},
     "output_type": "execute_result"
    }
   ],
   "source": [
    "def to_suma(m):\n",
    "    t_sum = 0\n",
    "    for i in range(m+1):\n",
    "        t_sum += i\n",
    "    return t_sum\n",
    "to_suma(15)"
   ]
  },
  {
   "cell_type": "code",
   "execution_count": 8,
   "id": "e5b3b064",
   "metadata": {},
   "outputs": [],
   "source": [
    "# 절대값을 리턴하는 abs() 내장함수를 직접 구현하여 사용자함수로 생성하시오.\n",
    "\n",
    "def abs_func(n):\n",
    "    \n",
    "    if (type(n) == int) or (type(n) == float):\n",
    "        if n < 0:\n",
    "            return n*(-1)\n",
    "        else:\n",
    "            return n\n",
    "    else:\n",
    "        print('정수를 입력하세요')"
   ]
  },
  {
   "cell_type": "code",
   "execution_count": 10,
   "id": "e6a724fd",
   "metadata": {},
   "outputs": [
    {
     "data": {
      "text/plain": [
       "100"
      ]
     },
     "execution_count": 10,
     "metadata": {},
     "output_type": "execute_result"
    }
   ],
   "source": [
    "abs_func(-100)\n"
   ]
  },
  {
   "cell_type": "code",
   "execution_count": 11,
   "id": "6fcc98d4",
   "metadata": {},
   "outputs": [
    {
     "name": "stdout",
     "output_type": "stream",
     "text": [
      "정수를 입력하세요\n"
     ]
    }
   ],
   "source": [
    "abs_func('rk')"
   ]
  },
  {
   "cell_type": "code",
   "execution_count": 16,
   "id": "1f51e36c",
   "metadata": {},
   "outputs": [],
   "source": [
    "# 반지름을 입력받은 후 원의 면적과 원둘레의 길이를 리턴하는 함수를 정의.\n",
    "\n",
    "# 원면적 = (r**2)*3.14\n",
    "# 원의둘레 = r*2*3.14\n",
    "\n",
    "def circle(r):\n",
    "    pi = 3.14\n",
    "    circle_area = (r**2)*pi\n",
    "    circle_perimeter = r*2*pi\n",
    "    return circle_area, circle_perimeter"
   ]
  },
  {
   "cell_type": "code",
   "execution_count": 17,
   "id": "edfcc7df",
   "metadata": {},
   "outputs": [],
   "source": [
    "area, peri = circle(15)"
   ]
  },
  {
   "cell_type": "code",
   "execution_count": 18,
   "id": "e7f49245",
   "metadata": {},
   "outputs": [
    {
     "data": {
      "text/plain": [
       "706.5"
      ]
     },
     "execution_count": 18,
     "metadata": {},
     "output_type": "execute_result"
    }
   ],
   "source": [
    "area"
   ]
  },
  {
   "cell_type": "code",
   "execution_count": 19,
   "id": "1cce44f5",
   "metadata": {},
   "outputs": [
    {
     "data": {
      "text/plain": [
       "94.2"
      ]
     },
     "execution_count": 19,
     "metadata": {},
     "output_type": "execute_result"
    }
   ],
   "source": [
    "peri"
   ]
  },
  {
   "cell_type": "code",
   "execution_count": 20,
   "id": "5ec4a09a",
   "metadata": {},
   "outputs": [],
   "source": [
    "#주민번호 입력받고 나이와 성별을 출력하는 함수.\n",
    "\n",
    "def personal_info(id_num):\n",
    "    \n",
    "    id_num = str(id_num)\n",
    "    \n",
    "    text = \"당신은 {}이고, 나이는 {}입니다\"\n",
    "\n",
    "    if id_num[-1] ==  '1':\n",
    "        age = 2022 - int('19'+id_num[:2])\n",
    "        gender = 'male'\n",
    "    elif id_num[-1] ==  '2':\n",
    "        age = 2022 - int('19'+id_num[:2])\n",
    "        gender = 'female'\n",
    "    elif id_num[-1] ==  '3':\n",
    "        age = 2022 - int('20'+id_num[:2])\n",
    "        gender = 'male'\n",
    "    else:\n",
    "        age = 2022 - int('20'+id_num[:2])\n",
    "        gender = 'female'\n",
    "\n",
    "    return gender, age"
   ]
  },
  {
   "cell_type": "code",
   "execution_count": 21,
   "id": "34380968",
   "metadata": {},
   "outputs": [
    {
     "data": {
      "text/plain": [
       "('female', 23)"
      ]
     },
     "execution_count": 21,
     "metadata": {},
     "output_type": "execute_result"
    }
   ],
   "source": [
    "personal_info('990505-2')"
   ]
  },
  {
   "cell_type": "code",
   "execution_count": 96,
   "id": "76a38ab2",
   "metadata": {},
   "outputs": [],
   "source": [
    "# 나이와 성별을 입력받은 후, \n",
    "# 나이가 20세 이상이고 남성이면 , 남성이시군요 출력\n",
    "# 나이가 20세 미만이고 남성이면 , 소년이시군요 출력\n",
    "# 나이가 20세 미만이고 여성이면 , 여성이시군요 출력\n",
    "# 나이가 20세 미만이고 여성이면 , 소녀이시군요 출력"
   ]
  },
  {
   "cell_type": "code",
   "execution_count": 125,
   "id": "e88189b5",
   "metadata": {},
   "outputs": [],
   "source": [
    "def welcome(age ,gender):\n",
    "    if age >= 20:\n",
    "        if gender == '남성':\n",
    "            return '남성이시군요'\n",
    "        else:\n",
    "            return '여성이시군요'\n",
    "    else:\n",
    "        if gender =='남성':\n",
    "            return '소년이시군요'\n",
    "        else:\n",
    "            return '소녀시군요'"
   ]
  },
  {
   "cell_type": "code",
   "execution_count": 126,
   "id": "b32c415d",
   "metadata": {},
   "outputs": [
    {
     "data": {
      "text/plain": [
       "'소녀시군요'"
      ]
     },
     "execution_count": 126,
     "metadata": {},
     "output_type": "execute_result"
    }
   ],
   "source": [
    "welcome(16,'여성')"
   ]
  },
  {
   "cell_type": "code",
   "execution_count": null,
   "id": "1e7ba2b5",
   "metadata": {},
   "outputs": [],
   "source": [
    "# 기본값을 갖는 매개변수"
   ]
  },
  {
   "cell_type": "code",
   "execution_count": 22,
   "id": "8d17aac7",
   "metadata": {},
   "outputs": [],
   "source": [
    "def inc(a, step=1):\n",
    "    return a + step"
   ]
  },
  {
   "cell_type": "code",
   "execution_count": 23,
   "id": "400dc169",
   "metadata": {},
   "outputs": [
    {
     "data": {
      "text/plain": [
       "3"
      ]
     },
     "execution_count": 23,
     "metadata": {},
     "output_type": "execute_result"
    }
   ],
   "source": [
    "inc(1, 2)"
   ]
  },
  {
   "cell_type": "code",
   "execution_count": 24,
   "id": "40b9b805",
   "metadata": {},
   "outputs": [
    {
     "data": {
      "text/plain": [
       "6"
      ]
     },
     "execution_count": 24,
     "metadata": {},
     "output_type": "execute_result"
    }
   ],
   "source": [
    "inc(5)"
   ]
  },
  {
   "cell_type": "code",
   "execution_count": 25,
   "id": "2affce1b",
   "metadata": {
    "collapsed": true
   },
   "outputs": [
    {
     "ename": "SyntaxError",
     "evalue": "non-default argument follows default argument (3893533673.py, line 1)",
     "output_type": "error",
     "traceback": [
      "\u001b[1;36m  Input \u001b[1;32mIn [25]\u001b[1;36m\u001b[0m\n\u001b[1;33m    def inc(step=1, a):   # 기본값을 갖는 매개변수가 일반 매개변수보다 뒤에 위치해야..\u001b[0m\n\u001b[1;37m                     ^\u001b[0m\n\u001b[1;31mSyntaxError\u001b[0m\u001b[1;31m:\u001b[0m non-default argument follows default argument\n"
     ]
    }
   ],
   "source": [
    "def inc(step=1, a):   # 기본값을 갖는 매개변수가 일반 매개변수보다 뒤에 위치해야..\n",
    "    return a + step"
   ]
  },
  {
   "cell_type": "code",
   "execution_count": 27,
   "id": "02092162",
   "metadata": {},
   "outputs": [],
   "source": [
    "def area(x, y):\n",
    "    return x*y"
   ]
  },
  {
   "cell_type": "code",
   "execution_count": 28,
   "id": "6905b111",
   "metadata": {
    "collapsed": true
   },
   "outputs": [
    {
     "data": {
      "text/plain": [
       "50"
      ]
     },
     "execution_count": 28,
     "metadata": {},
     "output_type": "execute_result"
    }
   ],
   "source": [
    "area(10, 5)"
   ]
  },
  {
   "cell_type": "code",
   "execution_count": 29,
   "id": "8cf805df",
   "metadata": {
    "scrolled": true
   },
   "outputs": [
    {
     "data": {
      "text/plain": [
       "50"
      ]
     },
     "execution_count": 29,
     "metadata": {},
     "output_type": "execute_result"
    }
   ],
   "source": [
    "area(x=10, y=5)"
   ]
  },
  {
   "cell_type": "code",
   "execution_count": 30,
   "id": "c8dc2578",
   "metadata": {},
   "outputs": [
    {
     "data": {
      "text/plain": [
       "50"
      ]
     },
     "execution_count": 30,
     "metadata": {},
     "output_type": "execute_result"
    }
   ],
   "source": [
    "area(10, y=5)"
   ]
  },
  {
   "cell_type": "code",
   "execution_count": null,
   "id": "f75c834d",
   "metadata": {},
   "outputs": [],
   "source": [
    "# 가변 매개변수..\n",
    "# *변수 : 값을 전달받지 않거나, 여러개의 값을 동시에 받을 수가 있다.."
   ]
  },
  {
   "cell_type": "code",
   "execution_count": 31,
   "id": "20bb97d2",
   "metadata": {},
   "outputs": [],
   "source": [
    "def foo(a, *b):  #  *b : 가변 매개변수\n",
    "    print(a, b)"
   ]
  },
  {
   "cell_type": "code",
   "execution_count": 32,
   "id": "5ab294a2",
   "metadata": {},
   "outputs": [
    {
     "name": "stdout",
     "output_type": "stream",
     "text": [
      "5 ()\n"
     ]
    }
   ],
   "source": [
    "foo(5)"
   ]
  },
  {
   "cell_type": "code",
   "execution_count": 33,
   "id": "3eb036b3",
   "metadata": {},
   "outputs": [
    {
     "name": "stdout",
     "output_type": "stream",
     "text": [
      "5 (6,)\n"
     ]
    }
   ],
   "source": [
    "foo(5,6)"
   ]
  },
  {
   "cell_type": "code",
   "execution_count": 34,
   "id": "8a174557",
   "metadata": {},
   "outputs": [
    {
     "name": "stdout",
     "output_type": "stream",
     "text": [
      "1 (2, 4, 5, 6)\n"
     ]
    }
   ],
   "source": [
    "foo(1,2,4,5,6)"
   ]
  },
  {
   "cell_type": "code",
   "execution_count": 35,
   "id": "d693feef",
   "metadata": {},
   "outputs": [],
   "source": [
    "def avg(first, *rest):\n",
    "    return (first+sum(rest))/ (1+len(rest))"
   ]
  },
  {
   "cell_type": "code",
   "execution_count": 36,
   "id": "7fdbc8d3",
   "metadata": {},
   "outputs": [
    {
     "data": {
      "text/plain": [
       "15.0"
      ]
     },
     "execution_count": 36,
     "metadata": {},
     "output_type": "execute_result"
    }
   ],
   "source": [
    "avg(10, 20)"
   ]
  },
  {
   "cell_type": "code",
   "execution_count": 37,
   "id": "a5f20d15",
   "metadata": {},
   "outputs": [
    {
     "data": {
      "text/plain": [
       "30.0"
      ]
     },
     "execution_count": 37,
     "metadata": {},
     "output_type": "execute_result"
    }
   ],
   "source": [
    "avg(10, 20, 30, 40, 50)"
   ]
  },
  {
   "cell_type": "code",
   "execution_count": 38,
   "id": "760d7a1f",
   "metadata": {},
   "outputs": [],
   "source": [
    "def test_args(arg, *args):\n",
    "    print(\"arg :\", arg)\n",
    "    for x in args:\n",
    "        print('In args :', x)"
   ]
  },
  {
   "cell_type": "code",
   "execution_count": 39,
   "id": "82e00517",
   "metadata": {},
   "outputs": [
    {
     "name": "stdout",
     "output_type": "stream",
     "text": [
      "arg : 1\n",
      "In args : 2\n",
      "In args : 3\n",
      "In args : 4\n"
     ]
    }
   ],
   "source": [
    "test_args(1,2,3,4)"
   ]
  },
  {
   "cell_type": "code",
   "execution_count": 40,
   "id": "ea10d45d",
   "metadata": {},
   "outputs": [],
   "source": [
    "# 키워드 매개변수"
   ]
  },
  {
   "cell_type": "code",
   "execution_count": 41,
   "id": "225a2063",
   "metadata": {},
   "outputs": [],
   "source": [
    "def foo(x, y, **kw):\n",
    "    print(x,y)\n",
    "    print(kw)"
   ]
  },
  {
   "cell_type": "code",
   "execution_count": 42,
   "id": "f527fc97",
   "metadata": {},
   "outputs": [
    {
     "name": "stdout",
     "output_type": "stream",
     "text": [
      "5 6\n",
      "{'z': 7}\n"
     ]
    }
   ],
   "source": [
    "foo(x=5, y=6, z=7)"
   ]
  },
  {
   "cell_type": "code",
   "execution_count": 43,
   "id": "13d62911",
   "metadata": {},
   "outputs": [
    {
     "name": "stdout",
     "output_type": "stream",
     "text": [
      "5 6\n",
      "{'z': 7}\n"
     ]
    }
   ],
   "source": [
    "foo(5, 6, z=7)"
   ]
  },
  {
   "cell_type": "code",
   "execution_count": 44,
   "id": "27d93b8c",
   "metadata": {},
   "outputs": [
    {
     "name": "stdout",
     "output_type": "stream",
     "text": [
      "10 20\n",
      "{'a': 1, 'b': 2, 'c': 3}\n"
     ]
    }
   ],
   "source": [
    "foo(10, 20, a=1, b=2, c=3)"
   ]
  },
  {
   "cell_type": "code",
   "execution_count": 45,
   "id": "615660fb",
   "metadata": {},
   "outputs": [],
   "source": [
    "###############"
   ]
  },
  {
   "cell_type": "code",
   "execution_count": 46,
   "id": "9a21e686",
   "metadata": {},
   "outputs": [],
   "source": [
    "def test_kwargs(arg, **kwargs):\n",
    "    print('arg :', arg)\n",
    "    for key in kwargs:\n",
    "        print(kwargs[key])"
   ]
  },
  {
   "cell_type": "code",
   "execution_count": 47,
   "id": "388b5fa1",
   "metadata": {},
   "outputs": [
    {
     "name": "stdout",
     "output_type": "stream",
     "text": [
      "arg : 10\n",
      "one\n",
      "two\n",
      "three\n"
     ]
    }
   ],
   "source": [
    "test_kwargs(10, a='one', b='two', c='three')"
   ]
  },
  {
   "cell_type": "code",
   "execution_count": 48,
   "id": "f10808bd",
   "metadata": {},
   "outputs": [],
   "source": [
    "def foo(a, b, *args, **kw):\n",
    "    print(a,b)\n",
    "    print(args)\n",
    "    print(kw)"
   ]
  },
  {
   "cell_type": "code",
   "execution_count": 49,
   "id": "18b059df",
   "metadata": {},
   "outputs": [
    {
     "name": "stdout",
     "output_type": "stream",
     "text": [
      "1 2\n",
      "(3, 4, 6, 7)\n",
      "{'c': 5, 'd': 10}\n"
     ]
    }
   ],
   "source": [
    "foo(1,2,3,4,6,7,c=5,d=10)"
   ]
  },
  {
   "cell_type": "code",
   "execution_count": null,
   "id": "1905fb2e",
   "metadata": {},
   "outputs": [],
   "source": [
    "# 전역변수 - 함수 밖에서 선언된 변수\n",
    "# 지역변수 - 함수 내에서 선언된 변수"
   ]
  },
  {
   "cell_type": "code",
   "execution_count": 50,
   "id": "93d5ccf9",
   "metadata": {},
   "outputs": [
    {
     "name": "stdout",
     "output_type": "stream",
     "text": [
      "10\n"
     ]
    }
   ],
   "source": [
    "a = 10  # 전역변수\n",
    "\n",
    "def foo():\n",
    "    print(a)   # 전역변수\n",
    "    \n",
    "foo()"
   ]
  },
  {
   "cell_type": "code",
   "execution_count": 51,
   "id": "3a523dc7",
   "metadata": {},
   "outputs": [
    {
     "name": "stdout",
     "output_type": "stream",
     "text": [
      "100\n"
     ]
    }
   ],
   "source": [
    "a = 10  # 전역변수\n",
    "\n",
    "def foo():\n",
    "    a=100   # 지역변수\n",
    "    print(a)\n",
    "    \n",
    "foo()"
   ]
  },
  {
   "cell_type": "code",
   "execution_count": 52,
   "id": "2dece29c",
   "metadata": {},
   "outputs": [
    {
     "ename": "UnboundLocalError",
     "evalue": "local variable 'a' referenced before assignment",
     "output_type": "error",
     "traceback": [
      "\u001b[1;31m---------------------------------------------------------------------------\u001b[0m",
      "\u001b[1;31mUnboundLocalError\u001b[0m                         Traceback (most recent call last)",
      "Input \u001b[1;32mIn [52]\u001b[0m, in \u001b[0;36m<cell line: 8>\u001b[1;34m()\u001b[0m\n\u001b[0;32m      5\u001b[0m     a \u001b[38;5;241m=\u001b[39m \u001b[38;5;241m200\u001b[39m   \u001b[38;5;66;03m# 지역변수 선언\u001b[39;00m\n\u001b[0;32m      6\u001b[0m     \u001b[38;5;28mprint\u001b[39m(a)  \u001b[38;5;66;03m# 지역변수 출력\u001b[39;00m\n\u001b[1;32m----> 8\u001b[0m \u001b[43mfoo\u001b[49m\u001b[43m(\u001b[49m\u001b[43m)\u001b[49m\n",
      "Input \u001b[1;32mIn [52]\u001b[0m, in \u001b[0;36mfoo\u001b[1;34m()\u001b[0m\n\u001b[0;32m      3\u001b[0m \u001b[38;5;28;01mdef\u001b[39;00m \u001b[38;5;21mfoo\u001b[39m():\n\u001b[1;32m----> 4\u001b[0m     \u001b[38;5;28mprint\u001b[39m(\u001b[43ma\u001b[49m)  \u001b[38;5;66;03m# 지역변수 선언하기 전에 지역변수를 출력 - error\u001b[39;00m\n\u001b[0;32m      5\u001b[0m     a \u001b[38;5;241m=\u001b[39m \u001b[38;5;241m200\u001b[39m   \u001b[38;5;66;03m# 지역변수 선언\u001b[39;00m\n\u001b[0;32m      6\u001b[0m     \u001b[38;5;28mprint\u001b[39m(a)\n",
      "\u001b[1;31mUnboundLocalError\u001b[0m: local variable 'a' referenced before assignment"
     ]
    }
   ],
   "source": [
    "a = 100  # 전역변수\n",
    "\n",
    "def foo():\n",
    "    print(a)  # 지역변수 선언하기 전에 지역변수를 출력 - error\n",
    "    a = 200   # 지역변수 선언\n",
    "    print(a)  # 지역변수 출력\n",
    "\n",
    "foo()"
   ]
  },
  {
   "cell_type": "code",
   "execution_count": 53,
   "id": "4dd8693b",
   "metadata": {},
   "outputs": [
    {
     "name": "stdout",
     "output_type": "stream",
     "text": [
      "100\n",
      "200\n",
      "200\n"
     ]
    }
   ],
   "source": [
    "a = 100   # 전역변수\n",
    "\n",
    "def foo():\n",
    "    global a   # 함수 내에서 전역변수를 선언\n",
    "    print(a)   # 전역변수 출력\n",
    "    a = 200    # 전역변수 값이 변경\n",
    "    print(a)   # 전역변수 값이 출력\n",
    "    \n",
    "foo()\n",
    "\n",
    "print(a)  # 200"
   ]
  },
  {
   "cell_type": "code",
   "execution_count": 54,
   "id": "519a7f19",
   "metadata": {},
   "outputs": [
    {
     "name": "stdout",
     "output_type": "stream",
     "text": [
      "50\n",
      "50\n"
     ]
    }
   ],
   "source": [
    "def foo():\n",
    "    global a  # 전역변수 선언\n",
    "    a = 50    # 전역변수에 값을 할당\n",
    "    print(a)\n",
    "    \n",
    "foo()\n",
    "\n",
    "print(a)"
   ]
  },
  {
   "cell_type": "code",
   "execution_count": 55,
   "id": "426d018a",
   "metadata": {},
   "outputs": [
    {
     "name": "stdout",
     "output_type": "stream",
     "text": [
      "1 : I learn Python\n",
      "2 : I learn Python\n",
      "3 : I learn Java\n",
      "4 : I learn Java\n"
     ]
    }
   ],
   "source": [
    "def foo():\n",
    "    global s    # 전역변수 s 선언\n",
    "    print('2 :', s)   # 전역변수 출력\n",
    "    s = 'I learn Java'   # 전역변수 값을 변경\n",
    "    print('3 :', s)   # 전역변수를 출력\n",
    "    \n",
    "s = 'I learn Python'  # 전역변수\n",
    "print('1 :', s)  # 'I learn Python'\n",
    "\n",
    "foo()  # 'I learn Python'\n",
    "       # 'I learn Java'\n",
    "    \n",
    "print('4 :', s)  # 'I learn Java'"
   ]
  },
  {
   "cell_type": "code",
   "execution_count": 56,
   "id": "6334ba4e",
   "metadata": {},
   "outputs": [],
   "source": [
    "def foo(x,y):\n",
    "    global a  # 전역변수\n",
    "    a = 10    # 전역변수값 변경\n",
    "    x,y = y,x # 지역변수\n",
    "    b = 20    # 지역변수\n",
    "    c = 30    # 지역변수\n",
    "    print(a,b,x,y)"
   ]
  },
  {
   "cell_type": "code",
   "execution_count": 57,
   "id": "148bb297",
   "metadata": {},
   "outputs": [],
   "source": [
    "a,b,x,y = 11,22,33,44  # 전역변수 선언"
   ]
  },
  {
   "cell_type": "code",
   "execution_count": 58,
   "id": "38fe8260",
   "metadata": {},
   "outputs": [
    {
     "name": "stdout",
     "output_type": "stream",
     "text": [
      "10 20 200 100\n"
     ]
    }
   ],
   "source": [
    "foo(100,200)\n",
    "# 10,  20, 200, 100"
   ]
  },
  {
   "cell_type": "code",
   "execution_count": 59,
   "id": "b145d95d",
   "metadata": {},
   "outputs": [
    {
     "name": "stdout",
     "output_type": "stream",
     "text": [
      "10 22 33 44\n"
     ]
    }
   ],
   "source": [
    "print(a,b,x,y)      # 전역변수, 전역변수, 전역변수, 전역변수\n",
    "# 10, 22, 33, 44"
   ]
  },
  {
   "cell_type": "code",
   "execution_count": null,
   "id": "05dac248",
   "metadata": {},
   "outputs": [],
   "source": [
    "# 파이썬 특수 함수."
   ]
  },
  {
   "cell_type": "code",
   "execution_count": null,
   "id": "f2ee450a",
   "metadata": {},
   "outputs": [],
   "source": [
    "# lambda 함수\n",
    "#   lambda 매개변수 : 실행코드"
   ]
  },
  {
   "cell_type": "code",
   "execution_count": 60,
   "id": "5eeffff5",
   "metadata": {},
   "outputs": [],
   "source": [
    "def add(x,y):\n",
    "    return x+y"
   ]
  },
  {
   "cell_type": "code",
   "execution_count": 61,
   "id": "72c1dd47",
   "metadata": {},
   "outputs": [
    {
     "data": {
      "text/plain": [
       "5"
      ]
     },
     "execution_count": 61,
     "metadata": {},
     "output_type": "execute_result"
    }
   ],
   "source": [
    "ad = lambda x, y: x+y\n",
    "ad(2,3)"
   ]
  },
  {
   "cell_type": "code",
   "execution_count": 62,
   "id": "5b1c5170",
   "metadata": {},
   "outputs": [],
   "source": [
    "def gi(func):\n",
    "    return [func(x) for x in range(-5,5)] "
   ]
  },
  {
   "cell_type": "code",
   "execution_count": 63,
   "id": "6796f746",
   "metadata": {},
   "outputs": [
    {
     "data": {
      "text/plain": [
       "[0, -6, -10, -12, -12, -10, -6, 0, 8, 18]"
      ]
     },
     "execution_count": 63,
     "metadata": {},
     "output_type": "execute_result"
    }
   ],
   "source": [
    "gi(lambda x: x*x + 3*x -10)"
   ]
  },
  {
   "cell_type": "code",
   "execution_count": 64,
   "id": "3fe1ed32",
   "metadata": {},
   "outputs": [
    {
     "data": {
      "text/plain": [
       "[25, 16, 9, 4, 1, 0, 1, 4, 9, 16]"
      ]
     },
     "execution_count": 64,
     "metadata": {},
     "output_type": "execute_result"
    }
   ],
   "source": [
    "gi(lambda x: x*x)"
   ]
  },
  {
   "cell_type": "code",
   "execution_count": 65,
   "id": "28c8a895",
   "metadata": {},
   "outputs": [
    {
     "data": {
      "text/plain": [
       "6"
      ]
     },
     "execution_count": 65,
     "metadata": {},
     "output_type": "execute_result"
    }
   ],
   "source": [
    "incr = lambda x, inc=1 : x + inc\n",
    "incr(2,4)"
   ]
  },
  {
   "cell_type": "code",
   "execution_count": 66,
   "id": "f6c4e260",
   "metadata": {},
   "outputs": [
    {
     "data": {
      "text/plain": [
       "6"
      ]
     },
     "execution_count": 66,
     "metadata": {},
     "output_type": "execute_result"
    }
   ],
   "source": [
    "incr(5)"
   ]
  },
  {
   "cell_type": "code",
   "execution_count": 67,
   "id": "8479c286",
   "metadata": {},
   "outputs": [
    {
     "data": {
      "text/plain": [
       "(2, 3, 4, 5)"
      ]
     },
     "execution_count": 67,
     "metadata": {},
     "output_type": "execute_result"
    }
   ],
   "source": [
    "vargs = lambda x, *args: args\n",
    "vargs(1,2,3,4,5)"
   ]
  },
  {
   "cell_type": "code",
   "execution_count": 68,
   "id": "f0cc0bf7",
   "metadata": {},
   "outputs": [
    {
     "data": {
      "text/plain": [
       "{'a': 5, 'b': 7}"
      ]
     },
     "execution_count": 68,
     "metadata": {},
     "output_type": "execute_result"
    }
   ],
   "source": [
    "kwords = lambda x, *args, **kw : kw\n",
    "kwords(1,2,3,a=5,b=7)"
   ]
  },
  {
   "cell_type": "code",
   "execution_count": null,
   "id": "8a9e9b91",
   "metadata": {},
   "outputs": [],
   "source": [
    "# map함수"
   ]
  },
  {
   "cell_type": "code",
   "execution_count": 69,
   "id": "a8b69f6b",
   "metadata": {},
   "outputs": [
    {
     "data": {
      "text/plain": [
       "[1, 4, 9, 16, 25]"
      ]
     },
     "execution_count": 69,
     "metadata": {},
     "output_type": "execute_result"
    }
   ],
   "source": [
    "def f(x):\n",
    "    return x*x\n",
    "\n",
    "x = [1,2,3,4,5]\n",
    "\n",
    "list(map(f, x))"
   ]
  },
  {
   "cell_type": "code",
   "execution_count": 70,
   "id": "39b10511",
   "metadata": {},
   "outputs": [
    {
     "data": {
      "text/plain": [
       "[5, 4, 3, 6]"
      ]
     },
     "execution_count": 70,
     "metadata": {},
     "output_type": "execute_result"
    }
   ],
   "source": [
    "names = ['Alice', 'Paul', 'Bob', 'Robert']\n",
    "\n",
    "list(map(len, names))"
   ]
  },
  {
   "cell_type": "code",
   "execution_count": 71,
   "id": "7be4f4d3",
   "metadata": {},
   "outputs": [
    {
     "data": {
      "text/plain": [
       "[1, 4, 9, 16, 25]"
      ]
     },
     "execution_count": 71,
     "metadata": {},
     "output_type": "execute_result"
    }
   ],
   "source": [
    "A = [1,2,3,4,5]\n",
    "list(map(lambda x: x*x, A))"
   ]
  },
  {
   "cell_type": "code",
   "execution_count": 72,
   "id": "694d896a",
   "metadata": {},
   "outputs": [
    {
     "data": {
      "text/plain": [
       "[7, 9, 11, 13, 15]"
      ]
     },
     "execution_count": 72,
     "metadata": {},
     "output_type": "execute_result"
    }
   ],
   "source": [
    "x = [1,2,3,4,5]\n",
    "y = [6,7,8,9,10]\n",
    "\n",
    "list(map(lambda x,y: x+y, x, y))"
   ]
  },
  {
   "cell_type": "code",
   "execution_count": null,
   "id": "fe6ce012",
   "metadata": {},
   "outputs": [],
   "source": [
    "# filter함수"
   ]
  },
  {
   "cell_type": "code",
   "execution_count": 74,
   "id": "94f67349",
   "metadata": {},
   "outputs": [
    {
     "data": {
      "text/plain": [
       "[7, 9]"
      ]
     },
     "execution_count": 74,
     "metadata": {},
     "output_type": "execute_result"
    }
   ],
   "source": [
    "x = [1,3,5,7,9]\n",
    "list(filter(lambda x: x>5, x))"
   ]
  },
  {
   "cell_type": "code",
   "execution_count": 75,
   "id": "93a73b54",
   "metadata": {},
   "outputs": [
    {
     "data": {
      "text/plain": [
       "[1, 3, 5, 7, 9]"
      ]
     },
     "execution_count": 75,
     "metadata": {},
     "output_type": "execute_result"
    }
   ],
   "source": [
    "list(filter(lambda x: x%2==1, range(11)))"
   ]
  },
  {
   "cell_type": "code",
   "execution_count": 76,
   "id": "06750766",
   "metadata": {},
   "outputs": [
    {
     "data": {
      "text/plain": [
       "'A-B-C-D-E-F'"
      ]
     },
     "execution_count": 76,
     "metadata": {},
     "output_type": "execute_result"
    }
   ],
   "source": [
    "dash = '-'\n",
    "dash.join(list(filter(lambda x: x<'a', 'abcABCdefDEF')))"
   ]
  },
  {
   "cell_type": "markdown",
   "id": "dc4472bd",
   "metadata": {},
   "source": [
    "### 함수\n",
    "1. 파이썬 내장함수\n",
    "2. 사용자 정의함수\n",
    "3. 외장함수 - 외부에서 가져와서 사용하는 함수(패키지, 라이브러리)\n",
    "---"
   ]
  },
  {
   "cell_type": "code",
   "execution_count": null,
   "id": "5f81048d",
   "metadata": {},
   "outputs": [],
   "source": []
  },
  {
   "cell_type": "code",
   "execution_count": null,
   "id": "308f2d18",
   "metadata": {},
   "outputs": [],
   "source": []
  }
 ],
 "metadata": {
  "kernelspec": {
   "display_name": "Python 3 (ipykernel)",
   "language": "python",
   "name": "python3"
  },
  "language_info": {
   "codemirror_mode": {
    "name": "ipython",
    "version": 3
   },
   "file_extension": ".py",
   "mimetype": "text/x-python",
   "name": "python",
   "nbconvert_exporter": "python",
   "pygments_lexer": "ipython3",
   "version": "3.9.12"
  },
  "toc": {
   "base_numbering": 1,
   "nav_menu": {},
   "number_sections": true,
   "sideBar": true,
   "skip_h1_title": false,
   "title_cell": "Table of Contents",
   "title_sidebar": "Contents",
   "toc_cell": false,
   "toc_position": {},
   "toc_section_display": true,
   "toc_window_display": false
  },
  "varInspector": {
   "cols": {
    "lenName": 16,
    "lenType": 16,
    "lenVar": 40
   },
   "kernels_config": {
    "python": {
     "delete_cmd_postfix": "",
     "delete_cmd_prefix": "del ",
     "library": "var_list.py",
     "varRefreshCmd": "print(var_dic_list())"
    },
    "r": {
     "delete_cmd_postfix": ") ",
     "delete_cmd_prefix": "rm(",
     "library": "var_list.r",
     "varRefreshCmd": "cat(var_dic_list()) "
    }
   },
   "types_to_exclude": [
    "module",
    "function",
    "builtin_function_or_method",
    "instance",
    "_Feature"
   ],
   "window_display": false
  }
 },
 "nbformat": 4,
 "nbformat_minor": 5
}
