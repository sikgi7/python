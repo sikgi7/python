{
 "cells": [
  {
   "cell_type": "code",
   "execution_count": 4,
   "id": "4edbd3ba",
   "metadata": {},
   "outputs": [
    {
     "data": {
      "text/html": [
       "<style>.container { width:60% !important; }</style>"
      ],
      "text/plain": [
       "<IPython.core.display.HTML object>"
      ]
     },
     "metadata": {},
     "output_type": "display_data"
    }
   ],
   "source": [
    "from IPython.display import display, HTML\n",
    "display(HTML(\"<style>.container { width:60% !important; }</style>\"))"
   ]
  },
  {
   "cell_type": "markdown",
   "id": "83f50713",
   "metadata": {},
   "source": [
    "# 함수\n",
    "---\n",
    "- 반복해서 자주 사용하는 코드를 쉽게 사용할수 있도록, 코드의 효율성을 높이기 위해 사용.\n",
    "\n",
    "- 자주 반복적으로 사용하는 코드 덩어리를 반복 타이핑 X / 복붙 X /\n",
    "\n",
    "- 반복해서 자주 사용하는 코드를 함수로 만들면 함수 이름을 호출하면 코드가 실행하도록 사용\n",
    "\n",
    "- 함수 종류 def(deinfe: 함수를 정의한다) 함수이름(매개변수..):     -> 함수 생성 , 매개 변수는 있을수도 없을수도 있음             \n",
    "            실행코드1        # 줄맞춤 맞춰야함\n",
    "            실행코드2\n",
    "            등등..\n",
    "- 함수이름(매개변수값,{매개변수 없는경우도} => 함수 실행\n",
    "---"
   ]
  },
  {
   "cell_type": "markdown",
   "id": "642271c4",
   "metadata": {},
   "source": [
    "#### 함수 정의(생성)\n",
    "---"
   ]
  },
  {
   "cell_type": "code",
   "execution_count": 7,
   "id": "3796fe06",
   "metadata": {},
   "outputs": [],
   "source": [
    "def function():      # 매개변수가 없는 함수\n",
    "    print('함수 테스트입니다.')\n",
    "    \n",
    "    "
   ]
  },
  {
   "cell_type": "code",
   "execution_count": 8,
   "id": "5210be0c",
   "metadata": {},
   "outputs": [
    {
     "name": "stdout",
     "output_type": "stream",
     "text": [
      "함수 테스트입니다.\n"
     ]
    }
   ],
   "source": [
    "function() # 함수의 실행"
   ]
  },
  {
   "cell_type": "code",
   "execution_count": 13,
   "id": "3b47d174",
   "metadata": {},
   "outputs": [],
   "source": [
    "def test_func(a):   # 매개변수 a를 반드시 필요로 하는 함수로 정의한 함수\n",
    "    print('매개변수가 {}가 있는 함수'.format(a))"
   ]
  },
  {
   "cell_type": "code",
   "execution_count": 14,
   "id": "f552a457",
   "metadata": {
    "collapsed": true
   },
   "outputs": [
    {
     "ename": "TypeError",
     "evalue": "test_func() missing 1 required positional argument: 'a'",
     "output_type": "error",
     "traceback": [
      "\u001b[1;31m---------------------------------------------------------------------------\u001b[0m",
      "\u001b[1;31mTypeError\u001b[0m                                 Traceback (most recent call last)",
      "Input \u001b[1;32mIn [14]\u001b[0m, in \u001b[0;36m<cell line: 1>\u001b[1;34m()\u001b[0m\n\u001b[1;32m----> 1\u001b[0m \u001b[43mtest_func\u001b[49m\u001b[43m(\u001b[49m\u001b[43m)\u001b[49m\n",
      "\u001b[1;31mTypeError\u001b[0m: test_func() missing 1 required positional argument: 'a'"
     ]
    }
   ],
   "source": [
    "test_func() # error - 매개변수 값을 전달해야"
   ]
  },
  {
   "cell_type": "code",
   "execution_count": 15,
   "id": "c33564b5",
   "metadata": {},
   "outputs": [
    {
     "name": "stdout",
     "output_type": "stream",
     "text": [
      "매개변수가 a가 있는 함수\n"
     ]
    }
   ],
   "source": [
    "test_func('a')"
   ]
  },
  {
   "cell_type": "code",
   "execution_count": 17,
   "id": "036b9083",
   "metadata": {},
   "outputs": [],
   "source": [
    "def greeting(a): # 매개변수 a를 반드시 필요로 하는 함수로 정의한 함수  \n",
    "    print(\"안녕하세요.{}님!!\".format(a))"
   ]
  },
  {
   "cell_type": "code",
   "execution_count": null,
   "id": "00410e02",
   "metadata": {},
   "outputs": [],
   "source": [
    "greeting() # 매개 변수값을 반드시 전달해야."
   ]
  },
  {
   "cell_type": "code",
   "execution_count": 19,
   "id": "073bf9f5",
   "metadata": {},
   "outputs": [
    {
     "name": "stdout",
     "output_type": "stream",
     "text": [
      "안녕하세요.장원영님!!\n"
     ]
    }
   ],
   "source": [
    "# 함수 호출 (실행)\n",
    "greeting('장원영')"
   ]
  },
  {
   "cell_type": "markdown",
   "id": "310e501d",
   "metadata": {},
   "source": [
    "## 함수의 종류\n",
    "---\n",
    "1. 내장함수 : 파이썬 자체적으로 내장된 함수. print(), len(), max(), sum().. 등등\n",
    "2. 외부함수 : 외부에서 정의된 함수를 저장한 파일(패키지, 라이브러리)을 불러와서 사용.\n",
    "-             (ex : import numpy, import  pandas, import scipy.. 등등)\n",
    "3. 사용자 정의함수 : ex : def 함수이름(): <br>\n",
    "---"
   ]
  },
  {
   "cell_type": "code",
   "execution_count": 68,
   "id": "3614ffae",
   "metadata": {
    "collapsed": true
   },
   "outputs": [
    {
     "data": {
      "text/plain": [
       "['ArithmeticError',\n",
       " 'AssertionError',\n",
       " 'AttributeError',\n",
       " 'BaseException',\n",
       " 'BlockingIOError',\n",
       " 'BrokenPipeError',\n",
       " 'BufferError',\n",
       " 'BytesWarning',\n",
       " 'ChildProcessError',\n",
       " 'ConnectionAbortedError',\n",
       " 'ConnectionError',\n",
       " 'ConnectionRefusedError',\n",
       " 'ConnectionResetError',\n",
       " 'DeprecationWarning',\n",
       " 'EOFError',\n",
       " 'Ellipsis',\n",
       " 'EnvironmentError',\n",
       " 'Exception',\n",
       " 'False',\n",
       " 'FileExistsError',\n",
       " 'FileNotFoundError',\n",
       " 'FloatingPointError',\n",
       " 'FutureWarning',\n",
       " 'GeneratorExit',\n",
       " 'IOError',\n",
       " 'ImportError',\n",
       " 'ImportWarning',\n",
       " 'IndentationError',\n",
       " 'IndexError',\n",
       " 'InterruptedError',\n",
       " 'IsADirectoryError',\n",
       " 'KeyError',\n",
       " 'KeyboardInterrupt',\n",
       " 'LookupError',\n",
       " 'MemoryError',\n",
       " 'ModuleNotFoundError',\n",
       " 'NameError',\n",
       " 'None',\n",
       " 'NotADirectoryError',\n",
       " 'NotImplemented',\n",
       " 'NotImplementedError',\n",
       " 'OSError',\n",
       " 'OverflowError',\n",
       " 'PendingDeprecationWarning',\n",
       " 'PermissionError',\n",
       " 'ProcessLookupError',\n",
       " 'RecursionError',\n",
       " 'ReferenceError',\n",
       " 'ResourceWarning',\n",
       " 'RuntimeError',\n",
       " 'RuntimeWarning',\n",
       " 'StopAsyncIteration',\n",
       " 'StopIteration',\n",
       " 'SyntaxError',\n",
       " 'SyntaxWarning',\n",
       " 'SystemError',\n",
       " 'SystemExit',\n",
       " 'TabError',\n",
       " 'TimeoutError',\n",
       " 'True',\n",
       " 'TypeError',\n",
       " 'UnboundLocalError',\n",
       " 'UnicodeDecodeError',\n",
       " 'UnicodeEncodeError',\n",
       " 'UnicodeError',\n",
       " 'UnicodeTranslateError',\n",
       " 'UnicodeWarning',\n",
       " 'UserWarning',\n",
       " 'ValueError',\n",
       " 'Warning',\n",
       " 'WindowsError',\n",
       " 'ZeroDivisionError',\n",
       " '__IPYTHON__',\n",
       " '__build_class__',\n",
       " '__debug__',\n",
       " '__doc__',\n",
       " '__import__',\n",
       " '__loader__',\n",
       " '__name__',\n",
       " '__package__',\n",
       " '__spec__',\n",
       " 'abs',\n",
       " 'all',\n",
       " 'any',\n",
       " 'ascii',\n",
       " 'bin',\n",
       " 'bool',\n",
       " 'breakpoint',\n",
       " 'bytearray',\n",
       " 'bytes',\n",
       " 'callable',\n",
       " 'chr',\n",
       " 'classmethod',\n",
       " 'compile',\n",
       " 'complex',\n",
       " 'copyright',\n",
       " 'credits',\n",
       " 'delattr',\n",
       " 'dict',\n",
       " 'dir',\n",
       " 'display',\n",
       " 'divmod',\n",
       " 'enumerate',\n",
       " 'eval',\n",
       " 'exec',\n",
       " 'execfile',\n",
       " 'filter',\n",
       " 'float',\n",
       " 'format',\n",
       " 'frozenset',\n",
       " 'get_ipython',\n",
       " 'getattr',\n",
       " 'globals',\n",
       " 'hasattr',\n",
       " 'hash',\n",
       " 'help',\n",
       " 'hex',\n",
       " 'id',\n",
       " 'input',\n",
       " 'int',\n",
       " 'isinstance',\n",
       " 'issubclass',\n",
       " 'iter',\n",
       " 'len',\n",
       " 'license',\n",
       " 'list',\n",
       " 'locals',\n",
       " 'map',\n",
       " 'max',\n",
       " 'memoryview',\n",
       " 'min',\n",
       " 'next',\n",
       " 'object',\n",
       " 'oct',\n",
       " 'open',\n",
       " 'ord',\n",
       " 'pow',\n",
       " 'print',\n",
       " 'property',\n",
       " 'range',\n",
       " 'repr',\n",
       " 'reversed',\n",
       " 'round',\n",
       " 'runfile',\n",
       " 'set',\n",
       " 'setattr',\n",
       " 'slice',\n",
       " 'sorted',\n",
       " 'staticmethod',\n",
       " 'str',\n",
       " 'sum',\n",
       " 'super',\n",
       " 'tuple',\n",
       " 'type',\n",
       " 'vars',\n",
       " 'zip']"
      ]
     },
     "execution_count": 68,
     "metadata": {},
     "output_type": "execute_result"
    }
   ],
   "source": [
    "## 내장함수 종류확인\n",
    "dir(__builtins__)"
   ]
  },
  {
   "cell_type": "code",
   "execution_count": 28,
   "id": "0fc74bd0",
   "metadata": {},
   "outputs": [],
   "source": [
    "# 3개의 정수를 입력받고 최대값을 리턴하는 함수.\n",
    "\n",
    "def max_num_re(a,b,c):\n",
    "    result = max([a,b,c])\n",
    "    return result  # return : 함수가 어떤 값을 전달하고자 할때 리턴을 써야한다."
   ]
  },
  {
   "cell_type": "code",
   "execution_count": 29,
   "id": "7f168f57",
   "metadata": {
    "collapsed": true
   },
   "outputs": [
    {
     "data": {
      "text/plain": [
       "5"
      ]
     },
     "execution_count": 29,
     "metadata": {},
     "output_type": "execute_result"
    }
   ],
   "source": [
    "max_num_re(2,4,5)"
   ]
  },
  {
   "cell_type": "code",
   "execution_count": 30,
   "id": "14a73d65",
   "metadata": {},
   "outputs": [],
   "source": [
    "def max_num_no(a,b,c):\n",
    "    result = max([a,b,c])    # return이 없는 함수 : 함수는 연산은 하지만 값을 전달하지는 않는다."
   ]
  },
  {
   "cell_type": "code",
   "execution_count": 31,
   "id": "feb3e419",
   "metadata": {},
   "outputs": [],
   "source": [
    "max_num_no(2,4,5)"
   ]
  },
  {
   "cell_type": "code",
   "execution_count": 32,
   "id": "d40be467",
   "metadata": {
    "collapsed": true
   },
   "outputs": [
    {
     "data": {
      "text/plain": [
       "5"
      ]
     },
     "execution_count": 32,
     "metadata": {},
     "output_type": "execute_result"
    }
   ],
   "source": [
    "b = max_num_re(2,4,5)\n",
    "b"
   ]
  },
  {
   "cell_type": "code",
   "execution_count": 34,
   "id": "6db7f9ce",
   "metadata": {},
   "outputs": [],
   "source": [
    "c = max_num_no(2,4,5) # 값을 전달받지 못함\n",
    "c"
   ]
  },
  {
   "cell_type": "code",
   "execution_count": 40,
   "id": "c2a48bda",
   "metadata": {},
   "outputs": [],
   "source": [
    "def hello():\n",
    "    print('hello world')\n",
    "    print('hello python!')"
   ]
  },
  {
   "cell_type": "code",
   "execution_count": 41,
   "id": "bc1cadcd",
   "metadata": {},
   "outputs": [
    {
     "name": "stdout",
     "output_type": "stream",
     "text": [
      "hello world\n",
      "hello python!\n"
     ]
    }
   ],
   "source": [
    "hello()"
   ]
  },
  {
   "cell_type": "code",
   "execution_count": 70,
   "id": "4d78ee5f",
   "metadata": {},
   "outputs": [],
   "source": [
    "def score_avg(kor, eng, math):\n",
    "    suma = sum((kor, eng, math))\n",
    "    result = suma/len((kor, eng, math))\n",
    "    return result"
   ]
  },
  {
   "cell_type": "code",
   "execution_count": 71,
   "id": "def825a3",
   "metadata": {},
   "outputs": [
    {
     "data": {
      "text/plain": [
       "81.66666666666667"
      ]
     },
     "execution_count": 71,
     "metadata": {},
     "output_type": "execute_result"
    }
   ],
   "source": [
    "score_avg(95, 85, 65)"
   ]
  },
  {
   "cell_type": "code",
   "execution_count": 72,
   "id": "a4858dca",
   "metadata": {},
   "outputs": [
    {
     "ename": "SyntaxError",
     "evalue": "invalid syntax (3392072340.py, line 3)",
     "output_type": "error",
     "traceback": [
      "\u001b[1;36m  Input \u001b[1;32mIn [72]\u001b[1;36m\u001b[0m\n\u001b[1;33m    def sumary_score((a, b, c)):\u001b[0m\n\u001b[1;37m                     ^\u001b[0m\n\u001b[1;31mSyntaxError\u001b[0m\u001b[1;31m:\u001b[0m invalid syntax\n"
     ]
    }
   ],
   "source": [
    "# 세 과목 점수를 받은 후, 총점, 평균, 최고값, 최소값.\n",
    "\n",
    "def sumary_score((a, b, c)):\n",
    "    \n",
    "    total = sum((a, ,b, c))\n",
    "    avg = total/len((a, b, c))\n",
    "    max_v = max((a, b , c))\n",
    "    min_v = max((a, b , c))\n",
    "\n",
    "    return total, avg, max_v, min_v\n",
    "\n",
    "    "
   ]
  },
  {
   "cell_type": "code",
   "execution_count": 73,
   "id": "53ee0c9d",
   "metadata": {
    "collapsed": true
   },
   "outputs": [
    {
     "ename": "NameError",
     "evalue": "name 'summary_score' is not defined",
     "output_type": "error",
     "traceback": [
      "\u001b[1;31m---------------------------------------------------------------------------\u001b[0m",
      "\u001b[1;31mNameError\u001b[0m                                 Traceback (most recent call last)",
      "Input \u001b[1;32mIn [73]\u001b[0m, in \u001b[0;36m<cell line: 1>\u001b[1;34m()\u001b[0m\n\u001b[1;32m----> 1\u001b[0m \u001b[43msummary_score\u001b[49m(\u001b[38;5;241m87\u001b[39m, \u001b[38;5;241m85\u001b[39m, \u001b[38;5;241m87\u001b[39m)\n",
      "\u001b[1;31mNameError\u001b[0m: name 'summary_score' is not defined"
     ]
    }
   ],
   "source": [
    "summary_score(87, 85, 87)"
   ]
  },
  {
   "cell_type": "code",
   "execution_count": 47,
   "id": "7455f114",
   "metadata": {
    "collapsed": true
   },
   "outputs": [
    {
     "ename": "NameError",
     "evalue": "name 't' is not defined",
     "output_type": "error",
     "traceback": [
      "\u001b[1;31m---------------------------------------------------------------------------\u001b[0m",
      "\u001b[1;31mNameError\u001b[0m                                 Traceback (most recent call last)",
      "Input \u001b[1;32mIn [47]\u001b[0m, in \u001b[0;36m<cell line: 1>\u001b[1;34m()\u001b[0m\n\u001b[1;32m----> 1\u001b[0m \u001b[38;5;28mprint\u001b[39m(\u001b[43mt\u001b[49m, a, mx, mn)\n",
      "\u001b[1;31mNameError\u001b[0m: name 't' is not defined"
     ]
    }
   ],
   "source": [
    "print(t, a, mx, mn)"
   ]
  },
  {
   "cell_type": "code",
   "execution_count": null,
   "id": "3ec0e70a",
   "metadata": {},
   "outputs": [],
   "source": [
    "# 임의의 정수 n을 입력받은후 1부터 n까지 합을 리턴하는 함수를 정의하고 실행하시오."
   ]
  },
  {
   "cell_type": "code",
   "execution_count": 95,
   "id": "cc587076",
   "metadata": {},
   "outputs": [
    {
     "data": {
      "text/plain": [
       "120"
      ]
     },
     "execution_count": 95,
     "metadata": {},
     "output_type": "execute_result"
    }
   ],
   "source": [
    "def to_suma(m):\n",
    "    t_sum = 0\n",
    "    for i in range(m+1):\n",
    "        t_sum += i\n",
    "    return t_sum\n",
    "to_suma(15)"
   ]
  },
  {
   "cell_type": "code",
   "execution_count": 93,
   "id": "e5b3b064",
   "metadata": {},
   "outputs": [],
   "source": [
    "# 절대값을 리턴하는 abs() 내장함수를 구현하여 사용자 함수로 생성하시오.\n",
    "\n",
    "def abs_fun(y):\n",
    "    if y < 0:\n",
    "        return y*(-1)\n",
    "    else:\n",
    "        return y"
   ]
  },
  {
   "cell_type": "code",
   "execution_count": 94,
   "id": "e6a724fd",
   "metadata": {},
   "outputs": [
    {
     "data": {
      "text/plain": [
       "20000"
      ]
     },
     "execution_count": 94,
     "metadata": {},
     "output_type": "execute_result"
    }
   ],
   "source": [
    "abs_fun(20000)"
   ]
  },
  {
   "cell_type": "code",
   "execution_count": 99,
   "id": "1f51e36c",
   "metadata": {},
   "outputs": [],
   "source": [
    "# 반지름을 입력받은 후 원의 면적과 원둘레의 길이를 리턴하는 함수를 정의.\n",
    "\n",
    "# 원면적 = (r**2)*3.14\n",
    "# 원의둘레 = r*2*3.14\n",
    "\n",
    "def circle(r):\n",
    "    circle_area = (r**2)*3.14\n",
    "    circle_perimeter = r*2*3.14\n",
    "    return circle_area, circle_perimeter"
   ]
  },
  {
   "cell_type": "code",
   "execution_count": 100,
   "id": "edfcc7df",
   "metadata": {},
   "outputs": [],
   "source": [
    "area, peri =  circle(3)"
   ]
  },
  {
   "cell_type": "code",
   "execution_count": 101,
   "id": "e7f49245",
   "metadata": {},
   "outputs": [
    {
     "data": {
      "text/plain": [
       "28.26"
      ]
     },
     "execution_count": 101,
     "metadata": {},
     "output_type": "execute_result"
    }
   ],
   "source": [
    "area"
   ]
  },
  {
   "cell_type": "code",
   "execution_count": 119,
   "id": "5ec4a09a",
   "metadata": {
    "collapsed": true
   },
   "outputs": [
    {
     "ename": "IndentationError",
     "evalue": "unindent does not match any outer indentation level (<tokenize>, line 10)",
     "output_type": "error",
     "traceback": [
      "\u001b[1;36m  File \u001b[1;32m<tokenize>:10\u001b[1;36m\u001b[0m\n\u001b[1;33m    if id_num[-1] == '1':\u001b[0m\n\u001b[1;37m    ^\u001b[0m\n\u001b[1;31mIndentationError\u001b[0m\u001b[1;31m:\u001b[0m unindent does not match any outer indentation level\n"
     ]
    }
   ],
   "source": [
    "#주민번호 입력받고 나이와 성별을 출력하는 함수.\n",
    "\n",
    "def personal_info(id_num):\n",
    "    \n",
    "       \n",
    "        id_num = srt(id_num)\n",
    "      \n",
    "        text = \"당신은 {}이고, 나이는 {}입니다 \"\n",
    "  \n",
    "    if id_num[-1] == '1':\n",
    "        age = 2022 - int('19'+id_num[:2])\n",
    "        gender = 'male'\n",
    "    elif id_num[-1] == '2':\n",
    "        age = 2022 - int('19'+id_num[:2])\n",
    "        gender = 'fmale'\n",
    "    elif id_num[-1] == '3':\n",
    "        age = 2022 - int('20'+id_num[:2])\n",
    "        gender = 'male'\n",
    "\n",
    "    else:\n",
    "        age = 2022 - int('20'+id_num[:2])\n",
    "        gender = 'fmale'\n",
    "\n",
    "        return gender, age"
   ]
  },
  {
   "cell_type": "code",
   "execution_count": 120,
   "id": "34380968",
   "metadata": {
    "collapsed": true
   },
   "outputs": [
    {
     "ename": "NameError",
     "evalue": "name 'personal_info' is not defined",
     "output_type": "error",
     "traceback": [
      "\u001b[1;31m---------------------------------------------------------------------------\u001b[0m",
      "\u001b[1;31mNameError\u001b[0m                                 Traceback (most recent call last)",
      "Input \u001b[1;32mIn [120]\u001b[0m, in \u001b[0;36m<cell line: 1>\u001b[1;34m()\u001b[0m\n\u001b[1;32m----> 1\u001b[0m \u001b[43mpersonal_info\u001b[49m(\u001b[38;5;124m'\u001b[39m\u001b[38;5;124m990505-2\u001b[39m\u001b[38;5;124m'\u001b[39m)\n",
      "\u001b[1;31mNameError\u001b[0m: name 'personal_info' is not defined"
     ]
    }
   ],
   "source": [
    "personal_info('990505-2')"
   ]
  },
  {
   "cell_type": "code",
   "execution_count": 96,
   "id": "76a38ab2",
   "metadata": {},
   "outputs": [],
   "source": [
    "# 나이와 성별을 입력받은 후, \n",
    "# 나이가 20세 이상이고 남성이면 , 남성이시군요 출력\n",
    "# 나이가 20세 미만이고 남성이면 , 소년이시군요 출력\n",
    "# 나이가 20세 미만이고 여성이면 , 여성이시군요 출력\n",
    "# 나이가 20세 미만이고 여성이면 , 소녀이시군요 출력"
   ]
  },
  {
   "cell_type": "code",
   "execution_count": 125,
   "id": "e88189b5",
   "metadata": {},
   "outputs": [],
   "source": [
    "def welcome(age ,gender):\n",
    "    if age >= 20:\n",
    "        if gender == '남성':\n",
    "            return '남성이시군요'\n",
    "        else:\n",
    "            return '여성이시군요'\n",
    "    else:\n",
    "        if gender =='남성':\n",
    "            return '소년이시군요'\n",
    "        else:\n",
    "            return '소녀시군요'"
   ]
  },
  {
   "cell_type": "code",
   "execution_count": 126,
   "id": "b32c415d",
   "metadata": {},
   "outputs": [
    {
     "data": {
      "text/plain": [
       "'소녀시군요'"
      ]
     },
     "execution_count": 126,
     "metadata": {},
     "output_type": "execute_result"
    }
   ],
   "source": [
    "welcome(16,'여성')"
   ]
  },
  {
   "cell_type": "code",
   "execution_count": null,
   "id": "1e7ba2b5",
   "metadata": {},
   "outputs": [],
   "source": []
  },
  {
   "cell_type": "code",
   "execution_count": null,
   "id": "8d17aac7",
   "metadata": {},
   "outputs": [],
   "source": []
  },
  {
   "cell_type": "code",
   "execution_count": null,
   "id": "400dc169",
   "metadata": {},
   "outputs": [],
   "source": []
  }
 ],
 "metadata": {
  "kernelspec": {
   "display_name": "Python 3 (ipykernel)",
   "language": "python",
   "name": "python3"
  },
  "language_info": {
   "codemirror_mode": {
    "name": "ipython",
    "version": 3
   },
   "file_extension": ".py",
   "mimetype": "text/x-python",
   "name": "python",
   "nbconvert_exporter": "python",
   "pygments_lexer": "ipython3",
   "version": "3.9.12"
  },
  "toc": {
   "base_numbering": 1,
   "nav_menu": {},
   "number_sections": true,
   "sideBar": true,
   "skip_h1_title": false,
   "title_cell": "Table of Contents",
   "title_sidebar": "Contents",
   "toc_cell": false,
   "toc_position": {},
   "toc_section_display": true,
   "toc_window_display": false
  },
  "varInspector": {
   "cols": {
    "lenName": 16,
    "lenType": 16,
    "lenVar": 40
   },
   "kernels_config": {
    "python": {
     "delete_cmd_postfix": "",
     "delete_cmd_prefix": "del ",
     "library": "var_list.py",
     "varRefreshCmd": "print(var_dic_list())"
    },
    "r": {
     "delete_cmd_postfix": ") ",
     "delete_cmd_prefix": "rm(",
     "library": "var_list.r",
     "varRefreshCmd": "cat(var_dic_list()) "
    }
   },
   "types_to_exclude": [
    "module",
    "function",
    "builtin_function_or_method",
    "instance",
    "_Feature"
   ],
   "window_display": false
  }
 },
 "nbformat": 4,
 "nbformat_minor": 5
}
